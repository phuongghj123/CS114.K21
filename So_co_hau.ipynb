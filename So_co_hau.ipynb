{
  "nbformat": 4,
  "nbformat_minor": 0,
  "metadata": {
    "colab": {
      "name": "So_co_hau.ipynb",
      "provenance": [],
      "collapsed_sections": [],
      "authorship_tag": "ABX9TyNF9LBJt4yFEBRazMWZeyYO",
      "include_colab_link": true
    },
    "kernelspec": {
      "name": "python3",
      "display_name": "Python 3"
    }
  },
  "cells": [
    {
      "cell_type": "markdown",
      "metadata": {
        "id": "view-in-github",
        "colab_type": "text"
      },
      "source": [
        "<a href=\"https://colab.research.google.com/github/phuongghj123/CS114.K21/blob/master/So_co_hau.ipynb\" target=\"_parent\"><img src=\"https://colab.research.google.com/assets/colab-badge.svg\" alt=\"Open In Colab\"/></a>"
      ]
    },
    {
      "cell_type": "code",
      "metadata": {
        "id": "BUz27cWMpvDT",
        "colab_type": "code",
        "colab": {
          "base_uri": "https://localhost:8080/",
          "height": 51
        },
        "outputId": "d8025a73-dd00-468a-ab63-6877a9d424a3"
      },
      "source": [
        "n, m = input().split()\n",
        "n = int(n)\n",
        "m = int(m)\n",
        "\n",
        "def count_digit(n):\n",
        "  temp = n\n",
        "  count = 0\n",
        "  while (temp > 0):\n",
        "    temp //= 10\n",
        "    count += 1\n",
        "  return count\n",
        "\n",
        "def so_co_hau(n,m):\n",
        "  if (m<n):\n",
        "    return 0\n",
        "  s = 10**count_digit(n)\n",
        "  g = m % s\n",
        "  c = m - g\n",
        "  \n",
        "  if (g < n):\n",
        "    print(c // s)\n",
        "  else:\n",
        "    print(c // s + 1)\n",
        "\n",
        "so_co_hau(n,m)"
      ],
      "execution_count": 13,
      "outputs": [
        {
          "output_type": "stream",
          "text": [
            "5 105\n",
            "11\n"
          ],
          "name": "stdout"
        }
      ]
    }
  ]
}