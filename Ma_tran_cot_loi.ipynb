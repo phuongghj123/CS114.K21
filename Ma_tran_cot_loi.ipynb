{
  "nbformat": 4,
  "nbformat_minor": 0,
  "metadata": {
    "colab": {
      "name": "Ma_tran_cot_loi.ipynb",
      "provenance": [],
      "collapsed_sections": [],
      "authorship_tag": "ABX9TyNEqU5zYkT93HpgoHDW48iU",
      "include_colab_link": true
    },
    "kernelspec": {
      "name": "python3",
      "display_name": "Python 3"
    }
  },
  "cells": [
    {
      "cell_type": "markdown",
      "metadata": {
        "id": "view-in-github",
        "colab_type": "text"
      },
      "source": [
        "<a href=\"https://colab.research.google.com/github/phuongghj123/CS114.K21/blob/master/Ma_tran_cot_loi.ipynb\" target=\"_parent\"><img src=\"https://colab.research.google.com/assets/colab-badge.svg\" alt=\"Open In Colab\"/></a>"
      ]
    },
    {
      "cell_type": "code",
      "metadata": {
        "id": "zgwz1m4PeX9V",
        "colab_type": "code",
        "outputId": "ab2f69f1-cfa1-4533-8dc1-167bbb9e397b",
        "colab": {
          "base_uri": "https://localhost:8080/",
          "height": 119
        }
      },
      "source": [
        "a=[]\n",
        "x = 0\n",
        "y = 0\n",
        "for i in range(0,5):\n",
        "  a.append([])\n",
        "  a[i] = [int(j) for j in input().split()]\n",
        " \n",
        "for i in range(0,5):\n",
        "  for j in range(0,5):\n",
        "    if (a[i][j]==1):\n",
        "      x = i\n",
        "      y = j\n",
        "\n",
        "d = 0\n",
        "while (x!=2 or y!=2):\n",
        "  if (x>2):\n",
        "    x-=1\n",
        "    d+=1\n",
        "  elif (x<2):\n",
        "    x+=1\n",
        "    d+=1\n",
        "  if (y>2):\n",
        "    y-=1\n",
        "    d+=1\n",
        "  elif (y<2):\n",
        "    y+=1\n",
        "    d+=1\n",
        "\n",
        "print(d)"
      ],
      "execution_count": 3,
      "outputs": [
        {
          "output_type": "stream",
          "text": [
            "0 0 0 0 0\n",
            "0 0 0 0 1\n",
            "0 0 0 0 0\n",
            "0 0 0 0 0\n",
            "0 0 0 0 0\n",
            "3\n"
          ],
          "name": "stdout"
        }
      ]
    }
  ]
}