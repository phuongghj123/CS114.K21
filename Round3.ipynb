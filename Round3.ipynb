{
  "nbformat": 4,
  "nbformat_minor": 0,
  "metadata": {
    "colab": {
      "name": "Round3.ipynb",
      "provenance": [],
      "collapsed_sections": [],
      "authorship_tag": "ABX9TyNoV2KM0L6s8DjNp+kpQSGL",
      "include_colab_link": true
    },
    "kernelspec": {
      "name": "python3",
      "display_name": "Python 3"
    }
  },
  "cells": [
    {
      "cell_type": "markdown",
      "metadata": {
        "id": "view-in-github",
        "colab_type": "text"
      },
      "source": [
        "<a href=\"https://colab.research.google.com/github/phuongghj123/CS114.K21/blob/master/Round3.ipynb\" target=\"_parent\"><img src=\"https://colab.research.google.com/assets/colab-badge.svg\" alt=\"Open In Colab\"/></a>"
      ]
    },
    {
      "cell_type": "markdown",
      "metadata": {
        "id": "obfQeYRfuCbA",
        "colab_type": "text"
      },
      "source": [
        "Lấy dữ liệu xuống sử dụng thư viện Pandas\n",
        "Sử dụng hàm read_csv"
      ]
    },
    {
      "cell_type": "code",
      "metadata": {
        "id": "dr-lwQkQVXdA",
        "colab_type": "code",
        "colab": {}
      },
      "source": [
        "import pandas as pd\n",
        "\n",
        "dataset = pd.read_csv(\"http://cs.uit.edu.vn/data2.txt\", delimiter = \",\")\n",
        "dataset.columns = [\"Input size\", \"Time\"]"
      ],
      "execution_count": 0,
      "outputs": []
    },
    {
      "cell_type": "code",
      "metadata": {
        "id": "hIjoTap5V7wR",
        "colab_type": "code",
        "outputId": "a695a11f-0681-41f5-b569-1c389f8e8996",
        "colab": {
          "base_uri": "https://localhost:8080/",
          "height": 204
        }
      },
      "source": [
        "dataset.head()"
      ],
      "execution_count": 3,
      "outputs": [
        {
          "output_type": "execute_result",
          "data": {
            "text/html": [
              "<div>\n",
              "<style scoped>\n",
              "    .dataframe tbody tr th:only-of-type {\n",
              "        vertical-align: middle;\n",
              "    }\n",
              "\n",
              "    .dataframe tbody tr th {\n",
              "        vertical-align: top;\n",
              "    }\n",
              "\n",
              "    .dataframe thead th {\n",
              "        text-align: right;\n",
              "    }\n",
              "</style>\n",
              "<table border=\"1\" class=\"dataframe\">\n",
              "  <thead>\n",
              "    <tr style=\"text-align: right;\">\n",
              "      <th></th>\n",
              "      <th>Input size</th>\n",
              "      <th>Time</th>\n",
              "    </tr>\n",
              "  </thead>\n",
              "  <tbody>\n",
              "    <tr>\n",
              "      <th>0</th>\n",
              "      <td>1954367</td>\n",
              "      <td>0.152648</td>\n",
              "    </tr>\n",
              "    <tr>\n",
              "      <th>1</th>\n",
              "      <td>3734185</td>\n",
              "      <td>0.298548</td>\n",
              "    </tr>\n",
              "    <tr>\n",
              "      <th>2</th>\n",
              "      <td>5839301</td>\n",
              "      <td>0.460480</td>\n",
              "    </tr>\n",
              "    <tr>\n",
              "      <th>3</th>\n",
              "      <td>6343427</td>\n",
              "      <td>0.527977</td>\n",
              "    </tr>\n",
              "    <tr>\n",
              "      <th>4</th>\n",
              "      <td>1355574</td>\n",
              "      <td>0.098012</td>\n",
              "    </tr>\n",
              "  </tbody>\n",
              "</table>\n",
              "</div>"
            ],
            "text/plain": [
              "   Input size      Time\n",
              "0     1954367  0.152648\n",
              "1     3734185  0.298548\n",
              "2     5839301  0.460480\n",
              "3     6343427  0.527977\n",
              "4     1355574  0.098012"
            ]
          },
          "metadata": {
            "tags": []
          },
          "execution_count": 3
        }
      ]
    },
    {
      "cell_type": "code",
      "metadata": {
        "id": "ZILIDzYOWAOc",
        "colab_type": "code",
        "outputId": "fb6a8a5c-90df-4511-b0fd-fd90048da450",
        "colab": {
          "base_uri": "https://localhost:8080/",
          "height": 279
        }
      },
      "source": [
        "import matplotlib.pyplot as plt\n",
        "%matplotlib inline\n",
        "\n",
        "dataset.plot(kind = 'line', x = 'Input size', y = 'Time', style = 'o')\n",
        "plt.xlabel('Input size')\n",
        "plt.ylabel('Time')\n",
        "plt.show()"
      ],
      "execution_count": 4,
      "outputs": [
        {
          "output_type": "display_data",
          "data": {
            "image/png": "[encoded data removed]",
            "text/plain": [
              "<Figure size 432x288 with 1 Axes>"
            ]
          },
          "metadata": {
            "tags": [],
            "needs_background": "light"
          }
        }
      ]
    },
    {
      "cell_type": "markdown",
      "metadata": {
        "id": "KzaYRrSgxNHS",
        "colab_type": "text"
      },
      "source": [
        "Đưa dữ liệu về ma trận cột"
      ]
    },
    {
      "cell_type": "code",
      "metadata": {
        "id": "ih6PiVv-ZBSK",
        "colab_type": "code",
        "colab": {}
      },
      "source": [
        "X = dataset['Input size'].values.reshape(-1,1)\n",
        "Y = dataset['Time'].values.reshape(-1,1)"
      ],
      "execution_count": 0,
      "outputs": []
    },
    {
      "cell_type": "markdown",
      "metadata": {
        "id": "TX7tPgK6vVma",
        "colab_type": "text"
      },
      "source": [
        "Chọn model bằng cách import model từ thư viện sklearn\n",
        "Lấy 80% dữ liệu trong bộ dữ liệu để training data"
      ]
    },
    {
      "cell_type": "code",
      "metadata": {
        "id": "EgKlfJuHZq6_",
        "colab_type": "code",
        "colab": {}
      },
      "source": [
        "from sklearn.linear_model import LinearRegression\n",
        "from sklearn.model_selection import train_test_split\n",
        "model = LinearRegression(fit_intercept=True)\n",
        "X_train, X_test, y_train, y_test = train_test_split(X, Y, test_size = 0.2)"
      ],
      "execution_count": 0,
      "outputs": []
    },
    {
      "cell_type": "code",
      "metadata": {
        "id": "BhPCtpR3aSzw",
        "colab_type": "code",
        "outputId": "5799bfcd-dd12-4d37-9d22-b4b32cae5f5a",
        "colab": {
          "base_uri": "https://localhost:8080/",
          "height": 34
        }
      },
      "source": [
        "model.fit(X_train, y_train)"
      ],
      "execution_count": 7,
      "outputs": [
        {
          "output_type": "execute_result",
          "data": {
            "text/plain": [
              "LinearRegression(copy_X=True, fit_intercept=True, n_jobs=None, normalize=False)"
            ]
          },
          "metadata": {
            "tags": []
          },
          "execution_count": 7
        }
      ]
    },
    {
      "cell_type": "markdown",
      "metadata": {
        "id": "X3_vD8j9vnT0",
        "colab_type": "text"
      },
      "source": [
        "Sử dụng hàm predict để dự đoán cho X_train và X_test"
      ]
    },
    {
      "cell_type": "code",
      "metadata": {
        "id": "IHjZ3jvcaatC",
        "colab_type": "code",
        "colab": {}
      },
      "source": [
        "train_prediction = model.predict(X_train)\n",
        "test_prediction = model.predict(X_test)"
      ],
      "execution_count": 0,
      "outputs": []
    },
    {
      "cell_type": "markdown",
      "metadata": {
        "id": "yjqqR3AavuJ4",
        "colab_type": "text"
      },
      "source": [
        "Đưa ra kết quả so sánh giữa giá trị y cho trước và giá trị y dự đoán"
      ]
    },
    {
      "cell_type": "code",
      "metadata": {
        "id": "HR5kRzjGeuEe",
        "colab_type": "code",
        "outputId": "41ca8367-f03e-49f2-bd14-a51c1501b1a2",
        "colab": {
          "base_uri": "https://localhost:8080/",
          "height": 419
        }
      },
      "source": [
        "df = pd.DataFrame({'Actual': y_test.flatten(), 'Predicted': test_prediction.flatten()})\n",
        "df"
      ],
      "execution_count": 9,
      "outputs": [
        {
          "output_type": "execute_result",
          "data": {
            "text/html": [
              "<div>\n",
              "<style scoped>\n",
              "    .dataframe tbody tr th:only-of-type {\n",
              "        vertical-align: middle;\n",
              "    }\n",
              "\n",
              "    .dataframe tbody tr th {\n",
              "        vertical-align: top;\n",
              "    }\n",
              "\n",
              "    .dataframe thead th {\n",
              "        text-align: right;\n",
              "    }\n",
              "</style>\n",
              "<table border=\"1\" class=\"dataframe\">\n",
              "  <thead>\n",
              "    <tr style=\"text-align: right;\">\n",
              "      <th></th>\n",
              "      <th>Actual</th>\n",
              "      <th>Predicted</th>\n",
              "    </tr>\n",
              "  </thead>\n",
              "  <tbody>\n",
              "    <tr>\n",
              "      <th>0</th>\n",
              "      <td>0.082504</td>\n",
              "      <td>0.078188</td>\n",
              "    </tr>\n",
              "    <tr>\n",
              "      <th>1</th>\n",
              "      <td>0.713418</td>\n",
              "      <td>0.713665</td>\n",
              "    </tr>\n",
              "    <tr>\n",
              "      <th>2</th>\n",
              "      <td>0.144805</td>\n",
              "      <td>0.149980</td>\n",
              "    </tr>\n",
              "    <tr>\n",
              "      <th>3</th>\n",
              "      <td>0.334075</td>\n",
              "      <td>0.336919</td>\n",
              "    </tr>\n",
              "    <tr>\n",
              "      <th>4</th>\n",
              "      <td>0.382199</td>\n",
              "      <td>0.386640</td>\n",
              "    </tr>\n",
              "    <tr>\n",
              "      <th>...</th>\n",
              "      <td>...</td>\n",
              "      <td>...</td>\n",
              "    </tr>\n",
              "    <tr>\n",
              "      <th>14218</th>\n",
              "      <td>0.615344</td>\n",
              "      <td>0.612838</td>\n",
              "    </tr>\n",
              "    <tr>\n",
              "      <th>14219</th>\n",
              "      <td>0.144406</td>\n",
              "      <td>0.147042</td>\n",
              "    </tr>\n",
              "    <tr>\n",
              "      <th>14220</th>\n",
              "      <td>0.481747</td>\n",
              "      <td>0.485825</td>\n",
              "    </tr>\n",
              "    <tr>\n",
              "      <th>14221</th>\n",
              "      <td>0.588001</td>\n",
              "      <td>0.572437</td>\n",
              "    </tr>\n",
              "    <tr>\n",
              "      <th>14222</th>\n",
              "      <td>0.625342</td>\n",
              "      <td>0.621598</td>\n",
              "    </tr>\n",
              "  </tbody>\n",
              "</table>\n",
              "<p>14223 rows × 2 columns</p>\n",
              "</div>"
            ],
            "text/plain": [
              "         Actual  Predicted\n",
              "0      0.082504   0.078188\n",
              "1      0.713418   0.713665\n",
              "2      0.144805   0.149980\n",
              "3      0.334075   0.336919\n",
              "4      0.382199   0.386640\n",
              "...         ...        ...\n",
              "14218  0.615344   0.612838\n",
              "14219  0.144406   0.147042\n",
              "14220  0.481747   0.485825\n",
              "14221  0.588001   0.572437\n",
              "14222  0.625342   0.621598\n",
              "\n",
              "[14223 rows x 2 columns]"
            ]
          },
          "metadata": {
            "tags": []
          },
          "execution_count": 9
        }
      ]
    },
    {
      "cell_type": "markdown",
      "metadata": {
        "id": "toDGvARswUJT",
        "colab_type": "text"
      },
      "source": [
        "Biểu đồ so sánh giá trị y cho trước và giá trị y dự đoán"
      ]
    },
    {
      "cell_type": "code",
      "metadata": {
        "id": "bkaGtdxYd4yo",
        "colab_type": "code",
        "outputId": "3e86302c-2960-4b13-fd2b-e8d3009d31cb",
        "colab": {
          "base_uri": "https://localhost:8080/",
          "height": 594
        }
      },
      "source": [
        "df1 = df.head(25)\n",
        "df1.plot(kind='bar',figsize=(16,10))\n",
        "plt.grid(which='major', linestyle='-', linewidth='0.5', color='green')\n",
        "plt.grid(which='minor', linestyle=':', linewidth='0.5', color='black')\n",
        "plt.show()"
      ],
      "execution_count": 10,
      "outputs": [
        {
          "output_type": "display_data",
          "data": {
            "image/png": "[encoded data removed]",
            "text/plain": [
              "<Figure size 1152x720 with 1 Axes>"
            ]
          },
          "metadata": {
            "tags": [],
            "needs_background": "light"
          }
        }
      ]
    },
    {
      "cell_type": "markdown",
      "metadata": {
        "id": "PyCbaRlqv2x5",
        "colab_type": "text"
      },
      "source": [
        "Đưa ra độ chính xác của model\n",
        "Model dự đoán tốt vì giá trị Mean Squared Error xấp xỉ 0.00015"
      ]
    },
    {
      "cell_type": "code",
      "metadata": {
        "id": "wQB16lQ_fXUX",
        "colab_type": "code",
        "outputId": "546881cb-0645-4238-bab6-fd0350cd1284",
        "colab": {
          "base_uri": "https://localhost:8080/",
          "height": 68
        }
      },
      "source": [
        "import sklearn.metrics as metrics\n",
        "print('Mean Squared Error:', metrics.mean_squared_error(y_test, test_prediction))\n",
        "print('Train: ', metrics.r2_score(y_train, train_prediction))\n",
        "print('Test: ', metrics.r2_score(y_test, test_prediction))"
      ],
      "execution_count": 11,
      "outputs": [
        {
          "output_type": "stream",
          "text": [
            "Mean Squared Error: 0.00015754095835503407\n",
            "Train:  0.9976524406989918\n",
            "Test:  0.997352628922157\n"
          ],
          "name": "stdout"
        }
      ]
    },
    {
      "cell_type": "markdown",
      "metadata": {
        "id": "U8sgSV4TwBfY",
        "colab_type": "text"
      },
      "source": [
        "In ra các giá trị w1 và w0 tương ứng"
      ]
    },
    {
      "cell_type": "code",
      "metadata": {
        "id": "9b9qRLyFifv6",
        "colab_type": "code",
        "outputId": "b4dc817a-0478-47a7-a6da-fe895e84738e",
        "colab": {
          "base_uri": "https://localhost:8080/",
          "height": 51
        }
      },
      "source": [
        "print(model.coef_)\n",
        "print(model.intercept_)"
      ],
      "execution_count": 12,
      "outputs": [
        {
          "output_type": "stream",
          "text": [
            "[[8.45430554e-08]]\n",
            "[-0.01585469]\n"
          ],
          "name": "stdout"
        }
      ]
    },
    {
      "cell_type": "markdown",
      "metadata": {
        "id": "TDVAcIbVBcC_",
        "colab_type": "text"
      },
      "source": [
        "**Round 3**"
      ]
    },
    {
      "cell_type": "markdown",
      "metadata": {
        "id": "0VYD7bCpBkMo",
        "colab_type": "text"
      },
      "source": [
        "Đưa dữ liệu mới data3.txt vào sử dụng hàm read_csv trong thư viện pandas"
      ]
    },
    {
      "cell_type": "code",
      "metadata": {
        "id": "7VM4ZNTIBjgh",
        "colab_type": "code",
        "colab": {
          "base_uri": "https://localhost:8080/",
          "height": 204
        },
        "outputId": "0f48292c-b076-4272-b7c1-80e966a2417a"
      },
      "source": [
        "import pandas as pd\n",
        "dataset3 = pd.read_csv(\"http://cs.uit.edu.vn/data3.txt\", delimiter=\",\")\n",
        "dataset3.columns = [\"Input_size\", \"Time\"]\n",
        "dataset3.head()"
      ],
      "execution_count": 13,
      "outputs": [
        {
          "output_type": "execute_result",
          "data": {
            "text/html": [
              "<div>\n",
              "<style scoped>\n",
              "    .dataframe tbody tr th:only-of-type {\n",
              "        vertical-align: middle;\n",
              "    }\n",
              "\n",
              "    .dataframe tbody tr th {\n",
              "        vertical-align: top;\n",
              "    }\n",
              "\n",
              "    .dataframe thead th {\n",
              "        text-align: right;\n",
              "    }\n",
              "</style>\n",
              "<table border=\"1\" class=\"dataframe\">\n",
              "  <thead>\n",
              "    <tr style=\"text-align: right;\">\n",
              "      <th></th>\n",
              "      <th>Input_size</th>\n",
              "      <th>Time</th>\n",
              "    </tr>\n",
              "  </thead>\n",
              "  <tbody>\n",
              "    <tr>\n",
              "      <th>0</th>\n",
              "      <td>37395246</td>\n",
              "      <td>3.92089</td>\n",
              "    </tr>\n",
              "    <tr>\n",
              "      <th>1</th>\n",
              "      <td>36610827</td>\n",
              "      <td>3.21540</td>\n",
              "    </tr>\n",
              "    <tr>\n",
              "      <th>2</th>\n",
              "      <td>29555651</td>\n",
              "      <td>2.54506</td>\n",
              "    </tr>\n",
              "    <tr>\n",
              "      <th>3</th>\n",
              "      <td>25928216</td>\n",
              "      <td>2.21831</td>\n",
              "    </tr>\n",
              "    <tr>\n",
              "      <th>4</th>\n",
              "      <td>30423112</td>\n",
              "      <td>2.61376</td>\n",
              "    </tr>\n",
              "  </tbody>\n",
              "</table>\n",
              "</div>"
            ],
            "text/plain": [
              "   Input_size     Time\n",
              "0    37395246  3.92089\n",
              "1    36610827  3.21540\n",
              "2    29555651  2.54506\n",
              "3    25928216  2.21831\n",
              "4    30423112  2.61376"
            ]
          },
          "metadata": {
            "tags": []
          },
          "execution_count": 13
        }
      ]
    },
    {
      "cell_type": "markdown",
      "metadata": {
        "id": "XtL4Kp04CZhE",
        "colab_type": "text"
      },
      "source": [
        "Đưa dữ liệu về ma trận cột"
      ]
    },
    {
      "cell_type": "code",
      "metadata": {
        "id": "9h1NxRfUCZIg",
        "colab_type": "code",
        "colab": {}
      },
      "source": [
        "X_3 = dataset3[\"Input_size\"].values.reshape(-1,1)\n",
        "Y_3 = dataset3[\"Time\"].values.reshape(-1,1)"
      ],
      "execution_count": 0,
      "outputs": []
    },
    {
      "cell_type": "markdown",
      "metadata": {
        "id": "81tCmPKPCorg",
        "colab_type": "text"
      },
      "source": [
        "Sử dụng model đã train ở Round 2 để đánh giá dữ liệu cho Data 3"
      ]
    },
    {
      "cell_type": "code",
      "metadata": {
        "id": "6JTxUN9iCwsn",
        "colab_type": "code",
        "colab": {
          "base_uri": "https://localhost:8080/",
          "height": 34
        },
        "outputId": "0c820473-926c-4e68-9330-d82d2ebc4ab9"
      },
      "source": [
        "y_3_pred = model.predict(X_3)\n",
        "print (\"Mean Squared Error: \", metrics.mean_squared_error(Y_3, y_3_pred))"
      ],
      "execution_count": 15,
      "outputs": [
        {
          "output_type": "stream",
          "text": [
            "Mean Squared Error:  0.02068386138981177\n"
          ],
          "name": "stdout"
        }
      ]
    },
    {
      "cell_type": "markdown",
      "metadata": {
        "id": "W84Dmx_YDPC9",
        "colab_type": "text"
      },
      "source": [
        "Ta thấy giá trị MSE (Mean Squared Error) ở Data 3 lớn hơn so với Data 2, vậy kết quả dự đoán tệ hơn"
      ]
    },
    {
      "cell_type": "markdown",
      "metadata": {
        "id": "Y7gy4FLIDnRs",
        "colab_type": "text"
      },
      "source": [
        "Xây dựng model mới sử dụng phương pháp tăng số features"
      ]
    },
    {
      "cell_type": "code",
      "metadata": {
        "id": "s_LJpHOwDsxW",
        "colab_type": "code",
        "colab": {}
      },
      "source": [
        "import numpy as np\n",
        "dataset3[\"Input_size^2\"] = dataset3[\"Input_size\"]**2\n",
        "dataset3[\"Input_size_log\"] = dataset3[\"Input_size\"]*np.log(dataset3[\"Input_size\"])\n",
        "columns = [\"Input_size\", \"Input_size^2\", \"Input_size_log\", \"Time\"]\n",
        "dataset3 = dataset3.reindex(columns = columns)"
      ],
      "execution_count": 0,
      "outputs": []
    },
    {
      "cell_type": "code",
      "metadata": {
        "id": "TJEYDOCUEjhL",
        "colab_type": "code",
        "colab": {
          "base_uri": "https://localhost:8080/",
          "height": 204
        },
        "outputId": "9f9c3554-a4d1-4af1-82d5-a0f4a4da2e91"
      },
      "source": [
        "dataset3.head()"
      ],
      "execution_count": 17,
      "outputs": [
        {
          "output_type": "execute_result",
          "data": {
            "text/html": [
              "<div>\n",
              "<style scoped>\n",
              "    .dataframe tbody tr th:only-of-type {\n",
              "        vertical-align: middle;\n",
              "    }\n",
              "\n",
              "    .dataframe tbody tr th {\n",
              "        vertical-align: top;\n",
              "    }\n",
              "\n",
              "    .dataframe thead th {\n",
              "        text-align: right;\n",
              "    }\n",
              "</style>\n",
              "<table border=\"1\" class=\"dataframe\">\n",
              "  <thead>\n",
              "    <tr style=\"text-align: right;\">\n",
              "      <th></th>\n",
              "      <th>Input_size</th>\n",
              "      <th>Input_size^2</th>\n",
              "      <th>Input_size_log</th>\n",
              "      <th>Time</th>\n",
              "    </tr>\n",
              "  </thead>\n",
              "  <tbody>\n",
              "    <tr>\n",
              "      <th>0</th>\n",
              "      <td>37395246</td>\n",
              "      <td>1398404423400516</td>\n",
              "      <td>6.520629e+08</td>\n",
              "      <td>3.92089</td>\n",
              "    </tr>\n",
              "    <tr>\n",
              "      <th>1</th>\n",
              "      <td>36610827</td>\n",
              "      <td>1340352653623929</td>\n",
              "      <td>6.376088e+08</td>\n",
              "      <td>3.21540</td>\n",
              "    </tr>\n",
              "    <tr>\n",
              "      <th>2</th>\n",
              "      <td>29555651</td>\n",
              "      <td>873536506033801</td>\n",
              "      <td>5.084100e+08</td>\n",
              "      <td>2.54506</td>\n",
              "    </tr>\n",
              "    <tr>\n",
              "      <th>3</th>\n",
              "      <td>25928216</td>\n",
              "      <td>672272384942656</td>\n",
              "      <td>4.426165e+08</td>\n",
              "      <td>2.21831</td>\n",
              "    </tr>\n",
              "    <tr>\n",
              "      <th>4</th>\n",
              "      <td>30423112</td>\n",
              "      <td>925565743764544</td>\n",
              "      <td>5.242119e+08</td>\n",
              "      <td>2.61376</td>\n",
              "    </tr>\n",
              "  </tbody>\n",
              "</table>\n",
              "</div>"
            ],
            "text/plain": [
              "   Input_size      Input_size^2  Input_size_log     Time\n",
              "0    37395246  1398404423400516    6.520629e+08  3.92089\n",
              "1    36610827  1340352653623929    6.376088e+08  3.21540\n",
              "2    29555651   873536506033801    5.084100e+08  2.54506\n",
              "3    25928216   672272384942656    4.426165e+08  2.21831\n",
              "4    30423112   925565743764544    5.242119e+08  2.61376"
            ]
          },
          "metadata": {
            "tags": []
          },
          "execution_count": 17
        }
      ]
    },
    {
      "cell_type": "code",
      "metadata": {
        "id": "VIgQy-dyEnWQ",
        "colab_type": "code",
        "colab": {}
      },
      "source": [
        "X_3_new = dataset3.iloc[:,0:3]\n",
        "Y_3_new = dataset3.iloc[:,3]"
      ],
      "execution_count": 0,
      "outputs": []
    },
    {
      "cell_type": "markdown",
      "metadata": {
        "id": "kvQEGPEtFnkD",
        "colab_type": "text"
      },
      "source": [
        "Tiến hành chia dữ liệu theo tỷ lệ train/test = 80/20"
      ]
    },
    {
      "cell_type": "code",
      "metadata": {
        "id": "nh858nBUFxzJ",
        "colab_type": "code",
        "colab": {}
      },
      "source": [
        "X_3_train, X_3_test, Y_3_train, Y_3_test = train_test_split(X_3_new, Y_3_new, test_size=0.2)"
      ],
      "execution_count": 0,
      "outputs": []
    },
    {
      "cell_type": "code",
      "metadata": {
        "id": "O6KOJT4oGDoS",
        "colab_type": "code",
        "colab": {}
      },
      "source": [
        "model3 = LinearRegression()\n",
        "model3.fit(X_3_train, Y_3_train)\n",
        "Y_3_new_pred = model3.predict(X_3_test)"
      ],
      "execution_count": 0,
      "outputs": []
    },
    {
      "cell_type": "code",
      "metadata": {
        "id": "viKEkGTUGhP6",
        "colab_type": "code",
        "colab": {
          "base_uri": "https://localhost:8080/",
          "height": 34
        },
        "outputId": "104fe985-1d24-4a8f-cb68-3b476c09a86e"
      },
      "source": [
        "print(\"Mean Squared Error: \", metrics.mean_squared_error(Y_3_test, Y_3_new_pred))"
      ],
      "execution_count": 23,
      "outputs": [
        {
          "output_type": "stream",
          "text": [
            "Mean Squared Error:  0.0028407372514420055\n"
          ],
          "name": "stdout"
        }
      ]
    },
    {
      "cell_type": "markdown",
      "metadata": {
        "id": "nHcMRNbiGt59",
        "colab_type": "text"
      },
      "source": [
        "Model mới có performance tốt hơn so với model cũ (00284 < 0.020683)\n",
        "\n",
        "Vì có thêm feature giúp kết quả dự đoán cải thiện hơn"
      ]
    }
  ]
}