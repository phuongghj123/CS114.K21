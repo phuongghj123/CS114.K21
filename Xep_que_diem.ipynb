{
  "nbformat": 4,
  "nbformat_minor": 0,
  "metadata": {
    "colab": {
      "name": "Xep_que_diem.ipynb",
      "provenance": [],
      "collapsed_sections": [],
      "authorship_tag": "ABX9TyMst+wG+FgkLSZcLnzWW6Q3",
      "include_colab_link": true
    },
    "kernelspec": {
      "name": "python3",
      "display_name": "Python 3"
    }
  },
  "cells": [
    {
      "cell_type": "markdown",
      "metadata": {
        "id": "view-in-github",
        "colab_type": "text"
      },
      "source": [
        "<a href=\"https://colab.research.google.com/github/phuongghj123/CS114.K21/blob/master/Xep_que_diem.ipynb\" target=\"_parent\"><img src=\"https://colab.research.google.com/assets/colab-badge.svg\" alt=\"Open In Colab\"/></a>"
      ]
    },
    {
      "cell_type": "code",
      "metadata": {
        "id": "AXRpD8-aabXO",
        "colab_type": "code",
        "colab": {
          "base_uri": "https://localhost:8080/",
          "height": 170
        },
        "outputId": "51592a2e-925c-4a98-e5e1-e7a4a56c95a1"
      },
      "source": [
        "q = int(input())\n",
        "a=[]\n",
        "for i in range(q):\n",
        "  c = int(input())\n",
        "  a.append(c)\n",
        "\n",
        "for i in range(q):\n",
        "  if (a[i]==2):\n",
        "    print(2)\n",
        "  elif (a[i]%2==0):\n",
        "    print(0)\n",
        "  elif (a[i]%2!=0):\n",
        "    print(1)"
      ],
      "execution_count": 4,
      "outputs": [
        {
          "output_type": "stream",
          "text": [
            "4\n",
            "2\n",
            "5\n",
            "8\n",
            "11\n",
            "2\n",
            "1\n",
            "0\n",
            "1\n"
          ],
          "name": "stdout"
        }
      ]
    }
  ]
}