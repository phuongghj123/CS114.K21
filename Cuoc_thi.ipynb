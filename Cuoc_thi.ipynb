{
  "nbformat": 4,
  "nbformat_minor": 0,
  "metadata": {
    "colab": {
      "name": "Cuoc_thi.ipynb",
      "provenance": [],
      "collapsed_sections": [],
      "authorship_tag": "ABX9TyMAtjlYzf7dU6yCCZ7eawJa",
      "include_colab_link": true
    },
    "kernelspec": {
      "name": "python3",
      "display_name": "Python 3"
    }
  },
  "cells": [
    {
      "cell_type": "markdown",
      "metadata": {
        "id": "view-in-github",
        "colab_type": "text"
      },
      "source": [
        "<a href=\"https://colab.research.google.com/github/phuongghj123/CS114.K21/blob/master/Cuoc_thi.ipynb\" target=\"_parent\"><img src=\"https://colab.research.google.com/assets/colab-badge.svg\" alt=\"Open In Colab\"/></a>"
      ]
    },
    {
      "cell_type": "code",
      "metadata": {
        "id": "N_WEIgTXfJwa",
        "colab_type": "code",
        "colab": {
          "base_uri": "https://localhost:8080/",
          "height": 68
        },
        "outputId": "7342452b-c07a-4f1e-9c32-d0955c057df0"
      },
      "source": [
        "n,k= input().split()\n",
        "n = int(n)\n",
        "k = int(k)\n",
        "a = []\n",
        "a = [int(j) for j in input().split()]\n",
        "\n",
        "count = 0\n",
        "z = 0\n",
        "while (a[z]>=a[k-1] and a[z]!=0):\n",
        "  count += 1\n",
        "  z+=1\n",
        "  if (z>=len(a)):\n",
        "    break\n",
        "\n",
        "print(count)"
      ],
      "execution_count": 15,
      "outputs": [
        {
          "output_type": "stream",
          "text": [
            "1 1\n",
            "3\n",
            "1\n"
          ],
          "name": "stdout"
        }
      ]
    }
  ]
}