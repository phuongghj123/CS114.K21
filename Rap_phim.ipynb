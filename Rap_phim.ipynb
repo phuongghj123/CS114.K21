{
  "nbformat": 4,
  "nbformat_minor": 0,
  "metadata": {
    "colab": {
      "name": "Rap_phim.ipynb",
      "provenance": [],
      "collapsed_sections": [],
      "authorship_tag": "ABX9TyO2KxsS54OqASSDYmkiR2Sw",
      "include_colab_link": true
    },
    "kernelspec": {
      "name": "python3",
      "display_name": "Python 3"
    }
  },
  "cells": [
    {
      "cell_type": "markdown",
      "metadata": {
        "id": "view-in-github",
        "colab_type": "text"
      },
      "source": [
        "<a href=\"https://colab.research.google.com/github/phuongghj123/CS114.K21/blob/master/Rap_phim.ipynb\" target=\"_parent\"><img src=\"https://colab.research.google.com/assets/colab-badge.svg\" alt=\"Open In Colab\"/></a>"
      ]
    },
    {
      "cell_type": "code",
      "metadata": {
        "id": "b43tV8NLPpx7",
        "colab_type": "code",
        "colab": {
          "base_uri": "https://localhost:8080/",
          "height": 51
        },
        "outputId": "333c3cb0-96e5-481e-99cb-bc00aa1f5528"
      },
      "source": [
        "n,m,a = input().split()\n",
        "n = int(n)\n",
        "m = int(m)\n",
        "a = int(a)\n",
        "\n",
        "if (n%a !=0):\n",
        "  if (m%a !=0):\n",
        "    print((n//a+1)*(m//a+1))\n",
        "  else:\n",
        "    print((n//a+1)*(m//a))\n",
        "else:\n",
        "  if (m%a !=0):\n",
        "    print((n//a)*(m//a+1))\n",
        "  else:\n",
        "    print((n//a)*(m//a))"
      ],
      "execution_count": 2,
      "outputs": [
        {
          "output_type": "stream",
          "text": [
            "8 8 4\n",
            "4\n"
          ],
          "name": "stdout"
        }
      ]
    }
  ]
}