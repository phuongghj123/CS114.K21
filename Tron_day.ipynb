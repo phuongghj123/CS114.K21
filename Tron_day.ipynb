{
  "nbformat": 4,
  "nbformat_minor": 0,
  "metadata": {
    "colab": {
      "name": "Tron_day.ipynb",
      "provenance": [],
      "collapsed_sections": [],
      "authorship_tag": "ABX9TyNzC0kmnmIU4w52wMwRtUil",
      "include_colab_link": true
    },
    "kernelspec": {
      "name": "python3",
      "display_name": "Python 3"
    }
  },
  "cells": [
    {
      "cell_type": "markdown",
      "metadata": {
        "id": "view-in-github",
        "colab_type": "text"
      },
      "source": [
        "<a href=\"https://colab.research.google.com/github/phuongghj123/CS114.K21/blob/master/Tron_day.ipynb\" target=\"_parent\"><img src=\"https://colab.research.google.com/assets/colab-badge.svg\" alt=\"Open In Colab\"/></a>"
      ]
    },
    {
      "cell_type": "code",
      "metadata": {
        "id": "i9YnqQEaxzi2",
        "colab_type": "code",
        "colab": {
          "base_uri": "https://localhost:8080/",
          "height": 85
        },
        "outputId": "2a7eba8c-149c-48ce-e6e3-40c5578aaeb1"
      },
      "source": [
        "na, nb = input().split()\n",
        "na = int(na)\n",
        "nb = int(nb)\n",
        "a=[]\n",
        "b=[]\n",
        "\n",
        "a = [int (i) for i in input().split()]\n",
        "b = [int (i) for i in input().split()]\n",
        "\n",
        "c = a + b\n",
        "c.sort()\n",
        "for i in range(0, len(c)):\n",
        "  print(c[i], end = \" \")"
      ],
      "execution_count": 5,
      "outputs": [
        {
          "output_type": "stream",
          "text": [
            "4 5\n",
            "1 2 4 9\n",
            "8 10 20 22 30\n",
            "1 2 4 8 9 10 20 22 30 "
          ],
          "name": "stdout"
        }
      ]
    }
  ]
}