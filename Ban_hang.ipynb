{
  "nbformat": 4,
  "nbformat_minor": 0,
  "metadata": {
    "colab": {
      "name": "Ban_hang.ipynb",
      "provenance": [],
      "collapsed_sections": [],
      "authorship_tag": "ABX9TyOiaYHqCmEqoJrZgDGvQjY1",
      "include_colab_link": true
    },
    "kernelspec": {
      "name": "python3",
      "display_name": "Python 3"
    }
  },
  "cells": [
    {
      "cell_type": "markdown",
      "metadata": {
        "id": "view-in-github",
        "colab_type": "text"
      },
      "source": [
        "<a href=\"https://colab.research.google.com/github/phuongghj123/CS114.K21/blob/master/Ban_hang.ipynb\" target=\"_parent\"><img src=\"https://colab.research.google.com/assets/colab-badge.svg\" alt=\"Open In Colab\"/></a>"
      ]
    },
    {
      "cell_type": "code",
      "metadata": {
        "id": "VmrD4Ey7RxeB",
        "colab_type": "code",
        "colab": {
          "base_uri": "https://localhost:8080/",
          "height": 85
        },
        "outputId": "9af8aa2d-73c2-4e05-c1c6-4919422052bd"
      },
      "source": [
        "n = int(input())\n",
        "sl = []\n",
        "price =[]\n",
        "\n",
        "for i in range (0,n):\n",
        "  sl.append(int(input()))\n",
        "  price.append([])\n",
        "  price[i] = [int(j) for j in input().split()]\n",
        "for i in range(0,n):\n",
        "  sum = 0\n",
        "  for j in range(0, sl[i]):\n",
        "    sum = sum + price[i][j]\n",
        "  if (sum%sl[i] != 0):\n",
        "      print(sum//sl[i]+1)\n",
        "  else:\n",
        "      print(sum//sl[i])"
      ],
      "execution_count": 10,
      "outputs": [
        {
          "output_type": "stream",
          "text": [
            "1\n",
            "2\n",
            "777 778\n",
            "778\n"
          ],
          "name": "stdout"
        }
      ]
    }
  ]
}