{
  "nbformat": 4,
  "nbformat_minor": 0,
  "metadata": {
    "colab": {
      "name": "Case_study_1.ipynb",
      "provenance": [],
      "collapsed_sections": [],
      "mount_file_id": "11fiID90QbYGMfYqRFsExnolvcFTzVkQ6",
      "authorship_tag": "ABX9TyMYK7eWmCq5FwMIxbRoAbwE",
      "include_colab_link": true
    },
    "kernelspec": {
      "name": "python3",
      "display_name": "Python 3"
    }
  },
  "cells": [
    {
      "cell_type": "markdown",
      "metadata": {
        "id": "view-in-github",
        "colab_type": "text"
      },
      "source": [
        "<a href=\"https://colab.research.google.com/github/phuongghj123/CS114.K21/blob/master/Case_study_1.ipynb\" target=\"_parent\"><img src=\"https://colab.research.google.com/assets/colab-badge.svg\" alt=\"Open In Colab\"/></a>"
      ]
    },
    {
      "cell_type": "markdown",
      "metadata": {
        "id": "vFUJI36dA-uM",
        "colab_type": "text"
      },
      "source": [
        "DANH SÁCH THÀNH VIÊN NHÓM:\n",
        "\n",
        "*   18521060 Trịnh Hưng Long\n",
        "*   18521062 Hà Văn Luân\n",
        "*   18521274 Lỡ Đình Phương\n",
        "\n",
        "\n",
        "\n",
        "\n"
      ]
    },
    {
      "cell_type": "markdown",
      "metadata": {
        "id": "PRLzDxDIEvO0",
        "colab_type": "text"
      },
      "source": [
        "**Mô tả bài toán**: Kiểm tra xem tiêu đề của một bài báo có phải là châm biếm hay không\n",
        "*   Input: (headlines) tiêu đề của bài báo\n",
        "*   Output: sarcasm hoặc là non-sarcasm\n",
        "\n",
        "**Cách thu thập dataset**: Thu thập dataset từ trang web Kaggle (https://www.kaggle.com/rmisra/news-headlines-dataset-for-sarcasm-detection) \n",
        "\n",
        "**Mô tả dataset**: gồm có 3 columns\n",
        "*   is_sarcastic: mang giá trị 1 nếu bài viết đó là sarcasm, ngược lại mang giá trị 0\n",
        "*   headline: tiêu đề bài báo\n",
        "*   article_link: link bài báo"
      ]
    },
    {
      "cell_type": "markdown",
      "metadata": {
        "id": "V2EcOiB9JBF0",
        "colab_type": "text"
      },
      "source": [
        "Upload file kaggle.json lên Google Colab"
      ]
    },
    {
      "cell_type": "code",
      "metadata": {
        "id": "gAdajPEhFlGS",
        "colab_type": "code",
        "colab": {
          "resources": {
            "http://localhost:8080/nbextensions/google.colab/files.js": {
              "data": "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",
              "ok": true,
              "headers": [
                [
                  "content-type",
                  "application/javascript"
                ]
              ],
              "status": 200,
              "status_text": ""
            }
          },
          "base_uri": "https://localhost:8080/",
          "height": 89
        },
        "outputId": "94dd2eba-ab08-4f3b-928b-8f5dbd9ca665"
      },
      "source": [
        "from google.colab import files\n",
        "files.upload()"
      ],
      "execution_count": 1,
      "outputs": [
        {
          "output_type": "display_data",
          "data": {
            "text/html": [
              "\n",
              "     <input type=\"file\" id=\"files-01500668-dfbd-4472-a4eb-3f726bfe39d0\" name=\"files[]\" multiple disabled\n",
              "        style=\"border:none\" />\n",
              "     <output id=\"result-01500668-dfbd-4472-a4eb-3f726bfe39d0\">\n",
              "      Upload widget is only available when the cell has been executed in the\n",
              "      current browser session. Please rerun this cell to enable.\n",
              "      </output>\n",
              "      <script src=\"/nbextensions/google.colab/files.js\"></script> "
            ],
            "text/plain": [
              "<IPython.core.display.HTML object>"
            ]
          },
          "metadata": {
            "tags": []
          }
        },
        {
          "output_type": "stream",
          "text": [
            "Saving kaggle.json to kaggle.json\n"
          ],
          "name": "stdout"
        },
        {
          "output_type": "execute_result",
          "data": {
            "text/plain": [
              "{'kaggle.json': b'{\"username\":\"phuonglodinh\",\"key\":\"68146f7710bca4bc9e8726f60553d465\"}'}"
            ]
          },
          "metadata": {
            "tags": []
          },
          "execution_count": 1
        }
      ]
    },
    {
      "cell_type": "markdown",
      "metadata": {
        "id": "VEOK0g4bJJwE",
        "colab_type": "text"
      },
      "source": [
        "Sau khi upload file kaggle.json ta tiến hành tạo thư mục .kaggle sau đó đưa file kaggle.json vào thư mục này"
      ]
    },
    {
      "cell_type": "code",
      "metadata": {
        "id": "RpHEklXlIrU8",
        "colab_type": "code",
        "colab": {
          "base_uri": "https://localhost:8080/",
          "height": 34
        },
        "outputId": "f60411f6-78c1-4f55-9158-21d11fb30a02"
      },
      "source": [
        "!ls -lha kaggle.json\n",
        "!mkdir -p ~/.kaggle\n",
        "!cp kaggle.json ~/.kaggle/\n",
        "!chmod 600 ~/.kaggle/kaggle.json"
      ],
      "execution_count": 2,
      "outputs": [
        {
          "output_type": "stream",
          "text": [
            "-rw-r--r-- 1 root root 68 Jun 25 13:53 kaggle.json\n"
          ],
          "name": "stdout"
        }
      ]
    },
    {
      "cell_type": "markdown",
      "metadata": {
        "id": "xVOTJEk7JV7l",
        "colab_type": "text"
      },
      "source": [
        "Download dataset từ Kaggle về Google Colab"
      ]
    },
    {
      "cell_type": "code",
      "metadata": {
        "id": "ssdyPBFpJVNy",
        "colab_type": "code",
        "colab": {
          "base_uri": "https://localhost:8080/",
          "height": 68
        },
        "outputId": "acf80d5e-a680-4241-cead-546f69b2ef43"
      },
      "source": [
        "!kaggle datasets download -d rmisra/news-headlines-dataset-for-sarcasm-detection"
      ],
      "execution_count": 3,
      "outputs": [
        {
          "output_type": "stream",
          "text": [
            "Downloading news-headlines-dataset-for-sarcasm-detection.zip to /content\n",
            "\r  0% 0.00/3.30M [00:00<?, ?B/s]\n",
            "\r100% 3.30M/3.30M [00:00<00:00, 54.6MB/s]\n"
          ],
          "name": "stdout"
        }
      ]
    },
    {
      "cell_type": "markdown",
      "metadata": {
        "id": "_MEPG7pKJ19C",
        "colab_type": "text"
      },
      "source": [
        "Giải nén dữ liệu vừa tải về sử dụng lệnh unzip"
      ]
    },
    {
      "cell_type": "code",
      "metadata": {
        "id": "Z-0eNO9BJpiy",
        "colab_type": "code",
        "colab": {
          "base_uri": "https://localhost:8080/",
          "height": 68
        },
        "outputId": "0c0b1b58-c551-444b-c5b8-2ecf48a74ac2"
      },
      "source": [
        "!unzip news-headlines-dataset-for-sarcasm-detection.zip"
      ],
      "execution_count": 4,
      "outputs": [
        {
          "output_type": "stream",
          "text": [
            "Archive:  news-headlines-dataset-for-sarcasm-detection.zip\n",
            "  inflating: Sarcasm_Headlines_Dataset.json  \n",
            "  inflating: Sarcasm_Headlines_Dataset_v2.json  \n"
          ],
          "name": "stdout"
        }
      ]
    },
    {
      "cell_type": "markdown",
      "metadata": {
        "id": "qv8swEazJ-zi",
        "colab_type": "text"
      },
      "source": [
        "Tiến hành khai báo các thư viện cần thiết"
      ]
    },
    {
      "cell_type": "code",
      "metadata": {
        "id": "oNqGXGPNKGSF",
        "colab_type": "code",
        "colab": {}
      },
      "source": [
        "import pandas as pd\n",
        "import json\n",
        "import numpy as np\n",
        "from sklearn.model_selection import train_test_split\n",
        "from sklearn.feature_extraction.text import TfidfVectorizer\n",
        "from sklearn.naive_bayes import MultinomialNB\n",
        "from sklearn.ensemble import RandomForestClassifier\n",
        "from sklearn.linear_model import LogisticRegression\n",
        "from sklearn.svm import LinearSVC"
      ],
      "execution_count": 5,
      "outputs": []
    },
    {
      "cell_type": "markdown",
      "metadata": {
        "id": "oAQBJ2dxLKaz",
        "colab_type": "text"
      },
      "source": [
        "Đọc dataset bằng cách sử dụng lệnh **pd.read_json** trong thư viện pandas, ở đây em sử dụng dataset từ file **Sarcasm_Headlines_Dataset_v2.json**\n",
        "\n",
        "\"lines = True\" có nghĩa là cho phép đọc dữ liệu theo từng dòng"
      ]
    },
    {
      "cell_type": "code",
      "metadata": {
        "id": "jYGqBI7GLf8G",
        "colab_type": "code",
        "colab": {
          "base_uri": "https://localhost:8080/",
          "height": 204
        },
        "outputId": "cce21341-c30f-40fd-9b93-8c978fc3948a"
      },
      "source": [
        "dataset = pd.read_json(\"Sarcasm_Headlines_Dataset_v2.json\", lines = True)\n",
        "dataset.head()"
      ],
      "execution_count": 6,
      "outputs": [
        {
          "output_type": "execute_result",
          "data": {
            "text/html": [
              "<div>\n",
              "<style scoped>\n",
              "    .dataframe tbody tr th:only-of-type {\n",
              "        vertical-align: middle;\n",
              "    }\n",
              "\n",
              "    .dataframe tbody tr th {\n",
              "        vertical-align: top;\n",
              "    }\n",
              "\n",
              "    .dataframe thead th {\n",
              "        text-align: right;\n",
              "    }\n",
              "</style>\n",
              "<table border=\"1\" class=\"dataframe\">\n",
              "  <thead>\n",
              "    <tr style=\"text-align: right;\">\n",
              "      <th></th>\n",
              "      <th>is_sarcastic</th>\n",
              "      <th>headline</th>\n",
              "      <th>article_link</th>\n",
              "    </tr>\n",
              "  </thead>\n",
              "  <tbody>\n",
              "    <tr>\n",
              "      <th>0</th>\n",
              "      <td>1</td>\n",
              "      <td>thirtysomething scientists unveil doomsday clo...</td>\n",
              "      <td>https://www.theonion.com/thirtysomething-scien...</td>\n",
              "    </tr>\n",
              "    <tr>\n",
              "      <th>1</th>\n",
              "      <td>0</td>\n",
              "      <td>dem rep. totally nails why congress is falling...</td>\n",
              "      <td>https://www.huffingtonpost.com/entry/donna-edw...</td>\n",
              "    </tr>\n",
              "    <tr>\n",
              "      <th>2</th>\n",
              "      <td>0</td>\n",
              "      <td>eat your veggies: 9 deliciously different recipes</td>\n",
              "      <td>https://www.huffingtonpost.com/entry/eat-your-...</td>\n",
              "    </tr>\n",
              "    <tr>\n",
              "      <th>3</th>\n",
              "      <td>1</td>\n",
              "      <td>inclement weather prevents liar from getting t...</td>\n",
              "      <td>https://local.theonion.com/inclement-weather-p...</td>\n",
              "    </tr>\n",
              "    <tr>\n",
              "      <th>4</th>\n",
              "      <td>1</td>\n",
              "      <td>mother comes pretty close to using word 'strea...</td>\n",
              "      <td>https://www.theonion.com/mother-comes-pretty-c...</td>\n",
              "    </tr>\n",
              "  </tbody>\n",
              "</table>\n",
              "</div>"
            ],
            "text/plain": [
              "   is_sarcastic  ...                                       article_link\n",
              "0             1  ...  https://www.theonion.com/thirtysomething-scien...\n",
              "1             0  ...  https://www.huffingtonpost.com/entry/donna-edw...\n",
              "2             0  ...  https://www.huffingtonpost.com/entry/eat-your-...\n",
              "3             1  ...  https://local.theonion.com/inclement-weather-p...\n",
              "4             1  ...  https://www.theonion.com/mother-comes-pretty-c...\n",
              "\n",
              "[5 rows x 3 columns]"
            ]
          },
          "metadata": {
            "tags": []
          },
          "execution_count": 6
        }
      ]
    },
    {
      "cell_type": "markdown",
      "metadata": {
        "id": "EzO7Jy25LxYd",
        "colab_type": "text"
      },
      "source": [
        "In ra kích thước dataset, kết quả in ra có dạng (x,y)\n",
        "Trong đó:\n",
        "*   x: số hàng\n",
        "*   y: số cột\n",
        "\n"
      ]
    },
    {
      "cell_type": "code",
      "metadata": {
        "id": "QuBMQkfOMJSW",
        "colab_type": "code",
        "colab": {
          "base_uri": "https://localhost:8080/",
          "height": 34
        },
        "outputId": "48de4915-234d-47c3-a3a5-6360fa5ec317"
      },
      "source": [
        "dataset.shape"
      ],
      "execution_count": 7,
      "outputs": [
        {
          "output_type": "execute_result",
          "data": {
            "text/plain": [
              "(28619, 3)"
            ]
          },
          "metadata": {
            "tags": []
          },
          "execution_count": 7
        }
      ]
    },
    {
      "cell_type": "markdown",
      "metadata": {
        "id": "WLL6_3UZMWxc",
        "colab_type": "text"
      },
      "source": [
        "Vì cột **article_link** không ảnh hưởng gì tới việc detect sarcasm nên ta tiến hành loại bỏ cột **article_link**"
      ]
    },
    {
      "cell_type": "code",
      "metadata": {
        "id": "xumvPm_iM9d4",
        "colab_type": "code",
        "colab": {}
      },
      "source": [
        "dataset = dataset.drop(['article_link'], axis = 1)"
      ],
      "execution_count": 8,
      "outputs": []
    },
    {
      "cell_type": "code",
      "metadata": {
        "id": "a-GNaYkBNNF5",
        "colab_type": "code",
        "colab": {
          "base_uri": "https://localhost:8080/",
          "height": 204
        },
        "outputId": "23f2a306-9347-4770-e1b3-24f102e753a0"
      },
      "source": [
        "dataset.head()"
      ],
      "execution_count": 9,
      "outputs": [
        {
          "output_type": "execute_result",
          "data": {
            "text/html": [
              "<div>\n",
              "<style scoped>\n",
              "    .dataframe tbody tr th:only-of-type {\n",
              "        vertical-align: middle;\n",
              "    }\n",
              "\n",
              "    .dataframe tbody tr th {\n",
              "        vertical-align: top;\n",
              "    }\n",
              "\n",
              "    .dataframe thead th {\n",
              "        text-align: right;\n",
              "    }\n",
              "</style>\n",
              "<table border=\"1\" class=\"dataframe\">\n",
              "  <thead>\n",
              "    <tr style=\"text-align: right;\">\n",
              "      <th></th>\n",
              "      <th>is_sarcastic</th>\n",
              "      <th>headline</th>\n",
              "    </tr>\n",
              "  </thead>\n",
              "  <tbody>\n",
              "    <tr>\n",
              "      <th>0</th>\n",
              "      <td>1</td>\n",
              "      <td>thirtysomething scientists unveil doomsday clo...</td>\n",
              "    </tr>\n",
              "    <tr>\n",
              "      <th>1</th>\n",
              "      <td>0</td>\n",
              "      <td>dem rep. totally nails why congress is falling...</td>\n",
              "    </tr>\n",
              "    <tr>\n",
              "      <th>2</th>\n",
              "      <td>0</td>\n",
              "      <td>eat your veggies: 9 deliciously different recipes</td>\n",
              "    </tr>\n",
              "    <tr>\n",
              "      <th>3</th>\n",
              "      <td>1</td>\n",
              "      <td>inclement weather prevents liar from getting t...</td>\n",
              "    </tr>\n",
              "    <tr>\n",
              "      <th>4</th>\n",
              "      <td>1</td>\n",
              "      <td>mother comes pretty close to using word 'strea...</td>\n",
              "    </tr>\n",
              "  </tbody>\n",
              "</table>\n",
              "</div>"
            ],
            "text/plain": [
              "   is_sarcastic                                           headline\n",
              "0             1  thirtysomething scientists unveil doomsday clo...\n",
              "1             0  dem rep. totally nails why congress is falling...\n",
              "2             0  eat your veggies: 9 deliciously different recipes\n",
              "3             1  inclement weather prevents liar from getting t...\n",
              "4             1  mother comes pretty close to using word 'strea..."
            ]
          },
          "metadata": {
            "tags": []
          },
          "execution_count": 9
        }
      ]
    },
    {
      "cell_type": "markdown",
      "metadata": {
        "id": "qfTISC2SPhH3",
        "colab_type": "text"
      },
      "source": [
        "Bước này ta tiến hành loại bỏ những đối tượng không cần thiết trong tiêu đề bài báo như:\n",
        "*   Các ký tự đặc biệt\n",
        "*   Các dấu câu\n",
        "*   Các từ ngữ không cần thiết, thừa thãi (stop word) trong tiếng Anh\n",
        "\n"
      ]
    },
    {
      "cell_type": "code",
      "metadata": {
        "id": "Bg2WIwTuea4D",
        "colab_type": "code",
        "colab": {
          "base_uri": "https://localhost:8080/",
          "height": 272
        },
        "outputId": "96197bea-c0d6-499b-a4d3-245c3a1853a2"
      },
      "source": [
        "import re\n",
        "import nltk\n",
        "nltk.download('stopwords')\n",
        "nltk.download('punkt')\n",
        "from nltk.corpus import stopwords\n",
        "from nltk.tokenize import word_tokenize\n",
        "stop_words = set(stopwords.words(\"english\"))\n",
        "\n",
        "dataset['headline'] = dataset['headline'].apply(lambda s: re.sub('[^a-zA-Z]', ' ', s))\n",
        "dataset.head()"
      ],
      "execution_count": 10,
      "outputs": [
        {
          "output_type": "stream",
          "text": [
            "[nltk_data] Downloading package stopwords to /root/nltk_data...\n",
            "[nltk_data]   Unzipping corpora/stopwords.zip.\n",
            "[nltk_data] Downloading package punkt to /root/nltk_data...\n",
            "[nltk_data]   Unzipping tokenizers/punkt.zip.\n"
          ],
          "name": "stdout"
        },
        {
          "output_type": "execute_result",
          "data": {
            "text/html": [
              "<div>\n",
              "<style scoped>\n",
              "    .dataframe tbody tr th:only-of-type {\n",
              "        vertical-align: middle;\n",
              "    }\n",
              "\n",
              "    .dataframe tbody tr th {\n",
              "        vertical-align: top;\n",
              "    }\n",
              "\n",
              "    .dataframe thead th {\n",
              "        text-align: right;\n",
              "    }\n",
              "</style>\n",
              "<table border=\"1\" class=\"dataframe\">\n",
              "  <thead>\n",
              "    <tr style=\"text-align: right;\">\n",
              "      <th></th>\n",
              "      <th>is_sarcastic</th>\n",
              "      <th>headline</th>\n",
              "    </tr>\n",
              "  </thead>\n",
              "  <tbody>\n",
              "    <tr>\n",
              "      <th>0</th>\n",
              "      <td>1</td>\n",
              "      <td>thirtysomething scientists unveil doomsday clo...</td>\n",
              "    </tr>\n",
              "    <tr>\n",
              "      <th>1</th>\n",
              "      <td>0</td>\n",
              "      <td>dem rep  totally nails why congress is falling...</td>\n",
              "    </tr>\n",
              "    <tr>\n",
              "      <th>2</th>\n",
              "      <td>0</td>\n",
              "      <td>eat your veggies    deliciously different recipes</td>\n",
              "    </tr>\n",
              "    <tr>\n",
              "      <th>3</th>\n",
              "      <td>1</td>\n",
              "      <td>inclement weather prevents liar from getting t...</td>\n",
              "    </tr>\n",
              "    <tr>\n",
              "      <th>4</th>\n",
              "      <td>1</td>\n",
              "      <td>mother comes pretty close to using word  strea...</td>\n",
              "    </tr>\n",
              "  </tbody>\n",
              "</table>\n",
              "</div>"
            ],
            "text/plain": [
              "   is_sarcastic                                           headline\n",
              "0             1  thirtysomething scientists unveil doomsday clo...\n",
              "1             0  dem rep  totally nails why congress is falling...\n",
              "2             0  eat your veggies    deliciously different recipes\n",
              "3             1  inclement weather prevents liar from getting t...\n",
              "4             1  mother comes pretty close to using word  strea..."
            ]
          },
          "metadata": {
            "tags": []
          },
          "execution_count": 10
        }
      ]
    },
    {
      "cell_type": "code",
      "metadata": {
        "id": "vVq8wcshe5MJ",
        "colab_type": "code",
        "colab": {}
      },
      "source": [
        "X_data = []\n",
        "Y_data = dataset['is_sarcastic']\n",
        "def Pre_processing(data):\n",
        "  for item in data:\n",
        "    word_tokens = word_tokenize(item)\n",
        "    text = [word for word in word_tokens if word not in stop_words]\n",
        "    X_data.append(\" \".join(text))\n",
        "\n",
        "Pre_processing(dataset['headline'])\n"
      ],
      "execution_count": null,
      "outputs": []
    },
    {
      "cell_type": "markdown",
      "metadata": {
        "id": "ma8DTrUfiD5k",
        "colab_type": "text"
      },
      "source": [
        "**Feature engineering**"
      ]
    },
    {
      "cell_type": "markdown",
      "metadata": {
        "id": "KmkSG8OijaOM",
        "colab_type": "text"
      },
      "source": [
        "TF-IDF (Term Frequency - Inverse Document Frequency):\n",
        "*   TF: tần số xuất hiện của 1 từ trong 1 văn bản\n",
        "*   IDF: tần số nghịch của 1 từ trong một tập các văn bản\n",
        "\n",
        "Kỹ thuật TF-IDF dùng để tính toán tần suất xuất hiện của một từ trong văn bản, dựa trên đó để đánh giá mức độ quan trọng của từng từ trong văn bản\n",
        "\n",
        "Tham khảo: https://codetudau.com/bag-of-words-tf-idf-xu-ly-ngon-ngu-tu-nhien/index.html\n",
        "\n",
        "TfidfVectorizer dùng để chuyển đổi dữ liệu văn bản sang ma trận các features TF-IDF\n",
        "\n",
        "Tham khảo: https://scikit-learn.org/stable/modules/generated/sklearn.feature_extraction.text.TfidfVectorizer.html"
      ]
    },
    {
      "cell_type": "code",
      "metadata": {
        "id": "tEMCmzNqg5Dx",
        "colab_type": "code",
        "colab": {}
      },
      "source": [
        "vectorizer = TfidfVectorizer(analyzer='word', max_features=6000)\n",
        "vectorizer.fit(X_data)\n",
        "X_data_tfidf = vectorizer.transform(X_data).toarray()"
      ],
      "execution_count": 12,
      "outputs": []
    },
    {
      "cell_type": "code",
      "metadata": {
        "id": "7-foq39snmXZ",
        "colab_type": "code",
        "colab": {
          "base_uri": "https://localhost:8080/",
          "height": 136
        },
        "outputId": "98384676-0920-40ca-9b45-82c19848685e"
      },
      "source": [
        "print(X_data_tfidf)"
      ],
      "execution_count": 13,
      "outputs": [
        {
          "output_type": "stream",
          "text": [
            "[[0. 0. 0. ... 0. 0. 0.]\n",
            " [0. 0. 0. ... 0. 0. 0.]\n",
            " [0. 0. 0. ... 0. 0. 0.]\n",
            " ...\n",
            " [0. 0. 0. ... 0. 0. 0.]\n",
            " [0. 0. 0. ... 0. 0. 0.]\n",
            " [0. 0. 0. ... 0. 0. 0.]]\n"
          ],
          "name": "stdout"
        }
      ]
    },
    {
      "cell_type": "code",
      "metadata": {
        "id": "sSIlH63InrMx",
        "colab_type": "code",
        "colab": {
          "base_uri": "https://localhost:8080/",
          "height": 34
        },
        "outputId": "1c39fc5a-6efb-4d12-ed85-00eabb0844c9"
      },
      "source": [
        "print(X_data_tfidf.shape)"
      ],
      "execution_count": 14,
      "outputs": [
        {
          "output_type": "stream",
          "text": [
            "(28619, 6000)\n"
          ],
          "name": "stdout"
        }
      ]
    },
    {
      "cell_type": "markdown",
      "metadata": {
        "id": "tWeT1Nc5n1Ye",
        "colab_type": "text"
      },
      "source": [
        "Tiến hành chia train, test theo tỉ lệ 80:20"
      ]
    },
    {
      "cell_type": "code",
      "metadata": {
        "id": "-gQtHm_gn6e7",
        "colab_type": "code",
        "colab": {}
      },
      "source": [
        "X_train, X_test, Y_train, Y_test = train_test_split(X_data_tfidf, Y_data, test_size=0.2)"
      ],
      "execution_count": 15,
      "outputs": []
    },
    {
      "cell_type": "markdown",
      "metadata": {
        "id": "cQq0EoQWpu9j",
        "colab_type": "text"
      },
      "source": [
        "**Train data**"
      ]
    },
    {
      "cell_type": "markdown",
      "metadata": {
        "id": "imtnFTAY5pGx",
        "colab_type": "text"
      },
      "source": [
        "Lần lượt sử dụng 4 model cho bài toán phân lớp để train dữ liệu"
      ]
    },
    {
      "cell_type": "code",
      "metadata": {
        "id": "w_ckaGbn5uIs",
        "colab_type": "code",
        "colab": {
          "base_uri": "https://localhost:8080/",
          "height": 68
        },
        "outputId": "3127c946-230f-4bce-8a0c-7b5c1029f87a"
      },
      "source": [
        "modelnb = MultinomialNB()\n",
        "modelnb.fit(X_train, Y_train)\n",
        "print(\"Model MultinomialNB\")\n",
        "print(\"Train score: \", modelnb.score(X_train, Y_train))\n",
        "print(\"Test score: \", modelnb.score(X_test, Y_test))"
      ],
      "execution_count": 28,
      "outputs": [
        {
          "output_type": "stream",
          "text": [
            "Model MultinomialNB\n",
            "Train score:  0.8513649268399214\n",
            "Test score:  0.7907058001397624\n"
          ],
          "name": "stdout"
        }
      ]
    },
    {
      "cell_type": "code",
      "metadata": {
        "id": "MUTO2-1I6nkn",
        "colab_type": "code",
        "colab": {
          "base_uri": "https://localhost:8080/",
          "height": 68
        },
        "outputId": "3bd9ab86-d71f-4052-9199-e688e8f2ac49"
      },
      "source": [
        "modelrdf = RandomForestClassifier(n_estimators=10)\n",
        "modelrdf.fit(X_train, Y_train)\n",
        "print(\"Model RandomForestClassifier\")\n",
        "print(\"Train score: \", modelrdf.score(X_train, Y_train))\n",
        "print(\"Test score: \", modelrdf.score(X_test, Y_test))"
      ],
      "execution_count": 29,
      "outputs": [
        {
          "output_type": "stream",
          "text": [
            "Model RandomForestClassifier\n",
            "Train score:  0.9829657130377811\n",
            "Test score:  0.7496505939902166\n"
          ],
          "name": "stdout"
        }
      ]
    },
    {
      "cell_type": "code",
      "metadata": {
        "id": "4iOxTFnu7J1m",
        "colab_type": "code",
        "colab": {
          "base_uri": "https://localhost:8080/",
          "height": 68
        },
        "outputId": "8d67dd54-90ac-4f3c-a5e7-273426841004"
      },
      "source": [
        "modellr = LogisticRegression()\n",
        "modellr.fit(X_train, Y_train)\n",
        "print(\"Model LogisticRegression\")\n",
        "print(\"Train score: \", modellr.score(X_train, Y_train))\n",
        "print(\"Test score: \", modellr.score(X_test, Y_test))"
      ],
      "execution_count": 30,
      "outputs": [
        {
          "output_type": "stream",
          "text": [
            "Model LogisticRegression\n",
            "Train score:  0.8599694256387858\n",
            "Test score:  0.7894828791055206\n"
          ],
          "name": "stdout"
        }
      ]
    },
    {
      "cell_type": "code",
      "metadata": {
        "id": "23FdJBum7wWe",
        "colab_type": "code",
        "colab": {
          "base_uri": "https://localhost:8080/",
          "height": 68
        },
        "outputId": "18b0d2f9-974a-43e5-c6f9-2ff5f8940e02"
      },
      "source": [
        "modelln = LinearSVC()\n",
        "modelln.fit(X_train, Y_train)\n",
        "print(\"Model LinearSVC\")\n",
        "print(\"Train score: \", modelln.score(X_train, Y_train))\n",
        "print(\"Test score: \", modelln.score(X_test, Y_test))"
      ],
      "execution_count": 31,
      "outputs": [
        {
          "output_type": "stream",
          "text": [
            "Model LinearSVC\n",
            "Train score:  0.900851714348111\n",
            "Test score:  0.7830188679245284\n"
          ],
          "name": "stdout"
        }
      ]
    },
    {
      "cell_type": "markdown",
      "metadata": {
        "id": "klUFEHImv1wq",
        "colab_type": "text"
      },
      "source": [
        "Cách tính độ chính xác của model bằng **score** như trên chỉ cho ta biết phần trăm dữ liệu được phân loại đúng mà không chỉ ra được dữ liệu được phân loại như thế nào, nên ta sử dụng một ma trận được gọi là **confusion matrix**\n",
        "\n",
        "**Confusion matrix** giúp ta có cái nhìn chi tiết hơn trong quá trình chọn lọc model dựa trên tập dữ liệu có sẵn\n",
        "\n",
        "Bài toán này thuộc loại binary classification (có 2 lớp dữ liệu) nên ta sử dụng phương pháp **True/False Positive/Negative**, ta định nghĩa phương pháp này dựa trên confusion matrix\n",
        "\n",
        "Tham khảo: https://machinelearningcoban.com/2017/08/31/evaluation/#-truefalse-positivenegative\n",
        "\n",
        "Để đánh giá chất lượng của model ta sử dụng khái niệm F1-score, khái niệm này dựa trên 2 khái niệm khác là Precision và Recall\n",
        "\n",
        "**Precision** được định nghĩa là tỉ lệ số điểm true positive trong số những điểm được phân loại là positive (TP + FP) \n",
        "\n",
        "    Precision = TP/(TP+FP)\n",
        "\n",
        "**Recall** được định nghĩa là tỉ lệ số điểm true positive trong số những điểm thực sự là positive (TP + FN)\n",
        "\n",
        "    Recall = TP/(TP+FN)\n",
        "\n",
        "**F1-score** là harmonic mean của **precision** và **recall** \n",
        "    \n",
        "    F1-score = 2(precision x recall)/(precision + recall)\n",
        "    \n",
        "F1 có giá trị nằm trong nửa khoảng (0;1]. F1 càng cao, bộ phân lớp càng tốt. F1 = 1 khi và chỉ khi cả precision và recall đều bằng 1"
      ]
    },
    {
      "cell_type": "code",
      "metadata": {
        "id": "SAH_YPjZv2m3",
        "colab_type": "code",
        "colab": {
          "base_uri": "https://localhost:8080/",
          "height": 68
        },
        "outputId": "87c905c1-fbd4-4d36-cc77-4373f0e2e0d9"
      },
      "source": [
        "from sklearn.metrics import confusion_matrix\n",
        "from sklearn.metrics import f1_score\n",
        "#Model Naive Bayes\n",
        "y_pred_nb = modelnb.predict(X_test)\n",
        "matrix_nb = confusion_matrix(Y_test, y_pred_nb)\n",
        "print(matrix_nb)\n",
        "print(f1_score(Y_test, y_pred_nb, average = 'macro')) #average = macro: trung bình cộng của các precision theo từng class"
      ],
      "execution_count": 32,
      "outputs": [
        {
          "output_type": "stream",
          "text": [
            "[[2417  559]\n",
            " [ 639 2109]]\n",
            "0.7900980589979978\n"
          ],
          "name": "stdout"
        }
      ]
    },
    {
      "cell_type": "code",
      "metadata": {
        "id": "u4mzel9y3WZS",
        "colab_type": "code",
        "colab": {
          "base_uri": "https://localhost:8080/",
          "height": 68
        },
        "outputId": "df062c6b-4a1a-4d03-a8d2-871fe972a2a5"
      },
      "source": [
        "#Model RandomForestClassifier\n",
        "y_pred_rdf = modelrdf.predict(X_test)\n",
        "matrix_rdf = confusion_matrix(Y_test, y_pred_rdf)\n",
        "print(matrix_rdf)\n",
        "print(f1_score(Y_test, y_pred_rdf, average = 'macro')) #average = macro: trung bình cộng của các precision theo từng class"
      ],
      "execution_count": 33,
      "outputs": [
        {
          "output_type": "stream",
          "text": [
            "[[2387  589]\n",
            " [ 844 1904]]\n",
            "0.7478552613705246\n"
          ],
          "name": "stdout"
        }
      ]
    },
    {
      "cell_type": "code",
      "metadata": {
        "id": "wt1i2QYD3ayh",
        "colab_type": "code",
        "colab": {
          "base_uri": "https://localhost:8080/",
          "height": 68
        },
        "outputId": "918be089-6906-4a04-8dac-fce9f371f92d"
      },
      "source": [
        "#Model LogisticRegression\n",
        "y_pred_lr = modellr.predict(X_test)\n",
        "matrix_lr = confusion_matrix(Y_test, y_pred_lr)\n",
        "print(matrix_lr)\n",
        "print(f1_score(Y_test, y_pred_lr, average = 'macro')) #average = macro: trung bình cộng của các precision theo từng class"
      ],
      "execution_count": 34,
      "outputs": [
        {
          "output_type": "stream",
          "text": [
            "[[2451  525]\n",
            " [ 680 2068]]\n",
            "0.7885361309410501\n"
          ],
          "name": "stdout"
        }
      ]
    },
    {
      "cell_type": "code",
      "metadata": {
        "id": "AVTGxmhk3fhg",
        "colab_type": "code",
        "colab": {
          "base_uri": "https://localhost:8080/",
          "height": 68
        },
        "outputId": "acc00f57-4090-4e9e-94de-876ab6505180"
      },
      "source": [
        "#Model LinearSVC()\n",
        "y_pred_ln = modelln.predict(X_test)\n",
        "matrix_ln = confusion_matrix(Y_test, y_pred_ln)\n",
        "print(matrix_ln)\n",
        "print(f1_score(Y_test, y_pred_ln, average = 'macro')) #average = macro: trung bình cộng của các precision theo từng class"
      ],
      "execution_count": 35,
      "outputs": [
        {
          "output_type": "stream",
          "text": [
            "[[2380  596]\n",
            " [ 646 2102]]\n",
            "0.7825058436268582\n"
          ],
          "name": "stdout"
        }
      ]
    },
    {
      "cell_type": "markdown",
      "metadata": {
        "id": "amnyd75x4PJD",
        "colab_type": "text"
      },
      "source": [
        "Ta thấy trong 4 model trên, model Naive Bayes tốt nhất, dựa trên F1-score = 0.79009\n",
        "\n",
        "Vì vậy ta chọn model Naive Bayes cho bài toán này"
      ]
    },
    {
      "cell_type": "markdown",
      "metadata": {
        "id": "z7Etq2qvvfFL",
        "colab_type": "text"
      },
      "source": [
        "Thu thập 2000 headline bao gồm sarcasm và non-sarcasm từ 2 trang web lần lượt là www.theonion.com và www.huffingtonpost.com\n",
        "\n",
        "Trong đó, thu thập từ mỗi trang web 1000 headline tương ứng\n",
        "\n",
        "Em sử dụng thư viện BeautifulSoup: là 1 package Python dùng để phân tích cú pháp các tài liệu HTML và XML."
      ]
    },
    {
      "cell_type": "code",
      "metadata": {
        "id": "Zv0n55Rsv2h5",
        "colab_type": "code",
        "colab": {}
      },
      "source": [
        "import requests\n",
        "from bs4 import BeautifulSoup"
      ],
      "execution_count": 37,
      "outputs": []
    },
    {
      "cell_type": "code",
      "metadata": {
        "id": "w5o-bDGIxq8p",
        "colab_type": "code",
        "colab": {
          "base_uri": "https://localhost:8080/",
          "height": 34
        },
        "outputId": "276f30f9-265f-483e-e5ad-a30c9434ee67"
      },
      "source": [
        "%cd \"/content/drive/My Drive/\""
      ],
      "execution_count": 38,
      "outputs": [
        {
          "output_type": "stream",
          "text": [
            "/content/drive/My Drive\n"
          ],
          "name": "stdout"
        }
      ]
    },
    {
      "cell_type": "markdown",
      "metadata": {
        "id": "FIMHksHoyDBg",
        "colab_type": "text"
      },
      "source": [
        "Thu thập dữ liệu từ trang www.theonion.com\n",
        "\n",
        "Để tăng tính đa dạng em chia ra thu thập dữ liệu từ 2 đường link của trang The Onion là : \"https://www.theonion.com/c/news-in-brief \" và \"https://www.theonion.com/c/news-in-photos \", ứng với mỗi đường link em lấy ra 500 dữ liệu\n",
        "\n",
        "Trong lúc thu thập dữ liệu ta chú trọng vào 2 class là \"sc-759qgu-0 cYlVdn cw4lnv-6 eXwNRE\" và \"sc-1out364-0 hMndXN js_link\" chứa tiêu đề (headline) và đường link (article_link) của dữ liệu, ta dùng lệnh find_all để trích xuất ra (với href là đường link và hàm .get_text() để lấy tiêu đề của dữ liệu)\n",
        "\n",
        "Vì số lượng cần thu thập là 500 mà trên trang \"https://www.theonion.com/c/news-in-brief \" và \"https://www.theonion.com/c/news-in-photos \" đều chỉ hiển thị khoảng 20 dữ liệu đầu tiên, muốn trích xuất tiếp thì phải chuyển sang trang tiếp theo (More stories), tìm đến các đuôi 'href' gắn sau url = \"https://www.theonion.com/c/news-in-brief\" để truy cập trang tiếp theo, thu thập thêm 20 dữ liệu nữa, thực hiện các công đoạn như vậy cho đến khi tìm đủ 500 dữ liệu ứng với mỗi đường link"
      ]
    },
    {
      "cell_type": "code",
      "metadata": {
        "id": "a2klZHNJxwzj",
        "colab_type": "code",
        "colab": {}
      },
      "source": [
        "url = \"https://www.theonion.com/c/news-in-brief\"\n",
        "url_1 = url\n",
        "with open('/content/drive/My Drive/new_data_sarcasm.json', 'a') as file:\n",
        "\n",
        "  for i in range(25):\n",
        "  \n",
        "    r1 = requests.get(url_1)\n",
        "    coverpage = r1.content\n",
        "    soup1 = BeautifulSoup(coverpage, 'lxml')\n",
        "    soup2 = BeautifulSoup(coverpage, 'html5lib')\n",
        "    coverpage_news = soup1.find_all('h2', class_= \"sc-759qgu-0 cYlVdn cw4lnv-6 eXwNRE\")\n",
        "    coverpage_news_1 = soup2.find_all('a', class_='sc-1out364-0 hMndXN js_link')\n",
        "  \n",
        "    t = 12\n",
        "    while(t <=50):\n",
        "      a = coverpage_news_1[t]['href']\n",
        "      b = coverpage_news_1[t].get_text()\n",
        "   \n",
        "    \n",
        "      file.write('{\"is_sarcastic\": 1, \"headline\": \"')\n",
        "      file.write(b)\n",
        "      file.write('\", \"article_link\": \"')\n",
        "      file.write(a)\n",
        "      file.write('\"}\\n')\n",
        "\n",
        "      t += 2\n",
        "    url_1 = url + coverpage_news_1[51]['href']\n",
        "  file.close()"
      ],
      "execution_count": null,
      "outputs": []
    },
    {
      "cell_type": "code",
      "metadata": {
        "id": "occFCtinydZZ",
        "colab_type": "code",
        "colab": {}
      },
      "source": [
        "url = \"https://www.theonion.com/c/news-in-photos\"\n",
        "url_1 = url\n",
        "with open('/content/drive/My Drive/new_data_sarcasm.json', 'a') as file:\n",
        "\n",
        "  for i in range(25):\n",
        "  \n",
        "    r1 = requests.get(url_1)\n",
        "    coverpage = r1.content\n",
        "    soup1 = BeautifulSoup(coverpage, 'lxml')\n",
        "    soup2 = BeautifulSoup(coverpage, 'html5lib')\n",
        "    coverpage_news = soup1.find_all('h2', class_= \"sc-759qgu-0 cYlVdn cw4lnv-6 eXwNRE\")\n",
        "    coverpage_news_1 = soup2.find_all('a', class_='sc-1out364-0 hMndXN js_link')\n",
        "  \n",
        "    t = 12\n",
        "    while(t <=50):\n",
        "      a = coverpage_news_1[t]['href']\n",
        "      b = coverpage_news_1[t].get_text()\n",
        "   \n",
        "    \n",
        "      file.write('{\"is_sarcastic\": 1, \"headline\": \"')\n",
        "      file.write(b)\n",
        "      file.write('\", \"article_link\": \"')\n",
        "      file.write(a)\n",
        "      file.write('\"}\\n')\n",
        "\n",
        "      t += 2\n",
        "    url_1 = url + coverpage_news_1[51]['href']\n",
        "  file.close()"
      ],
      "execution_count": null,
      "outputs": []
    },
    {
      "cell_type": "markdown",
      "metadata": {
        "id": "P3ihAzA9zJ89",
        "colab_type": "text"
      },
      "source": [
        "Thu thập dữ liệu từ trang www.huffingtonpost.com\n",
        "\n",
        "Đối với trang web này ta cần phải thêm dòng lệnh\n",
        "\n",
        "Request(url1, headers={'User-Agent': 'XYZ/3.0'}) để được cấp phát quyền truy cập\n",
        "\n",
        "Trong lúc thu thập dữ liệu ta chú trọng vào class 'card__link yr-card-headline' chứa tiêu đề (headline) và đường link (article_link) của dữ liệu\n",
        "\n",
        "Dùng .text để lấy tiêu đề (headline),  tìm đến đuôi 'href' gắn sau 'https://www.huffingtonpost.co.uk' để trích xuất đường link (article link) của dữ liệu "
      ]
    },
    {
      "cell_type": "code",
      "metadata": {
        "id": "FW1ZevFizDi7",
        "colab_type": "code",
        "colab": {}
      },
      "source": [
        "from urllib.request import Request , urlopen \n",
        "from bs4 import BeautifulSoup\n",
        "Data = []\n",
        "with open('/content/drive/My Drive/new_data_sarcasm.json', 'a') as file:\n",
        "  for i in range(1,35):\n",
        "    url1 = 'https://www.huffingtonpost.co.uk/news/'+ str(i) +'/?guccounter=2'\n",
        "    req = Request(url1, headers={'User-Agent': 'XYZ/3.0'})\n",
        "    page = urlopen(req,timeout=10)\n",
        "    soup = BeautifulSoup(page,\"html.parser\")\n",
        "    headlines = soup.find_all('a',attrs={'class':'card__link yr-card-headline'})\n",
        "\n",
        "    for i in range(len(headlines)):\n",
        "      headline = headlines[i].text\n",
        "      if headline not in Data:\n",
        "        Data.append(headline)\n",
        "        link = 'https://www.huffingtonpost.co.uk' + headlines[i]['href']\n",
        "\n",
        "        file.write('{\"is_sarcastic\": 0, \"headline\": \"')\n",
        "        file.write(headline)\n",
        "        file.write('\", \"article_link\": \"')\n",
        "        file.write(link)\n",
        "        file.write('\"}\\n')\n",
        "  file.close()"
      ],
      "execution_count": null,
      "outputs": []
    },
    {
      "cell_type": "markdown",
      "metadata": {
        "id": "qXxFGf9669GD",
        "colab_type": "text"
      },
      "source": [
        "Đọc file json gồm các mới được thu thập"
      ]
    },
    {
      "cell_type": "code",
      "metadata": {
        "id": "5DtpKmz_TO7D",
        "colab_type": "code",
        "colab": {
          "base_uri": "https://localhost:8080/",
          "height": 204
        },
        "outputId": "d3dbdd08-73ce-4d64-83e1-5c935ef9e942"
      },
      "source": [
        "dataset_new = pd.read_json(\"new_data_sarcasm.json\", lines = True)\n",
        "dataset_new.head()"
      ],
      "execution_count": 39,
      "outputs": [
        {
          "output_type": "execute_result",
          "data": {
            "text/html": [
              "<div>\n",
              "<style scoped>\n",
              "    .dataframe tbody tr th:only-of-type {\n",
              "        vertical-align: middle;\n",
              "    }\n",
              "\n",
              "    .dataframe tbody tr th {\n",
              "        vertical-align: top;\n",
              "    }\n",
              "\n",
              "    .dataframe thead th {\n",
              "        text-align: right;\n",
              "    }\n",
              "</style>\n",
              "<table border=\"1\" class=\"dataframe\">\n",
              "  <thead>\n",
              "    <tr style=\"text-align: right;\">\n",
              "      <th></th>\n",
              "      <th>is_sarcastic</th>\n",
              "      <th>headline</th>\n",
              "      <th>article_link</th>\n",
              "    </tr>\n",
              "  </thead>\n",
              "  <tbody>\n",
              "    <tr>\n",
              "      <th>0</th>\n",
              "      <td>1</td>\n",
              "      <td>Nancy Pelosi Calls Jamaal Bowman To Scold Him ...</td>\n",
              "      <td>https://politics.theonion.com/nancy-pelosi-cal...</td>\n",
              "    </tr>\n",
              "    <tr>\n",
              "      <th>1</th>\n",
              "      <td>1</td>\n",
              "      <td>Gamers, We Just Spent 4 Days Trapped In A Roll...</td>\n",
              "      <td>https://ogn.theonion.com/gamers-we-just-spent-...</td>\n",
              "    </tr>\n",
              "    <tr>\n",
              "      <th>2</th>\n",
              "      <td>1</td>\n",
              "      <td>Defiant Florida Officials Announce They Will I...</td>\n",
              "      <td>https://www.theonion.com/defiant-florida-offic...</td>\n",
              "    </tr>\n",
              "    <tr>\n",
              "      <th>3</th>\n",
              "      <td>1</td>\n",
              "      <td>Employee Leaves Performance Review With Clear,...</td>\n",
              "      <td>https://www.theonion.com/employee-leaves-perfo...</td>\n",
              "    </tr>\n",
              "    <tr>\n",
              "      <th>4</th>\n",
              "      <td>1</td>\n",
              "      <td>Officials Warn Defunding Police Could Lead To ...</td>\n",
              "      <td>https://www.theonion.com/officials-warn-defund...</td>\n",
              "    </tr>\n",
              "  </tbody>\n",
              "</table>\n",
              "</div>"
            ],
            "text/plain": [
              "   is_sarcastic  ...                                       article_link\n",
              "0             1  ...  https://politics.theonion.com/nancy-pelosi-cal...\n",
              "1             1  ...  https://ogn.theonion.com/gamers-we-just-spent-...\n",
              "2             1  ...  https://www.theonion.com/defiant-florida-offic...\n",
              "3             1  ...  https://www.theonion.com/employee-leaves-perfo...\n",
              "4             1  ...  https://www.theonion.com/officials-warn-defund...\n",
              "\n",
              "[5 rows x 3 columns]"
            ]
          },
          "metadata": {
            "tags": []
          },
          "execution_count": 39
        }
      ]
    },
    {
      "cell_type": "code",
      "metadata": {
        "id": "u4p7odv-Vv0D",
        "colab_type": "code",
        "colab": {
          "base_uri": "https://localhost:8080/",
          "height": 34
        },
        "outputId": "fad1aa9c-c44e-4651-bc9a-036c86fa0a11"
      },
      "source": [
        "dataset_new.shape"
      ],
      "execution_count": 40,
      "outputs": [
        {
          "output_type": "execute_result",
          "data": {
            "text/plain": [
              "(2051, 3)"
            ]
          },
          "metadata": {
            "tags": []
          },
          "execution_count": 40
        }
      ]
    },
    {
      "cell_type": "markdown",
      "metadata": {
        "id": "6RC8wuvz7B9g",
        "colab_type": "text"
      },
      "source": [
        "Loại bỏ cột article link vì không ảnh hưởng tới việc dự đoán sarcasm"
      ]
    },
    {
      "cell_type": "code",
      "metadata": {
        "id": "qhFONNODWXvs",
        "colab_type": "code",
        "colab": {}
      },
      "source": [
        "dataset_new = dataset_new.drop(['article_link'], axis = 1)"
      ],
      "execution_count": 41,
      "outputs": []
    },
    {
      "cell_type": "code",
      "metadata": {
        "id": "vi_L-FhwWjaH",
        "colab_type": "code",
        "colab": {
          "base_uri": "https://localhost:8080/",
          "height": 204
        },
        "outputId": "8d4fc8ef-1df3-422b-bc86-7355c7947f83"
      },
      "source": [
        "dataset_new.head()"
      ],
      "execution_count": 42,
      "outputs": [
        {
          "output_type": "execute_result",
          "data": {
            "text/html": [
              "<div>\n",
              "<style scoped>\n",
              "    .dataframe tbody tr th:only-of-type {\n",
              "        vertical-align: middle;\n",
              "    }\n",
              "\n",
              "    .dataframe tbody tr th {\n",
              "        vertical-align: top;\n",
              "    }\n",
              "\n",
              "    .dataframe thead th {\n",
              "        text-align: right;\n",
              "    }\n",
              "</style>\n",
              "<table border=\"1\" class=\"dataframe\">\n",
              "  <thead>\n",
              "    <tr style=\"text-align: right;\">\n",
              "      <th></th>\n",
              "      <th>is_sarcastic</th>\n",
              "      <th>headline</th>\n",
              "    </tr>\n",
              "  </thead>\n",
              "  <tbody>\n",
              "    <tr>\n",
              "      <th>0</th>\n",
              "      <td>1</td>\n",
              "      <td>Nancy Pelosi Calls Jamaal Bowman To Scold Him ...</td>\n",
              "    </tr>\n",
              "    <tr>\n",
              "      <th>1</th>\n",
              "      <td>1</td>\n",
              "      <td>Gamers, We Just Spent 4 Days Trapped In A Roll...</td>\n",
              "    </tr>\n",
              "    <tr>\n",
              "      <th>2</th>\n",
              "      <td>1</td>\n",
              "      <td>Defiant Florida Officials Announce They Will I...</td>\n",
              "    </tr>\n",
              "    <tr>\n",
              "      <th>3</th>\n",
              "      <td>1</td>\n",
              "      <td>Employee Leaves Performance Review With Clear,...</td>\n",
              "    </tr>\n",
              "    <tr>\n",
              "      <th>4</th>\n",
              "      <td>1</td>\n",
              "      <td>Officials Warn Defunding Police Could Lead To ...</td>\n",
              "    </tr>\n",
              "  </tbody>\n",
              "</table>\n",
              "</div>"
            ],
            "text/plain": [
              "   is_sarcastic                                           headline\n",
              "0             1  Nancy Pelosi Calls Jamaal Bowman To Scold Him ...\n",
              "1             1  Gamers, We Just Spent 4 Days Trapped In A Roll...\n",
              "2             1  Defiant Florida Officials Announce They Will I...\n",
              "3             1  Employee Leaves Performance Review With Clear,...\n",
              "4             1  Officials Warn Defunding Police Could Lead To ..."
            ]
          },
          "metadata": {
            "tags": []
          },
          "execution_count": 42
        }
      ]
    },
    {
      "cell_type": "markdown",
      "metadata": {
        "id": "b66jS14-7Gqj",
        "colab_type": "text"
      },
      "source": [
        "Xử lý văn bản: \n",
        "*   Các ký tự đặc biệt\n",
        "*   Các dấu câu\n",
        "*   Các từ ngữ không cần thiết, thừa thãi (stop word) trong tiếng Anh"
      ]
    },
    {
      "cell_type": "code",
      "metadata": {
        "id": "LATMTdVnWljR",
        "colab_type": "code",
        "colab": {}
      },
      "source": [
        "dataset_new['headline'] = dataset_new['headline'].apply(lambda s: re.sub('[^a-zA-Z]', ' ', s))\n",
        "X_data_new = []\n",
        "Y_data_new = dataset_new['is_sarcastic']\n",
        "for item in dataset_new['headline']:\n",
        "  word_tokens = word_tokenize(item)\n",
        "  text = [word for word in word_tokens if word not in stop_words]\n",
        "  X_data_new.append(\" \".join(text))\n"
      ],
      "execution_count": null,
      "outputs": []
    },
    {
      "cell_type": "markdown",
      "metadata": {
        "id": "oWU5RF9v7aii",
        "colab_type": "text"
      },
      "source": [
        "Sử dụng kỹ thuật TF-IDF để chuyển dữ liệu sang ma trận"
      ]
    },
    {
      "cell_type": "code",
      "metadata": {
        "id": "y3CjdT5oXVJB",
        "colab_type": "code",
        "colab": {}
      },
      "source": [
        "X_data_newtf = vectorizer.transform(X_data_new).toarray()"
      ],
      "execution_count": 44,
      "outputs": []
    },
    {
      "cell_type": "markdown",
      "metadata": {
        "id": "b-Nc7B0B7pXn",
        "colab_type": "text"
      },
      "source": [
        "Sử dụng thuật toán naive bayes để predict bộ dữ liệu mới"
      ]
    },
    {
      "cell_type": "code",
      "metadata": {
        "id": "KKrO9qmqYNyr",
        "colab_type": "code",
        "colab": {
          "base_uri": "https://localhost:8080/",
          "height": 34
        },
        "outputId": "c4fcd4cf-f2f9-4bd7-cfe5-483cdee14cff"
      },
      "source": [
        "y_pred_new = modelnb.predict(X_data_newtf)\n",
        "print(\"Test score naive bayes: \", modelnb.score(X_data_newtf, Y_data_new))"
      ],
      "execution_count": 45,
      "outputs": [
        {
          "output_type": "stream",
          "text": [
            "Test score naive bayes:  0.7610921501706485\n"
          ],
          "name": "stdout"
        }
      ]
    },
    {
      "cell_type": "code",
      "metadata": {
        "id": "MOJzynyD757I",
        "colab_type": "code",
        "colab": {
          "base_uri": "https://localhost:8080/",
          "height": 51
        },
        "outputId": "e8bf9dd2-91f8-4329-ab09-dbe96ee5ba7f"
      },
      "source": [
        "matrix_new = confusion_matrix(Y_data_new, y_pred_new)\n",
        "print(matrix_new)"
      ],
      "execution_count": 48,
      "outputs": [
        {
          "output_type": "stream",
          "text": [
            "[[837 214]\n",
            " [276 724]]\n"
          ],
          "name": "stdout"
        }
      ]
    },
    {
      "cell_type": "code",
      "metadata": {
        "id": "LDtgqLoD8KVP",
        "colab_type": "code",
        "colab": {
          "base_uri": "https://localhost:8080/",
          "height": 34
        },
        "outputId": "735ed8fe-8df7-4054-99c1-5fb6becda148"
      },
      "source": [
        "print(f1_score(Y_data_new, y_pred_new, average='macro'))"
      ],
      "execution_count": 49,
      "outputs": [
        {
          "output_type": "stream",
          "text": [
            "0.7603647451781569\n"
          ],
          "name": "stdout"
        }
      ]
    },
    {
      "cell_type": "markdown",
      "metadata": {
        "id": "84KSjGI99S54",
        "colab_type": "text"
      },
      "source": [
        "Nhận xét: Trên bộ dữ liệu mới, giá trị f1_score nhỏ hơn so với bộ dữ liệu cũ khi dùng model đã train trên tập dữ liệu cũ (0.7603 < 0.79009). Tức là độ chính xác giảm đi, có thể do các headline mới chứa những từ mới không có trong tập dữ liệu cũ"
      ]
    },
    {
      "cell_type": "markdown",
      "metadata": {
        "id": "c9sOyf16Bapa",
        "colab_type": "text"
      },
      "source": [
        "Đoạn chương trình thực hiện sarcasm detection cho bất kỳ headline được nhập vào"
      ]
    },
    {
      "cell_type": "code",
      "metadata": {
        "id": "haA1PNZabX3M",
        "colab_type": "code",
        "colab": {
          "base_uri": "https://localhost:8080/",
          "height": 51
        },
        "outputId": "b30cd255-4435-40ec-b7e1-481e58298a87"
      },
      "source": [
        "print(\"Nhap du lieu moi: \")\n",
        "str1 = str(input())\n",
        "str1 = re.sub(r'[^a-zA-Z]', ' ', str1)\n",
        "word_tokens = word_tokenize(str1)\n",
        "str1 = [word for word in word_tokens if word not in stop_words]\n",
        "str1 = \" \".join(str1)"
      ],
      "execution_count": 54,
      "outputs": [
        {
          "output_type": "stream",
          "text": [
            "Nhap du lieu moi: \n",
            "Pros And Cons Of D.C. Statehood\n"
          ],
          "name": "stdout"
        }
      ]
    },
    {
      "cell_type": "code",
      "metadata": {
        "id": "5lc5bdW0dMEV",
        "colab_type": "code",
        "colab": {}
      },
      "source": [
        "str1_tf = vectorizer.transform([str1]).toarray()"
      ],
      "execution_count": 55,
      "outputs": []
    },
    {
      "cell_type": "code",
      "metadata": {
        "id": "Z5kCt7CWdg25",
        "colab_type": "code",
        "colab": {}
      },
      "source": [
        "y_pred = modelnb.predict(str1_tf)"
      ],
      "execution_count": 56,
      "outputs": []
    },
    {
      "cell_type": "code",
      "metadata": {
        "id": "X8t46KFqdmze",
        "colab_type": "code",
        "colab": {
          "base_uri": "https://localhost:8080/",
          "height": 34
        },
        "outputId": "d7943c01-1310-49d4-b4fb-d7a613de65cc"
      },
      "source": [
        "if (y_pred == 0):\n",
        "  print(\"Not sarcasm\")\n",
        "else:\n",
        "  print(\"Sarcasm\")"
      ],
      "execution_count": 57,
      "outputs": [
        {
          "output_type": "stream",
          "text": [
            "Not sarcasm\n"
          ],
          "name": "stdout"
        }
      ]
    }
  ]
}