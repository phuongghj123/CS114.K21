{
  "nbformat": 4,
  "nbformat_minor": 0,
  "metadata": {
    "colab": {
      "name": "Lab07.ipynb",
      "provenance": [],
      "collapsed_sections": [],
      "authorship_tag": "ABX9TyN7eUcnNEpvprJsIQLxOuFZ",
      "include_colab_link": true
    },
    "kernelspec": {
      "name": "python3",
      "display_name": "Python 3"
    }
  },
  "cells": [
    {
      "cell_type": "markdown",
      "metadata": {
        "id": "view-in-github",
        "colab_type": "text"
      },
      "source": [
        "<a href=\"https://colab.research.google.com/github/phuongghj123/CS114.K21/blob/master/Lab07.ipynb\" target=\"_parent\"><img src=\"https://colab.research.google.com/assets/colab-badge.svg\" alt=\"Open In Colab\"/></a>"
      ]
    },
    {
      "cell_type": "markdown",
      "metadata": {
        "id": "p65ZE6uNKOx8",
        "colab_type": "text"
      },
      "source": [
        "# **1. Lấy dữ liệu từ link google drive được cung cấp trong bài tập LAB-07 sử dụng thư viện PyDrive, google.colab, oauth2client**"
      ]
    },
    {
      "cell_type": "code",
      "metadata": {
        "id": "tisClU3OA91W",
        "colab_type": "code",
        "colab": {}
      },
      "source": [
        "from pydrive.auth import GoogleAuth\n",
        "from pydrive.drive import GoogleDrive\n",
        "from google.colab import auth\n",
        "from oauth2client.client import GoogleCredentials"
      ],
      "execution_count": null,
      "outputs": []
    },
    {
      "cell_type": "code",
      "metadata": {
        "id": "9f1zR6abA_V9",
        "colab_type": "code",
        "colab": {}
      },
      "source": [
        "auth.authenticate_user()\n",
        "gauth = GoogleAuth()\n",
        "gauth.credentials = GoogleCredentials.get_application_default()\n",
        "drive = GoogleDrive(gauth)"
      ],
      "execution_count": null,
      "outputs": []
    },
    {
      "cell_type": "markdown",
      "metadata": {
        "id": "QQQK6DsZ0OC1",
        "colab_type": "text"
      },
      "source": [
        "Lấy các file cần thiết tải về google colab"
      ]
    },
    {
      "cell_type": "code",
      "metadata": {
        "id": "kKD0X_snBFjx",
        "colab_type": "code",
        "colab": {}
      },
      "source": [
        "downloaded = drive.CreateFile({'id':\"1NJzCpdwCL9bTDD3wl6FJkNLhYVBB4-9z\"})\n",
        "downloaded.GetContentFile('MBq-aOehEeiaxBKyA9PBAg_30681ac0e7a111e8bebc0104e43381c0_house_images.zip')"
      ],
      "execution_count": null,
      "outputs": []
    },
    {
      "cell_type": "code",
      "metadata": {
        "id": "EDpiHthvBZw6",
        "colab_type": "code",
        "colab": {}
      },
      "source": [
        "downloaded = drive.CreateFile({'id':\"1pn4pHOYFDkw3Q-evJCp86oZNg0ujVcih\"})\n",
        "downloaded.GetContentFile('2SnLy-JAEemx8A5HK6Ls8g_0ccbc21b1656423ba7e9d7fe2971879a_home_data.sframe.zip')"
      ],
      "execution_count": null,
      "outputs": []
    },
    {
      "cell_type": "markdown",
      "metadata": {
        "id": "kGp3gwZXKkAj",
        "colab_type": "text"
      },
      "source": [
        "# **2. Cài đặt thư viện turicreate**"
      ]
    },
    {
      "cell_type": "code",
      "metadata": {
        "id": "jr7QrqrOK-yi",
        "colab_type": "code",
        "colab": {
          "base_uri": "https://localhost:8080/",
          "height": 1000
        },
        "outputId": "a876d7e1-0790-4fef-9a0c-226f55596e12"
      },
      "source": [
        "!pip install turicreate"
      ],
      "execution_count": null,
      "outputs": [
        {
          "output_type": "stream",
          "text": [
            "Collecting turicreate\n",
            "\u001b[?25l  Downloading https://files.pythonhosted.org/packages/e4/76/76c624d7ae1116b22cd559288596a1f9aa7a50f8f43f4481033fc047f5e9/turicreate-6.3-cp36-cp36m-manylinux1_x86_64.whl (91.9MB)\n",
            "\u001b[K     |████████████████████████████████| 91.9MB 111kB/s \n",
            "\u001b[?25hRequirement already satisfied: six>=1.10.0 in /usr/local/lib/python3.6/dist-packages (from turicreate) (1.15.0)\n",
            "Requirement already satisfied: numpy in /usr/local/lib/python3.6/dist-packages (from turicreate) (1.18.5)\n",
            "Collecting tensorflow<=2.0.1,>=2.0.0\n",
            "\u001b[?25l  Downloading https://files.pythonhosted.org/packages/43/16/b07e3f7a4a024b47918f7018967eb984b0c542458a6141d8c48515aa81d4/tensorflow-2.0.1-cp36-cp36m-manylinux2010_x86_64.whl (86.3MB)\n",
            "\u001b[K     |████████████████████████████████| 86.3MB 94kB/s \n",
            "\u001b[?25hCollecting coremltools==3.3\n",
            "\u001b[?25l  Downloading https://files.pythonhosted.org/packages/77/19/611916d1ef326d38857d93af5ba184f6ad7491642e0fa4f9082e7d82f034/coremltools-3.3-cp36-none-manylinux1_x86_64.whl (3.4MB)\n",
            "\u001b[K     |████████████████████████████████| 3.4MB 39.9MB/s \n",
            "\u001b[?25hCollecting resampy==0.2.1\n",
            "\u001b[?25l  Downloading https://files.pythonhosted.org/packages/14/b6/66a06d85474190b50aee1a6c09cdc95bb405ac47338b27e9b21409da1760/resampy-0.2.1.tar.gz (322kB)\n",
            "\u001b[K     |████████████████████████████████| 327kB 49.1MB/s \n",
            "\u001b[?25hRequirement already satisfied: prettytable==0.7.2 in /usr/local/lib/python3.6/dist-packages (from turicreate) (0.7.2)\n",
            "Requirement already satisfied: scipy>=1.1.0 in /usr/local/lib/python3.6/dist-packages (from turicreate) (1.4.1)\n",
            "Requirement already satisfied: decorator>=4.0.9 in /usr/local/lib/python3.6/dist-packages (from turicreate) (4.4.2)\n",
            "Requirement already satisfied: pandas>=0.23.2 in /usr/local/lib/python3.6/dist-packages (from turicreate) (1.0.5)\n",
            "Requirement already satisfied: pillow>=5.2.0 in /usr/local/lib/python3.6/dist-packages (from turicreate) (7.0.0)\n",
            "Requirement already satisfied: requests>=2.9.1 in /usr/local/lib/python3.6/dist-packages (from turicreate) (2.23.0)\n",
            "Collecting tensorflow-estimator<2.1.0,>=2.0.0\n",
            "\u001b[?25l  Downloading https://files.pythonhosted.org/packages/fc/08/8b927337b7019c374719145d1dceba21a8bb909b93b1ad6f8fb7d22c1ca1/tensorflow_estimator-2.0.1-py2.py3-none-any.whl (449kB)\n",
            "\u001b[K     |████████████████████████████████| 450kB 37.2MB/s \n",
            "\u001b[?25hRequirement already satisfied: termcolor>=1.1.0 in /usr/local/lib/python3.6/dist-packages (from tensorflow<=2.0.1,>=2.0.0->turicreate) (1.1.0)\n",
            "Requirement already satisfied: absl-py>=0.7.0 in /usr/local/lib/python3.6/dist-packages (from tensorflow<=2.0.1,>=2.0.0->turicreate) (0.9.0)\n",
            "Requirement already satisfied: protobuf>=3.6.1 in /usr/local/lib/python3.6/dist-packages (from tensorflow<=2.0.1,>=2.0.0->turicreate) (3.12.2)\n",
            "Requirement already satisfied: keras-preprocessing>=1.0.5 in /usr/local/lib/python3.6/dist-packages (from tensorflow<=2.0.1,>=2.0.0->turicreate) (1.1.2)\n",
            "Requirement already satisfied: keras-applications>=1.0.8 in /usr/local/lib/python3.6/dist-packages (from tensorflow<=2.0.1,>=2.0.0->turicreate) (1.0.8)\n",
            "Collecting tensorboard<2.1.0,>=2.0.0\n",
            "\u001b[?25l  Downloading https://files.pythonhosted.org/packages/76/54/99b9d5d52d5cb732f099baaaf7740403e83fe6b0cedde940fabd2b13d75a/tensorboard-2.0.2-py3-none-any.whl (3.8MB)\n",
            "\u001b[K     |████████████████████████████████| 3.8MB 42.9MB/s \n",
            "\u001b[?25hRequirement already satisfied: google-pasta>=0.1.6 in /usr/local/lib/python3.6/dist-packages (from tensorflow<=2.0.1,>=2.0.0->turicreate) (0.2.0)\n",
            "Requirement already satisfied: wrapt>=1.11.1 in /usr/local/lib/python3.6/dist-packages (from tensorflow<=2.0.1,>=2.0.0->turicreate) (1.12.1)\n",
            "Requirement already satisfied: grpcio>=1.8.6 in /usr/local/lib/python3.6/dist-packages (from tensorflow<=2.0.1,>=2.0.0->turicreate) (1.30.0)\n",
            "Requirement already satisfied: wheel>=0.26; python_version >= \"3\" in /usr/local/lib/python3.6/dist-packages (from tensorflow<=2.0.1,>=2.0.0->turicreate) (0.34.2)\n",
            "Collecting gast==0.2.2\n",
            "  Downloading https://files.pythonhosted.org/packages/4e/35/11749bf99b2d4e3cceb4d55ca22590b0d7c2c62b9de38ac4a4a7f4687421/gast-0.2.2.tar.gz\n",
            "Requirement already satisfied: astor>=0.6.0 in /usr/local/lib/python3.6/dist-packages (from tensorflow<=2.0.1,>=2.0.0->turicreate) (0.8.1)\n",
            "Requirement already satisfied: opt-einsum>=2.3.2 in /usr/local/lib/python3.6/dist-packages (from tensorflow<=2.0.1,>=2.0.0->turicreate) (3.2.1)\n",
            "Requirement already satisfied: numba>=0.32 in /usr/local/lib/python3.6/dist-packages (from resampy==0.2.1->turicreate) (0.48.0)\n",
            "Requirement already satisfied: python-dateutil>=2.6.1 in /usr/local/lib/python3.6/dist-packages (from pandas>=0.23.2->turicreate) (2.8.1)\n",
            "Requirement already satisfied: pytz>=2017.2 in /usr/local/lib/python3.6/dist-packages (from pandas>=0.23.2->turicreate) (2018.9)\n",
            "Requirement already satisfied: certifi>=2017.4.17 in /usr/local/lib/python3.6/dist-packages (from requests>=2.9.1->turicreate) (2020.6.20)\n",
            "Requirement already satisfied: urllib3!=1.25.0,!=1.25.1,<1.26,>=1.21.1 in /usr/local/lib/python3.6/dist-packages (from requests>=2.9.1->turicreate) (1.24.3)\n",
            "Requirement already satisfied: idna<3,>=2.5 in /usr/local/lib/python3.6/dist-packages (from requests>=2.9.1->turicreate) (2.10)\n",
            "Requirement already satisfied: chardet<4,>=3.0.2 in /usr/local/lib/python3.6/dist-packages (from requests>=2.9.1->turicreate) (3.0.4)\n",
            "Requirement already satisfied: setuptools in /usr/local/lib/python3.6/dist-packages (from protobuf>=3.6.1->tensorflow<=2.0.1,>=2.0.0->turicreate) (49.1.0)\n",
            "Requirement already satisfied: h5py in /usr/local/lib/python3.6/dist-packages (from keras-applications>=1.0.8->tensorflow<=2.0.1,>=2.0.0->turicreate) (2.10.0)\n",
            "Requirement already satisfied: google-auth<2,>=1.6.3 in /usr/local/lib/python3.6/dist-packages (from tensorboard<2.1.0,>=2.0.0->tensorflow<=2.0.1,>=2.0.0->turicreate) (1.17.2)\n",
            "Requirement already satisfied: werkzeug>=0.11.15 in /usr/local/lib/python3.6/dist-packages (from tensorboard<2.1.0,>=2.0.0->tensorflow<=2.0.1,>=2.0.0->turicreate) (1.0.1)\n",
            "Requirement already satisfied: google-auth-oauthlib<0.5,>=0.4.1 in /usr/local/lib/python3.6/dist-packages (from tensorboard<2.1.0,>=2.0.0->tensorflow<=2.0.1,>=2.0.0->turicreate) (0.4.1)\n",
            "Requirement already satisfied: markdown>=2.6.8 in /usr/local/lib/python3.6/dist-packages (from tensorboard<2.1.0,>=2.0.0->tensorflow<=2.0.1,>=2.0.0->turicreate) (3.2.2)\n",
            "Requirement already satisfied: llvmlite<0.32.0,>=0.31.0dev0 in /usr/local/lib/python3.6/dist-packages (from numba>=0.32->resampy==0.2.1->turicreate) (0.31.0)\n",
            "Requirement already satisfied: cachetools<5.0,>=2.0.0 in /usr/local/lib/python3.6/dist-packages (from google-auth<2,>=1.6.3->tensorboard<2.1.0,>=2.0.0->tensorflow<=2.0.1,>=2.0.0->turicreate) (4.1.1)\n",
            "Requirement already satisfied: rsa<5,>=3.1.4; python_version >= \"3\" in /usr/local/lib/python3.6/dist-packages (from google-auth<2,>=1.6.3->tensorboard<2.1.0,>=2.0.0->tensorflow<=2.0.1,>=2.0.0->turicreate) (4.6)\n",
            "Requirement already satisfied: pyasn1-modules>=0.2.1 in /usr/local/lib/python3.6/dist-packages (from google-auth<2,>=1.6.3->tensorboard<2.1.0,>=2.0.0->tensorflow<=2.0.1,>=2.0.0->turicreate) (0.2.8)\n",
            "Requirement already satisfied: requests-oauthlib>=0.7.0 in /usr/local/lib/python3.6/dist-packages (from google-auth-oauthlib<0.5,>=0.4.1->tensorboard<2.1.0,>=2.0.0->tensorflow<=2.0.1,>=2.0.0->turicreate) (1.3.0)\n",
            "Requirement already satisfied: importlib-metadata; python_version < \"3.8\" in /usr/local/lib/python3.6/dist-packages (from markdown>=2.6.8->tensorboard<2.1.0,>=2.0.0->tensorflow<=2.0.1,>=2.0.0->turicreate) (1.7.0)\n",
            "Requirement already satisfied: pyasn1>=0.1.3 in /usr/local/lib/python3.6/dist-packages (from rsa<5,>=3.1.4; python_version >= \"3\"->google-auth<2,>=1.6.3->tensorboard<2.1.0,>=2.0.0->tensorflow<=2.0.1,>=2.0.0->turicreate) (0.4.8)\n",
            "Requirement already satisfied: oauthlib>=3.0.0 in /usr/local/lib/python3.6/dist-packages (from requests-oauthlib>=0.7.0->google-auth-oauthlib<0.5,>=0.4.1->tensorboard<2.1.0,>=2.0.0->tensorflow<=2.0.1,>=2.0.0->turicreate) (3.1.0)\n",
            "Requirement already satisfied: zipp>=0.5 in /usr/local/lib/python3.6/dist-packages (from importlib-metadata; python_version < \"3.8\"->markdown>=2.6.8->tensorboard<2.1.0,>=2.0.0->tensorflow<=2.0.1,>=2.0.0->turicreate) (3.1.0)\n",
            "Building wheels for collected packages: resampy, gast\n",
            "  Building wheel for resampy (setup.py) ... \u001b[?25l\u001b[?25hdone\n",
            "  Created wheel for resampy: filename=resampy-0.2.1-cp36-none-any.whl size=320850 sha256=687d2db4e75ae2de020ca6571cc62b136be2f4bbd990a42ee951f3a4e9779fdf\n",
            "  Stored in directory: /root/.cache/pip/wheels/ff/4f/ed/2e6c676c23efe5394bb40ade50662e90eb46e29b48324c5f9b\n",
            "  Building wheel for gast (setup.py) ... \u001b[?25l\u001b[?25hdone\n",
            "  Created wheel for gast: filename=gast-0.2.2-cp36-none-any.whl size=7540 sha256=4901f12ace1e70a66de8948ace552b517936a9cf51944941b6f076b38831da93\n",
            "  Stored in directory: /root/.cache/pip/wheels/5c/2e/7e/a1d4d4fcebe6c381f378ce7743a3ced3699feb89bcfbdadadd\n",
            "Successfully built resampy gast\n",
            "\u001b[31mERROR: tensorflow-probability 0.10.0 has requirement gast>=0.3.2, but you'll have gast 0.2.2 which is incompatible.\u001b[0m\n",
            "Installing collected packages: tensorflow-estimator, tensorboard, gast, tensorflow, coremltools, resampy, turicreate\n",
            "  Found existing installation: tensorflow-estimator 2.2.0\n",
            "    Uninstalling tensorflow-estimator-2.2.0:\n",
            "      Successfully uninstalled tensorflow-estimator-2.2.0\n",
            "  Found existing installation: tensorboard 2.2.2\n",
            "    Uninstalling tensorboard-2.2.2:\n",
            "      Successfully uninstalled tensorboard-2.2.2\n",
            "  Found existing installation: gast 0.3.3\n",
            "    Uninstalling gast-0.3.3:\n",
            "      Successfully uninstalled gast-0.3.3\n",
            "  Found existing installation: tensorflow 2.2.0\n",
            "    Uninstalling tensorflow-2.2.0:\n",
            "      Successfully uninstalled tensorflow-2.2.0\n",
            "  Found existing installation: resampy 0.2.2\n",
            "    Uninstalling resampy-0.2.2:\n",
            "      Successfully uninstalled resampy-0.2.2\n",
            "Successfully installed coremltools-3.3 gast-0.2.2 resampy-0.2.1 tensorboard-2.0.2 tensorflow-2.0.1 tensorflow-estimator-2.0.1 turicreate-6.3\n"
          ],
          "name": "stdout"
        }
      ]
    },
    {
      "cell_type": "markdown",
      "metadata": {
        "id": "OvcNWYVoKr7I",
        "colab_type": "text"
      },
      "source": [
        "Thêm thư viện  turicreate"
      ]
    },
    {
      "cell_type": "code",
      "metadata": {
        "id": "C9ynNo_WNBFT",
        "colab_type": "code",
        "colab": {}
      },
      "source": [
        "import turicreate"
      ],
      "execution_count": null,
      "outputs": []
    },
    {
      "cell_type": "markdown",
      "metadata": {
        "id": "QdqNl1hsK269",
        "colab_type": "text"
      },
      "source": [
        "# **3. Tạo thư mục data trong ổ đĩa ảo của google colab để chứa dữ liệu home_data.sframe**"
      ]
    },
    {
      "cell_type": "markdown",
      "metadata": {
        "id": "2VVMqQBt02ps",
        "colab_type": "text"
      },
      "source": [
        "Tạo thư mục data sử dụng lệnh mkdir"
      ]
    },
    {
      "cell_type": "code",
      "metadata": {
        "id": "-PN3NJaiOSUD",
        "colab_type": "code",
        "colab": {}
      },
      "source": [
        "!mkdir data"
      ],
      "execution_count": null,
      "outputs": []
    },
    {
      "cell_type": "markdown",
      "metadata": {
        "id": "06m64Uuj07M1",
        "colab_type": "text"
      },
      "source": [
        "Hiển thị danh sách các file và thư mục có trong ổ đĩa ảo hiện thời của google colab"
      ]
    },
    {
      "cell_type": "code",
      "metadata": {
        "id": "0M9rFaHj9QO9",
        "colab_type": "code",
        "colab": {
          "base_uri": "https://localhost:8080/",
          "height": 102
        },
        "outputId": "7997b287-c46f-4241-d5c7-9d9264378153"
      },
      "source": [
        "!ls"
      ],
      "execution_count": null,
      "outputs": [
        {
          "output_type": "stream",
          "text": [
            "2SnLy-JAEemx8A5HK6Ls8g_0ccbc21b1656423ba7e9d7fe2971879a_home_data.sframe.zip\n",
            "adc.json\n",
            "data\n",
            "MBq-aOehEeiaxBKyA9PBAg_30681ac0e7a111e8bebc0104e43381c0_house_images.zip\n",
            "sample_data\n"
          ],
          "name": "stdout"
        }
      ]
    },
    {
      "cell_type": "markdown",
      "metadata": {
        "id": "r8mgORKwK83X",
        "colab_type": "text"
      },
      "source": [
        "Giải nén file 2SnLy-JAEemx8A5HK6Ls8g_0ccbc21b1656423ba7e9d7fe2971879a_home_data.sframe.zip vào thư mục data"
      ]
    },
    {
      "cell_type": "code",
      "metadata": {
        "id": "JiWaQ7gROIlj",
        "colab_type": "code",
        "colab": {
          "base_uri": "https://localhost:8080/",
          "height": 272
        },
        "outputId": "1b1c5763-bfb9-4dad-fd23-0c6cfbd19d63"
      },
      "source": [
        "!unzip 2SnLy-JAEemx8A5HK6Ls8g_0ccbc21b1656423ba7e9d7fe2971879a_home_data.sframe.zip -d data"
      ],
      "execution_count": null,
      "outputs": [
        {
          "output_type": "stream",
          "text": [
            "Archive:  2SnLy-JAEemx8A5HK6Ls8g_0ccbc21b1656423ba7e9d7fe2971879a_home_data.sframe.zip\n",
            "   creating: data/home_data.sframe/\n",
            "  inflating: data/home_data.sframe/m_1ce96d9d245ca490.0000  \n",
            "   creating: data/__MACOSX/\n",
            "   creating: data/__MACOSX/home_data.sframe/\n",
            "  inflating: data/__MACOSX/home_data.sframe/._m_1ce96d9d245ca490.0000  \n",
            "  inflating: data/home_data.sframe/dir_archive.ini  \n",
            "  inflating: data/__MACOSX/home_data.sframe/._dir_archive.ini  \n",
            "  inflating: data/home_data.sframe/m_1ce96d9d245ca490.frame_idx  \n",
            "  inflating: data/__MACOSX/home_data.sframe/._m_1ce96d9d245ca490.frame_idx  \n",
            " extracting: data/home_data.sframe/objects.bin  \n",
            "  inflating: data/__MACOSX/home_data.sframe/._objects.bin  \n",
            "  inflating: data/home_data.sframe/m_1ce96d9d245ca490.sidx  \n",
            "  inflating: data/__MACOSX/home_data.sframe/._m_1ce96d9d245ca490.sidx  \n",
            "  inflating: data/__MACOSX/._home_data.sframe  \n"
          ],
          "name": "stdout"
        }
      ]
    },
    {
      "cell_type": "markdown",
      "metadata": {
        "id": "Ci_r1oQk1JFM",
        "colab_type": "text"
      },
      "source": [
        "Hiển thị thông tin bên trong thư mục home_data.sframe"
      ]
    },
    {
      "cell_type": "code",
      "metadata": {
        "id": "-bkdNJleRRVp",
        "colab_type": "code",
        "colab": {
          "base_uri": "https://localhost:8080/",
          "height": 51
        },
        "outputId": "0314a28e-ffda-4cf6-b5e0-b579a079234f"
      },
      "source": [
        "!ls /content/data/home_data.sframe/"
      ],
      "execution_count": null,
      "outputs": [
        {
          "output_type": "stream",
          "text": [
            "dir_archive.ini\t\t m_1ce96d9d245ca490.frame_idx  objects.bin\n",
            "m_1ce96d9d245ca490.0000  m_1ce96d9d245ca490.sidx\n"
          ],
          "name": "stdout"
        }
      ]
    },
    {
      "cell_type": "markdown",
      "metadata": {
        "id": "Dn4xw7RiSGPE",
        "colab_type": "text"
      },
      "source": [
        "# **4. Hiển thị dữ liệu mua bán nhà đất**"
      ]
    },
    {
      "cell_type": "markdown",
      "metadata": {
        "id": "aPPyDPTJMGJf",
        "colab_type": "text"
      },
      "source": [
        "Sử dụng turicreate.SFrame để lấy dữ liệu từ thư mục home_data.sframe lưu vào biến \"sales\"\n"
      ]
    },
    {
      "cell_type": "code",
      "metadata": {
        "id": "_PT6Kd53RvL1",
        "colab_type": "code",
        "colab": {}
      },
      "source": [
        "sales = turicreate.SFrame('/content/data/home_data.sframe/')"
      ],
      "execution_count": null,
      "outputs": []
    },
    {
      "cell_type": "markdown",
      "metadata": {
        "id": "b3uQHhQ_1lEx",
        "colab_type": "text"
      },
      "source": [
        "Dữ liệu gồm có 21613 hàng và 21 cột\n",
        "\n",
        "Trong đó các cột hiển thị thông tin về ngôi nhà như giá, số lượng các loại phòng, diện tích,..."
      ]
    },
    {
      "cell_type": "code",
      "metadata": {
        "id": "8Zzygo-WRzsY",
        "colab_type": "code",
        "colab": {
          "base_uri": "https://localhost:8080/",
          "height": 701
        },
        "outputId": "ae470ae1-2ed0-4014-9c20-0e0f9ff6bf2d"
      },
      "source": [
        "sales"
      ],
      "execution_count": null,
      "outputs": [
        {
          "output_type": "execute_result",
          "data": {
            "text/html": [
              "<div style=\"max-height:1000px;max-width:1500px;overflow:auto;\"><table frame=\"box\" rules=\"cols\">\n",
              "    <tr>\n",
              "        <th style=\"padding-left: 1em; padding-right: 1em; text-align: center\">id</th>\n",
              "        <th style=\"padding-left: 1em; padding-right: 1em; text-align: center\">date</th>\n",
              "        <th style=\"padding-left: 1em; padding-right: 1em; text-align: center\">price</th>\n",
              "        <th style=\"padding-left: 1em; padding-right: 1em; text-align: center\">bedrooms</th>\n",
              "        <th style=\"padding-left: 1em; padding-right: 1em; text-align: center\">bathrooms</th>\n",
              "        <th style=\"padding-left: 1em; padding-right: 1em; text-align: center\">sqft_living</th>\n",
              "        <th style=\"padding-left: 1em; padding-right: 1em; text-align: center\">sqft_lot</th>\n",
              "        <th style=\"padding-left: 1em; padding-right: 1em; text-align: center\">floors</th>\n",
              "        <th style=\"padding-left: 1em; padding-right: 1em; text-align: center\">waterfront</th>\n",
              "    </tr>\n",
              "    <tr>\n",
              "        <td style=\"padding-left: 1em; padding-right: 1em; text-align: center; vertical-align: top\">7129300520</td>\n",
              "        <td style=\"padding-left: 1em; padding-right: 1em; text-align: center; vertical-align: top\">2014-10-13 00:00:00+00:00</td>\n",
              "        <td style=\"padding-left: 1em; padding-right: 1em; text-align: center; vertical-align: top\">221900.0</td>\n",
              "        <td style=\"padding-left: 1em; padding-right: 1em; text-align: center; vertical-align: top\">3.0</td>\n",
              "        <td style=\"padding-left: 1em; padding-right: 1em; text-align: center; vertical-align: top\">1.0</td>\n",
              "        <td style=\"padding-left: 1em; padding-right: 1em; text-align: center; vertical-align: top\">1180.0</td>\n",
              "        <td style=\"padding-left: 1em; padding-right: 1em; text-align: center; vertical-align: top\">5650.0</td>\n",
              "        <td style=\"padding-left: 1em; padding-right: 1em; text-align: center; vertical-align: top\">1.0</td>\n",
              "        <td style=\"padding-left: 1em; padding-right: 1em; text-align: center; vertical-align: top\">0</td>\n",
              "    </tr>\n",
              "    <tr>\n",
              "        <td style=\"padding-left: 1em; padding-right: 1em; text-align: center; vertical-align: top\">6414100192</td>\n",
              "        <td style=\"padding-left: 1em; padding-right: 1em; text-align: center; vertical-align: top\">2014-12-09 00:00:00+00:00</td>\n",
              "        <td style=\"padding-left: 1em; padding-right: 1em; text-align: center; vertical-align: top\">538000.0</td>\n",
              "        <td style=\"padding-left: 1em; padding-right: 1em; text-align: center; vertical-align: top\">3.0</td>\n",
              "        <td style=\"padding-left: 1em; padding-right: 1em; text-align: center; vertical-align: top\">2.25</td>\n",
              "        <td style=\"padding-left: 1em; padding-right: 1em; text-align: center; vertical-align: top\">2570.0</td>\n",
              "        <td style=\"padding-left: 1em; padding-right: 1em; text-align: center; vertical-align: top\">7242.0</td>\n",
              "        <td style=\"padding-left: 1em; padding-right: 1em; text-align: center; vertical-align: top\">2.0</td>\n",
              "        <td style=\"padding-left: 1em; padding-right: 1em; text-align: center; vertical-align: top\">0</td>\n",
              "    </tr>\n",
              "    <tr>\n",
              "        <td style=\"padding-left: 1em; padding-right: 1em; text-align: center; vertical-align: top\">5631500400</td>\n",
              "        <td style=\"padding-left: 1em; padding-right: 1em; text-align: center; vertical-align: top\">2015-02-25 00:00:00+00:00</td>\n",
              "        <td style=\"padding-left: 1em; padding-right: 1em; text-align: center; vertical-align: top\">180000.0</td>\n",
              "        <td style=\"padding-left: 1em; padding-right: 1em; text-align: center; vertical-align: top\">2.0</td>\n",
              "        <td style=\"padding-left: 1em; padding-right: 1em; text-align: center; vertical-align: top\">1.0</td>\n",
              "        <td style=\"padding-left: 1em; padding-right: 1em; text-align: center; vertical-align: top\">770.0</td>\n",
              "        <td style=\"padding-left: 1em; padding-right: 1em; text-align: center; vertical-align: top\">10000.0</td>\n",
              "        <td style=\"padding-left: 1em; padding-right: 1em; text-align: center; vertical-align: top\">1.0</td>\n",
              "        <td style=\"padding-left: 1em; padding-right: 1em; text-align: center; vertical-align: top\">0</td>\n",
              "    </tr>\n",
              "    <tr>\n",
              "        <td style=\"padding-left: 1em; padding-right: 1em; text-align: center; vertical-align: top\">2487200875</td>\n",
              "        <td style=\"padding-left: 1em; padding-right: 1em; text-align: center; vertical-align: top\">2014-12-09 00:00:00+00:00</td>\n",
              "        <td style=\"padding-left: 1em; padding-right: 1em; text-align: center; vertical-align: top\">604000.0</td>\n",
              "        <td style=\"padding-left: 1em; padding-right: 1em; text-align: center; vertical-align: top\">4.0</td>\n",
              "        <td style=\"padding-left: 1em; padding-right: 1em; text-align: center; vertical-align: top\">3.0</td>\n",
              "        <td style=\"padding-left: 1em; padding-right: 1em; text-align: center; vertical-align: top\">1960.0</td>\n",
              "        <td style=\"padding-left: 1em; padding-right: 1em; text-align: center; vertical-align: top\">5000.0</td>\n",
              "        <td style=\"padding-left: 1em; padding-right: 1em; text-align: center; vertical-align: top\">1.0</td>\n",
              "        <td style=\"padding-left: 1em; padding-right: 1em; text-align: center; vertical-align: top\">0</td>\n",
              "    </tr>\n",
              "    <tr>\n",
              "        <td style=\"padding-left: 1em; padding-right: 1em; text-align: center; vertical-align: top\">1954400510</td>\n",
              "        <td style=\"padding-left: 1em; padding-right: 1em; text-align: center; vertical-align: top\">2015-02-18 00:00:00+00:00</td>\n",
              "        <td style=\"padding-left: 1em; padding-right: 1em; text-align: center; vertical-align: top\">510000.0</td>\n",
              "        <td style=\"padding-left: 1em; padding-right: 1em; text-align: center; vertical-align: top\">3.0</td>\n",
              "        <td style=\"padding-left: 1em; padding-right: 1em; text-align: center; vertical-align: top\">2.0</td>\n",
              "        <td style=\"padding-left: 1em; padding-right: 1em; text-align: center; vertical-align: top\">1680.0</td>\n",
              "        <td style=\"padding-left: 1em; padding-right: 1em; text-align: center; vertical-align: top\">8080.0</td>\n",
              "        <td style=\"padding-left: 1em; padding-right: 1em; text-align: center; vertical-align: top\">1.0</td>\n",
              "        <td style=\"padding-left: 1em; padding-right: 1em; text-align: center; vertical-align: top\">0</td>\n",
              "    </tr>\n",
              "    <tr>\n",
              "        <td style=\"padding-left: 1em; padding-right: 1em; text-align: center; vertical-align: top\">7237550310</td>\n",
              "        <td style=\"padding-left: 1em; padding-right: 1em; text-align: center; vertical-align: top\">2014-05-12 00:00:00+00:00</td>\n",
              "        <td style=\"padding-left: 1em; padding-right: 1em; text-align: center; vertical-align: top\">1225000.0</td>\n",
              "        <td style=\"padding-left: 1em; padding-right: 1em; text-align: center; vertical-align: top\">4.0</td>\n",
              "        <td style=\"padding-left: 1em; padding-right: 1em; text-align: center; vertical-align: top\">4.5</td>\n",
              "        <td style=\"padding-left: 1em; padding-right: 1em; text-align: center; vertical-align: top\">5420.0</td>\n",
              "        <td style=\"padding-left: 1em; padding-right: 1em; text-align: center; vertical-align: top\">101930.0</td>\n",
              "        <td style=\"padding-left: 1em; padding-right: 1em; text-align: center; vertical-align: top\">1.0</td>\n",
              "        <td style=\"padding-left: 1em; padding-right: 1em; text-align: center; vertical-align: top\">0</td>\n",
              "    </tr>\n",
              "    <tr>\n",
              "        <td style=\"padding-left: 1em; padding-right: 1em; text-align: center; vertical-align: top\">1321400060</td>\n",
              "        <td style=\"padding-left: 1em; padding-right: 1em; text-align: center; vertical-align: top\">2014-06-27 00:00:00+00:00</td>\n",
              "        <td style=\"padding-left: 1em; padding-right: 1em; text-align: center; vertical-align: top\">257500.0</td>\n",
              "        <td style=\"padding-left: 1em; padding-right: 1em; text-align: center; vertical-align: top\">3.0</td>\n",
              "        <td style=\"padding-left: 1em; padding-right: 1em; text-align: center; vertical-align: top\">2.25</td>\n",
              "        <td style=\"padding-left: 1em; padding-right: 1em; text-align: center; vertical-align: top\">1715.0</td>\n",
              "        <td style=\"padding-left: 1em; padding-right: 1em; text-align: center; vertical-align: top\">6819.0</td>\n",
              "        <td style=\"padding-left: 1em; padding-right: 1em; text-align: center; vertical-align: top\">2.0</td>\n",
              "        <td style=\"padding-left: 1em; padding-right: 1em; text-align: center; vertical-align: top\">0</td>\n",
              "    </tr>\n",
              "    <tr>\n",
              "        <td style=\"padding-left: 1em; padding-right: 1em; text-align: center; vertical-align: top\">2008000270</td>\n",
              "        <td style=\"padding-left: 1em; padding-right: 1em; text-align: center; vertical-align: top\">2015-01-15 00:00:00+00:00</td>\n",
              "        <td style=\"padding-left: 1em; padding-right: 1em; text-align: center; vertical-align: top\">291850.0</td>\n",
              "        <td style=\"padding-left: 1em; padding-right: 1em; text-align: center; vertical-align: top\">3.0</td>\n",
              "        <td style=\"padding-left: 1em; padding-right: 1em; text-align: center; vertical-align: top\">1.5</td>\n",
              "        <td style=\"padding-left: 1em; padding-right: 1em; text-align: center; vertical-align: top\">1060.0</td>\n",
              "        <td style=\"padding-left: 1em; padding-right: 1em; text-align: center; vertical-align: top\">9711.0</td>\n",
              "        <td style=\"padding-left: 1em; padding-right: 1em; text-align: center; vertical-align: top\">1.0</td>\n",
              "        <td style=\"padding-left: 1em; padding-right: 1em; text-align: center; vertical-align: top\">0</td>\n",
              "    </tr>\n",
              "    <tr>\n",
              "        <td style=\"padding-left: 1em; padding-right: 1em; text-align: center; vertical-align: top\">2414600126</td>\n",
              "        <td style=\"padding-left: 1em; padding-right: 1em; text-align: center; vertical-align: top\">2015-04-15 00:00:00+00:00</td>\n",
              "        <td style=\"padding-left: 1em; padding-right: 1em; text-align: center; vertical-align: top\">229500.0</td>\n",
              "        <td style=\"padding-left: 1em; padding-right: 1em; text-align: center; vertical-align: top\">3.0</td>\n",
              "        <td style=\"padding-left: 1em; padding-right: 1em; text-align: center; vertical-align: top\">1.0</td>\n",
              "        <td style=\"padding-left: 1em; padding-right: 1em; text-align: center; vertical-align: top\">1780.0</td>\n",
              "        <td style=\"padding-left: 1em; padding-right: 1em; text-align: center; vertical-align: top\">7470.0</td>\n",
              "        <td style=\"padding-left: 1em; padding-right: 1em; text-align: center; vertical-align: top\">1.0</td>\n",
              "        <td style=\"padding-left: 1em; padding-right: 1em; text-align: center; vertical-align: top\">0</td>\n",
              "    </tr>\n",
              "    <tr>\n",
              "        <td style=\"padding-left: 1em; padding-right: 1em; text-align: center; vertical-align: top\">3793500160</td>\n",
              "        <td style=\"padding-left: 1em; padding-right: 1em; text-align: center; vertical-align: top\">2015-03-12 00:00:00+00:00</td>\n",
              "        <td style=\"padding-left: 1em; padding-right: 1em; text-align: center; vertical-align: top\">323000.0</td>\n",
              "        <td style=\"padding-left: 1em; padding-right: 1em; text-align: center; vertical-align: top\">3.0</td>\n",
              "        <td style=\"padding-left: 1em; padding-right: 1em; text-align: center; vertical-align: top\">2.5</td>\n",
              "        <td style=\"padding-left: 1em; padding-right: 1em; text-align: center; vertical-align: top\">1890.0</td>\n",
              "        <td style=\"padding-left: 1em; padding-right: 1em; text-align: center; vertical-align: top\">6560.0</td>\n",
              "        <td style=\"padding-left: 1em; padding-right: 1em; text-align: center; vertical-align: top\">2.0</td>\n",
              "        <td style=\"padding-left: 1em; padding-right: 1em; text-align: center; vertical-align: top\">0</td>\n",
              "    </tr>\n",
              "</table>\n",
              "<table frame=\"box\" rules=\"cols\">\n",
              "    <tr>\n",
              "        <th style=\"padding-left: 1em; padding-right: 1em; text-align: center\">view</th>\n",
              "        <th style=\"padding-left: 1em; padding-right: 1em; text-align: center\">condition</th>\n",
              "        <th style=\"padding-left: 1em; padding-right: 1em; text-align: center\">grade</th>\n",
              "        <th style=\"padding-left: 1em; padding-right: 1em; text-align: center\">sqft_above</th>\n",
              "        <th style=\"padding-left: 1em; padding-right: 1em; text-align: center\">sqft_basement</th>\n",
              "        <th style=\"padding-left: 1em; padding-right: 1em; text-align: center\">yr_built</th>\n",
              "        <th style=\"padding-left: 1em; padding-right: 1em; text-align: center\">yr_renovated</th>\n",
              "        <th style=\"padding-left: 1em; padding-right: 1em; text-align: center\">zipcode</th>\n",
              "        <th style=\"padding-left: 1em; padding-right: 1em; text-align: center\">lat</th>\n",
              "    </tr>\n",
              "    <tr>\n",
              "        <td style=\"padding-left: 1em; padding-right: 1em; text-align: center; vertical-align: top\">0</td>\n",
              "        <td style=\"padding-left: 1em; padding-right: 1em; text-align: center; vertical-align: top\">3</td>\n",
              "        <td style=\"padding-left: 1em; padding-right: 1em; text-align: center; vertical-align: top\">7.0</td>\n",
              "        <td style=\"padding-left: 1em; padding-right: 1em; text-align: center; vertical-align: top\">1180.0</td>\n",
              "        <td style=\"padding-left: 1em; padding-right: 1em; text-align: center; vertical-align: top\">0.0</td>\n",
              "        <td style=\"padding-left: 1em; padding-right: 1em; text-align: center; vertical-align: top\">1955.0</td>\n",
              "        <td style=\"padding-left: 1em; padding-right: 1em; text-align: center; vertical-align: top\">0.0</td>\n",
              "        <td style=\"padding-left: 1em; padding-right: 1em; text-align: center; vertical-align: top\">98178</td>\n",
              "        <td style=\"padding-left: 1em; padding-right: 1em; text-align: center; vertical-align: top\">47.51123398</td>\n",
              "    </tr>\n",
              "    <tr>\n",
              "        <td style=\"padding-left: 1em; padding-right: 1em; text-align: center; vertical-align: top\">0</td>\n",
              "        <td style=\"padding-left: 1em; padding-right: 1em; text-align: center; vertical-align: top\">3</td>\n",
              "        <td style=\"padding-left: 1em; padding-right: 1em; text-align: center; vertical-align: top\">7.0</td>\n",
              "        <td style=\"padding-left: 1em; padding-right: 1em; text-align: center; vertical-align: top\">2170.0</td>\n",
              "        <td style=\"padding-left: 1em; padding-right: 1em; text-align: center; vertical-align: top\">400.0</td>\n",
              "        <td style=\"padding-left: 1em; padding-right: 1em; text-align: center; vertical-align: top\">1951.0</td>\n",
              "        <td style=\"padding-left: 1em; padding-right: 1em; text-align: center; vertical-align: top\">1991.0</td>\n",
              "        <td style=\"padding-left: 1em; padding-right: 1em; text-align: center; vertical-align: top\">98125</td>\n",
              "        <td style=\"padding-left: 1em; padding-right: 1em; text-align: center; vertical-align: top\">47.72102274</td>\n",
              "    </tr>\n",
              "    <tr>\n",
              "        <td style=\"padding-left: 1em; padding-right: 1em; text-align: center; vertical-align: top\">0</td>\n",
              "        <td style=\"padding-left: 1em; padding-right: 1em; text-align: center; vertical-align: top\">3</td>\n",
              "        <td style=\"padding-left: 1em; padding-right: 1em; text-align: center; vertical-align: top\">6.0</td>\n",
              "        <td style=\"padding-left: 1em; padding-right: 1em; text-align: center; vertical-align: top\">770.0</td>\n",
              "        <td style=\"padding-left: 1em; padding-right: 1em; text-align: center; vertical-align: top\">0.0</td>\n",
              "        <td style=\"padding-left: 1em; padding-right: 1em; text-align: center; vertical-align: top\">1933.0</td>\n",
              "        <td style=\"padding-left: 1em; padding-right: 1em; text-align: center; vertical-align: top\">0.0</td>\n",
              "        <td style=\"padding-left: 1em; padding-right: 1em; text-align: center; vertical-align: top\">98028</td>\n",
              "        <td style=\"padding-left: 1em; padding-right: 1em; text-align: center; vertical-align: top\">47.73792661</td>\n",
              "    </tr>\n",
              "    <tr>\n",
              "        <td style=\"padding-left: 1em; padding-right: 1em; text-align: center; vertical-align: top\">0</td>\n",
              "        <td style=\"padding-left: 1em; padding-right: 1em; text-align: center; vertical-align: top\">5</td>\n",
              "        <td style=\"padding-left: 1em; padding-right: 1em; text-align: center; vertical-align: top\">7.0</td>\n",
              "        <td style=\"padding-left: 1em; padding-right: 1em; text-align: center; vertical-align: top\">1050.0</td>\n",
              "        <td style=\"padding-left: 1em; padding-right: 1em; text-align: center; vertical-align: top\">910.0</td>\n",
              "        <td style=\"padding-left: 1em; padding-right: 1em; text-align: center; vertical-align: top\">1965.0</td>\n",
              "        <td style=\"padding-left: 1em; padding-right: 1em; text-align: center; vertical-align: top\">0.0</td>\n",
              "        <td style=\"padding-left: 1em; padding-right: 1em; text-align: center; vertical-align: top\">98136</td>\n",
              "        <td style=\"padding-left: 1em; padding-right: 1em; text-align: center; vertical-align: top\">47.52082</td>\n",
              "    </tr>\n",
              "    <tr>\n",
              "        <td style=\"padding-left: 1em; padding-right: 1em; text-align: center; vertical-align: top\">0</td>\n",
              "        <td style=\"padding-left: 1em; padding-right: 1em; text-align: center; vertical-align: top\">3</td>\n",
              "        <td style=\"padding-left: 1em; padding-right: 1em; text-align: center; vertical-align: top\">8.0</td>\n",
              "        <td style=\"padding-left: 1em; padding-right: 1em; text-align: center; vertical-align: top\">1680.0</td>\n",
              "        <td style=\"padding-left: 1em; padding-right: 1em; text-align: center; vertical-align: top\">0.0</td>\n",
              "        <td style=\"padding-left: 1em; padding-right: 1em; text-align: center; vertical-align: top\">1987.0</td>\n",
              "        <td style=\"padding-left: 1em; padding-right: 1em; text-align: center; vertical-align: top\">0.0</td>\n",
              "        <td style=\"padding-left: 1em; padding-right: 1em; text-align: center; vertical-align: top\">98074</td>\n",
              "        <td style=\"padding-left: 1em; padding-right: 1em; text-align: center; vertical-align: top\">47.61681228</td>\n",
              "    </tr>\n",
              "    <tr>\n",
              "        <td style=\"padding-left: 1em; padding-right: 1em; text-align: center; vertical-align: top\">0</td>\n",
              "        <td style=\"padding-left: 1em; padding-right: 1em; text-align: center; vertical-align: top\">3</td>\n",
              "        <td style=\"padding-left: 1em; padding-right: 1em; text-align: center; vertical-align: top\">11.0</td>\n",
              "        <td style=\"padding-left: 1em; padding-right: 1em; text-align: center; vertical-align: top\">3890.0</td>\n",
              "        <td style=\"padding-left: 1em; padding-right: 1em; text-align: center; vertical-align: top\">1530.0</td>\n",
              "        <td style=\"padding-left: 1em; padding-right: 1em; text-align: center; vertical-align: top\">2001.0</td>\n",
              "        <td style=\"padding-left: 1em; padding-right: 1em; text-align: center; vertical-align: top\">0.0</td>\n",
              "        <td style=\"padding-left: 1em; padding-right: 1em; text-align: center; vertical-align: top\">98053</td>\n",
              "        <td style=\"padding-left: 1em; padding-right: 1em; text-align: center; vertical-align: top\">47.65611835</td>\n",
              "    </tr>\n",
              "    <tr>\n",
              "        <td style=\"padding-left: 1em; padding-right: 1em; text-align: center; vertical-align: top\">0</td>\n",
              "        <td style=\"padding-left: 1em; padding-right: 1em; text-align: center; vertical-align: top\">3</td>\n",
              "        <td style=\"padding-left: 1em; padding-right: 1em; text-align: center; vertical-align: top\">7.0</td>\n",
              "        <td style=\"padding-left: 1em; padding-right: 1em; text-align: center; vertical-align: top\">1715.0</td>\n",
              "        <td style=\"padding-left: 1em; padding-right: 1em; text-align: center; vertical-align: top\">0.0</td>\n",
              "        <td style=\"padding-left: 1em; padding-right: 1em; text-align: center; vertical-align: top\">1995.0</td>\n",
              "        <td style=\"padding-left: 1em; padding-right: 1em; text-align: center; vertical-align: top\">0.0</td>\n",
              "        <td style=\"padding-left: 1em; padding-right: 1em; text-align: center; vertical-align: top\">98003</td>\n",
              "        <td style=\"padding-left: 1em; padding-right: 1em; text-align: center; vertical-align: top\">47.30972002</td>\n",
              "    </tr>\n",
              "    <tr>\n",
              "        <td style=\"padding-left: 1em; padding-right: 1em; text-align: center; vertical-align: top\">0</td>\n",
              "        <td style=\"padding-left: 1em; padding-right: 1em; text-align: center; vertical-align: top\">3</td>\n",
              "        <td style=\"padding-left: 1em; padding-right: 1em; text-align: center; vertical-align: top\">7.0</td>\n",
              "        <td style=\"padding-left: 1em; padding-right: 1em; text-align: center; vertical-align: top\">1060.0</td>\n",
              "        <td style=\"padding-left: 1em; padding-right: 1em; text-align: center; vertical-align: top\">0.0</td>\n",
              "        <td style=\"padding-left: 1em; padding-right: 1em; text-align: center; vertical-align: top\">1963.0</td>\n",
              "        <td style=\"padding-left: 1em; padding-right: 1em; text-align: center; vertical-align: top\">0.0</td>\n",
              "        <td style=\"padding-left: 1em; padding-right: 1em; text-align: center; vertical-align: top\">98198</td>\n",
              "        <td style=\"padding-left: 1em; padding-right: 1em; text-align: center; vertical-align: top\">47.40949984</td>\n",
              "    </tr>\n",
              "    <tr>\n",
              "        <td style=\"padding-left: 1em; padding-right: 1em; text-align: center; vertical-align: top\">0</td>\n",
              "        <td style=\"padding-left: 1em; padding-right: 1em; text-align: center; vertical-align: top\">3</td>\n",
              "        <td style=\"padding-left: 1em; padding-right: 1em; text-align: center; vertical-align: top\">7.0</td>\n",
              "        <td style=\"padding-left: 1em; padding-right: 1em; text-align: center; vertical-align: top\">1050.0</td>\n",
              "        <td style=\"padding-left: 1em; padding-right: 1em; text-align: center; vertical-align: top\">730.0</td>\n",
              "        <td style=\"padding-left: 1em; padding-right: 1em; text-align: center; vertical-align: top\">1960.0</td>\n",
              "        <td style=\"padding-left: 1em; padding-right: 1em; text-align: center; vertical-align: top\">0.0</td>\n",
              "        <td style=\"padding-left: 1em; padding-right: 1em; text-align: center; vertical-align: top\">98146</td>\n",
              "        <td style=\"padding-left: 1em; padding-right: 1em; text-align: center; vertical-align: top\">47.51229381</td>\n",
              "    </tr>\n",
              "    <tr>\n",
              "        <td style=\"padding-left: 1em; padding-right: 1em; text-align: center; vertical-align: top\">0</td>\n",
              "        <td style=\"padding-left: 1em; padding-right: 1em; text-align: center; vertical-align: top\">3</td>\n",
              "        <td style=\"padding-left: 1em; padding-right: 1em; text-align: center; vertical-align: top\">7.0</td>\n",
              "        <td style=\"padding-left: 1em; padding-right: 1em; text-align: center; vertical-align: top\">1890.0</td>\n",
              "        <td style=\"padding-left: 1em; padding-right: 1em; text-align: center; vertical-align: top\">0.0</td>\n",
              "        <td style=\"padding-left: 1em; padding-right: 1em; text-align: center; vertical-align: top\">2003.0</td>\n",
              "        <td style=\"padding-left: 1em; padding-right: 1em; text-align: center; vertical-align: top\">0.0</td>\n",
              "        <td style=\"padding-left: 1em; padding-right: 1em; text-align: center; vertical-align: top\">98038</td>\n",
              "        <td style=\"padding-left: 1em; padding-right: 1em; text-align: center; vertical-align: top\">47.36840673</td>\n",
              "    </tr>\n",
              "</table>\n",
              "<table frame=\"box\" rules=\"cols\">\n",
              "    <tr>\n",
              "        <th style=\"padding-left: 1em; padding-right: 1em; text-align: center\">long</th>\n",
              "        <th style=\"padding-left: 1em; padding-right: 1em; text-align: center\">sqft_living15</th>\n",
              "        <th style=\"padding-left: 1em; padding-right: 1em; text-align: center\">sqft_lot15</th>\n",
              "    </tr>\n",
              "    <tr>\n",
              "        <td style=\"padding-left: 1em; padding-right: 1em; text-align: center; vertical-align: top\">-122.25677536</td>\n",
              "        <td style=\"padding-left: 1em; padding-right: 1em; text-align: center; vertical-align: top\">1340.0</td>\n",
              "        <td style=\"padding-left: 1em; padding-right: 1em; text-align: center; vertical-align: top\">5650.0</td>\n",
              "    </tr>\n",
              "    <tr>\n",
              "        <td style=\"padding-left: 1em; padding-right: 1em; text-align: center; vertical-align: top\">-122.3188624</td>\n",
              "        <td style=\"padding-left: 1em; padding-right: 1em; text-align: center; vertical-align: top\">1690.0</td>\n",
              "        <td style=\"padding-left: 1em; padding-right: 1em; text-align: center; vertical-align: top\">7639.0</td>\n",
              "    </tr>\n",
              "    <tr>\n",
              "        <td style=\"padding-left: 1em; padding-right: 1em; text-align: center; vertical-align: top\">-122.23319601</td>\n",
              "        <td style=\"padding-left: 1em; padding-right: 1em; text-align: center; vertical-align: top\">2720.0</td>\n",
              "        <td style=\"padding-left: 1em; padding-right: 1em; text-align: center; vertical-align: top\">8062.0</td>\n",
              "    </tr>\n",
              "    <tr>\n",
              "        <td style=\"padding-left: 1em; padding-right: 1em; text-align: center; vertical-align: top\">-122.39318505</td>\n",
              "        <td style=\"padding-left: 1em; padding-right: 1em; text-align: center; vertical-align: top\">1360.0</td>\n",
              "        <td style=\"padding-left: 1em; padding-right: 1em; text-align: center; vertical-align: top\">5000.0</td>\n",
              "    </tr>\n",
              "    <tr>\n",
              "        <td style=\"padding-left: 1em; padding-right: 1em; text-align: center; vertical-align: top\">-122.04490059</td>\n",
              "        <td style=\"padding-left: 1em; padding-right: 1em; text-align: center; vertical-align: top\">1800.0</td>\n",
              "        <td style=\"padding-left: 1em; padding-right: 1em; text-align: center; vertical-align: top\">7503.0</td>\n",
              "    </tr>\n",
              "    <tr>\n",
              "        <td style=\"padding-left: 1em; padding-right: 1em; text-align: center; vertical-align: top\">-122.00528655</td>\n",
              "        <td style=\"padding-left: 1em; padding-right: 1em; text-align: center; vertical-align: top\">4760.0</td>\n",
              "        <td style=\"padding-left: 1em; padding-right: 1em; text-align: center; vertical-align: top\">101930.0</td>\n",
              "    </tr>\n",
              "    <tr>\n",
              "        <td style=\"padding-left: 1em; padding-right: 1em; text-align: center; vertical-align: top\">-122.32704857</td>\n",
              "        <td style=\"padding-left: 1em; padding-right: 1em; text-align: center; vertical-align: top\">2238.0</td>\n",
              "        <td style=\"padding-left: 1em; padding-right: 1em; text-align: center; vertical-align: top\">6819.0</td>\n",
              "    </tr>\n",
              "    <tr>\n",
              "        <td style=\"padding-left: 1em; padding-right: 1em; text-align: center; vertical-align: top\">-122.31457273</td>\n",
              "        <td style=\"padding-left: 1em; padding-right: 1em; text-align: center; vertical-align: top\">1650.0</td>\n",
              "        <td style=\"padding-left: 1em; padding-right: 1em; text-align: center; vertical-align: top\">9711.0</td>\n",
              "    </tr>\n",
              "    <tr>\n",
              "        <td style=\"padding-left: 1em; padding-right: 1em; text-align: center; vertical-align: top\">-122.33659507</td>\n",
              "        <td style=\"padding-left: 1em; padding-right: 1em; text-align: center; vertical-align: top\">1780.0</td>\n",
              "        <td style=\"padding-left: 1em; padding-right: 1em; text-align: center; vertical-align: top\">8113.0</td>\n",
              "    </tr>\n",
              "    <tr>\n",
              "        <td style=\"padding-left: 1em; padding-right: 1em; text-align: center; vertical-align: top\">-122.0308176</td>\n",
              "        <td style=\"padding-left: 1em; padding-right: 1em; text-align: center; vertical-align: top\">2390.0</td>\n",
              "        <td style=\"padding-left: 1em; padding-right: 1em; text-align: center; vertical-align: top\">7570.0</td>\n",
              "    </tr>\n",
              "</table>\n",
              "[21613 rows x 21 columns]<br/>Note: Only the head of the SFrame is printed.<br/>You can use print_rows(num_rows=m, num_columns=n) to print more rows and columns.\n",
              "</div>"
            ],
            "text/plain": [
              "Columns:\n",
              "\tid\tstr\n",
              "\tdate\tdatetime\n",
              "\tprice\tfloat\n",
              "\tbedrooms\tfloat\n",
              "\tbathrooms\tfloat\n",
              "\tsqft_living\tfloat\n",
              "\tsqft_lot\tfloat\n",
              "\tfloors\tfloat\n",
              "\twaterfront\tint\n",
              "\tview\tint\n",
              "\tcondition\tint\n",
              "\tgrade\tfloat\n",
              "\tsqft_above\tfloat\n",
              "\tsqft_basement\tfloat\n",
              "\tyr_built\tfloat\n",
              "\tyr_renovated\tfloat\n",
              "\tzipcode\tstr\n",
              "\tlat\tfloat\n",
              "\tlong\tfloat\n",
              "\tsqft_living15\tfloat\n",
              "\tsqft_lot15\tfloat\n",
              "\n",
              "Rows: 21613\n",
              "\n",
              "Data:\n",
              "+------------+---------------------------+-----------+----------+-----------+\n",
              "|     id     |            date           |   price   | bedrooms | bathrooms |\n",
              "+------------+---------------------------+-----------+----------+-----------+\n",
              "| 7129300520 | 2014-10-13 00:00:00+00:00 |  221900.0 |   3.0    |    1.0    |\n",
              "| 6414100192 | 2014-12-09 00:00:00+00:00 |  538000.0 |   3.0    |    2.25   |\n",
              "| 5631500400 | 2015-02-25 00:00:00+00:00 |  180000.0 |   2.0    |    1.0    |\n",
              "| 2487200875 | 2014-12-09 00:00:00+00:00 |  604000.0 |   4.0    |    3.0    |\n",
              "| 1954400510 | 2015-02-18 00:00:00+00:00 |  510000.0 |   3.0    |    2.0    |\n",
              "| 7237550310 | 2014-05-12 00:00:00+00:00 | 1225000.0 |   4.0    |    4.5    |\n",
              "| 1321400060 | 2014-06-27 00:00:00+00:00 |  257500.0 |   3.0    |    2.25   |\n",
              "| 2008000270 | 2015-01-15 00:00:00+00:00 |  291850.0 |   3.0    |    1.5    |\n",
              "| 2414600126 | 2015-04-15 00:00:00+00:00 |  229500.0 |   3.0    |    1.0    |\n",
              "| 3793500160 | 2015-03-12 00:00:00+00:00 |  323000.0 |   3.0    |    2.5    |\n",
              "+------------+---------------------------+-----------+----------+-----------+\n",
              "+-------------+----------+--------+------------+------+-----------+-------+\n",
              "| sqft_living | sqft_lot | floors | waterfront | view | condition | grade |\n",
              "+-------------+----------+--------+------------+------+-----------+-------+\n",
              "|    1180.0   |  5650.0  |  1.0   |     0      |  0   |     3     |  7.0  |\n",
              "|    2570.0   |  7242.0  |  2.0   |     0      |  0   |     3     |  7.0  |\n",
              "|    770.0    | 10000.0  |  1.0   |     0      |  0   |     3     |  6.0  |\n",
              "|    1960.0   |  5000.0  |  1.0   |     0      |  0   |     5     |  7.0  |\n",
              "|    1680.0   |  8080.0  |  1.0   |     0      |  0   |     3     |  8.0  |\n",
              "|    5420.0   | 101930.0 |  1.0   |     0      |  0   |     3     |  11.0 |\n",
              "|    1715.0   |  6819.0  |  2.0   |     0      |  0   |     3     |  7.0  |\n",
              "|    1060.0   |  9711.0  |  1.0   |     0      |  0   |     3     |  7.0  |\n",
              "|    1780.0   |  7470.0  |  1.0   |     0      |  0   |     3     |  7.0  |\n",
              "|    1890.0   |  6560.0  |  2.0   |     0      |  0   |     3     |  7.0  |\n",
              "+-------------+----------+--------+------------+------+-----------+-------+\n",
              "+------------+---------------+----------+--------------+---------+-------------+\n",
              "| sqft_above | sqft_basement | yr_built | yr_renovated | zipcode |     lat     |\n",
              "+------------+---------------+----------+--------------+---------+-------------+\n",
              "|   1180.0   |      0.0      |  1955.0  |     0.0      |  98178  | 47.51123398 |\n",
              "|   2170.0   |     400.0     |  1951.0  |    1991.0    |  98125  | 47.72102274 |\n",
              "|   770.0    |      0.0      |  1933.0  |     0.0      |  98028  | 47.73792661 |\n",
              "|   1050.0   |     910.0     |  1965.0  |     0.0      |  98136  |   47.52082  |\n",
              "|   1680.0   |      0.0      |  1987.0  |     0.0      |  98074  | 47.61681228 |\n",
              "|   3890.0   |     1530.0    |  2001.0  |     0.0      |  98053  | 47.65611835 |\n",
              "|   1715.0   |      0.0      |  1995.0  |     0.0      |  98003  | 47.30972002 |\n",
              "|   1060.0   |      0.0      |  1963.0  |     0.0      |  98198  | 47.40949984 |\n",
              "|   1050.0   |     730.0     |  1960.0  |     0.0      |  98146  | 47.51229381 |\n",
              "|   1890.0   |      0.0      |  2003.0  |     0.0      |  98038  | 47.36840673 |\n",
              "+------------+---------------+----------+--------------+---------+-------------+\n",
              "+---------------+---------------+-----+\n",
              "|      long     | sqft_living15 | ... |\n",
              "+---------------+---------------+-----+\n",
              "| -122.25677536 |     1340.0    | ... |\n",
              "|  -122.3188624 |     1690.0    | ... |\n",
              "| -122.23319601 |     2720.0    | ... |\n",
              "| -122.39318505 |     1360.0    | ... |\n",
              "| -122.04490059 |     1800.0    | ... |\n",
              "| -122.00528655 |     4760.0    | ... |\n",
              "| -122.32704857 |     2238.0    | ... |\n",
              "| -122.31457273 |     1650.0    | ... |\n",
              "| -122.33659507 |     1780.0    | ... |\n",
              "|  -122.0308176 |     2390.0    | ... |\n",
              "+---------------+---------------+-----+\n",
              "[21613 rows x 21 columns]\n",
              "Note: Only the head of the SFrame is printed.\n",
              "You can use print_rows(num_rows=m, num_columns=n) to print more rows and columns."
            ]
          },
          "metadata": {
            "tags": []
          },
          "execution_count": 14
        }
      ]
    },
    {
      "cell_type": "markdown",
      "metadata": {
        "id": "PsraT-vzSWMK",
        "colab_type": "text"
      },
      "source": [
        "# **5. Khai phá dữ liệu**"
      ]
    },
    {
      "cell_type": "markdown",
      "metadata": {
        "id": "AZ1mHxtnNN9V",
        "colab_type": "text"
      },
      "source": [
        "Sử dụng lệnh sales.show() để trực quan hóa dữ liệu theo từng cột trong SFrame"
      ]
    },
    {
      "cell_type": "code",
      "metadata": {
        "id": "ZeCcA5gBR42_",
        "colab_type": "code",
        "colab": {
          "base_uri": "https://localhost:8080/",
          "height": 1000
        },
        "outputId": "7c416207-d40d-496c-bdbc-3fc96a5281d4"
      },
      "source": [
        "sales.show()"
      ],
      "execution_count": null,
      "outputs": [
        {
          "output_type": "display_data",
          "data": {
            "text/html": [
              "<pre>Materializing SFrame</pre>"
            ],
            "text/plain": [
              "Materializing SFrame"
            ]
          },
          "metadata": {
            "tags": []
          }
        },
        {
          "output_type": "display_data",
          "data": {
            "text/html": [
              "<pre>Warning: Skipping column 'date'. Unable to show columns of type 'datetime'; only [int, float, str] can be shown.</pre>"
            ],
            "text/plain": [
              "Warning: Skipping column 'date'. Unable to show columns of type 'datetime'; only [int, float, str] can be shown."
            ]
          },
          "metadata": {
            "tags": []
          }
        },
        {
          "output_type": "display_data",
          "data": {
            "text/html": [
              "<pre>Further warnings of unsupported type will be suppressed.</pre>"
            ],
            "text/plain": [
              "Further warnings of unsupported type will be suppressed."
            ]
          },
          "metadata": {
            "tags": []
          }
        },
        {
          "output_type": "display_data",
          "data": {
            "text/html": [
              "<html>                 <body>                     <iframe style=\"border:0;margin:0\" width=\"1000\" height=\"6300\" srcdoc='<html lang=\"en\">                         <head>                             <script src=\"https://cdnjs.cloudflare.com/ajax/libs/vega/5.4.0/vega.js\"></script>                             <script src=\"https://cdnjs.cloudflare.com/ajax/libs/vega-embed/4.0.0/vega-embed.js\"></script>                             <script src=\"https://cdnjs.cloudflare.com/ajax/libs/vega-tooltip/0.5.1/vega-tooltip.min.js\"></script>                             <link rel=\"stylesheet\" type=\"text/css\" href=\"https://cdnjs.cloudflare.com/ajax/libs/vega-tooltip/0.5.1/vega-tooltip.min.css\">                             <style>                             .vega-actions > a{                                 color:white;                                 text-decoration: none;                                 font-family: \"Arial\";                                 cursor:pointer;                                 padding:5px;                                 background:#AAAAAA;                                 border-radius:4px;                                 padding-left:10px;                                 padding-right:10px;                                 margin-right:5px;                             }                             .vega-actions{                                 margin-top:20px;                                 text-align:center                             }                            .vega-actions > a{                                 background:#999999;                            }                             </style>                         </head>                         <body>                             <div id=\"vis\">                             </div>                             <script>                                 var vega_json = \"{\\\"$schema\\\": \\\"https://vega.github.io/schema/vega/v4.json\\\", \\\"metadata\\\": {\\\"bubbleOpts\\\": {\\\"showAllFields\\\": false, \\\"fields\\\": [{\\\"field\\\": \\\"left\\\"}, {\\\"field\\\": \\\"right\\\"}, {\\\"field\\\": \\\"count\\\"}, {\\\"field\\\": \\\"label\\\"}]}}, \\\"width\\\": 800, \\\"height\\\": 6080, \\\"padding\\\": 8, \\\"data\\\": [{\\\"name\\\": \\\"pts_store\\\"}, {\\\"name\\\": \\\"source_2\\\", \\\"values\\\": [{\\\"a\\\": 0, \\\"title\\\": \\\"id\\\", \\\"num_row\\\": 21613, \\\"type\\\": \\\"str\\\", \\\"num_unique\\\": 21436, \\\"num_missing\\\": 0, \\\"categorical\\\": [{\\\"label\\\": \\\"0795000620\\\", \\\"label_idx\\\": 0, \\\"count\\\": 3, \\\"percentage\\\": \\\"0.0138805%\\\"}, {\\\"label\\\": \\\"0001000102\\\", \\\"label_idx\\\": 1, \\\"count\\\": 2, \\\"percentage\\\": \\\"0.00925369%\\\"}, {\\\"label\\\": \\\"0007200179\\\", \\\"label_idx\\\": 2, \\\"count\\\": 2, \\\"percentage\\\": \\\"0.00925369%\\\"}, {\\\"label\\\": \\\"0109200390\\\", \\\"label_idx\\\": 3, \\\"count\\\": 2, \\\"percentage\\\": \\\"0.00925369%\\\"}, {\\\"label\\\": \\\"0123039336\\\", \\\"label_idx\\\": 4, \\\"count\\\": 2, \\\"percentage\\\": \\\"0.00925369%\\\"}, {\\\"label\\\": \\\"0251300110\\\", \\\"label_idx\\\": 5, \\\"count\\\": 2, \\\"percentage\\\": \\\"0.00925369%\\\"}, {\\\"label\\\": \\\"0302000375\\\", \\\"label_idx\\\": 6, \\\"count\\\": 2, \\\"percentage\\\": \\\"0.00925369%\\\"}, {\\\"label\\\": \\\"0324000530\\\", \\\"label_idx\\\": 7, \\\"count\\\": 2, \\\"percentage\\\": \\\"0.00925369%\\\"}, {\\\"label\\\": \\\"0526059224\\\", \\\"label_idx\\\": 8, \\\"count\\\": 2, \\\"percentage\\\": \\\"0.00925369%\\\"}, {\\\"label\\\": \\\"0641900050\\\", \\\"label_idx\\\": 9, \\\"count\\\": 2, \\\"percentage\\\": \\\"0.00925369%\\\"}, {\\\"label\\\": \\\"Other (21426 labels)\\\", \\\"label_idx\\\": 10, \\\"count\\\": 21592, \\\"percentage\\\": \\\"99.9028%\\\"}], \\\"numeric\\\": []}, {\\\"a\\\": 1, \\\"title\\\": \\\"price\\\", \\\"num_row\\\": 21613, \\\"type\\\": \\\"float\\\", \\\"num_unique\\\": 4032, \\\"num_missing\\\": 0, \\\"mean\\\": 540088.141905, \\\"min\\\": 75000.0, \\\"max\\\": 7700000.0, \\\"median\\\": 450000.0, \\\"stdev\\\": 367118.702667, \\\"numeric\\\": [{\\\"left\\\": 36033.2, \\\"right\\\": 420411, \\\"count\\\": 9578}, {\\\"left\\\": 420411, \\\"right\\\": 804788, \\\"count\\\": 9110}, {\\\"left\\\": 804788, \\\"right\\\": 1189170.0, \\\"count\\\": 1897}, {\\\"left\\\": 1189170.0, \\\"right\\\": 1573540.0, \\\"count\\\": 561}, {\\\"left\\\": 1573540.0, \\\"right\\\": 1957920.0, \\\"count\\\": 248}, {\\\"left\\\": 1957920.0, \\\"right\\\": 2342300.0, \\\"count\\\": 88}, {\\\"left\\\": 2342300.0, \\\"right\\\": 2726680.0, \\\"count\\\": 60}, {\\\"left\\\": 2726680.0, \\\"right\\\": 3111050.0, \\\"count\\\": 32}, {\\\"left\\\": 3111050.0, \\\"right\\\": 3495430.0, \\\"count\\\": 17}, {\\\"left\\\": 3495430.0, \\\"right\\\": 3879810.0, \\\"count\\\": 10}, {\\\"left\\\": 3879810.0, \\\"right\\\": 4264190.0, \\\"count\\\": 2}, {\\\"left\\\": 4264190.0, \\\"right\\\": 4648560.0, \\\"count\\\": 2}, {\\\"left\\\": 4648560.0, \\\"right\\\": 5032940.0, \\\"count\\\": 1}, {\\\"left\\\": 5032940.0, \\\"right\\\": 5417320.0, \\\"count\\\": 3}, {\\\"left\\\": 5417320.0, \\\"right\\\": 5801700.0, \\\"count\\\": 1}, {\\\"left\\\": 5801700.0, \\\"right\\\": 6186070.0, \\\"count\\\": 0}, {\\\"left\\\": 6186070.0, \\\"right\\\": 6570450.0, \\\"count\\\": 0}, {\\\"left\\\": 6570450.0, \\\"right\\\": 6954830.0, \\\"count\\\": 1}, {\\\"left\\\": 6954830.0, \\\"right\\\": 7339210.0, \\\"count\\\": 1}, {\\\"left\\\": 7339210.0, \\\"right\\\": 7723590.0, \\\"count\\\": 1}, {\\\"start\\\": 36033.2, \\\"stop\\\": 7723590.0, \\\"step\\\": 384378}], \\\"categorical\\\": []}, {\\\"a\\\": 2, \\\"title\\\": \\\"bedrooms\\\", \\\"num_row\\\": 21613, \\\"type\\\": \\\"float\\\", \\\"num_unique\\\": 13, \\\"num_missing\\\": 0, \\\"mean\\\": 3.370842, \\\"min\\\": 0.0, \\\"max\\\": 33.0, \\\"median\\\": 3.0, \\\"stdev\\\": 0.93004, \\\"numeric\\\": [{\\\"left\\\": -0.057, \\\"right\\\": 1.60188, \\\"count\\\": 212}, {\\\"left\\\": 1.60188, \\\"right\\\": 3.26076, \\\"count\\\": 12584}, {\\\"left\\\": 3.26076, \\\"right\\\": 4.91964, \\\"count\\\": 6882}, {\\\"left\\\": 4.91964, \\\"right\\\": 6.57852, \\\"count\\\": 1873}, {\\\"left\\\": 6.57852, \\\"right\\\": 8.2374, \\\"count\\\": 51}, {\\\"left\\\": 8.2374, \\\"right\\\": 9.89628, \\\"count\\\": 6}, {\\\"left\\\": 9.89628, \\\"right\\\": 11.5552, \\\"count\\\": 4}, {\\\"left\\\": 11.5552, \\\"right\\\": 13.214, \\\"count\\\": 0}, {\\\"left\\\": 13.214, \\\"right\\\": 14.8729, \\\"count\\\": 0}, {\\\"left\\\": 14.8729, \\\"right\\\": 16.5318, \\\"count\\\": 0}, {\\\"left\\\": 16.5318, \\\"right\\\": 18.1907, \\\"count\\\": 0}, {\\\"left\\\": 18.1907, \\\"right\\\": 19.8496, \\\"count\\\": 0}, {\\\"left\\\": 19.8496, \\\"right\\\": 21.5084, \\\"count\\\": 0}, {\\\"left\\\": 21.5084, \\\"right\\\": 23.1673, \\\"count\\\": 0}, {\\\"left\\\": 23.1673, \\\"right\\\": 24.8262, \\\"count\\\": 0}, {\\\"left\\\": 24.8262, \\\"right\\\": 26.4851, \\\"count\\\": 0}, {\\\"left\\\": 26.4851, \\\"right\\\": 28.144, \\\"count\\\": 0}, {\\\"left\\\": 28.144, \\\"right\\\": 29.8028, \\\"count\\\": 0}, {\\\"left\\\": 29.8028, \\\"right\\\": 31.4617, \\\"count\\\": 0}, {\\\"left\\\": 31.4617, \\\"right\\\": 33.1206, \\\"count\\\": 1}, {\\\"start\\\": -0.057, \\\"stop\\\": 33.1206, \\\"step\\\": 1.65888}], \\\"categorical\\\": []}, {\\\"a\\\": 3, \\\"title\\\": \\\"bathrooms\\\", \\\"num_row\\\": 21613, \\\"type\\\": \\\"float\\\", \\\"num_unique\\\": 30, \\\"num_missing\\\": 0, \\\"mean\\\": 2.114757, \\\"min\\\": 0.0, \\\"max\\\": 8.0, \\\"median\\\": 2.25, \\\"stdev\\\": 0.770145, \\\"numeric\\\": [{\\\"left\\\": -0.195, \\\"right\\\": 0.225, \\\"count\\\": 10}, {\\\"left\\\": 0.225, \\\"right\\\": 0.645, \\\"count\\\": 4}, {\\\"left\\\": 0.645, \\\"right\\\": 1.065, \\\"count\\\": 3924}, {\\\"left\\\": 1.065, \\\"right\\\": 1.485, \\\"count\\\": 9}, {\\\"left\\\": 1.485, \\\"right\\\": 1.905, \\\"count\\\": 4494}, {\\\"left\\\": 1.905, \\\"right\\\": 2.325, \\\"count\\\": 3977}, {\\\"left\\\": 2.325, \\\"right\\\": 2.745, \\\"count\\\": 5380}, {\\\"left\\\": 2.745, \\\"right\\\": 3.165, \\\"count\\\": 1938}, {\\\"left\\\": 3.165, \\\"right\\\": 3.585, \\\"count\\\": 1320}, {\\\"left\\\": 3.585, \\\"right\\\": 4.005, \\\"count\\\": 291}, {\\\"left\\\": 4.005, \\\"right\\\": 4.425, \\\"count\\\": 79}, {\\\"left\\\": 4.425, \\\"right\\\": 4.845, \\\"count\\\": 123}, {\\\"left\\\": 4.845, \\\"right\\\": 5.265, \\\"count\\\": 34}, {\\\"left\\\": 5.265, \\\"right\\\": 5.685, \\\"count\\\": 10}, {\\\"left\\\": 5.685, \\\"right\\\": 6.105, \\\"count\\\": 10}, {\\\"left\\\": 6.105, \\\"right\\\": 6.525, \\\"count\\\": 4}, {\\\"left\\\": 6.525, \\\"right\\\": 6.945, \\\"count\\\": 2}, {\\\"left\\\": 6.945, \\\"right\\\": 7.365, \\\"count\\\": 0}, {\\\"left\\\": 7.365, \\\"right\\\": 7.785, \\\"count\\\": 2}, {\\\"left\\\": 7.785, \\\"right\\\": 8.205, \\\"count\\\": 2}, {\\\"start\\\": -0.195, \\\"stop\\\": 8.205, \\\"step\\\": 0.42}], \\\"categorical\\\": []}, {\\\"a\\\": 4, \\\"title\\\": \\\"sqft_living\\\", \\\"num_row\\\": 21613, \\\"type\\\": \\\"float\\\", \\\"num_unique\\\": 1038, \\\"num_missing\\\": 0, \\\"mean\\\": 2079.899736, \\\"min\\\": 290.0, \\\"max\\\": 13540.0, \\\"median\\\": 1910.0, \\\"stdev\\\": 918.419649, \\\"numeric\\\": [{\\\"left\\\": 273.72, \\\"right\\\": 940.92, \\\"count\\\": 1133}, {\\\"left\\\": 940.92, \\\"right\\\": 1608.12, \\\"count\\\": 6322}, {\\\"left\\\": 1608.12, \\\"right\\\": 2275.32, \\\"count\\\": 6718}, {\\\"left\\\": 2275.32, \\\"right\\\": 2942.52, \\\"count\\\": 4111}, {\\\"left\\\": 2942.52, \\\"right\\\": 3609.72, \\\"count\\\": 1991}, {\\\"left\\\": 3609.72, \\\"right\\\": 4276.92, \\\"count\\\": 800}, {\\\"left\\\": 4276.92, \\\"right\\\": 4944.12, \\\"count\\\": 318}, {\\\"left\\\": 4944.12, \\\"right\\\": 5611.32, \\\"count\\\": 115}, {\\\"left\\\": 5611.32, \\\"right\\\": 6278.52, \\\"count\\\": 52}, {\\\"left\\\": 6278.52, \\\"right\\\": 6945.72, \\\"count\\\": 23}, {\\\"left\\\": 6945.72, \\\"right\\\": 7612.92, \\\"count\\\": 15}, {\\\"left\\\": 7612.92, \\\"right\\\": 8280.12, \\\"count\\\": 8}, {\\\"left\\\": 8280.12, \\\"right\\\": 8947.32, \\\"count\\\": 1}, {\\\"left\\\": 8947.32, \\\"right\\\": 9614.52, \\\"count\\\": 1}, {\\\"left\\\": 9614.52, \\\"right\\\": 10281.7, \\\"count\\\": 3}, {\\\"left\\\": 10281.7, \\\"right\\\": 10948.9, \\\"count\\\": 0}, {\\\"left\\\": 10948.9, \\\"right\\\": 11616.1, \\\"count\\\": 0}, {\\\"left\\\": 11616.1, \\\"right\\\": 12283.3, \\\"count\\\": 1}, {\\\"left\\\": 12283.3, \\\"right\\\": 12950.5, \\\"count\\\": 0}, {\\\"left\\\": 12950.5, \\\"right\\\": 13617.7, \\\"count\\\": 1}, {\\\"start\\\": 273.72, \\\"stop\\\": 13617.7, \\\"step\\\": 667.2}], \\\"categorical\\\": []}, {\\\"a\\\": 5, \\\"title\\\": \\\"sqft_lot\\\", \\\"num_row\\\": 21613, \\\"type\\\": \\\"float\\\", \\\"num_unique\\\": 9782, \\\"num_missing\\\": 0, \\\"mean\\\": 15106.967566, \\\"min\\\": 520.0, \\\"max\\\": 1651359.0, \\\"median\\\": 7620.0, \\\"stdev\\\": 41419.553273, \\\"numeric\\\": [{\\\"left\\\": -19637.3, \\\"right\\\": 65133.5, \\\"count\\\": 20944}, {\\\"left\\\": 65133.5, \\\"right\\\": 149904, \\\"count\\\": 337}, {\\\"left\\\": 149904, \\\"right\\\": 234675, \\\"count\\\": 210}, {\\\"left\\\": 234675, \\\"right\\\": 319446, \\\"count\\\": 56}, {\\\"left\\\": 319446, \\\"right\\\": 404217, \\\"count\\\": 25}, {\\\"left\\\": 404217, \\\"right\\\": 488988, \\\"count\\\": 18}, {\\\"left\\\": 488988, \\\"right\\\": 573758, \\\"count\\\": 8}, {\\\"left\\\": 573758, \\\"right\\\": 658529, \\\"count\\\": 3}, {\\\"left\\\": 658529, \\\"right\\\": 743300, \\\"count\\\": 1}, {\\\"left\\\": 743300, \\\"right\\\": 828071, \\\"count\\\": 0}, {\\\"left\\\": 828071, \\\"right\\\": 912842, \\\"count\\\": 4}, {\\\"left\\\": 912842, \\\"right\\\": 997612, \\\"count\\\": 3}, {\\\"left\\\": 997612, \\\"right\\\": 1082380.0, \\\"count\\\": 2}, {\\\"left\\\": 1082380.0, \\\"right\\\": 1167150.0, \\\"count\\\": 1}, {\\\"left\\\": 1167150.0, \\\"right\\\": 1251920.0, \\\"count\\\": 0}, {\\\"left\\\": 1251920.0, \\\"right\\\": 1336700.0, \\\"count\\\": 0}, {\\\"left\\\": 1336700.0, \\\"right\\\": 1421470.0, \\\"count\\\": 0}, {\\\"left\\\": 1421470.0, \\\"right\\\": 1506240.0, \\\"count\\\": 0}, {\\\"left\\\": 1506240.0, \\\"right\\\": 1591010.0, \\\"count\\\": 0}, {\\\"left\\\": 1591010.0, \\\"right\\\": 1675780.0, \\\"count\\\": 1}, {\\\"start\\\": -19637.3, \\\"stop\\\": 1675780.0, \\\"step\\\": 84770.8}], \\\"categorical\\\": []}, {\\\"a\\\": 6, \\\"title\\\": \\\"floors\\\", \\\"num_row\\\": 21613, \\\"type\\\": \\\"float\\\", \\\"num_unique\\\": 6, \\\"num_missing\\\": 0, \\\"mean\\\": 1.494309, \\\"min\\\": 1.0, \\\"max\\\": 3.5, \\\"median\\\": 1.5, \\\"stdev\\\": 0.539976, \\\"numeric\\\": [{\\\"left\\\": 0.972, \\\"right\\\": 1.0984, \\\"count\\\": 10680}, {\\\"left\\\": 1.0984, \\\"right\\\": 1.2248, \\\"count\\\": 0}, {\\\"left\\\": 1.2248, \\\"right\\\": 1.3512, \\\"count\\\": 0}, {\\\"left\\\": 1.3512, \\\"right\\\": 1.4776, \\\"count\\\": 0}, {\\\"left\\\": 1.4776, \\\"right\\\": 1.604, \\\"count\\\": 1910}, {\\\"left\\\": 1.604, \\\"right\\\": 1.7304, \\\"count\\\": 0}, {\\\"left\\\": 1.7304, \\\"right\\\": 1.8568, \\\"count\\\": 0}, {\\\"left\\\": 1.8568, \\\"right\\\": 1.9832, \\\"count\\\": 0}, {\\\"left\\\": 1.9832, \\\"right\\\": 2.1096, \\\"count\\\": 8241}, {\\\"left\\\": 2.1096, \\\"right\\\": 2.236, \\\"count\\\": 0}, {\\\"left\\\": 2.236, \\\"right\\\": 2.3624, \\\"count\\\": 0}, {\\\"left\\\": 2.3624, \\\"right\\\": 2.4888, \\\"count\\\": 161}, {\\\"left\\\": 2.4888, \\\"right\\\": 2.6152, \\\"count\\\": 0}, {\\\"left\\\": 2.6152, \\\"right\\\": 2.7416, \\\"count\\\": 0}, {\\\"left\\\": 2.7416, \\\"right\\\": 2.868, \\\"count\\\": 0}, {\\\"left\\\": 2.868, \\\"right\\\": 2.9944, \\\"count\\\": 613}, {\\\"left\\\": 2.9944, \\\"right\\\": 3.1208, \\\"count\\\": 0}, {\\\"left\\\": 3.1208, \\\"right\\\": 3.2472, \\\"count\\\": 0}, {\\\"left\\\": 3.2472, \\\"right\\\": 3.3736, \\\"count\\\": 0}, {\\\"left\\\": 3.3736, \\\"right\\\": 3.5, \\\"count\\\": 8}, {\\\"start\\\": 0.972, \\\"stop\\\": 3.5, \\\"step\\\": 0.1264}], \\\"categorical\\\": []}, {\\\"a\\\": 7, \\\"title\\\": \\\"waterfront\\\", \\\"num_row\\\": 21613, \\\"type\\\": \\\"integer\\\", \\\"num_unique\\\": 2, \\\"num_missing\\\": 0, \\\"mean\\\": 0.007542, \\\"min\\\": 0.0, \\\"max\\\": 1.0, \\\"median\\\": 0.0, \\\"stdev\\\": 0.086515, \\\"numeric\\\": [{\\\"left\\\": -9, \\\"right\\\": -8, \\\"count\\\": 0}, {\\\"left\\\": -8, \\\"right\\\": -7, \\\"count\\\": 0}, {\\\"left\\\": -7, \\\"right\\\": -6, \\\"count\\\": 0}, {\\\"left\\\": -6, \\\"right\\\": -5, \\\"count\\\": 0}, {\\\"left\\\": -5, \\\"right\\\": -4, \\\"count\\\": 0}, {\\\"left\\\": -4, \\\"right\\\": -3, \\\"count\\\": 0}, {\\\"left\\\": -3, \\\"right\\\": -2, \\\"count\\\": 0}, {\\\"left\\\": -2, \\\"right\\\": -1, \\\"count\\\": 0}, {\\\"left\\\": -1, \\\"right\\\": 0, \\\"count\\\": 0}, {\\\"left\\\": 0, \\\"right\\\": 1, \\\"count\\\": 21450}, {\\\"left\\\": 1, \\\"right\\\": 2, \\\"count\\\": 163}, {\\\"left\\\": 2, \\\"right\\\": 3, \\\"count\\\": 0}, {\\\"left\\\": 3, \\\"right\\\": 4, \\\"count\\\": 0}, {\\\"left\\\": 4, \\\"right\\\": 5, \\\"count\\\": 0}, {\\\"left\\\": 5, \\\"right\\\": 6, \\\"count\\\": 0}, {\\\"left\\\": 6, \\\"right\\\": 7, \\\"count\\\": 0}, {\\\"left\\\": 7, \\\"right\\\": 8, \\\"count\\\": 0}, {\\\"left\\\": 8, \\\"right\\\": 9, \\\"count\\\": 0}, {\\\"left\\\": 9, \\\"right\\\": 10, \\\"count\\\": 0}, {\\\"left\\\": 10, \\\"right\\\": 11, \\\"count\\\": 0}, {\\\"start\\\": -9, \\\"stop\\\": 11, \\\"step\\\": 1}], \\\"categorical\\\": []}, {\\\"a\\\": 8, \\\"title\\\": \\\"view\\\", \\\"num_row\\\": 21613, \\\"type\\\": \\\"integer\\\", \\\"num_unique\\\": 5, \\\"num_missing\\\": 0, \\\"mean\\\": 0.234303, \\\"min\\\": 0.0, \\\"max\\\": 4.0, \\\"median\\\": 0.0, \\\"stdev\\\": 0.7663, \\\"numeric\\\": [{\\\"left\\\": -7, \\\"right\\\": -6, \\\"count\\\": 0}, {\\\"left\\\": -6, \\\"right\\\": -5, \\\"count\\\": 0}, {\\\"left\\\": -5, \\\"right\\\": -4, \\\"count\\\": 0}, {\\\"left\\\": -4, \\\"right\\\": -3, \\\"count\\\": 0}, {\\\"left\\\": -3, \\\"right\\\": -2, \\\"count\\\": 0}, {\\\"left\\\": -2, \\\"right\\\": -1, \\\"count\\\": 0}, {\\\"left\\\": -1, \\\"right\\\": 0, \\\"count\\\": 0}, {\\\"left\\\": 0, \\\"right\\\": 1, \\\"count\\\": 19489}, {\\\"left\\\": 1, \\\"right\\\": 2, \\\"count\\\": 332}, {\\\"left\\\": 2, \\\"right\\\": 3, \\\"count\\\": 963}, {\\\"left\\\": 3, \\\"right\\\": 4, \\\"count\\\": 510}, {\\\"left\\\": 4, \\\"right\\\": 5, \\\"count\\\": 319}, {\\\"left\\\": 5, \\\"right\\\": 6, \\\"count\\\": 0}, {\\\"left\\\": 6, \\\"right\\\": 7, \\\"count\\\": 0}, {\\\"left\\\": 7, \\\"right\\\": 8, \\\"count\\\": 0}, {\\\"left\\\": 8, \\\"right\\\": 9, \\\"count\\\": 0}, {\\\"left\\\": 9, \\\"right\\\": 10, \\\"count\\\": 0}, {\\\"left\\\": 10, \\\"right\\\": 11, \\\"count\\\": 0}, {\\\"left\\\": 11, \\\"right\\\": 12, \\\"count\\\": 0}, {\\\"left\\\": 12, \\\"right\\\": 13, \\\"count\\\": 0}, {\\\"start\\\": -7, \\\"stop\\\": 13, \\\"step\\\": 1}], \\\"categorical\\\": []}, {\\\"a\\\": 9, \\\"title\\\": \\\"condition\\\", \\\"num_row\\\": 21613, \\\"type\\\": \\\"integer\\\", \\\"num_unique\\\": 5, \\\"num_missing\\\": 0, \\\"mean\\\": 3.40943, \\\"min\\\": 1.0, \\\"max\\\": 5.0, \\\"median\\\": 3.0, \\\"stdev\\\": 0.650728, \\\"numeric\\\": [{\\\"left\\\": -6, \\\"right\\\": -5, \\\"count\\\": 0}, {\\\"left\\\": -5, \\\"right\\\": -4, \\\"count\\\": 0}, {\\\"left\\\": -4, \\\"right\\\": -3, \\\"count\\\": 0}, {\\\"left\\\": -3, \\\"right\\\": -2, \\\"count\\\": 0}, {\\\"left\\\": -2, \\\"right\\\": -1, \\\"count\\\": 0}, {\\\"left\\\": -1, \\\"right\\\": 0, \\\"count\\\": 0}, {\\\"left\\\": 0, \\\"right\\\": 1, \\\"count\\\": 0}, {\\\"left\\\": 1, \\\"right\\\": 2, \\\"count\\\": 30}, {\\\"left\\\": 2, \\\"right\\\": 3, \\\"count\\\": 172}, {\\\"left\\\": 3, \\\"right\\\": 4, \\\"count\\\": 14031}, {\\\"left\\\": 4, \\\"right\\\": 5, \\\"count\\\": 5679}, {\\\"left\\\": 5, \\\"right\\\": 6, \\\"count\\\": 1701}, {\\\"left\\\": 6, \\\"right\\\": 7, \\\"count\\\": 0}, {\\\"left\\\": 7, \\\"right\\\": 8, \\\"count\\\": 0}, {\\\"left\\\": 8, \\\"right\\\": 9, \\\"count\\\": 0}, {\\\"left\\\": 9, \\\"right\\\": 10, \\\"count\\\": 0}, {\\\"left\\\": 10, \\\"right\\\": 11, \\\"count\\\": 0}, {\\\"left\\\": 11, \\\"right\\\": 12, \\\"count\\\": 0}, {\\\"left\\\": 12, \\\"right\\\": 13, \\\"count\\\": 0}, {\\\"left\\\": 13, \\\"right\\\": 14, \\\"count\\\": 0}, {\\\"start\\\": -6, \\\"stop\\\": 14, \\\"step\\\": 1}], \\\"categorical\\\": []}, {\\\"a\\\": 10, \\\"title\\\": \\\"grade\\\", \\\"num_row\\\": 21613, \\\"type\\\": \\\"float\\\", \\\"num_unique\\\": 12, \\\"num_missing\\\": 0, \\\"mean\\\": 7.656873, \\\"min\\\": 1.0, \\\"max\\\": 13.0, \\\"median\\\": 7.0, \\\"stdev\\\": 1.175432, \\\"numeric\\\": [{\\\"left\\\": 0.90636, \\\"right\\\": 1.51564, \\\"count\\\": 1}, {\\\"left\\\": 1.51564, \\\"right\\\": 2.12492, \\\"count\\\": 0}, {\\\"left\\\": 2.12492, \\\"right\\\": 2.7342, \\\"count\\\": 0}, {\\\"left\\\": 2.7342, \\\"right\\\": 3.34348, \\\"count\\\": 3}, {\\\"left\\\": 3.34348, \\\"right\\\": 3.95276, \\\"count\\\": 0}, {\\\"left\\\": 3.95276, \\\"right\\\": 4.56204, \\\"count\\\": 29}, {\\\"left\\\": 4.56204, \\\"right\\\": 5.17132, \\\"count\\\": 242}, {\\\"left\\\": 5.17132, \\\"right\\\": 5.7806, \\\"count\\\": 0}, {\\\"left\\\": 5.7806, \\\"right\\\": 6.38988, \\\"count\\\": 2038}, {\\\"left\\\": 6.38988, \\\"right\\\": 6.99916, \\\"count\\\": 0}, {\\\"left\\\": 6.99916, \\\"right\\\": 7.60844, \\\"count\\\": 8981}, {\\\"left\\\": 7.60844, \\\"right\\\": 8.21772, \\\"count\\\": 6068}, {\\\"left\\\": 8.21772, \\\"right\\\": 8.827, \\\"count\\\": 0}, {\\\"left\\\": 8.827, \\\"right\\\": 9.43628, \\\"count\\\": 2615}, {\\\"left\\\": 9.43628, \\\"right\\\": 10.0456, \\\"count\\\": 1134}, {\\\"left\\\": 10.0456, \\\"right\\\": 10.6548, \\\"count\\\": 0}, {\\\"left\\\": 10.6548, \\\"right\\\": 11.2641, \\\"count\\\": 399}, {\\\"left\\\": 11.2641, \\\"right\\\": 11.8734, \\\"count\\\": 0}, {\\\"left\\\": 11.8734, \\\"right\\\": 12.4827, \\\"count\\\": 90}, {\\\"left\\\": 12.4827, \\\"right\\\": 13.092, \\\"count\\\": 13}, {\\\"start\\\": 0.90636, \\\"stop\\\": 13.092, \\\"step\\\": 0.60928}], \\\"categorical\\\": []}, {\\\"a\\\": 11, \\\"title\\\": \\\"sqft_above\\\", \\\"num_row\\\": 21613, \\\"type\\\": \\\"float\\\", \\\"num_unique\\\": 946, \\\"num_missing\\\": 0, \\\"mean\\\": 1788.390691, \\\"min\\\": 290.0, \\\"max\\\": 9410.0, \\\"median\\\": 1560.0, \\\"stdev\\\": 828.07182, \\\"numeric\\\": [{\\\"left\\\": 265.24, \\\"right\\\": 724.6, \\\"count\\\": 358}, {\\\"left\\\": 724.6, \\\"right\\\": 1183.96, \\\"count\\\": 4946}, {\\\"left\\\": 1183.96, \\\"right\\\": 1643.32, \\\"count\\\": 6444}, {\\\"left\\\": 1643.32, \\\"right\\\": 2102.68, \\\"count\\\": 3801}, {\\\"left\\\": 2102.68, \\\"right\\\": 2562.04, \\\"count\\\": 2480}, {\\\"left\\\": 2562.04, \\\"right\\\": 3021.4, \\\"count\\\": 1645}, {\\\"left\\\": 3021.4, \\\"right\\\": 3480.76, \\\"count\\\": 1011}, {\\\"left\\\": 3480.76, \\\"right\\\": 3940.12, \\\"count\\\": 477}, {\\\"left\\\": 3940.12, \\\"right\\\": 4399.48, \\\"count\\\": 241}, {\\\"left\\\": 4399.48, \\\"right\\\": 4858.84, \\\"count\\\": 106}, {\\\"left\\\": 4858.84, \\\"right\\\": 5318.2, \\\"count\\\": 46}, {\\\"left\\\": 5318.2, \\\"right\\\": 5777.56, \\\"count\\\": 24}, {\\\"left\\\": 5777.56, \\\"right\\\": 6236.92, \\\"count\\\": 15}, {\\\"left\\\": 6236.92, \\\"right\\\": 6696.28, \\\"count\\\": 9}, {\\\"left\\\": 6696.28, \\\"right\\\": 7155.64, \\\"count\\\": 1}, {\\\"left\\\": 7155.64, \\\"right\\\": 7615, \\\"count\\\": 2}, {\\\"left\\\": 7615, \\\"right\\\": 8074.36, \\\"count\\\": 4}, {\\\"left\\\": 8074.36, \\\"right\\\": 8533.72, \\\"count\\\": 0}, {\\\"left\\\": 8533.72, \\\"right\\\": 8993.08, \\\"count\\\": 2}, {\\\"left\\\": 8993.08, \\\"right\\\": 9452.44, \\\"count\\\": 1}, {\\\"start\\\": 265.24, \\\"stop\\\": 9452.44, \\\"step\\\": 459.36}], \\\"categorical\\\": []}, {\\\"a\\\": 12, \\\"title\\\": \\\"sqft_basement\\\", \\\"num_row\\\": 21613, \\\"type\\\": \\\"float\\\", \\\"num_unique\\\": 306, \\\"num_missing\\\": 0, \\\"mean\\\": 291.509045, \\\"min\\\": 0.0, \\\"max\\\": 4820.0, \\\"median\\\": 0.0, \\\"stdev\\\": 442.564804, \\\"numeric\\\": [{\\\"left\\\": -17.6, \\\"right\\\": 225.6, \\\"count\\\": 13765}, {\\\"left\\\": 225.6, \\\"right\\\": 468.8, \\\"count\\\": 1629}, {\\\"left\\\": 468.8, \\\"right\\\": 712, \\\"count\\\": 2100}, {\\\"left\\\": 712, \\\"right\\\": 955.2, \\\"count\\\": 1881}, {\\\"left\\\": 955.2, \\\"right\\\": 1198.4, \\\"count\\\": 1169}, {\\\"left\\\": 1198.4, \\\"right\\\": 1441.6, \\\"count\\\": 628}, {\\\"left\\\": 1441.6, \\\"right\\\": 1684.8, \\\"count\\\": 238}, {\\\"left\\\": 1684.8, \\\"right\\\": 1928, \\\"count\\\": 112}, {\\\"left\\\": 1928, \\\"right\\\": 2171.2, \\\"count\\\": 53}, {\\\"left\\\": 2171.2, \\\"right\\\": 2414.4, \\\"count\\\": 18}, {\\\"left\\\": 2414.4, \\\"right\\\": 2657.6, \\\"count\\\": 10}, {\\\"left\\\": 2657.6, \\\"right\\\": 2900.8, \\\"count\\\": 4}, {\\\"left\\\": 2900.8, \\\"right\\\": 3144, \\\"count\\\": 1}, {\\\"left\\\": 3144, \\\"right\\\": 3387.2, \\\"count\\\": 1}, {\\\"left\\\": 3387.2, \\\"right\\\": 3630.4, \\\"count\\\": 2}, {\\\"left\\\": 3630.4, \\\"right\\\": 3873.6, \\\"count\\\": 0}, {\\\"left\\\": 3873.6, \\\"right\\\": 4116.8, \\\"count\\\": 0}, {\\\"left\\\": 4116.8, \\\"right\\\": 4360, \\\"count\\\": 1}, {\\\"left\\\": 4360, \\\"right\\\": 4603.2, \\\"count\\\": 0}, {\\\"left\\\": 4603.2, \\\"right\\\": 4846.4, \\\"count\\\": 1}, {\\\"start\\\": -17.6, \\\"stop\\\": 4846.4, \\\"step\\\": 243.2}], \\\"categorical\\\": []}, {\\\"a\\\": 13, \\\"title\\\": \\\"yr_built\\\", \\\"num_row\\\": 21613, \\\"type\\\": \\\"float\\\", \\\"num_unique\\\": 116, \\\"num_missing\\\": 0, \\\"mean\\\": 1971.005136, \\\"min\\\": 1900.0, \\\"max\\\": 2015.0, \\\"median\\\": 1975.0, \\\"stdev\\\": 29.372731, \\\"numeric\\\": [{\\\"left\\\": 1899.88, \\\"right\\\": 1905.64, \\\"count\\\": 308}, {\\\"left\\\": 1905.64, \\\"right\\\": 1911.4, \\\"count\\\": 544}, {\\\"left\\\": 1911.4, \\\"right\\\": 1917.16, \\\"count\\\": 391}, {\\\"left\\\": 1917.16, \\\"right\\\": 1922.92, \\\"count\\\": 477}, {\\\"left\\\": 1922.92, \\\"right\\\": 1928.68, \\\"count\\\": 809}, {\\\"left\\\": 1928.68, \\\"right\\\": 1934.44, \\\"count\\\": 354}, {\\\"left\\\": 1934.44, \\\"right\\\": 1940.2, \\\"count\\\": 446}, {\\\"left\\\": 1940.2, \\\"right\\\": 1945.96, \\\"count\\\": 789}, {\\\"left\\\": 1945.96, \\\"right\\\": 1951.72, \\\"count\\\": 1298}, {\\\"left\\\": 1951.72, \\\"right\\\": 1957.48, \\\"count\\\": 1415}, {\\\"left\\\": 1957.48, \\\"right\\\": 1963.24, \\\"count\\\": 1598}, {\\\"left\\\": 1963.24, \\\"right\\\": 1969, \\\"count\\\": 1340}, {\\\"left\\\": 1969, \\\"right\\\": 1974.76, \\\"count\\\": 976}, {\\\"left\\\": 1974.76, \\\"right\\\": 1980.52, \\\"count\\\": 1829}, {\\\"left\\\": 1980.52, \\\"right\\\": 1986.28, \\\"count\\\": 1188}, {\\\"left\\\": 1986.28, \\\"right\\\": 1992.04, \\\"count\\\": 1596}, {\\\"left\\\": 1992.04, \\\"right\\\": 1997.8, \\\"count\\\": 992}, {\\\"left\\\": 1997.8, \\\"right\\\": 2003.56, \\\"count\\\": 1671}, {\\\"left\\\": 2003.56, \\\"right\\\": 2009.32, \\\"count\\\": 2351}, {\\\"left\\\": 2009.32, \\\"right\\\": 2015.08, \\\"count\\\": 1241}, {\\\"start\\\": 1899.88, \\\"stop\\\": 2015.08, \\\"step\\\": 5.76}], \\\"categorical\\\": []}, {\\\"a\\\": 14, \\\"title\\\": \\\"yr_renovated\\\", \\\"num_row\\\": 21613, \\\"type\\\": \\\"float\\\", \\\"num_unique\\\": 70, \\\"num_missing\\\": 0, \\\"mean\\\": 84.402258, \\\"min\\\": 0.0, \\\"max\\\": 2015.0, \\\"median\\\": 0.0, \\\"stdev\\\": 401.669947, \\\"numeric\\\": [{\\\"left\\\": -23.892, \\\"right\\\": 79.64, \\\"count\\\": 20699}, {\\\"left\\\": 79.64, \\\"right\\\": 183.172, \\\"count\\\": 0}, {\\\"left\\\": 183.172, \\\"right\\\": 286.704, \\\"count\\\": 0}, {\\\"left\\\": 286.704, \\\"right\\\": 390.236, \\\"count\\\": 0}, {\\\"left\\\": 390.236, \\\"right\\\": 493.768, \\\"count\\\": 0}, {\\\"left\\\": 493.768, \\\"right\\\": 597.3, \\\"count\\\": 0}, {\\\"left\\\": 597.3, \\\"right\\\": 700.832, \\\"count\\\": 0}, {\\\"left\\\": 700.832, \\\"right\\\": 804.364, \\\"count\\\": 0}, {\\\"left\\\": 804.364, \\\"right\\\": 907.896, \\\"count\\\": 0}, {\\\"left\\\": 907.896, \\\"right\\\": 1011.43, \\\"count\\\": 0}, {\\\"left\\\": 1011.43, \\\"right\\\": 1114.96, \\\"count\\\": 0}, {\\\"left\\\": 1114.96, \\\"right\\\": 1218.49, \\\"count\\\": 0}, {\\\"left\\\": 1218.49, \\\"right\\\": 1322.02, \\\"count\\\": 0}, {\\\"left\\\": 1322.02, \\\"right\\\": 1425.56, \\\"count\\\": 0}, {\\\"left\\\": 1425.56, \\\"right\\\": 1529.09, \\\"count\\\": 0}, {\\\"left\\\": 1529.09, \\\"right\\\": 1632.62, \\\"count\\\": 0}, {\\\"left\\\": 1632.62, \\\"right\\\": 1736.15, \\\"count\\\": 0}, {\\\"left\\\": 1736.15, \\\"right\\\": 1839.68, \\\"count\\\": 0}, {\\\"left\\\": 1839.68, \\\"right\\\": 1943.22, \\\"count\\\": 3}, {\\\"left\\\": 1943.22, \\\"right\\\": 2046.75, \\\"count\\\": 911}, {\\\"start\\\": -23.892, \\\"stop\\\": 2046.75, \\\"step\\\": 103.532}], \\\"categorical\\\": []}, {\\\"a\\\": 15, \\\"title\\\": \\\"zipcode\\\", \\\"num_row\\\": 21613, \\\"type\\\": \\\"str\\\", \\\"num_unique\\\": 70, \\\"num_missing\\\": 0, \\\"categorical\\\": [{\\\"label\\\": \\\"98103\\\", \\\"label_idx\\\": 0, \\\"count\\\": 602, \\\"percentage\\\": \\\"2.78536%\\\"}, {\\\"label\\\": \\\"98038\\\", \\\"label_idx\\\": 1, \\\"count\\\": 590, \\\"percentage\\\": \\\"2.72984%\\\"}, {\\\"label\\\": \\\"98115\\\", \\\"label_idx\\\": 2, \\\"count\\\": 583, \\\"percentage\\\": \\\"2.69745%\\\"}, {\\\"label\\\": \\\"98052\\\", \\\"label_idx\\\": 3, \\\"count\\\": 574, \\\"percentage\\\": \\\"2.65581%\\\"}, {\\\"label\\\": \\\"98117\\\", \\\"label_idx\\\": 4, \\\"count\\\": 553, \\\"percentage\\\": \\\"2.55865%\\\"}, {\\\"label\\\": \\\"98042\\\", \\\"label_idx\\\": 5, \\\"count\\\": 548, \\\"percentage\\\": \\\"2.53551%\\\"}, {\\\"label\\\": \\\"98034\\\", \\\"label_idx\\\": 6, \\\"count\\\": 545, \\\"percentage\\\": \\\"2.52163%\\\"}, {\\\"label\\\": \\\"98118\\\", \\\"label_idx\\\": 7, \\\"count\\\": 508, \\\"percentage\\\": \\\"2.35044%\\\"}, {\\\"label\\\": \\\"98023\\\", \\\"label_idx\\\": 8, \\\"count\\\": 499, \\\"percentage\\\": \\\"2.3088%\\\"}, {\\\"label\\\": \\\"98006\\\", \\\"label_idx\\\": 9, \\\"count\\\": 498, \\\"percentage\\\": \\\"2.30417%\\\"}, {\\\"label\\\": \\\"Other (60 labels)\\\", \\\"label_idx\\\": 10, \\\"count\\\": 16113, \\\"percentage\\\": \\\"74.5524%\\\"}], \\\"numeric\\\": []}, {\\\"a\\\": 16, \\\"title\\\": \\\"lat\\\", \\\"num_row\\\": 21613, \\\"type\\\": \\\"float\\\", \\\"num_unique\\\": 21431, \\\"num_missing\\\": 0, \\\"mean\\\": 47.560053, \\\"min\\\": 47.155933, \\\"max\\\": 47.777624, \\\"median\\\": 47.571723, \\\"stdev\\\": 0.13856, \\\"numeric\\\": [{\\\"left\\\": 47.1479, \\\"right\\\": 47.1798, \\\"count\\\": 9}, {\\\"left\\\": 47.1798, \\\"right\\\": 47.2117, \\\"count\\\": 153}, {\\\"left\\\": 47.2117, \\\"right\\\": 47.2435, \\\"count\\\": 41}, {\\\"left\\\": 47.2435, \\\"right\\\": 47.2754, \\\"count\\\": 261}, {\\\"left\\\": 47.2754, \\\"right\\\": 47.3073, \\\"count\\\": 517}, {\\\"left\\\": 47.3073, \\\"right\\\": 47.3392, \\\"count\\\": 878}, {\\\"left\\\": 47.3392, \\\"right\\\": 47.3711, \\\"count\\\": 1153}, {\\\"left\\\": 47.3711, \\\"right\\\": 47.403, \\\"count\\\": 815}, {\\\"left\\\": 47.403, \\\"right\\\": 47.4349, \\\"count\\\": 561}, {\\\"left\\\": 47.4349, \\\"right\\\": 47.4668, \\\"count\\\": 912}, {\\\"left\\\": 47.4668, \\\"right\\\": 47.4986, \\\"count\\\": 1255}, {\\\"left\\\": 47.4986, \\\"right\\\": 47.5305, \\\"count\\\": 1437}, {\\\"left\\\": 47.5305, \\\"right\\\": 47.5624, \\\"count\\\": 2177}, {\\\"left\\\": 47.5624, \\\"right\\\": 47.5943, \\\"count\\\": 1756}, {\\\"left\\\": 47.5943, \\\"right\\\": 47.6262, \\\"count\\\": 1296}, {\\\"left\\\": 47.6262, \\\"right\\\": 47.6581, \\\"count\\\": 1744}, {\\\"left\\\": 47.6581, \\\"right\\\": 47.69, \\\"count\\\": 2258}, {\\\"left\\\": 47.69, \\\"right\\\": 47.7219, \\\"count\\\": 1895}, {\\\"left\\\": 47.7219, \\\"right\\\": 47.7537, \\\"count\\\": 1553}, {\\\"left\\\": 47.7537, \\\"right\\\": 47.7856, \\\"count\\\": 942}, {\\\"start\\\": 47.1479, \\\"stop\\\": 47.7856, \\\"step\\\": 0.0318879}], \\\"categorical\\\": []}, {\\\"a\\\": 17, \\\"title\\\": \\\"long\\\", \\\"num_row\\\": 21613, \\\"type\\\": \\\"float\\\", \\\"num_unique\\\": 21432, \\\"num_missing\\\": 0, \\\"mean\\\": -122.213896, \\\"min\\\": -122.518648, \\\"max\\\": -121.315091, \\\"median\\\": -122.230595, \\\"stdev\\\": 0.140822, \\\"numeric\\\": [{\\\"left\\\": -122.532, \\\"right\\\": -122.471, \\\"count\\\": 37}, {\\\"left\\\": -122.471, \\\"right\\\": -122.409, \\\"count\\\": 150}, {\\\"left\\\": -122.409, \\\"right\\\": -122.347, \\\"count\\\": 4000}, {\\\"left\\\": -122.347, \\\"right\\\": -122.286, \\\"count\\\": 4513}, {\\\"left\\\": -122.286, \\\"right\\\": -122.224, \\\"count\\\": 2363}, {\\\"left\\\": -122.224, \\\"right\\\": -122.163, \\\"count\\\": 3579}, {\\\"left\\\": -122.163, \\\"right\\\": -122.101, \\\"count\\\": 2482}, {\\\"left\\\": -122.101, \\\"right\\\": -122.039, \\\"count\\\": 1612}, {\\\"left\\\": -122.039, \\\"right\\\": -121.978, \\\"count\\\": 1807}, {\\\"left\\\": -121.978, \\\"right\\\": -121.916, \\\"count\\\": 352}, {\\\"left\\\": -121.916, \\\"right\\\": -121.855, \\\"count\\\": 401}, {\\\"left\\\": -121.855, \\\"right\\\": -121.793, \\\"count\\\": 83}, {\\\"left\\\": -121.793, \\\"right\\\": -121.732, \\\"count\\\": 180}, {\\\"left\\\": -121.732, \\\"right\\\": -121.67, \\\"count\\\": 36}, {\\\"left\\\": -121.67, \\\"right\\\": -121.608, \\\"count\\\": 1}, {\\\"left\\\": -121.608, \\\"right\\\": -121.547, \\\"count\\\": 0}, {\\\"left\\\": -121.547, \\\"right\\\": -121.485, \\\"count\\\": 0}, {\\\"left\\\": -121.485, \\\"right\\\": -121.424, \\\"count\\\": 2}, {\\\"left\\\": -121.424, \\\"right\\\": -121.362, \\\"count\\\": 6}, {\\\"left\\\": -121.362, \\\"right\\\": -121.3, \\\"count\\\": 9}, {\\\"start\\\": -122.532, \\\"stop\\\": -121.3, \\\"step\\\": 0.0615903}], \\\"categorical\\\": []}, {\\\"a\\\": 18, \\\"title\\\": \\\"sqft_living15\\\", \\\"num_row\\\": 21613, \\\"type\\\": \\\"float\\\", \\\"num_unique\\\": 777, \\\"num_missing\\\": 0, \\\"mean\\\": 1986.552492, \\\"min\\\": 399.0, \\\"max\\\": 6210.0, \\\"median\\\": 1840.0, \\\"stdev\\\": 685.375448, \\\"numeric\\\": [{\\\"left\\\": 395, \\\"right\\\": 686.2, \\\"count\\\": 6}, {\\\"left\\\": 686.2, \\\"right\\\": 977.4, \\\"count\\\": 262}, {\\\"left\\\": 977.4, \\\"right\\\": 1268.6, \\\"count\\\": 2005}, {\\\"left\\\": 1268.6, \\\"right\\\": 1559.8, \\\"count\\\": 4287}, {\\\"left\\\": 1559.8, \\\"right\\\": 1851, \\\"count\\\": 4453}, {\\\"left\\\": 1851, \\\"right\\\": 2142.2, \\\"count\\\": 3326}, {\\\"left\\\": 2142.2, \\\"right\\\": 2433.4, \\\"count\\\": 2407}, {\\\"left\\\": 2433.4, \\\"right\\\": 2724.6, \\\"count\\\": 1795}, {\\\"left\\\": 2724.6, \\\"right\\\": 3015.8, \\\"count\\\": 1254}, {\\\"left\\\": 3015.8, \\\"right\\\": 3307, \\\"count\\\": 748}, {\\\"left\\\": 3307, \\\"right\\\": 3598.2, \\\"count\\\": 451}, {\\\"left\\\": 3598.2, \\\"right\\\": 3889.4, \\\"count\\\": 280}, {\\\"left\\\": 3889.4, \\\"right\\\": 4180.6, \\\"count\\\": 160}, {\\\"left\\\": 4180.6, \\\"right\\\": 4471.8, \\\"count\\\": 80}, {\\\"left\\\": 4471.8, \\\"right\\\": 4763, \\\"count\\\": 55}, {\\\"left\\\": 4763, \\\"right\\\": 5054.2, \\\"count\\\": 24}, {\\\"left\\\": 5054.2, \\\"right\\\": 5345.4, \\\"count\\\": 8}, {\\\"left\\\": 5345.4, \\\"right\\\": 5636.6, \\\"count\\\": 4}, {\\\"left\\\": 5636.6, \\\"right\\\": 5927.8, \\\"count\\\": 6}, {\\\"left\\\": 5927.8, \\\"right\\\": 6219, \\\"count\\\": 2}, {\\\"start\\\": 395, \\\"stop\\\": 6219, \\\"step\\\": 291.2}], \\\"categorical\\\": []}, {\\\"a\\\": 19, \\\"title\\\": \\\"sqft_lot15\\\", \\\"num_row\\\": 21613, \\\"type\\\": \\\"float\\\", \\\"num_unique\\\": 8689, \\\"num_missing\\\": 0, \\\"mean\\\": 12768.455652, \\\"min\\\": 651.0, \\\"max\\\": 871200.0, \\\"median\\\": 7620.0, \\\"stdev\\\": 27303.547963, \\\"numeric\\\": [{\\\"left\\\": -11686.1, \\\"right\\\": 33122.1, \\\"count\\\": 20233}, {\\\"left\\\": 33122.1, \\\"right\\\": 77930.3, \\\"count\\\": 939}, {\\\"left\\\": 77930.3, \\\"right\\\": 122738, \\\"count\\\": 181}, {\\\"left\\\": 122738, \\\"right\\\": 167547, \\\"count\\\": 51}, {\\\"left\\\": 167547, \\\"right\\\": 212355, \\\"count\\\": 75}, {\\\"left\\\": 212355, \\\"right\\\": 257163, \\\"count\\\": 98}, {\\\"left\\\": 257163, \\\"right\\\": 301971, \\\"count\\\": 14}, {\\\"left\\\": 301971, \\\"right\\\": 346779, \\\"count\\\": 8}, {\\\"left\\\": 346779, \\\"right\\\": 391588, \\\"count\\\": 4}, {\\\"left\\\": 391588, \\\"right\\\": 436396, \\\"count\\\": 6}, {\\\"left\\\": 436396, \\\"right\\\": 481204, \\\"count\\\": 1}, {\\\"left\\\": 481204, \\\"right\\\": 526012, \\\"count\\\": 0}, {\\\"left\\\": 526012, \\\"right\\\": 570820, \\\"count\\\": 1}, {\\\"left\\\": 570820, \\\"right\\\": 615629, \\\"count\\\": 0}, {\\\"left\\\": 615629, \\\"right\\\": 660437, \\\"count\\\": 0}, {\\\"left\\\": 660437, \\\"right\\\": 705245, \\\"count\\\": 0}, {\\\"left\\\": 705245, \\\"right\\\": 750053, \\\"count\\\": 0}, {\\\"left\\\": 750053, \\\"right\\\": 794861, \\\"count\\\": 0}, {\\\"left\\\": 794861, \\\"right\\\": 839670, \\\"count\\\": 0}, {\\\"left\\\": 839670, \\\"right\\\": 884478, \\\"count\\\": 2}, {\\\"start\\\": -11686.1, \\\"stop\\\": 884478, \\\"step\\\": 44808.2}], \\\"categorical\\\": []}]}, {\\\"name\\\": \\\"data_2\\\", \\\"source\\\": \\\"source_2\\\", \\\"transform\\\": [{\\\"type\\\": \\\"formula\\\", \\\"expr\\\": \\\"20\\\", \\\"as\\\": \\\"c_x_axis_back\\\"}, {\\\"type\\\": \\\"formula\\\", \\\"expr\\\": \\\"toNumber(datum[\\\\\\\"a\\\\\\\"])*300+66\\\", \\\"as\\\": \\\"c_main_background\\\"}, {\\\"type\\\": \\\"formula\\\", \\\"expr\\\": \\\"toNumber(datum[\\\\\\\"a\\\\\\\"])*300+43\\\", \\\"as\\\": \\\"c_top_bar\\\"}, {\\\"type\\\": \\\"formula\\\", \\\"expr\\\": \\\"toNumber(datum[\\\\\\\"a\\\\\\\"])*300+59\\\", \\\"as\\\": \\\"c_top_title\\\"}, {\\\"type\\\": \\\"formula\\\", \\\"expr\\\": \\\"toNumber(datum[\\\\\\\"a\\\\\\\"])*300+58\\\", \\\"as\\\": \\\"c_top_type\\\"}, {\\\"type\\\": \\\"formula\\\", \\\"expr\\\": \\\"toNumber(datum[\\\\\\\"a\\\\\\\"])*300+178\\\", \\\"as\\\": \\\"c_rule\\\"}, {\\\"type\\\": \\\"formula\\\", \\\"expr\\\": \\\"toNumber(datum[\\\\\\\"a\\\\\\\"])*300+106\\\", \\\"as\\\": \\\"c_num_rows\\\"}, {\\\"type\\\": \\\"formula\\\", \\\"expr\\\": \\\"toNumber(datum[\\\\\\\"a\\\\\\\"])*300+130\\\", \\\"as\\\": \\\"c_num_unique\\\"}, {\\\"type\\\": \\\"formula\\\", \\\"expr\\\": \\\"toNumber(datum[\\\\\\\"a\\\\\\\"])*300+154\\\", \\\"as\\\": \\\"c_missing\\\"}, {\\\"type\\\": \\\"formula\\\", \\\"expr\\\": \\\"toNumber(datum[\\\\\\\"a\\\\\\\"])*300+105\\\", \\\"as\\\": \\\"c_num_rows_val\\\"}, {\\\"type\\\": \\\"formula\\\", \\\"expr\\\": \\\"toNumber(datum[\\\\\\\"a\\\\\\\"])*300+130\\\", \\\"as\\\": \\\"c_num_unique_val\\\"}, {\\\"type\\\": \\\"formula\\\", \\\"expr\\\": \\\"toNumber(datum[\\\\\\\"a\\\\\\\"])*300+154\\\", \\\"as\\\": \\\"c_missing_val\\\"}, {\\\"type\\\": \\\"formula\\\", \\\"expr\\\": \\\"toNumber(datum[\\\\\\\"a\\\\\\\"])*300+195\\\", \\\"as\\\": \\\"c_frequent_items\\\"}, {\\\"type\\\": \\\"formula\\\", \\\"expr\\\": \\\"toNumber(datum[\\\\\\\"a\\\\\\\"])*300+218\\\", \\\"as\\\": \\\"c_first_item\\\"}, {\\\"type\\\": \\\"formula\\\", \\\"expr\\\": \\\"toNumber(datum[\\\\\\\"a\\\\\\\"])*300+235\\\", \\\"as\\\": \\\"c_second_item\\\"}, {\\\"type\\\": \\\"formula\\\", \\\"expr\\\": \\\"toNumber(datum[\\\\\\\"a\\\\\\\"])*300+252\\\", \\\"as\\\": \\\"c_third_item\\\"}, {\\\"type\\\": \\\"formula\\\", \\\"expr\\\": \\\"toNumber(datum[\\\\\\\"a\\\\\\\"])*300+269\\\", \\\"as\\\": \\\"c_fourth_item\\\"}, {\\\"type\\\": \\\"formula\\\", \\\"expr\\\": \\\"toNumber(datum[\\\\\\\"a\\\\\\\"])*300+286\\\", \\\"as\\\": \\\"c_fifth_item\\\"}, {\\\"type\\\": \\\"formula\\\", \\\"expr\\\": \\\"toNumber(datum[\\\\\\\"a\\\\\\\"])*300+200\\\", \\\"as\\\": \\\"c_mean\\\"}, {\\\"type\\\": \\\"formula\\\", \\\"expr\\\": \\\"toNumber(datum[\\\\\\\"a\\\\\\\"])*300+220\\\", \\\"as\\\": \\\"c_min\\\"}, {\\\"type\\\": \\\"formula\\\", \\\"expr\\\": \\\"toNumber(datum[\\\\\\\"a\\\\\\\"])*300+240\\\", \\\"as\\\": \\\"c_max\\\"}, {\\\"type\\\": \\\"formula\\\", \\\"expr\\\": \\\"toNumber(datum[\\\\\\\"a\\\\\\\"])*300+260\\\", \\\"as\\\": \\\"c_median\\\"}, {\\\"type\\\": \\\"formula\\\", \\\"expr\\\": \\\"toNumber(datum[\\\\\\\"a\\\\\\\"])*300+280\\\", \\\"as\\\": \\\"c_stdev\\\"}, {\\\"type\\\": \\\"formula\\\", \\\"expr\\\": \\\"toNumber(datum[\\\\\\\"a\\\\\\\"])*300+198\\\", \\\"as\\\": \\\"c_mean_val\\\"}, {\\\"type\\\": \\\"formula\\\", \\\"expr\\\": \\\"toNumber(datum[\\\\\\\"a\\\\\\\"])*300+218\\\", \\\"as\\\": \\\"c_min_val\\\"}, {\\\"type\\\": \\\"formula\\\", \\\"expr\\\": \\\"toNumber(datum[\\\\\\\"a\\\\\\\"])*300+238\\\", \\\"as\\\": \\\"c_max_val\\\"}, {\\\"type\\\": \\\"formula\\\", \\\"expr\\\": \\\"toNumber(datum[\\\\\\\"a\\\\\\\"])*300+258\\\", \\\"as\\\": \\\"c_median_val\\\"}, {\\\"type\\\": \\\"formula\\\", \\\"expr\\\": \\\"toNumber(datum[\\\\\\\"a\\\\\\\"])*300+278\\\", \\\"as\\\": \\\"c_stdev_val\\\"}, {\\\"type\\\": \\\"formula\\\", \\\"expr\\\": \\\"toNumber(datum[\\\\\\\"a\\\\\\\"])*300+106\\\", \\\"as\\\": \\\"graph_offset\\\"}, {\\\"type\\\": \\\"formula\\\", \\\"expr\\\": \\\"toNumber(datum[\\\\\\\"a\\\\\\\"])*300+132\\\", \\\"as\\\": \\\"graph_offset_categorical\\\"}, {\\\"type\\\": \\\"formula\\\", \\\"expr\\\": \\\"(toString(datum[\\\\\\\"type\\\\\\\"]) == \\\\\\\"integer\\\\\\\" || toString(datum[\\\\\\\"type\\\\\\\"]) == \\\\\\\"float\\\\\\\")?false:true\\\", \\\"as\\\": \\\"c_clip_val\\\"}, {\\\"type\\\": \\\"formula\\\", \\\"expr\\\": \\\"(toString(datum[\\\\\\\"type\\\\\\\"]) == \\\\\\\"integer\\\\\\\" || toString(datum[\\\\\\\"type\\\\\\\"]) == \\\\\\\"float\\\\\\\")?250:0\\\", \\\"as\\\": \\\"c_width_numeric_val\\\"}, {\\\"type\\\": \\\"formula\\\", \\\"expr\\\": \\\"(toString(datum[\\\\\\\"type\\\\\\\"]) == \\\\\\\"str\\\\\\\")?false:true\\\", \\\"as\\\": \\\"c_clip_val_cat\\\"}, {\\\"type\\\": \\\"formula\\\", \\\"expr\\\": \\\"(toString(datum[\\\\\\\"type\\\\\\\"]) == \\\\\\\"str\\\\\\\")?250:0\\\", \\\"as\\\": \\\"c_width_numeric_val_cat\\\"}]}], \\\"marks\\\": [{\\\"encode\\\": {\\\"enter\\\": {\\\"x\\\": {\\\"value\\\": 0}, \\\"width\\\": {\\\"value\\\": 734}, \\\"y\\\": {\\\"value\\\": 0}, \\\"height\\\": {\\\"value\\\": 366}, \\\"clip\\\": {\\\"value\\\": 0}, \\\"fill\\\": {\\\"value\\\": \\\"#ffffff\\\"}, \\\"fillOpacity\\\": {\\\"value\\\": 0}, \\\"stroke\\\": {\\\"value\\\": \\\"#000000\\\"}, \\\"strokeWidth\\\": {\\\"value\\\": 0}}}, \\\"marks\\\": [{\\\"encode\\\": {\\\"enter\\\": {\\\"x\\\": {\\\"value\\\": 0}, \\\"width\\\": {\\\"value\\\": 734}, \\\"y\\\": {\\\"value\\\": 0}, \\\"height\\\": {\\\"value\\\": 366}, \\\"clip\\\": {\\\"value\\\": 0}, \\\"fill\\\": {\\\"value\\\": \\\"#ffffff\\\"}, \\\"fillOpacity\\\": {\\\"value\\\": 0}, \\\"stroke\\\": {\\\"value\\\": \\\"#000000\\\"}, \\\"strokeWidth\\\": {\\\"value\\\": 0}}}, \\\"scales\\\": [], \\\"axes\\\": [], \\\"marks\\\": [{\\\"from\\\": {\\\"data\\\": \\\"data_2\\\"}, \\\"encode\\\": {\\\"enter\\\": {\\\"x\\\": {\\\"value\\\": 33}, \\\"width\\\": {\\\"value\\\": 700}, \\\"y\\\": {\\\"value\\\": 66}, \\\"height\\\": {\\\"value\\\": 250}, \\\"fill\\\": {\\\"value\\\": \\\"#FEFEFE\\\"}, \\\"fillOpacity\\\": {\\\"value\\\": 1}, \\\"stroke\\\": {\\\"value\\\": \\\"#DEDEDE\\\"}, \\\"strokeWidth\\\": {\\\"value\\\": 0.5}}, \\\"update\\\": {\\\"x\\\": {\\\"signal\\\": \\\"datum[\\\\\\\"c_x_axis_back\\\\\\\"]\\\"}, \\\"y\\\": {\\\"field\\\": \\\"c_main_background\\\"}}}, \\\"type\\\": \\\"rect\\\"}, {\\\"from\\\": {\\\"data\\\": \\\"data_2\\\"}, \\\"encode\\\": {\\\"enter\\\": {\\\"x\\\": {\\\"value\\\": 33}, \\\"width\\\": {\\\"value\\\": 700}, \\\"y\\\": {\\\"value\\\": 43}, \\\"height\\\": {\\\"value\\\": 30}, \\\"fill\\\": {\\\"value\\\": \\\"#F5F5F5\\\"}, \\\"fillOpacity\\\": {\\\"value\\\": 1}, \\\"stroke\\\": {\\\"value\\\": \\\"#DEDEDE\\\"}, \\\"strokeWidth\\\": {\\\"value\\\": 0.5}}, \\\"update\\\": {\\\"x\\\": {\\\"signal\\\": \\\"datum[\\\\\\\"c_x_axis_back\\\\\\\"]\\\"}, \\\"y\\\": {\\\"field\\\": \\\"c_top_bar\\\"}}}, \\\"type\\\": \\\"rect\\\"}, {\\\"from\\\": {\\\"data\\\": \\\"data_2\\\"}, \\\"encode\\\": {\\\"enter\\\": {\\\"x\\\": {\\\"value\\\": 720}, \\\"y\\\": {\\\"value\\\": 58}, \\\"text\\\": {\\\"signal\\\": \\\"&apos;&apos;+datum[\\\\\\\"type\\\\\\\"]\\\"}, \\\"align\\\": {\\\"value\\\": \\\"right\\\"}, \\\"baseline\\\": {\\\"value\\\": \\\"middle\\\"}, \\\"dx\\\": {\\\"value\\\": 0, \\\"offset\\\": 0}, \\\"dy\\\": {\\\"value\\\": 0, \\\"offset\\\": 0}, \\\"angle\\\": {\\\"value\\\": 0}, \\\"font\\\": {\\\"value\\\": \\\"AvenirNext-Medium\\\"}, \\\"fontSize\\\": {\\\"value\\\": 12}, \\\"fontWeight\\\": {\\\"value\\\": \\\"normal\\\"}, \\\"fontStyle\\\": {\\\"value\\\": \\\"normal\\\"}, \\\"fill\\\": {\\\"value\\\": \\\"#595859\\\"}}, \\\"update\\\": {\\\"x\\\": {\\\"signal\\\": \\\"datum[\\\\\\\"c_x_axis_back\\\\\\\"]+687\\\"}, \\\"y\\\": {\\\"field\\\": \\\"c_top_type\\\"}}}, \\\"type\\\": \\\"text\\\"}, {\\\"from\\\": {\\\"data\\\": \\\"data_2\\\"}, \\\"encode\\\": {\\\"enter\\\": {\\\"x\\\": {\\\"value\\\": 44}, \\\"y\\\": {\\\"value\\\": 59}, \\\"text\\\": {\\\"signal\\\": \\\"&apos;&apos;+datum[\\\\\\\"title\\\\\\\"]\\\"}, \\\"align\\\": {\\\"value\\\": \\\"left\\\"}, \\\"baseline\\\": {\\\"value\\\": \\\"middle\\\"}, \\\"dx\\\": {\\\"value\\\": 0, \\\"offset\\\": 0}, \\\"dy\\\": {\\\"value\\\": 0, \\\"offset\\\": 0}, \\\"angle\\\": {\\\"value\\\": 0}, \\\"font\\\": {\\\"value\\\": \\\"AvenirNext-Medium\\\"}, \\\"fontSize\\\": {\\\"value\\\": 15}, \\\"fontWeight\\\": {\\\"value\\\": \\\"normal\\\"}, \\\"fontStyle\\\": {\\\"value\\\": \\\"normal\\\"}, \\\"fill\\\": {\\\"value\\\": \\\"#9B9B9B\\\"}}, \\\"update\\\": {\\\"x\\\": {\\\"signal\\\": \\\"datum[\\\\\\\"c_x_axis_back\\\\\\\"]+11\\\"}, \\\"y\\\": {\\\"field\\\": \\\"c_top_title\\\"}}}, \\\"type\\\": \\\"text\\\"}, {\\\"from\\\": {\\\"data\\\": \\\"data_2\\\"}, \\\"encode\\\": {\\\"enter\\\": {\\\"x\\\": {\\\"value\\\": 500}, \\\"y\\\": {\\\"value\\\": 178}, \\\"stroke\\\": {\\\"value\\\": \\\"#EDEDEB\\\"}, \\\"strokeWidth\\\": {\\\"value\\\": 1}, \\\"strokeCap\\\": {\\\"value\\\": \\\"butt\\\"}, \\\"x2\\\": {\\\"value\\\": 720}, \\\"y2\\\": {\\\"value\\\": 178}}, \\\"update\\\": {\\\"x\\\": {\\\"signal\\\": \\\"datum[\\\\\\\"c_x_axis_back\\\\\\\"]+467\\\"}, \\\"x2\\\": {\\\"signal\\\": \\\"datum[\\\\\\\"c_x_axis_back\\\\\\\"]+687\\\"}, \\\"y\\\": {\\\"field\\\": \\\"c_rule\\\"}, \\\"y2\\\": {\\\"field\\\": \\\"c_rule\\\"}}}, \\\"type\\\": \\\"rule\\\"}, {\\\"from\\\": {\\\"data\\\": \\\"data_2\\\"}, \\\"encode\\\": {\\\"enter\\\": {\\\"x\\\": {\\\"value\\\": 500}, \\\"y\\\": {\\\"value\\\": 106}, \\\"text\\\": {\\\"value\\\": \\\"Num. Rows:\\\"}, \\\"align\\\": {\\\"value\\\": \\\"left\\\"}, \\\"baseline\\\": {\\\"value\\\": \\\"middle\\\"}, \\\"dx\\\": {\\\"value\\\": 0, \\\"offset\\\": 0}, \\\"dy\\\": {\\\"value\\\": 0, \\\"offset\\\": 0}, \\\"angle\\\": {\\\"value\\\": 0}, \\\"font\\\": {\\\"value\\\": \\\"AvenirNext-Medium\\\"}, \\\"fontSize\\\": {\\\"value\\\": 12}, \\\"fontWeight\\\": {\\\"value\\\": \\\"normal\\\"}, \\\"fontStyle\\\": {\\\"value\\\": \\\"normal\\\"}, \\\"fill\\\": {\\\"value\\\": \\\"#4A4A4A\\\"}}, \\\"update\\\": {\\\"x\\\": {\\\"signal\\\": \\\"datum[\\\\\\\"c_x_axis_back\\\\\\\"]+467\\\"}, \\\"y\\\": {\\\"field\\\": \\\"c_num_rows\\\"}}}, \\\"type\\\": \\\"text\\\"}, {\\\"from\\\": {\\\"data\\\": \\\"data_2\\\"}, \\\"encode\\\": {\\\"enter\\\": {\\\"x\\\": {\\\"value\\\": 500}, \\\"y\\\": {\\\"value\\\": 130}, \\\"text\\\": {\\\"value\\\": \\\"Num. Unique:\\\"}, \\\"align\\\": {\\\"value\\\": \\\"left\\\"}, \\\"baseline\\\": {\\\"value\\\": \\\"middle\\\"}, \\\"dx\\\": {\\\"value\\\": 0, \\\"offset\\\": 0}, \\\"dy\\\": {\\\"value\\\": 0, \\\"offset\\\": 0}, \\\"angle\\\": {\\\"value\\\": 0}, \\\"font\\\": {\\\"value\\\": \\\"AvenirNext-Medium\\\"}, \\\"fontSize\\\": {\\\"value\\\": 12}, \\\"fontWeight\\\": {\\\"value\\\": \\\"normal\\\"}, \\\"fontStyle\\\": {\\\"value\\\": \\\"normal\\\"}, \\\"fill\\\": {\\\"value\\\": \\\"#4A4A4A\\\"}}, \\\"update\\\": {\\\"x\\\": {\\\"signal\\\": \\\"datum[\\\\\\\"c_x_axis_back\\\\\\\"]+467\\\"}, \\\"y\\\": {\\\"field\\\": \\\"c_num_unique\\\"}}}, \\\"type\\\": \\\"text\\\"}, {\\\"from\\\": {\\\"data\\\": \\\"data_2\\\"}, \\\"encode\\\": {\\\"enter\\\": {\\\"x\\\": {\\\"value\\\": 500}, \\\"y\\\": {\\\"value\\\": 154}, \\\"text\\\": {\\\"value\\\": \\\"Missing:\\\"}, \\\"align\\\": {\\\"value\\\": \\\"left\\\"}, \\\"baseline\\\": {\\\"value\\\": \\\"middle\\\"}, \\\"dx\\\": {\\\"value\\\": 0, \\\"offset\\\": 0}, \\\"dy\\\": {\\\"value\\\": 0, \\\"offset\\\": 0}, \\\"angle\\\": {\\\"value\\\": 0}, \\\"font\\\": {\\\"value\\\": \\\"AvenirNext-Medium\\\"}, \\\"fontSize\\\": {\\\"value\\\": 12}, \\\"fontWeight\\\": {\\\"value\\\": \\\"normal\\\"}, \\\"fontStyle\\\": {\\\"value\\\": \\\"normal\\\"}, \\\"fill\\\": {\\\"value\\\": \\\"#4A4A4A\\\"}}, \\\"update\\\": {\\\"x\\\": {\\\"signal\\\": \\\"datum[\\\\\\\"c_x_axis_back\\\\\\\"]+467\\\"}, \\\"y\\\": {\\\"field\\\": \\\"c_missing\\\"}}}, \\\"type\\\": \\\"text\\\"}, {\\\"from\\\": {\\\"data\\\": \\\"data_2\\\"}, \\\"encode\\\": {\\\"enter\\\": {\\\"x\\\": {\\\"value\\\": 700}, \\\"y\\\": {\\\"value\\\": 105}, \\\"text\\\": {\\\"signal\\\": \\\"toString(format(datum[\\\\\\\"num_row\\\\\\\"], \\\\\\\",\\\\\\\"))\\\"}, \\\"align\\\": {\\\"value\\\": \\\"right\\\"}, \\\"baseline\\\": {\\\"value\\\": \\\"middle\\\"}, \\\"dx\\\": {\\\"value\\\": 0, \\\"offset\\\": 0}, \\\"dy\\\": {\\\"value\\\": 0, \\\"offset\\\": 0}, \\\"angle\\\": {\\\"value\\\": 0}, \\\"font\\\": {\\\"value\\\": \\\"AvenirNext-Medium\\\"}, \\\"fontSize\\\": {\\\"value\\\": 12}, \\\"fontWeight\\\": {\\\"value\\\": \\\"normal\\\"}, \\\"fontStyle\\\": {\\\"value\\\": \\\"normal\\\"}, \\\"fill\\\": {\\\"value\\\": \\\"#5A5A5A\\\"}}, \\\"update\\\": {\\\"x\\\": {\\\"signal\\\": \\\"datum[\\\\\\\"c_x_axis_back\\\\\\\"]+667\\\"}, \\\"y\\\": {\\\"field\\\": \\\"c_num_rows_val\\\"}}}, \\\"type\\\": \\\"text\\\"}, {\\\"from\\\": {\\\"data\\\": \\\"data_2\\\"}, \\\"encode\\\": {\\\"enter\\\": {\\\"x\\\": {\\\"value\\\": 700}, \\\"y\\\": {\\\"value\\\": 130}, \\\"text\\\": {\\\"signal\\\": \\\"toString(format(datum[\\\\\\\"num_unique\\\\\\\"], \\\\\\\",\\\\\\\"))\\\"}, \\\"align\\\": {\\\"value\\\": \\\"right\\\"}, \\\"baseline\\\": {\\\"value\\\": \\\"middle\\\"}, \\\"dx\\\": {\\\"value\\\": 0, \\\"offset\\\": 0}, \\\"dy\\\": {\\\"value\\\": 0, \\\"offset\\\": 0}, \\\"angle\\\": {\\\"value\\\": 0}, \\\"font\\\": {\\\"value\\\": \\\"AvenirNext-Medium\\\"}, \\\"fontSize\\\": {\\\"value\\\": 12}, \\\"fontWeight\\\": {\\\"value\\\": \\\"normal\\\"}, \\\"fontStyle\\\": {\\\"value\\\": \\\"normal\\\"}, \\\"fill\\\": {\\\"value\\\": \\\"#5A5A5A\\\"}}, \\\"update\\\": {\\\"x\\\": {\\\"signal\\\": \\\"datum[\\\\\\\"c_x_axis_back\\\\\\\"]+667\\\"}, \\\"y\\\": {\\\"field\\\": \\\"c_num_unique_val\\\"}}}, \\\"type\\\": \\\"text\\\"}, {\\\"from\\\": {\\\"data\\\": \\\"data_2\\\"}, \\\"encode\\\": {\\\"enter\\\": {\\\"x\\\": {\\\"value\\\": 700}, \\\"y\\\": {\\\"value\\\": 154}, \\\"text\\\": {\\\"signal\\\": \\\"toString(format(datum[\\\\\\\"num_missing\\\\\\\"], \\\\\\\",\\\\\\\"))\\\"}, \\\"align\\\": {\\\"value\\\": \\\"right\\\"}, \\\"baseline\\\": {\\\"value\\\": \\\"middle\\\"}, \\\"dx\\\": {\\\"value\\\": 0, \\\"offset\\\": 0}, \\\"dy\\\": {\\\"value\\\": 0, \\\"offset\\\": 0}, \\\"angle\\\": {\\\"value\\\": 0}, \\\"font\\\": {\\\"value\\\": \\\"AvenirNext-Medium\\\"}, \\\"fontSize\\\": {\\\"value\\\": 12}, \\\"fontWeight\\\": {\\\"value\\\": \\\"normal\\\"}, \\\"fontStyle\\\": {\\\"value\\\": \\\"normal\\\"}, \\\"fill\\\": {\\\"value\\\": \\\"#5A5A5A\\\"}}, \\\"update\\\": {\\\"x\\\": {\\\"signal\\\": \\\"datum[\\\\\\\"c_x_axis_back\\\\\\\"]+667\\\"}, \\\"y\\\": {\\\"field\\\": \\\"c_missing_val\\\"}}}, \\\"type\\\": \\\"text\\\"}, {\\\"from\\\": {\\\"data\\\": \\\"data_2\\\"}, \\\"encode\\\": {\\\"enter\\\": {\\\"x\\\": {\\\"value\\\": 500}, \\\"y\\\": {\\\"value\\\": 200}, \\\"text\\\": {\\\"signal\\\": \\\"(toString(datum[\\\\\\\"type\\\\\\\"]) == \\\\\\\"str\\\\\\\")? \\\\\\\"Frequent Items\\\\\\\":\\\\\\\"\\\\\\\"\\\"}, \\\"align\\\": {\\\"value\\\": \\\"left\\\"}, \\\"baseline\\\": {\\\"value\\\": \\\"middle\\\"}, \\\"dx\\\": {\\\"value\\\": 0, \\\"offset\\\": 0}, \\\"dy\\\": {\\\"value\\\": 0, \\\"offset\\\": 0}, \\\"angle\\\": {\\\"value\\\": 0}, \\\"clip\\\": {\\\"value\\\": true}, \\\"font\\\": {\\\"value\\\": \\\"AvenirNext-Medium\\\"}, \\\"fontSize\\\": {\\\"value\\\": 11}, \\\"fontWeight\\\": {\\\"value\\\": \\\"bold\\\"}, \\\"fontStyle\\\": {\\\"value\\\": \\\"normal\\\"}, \\\"fill\\\": {\\\"value\\\": \\\"#4A4A4A\\\"}}, \\\"update\\\": {\\\"x\\\": {\\\"signal\\\": \\\"datum[\\\\\\\"c_x_axis_back\\\\\\\"]+467\\\"}, \\\"y\\\": {\\\"field\\\": \\\"c_frequent_items\\\"}}}, \\\"type\\\": \\\"text\\\"}, {\\\"from\\\": {\\\"data\\\": \\\"data_2\\\"}, \\\"encode\\\": {\\\"enter\\\": {\\\"x\\\": {\\\"value\\\": 520}, \\\"y\\\": {\\\"value\\\": 200}, \\\"text\\\": {\\\"signal\\\": \\\"((datum[\\\\\\\"categorical\\\\\\\"].length >= 1) &amp;&amp; (toString(datum[\\\\\\\"type\\\\\\\"]) == \\\\\\\"str\\\\\\\"))? toString(datum[\\\\\\\"categorical\\\\\\\"][0][\\\\\\\"label\\\\\\\"]):\\\\\\\"\\\\\\\"\\\"}, \\\"align\\\": {\\\"value\\\": \\\"left\\\"}, \\\"baseline\\\": {\\\"value\\\": \\\"middle\\\"}, \\\"dx\\\": {\\\"value\\\": 0, \\\"offset\\\": 0}, \\\"dy\\\": {\\\"value\\\": 0, \\\"offset\\\": 0}, \\\"angle\\\": {\\\"value\\\": 0}, \\\"clip\\\": {\\\"value\\\": true}, \\\"font\\\": {\\\"value\\\": \\\"AvenirNext-Medium\\\"}, \\\"fontSize\\\": {\\\"value\\\": 11}, \\\"fontWeight\\\": {\\\"value\\\": \\\"normal\\\"}, \\\"fontStyle\\\": {\\\"value\\\": \\\"normal\\\"}, \\\"fill\\\": {\\\"value\\\": \\\"#4A4A4A\\\"}}, \\\"update\\\": {\\\"x\\\": {\\\"signal\\\": \\\"datum[\\\\\\\"c_x_axis_back\\\\\\\"]+487\\\"}, \\\"y\\\": {\\\"field\\\": \\\"c_first_item\\\"}}}, \\\"type\\\": \\\"text\\\"}, {\\\"from\\\": {\\\"data\\\": \\\"data_2\\\"}, \\\"encode\\\": {\\\"enter\\\": {\\\"x\\\": {\\\"value\\\": 520}, \\\"y\\\": {\\\"value\\\": 200}, \\\"text\\\": {\\\"signal\\\": \\\"((datum[\\\\\\\"categorical\\\\\\\"].length >= 2) &amp;&amp; (toString(datum[\\\\\\\"type\\\\\\\"]) == \\\\\\\"str\\\\\\\"))? toString(datum[\\\\\\\"categorical\\\\\\\"][1][\\\\\\\"label\\\\\\\"]):\\\\\\\"\\\\\\\"\\\"}, \\\"align\\\": {\\\"value\\\": \\\"left\\\"}, \\\"baseline\\\": {\\\"value\\\": \\\"middle\\\"}, \\\"dx\\\": {\\\"value\\\": 0, \\\"offset\\\": 0}, \\\"dy\\\": {\\\"value\\\": 0, \\\"offset\\\": 0}, \\\"angle\\\": {\\\"value\\\": 0}, \\\"clip\\\": {\\\"value\\\": true}, \\\"font\\\": {\\\"value\\\": \\\"AvenirNext-Medium\\\"}, \\\"fontSize\\\": {\\\"value\\\": 11}, \\\"fontWeight\\\": {\\\"value\\\": \\\"normal\\\"}, \\\"fontStyle\\\": {\\\"value\\\": \\\"normal\\\"}, \\\"fill\\\": {\\\"value\\\": \\\"#4A4A4A\\\"}}, \\\"update\\\": {\\\"x\\\": {\\\"signal\\\": \\\"datum[\\\\\\\"c_x_axis_back\\\\\\\"]+487\\\"}, \\\"y\\\": {\\\"field\\\": \\\"c_second_item\\\"}}}, \\\"type\\\": \\\"text\\\"}, {\\\"from\\\": {\\\"data\\\": \\\"data_2\\\"}, \\\"encode\\\": {\\\"enter\\\": {\\\"x\\\": {\\\"value\\\": 520}, \\\"y\\\": {\\\"value\\\": 200}, \\\"text\\\": {\\\"signal\\\": \\\"((datum[\\\\\\\"categorical\\\\\\\"].length >= 3) &amp;&amp; (toString(datum[\\\\\\\"type\\\\\\\"]) == \\\\\\\"str\\\\\\\"))? toString(datum[\\\\\\\"categorical\\\\\\\"][2][\\\\\\\"label\\\\\\\"]):\\\\\\\"\\\\\\\"\\\"}, \\\"align\\\": {\\\"value\\\": \\\"left\\\"}, \\\"baseline\\\": {\\\"value\\\": \\\"middle\\\"}, \\\"dx\\\": {\\\"value\\\": 0, \\\"offset\\\": 0}, \\\"dy\\\": {\\\"value\\\": 0, \\\"offset\\\": 0}, \\\"angle\\\": {\\\"value\\\": 0}, \\\"clip\\\": {\\\"value\\\": true}, \\\"font\\\": {\\\"value\\\": \\\"AvenirNext-Medium\\\"}, \\\"fontSize\\\": {\\\"value\\\": 11}, \\\"fontWeight\\\": {\\\"value\\\": \\\"normal\\\"}, \\\"fontStyle\\\": {\\\"value\\\": \\\"normal\\\"}, \\\"fill\\\": {\\\"value\\\": \\\"#4A4A4A\\\"}}, \\\"update\\\": {\\\"x\\\": {\\\"signal\\\": \\\"datum[\\\\\\\"c_x_axis_back\\\\\\\"]+487\\\"}, \\\"y\\\": {\\\"field\\\": \\\"c_third_item\\\"}}}, \\\"type\\\": \\\"text\\\"}, {\\\"from\\\": {\\\"data\\\": \\\"data_2\\\"}, \\\"encode\\\": {\\\"enter\\\": {\\\"x\\\": {\\\"value\\\": 520}, \\\"y\\\": {\\\"value\\\": 200}, \\\"text\\\": {\\\"signal\\\": \\\"((datum[\\\\\\\"categorical\\\\\\\"].length >= 4) &amp;&amp; (toString(datum[\\\\\\\"type\\\\\\\"]) == \\\\\\\"str\\\\\\\"))? toString(datum[\\\\\\\"categorical\\\\\\\"][3][\\\\\\\"label\\\\\\\"]):\\\\\\\"\\\\\\\"\\\"}, \\\"align\\\": {\\\"value\\\": \\\"left\\\"}, \\\"baseline\\\": {\\\"value\\\": \\\"middle\\\"}, \\\"dx\\\": {\\\"value\\\": 0, \\\"offset\\\": 0}, \\\"dy\\\": {\\\"value\\\": 0, \\\"offset\\\": 0}, \\\"angle\\\": {\\\"value\\\": 0}, \\\"clip\\\": {\\\"value\\\": true}, \\\"font\\\": {\\\"value\\\": \\\"AvenirNext-Medium\\\"}, \\\"fontSize\\\": {\\\"value\\\": 11}, \\\"fontWeight\\\": {\\\"value\\\": \\\"normal\\\"}, \\\"fontStyle\\\": {\\\"value\\\": \\\"normal\\\"}, \\\"fill\\\": {\\\"value\\\": \\\"#4A4A4A\\\"}}, \\\"update\\\": {\\\"x\\\": {\\\"signal\\\": \\\"datum[\\\\\\\"c_x_axis_back\\\\\\\"]+487\\\"}, \\\"y\\\": {\\\"field\\\": \\\"c_fourth_item\\\"}}}, \\\"type\\\": \\\"text\\\"}, {\\\"from\\\": {\\\"data\\\": \\\"data_2\\\"}, \\\"encode\\\": {\\\"enter\\\": {\\\"x\\\": {\\\"value\\\": 520}, \\\"y\\\": {\\\"value\\\": 200}, \\\"text\\\": {\\\"signal\\\": \\\"((datum[\\\\\\\"categorical\\\\\\\"].length >= 5) &amp;&amp; (toString(datum[\\\\\\\"type\\\\\\\"]) == \\\\\\\"str\\\\\\\"))? toString(datum[\\\\\\\"categorical\\\\\\\"][4][\\\\\\\"label\\\\\\\"]):\\\\\\\"\\\\\\\"\\\"}, \\\"align\\\": {\\\"value\\\": \\\"left\\\"}, \\\"baseline\\\": {\\\"value\\\": \\\"middle\\\"}, \\\"dx\\\": {\\\"value\\\": 0, \\\"offset\\\": 0}, \\\"dy\\\": {\\\"value\\\": 0, \\\"offset\\\": 0}, \\\"angle\\\": {\\\"value\\\": 0}, \\\"clip\\\": {\\\"value\\\": true}, \\\"font\\\": {\\\"value\\\": \\\"AvenirNext-Medium\\\"}, \\\"fontSize\\\": {\\\"value\\\": 11}, \\\"fontWeight\\\": {\\\"value\\\": \\\"normal\\\"}, \\\"fontStyle\\\": {\\\"value\\\": \\\"normal\\\"}, \\\"fill\\\": {\\\"value\\\": \\\"#4A4A4A\\\"}}, \\\"update\\\": {\\\"x\\\": {\\\"signal\\\": \\\"datum[\\\\\\\"c_x_axis_back\\\\\\\"]+487\\\"}, \\\"y\\\": {\\\"field\\\": \\\"c_fifth_item\\\"}}}, \\\"type\\\": \\\"text\\\"}, {\\\"from\\\": {\\\"data\\\": \\\"data_2\\\"}, \\\"encode\\\": {\\\"enter\\\": {\\\"x\\\": {\\\"value\\\": 700}, \\\"y\\\": {\\\"value\\\": 200}, \\\"text\\\": {\\\"signal\\\": \\\"((datum[\\\\\\\"categorical\\\\\\\"].length >= 1) &amp;&amp; (toString(datum[\\\\\\\"type\\\\\\\"]) == \\\\\\\"str\\\\\\\"))? toString(datum[\\\\\\\"categorical\\\\\\\"][0][\\\\\\\"count\\\\\\\"]):\\\\\\\"\\\\\\\"\\\"}, \\\"align\\\": {\\\"value\\\": \\\"right\\\"}, \\\"baseline\\\": {\\\"value\\\": \\\"middle\\\"}, \\\"dx\\\": {\\\"value\\\": 0, \\\"offset\\\": 0}, \\\"dy\\\": {\\\"value\\\": 0, \\\"offset\\\": 0}, \\\"angle\\\": {\\\"value\\\": 0}, \\\"clip\\\": {\\\"value\\\": true}, \\\"font\\\": {\\\"value\\\": \\\"AvenirNext-Medium\\\"}, \\\"fontSize\\\": {\\\"value\\\": 11}, \\\"fontWeight\\\": {\\\"value\\\": \\\"normal\\\"}, \\\"fontStyle\\\": {\\\"value\\\": \\\"normal\\\"}, \\\"fill\\\": {\\\"value\\\": \\\"#7A7A7A\\\"}}, \\\"update\\\": {\\\"x\\\": {\\\"signal\\\": \\\"datum[\\\\\\\"c_x_axis_back\\\\\\\"]+667\\\"}, \\\"y\\\": {\\\"field\\\": \\\"c_first_item\\\"}}}, \\\"type\\\": \\\"text\\\"}, {\\\"from\\\": {\\\"data\\\": \\\"data_2\\\"}, \\\"encode\\\": {\\\"enter\\\": {\\\"x\\\": {\\\"value\\\": 700}, \\\"y\\\": {\\\"value\\\": 200}, \\\"text\\\": {\\\"signal\\\": \\\"((datum[\\\\\\\"categorical\\\\\\\"].length >= 2) &amp;&amp; (toString(datum[\\\\\\\"type\\\\\\\"]) == \\\\\\\"str\\\\\\\"))? toString(datum[\\\\\\\"categorical\\\\\\\"][1][\\\\\\\"count\\\\\\\"]):\\\\\\\"\\\\\\\"\\\"}, \\\"align\\\": {\\\"value\\\": \\\"right\\\"}, \\\"baseline\\\": {\\\"value\\\": \\\"middle\\\"}, \\\"dx\\\": {\\\"value\\\": 0, \\\"offset\\\": 0}, \\\"dy\\\": {\\\"value\\\": 0, \\\"offset\\\": 0}, \\\"angle\\\": {\\\"value\\\": 0}, \\\"clip\\\": {\\\"value\\\": true}, \\\"font\\\": {\\\"value\\\": \\\"AvenirNext-Medium\\\"}, \\\"fontSize\\\": {\\\"value\\\": 10}, \\\"fontWeight\\\": {\\\"value\\\": \\\"normal\\\"}, \\\"fontStyle\\\": {\\\"value\\\": \\\"normal\\\"}, \\\"fill\\\": {\\\"value\\\": \\\"#7A7A7A\\\"}}, \\\"update\\\": {\\\"x\\\": {\\\"signal\\\": \\\"datum[\\\\\\\"c_x_axis_back\\\\\\\"]+667\\\"}, \\\"y\\\": {\\\"field\\\": \\\"c_second_item\\\"}}}, \\\"type\\\": \\\"text\\\"}, {\\\"from\\\": {\\\"data\\\": \\\"data_2\\\"}, \\\"encode\\\": {\\\"enter\\\": {\\\"x\\\": {\\\"value\\\": 700}, \\\"y\\\": {\\\"value\\\": 200}, \\\"text\\\": {\\\"signal\\\": \\\"((datum[\\\\\\\"categorical\\\\\\\"].length >= 3) &amp;&amp; (toString(datum[\\\\\\\"type\\\\\\\"]) == \\\\\\\"str\\\\\\\"))? toString(datum[\\\\\\\"categorical\\\\\\\"][2][\\\\\\\"count\\\\\\\"]):\\\\\\\"\\\\\\\"\\\"}, \\\"align\\\": {\\\"value\\\": \\\"right\\\"}, \\\"baseline\\\": {\\\"value\\\": \\\"middle\\\"}, \\\"dx\\\": {\\\"value\\\": 0, \\\"offset\\\": 0}, \\\"dy\\\": {\\\"value\\\": 0, \\\"offset\\\": 0}, \\\"angle\\\": {\\\"value\\\": 0}, \\\"clip\\\": {\\\"value\\\": true}, \\\"font\\\": {\\\"value\\\": \\\"AvenirNext-Medium\\\"}, \\\"fontSize\\\": {\\\"value\\\": 10}, \\\"fontWeight\\\": {\\\"value\\\": \\\"normal\\\"}, \\\"fontStyle\\\": {\\\"value\\\": \\\"normal\\\"}, \\\"fill\\\": {\\\"value\\\": \\\"#7A7A7A\\\"}}, \\\"update\\\": {\\\"x\\\": {\\\"signal\\\": \\\"datum[\\\\\\\"c_x_axis_back\\\\\\\"]+667\\\"}, \\\"y\\\": {\\\"field\\\": \\\"c_third_item\\\"}}}, \\\"type\\\": \\\"text\\\"}, {\\\"from\\\": {\\\"data\\\": \\\"data_2\\\"}, \\\"encode\\\": {\\\"enter\\\": {\\\"x\\\": {\\\"value\\\": 700}, \\\"y\\\": {\\\"value\\\": 200}, \\\"text\\\": {\\\"signal\\\": \\\"((datum[\\\\\\\"categorical\\\\\\\"].length >= 4) &amp;&amp; (toString(datum[\\\\\\\"type\\\\\\\"]) == \\\\\\\"str\\\\\\\"))? toString(datum[\\\\\\\"categorical\\\\\\\"][3][\\\\\\\"count\\\\\\\"]):\\\\\\\"\\\\\\\"\\\"}, \\\"align\\\": {\\\"value\\\": \\\"right\\\"}, \\\"baseline\\\": {\\\"value\\\": \\\"middle\\\"}, \\\"dx\\\": {\\\"value\\\": 0, \\\"offset\\\": 0}, \\\"dy\\\": {\\\"value\\\": 0, \\\"offset\\\": 0}, \\\"angle\\\": {\\\"value\\\": 0}, \\\"clip\\\": {\\\"value\\\": true}, \\\"font\\\": {\\\"value\\\": \\\"AvenirNext-Medium\\\"}, \\\"fontSize\\\": {\\\"value\\\": 10}, \\\"fontWeight\\\": {\\\"value\\\": \\\"normal\\\"}, \\\"fontStyle\\\": {\\\"value\\\": \\\"normal\\\"}, \\\"fill\\\": {\\\"value\\\": \\\"#7A7A7A\\\"}}, \\\"update\\\": {\\\"x\\\": {\\\"signal\\\": \\\"datum[\\\\\\\"c_x_axis_back\\\\\\\"]+667\\\"}, \\\"y\\\": {\\\"field\\\": \\\"c_fourth_item\\\"}}}, \\\"type\\\": \\\"text\\\"}, {\\\"from\\\": {\\\"data\\\": \\\"data_2\\\"}, \\\"encode\\\": {\\\"enter\\\": {\\\"x\\\": {\\\"value\\\": 700}, \\\"y\\\": {\\\"value\\\": 200}, \\\"text\\\": {\\\"signal\\\": \\\"((datum[\\\\\\\"categorical\\\\\\\"].length >= 5) &amp;&amp; (toString(datum[\\\\\\\"type\\\\\\\"]) == \\\\\\\"str\\\\\\\"))? toString(datum[\\\\\\\"categorical\\\\\\\"][4][\\\\\\\"count\\\\\\\"]):\\\\\\\"\\\\\\\"\\\"}, \\\"align\\\": {\\\"value\\\": \\\"right\\\"}, \\\"baseline\\\": {\\\"value\\\": \\\"middle\\\"}, \\\"dx\\\": {\\\"value\\\": 0, \\\"offset\\\": 0}, \\\"dy\\\": {\\\"value\\\": 0, \\\"offset\\\": 0}, \\\"angle\\\": {\\\"value\\\": 0}, \\\"clip\\\": {\\\"value\\\": true}, \\\"font\\\": {\\\"value\\\": \\\"AvenirNext-Medium\\\"}, \\\"fontSize\\\": {\\\"value\\\": 10}, \\\"fontWeight\\\": {\\\"value\\\": \\\"normal\\\"}, \\\"fontStyle\\\": {\\\"value\\\": \\\"normal\\\"}, \\\"fill\\\": {\\\"value\\\": \\\"#7A7A7A\\\"}}, \\\"update\\\": {\\\"x\\\": {\\\"signal\\\": \\\"datum[\\\\\\\"c_x_axis_back\\\\\\\"]+667\\\"}, \\\"y\\\": {\\\"field\\\": \\\"c_fifth_item\\\"}}}, \\\"type\\\": \\\"text\\\"}, {\\\"from\\\": {\\\"data\\\": \\\"data_2\\\"}, \\\"encode\\\": {\\\"enter\\\": {\\\"x\\\": {\\\"value\\\": 500}, \\\"y\\\": {\\\"value\\\": 200}, \\\"text\\\": {\\\"signal\\\": \\\"(toString(datum[\\\\\\\"type\\\\\\\"]) == \\\\\\\"integer\\\\\\\" || toString(datum[\\\\\\\"type\\\\\\\"]) == \\\\\\\"float\\\\\\\")? \\\\\\\"Mean:\\\\\\\":\\\\\\\"\\\\\\\"\\\"}, \\\"align\\\": {\\\"value\\\": \\\"left\\\"}, \\\"baseline\\\": {\\\"value\\\": \\\"middle\\\"}, \\\"dx\\\": {\\\"value\\\": 0, \\\"offset\\\": 0}, \\\"dy\\\": {\\\"value\\\": 0, \\\"offset\\\": 0}, \\\"angle\\\": {\\\"value\\\": 0}, \\\"clip\\\": {\\\"value\\\": true}, \\\"font\\\": {\\\"value\\\": \\\"AvenirNext-Medium\\\"}, \\\"fontSize\\\": {\\\"value\\\": 11}, \\\"fontWeight\\\": {\\\"value\\\": \\\"bold\\\"}, \\\"fontStyle\\\": {\\\"value\\\": \\\"normal\\\"}, \\\"fill\\\": {\\\"value\\\": \\\"#4A4A4A\\\"}}, \\\"update\\\": {\\\"x\\\": {\\\"signal\\\": \\\"datum[\\\\\\\"c_x_axis_back\\\\\\\"]+467\\\"}, \\\"y\\\": {\\\"field\\\": \\\"c_mean\\\"}}}, \\\"type\\\": \\\"text\\\"}, {\\\"from\\\": {\\\"data\\\": \\\"data_2\\\"}, \\\"encode\\\": {\\\"enter\\\": {\\\"x\\\": {\\\"value\\\": 500}, \\\"y\\\": {\\\"value\\\": 220}, \\\"text\\\": {\\\"signal\\\": \\\"(toString(datum[\\\\\\\"type\\\\\\\"]) == \\\\\\\"integer\\\\\\\" || toString(datum[\\\\\\\"type\\\\\\\"]) == \\\\\\\"float\\\\\\\")? \\\\\\\"Min:\\\\\\\":\\\\\\\"\\\\\\\"\\\"}, \\\"align\\\": {\\\"value\\\": \\\"left\\\"}, \\\"baseline\\\": {\\\"value\\\": \\\"middle\\\"}, \\\"dx\\\": {\\\"value\\\": 0, \\\"offset\\\": 0}, \\\"dy\\\": {\\\"value\\\": 0, \\\"offset\\\": 0}, \\\"angle\\\": {\\\"value\\\": 0}, \\\"font\\\": {\\\"value\\\": \\\"AvenirNext-Medium\\\"}, \\\"fontSize\\\": {\\\"value\\\": 11}, \\\"fontWeight\\\": {\\\"value\\\": \\\"bold\\\"}, \\\"fontStyle\\\": {\\\"value\\\": \\\"normal\\\"}, \\\"fill\\\": {\\\"value\\\": \\\"#4A4A4A\\\"}}, \\\"update\\\": {\\\"x\\\": {\\\"signal\\\": \\\"datum[\\\\\\\"c_x_axis_back\\\\\\\"]+467\\\"}, \\\"y\\\": {\\\"field\\\": \\\"c_min\\\"}}}, \\\"type\\\": \\\"text\\\"}, {\\\"from\\\": {\\\"data\\\": \\\"data_2\\\"}, \\\"encode\\\": {\\\"enter\\\": {\\\"x\\\": {\\\"value\\\": 500}, \\\"y\\\": {\\\"value\\\": 240}, \\\"text\\\": {\\\"signal\\\": \\\"(toString(datum[\\\\\\\"type\\\\\\\"]) == \\\\\\\"integer\\\\\\\" || toString(datum[\\\\\\\"type\\\\\\\"]) == \\\\\\\"float\\\\\\\")? \\\\\\\"Max:\\\\\\\":\\\\\\\"\\\\\\\"\\\"}, \\\"align\\\": {\\\"value\\\": \\\"left\\\"}, \\\"baseline\\\": {\\\"value\\\": \\\"middle\\\"}, \\\"dx\\\": {\\\"value\\\": 0, \\\"offset\\\": 0}, \\\"dy\\\": {\\\"value\\\": 0, \\\"offset\\\": 0}, \\\"angle\\\": {\\\"value\\\": 0}, \\\"font\\\": {\\\"value\\\": \\\"AvenirNext-Medium\\\"}, \\\"fontSize\\\": {\\\"value\\\": 11}, \\\"fontWeight\\\": {\\\"value\\\": \\\"bold\\\"}, \\\"fontStyle\\\": {\\\"value\\\": \\\"normal\\\"}, \\\"fill\\\": {\\\"value\\\": \\\"#4A4A4A\\\"}}, \\\"update\\\": {\\\"x\\\": {\\\"signal\\\": \\\"datum[\\\\\\\"c_x_axis_back\\\\\\\"]+467\\\"}, \\\"y\\\": {\\\"field\\\": \\\"c_max\\\"}}}, \\\"type\\\": \\\"text\\\"}, {\\\"from\\\": {\\\"data\\\": \\\"data_2\\\"}, \\\"encode\\\": {\\\"enter\\\": {\\\"x\\\": {\\\"value\\\": 500}, \\\"y\\\": {\\\"value\\\": 260}, \\\"text\\\": {\\\"signal\\\": \\\"(toString(datum[\\\\\\\"type\\\\\\\"]) == \\\\\\\"integer\\\\\\\" || toString(datum[\\\\\\\"type\\\\\\\"]) == \\\\\\\"float\\\\\\\")? \\\\\\\"Median:\\\\\\\":\\\\\\\"\\\\\\\"\\\"}, \\\"align\\\": {\\\"value\\\": \\\"left\\\"}, \\\"baseline\\\": {\\\"value\\\": \\\"middle\\\"}, \\\"dx\\\": {\\\"value\\\": 0, \\\"offset\\\": 0}, \\\"dy\\\": {\\\"value\\\": 0, \\\"offset\\\": 0}, \\\"angle\\\": {\\\"value\\\": 0}, \\\"font\\\": {\\\"value\\\": \\\"AvenirNext-Medium\\\"}, \\\"fontSize\\\": {\\\"value\\\": 11}, \\\"fontWeight\\\": {\\\"value\\\": \\\"bold\\\"}, \\\"fontStyle\\\": {\\\"value\\\": \\\"normal\\\"}, \\\"fill\\\": {\\\"value\\\": \\\"#4A4A4A\\\"}}, \\\"update\\\": {\\\"x\\\": {\\\"signal\\\": \\\"datum[\\\\\\\"c_x_axis_back\\\\\\\"]+467\\\"}, \\\"y\\\": {\\\"field\\\": \\\"c_median\\\"}}}, \\\"type\\\": \\\"text\\\"}, {\\\"from\\\": {\\\"data\\\": \\\"data_2\\\"}, \\\"encode\\\": {\\\"enter\\\": {\\\"x\\\": {\\\"value\\\": 500}, \\\"y\\\": {\\\"value\\\": 280}, \\\"text\\\": {\\\"signal\\\": \\\"(toString(datum[\\\\\\\"type\\\\\\\"]) == \\\\\\\"integer\\\\\\\" || toString(datum[\\\\\\\"type\\\\\\\"]) == \\\\\\\"float\\\\\\\")? \\\\\\\"St. Dev:\\\\\\\":\\\\\\\"\\\\\\\"\\\"}, \\\"align\\\": {\\\"value\\\": \\\"left\\\"}, \\\"baseline\\\": {\\\"value\\\": \\\"middle\\\"}, \\\"dx\\\": {\\\"value\\\": 0, \\\"offset\\\": 0}, \\\"dy\\\": {\\\"value\\\": 0, \\\"offset\\\": 0}, \\\"angle\\\": {\\\"value\\\": 0}, \\\"font\\\": {\\\"value\\\": \\\"AvenirNext-Medium\\\"}, \\\"fontSize\\\": {\\\"value\\\": 11}, \\\"fontWeight\\\": {\\\"value\\\": \\\"bold\\\"}, \\\"fontStyle\\\": {\\\"value\\\": \\\"normal\\\"}, \\\"fill\\\": {\\\"value\\\": \\\"#4A4A4A\\\"}}, \\\"update\\\": {\\\"x\\\": {\\\"signal\\\": \\\"datum[\\\\\\\"c_x_axis_back\\\\\\\"]+467\\\"}, \\\"y\\\": {\\\"field\\\": \\\"c_stdev\\\"}}}, \\\"type\\\": \\\"text\\\"}, {\\\"from\\\": {\\\"data\\\": \\\"data_2\\\"}, \\\"encode\\\": {\\\"enter\\\": {\\\"x\\\": {\\\"value\\\": 700}, \\\"y\\\": {\\\"value\\\": 198}, \\\"text\\\": {\\\"signal\\\": \\\"(toString(datum[\\\\\\\"type\\\\\\\"]) == \\\\\\\"integer\\\\\\\" || toString(datum[\\\\\\\"type\\\\\\\"]) == \\\\\\\"float\\\\\\\")?toString(format(datum[\\\\\\\"mean\\\\\\\"], \\\\\\\",\\\\\\\")):\\\\\\\"\\\\\\\"\\\"}, \\\"align\\\": {\\\"value\\\": \\\"right\\\"}, \\\"baseline\\\": {\\\"value\\\": \\\"middle\\\"}, \\\"dx\\\": {\\\"value\\\": 0, \\\"offset\\\": 0}, \\\"dy\\\": {\\\"value\\\": 0, \\\"offset\\\": 0}, \\\"angle\\\": {\\\"value\\\": 0}, \\\"font\\\": {\\\"value\\\": \\\"AvenirNext-Medium\\\"}, \\\"fontSize\\\": {\\\"value\\\": 10}, \\\"fontWeight\\\": {\\\"value\\\": \\\"normal\\\"}, \\\"fontStyle\\\": {\\\"value\\\": \\\"normal\\\"}, \\\"fill\\\": {\\\"value\\\": \\\"#6A6A6A\\\"}}, \\\"update\\\": {\\\"x\\\": {\\\"signal\\\": \\\"datum[\\\\\\\"c_x_axis_back\\\\\\\"]+667\\\"}, \\\"y\\\": {\\\"field\\\": \\\"c_mean_val\\\"}}}, \\\"type\\\": \\\"text\\\"}, {\\\"from\\\": {\\\"data\\\": \\\"data_2\\\"}, \\\"encode\\\": {\\\"enter\\\": {\\\"x\\\": {\\\"value\\\": 700}, \\\"y\\\": {\\\"value\\\": 218}, \\\"text\\\": {\\\"signal\\\": \\\"(toString(datum[\\\\\\\"type\\\\\\\"]) == \\\\\\\"integer\\\\\\\" || toString(datum[\\\\\\\"type\\\\\\\"]) == \\\\\\\"float\\\\\\\")?toString(format(datum[\\\\\\\"min\\\\\\\"], \\\\\\\",\\\\\\\")):\\\\\\\"\\\\\\\"\\\"}, \\\"align\\\": {\\\"value\\\": \\\"right\\\"}, \\\"baseline\\\": {\\\"value\\\": \\\"middle\\\"}, \\\"dx\\\": {\\\"value\\\": 0, \\\"offset\\\": 0}, \\\"dy\\\": {\\\"value\\\": 0, \\\"offset\\\": 0}, \\\"angle\\\": {\\\"value\\\": 0}, \\\"font\\\": {\\\"value\\\": \\\"AvenirNext-Medium\\\"}, \\\"fontSize\\\": {\\\"value\\\": 10}, \\\"fontWeight\\\": {\\\"value\\\": \\\"normal\\\"}, \\\"fontStyle\\\": {\\\"value\\\": \\\"normal\\\"}, \\\"fill\\\": {\\\"value\\\": \\\"#6A6A6A\\\"}}, \\\"update\\\": {\\\"x\\\": {\\\"signal\\\": \\\"datum[\\\\\\\"c_x_axis_back\\\\\\\"]+667\\\"}, \\\"y\\\": {\\\"field\\\": \\\"c_min_val\\\"}}}, \\\"type\\\": \\\"text\\\"}, {\\\"from\\\": {\\\"data\\\": \\\"data_2\\\"}, \\\"encode\\\": {\\\"enter\\\": {\\\"x\\\": {\\\"value\\\": 700}, \\\"y\\\": {\\\"value\\\": 238}, \\\"text\\\": {\\\"signal\\\": \\\"(toString(datum[\\\\\\\"type\\\\\\\"]) == \\\\\\\"integer\\\\\\\" || toString(datum[\\\\\\\"type\\\\\\\"]) == \\\\\\\"float\\\\\\\")?toString(format(datum[\\\\\\\"max\\\\\\\"], \\\\\\\",\\\\\\\")):\\\\\\\"\\\\\\\"\\\"}, \\\"align\\\": {\\\"value\\\": \\\"right\\\"}, \\\"baseline\\\": {\\\"value\\\": \\\"middle\\\"}, \\\"dx\\\": {\\\"value\\\": 0, \\\"offset\\\": 0}, \\\"dy\\\": {\\\"value\\\": 0, \\\"offset\\\": 0}, \\\"angle\\\": {\\\"value\\\": 0}, \\\"font\\\": {\\\"value\\\": \\\"AvenirNext-Medium\\\"}, \\\"fontSize\\\": {\\\"value\\\": 10}, \\\"fontWeight\\\": {\\\"value\\\": \\\"normal\\\"}, \\\"fontStyle\\\": {\\\"value\\\": \\\"normal\\\"}, \\\"fill\\\": {\\\"value\\\": \\\"#6A6A6A\\\"}}, \\\"update\\\": {\\\"x\\\": {\\\"signal\\\": \\\"datum[\\\\\\\"c_x_axis_back\\\\\\\"]+667\\\"}, \\\"y\\\": {\\\"field\\\": \\\"c_max_val\\\"}}}, \\\"type\\\": \\\"text\\\"}, {\\\"from\\\": {\\\"data\\\": \\\"data_2\\\"}, \\\"encode\\\": {\\\"enter\\\": {\\\"x\\\": {\\\"value\\\": 700}, \\\"y\\\": {\\\"value\\\": 258}, \\\"text\\\": {\\\"signal\\\": \\\"(toString(datum[\\\\\\\"type\\\\\\\"]) == \\\\\\\"integer\\\\\\\" || toString(datum[\\\\\\\"type\\\\\\\"]) == \\\\\\\"float\\\\\\\")?toString(format(datum[\\\\\\\"median\\\\\\\"], \\\\\\\",\\\\\\\")):\\\\\\\"\\\\\\\"\\\"}, \\\"align\\\": {\\\"value\\\": \\\"right\\\"}, \\\"baseline\\\": {\\\"value\\\": \\\"middle\\\"}, \\\"dx\\\": {\\\"value\\\": 0, \\\"offset\\\": 0}, \\\"dy\\\": {\\\"value\\\": 0, \\\"offset\\\": 0}, \\\"angle\\\": {\\\"value\\\": 0}, \\\"font\\\": {\\\"value\\\": \\\"AvenirNext-Medium\\\"}, \\\"fontSize\\\": {\\\"value\\\": 10}, \\\"fontWeight\\\": {\\\"value\\\": \\\"normal\\\"}, \\\"fontStyle\\\": {\\\"value\\\": \\\"normal\\\"}, \\\"fill\\\": {\\\"value\\\": \\\"#6A6A6A\\\"}}, \\\"update\\\": {\\\"x\\\": {\\\"signal\\\": \\\"datum[\\\\\\\"c_x_axis_back\\\\\\\"]+667\\\"}, \\\"y\\\": {\\\"field\\\": \\\"c_median_val\\\"}}}, \\\"type\\\": \\\"text\\\"}, {\\\"from\\\": {\\\"data\\\": \\\"data_2\\\"}, \\\"encode\\\": {\\\"enter\\\": {\\\"x\\\": {\\\"value\\\": 700}, \\\"y\\\": {\\\"value\\\": 278}, \\\"text\\\": {\\\"signal\\\": \\\"(toString(datum[\\\\\\\"type\\\\\\\"]) == \\\\\\\"integer\\\\\\\" || toString(datum[\\\\\\\"type\\\\\\\"]) == \\\\\\\"float\\\\\\\")?toString(format(datum[\\\\\\\"stdev\\\\\\\"], \\\\\\\",\\\\\\\")):\\\\\\\"\\\\\\\"\\\"}, \\\"align\\\": {\\\"value\\\": \\\"right\\\"}, \\\"baseline\\\": {\\\"value\\\": \\\"middle\\\"}, \\\"dx\\\": {\\\"value\\\": 0, \\\"offset\\\": 0}, \\\"dy\\\": {\\\"value\\\": 0, \\\"offset\\\": 0}, \\\"angle\\\": {\\\"value\\\": 0}, \\\"font\\\": {\\\"value\\\": \\\"AvenirNext-Medium\\\"}, \\\"fontSize\\\": {\\\"value\\\": 10}, \\\"fontWeight\\\": {\\\"value\\\": \\\"normal\\\"}, \\\"fontStyle\\\": {\\\"value\\\": \\\"normal\\\"}, \\\"fill\\\": {\\\"value\\\": \\\"#6A6A6A\\\"}}, \\\"update\\\": {\\\"x\\\": {\\\"signal\\\": \\\"datum[\\\\\\\"c_x_axis_back\\\\\\\"]+667\\\"}, \\\"y\\\": {\\\"field\\\": \\\"c_stdev_val\\\"}}}, \\\"type\\\": \\\"text\\\"}, {\\\"from\\\": {\\\"facet\\\": {\\\"name\\\": \\\"new_data\\\", \\\"data\\\": \\\"data_2\\\", \\\"field\\\": \\\"numeric\\\"}}, \\\"encode\\\": {\\\"enter\\\": {\\\"x\\\": {\\\"value\\\": 120}, \\\"width\\\": {\\\"value\\\": 250}, \\\"y\\\": {\\\"field\\\": \\\"graph_offset\\\"}, \\\"height\\\": {\\\"value\\\": 150}, \\\"fill\\\": {\\\"value\\\": \\\"#ffffff\\\"}, \\\"fillOpacity\\\": {\\\"value\\\": 0}, \\\"stroke\\\": {\\\"value\\\": \\\"#000000\\\"}, \\\"strokeWidth\\\": {\\\"value\\\": 0}}, \\\"update\\\": {\\\"x\\\": {\\\"signal\\\": \\\"datum[\\\\\\\"c_x_axis_back\\\\\\\"]+87\\\"}, \\\"clip\\\": {\\\"field\\\": \\\"c_clip_val\\\"}, \\\"width\\\": {\\\"field\\\": \\\"c_width_numeric_val\\\"}}}, \\\"type\\\": \\\"group\\\", \\\"scales\\\": [{\\\"name\\\": \\\"x\\\", \\\"type\\\": \\\"linear\\\", \\\"domain\\\": {\\\"data\\\": \\\"new_data\\\", \\\"fields\\\": [\\\"left\\\", \\\"right\\\"], \\\"sort\\\": true}, \\\"range\\\": [0, {\\\"signal\\\": \\\"width\\\"}], \\\"nice\\\": true, \\\"zero\\\": true}, {\\\"name\\\": \\\"y\\\", \\\"type\\\": \\\"linear\\\", \\\"domain\\\": {\\\"data\\\": \\\"new_data\\\", \\\"field\\\": \\\"count\\\"}, \\\"range\\\": [{\\\"signal\\\": \\\"height\\\"}, 0], \\\"nice\\\": true, \\\"zero\\\": true}], \\\"axes\\\": [{\\\"title\\\": \\\"Values\\\", \\\"scale\\\": \\\"x\\\", \\\"labelOverlap\\\": true, \\\"orient\\\": \\\"bottom\\\", \\\"tickCount\\\": {\\\"signal\\\": \\\"ceil(width/40)\\\"}, \\\"zindex\\\": 1}, {\\\"scale\\\": \\\"x\\\", \\\"domain\\\": false, \\\"grid\\\": true, \\\"labels\\\": false, \\\"maxExtent\\\": 0, \\\"minExtent\\\": 0, \\\"orient\\\": \\\"bottom\\\", \\\"tickCount\\\": {\\\"signal\\\": \\\"ceil(width/40)\\\"}, \\\"ticks\\\": false, \\\"zindex\\\": 0, \\\"gridScale\\\": \\\"y\\\"}, {\\\"title\\\": \\\"Count\\\", \\\"scale\\\": \\\"y\\\", \\\"labelOverlap\\\": true, \\\"orient\\\": \\\"left\\\", \\\"tickCount\\\": {\\\"signal\\\": \\\"ceil(height/40)\\\"}, \\\"zindex\\\": 1}, {\\\"scale\\\": \\\"y\\\", \\\"domain\\\": false, \\\"grid\\\": true, \\\"labels\\\": false, \\\"maxExtent\\\": 0, \\\"minExtent\\\": 0, \\\"orient\\\": \\\"left\\\", \\\"tickCount\\\": {\\\"signal\\\": \\\"ceil(height/40)\\\"}, \\\"ticks\\\": false, \\\"zindex\\\": 0, \\\"gridScale\\\": \\\"x\\\"}], \\\"style\\\": \\\"cell\\\", \\\"signals\\\": [{\\\"name\\\": \\\"width\\\", \\\"update\\\": \\\"250\\\"}, {\\\"name\\\": \\\"height\\\", \\\"update\\\": \\\"150\\\"}], \\\"marks\\\": [{\\\"name\\\": \\\"marks\\\", \\\"type\\\": \\\"rect\\\", \\\"style\\\": [\\\"rect\\\"], \\\"from\\\": {\\\"data\\\": \\\"new_data\\\"}, \\\"encode\\\": {\\\"hover\\\": {\\\"fill\\\": {\\\"value\\\": \\\"#7EC2F3\\\"}}, \\\"update\\\": {\\\"x\\\": {\\\"scale\\\": \\\"x\\\", \\\"field\\\": \\\"left\\\"}, \\\"x2\\\": {\\\"scale\\\": \\\"x\\\", \\\"field\\\": \\\"right\\\"}, \\\"y\\\": {\\\"scale\\\": \\\"y\\\", \\\"field\\\": \\\"count\\\"}, \\\"y2\\\": {\\\"scale\\\": \\\"y\\\", \\\"value\\\": 0}, \\\"fill\\\": {\\\"value\\\": \\\"#108EE9\\\"}}}}]}, {\\\"from\\\": {\\\"facet\\\": {\\\"name\\\": \\\"data_5\\\", \\\"data\\\": \\\"data_2\\\", \\\"field\\\": \\\"categorical\\\"}}, \\\"encode\\\": {\\\"enter\\\": {\\\"x\\\": {\\\"value\\\": 170}, \\\"width\\\": {\\\"value\\\": 250}, \\\"y\\\": {\\\"field\\\": \\\"graph_offset_categorical\\\"}, \\\"height\\\": {\\\"value\\\": 150}, \\\"fill\\\": {\\\"value\\\": \\\"#ffffff\\\"}, \\\"fillOpacity\\\": {\\\"value\\\": 0}, \\\"stroke\\\": {\\\"value\\\": \\\"#000000\\\"}, \\\"strokeWidth\\\": {\\\"value\\\": 0}}, \\\"update\\\": {\\\"x\\\": {\\\"signal\\\": \\\"datum[\\\\\\\"c_x_axis_back\\\\\\\"]+137\\\"}, \\\"clip\\\": {\\\"field\\\": \\\"c_clip_val_cat\\\"}, \\\"width\\\": {\\\"field\\\": \\\"c_width_numeric_val_cat\\\"}}}, \\\"type\\\": \\\"group\\\", \\\"style\\\": \\\"cell\\\", \\\"signals\\\": [{\\\"name\\\": \\\"unit\\\", \\\"value\\\": {}, \\\"on\\\": [{\\\"events\\\": \\\"mousemove\\\", \\\"update\\\": \\\"isTuple(group()) ? group() : unit\\\"}]}, {\\\"name\\\": \\\"pts\\\", \\\"update\\\": \\\"data(\\\\\\\"pts_store\\\\\\\").length &amp;&amp; {count: data(\\\\\\\"pts_store\\\\\\\")[0].values[0]}\\\"}, {\\\"name\\\": \\\"pts_tuple\\\", \\\"value\\\": {}, \\\"on\\\": [{\\\"events\\\": [{\\\"source\\\": \\\"scope\\\", \\\"type\\\": \\\"click\\\"}], \\\"update\\\": \\\"datum &amp;&amp; item().mark.marktype !== &apos;group&apos; ? {unit: \\\\\\\"\\\\\\\", encodings: [\\\\\\\"x\\\\\\\"], fields: [\\\\\\\"count\\\\\\\"], values: [datum[\\\\\\\"count\\\\\\\"]]} : null\\\", \\\"force\\\": true}]}, {\\\"name\\\": \\\"pts_modify\\\", \\\"on\\\": [{\\\"events\\\": {\\\"signal\\\": \\\"pts_tuple\\\"}, \\\"update\\\": \\\"modify(\\\\\\\"pts_store\\\\\\\", pts_tuple, true)\\\"}]}], \\\"marks\\\": [{\\\"name\\\": \\\"marks\\\", \\\"type\\\": \\\"rect\\\", \\\"style\\\": [\\\"bar\\\"], \\\"from\\\": {\\\"data\\\": \\\"data_5\\\"}, \\\"encode\\\": {\\\"hover\\\": {\\\"fill\\\": {\\\"value\\\": \\\"#7EC2F3\\\"}}, \\\"update\\\": {\\\"x\\\": {\\\"scale\\\": \\\"x\\\", \\\"field\\\": \\\"count\\\"}, \\\"x2\\\": {\\\"scale\\\": \\\"x\\\", \\\"value\\\": 0}, \\\"y\\\": {\\\"scale\\\": \\\"y\\\", \\\"field\\\": \\\"label\\\"}, \\\"height\\\": {\\\"scale\\\": \\\"y\\\", \\\"band\\\": true}, \\\"fill\\\": {\\\"value\\\": \\\"#108EE9\\\"}}}}], \\\"scales\\\": [{\\\"name\\\": \\\"x\\\", \\\"type\\\": \\\"linear\\\", \\\"domain\\\": {\\\"data\\\": \\\"data_5\\\", \\\"field\\\": \\\"count\\\"}, \\\"range\\\": [0, 250], \\\"nice\\\": true, \\\"zero\\\": true}, {\\\"name\\\": \\\"y\\\", \\\"type\\\": \\\"band\\\", \\\"domain\\\": {\\\"data\\\": \\\"data_5\\\", \\\"field\\\": \\\"label\\\", \\\"sort\\\": {\\\"op\\\": \\\"mean\\\", \\\"field\\\": \\\"label_idx\\\", \\\"order\\\": \\\"descending\\\"}}, \\\"range\\\": [150, 0], \\\"paddingInner\\\": 0.1, \\\"paddingOuter\\\": 0.05}], \\\"axes\\\": [{\\\"orient\\\": \\\"top\\\", \\\"scale\\\": \\\"x\\\", \\\"labelOverlap\\\": true, \\\"tickCount\\\": {\\\"signal\\\": \\\"ceil(width/40)\\\"}, \\\"title\\\": \\\"Count\\\", \\\"zindex\\\": 1}, {\\\"orient\\\": \\\"top\\\", \\\"scale\\\": \\\"x\\\", \\\"domain\\\": false, \\\"grid\\\": true, \\\"labels\\\": false, \\\"maxExtent\\\": 0, \\\"minExtent\\\": 0, \\\"tickCount\\\": {\\\"signal\\\": \\\"ceil(width/40)\\\"}, \\\"ticks\\\": false, \\\"zindex\\\": 0, \\\"gridScale\\\": \\\"y\\\"}, {\\\"scale\\\": \\\"y\\\", \\\"labelOverlap\\\": true, \\\"orient\\\": \\\"left\\\", \\\"title\\\": \\\"Label\\\", \\\"zindex\\\": 1}]}], \\\"type\\\": \\\"group\\\"}], \\\"type\\\": \\\"group\\\"}], \\\"config\\\": {\\\"axis\\\": {\\\"labelFont\\\": \\\"HelveticaNeue-Light, Arial\\\", \\\"labelFontSize\\\": 7, \\\"labelPadding\\\": 10, \\\"labelColor\\\": \\\"#595959\\\", \\\"titleFont\\\": \\\"HelveticaNeue-Light, Arial\\\", \\\"titleFontWeight\\\": \\\"normal\\\", \\\"titlePadding\\\": 9, \\\"titleFontSize\\\": 12, \\\"titleColor\\\": \\\"#595959\\\"}, \\\"axisY\\\": {\\\"minExtent\\\": 30}, \\\"style\\\": {\\\"rect\\\": {\\\"stroke\\\": \\\"rgba(200, 200, 200, 0.5)\\\"}, \\\"group-title\\\": {\\\"fontSize\\\": 20, \\\"font\\\": \\\"HelveticaNeue-Light, Arial\\\", \\\"fontWeight\\\": \\\"normal\\\", \\\"fill\\\": \\\"#595959\\\"}}}}\";                                 var vega_json_parsed = JSON.parse(vega_json);                                 var toolTipOpts = {                                     showAllFields: true                                 };                                 if(vega_json_parsed[\"metadata\"] != null){                                     if(vega_json_parsed[\"metadata\"][\"bubbleOpts\"] != null){                                         toolTipOpts = vega_json_parsed[\"metadata\"][\"bubbleOpts\"];                                     };                                 };                                 vegaEmbed(\"#vis\", vega_json_parsed).then(function (result) {                                     vegaTooltip.vega(result.view, toolTipOpts);                                  });                             </script>                         </body>                     </html>' src=\"demo_iframe_srcdoc.htm\">                         <p>Your browser does not support iframes.</p>                     </iframe>                 </body>             </html>"
            ],
            "text/plain": [
              "<IPython.core.display.HTML object>"
            ]
          },
          "metadata": {
            "tags": []
          }
        }
      ]
    },
    {
      "cell_type": "markdown",
      "metadata": {
        "id": "xtSHSQJbN335",
        "colab_type": "text"
      },
      "source": [
        "Biểu diễn mối liên hệ giữa feature \"sqft_living\" và \"price\" với 2 biến X và Y tương ứng, hiển thị dữ liệu từ hàng 1 tới 4999"
      ]
    },
    {
      "cell_type": "code",
      "metadata": {
        "id": "1nHoRJW5SbQ5",
        "colab_type": "code",
        "colab": {
          "base_uri": "https://localhost:8080/",
          "height": 825
        },
        "outputId": "91315874-e4e0-4ca5-c6a6-3f44485cd160"
      },
      "source": [
        "turicreate.show(sales[1:5000]['sqft_living'],sales[1:5000]['price'])"
      ],
      "execution_count": null,
      "outputs": [
        {
          "output_type": "display_data",
          "data": {
            "text/html": [
              "<pre>Materializing X axis SArray</pre>"
            ],
            "text/plain": [
              "Materializing X axis SArray"
            ]
          },
          "metadata": {
            "tags": []
          }
        },
        {
          "output_type": "display_data",
          "data": {
            "text/html": [
              "<pre>Materializing Y axis SArray</pre>"
            ],
            "text/plain": [
              "Materializing Y axis SArray"
            ]
          },
          "metadata": {
            "tags": []
          }
        },
        {
          "output_type": "display_data",
          "data": {
            "text/html": [
              "<html>                 <body>                     <iframe style=\"border:0;margin:0\" width=\"920\" height=\"770\" srcdoc='<html lang=\"en\">                         <head>                             <script src=\"https://cdnjs.cloudflare.com/ajax/libs/vega/5.4.0/vega.js\"></script>                             <script src=\"https://cdnjs.cloudflare.com/ajax/libs/vega-embed/4.0.0/vega-embed.js\"></script>                             <script src=\"https://cdnjs.cloudflare.com/ajax/libs/vega-tooltip/0.5.1/vega-tooltip.min.js\"></script>                             <link rel=\"stylesheet\" type=\"text/css\" href=\"https://cdnjs.cloudflare.com/ajax/libs/vega-tooltip/0.5.1/vega-tooltip.min.css\">                             <style>                             .vega-actions > a{                                 color:white;                                 text-decoration: none;                                 font-family: \"Arial\";                                 cursor:pointer;                                 padding:5px;                                 background:#AAAAAA;                                 border-radius:4px;                                 padding-left:10px;                                 padding-right:10px;                                 margin-right:5px;                             }                             .vega-actions{                                 margin-top:20px;                                 text-align:center                             }                            .vega-actions > a{                                 background:#999999;                            }                             </style>                         </head>                         <body>                             <div id=\"vis\">                             </div>                             <script>                                 var vega_json = \"{\\\"$schema\\\": \\\"https://vega.github.io/schema/vega/v4.json\\\", \\\"autosize\\\": {\\\"type\\\": \\\"fit\\\", \\\"resize\\\": false, \\\"contains\\\": \\\"padding\\\"}, \\\"padding\\\": 8, \\\"width\\\": 720, \\\"height\\\": 550, \\\"style\\\": \\\"cell\\\", \\\"title\\\": \\\"X vs. Y\\\", \\\"data\\\": [{\\\"name\\\": \\\"source_2\\\", \\\"values\\\": [{\\\"x\\\": 2570.0, \\\"y\\\": 538000.0}, {\\\"x\\\": 770.0, \\\"y\\\": 180000.0}, {\\\"x\\\": 1960.0, \\\"y\\\": 604000.0}, {\\\"x\\\": 1680.0, \\\"y\\\": 510000.0}, {\\\"x\\\": 5420.0, \\\"y\\\": 1225000.0}, {\\\"x\\\": 1715.0, \\\"y\\\": 257500.0}, {\\\"x\\\": 1060.0, \\\"y\\\": 291850.0}, {\\\"x\\\": 1780.0, \\\"y\\\": 229500.0}, {\\\"x\\\": 1890.0, \\\"y\\\": 323000.0}, {\\\"x\\\": 3560.0, \\\"y\\\": 662500.0}, {\\\"x\\\": 1160.0, \\\"y\\\": 468000.0}, {\\\"x\\\": 1430.0, \\\"y\\\": 310000.0}, {\\\"x\\\": 1370.0, \\\"y\\\": 400000.0}, {\\\"x\\\": 1810.0, \\\"y\\\": 530000.0}, {\\\"x\\\": 2950.0, \\\"y\\\": 650000.0}, {\\\"x\\\": 1890.0, \\\"y\\\": 395000.0}, {\\\"x\\\": 1600.0, \\\"y\\\": 485000.0}, {\\\"x\\\": 1200.0, \\\"y\\\": 189000.0}, {\\\"x\\\": 1250.0, \\\"y\\\": 230000.0}, {\\\"x\\\": 1620.0, \\\"y\\\": 385000.0}, {\\\"x\\\": 3050.0, \\\"y\\\": 2000000.0}, {\\\"x\\\": 2270.0, \\\"y\\\": 285000.0}, {\\\"x\\\": 1070.0, \\\"y\\\": 252700.0}, {\\\"x\\\": 2450.0, \\\"y\\\": 329000.0}, {\\\"x\\\": 1710.0, \\\"y\\\": 233000.0}, {\\\"x\\\": 2450.0, \\\"y\\\": 937000.0}, {\\\"x\\\": 1400.0, \\\"y\\\": 667000.0}, {\\\"x\\\": 1520.0, \\\"y\\\": 438000.0}, {\\\"x\\\": 2570.0, \\\"y\\\": 719000.0}, {\\\"x\\\": 2320.0, \\\"y\\\": 580500.0}, {\\\"x\\\": 1190.0, \\\"y\\\": 280000.0}, {\\\"x\\\": 2330.0, \\\"y\\\": 687500.0}, {\\\"x\\\": 1090.0, \\\"y\\\": 535000.0}, {\\\"x\\\": 2060.0, \\\"y\\\": 322500.0}, {\\\"x\\\": 2300.0, \\\"y\\\": 696000.0}, {\\\"x\\\": 1660.0, \\\"y\\\": 550000.0}, {\\\"x\\\": 2360.0, \\\"y\\\": 640000.0}, {\\\"x\\\": 1220.0, \\\"y\\\": 240000.0}, {\\\"x\\\": 2620.0, \\\"y\\\": 605000.0}, {\\\"x\\\": 2570.0, \\\"y\\\": 625000.0}, {\\\"x\\\": 4220.0, \\\"y\\\": 775000.0}, {\\\"x\\\": 3595.0, \\\"y\\\": 861990.0}, {\\\"x\\\": 1570.0, \\\"y\\\": 685000.0}, {\\\"x\\\": 1280.0, \\\"y\\\": 309000.0}, {\\\"x\\\": 3160.0, \\\"y\\\": 488000.0}, {\\\"x\\\": 990.0, \\\"y\\\": 210490.0}, {\\\"x\\\": 2290.0, \\\"y\\\": 785000.0}, {\\\"x\\\": 1250.0, \\\"y\\\": 450000.0}, {\\\"x\\\": 2753.0, \\\"y\\\": 1350000.0}, {\\\"x\\\": 1190.0, \\\"y\\\": 228000.0}, {\\\"x\\\": 3150.0, \\\"y\\\": 345000.0}, {\\\"x\\\": 1410.0, \\\"y\\\": 600000.0}, {\\\"x\\\": 1980.0, \\\"y\\\": 585000.0}, {\\\"x\\\": 2730.0, \\\"y\\\": 920000.0}, {\\\"x\\\": 2830.0, \\\"y\\\": 885000.0}, {\\\"x\\\": 2250.0, \\\"y\\\": 292500.0}, {\\\"x\\\": 2420.0, \\\"y\\\": 301000.0}, {\\\"x\\\": 3250.0, \\\"y\\\": 951000.0}, {\\\"x\\\": 1850.0, \\\"y\\\": 430000.0}, {\\\"x\\\": 2150.0, \\\"y\\\": 650000.0}, {\\\"x\\\": 1260.0, \\\"y\\\": 289000.0}, {\\\"x\\\": 2519.0, \\\"y\\\": 505000.0}, {\\\"x\\\": 1540.0, \\\"y\\\": 549000.0}, {\\\"x\\\": 1660.0, \\\"y\\\": 425000.0}, {\\\"x\\\": 2770.0, \\\"y\\\": 317625.0}, {\\\"x\\\": 2720.0, \\\"y\\\": 975000.0}, {\\\"x\\\": 2240.0, \\\"y\\\": 287000.0}, {\\\"x\\\": 1000.0, \\\"y\\\": 204000.0}, {\\\"x\\\": 3200.0, \\\"y\\\": 1325000.0}, {\\\"x\\\": 4770.0, \\\"y\\\": 1040000.0}, {\\\"x\\\": 1260.0, \\\"y\\\": 325000.0}, {\\\"x\\\": 2750.0, \\\"y\\\": 571000.0}, {\\\"x\\\": 2380.0, \\\"y\\\": 360000.0}, {\\\"x\\\": 1790.0, \\\"y\\\": 349000.0}, {\\\"x\\\": 3430.0, \\\"y\\\": 832500.0}, {\\\"x\\\": 1760.0, \\\"y\\\": 380000.0}, {\\\"x\\\": 1040.0, \\\"y\\\": 480000.0}, {\\\"x\\\": 1410.0, \\\"y\\\": 410000.0}, {\\\"x\\\": 3450.0, \\\"y\\\": 720000.0}, {\\\"x\\\": 2350.0, \\\"y\\\": 390000.0}, {\\\"x\\\": 1900.0, \\\"y\\\": 360000.0}, {\\\"x\\\": 2020.0, \\\"y\\\": 355000.0}, {\\\"x\\\": 1680.0, \\\"y\\\": 356000.0}, {\\\"x\\\": 960.0, \\\"y\\\": 315000.0}, {\\\"x\\\": 2140.0, \\\"y\\\": 940000.0}, {\\\"x\\\": 2660.0, \\\"y\\\": 305000.0}, {\\\"x\\\": 2770.0, \\\"y\\\": 461000.0}, {\\\"x\\\": 1610.0, \\\"y\\\": 215000.0}, {\\\"x\\\": 1030.0, \\\"y\\\": 335000.0}, {\\\"x\\\": 1980.0, \\\"y\\\": 243500.0}, {\\\"x\\\": 3520.0, \\\"y\\\": 1099880.0}, {\\\"x\\\": 1200.0, \\\"y\\\": 153000.0}, {\\\"x\\\": 1580.0, \\\"y\\\": 430000.0}, {\\\"x\\\": 1580.0, \\\"y\\\": 700000.0}, {\\\"x\\\": 3300.0, \\\"y\\\": 905000.0}, {\\\"x\\\": 1960.0, \\\"y\\\": 247500.0}, {\\\"x\\\": 1160.0, \\\"y\\\": 199000.0}, {\\\"x\\\": 1810.0, \\\"y\\\": 314000.0}, {\\\"x\\\": 2320.0, \\\"y\\\": 437500.0}, {\\\"x\\\": 2070.0, \\\"y\\\": 850830.0}, {\\\"x\\\": 1980.0, \\\"y\\\": 555000.0}, {\\\"x\\\": 2190.0, \\\"y\\\": 699950.0}, {\\\"x\\\": 2920.0, \\\"y\\\": 1088000.0}, {\\\"x\\\": 1210.0, \\\"y\\\": 290000.0}, {\\\"x\\\": 2340.0, \\\"y\\\": 375000.0}, {\\\"x\\\": 1670.0, \\\"y\\\": 460000.0}, {\\\"x\\\": 1240.0, \\\"y\\\": 188500.0}, {\\\"x\\\": 3140.0, \\\"y\\\": 680000.0}, {\\\"x\\\": 2030.0, \\\"y\\\": 470000.0}, {\\\"x\\\": 2310.0, \\\"y\\\": 597750.0}, {\\\"x\\\": 1260.0, \\\"y\\\": 570000.0}, {\\\"x\\\": 1540.0, \\\"y\\\": 272500.0}, {\\\"x\\\": 2080.0, \\\"y\\\": 329950.0}, {\\\"x\\\": 3230.0, \\\"y\\\": 480000.0}, {\\\"x\\\": 4380.0, \\\"y\\\": 740500.0}, {\\\"x\\\": 1590.0, \\\"y\\\": 518500.0}, {\\\"x\\\": 880.0, \\\"y\\\": 205425.0}, {\\\"x\\\": 1570.0, \\\"y\\\": 171800.0}, {\\\"x\\\": 1610.0, \\\"y\\\": 535000.0}, {\\\"x\\\": 2400.0, \\\"y\\\": 660000.0}, {\\\"x\\\": 1450.0, \\\"y\\\": 391500.0}, {\\\"x\\\": 770.0, \\\"y\\\": 395000.0}, {\\\"x\\\": 2100.0, \\\"y\\\": 445000.0}, {\\\"x\\\": 2910.0, \\\"y\\\": 770000.0}, {\\\"x\\\": 2750.0, \\\"y\\\": 1450000.0}, {\\\"x\\\": 2100.0, \\\"y\\\": 445000.0}, {\\\"x\\\": 2160.0, \\\"y\\\": 260000.0}, {\\\"x\\\": 2320.0, \\\"y\\\": 822500.0}, {\\\"x\\\": 2070.0, \\\"y\\\": 430000.0}, {\\\"x\\\": 1060.0, \\\"y\\\": 212000.0}, {\\\"x\\\": 2010.0, \\\"y\\\": 660500.0}, {\\\"x\\\": 3950.0, \\\"y\\\": 784000.0}, {\\\"x\\\": 2010.0, \\\"y\\\": 453246.0}, {\\\"x\\\": 2140.0, \\\"y\\\": 675000.0}, {\\\"x\\\": 1320.0, \\\"y\\\": 199000.0}, {\\\"x\\\": 2020.0, \\\"y\\\": 220000.0}, {\\\"x\\\": 2590.0, \\\"y\\\": 452000.0}, {\\\"x\\\": 1190.0, \\\"y\\\": 382500.0}, {\\\"x\\\": 1170.0, \\\"y\\\": 519950.0}, {\\\"x\\\": 1110.0, \\\"y\\\": 665000.0}, {\\\"x\\\": 2820.0, \\\"y\\\": 527700.0}, {\\\"x\\\": 1610.0, \\\"y\\\": 205000.0}, {\\\"x\\\": 1060.0, \\\"y\\\": 420000.0}, {\\\"x\\\": 2030.0, \\\"y\\\": 500000.0}, {\\\"x\\\": 3670.0, \\\"y\\\": 921500.0}, {\\\"x\\\": 2550.0, \\\"y\\\": 890000.0}, {\\\"x\\\": 2420.0, \\\"y\\\": 430000.0}, {\\\"x\\\": 2260.0, \\\"y\\\": 258000.0}, {\\\"x\\\": 1430.0, \\\"y\\\": 511000.0}, {\\\"x\\\": 1360.0, \\\"y\\\": 532170.0}, {\\\"x\\\": 1110.0, \\\"y\\\": 560000.0}, {\\\"x\\\": 1250.0, \\\"y\\\": 282950.0}, {\\\"x\\\": 5180.0, \\\"y\\\": 2250000.0}, {\\\"x\\\": 700.0, \\\"y\\\": 350000.0}, {\\\"x\\\": 1180.0, \\\"y\\\": 215000.0}, {\\\"x\\\": 3960.0, \\\"y\\\": 650000.0}, {\\\"x\\\": 2640.0, \\\"y\\\": 320000.0}, {\\\"x\\\": 1270.0, \\\"y\\\": 247000.0}, {\\\"x\\\": 1760.0, \\\"y\\\": 320000.0}, {\\\"x\\\": 2060.0, \\\"y\\\": 255000.0}, {\\\"x\\\": 1780.0, \\\"y\\\": 438000.0}, {\\\"x\\\": 3400.0, \\\"y\\\": 900000.0}, {\\\"x\\\": 1910.0, \\\"y\\\": 441000.0}, {\\\"x\\\": 2020.0, \\\"y\\\": 420000.0}, {\\\"x\\\": 1580.0, \\\"y\\\": 370000.0}, {\\\"x\\\": 1340.0, \\\"y\\\": 269950.0}, {\\\"x\\\": 2680.0, \\\"y\\\": 807100.0}, {\\\"x\\\": 2680.0, \\\"y\\\": 653000.0}, {\\\"x\\\": 1370.0, \\\"y\\\": 371500.0}, {\\\"x\\\": 1560.0, \\\"y\\\": 284000.0}, {\\\"x\\\": 2160.0, \\\"y\\\": 272000.0}, {\\\"x\\\": 1340.0, \\\"y\\\": 313000.0}, {\\\"x\\\": 3880.0, \\\"y\\\": 917500.0}, {\\\"x\\\": 2590.0, \\\"y\\\": 673000.0}, {\\\"x\\\": 1120.0, \\\"y\\\": 425000.0}, {\\\"x\\\": 1970.0, \\\"y\\\": 399950.0}, {\\\"x\\\": 1220.0, \\\"y\\\": 385000.0}, {\\\"x\\\": 1950.0, \\\"y\\\": 269950.0}, {\\\"x\\\": 1350.0, \\\"y\\\": 330000.0}, {\\\"x\\\": 1670.0, \\\"y\\\": 260000.0}, {\\\"x\\\": 2380.0, \\\"y\\\": 470000.0}, {\\\"x\\\": 2440.0, \\\"y\\\": 589000.0}, {\\\"x\\\": 1050.0, \\\"y\\\": 163500.0}, {\\\"x\\\": 3130.0, \\\"y\\\": 835000.0}, {\\\"x\\\": 4090.0, \\\"y\\\": 1095000.0}, {\\\"x\\\": 1490.0, \\\"y\\\": 269000.0}, {\\\"x\\\": 1900.0, \\\"y\\\": 560000.0}, {\\\"x\\\": 1330.0, \\\"y\\\": 615000.0}, {\\\"x\\\": 2230.0, \\\"y\\\": 585188.0}, {\\\"x\\\": 1650.0, \\\"y\\\": 305000.0}, {\\\"x\\\": 1190.0, \\\"y\\\": 166950.0}, {\\\"x\\\": 2140.0, \\\"y\\\": 799000.0}, {\\\"x\\\": 2180.0, \\\"y\\\": 400000.0}, {\\\"x\\\": 1060.0, \\\"y\\\": 230000.0}, {\\\"x\\\": 1690.0, \\\"y\\\": 256883.0}, {\\\"x\\\": 1970.0, \\\"y\\\": 423000.0}, {\\\"x\\\": 2150.0, \\\"y\\\": 465000.0}, {\\\"x\\\": 1910.0, \\\"y\\\": 440000.0}, {\\\"x\\\": 1350.0, \\\"y\\\": 385000.0}, {\\\"x\\\": 860.0, \\\"y\\\": 210000.0}, {\\\"x\\\": 1940.0, \\\"y\\\": 297000.0}, {\\\"x\\\": 1010.0, \\\"y\\\": 470000.0}, {\\\"x\\\": 1300.0, \\\"y\\\": 226500.0}, {\\\"x\\\": 910.0, \\\"y\\\": 274250.0}, {\\\"x\\\": 2480.0, \\\"y\\\": 840000.0}, {\\\"x\\\": 2440.0, \\\"y\\\": 677900.0}, {\\\"x\\\": 1010.0, \\\"y\\\": 425000.0}, {\\\"x\\\": 900.0, \\\"y\\\": 180250.0}, {\\\"x\\\": 2300.0, \\\"y\\\": 464000.0}, {\\\"x\\\": 1550.0, \\\"y\\\": 320000.0}, {\\\"x\\\": 1270.0, \\\"y\\\": 625504.0}, {\\\"x\\\": 2240.0, \\\"y\\\": 592500.0}, {\\\"x\\\": 2714.0, \\\"y\\\": 465000.0}, {\\\"x\\\": 1720.0, \\\"y\\\": 477000.0}, {\\\"x\\\": 850.0, \\\"y\\\": 280000.0}, {\\\"x\\\": 3300.0, \\\"y\\\": 1505000.0}, {\\\"x\\\": 2250.0, \\\"y\\\": 445838.0}, {\\\"x\\\": 3900.0, \\\"y\\\": 1072000.0}, {\\\"x\\\": 1320.0, \\\"y\\\": 467000.0}, {\\\"x\\\": 2760.0, \\\"y\\\": 686000.0}, {\\\"x\\\": 1750.0, \\\"y\\\": 279950.0}, {\\\"x\\\": 2330.0, \\\"y\\\": 527000.0}, {\\\"x\\\": 2220.0, \\\"y\\\": 325000.0}, {\\\"x\\\": 2020.0, \\\"y\\\": 328000.0}, {\\\"x\\\": 1250.0, \\\"y\\\": 390000.0}, {\\\"x\\\": 1510.0, \\\"y\\\": 479950.0}, {\\\"x\\\": 1720.0, \\\"y\\\": 264950.0}, {\\\"x\\\": 1430.0, \\\"y\\\": 235000.0}, {\\\"x\\\": 1480.0, \\\"y\\\": 516500.0}, {\\\"x\\\": 1450.0, \\\"y\\\": 655000.0}, {\\\"x\\\": 2280.0, \\\"y\\\": 500000.0}, {\\\"x\\\": 2940.0, \\\"y\\\": 315000.0}, {\\\"x\\\": 1000.0, \\\"y\\\": 213000.0}, {\\\"x\\\": 2480.0, \\\"y\\\": 475000.0}, {\\\"x\\\": 3760.0, \\\"y\\\": 1025000.0}, {\\\"x\\\": 2220.0, \\\"y\\\": 416000.0}, {\\\"x\\\": 1970.0, \\\"y\\\": 410000.0}, {\\\"x\\\": 3830.0, \\\"y\\\": 800000.0}, {\\\"x\\\": 4410.0, \\\"y\\\": 472000.0}, {\\\"x\\\": 1430.0, \\\"y\\\": 225000.0}, {\\\"x\\\": 830.0, \\\"y\\\": 210000.0}, {\\\"x\\\": 1430.0, \\\"y\\\": 455000.0}, {\\\"x\\\": 1300.0, \\\"y\\\": 225000.0}, {\\\"x\\\": 1030.0, \\\"y\\\": 480000.0}, {\\\"x\\\": 2740.0, \\\"y\\\": 363000.0}, {\\\"x\\\": 3650.0, \\\"y\\\": 2400000.0}, {\\\"x\\\": 720.0, \\\"y\\\": 181000.0}, {\\\"x\\\": 2010.0, \\\"y\\\": 250000.0}, {\\\"x\\\": 1560.0, \\\"y\\\": 481000.0}, {\\\"x\\\": 1810.0, \\\"y\\\": 260000.0}, {\\\"x\\\": 3360.0, \\\"y\\\": 455000.0}, {\\\"x\\\": 1510.0, \\\"y\\\": 415000.0}, {\\\"x\\\": 1400.0, \\\"y\\\": 349500.0}, {\\\"x\\\": 1730.0, \\\"y\\\": 245000.0}, {\\\"x\\\": 1420.0, \\\"y\\\": 592500.0}, {\\\"x\\\": 2360.0, \\\"y\\\": 385000.0}, {\\\"x\\\": 1580.0, \\\"y\\\": 315000.0}, {\\\"x\\\": 1230.0, \\\"y\\\": 255000.0}, {\\\"x\\\": 2460.0, \\\"y\\\": 693000.0}, {\\\"x\\\": 1660.0, \\\"y\\\": 780000.0}, {\\\"x\\\": 1270.0, \\\"y\\\": 237000.0}, {\\\"x\\\": 2100.0, \\\"y\\\": 525000.0}, {\\\"x\\\": 770.0, \\\"y\\\": 425000.0}, {\\\"x\\\": 760.0, \\\"y\\\": 369900.0}, {\\\"x\\\": 1700.0, \\\"y\\\": 290000.0}, {\\\"x\\\": 1120.0, \\\"y\\\": 285000.0}, {\\\"x\\\": 1070.0, \\\"y\\\": 415000.0}, {\\\"x\\\": 2070.0, \\\"y\\\": 272500.0}, {\\\"x\\\": 5050.0, \\\"y\\\": 2900000.0}, {\\\"x\\\": 5310.0, \\\"y\\\": 1365000.0}, {\\\"x\\\": 1040.0, \\\"y\\\": 436000.0}, {\\\"x\\\": 1700.0, \\\"y\\\": 210000.0}, {\\\"x\\\": 1300.0, \\\"y\\\": 236000.0}, {\\\"x\\\": 1080.0, \\\"y\\\": 331000.0}, {\\\"x\\\": 2653.0, \\\"y\\\": 365000.0}, {\\\"x\\\": 2290.0, \\\"y\\\": 450000.0}, {\\\"x\\\": 3820.0, \\\"y\\\": 770000.0}, {\\\"x\\\": 2210.0, \\\"y\\\": 455000.0}, {\\\"x\\\": 2390.0, \\\"y\\\": 405000.0}, {\\\"x\\\": 2600.0, \\\"y\\\": 304900.0}, {\\\"x\\\": 860.0, \\\"y\\\": 170000.0}, {\\\"x\\\": 3830.0, \\\"y\\\": 2050000.0}, {\\\"x\\\": 3500.0, \\\"y\\\": 780000.0}, {\\\"x\\\": 2420.0, \\\"y\\\": 330000.0}, {\\\"x\\\": 2720.0, \\\"y\\\": 370000.0}, {\\\"x\\\": 2500.0, \\\"y\\\": 467000.0}, {\\\"x\\\": 1670.0, \\\"y\\\": 405000.0}, {\\\"x\\\": 2900.0, \\\"y\\\": 675000.0}, {\\\"x\\\": 1640.0, \\\"y\\\": 500000.0}, {\\\"x\\\": 1890.0, \\\"y\\\": 389999.0}, {\\\"x\\\": 2950.0, \\\"y\\\": 630000.0}, {\\\"x\\\": 2160.0, \\\"y\\\": 360000.0}, {\\\"x\\\": 3280.0, \\\"y\\\": 580000.0}, {\\\"x\\\": 1970.0, \\\"y\\\": 550000.0}, {\\\"x\\\": 3360.0, \\\"y\\\": 879000.0}, {\\\"x\\\": 1320.0, \\\"y\\\": 265000.0}, {\\\"x\\\": 2650.0, \\\"y\\\": 446500.0}, {\\\"x\\\": 2030.0, \\\"y\\\": 404000.0}, {\\\"x\\\": 1590.0, \\\"y\\\": 267500.0}, {\\\"x\\\": 4550.0, \\\"y\\\": 3075000.0}, {\\\"x\\\": 2440.0, \\\"y\\\": 335000.0}, {\\\"x\\\": 1940.0, \\\"y\\\": 576000.0}, {\\\"x\\\": 2040.0, \\\"y\\\": 208633.0}, {\\\"x\\\": 2200.0, \\\"y\\\": 315000.0}, {\\\"x\\\": 1920.0, \\\"y\\\": 725000.0}, {\\\"x\\\": 1800.0, \\\"y\\\": 550000.0}, {\\\"x\\\": 2180.0, \\\"y\\\": 610750.0}, {\\\"x\\\": 1010.0, \\\"y\\\": 550700.0}, {\\\"x\\\": 3320.0, \\\"y\\\": 665000.0}, {\\\"x\\\": 2370.0, \\\"y\\\": 834000.0}, {\\\"x\\\": 1660.0, \\\"y\\\": 201000.0}, {\\\"x\\\": 3650.0, \\\"y\\\": 2384000.0}, {\\\"x\\\": 4290.0, \\\"y\\\": 1384000.0}, {\\\"x\\\": 4290.0, \\\"y\\\": 1400000.0}, {\\\"x\\\": 1950.0, \\\"y\\\": 305000.0}, {\\\"x\\\": 2590.0, \\\"y\\\": 487000.0}, {\\\"x\\\": 1930.0, \\\"y\\\": 390000.0}, {\\\"x\\\": 1470.0, \\\"y\\\": 548000.0}, {\\\"x\\\": 800.0, \\\"y\\\": 268750.0}, {\\\"x\\\": 3150.0, \\\"y\\\": 819900.0}, {\\\"x\\\": 2030.0, \\\"y\\\": 520000.0}, {\\\"x\\\": 1450.0, \\\"y\\\": 230000.0}, {\\\"x\\\": 1510.0, \\\"y\\\": 240000.0}, {\\\"x\\\": 1240.0, \\\"y\\\": 232000.0}, {\\\"x\\\": 1240.0, \\\"y\\\": 240500.0}, {\\\"x\\\": 3030.0, \\\"y\\\": 274975.0}, {\\\"x\\\": 2050.0, \\\"y\\\": 740000.0}, {\\\"x\\\": 1000.0, \\\"y\\\": 186375.0}, {\\\"x\\\": 2370.0, \\\"y\\\": 790000.0}, {\\\"x\\\": 2800.0, \\\"y\\\": 880000.0}, {\\\"x\\\": 2240.0, \\\"y\\\": 279000.0}, {\\\"x\\\": 1810.0, \\\"y\\\": 295000.0}, {\\\"x\\\": 1070.0, \\\"y\\\": 640000.0}, {\\\"x\\\": 2490.0, \\\"y\\\": 940000.0}, {\\\"x\\\": 1960.0, \\\"y\\\": 260000.0}, {\\\"x\\\": 2930.0, \\\"y\\\": 559900.0}, {\\\"x\\\": 1510.0, \\\"y\\\": 791500.0}, {\\\"x\\\": 1420.0, \\\"y\\\": 265000.0}, {\\\"x\\\": 1740.0, \\\"y\\\": 245000.0}, {\\\"x\\\": 2560.0, \\\"y\\\": 485000.0}, {\\\"x\\\": 3040.0, \\\"y\\\": 684000.0}, {\\\"x\\\": 2500.0, \\\"y\\\": 425000.0}, {\\\"x\\\": 1275.0, \\\"y\\\": 309600.0}, {\\\"x\\\": 2580.0, \\\"y\\\": 552250.0}, {\\\"x\\\": 1000.0, \\\"y\\\": 165000.0}, {\\\"x\\\": 1000.0, \\\"y\\\": 239900.0}, {\\\"x\\\": 1070.0, \\\"y\\\": 320000.0}, {\\\"x\\\": 1390.0, \\\"y\\\": 206600.0}, {\\\"x\\\": 2500.0, \\\"y\\\": 387000.0}, {\\\"x\\\": 560.0, \\\"y\\\": 299000.0}, {\\\"x\\\": 2270.0, \\\"y\\\": 855000.0}, {\\\"x\\\": 1900.0, \\\"y\\\": 315000.0}, {\\\"x\\\": 990.0, \\\"y\\\": 437500.0}, {\\\"x\\\": 1550.0, \\\"y\\\": 252000.0}, {\\\"x\\\": 2200.0, \\\"y\\\": 375000.0}, {\\\"x\\\": 1910.0, \\\"y\\\": 300000.0}, {\\\"x\\\": 1750.0, \\\"y\\\": 420000.0}, {\\\"x\\\": 1330.0, \\\"y\\\": 900000.0}, {\\\"x\\\": 2440.0, \\\"y\\\": 679900.0}, {\\\"x\\\": 1640.0, \\\"y\\\": 463000.0}, {\\\"x\\\": 2760.0, \\\"y\\\": 380000.0}, {\\\"x\\\": 1820.0, \\\"y\\\": 329500.0}, {\\\"x\\\": 2110.0, \\\"y\\\": 604950.0}, {\\\"x\\\": 3040.0, \\\"y\\\": 795000.0}, {\\\"x\\\": 1840.0, \\\"y\\\": 465000.0}, {\\\"x\\\": 2990.0, \\\"y\\\": 673000.0}, {\\\"x\\\": 3520.0, \\\"y\\\": 810000.0}, {\\\"x\\\": 2440.0, \\\"y\\\": 785000.0}, {\\\"x\\\": 2090.0, \\\"y\\\": 338000.0}, {\\\"x\\\": 1430.0, \\\"y\\\": 280000.0}, {\\\"x\\\": 2180.0, \\\"y\\\": 315000.0}, {\\\"x\\\": 2180.0, \\\"y\\\": 530000.0}, {\\\"x\\\": 3450.0, \\\"y\\\": 380000.0}, {\\\"x\\\": 1450.0, \\\"y\\\": 297000.0}, {\\\"x\\\": 3230.0, \\\"y\\\": 730000.0}, {\\\"x\\\": 1640.0, \\\"y\\\": 450000.0}, {\\\"x\\\": 1590.0, \\\"y\\\": 275000.0}, {\\\"x\\\": 2020.0, \\\"y\\\": 595000.0}, {\\\"x\\\": 1300.0, \\\"y\\\": 435000.0}, {\\\"x\\\": 1380.0, \\\"y\\\": 270000.0}, {\\\"x\\\": 4040.0, \\\"y\\\": 950000.0}, {\\\"x\\\": 2130.0, \\\"y\\\": 389000.0}, {\\\"x\\\": 2550.0, \\\"y\\\": 560000.0}, {\\\"x\\\": 4800.0, \\\"y\\\": 1350000.0}, {\\\"x\\\": 2510.0, \\\"y\\\": 799000.0}, {\\\"x\\\": 1410.0, \\\"y\\\": 365500.0}, {\\\"x\\\": 1650.0, \\\"y\\\": 252350.0}, {\\\"x\\\": 2120.0, \\\"y\\\": 403950.0}, {\\\"x\\\": 2040.0, \\\"y\\\": 385000.0}, {\\\"x\\\": 1550.0, \\\"y\\\": 345000.0}, {\\\"x\\\": 1980.0, \\\"y\\\": 490000.0}, {\\\"x\\\": 1600.0, \\\"y\\\": 330000.0}, {\\\"x\\\": 3300.0, \\\"y\\\": 927000.0}, {\\\"x\\\": 3840.0, \\\"y\\\": 1118000.0}, {\\\"x\\\": 1220.0, \\\"y\\\": 330000.0}, {\\\"x\\\": 2720.0, \\\"y\\\": 530000.0}, {\\\"x\\\": 1940.0, \\\"y\\\": 365000.0}, {\\\"x\\\": 2160.0, \\\"y\\\": 378750.0}, {\\\"x\\\": 1530.0, \\\"y\\\": 269900.0}, {\\\"x\\\": 1710.0, \\\"y\\\": 557000.0}, {\\\"x\\\": 3730.0, \\\"y\\\": 360000.0}, {\\\"x\\\": 940.0, \\\"y\\\": 352000.0}, {\\\"x\\\": 1750.0, \\\"y\\\": 437000.0}, {\\\"x\\\": 1820.0, \\\"y\\\": 322500.0}, {\\\"x\\\": 1510.0, \\\"y\\\": 650000.0}, {\\\"x\\\": 1290.0, \\\"y\\\": 450000.0}, {\\\"x\\\": 1570.0, \\\"y\\\": 278500.0}, {\\\"x\\\": 1930.0, \\\"y\\\": 364950.0}, {\\\"x\\\": 2840.0, \\\"y\\\": 840000.0}, {\\\"x\\\": 1550.0, \\\"y\\\": 268000.0}, {\\\"x\\\": 833.0, \\\"y\\\": 517534.0}, {\\\"x\\\": 2990.0, \\\"y\\\": 632925.0}, {\\\"x\\\": 2000.0, \\\"y\\\": 577500.0}, {\\\"x\\\": 2390.0, \\\"y\\\": 339000.0}, {\\\"x\\\": 2910.0, \\\"y\\\": 570000.0}, {\\\"x\\\": 2085.0, \\\"y\\\": 563500.0}, {\\\"x\\\": 2200.0, \\\"y\\\": 423000.0}, {\\\"x\\\": 1860.0, \\\"y\\\": 355000.0}, {\\\"x\\\": 6070.0, \\\"y\\\": 1550000.0}, {\\\"x\\\": 950.0, \\\"y\\\": 482000.0}, {\\\"x\\\": 1600.0, \\\"y\\\": 625000.0}, {\\\"x\\\": 2250.0, \\\"y\\\": 538000.0}, {\\\"x\\\": 2280.0, \\\"y\\\": 380000.0}, {\\\"x\\\": 940.0, \\\"y\\\": 375000.0}, {\\\"x\\\": 1530.0, \\\"y\\\": 245000.0}, {\\\"x\\\": 2190.0, \\\"y\\\": 310000.0}, {\\\"x\\\": 2350.0, \\\"y\\\": 1300000.0}, {\\\"x\\\": 1440.0, \\\"y\\\": 397000.0}, {\\\"x\\\": 2200.0, \\\"y\\\": 365000.0}, {\\\"x\\\": 2290.0, \\\"y\\\": 328500.0}, {\\\"x\\\": 4040.0, \\\"y\\\": 988000.0}, {\\\"x\\\": 2610.0, \\\"y\\\": 1000000.0}, {\\\"x\\\": 1490.0, \\\"y\\\": 237000.0}, {\\\"x\\\": 2450.0, \\\"y\\\": 525000.0}, {\\\"x\\\": 1710.0, \\\"y\\\": 749000.0}, {\\\"x\\\": 4870.0, \\\"y\\\": 722500.0}, {\\\"x\\\": 3130.0, \\\"y\\\": 843000.0}, {\\\"x\\\": 1270.0, \\\"y\\\": 438000.0}, {\\\"x\\\": 2120.0, \\\"y\\\": 578000.0}, {\\\"x\\\": 1670.0, \\\"y\\\": 227950.0}, {\\\"x\\\": 2070.0, \\\"y\\\": 196000.0}, {\\\"x\\\": 1420.0, \\\"y\\\": 641000.0}, {\\\"x\\\": 1250.0, \\\"y\\\": 350000.0}, {\\\"x\\\": 940.0, \\\"y\\\": 205000.0}, {\\\"x\\\": 1920.0, \\\"y\\\": 400000.0}, {\\\"x\\\": 3545.0, \\\"y\\\": 1030000.0}, {\\\"x\\\": 1260.0, \\\"y\\\": 505000.0}, {\\\"x\\\": 2340.0, \\\"y\\\": 475000.0}, {\\\"x\\\": 2590.0, \\\"y\\\": 520000.0}, {\\\"x\\\": 3970.0, \\\"y\\\": 1450000.0}, {\\\"x\\\": 1220.0, \\\"y\\\": 333500.0}, {\\\"x\\\": 1400.0, \\\"y\\\": 232000.0}, {\\\"x\\\": 2360.0, \\\"y\\\": 691100.0}, {\\\"x\\\": 1870.0, \\\"y\\\": 811000.0}, {\\\"x\\\": 2830.0, \\\"y\\\": 551000.0}, {\\\"x\\\": 2260.0, \\\"y\\\": 496500.0}, {\\\"x\\\": 1970.0, \\\"y\\\": 705000.0}, {\\\"x\\\": 3140.0, \\\"y\\\": 578000.0}, {\\\"x\\\": 1240.0, \\\"y\\\": 255000.0}, {\\\"x\\\": 3450.0, \\\"y\\\": 1050000.0}, {\\\"x\\\": 2570.0, \\\"y\\\": 348000.0}, {\\\"x\\\": 1510.0, \\\"y\\\": 230000.0}, {\\\"x\\\": 2390.0, \\\"y\\\": 359500.0}, {\\\"x\\\": 980.0, \\\"y\\\": 330000.0}, {\\\"x\\\": 430.0, \\\"y\\\": 80000.0}, {\\\"x\\\": 1480.0, \\\"y\\\": 465000.0}, {\\\"x\\\": 1850.0, \\\"y\\\": 325000.0}, {\\\"x\\\": 2270.0, \\\"y\\\": 340500.0}, {\\\"x\\\": 1810.0, \\\"y\\\": 342500.0}, {\\\"x\\\": 1610.0, \\\"y\\\": 290900.0}, {\\\"x\\\": 3840.0, \\\"y\\\": 868700.0}, {\\\"x\\\": 4110.0, \\\"y\\\": 1199000.0}, {\\\"x\\\": 4190.0, \\\"y\\\": 1150000.0}, {\\\"x\\\": 3390.0, \\\"y\\\": 859900.0}, {\\\"x\\\": 1890.0, \\\"y\\\": 520000.0}, {\\\"x\\\": 1610.0, \\\"y\\\": 460000.0}, {\\\"x\\\": 1050.0, \\\"y\\\": 438924.0}, {\\\"x\\\": 630.0, \\\"y\\\": 315000.0}, {\\\"x\\\": 2910.0, \\\"y\\\": 590000.0}, {\\\"x\\\": 1700.0, \\\"y\\\": 378500.0}, {\\\"x\\\": 1950.0, \\\"y\\\": 328500.0}, {\\\"x\\\": 2990.0, \\\"y\\\": 849950.0}, {\\\"x\\\": 1350.0, \\\"y\\\": 525000.0}, {\\\"x\\\": 4860.0, \\\"y\\\": 1385000.0}, {\\\"x\\\": 2160.0, \\\"y\\\": 295000.0}, {\\\"x\\\": 4860.0, \\\"y\\\": 1067000.0}, {\\\"x\\\": 890.0, \\\"y\\\": 207950.0}, {\\\"x\\\": 2810.0, \\\"y\\\": 699900.0}, {\\\"x\\\": 3400.0, \\\"y\\\": 1280000.0}, {\\\"x\\\": 1580.0, \\\"y\\\": 452000.0}, {\\\"x\\\": 1680.0, \\\"y\\\": 370000.0}, {\\\"x\\\": 1300.0, \\\"y\\\": 232000.0}, {\\\"x\\\": 2820.0, \\\"y\\\": 669950.0}, {\\\"x\\\": 1510.0, \\\"y\\\": 397500.0}, {\\\"x\\\": 1230.0, \\\"y\\\": 490000.0}, {\\\"x\\\": 2110.0, \\\"y\\\": 725000.0}, {\\\"x\\\": 3080.0, \\\"y\\\": 299000.0}, {\\\"x\\\": 1490.0, \\\"y\\\": 625000.0}, {\\\"x\\\": 2120.0, \\\"y\\\": 437500.0}, {\\\"x\\\": 3180.0, \\\"y\\\": 650000.0}, {\\\"x\\\": 1490.0, \\\"y\\\": 475000.0}, {\\\"x\\\": 1930.0, \\\"y\\\": 342000.0}, {\\\"x\\\": 2770.0, \\\"y\\\": 1197354.0}, {\\\"x\\\": 1670.0, \\\"y\\\": 280000.0}, {\\\"x\\\": 1330.0, \\\"y\\\": 240000.0}, {\\\"x\\\": 1210.0, \\\"y\\\": 529000.0}, {\\\"x\\\": 1190.0, \\\"y\\\": 442000.0}, {\\\"x\\\": 1540.0, \\\"y\\\": 615000.0}, {\\\"x\\\": 4030.0, \\\"y\\\": 1485000.0}, {\\\"x\\\": 2430.0, \\\"y\\\": 585000.0}, {\\\"x\\\": 2600.0, \\\"y\\\": 480000.0}, {\\\"x\\\": 4410.0, \\\"y\\\": 1095000.0}, {\\\"x\\\": 1330.0, \\\"y\\\": 290000.0}, {\\\"x\\\": 1900.0, \\\"y\\\": 615000.0}, {\\\"x\\\": 1100.0, \\\"y\\\": 300000.0}, {\\\"x\\\": 1980.0, \\\"y\\\": 308000.0}, {\\\"x\\\": 2400.0, \\\"y\\\": 750000.0}, {\\\"x\\\": 4760.0, \\\"y\\\": 2250000.0}, {\\\"x\\\": 3180.0, \\\"y\\\": 890000.0}, {\\\"x\\\": 1190.0, \\\"y\\\": 288000.0}, {\\\"x\\\": 630.0, \\\"y\\\": 190000.0}, {\\\"x\\\": 2530.0, \\\"y\\\": 515000.0}, {\\\"x\\\": 1690.0, \\\"y\\\": 235000.0}, {\\\"x\\\": 940.0, \\\"y\\\": 275000.0}, {\\\"x\\\": 1240.0, \\\"y\\\": 727500.0}, {\\\"x\\\": 3040.0, \\\"y\\\": 650000.0}, {\\\"x\\\": 6050.0, \\\"y\\\": 1600000.0}, {\\\"x\\\": 1590.0, \\\"y\\\": 365000.0}, {\\\"x\\\": 2500.0, \\\"y\\\": 662000.0}, {\\\"x\\\": 1780.0, \\\"y\\\": 270500.0}, {\\\"x\\\": 1360.0, \\\"y\\\": 200000.0}, {\\\"x\\\": 4740.0, \\\"y\\\": 970000.0}, {\\\"x\\\": 1010.0, \\\"y\\\": 160000.0}, {\\\"x\\\": 1040.0, \\\"y\\\": 204000.0}, {\\\"x\\\": 1610.0, \\\"y\\\": 358000.0}, {\\\"x\\\": 1570.0, \\\"y\\\": 452000.0}, {\\\"x\\\": 1510.0, \\\"y\\\": 595000.0}, {\\\"x\\\": 1360.0, \\\"y\\\": 249000.0}, {\\\"x\\\": 1970.0, \\\"y\\\": 346900.0}, {\\\"x\\\": 5403.0, \\\"y\\\": 2125000.0}, {\\\"x\\\": 1560.0, \\\"y\\\": 280000.0}, {\\\"x\\\": 2320.0, \\\"y\\\": 318888.0}, {\\\"x\\\": 2120.0, \\\"y\\\": 530000.0}, {\\\"x\\\": 2120.0, \\\"y\\\": 375000.0}, {\\\"x\\\": 3350.0, \\\"y\\\": 910000.0}, {\\\"x\\\": 2380.0, \\\"y\\\": 782000.0}, {\\\"x\\\": 1070.0, \\\"y\\\": 259950.0}, {\\\"x\\\": 2300.0, \\\"y\\\": 315000.0}, {\\\"x\\\": 1320.0, \\\"y\\\": 215000.0}, {\\\"x\\\": 2180.0, \\\"y\\\": 705000.0}, {\\\"x\\\": 4380.0, \\\"y\\\": 1450000.0}, {\\\"x\\\": 1790.0, \\\"y\\\": 451000.0}, {\\\"x\\\": 750.0, \\\"y\\\": 261000.0}, {\\\"x\\\": 1300.0, \\\"y\\\": 396000.0}, {\\\"x\\\": 2990.0, \\\"y\\\": 725000.0}, {\\\"x\\\": 4640.0, \\\"y\\\": 1950000.0}, {\\\"x\\\": 1400.0, \\\"y\\\": 238000.0}, {\\\"x\\\": 2750.0, \\\"y\\\": 750000.0}, {\\\"x\\\": 2050.0, \\\"y\\\": 331500.0}, {\\\"x\\\": 2230.0, \\\"y\\\": 460000.0}, {\\\"x\\\": 2340.0, \\\"y\\\": 404950.0}, {\\\"x\\\": 2870.0, \\\"y\\\": 880000.0}, {\\\"x\\\": 4120.0, \\\"y\\\": 863000.0}, {\\\"x\\\": 2080.0, \\\"y\\\": 638700.0}, {\\\"x\\\": 1840.0, \\\"y\\\": 435000.0}, {\\\"x\\\": 1180.0, \\\"y\\\": 260000.0}, {\\\"x\\\": 2160.0, \\\"y\\\": 671500.0}, {\\\"x\\\": 1180.0, \\\"y\\\": 610000.0}, {\\\"x\\\": 1160.0, \\\"y\\\": 405000.0}, {\\\"x\\\": 1830.0, \\\"y\\\": 338900.0}, {\\\"x\\\": 3200.0, \\\"y\\\": 720000.0}, {\\\"x\\\": 2560.0, \\\"y\\\": 442000.0}, {\\\"x\\\": 2550.0, \\\"y\\\": 650000.0}, {\\\"x\\\": 1330.0, \\\"y\\\": 263500.0}, {\\\"x\\\": 1220.0, \\\"y\\\": 300000.0}, {\\\"x\\\": 1805.0, \\\"y\\\": 266000.0}, {\\\"x\\\": 6050.0, \\\"y\\\": 930000.0}, {\\\"x\\\": 2320.0, \\\"y\\\": 530000.0}, {\\\"x\\\": 1384.0, \\\"y\\\": 180000.0}, {\\\"x\\\": 2720.0, \\\"y\\\": 619000.0}, {\\\"x\\\": 1820.0, \\\"y\\\": 264000.0}, {\\\"x\\\": 2130.0, \\\"y\\\": 730000.0}, {\\\"x\\\": 2060.0, \\\"y\\\": 439000.0}, {\\\"x\\\": 1420.0, \\\"y\\\": 268500.0}, {\\\"x\\\": 1510.0, \\\"y\\\": 330000.0}, {\\\"x\\\": 2160.0, \\\"y\\\": 640000.0}, {\\\"x\\\": 3180.0, \\\"y\\\": 900000.0}, {\\\"x\\\": 2110.0, \\\"y\\\": 370000.0}, {\\\"x\\\": 2060.0, \\\"y\\\": 685000.0}, {\\\"x\\\": 1830.0, \\\"y\\\": 505000.0}, {\\\"x\\\": 1820.0, \\\"y\\\": 265000.0}, {\\\"x\\\": 1610.0, \\\"y\\\": 290000.0}, {\\\"x\\\": 1780.0, \\\"y\\\": 296000.0}, {\\\"x\\\": 1840.0, \\\"y\\\": 360000.0}, {\\\"x\\\": 1460.0, \\\"y\\\": 240500.0}, {\\\"x\\\": 1400.0, \\\"y\\\": 372500.0}, {\\\"x\\\": 3370.0, \\\"y\\\": 595000.0}, {\\\"x\\\": 3590.0, \\\"y\\\": 515000.0}, {\\\"x\\\": 3200.0, \\\"y\\\": 1220000.0}, {\\\"x\\\": 1670.0, \\\"y\\\": 507000.0}, {\\\"x\\\": 2420.0, \\\"y\\\": 399950.0}, {\\\"x\\\": 1430.0, \\\"y\\\": 185000.0}, {\\\"x\\\": 1440.0, \\\"y\\\": 460000.0}, {\\\"x\\\": 1450.0, \\\"y\\\": 435500.0}, {\\\"x\\\": 3550.0, \\\"y\\\": 469000.0}, {\\\"x\\\": 1270.0, \\\"y\\\": 531000.0}, {\\\"x\\\": 940.0, \\\"y\\\": 443500.0}, {\\\"x\\\": 1670.0, \\\"y\\\": 223000.0}, {\\\"x\\\": 3100.0, \\\"y\\\": 590000.0}, {\\\"x\\\": 1100.0, \\\"y\\\": 340000.0}, {\\\"x\\\": 1870.0, \\\"y\\\": 650000.0}, {\\\"x\\\": 1930.0, \\\"y\\\": 533600.0}, {\\\"x\\\": 2540.0, \\\"y\\\": 695000.0}, {\\\"x\\\": 1280.0, \\\"y\\\": 242000.0}, {\\\"x\\\": 1820.0, \\\"y\\\": 425000.0}, {\\\"x\\\": 1490.0, \\\"y\\\": 525000.0}, {\\\"x\\\": 1880.0, \\\"y\\\": 485000.0}, {\\\"x\\\": 1250.0, \\\"y\\\": 175000.0}, {\\\"x\\\": 1440.0, \\\"y\\\": 210000.0}, {\\\"x\\\": 1920.0, \\\"y\\\": 260000.0}, {\\\"x\\\": 2060.0, \\\"y\\\": 577000.0}, {\\\"x\\\": 1210.0, \\\"y\\\": 200000.0}, {\\\"x\\\": 1760.0, \\\"y\\\": 605000.0}, {\\\"x\\\": 990.0, \\\"y\\\": 325000.0}, {\\\"x\\\": 960.0, \\\"y\\\": 289500.0}, {\\\"x\\\": 1660.0, \\\"y\\\": 559950.0}, {\\\"x\\\": 1900.0, \\\"y\\\": 1042500.0}, {\\\"x\\\": 1270.0, \\\"y\\\": 543500.0}, {\\\"x\\\": 3250.0, \\\"y\\\": 480000.0}, {\\\"x\\\": 960.0, \\\"y\\\": 218000.0}, {\\\"x\\\": 1330.0, \\\"y\\\": 565000.0}, {\\\"x\\\": 2080.0, \\\"y\\\": 426700.0}, {\\\"x\\\": 2690.0, \\\"y\\\": 650000.0}, {\\\"x\\\": 890.0, \\\"y\\\": 542000.0}, {\\\"x\\\": 1070.0, \\\"y\\\": 415000.0}, {\\\"x\\\": 1200.0, \\\"y\\\": 214000.0}, {\\\"x\\\": 1360.0, \\\"y\\\": 245000.0}, {\\\"x\\\": 2050.0, \\\"y\\\": 314500.0}, {\\\"x\\\": 3000.0, \\\"y\\\": 1120000.0}, {\\\"x\\\": 1300.0, \\\"y\\\": 378000.0}, {\\\"x\\\": 2250.0, \\\"y\\\": 305000.0}, {\\\"x\\\": 3740.0, \\\"y\\\": 595000.0}, {\\\"x\\\": 1660.0, \\\"y\\\": 729500.0}, {\\\"x\\\": 2360.0, \\\"y\\\": 430000.0}, {\\\"x\\\": 1760.0, \\\"y\\\": 240000.0}, {\\\"x\\\": 1680.0, \\\"y\\\": 545000.0}, {\\\"x\\\": 1320.0, \\\"y\\\": 530000.0}, {\\\"x\\\": 870.0, \\\"y\\\": 157000.0}, {\\\"x\\\": 1260.0, \\\"y\\\": 425000.0}, {\\\"x\\\": 1000.0, \\\"y\\\": 220000.0}, {\\\"x\\\": 2020.0, \\\"y\\\": 521000.0}, {\\\"x\\\": 1920.0, \\\"y\\\": 325000.0}, {\\\"x\\\": 2150.0, \\\"y\\\": 597500.0}, {\\\"x\\\": 1470.0, \\\"y\\\": 337000.0}, {\\\"x\\\": 3180.0, \\\"y\\\": 1000000.0}, {\\\"x\\\": 3930.0, \\\"y\\\": 3070000.0}, {\\\"x\\\": 990.0, \\\"y\\\": 495000.0}, {\\\"x\\\": 2770.0, \\\"y\\\": 748000.0}, {\\\"x\\\": 1250.0, \\\"y\\\": 888000.0}, {\\\"x\\\": 1140.0, \\\"y\\\": 269900.0}, {\\\"x\\\": 2250.0, \\\"y\\\": 496500.0}, {\\\"x\\\": 1640.0, \\\"y\\\": 475000.0}, {\\\"x\\\": 1255.0, \\\"y\\\": 312000.0}, {\\\"x\\\": 1290.0, \\\"y\\\": 323000.0}, {\\\"x\\\": 1300.0, \\\"y\\\": 331000.0}, {\\\"x\\\": 1220.0, \\\"y\\\": 306000.0}, {\\\"x\\\": 2630.0, \\\"y\\\": 655000.0}, {\\\"x\\\": 1950.0, \\\"y\\\": 290000.0}, {\\\"x\\\": 3160.0, \\\"y\\\": 1250000.0}, {\\\"x\\\": 1550.0, \\\"y\\\": 460000.0}, {\\\"x\\\": 1700.0, \\\"y\\\": 435000.0}, {\\\"x\\\": 2510.0, \\\"y\\\": 664000.0}, {\\\"x\\\": 1800.0, \\\"y\\\": 865000.0}, {\\\"x\\\": 1800.0, \\\"y\\\": 385000.0}, {\\\"x\\\": 1870.0, \\\"y\\\": 497000.0}, {\\\"x\\\": 1010.0, \\\"y\\\": 280000.0}, {\\\"x\\\": 1120.0, \\\"y\\\": 188000.0}, {\\\"x\\\": 2090.0, \\\"y\\\": 478500.0}, {\\\"x\\\": 4370.0, \\\"y\\\": 1145000.0}, {\\\"x\\\": 1440.0, \\\"y\\\": 222000.0}, {\\\"x\\\": 2580.0, \\\"y\\\": 799000.0}, {\\\"x\\\": 3190.0, \\\"y\\\": 609900.0}, {\\\"x\\\": 2380.0, \\\"y\\\": 413000.0}, {\\\"x\\\": 1420.0, \\\"y\\\": 400000.0}, {\\\"x\\\": 2990.0, \\\"y\\\": 802541.0}, {\\\"x\\\": 2680.0, \\\"y\\\": 320000.0}, {\\\"x\\\": 2730.0, \\\"y\\\": 507000.0}, {\\\"x\\\": 1220.0, \\\"y\\\": 387500.0}, {\\\"x\\\": 1500.0, \\\"y\\\": 396000.0}, {\\\"x\\\": 1830.0, \\\"y\\\": 373000.0}, {\\\"x\\\": 4570.0, \\\"y\\\": 1484900.0}, {\\\"x\\\": 2470.0, \\\"y\\\": 359900.0}, {\\\"x\\\": 800.0, \\\"y\\\": 410000.0}, {\\\"x\\\": 2900.0, \\\"y\\\": 690000.0}, {\\\"x\\\": 1410.0, \\\"y\\\": 245000.0}, {\\\"x\\\": 2830.0, \\\"y\\\": 700000.0}, {\\\"x\\\": 1680.0, \\\"y\\\": 268000.0}, {\\\"x\\\": 1760.0, \\\"y\\\": 225000.0}, {\\\"x\\\": 2240.0, \\\"y\\\": 980000.0}, {\\\"x\\\": 1380.0, \\\"y\\\": 795000.0}, {\\\"x\\\": 820.0, \\\"y\\\": 195000.0}, {\\\"x\\\": 2180.0, \\\"y\\\": 480000.0}, {\\\"x\\\": 1400.0, \\\"y\\\": 485000.0}, {\\\"x\\\": 880.0, \\\"y\\\": 130000.0}, {\\\"x\\\": 1060.0, \\\"y\\\": 325000.0}, {\\\"x\\\": 1530.0, \\\"y\\\": 440000.0}, {\\\"x\\\": 2480.0, \\\"y\\\": 550000.0}, {\\\"x\\\": 1490.0, \\\"y\\\": 310000.0}, {\\\"x\\\": 3660.0, \\\"y\\\": 530000.0}, {\\\"x\\\": 2340.0, \\\"y\\\": 390000.0}, {\\\"x\\\": 1450.0, \\\"y\\\": 243000.0}, {\\\"x\\\": 2210.0, \\\"y\\\": 639000.0}, {\\\"x\\\": 1130.0, \\\"y\\\": 215000.0}, {\\\"x\\\": 1550.0, \\\"y\\\": 405000.0}, {\\\"x\\\": 1710.0, \\\"y\\\": 250000.0}, {\\\"x\\\": 1010.0, \\\"y\\\": 405500.0}, {\\\"x\\\": 2660.0, \\\"y\\\": 452000.0}, {\\\"x\\\": 2660.0, \\\"y\\\": 730000.0}, {\\\"x\\\": 1300.0, \\\"y\\\": 267000.0}, {\\\"x\\\": 1670.0, \\\"y\\\": 289950.0}, {\\\"x\\\": 960.0, \\\"y\\\": 565000.0}, {\\\"x\\\": 4670.0, \\\"y\\\": 1578000.0}, {\\\"x\\\": 2140.0, \\\"y\\\": 636000.0}, {\\\"x\\\": 2520.0, \\\"y\\\": 350000.0}, {\\\"x\\\": 1650.0, \\\"y\\\": 320000.0}, {\\\"x\\\": 1440.0, \\\"y\\\": 210000.0}, {\\\"x\\\": 1050.0, \\\"y\\\": 245000.0}, {\\\"x\\\": 1470.0, \\\"y\\\": 328000.0}, {\\\"x\\\": 4230.0, \\\"y\\\": 985000.0}, {\\\"x\\\": 1970.0, \\\"y\\\": 501000.0}, {\\\"x\\\": 1540.0, \\\"y\\\": 315000.0}, {\\\"x\\\": 2090.0, \\\"y\\\": 403000.0}, {\\\"x\\\": 2380.0, \\\"y\\\": 550000.0}, {\\\"x\\\": 2156.0, \\\"y\\\": 347500.0}, {\\\"x\\\": 2070.0, \\\"y\\\": 365000.0}, {\\\"x\\\": 1910.0, \\\"y\\\": 588000.0}, {\\\"x\\\": 1920.0, \\\"y\\\": 605000.0}, {\\\"x\\\": 3400.0, \\\"y\\\": 1300000.0}, {\\\"x\\\": 1400.0, \\\"y\\\": 233000.0}, {\\\"x\\\": 2210.0, \\\"y\\\": 360000.0}, {\\\"x\\\": 1170.0, \\\"y\\\": 459000.0}, {\\\"x\\\": 2100.0, \\\"y\\\": 740000.0}, {\\\"x\\\": 1160.0, \\\"y\\\": 305000.0}, {\\\"x\\\": 1500.0, \\\"y\\\": 395000.0}, {\\\"x\\\": 2940.0, \\\"y\\\": 560000.0}, {\\\"x\\\": 2010.0, \\\"y\\\": 650000.0}, {\\\"x\\\": 2170.0, \\\"y\\\": 449950.0}, {\\\"x\\\": 1430.0, \\\"y\\\": 517500.0}, {\\\"x\\\": 1510.0, \\\"y\\\": 435000.0}, {\\\"x\\\": 1150.0, \\\"y\\\": 329999.0}, {\\\"x\\\": 2150.0, \\\"y\\\": 950000.0}, {\\\"x\\\": 1370.0, \\\"y\\\": 447000.0}, {\\\"x\\\": 2380.0, \\\"y\\\": 699800.0}, {\\\"x\\\": 1370.0, \\\"y\\\": 850000.0}, {\\\"x\\\": 1600.0, \\\"y\\\": 316500.0}, {\\\"x\\\": 3750.0, \\\"y\\\": 942500.0}, {\\\"x\\\": 3950.0, \\\"y\\\": 1310000.0}, {\\\"x\\\": 2400.0, \\\"y\\\": 856600.0}, {\\\"x\\\": 2830.0, \\\"y\\\": 405600.0}, {\\\"x\\\": 2440.0, \\\"y\\\": 565000.0}, {\\\"x\\\": 1190.0, \\\"y\\\": 400000.0}, {\\\"x\\\": 1400.0, \\\"y\\\": 330000.0}, {\\\"x\\\": 2730.0, \\\"y\\\": 374950.0}, {\\\"x\\\": 2390.0, \\\"y\\\": 405300.0}, {\\\"x\\\": 2060.0, \\\"y\\\": 560000.0}, {\\\"x\\\": 2490.0, \\\"y\\\": 824000.0}, {\\\"x\\\": 1100.0, \\\"y\\\": 260000.0}, {\\\"x\\\": 2430.0, \\\"y\\\": 760000.0}, {\\\"x\\\": 3170.0, \\\"y\\\": 405000.0}, {\\\"x\\\": 2640.0, \\\"y\\\": 429900.0}, {\\\"x\\\": 1130.0, \\\"y\\\": 341500.0}, {\\\"x\\\": 1940.0, \\\"y\\\": 465250.0}, {\\\"x\\\": 1100.0, \\\"y\\\": 450000.0}, {\\\"x\\\": 1200.0, \\\"y\\\": 390000.0}, {\\\"x\\\": 2000.0, \\\"y\\\": 420000.0}, {\\\"x\\\": 1890.0, \\\"y\\\": 269950.0}, {\\\"x\\\": 1910.0, \\\"y\\\": 493000.0}, {\\\"x\\\": 2710.0, \\\"y\\\": 370000.0}, {\\\"x\\\": 4860.0, \\\"y\\\": 2250000.0}, {\\\"x\\\": 1250.0, \\\"y\\\": 305000.0}, {\\\"x\\\": 1590.0, \\\"y\\\": 400000.0}, {\\\"x\\\": 1240.0, \\\"y\\\": 320000.0}, {\\\"x\\\": 2000.0, \\\"y\\\": 715000.0}, {\\\"x\\\": 3610.0, \\\"y\\\": 650000.0}, {\\\"x\\\": 1930.0, \\\"y\\\": 218000.0}, {\\\"x\\\": 1280.0, \\\"y\\\": 500000.0}, {\\\"x\\\": 2090.0, \\\"y\\\": 460000.0}, {\\\"x\\\": 1940.0, \\\"y\\\": 232500.0}, {\\\"x\\\": 1800.0, \\\"y\\\": 408200.0}, {\\\"x\\\": 1730.0, \\\"y\\\": 522000.0}, {\\\"x\\\": 2810.0, \\\"y\\\": 675000.0}, {\\\"x\\\": 3550.0, \\\"y\\\": 1355000.0}, {\\\"x\\\": 1330.0, \\\"y\\\": 249950.0}, {\\\"x\\\": 750.0, \\\"y\\\": 210000.0}, {\\\"x\\\": 1760.0, \\\"y\\\": 429950.0}, {\\\"x\\\": 3200.0, \\\"y\\\": 737500.0}, {\\\"x\\\": 1740.0, \\\"y\\\": 710000.0}, {\\\"x\\\": 2100.0, \\\"y\\\": 470000.0}, {\\\"x\\\": 4270.0, \\\"y\\\": 1100000.0}, {\\\"x\\\": 1340.0, \\\"y\\\": 650000.0}, {\\\"x\\\": 3190.0, \\\"y\\\": 1216000.0}, {\\\"x\\\": 1630.0, \\\"y\\\": 422120.0}, {\\\"x\\\": 2990.0, \\\"y\\\": 625000.0}, {\\\"x\\\": 1550.0, \\\"y\\\": 385200.0}, {\\\"x\\\": 1690.0, \\\"y\\\": 500000.0}, {\\\"x\\\": 1960.0, \\\"y\\\": 308000.0}, {\\\"x\\\": 2390.0, \\\"y\\\": 565000.0}, {\\\"x\\\": 2600.0, \\\"y\\\": 581000.0}, {\\\"x\\\": 1950.0, \\\"y\\\": 361000.0}, {\\\"x\\\": 1250.0, \\\"y\\\": 345000.0}, {\\\"x\\\": 1180.0, \\\"y\\\": 419000.0}, {\\\"x\\\": 1680.0, \\\"y\\\": 347000.0}, {\\\"x\\\": 2220.0, \\\"y\\\": 625000.0}, {\\\"x\\\": 4890.0, \\\"y\\\": 2400000.0}, {\\\"x\\\": 2660.0, \\\"y\\\": 379000.0}, {\\\"x\\\": 1150.0, \\\"y\\\": 310000.0}, {\\\"x\\\": 1130.0, \\\"y\\\": 250000.0}, {\\\"x\\\": 2760.0, \\\"y\\\": 682000.0}, {\\\"x\\\": 1430.0, \\\"y\\\": 246500.0}, {\\\"x\\\": 1490.0, \\\"y\\\": 325000.0}, {\\\"x\\\": 2030.0, \\\"y\\\": 310950.0}, {\\\"x\\\": 3010.0, \\\"y\\\": 1100000.0}, {\\\"x\\\": 1810.0, \\\"y\\\": 287500.0}, {\\\"x\\\": 1810.0, \\\"y\\\": 431000.0}, {\\\"x\\\": 970.0, \\\"y\\\": 226000.0}, {\\\"x\\\": 2010.0, \\\"y\\\": 825000.0}, {\\\"x\\\": 1300.0, \\\"y\\\": 175000.0}, {\\\"x\\\": 1260.0, \\\"y\\\": 465750.0}, {\\\"x\\\": 2610.0, \\\"y\\\": 659000.0}, {\\\"x\\\": 1910.0, \\\"y\\\": 595000.0}, {\\\"x\\\": 1780.0, \\\"y\\\": 350000.0}, {\\\"x\\\": 1900.0, \\\"y\\\": 270000.0}, {\\\"x\\\": 2450.0, \\\"y\\\": 662500.0}, {\\\"x\\\": 1380.0, \\\"y\\\": 249900.0}, {\\\"x\\\": 1920.0, \\\"y\\\": 324500.0}, {\\\"x\\\": 1350.0, \\\"y\\\": 430000.0}, {\\\"x\\\": 1350.0, \\\"y\\\": 419950.0}, {\\\"x\\\": 2510.0, \\\"y\\\": 285000.0}, {\\\"x\\\": 2470.0, \\\"y\\\": 332000.0}, {\\\"x\\\": 1660.0, \\\"y\\\": 282000.0}, {\\\"x\\\": 1340.0, \\\"y\\\": 320000.0}, {\\\"x\\\": 1620.0, \\\"y\\\": 428750.0}, {\\\"x\\\": 2300.0, \\\"y\\\": 330000.0}, {\\\"x\\\": 2000.0, \\\"y\\\": 456500.0}, {\\\"x\\\": 1640.0, \\\"y\\\": 352000.0}, {\\\"x\\\": 1530.0, \\\"y\\\": 664000.0}, {\\\"x\\\": 4000.0, \\\"y\\\": 628000.0}, {\\\"x\\\": 1610.0, \\\"y\\\": 512000.0}, {\\\"x\\\": 2070.0, \\\"y\\\": 254000.0}, {\\\"x\\\": 1900.0, \\\"y\\\": 535800.0}, {\\\"x\\\": 1050.0, \\\"y\\\": 287653.0}, {\\\"x\\\": 1520.0, \\\"y\\\": 438000.0}, {\\\"x\\\": 2390.0, \\\"y\\\": 450000.0}, {\\\"x\\\": 2400.0, \\\"y\\\": 327000.0}, {\\\"x\\\": 1790.0, \\\"y\\\": 370500.0}, {\\\"x\\\": 1720.0, \\\"y\\\": 265000.0}, {\\\"x\\\": 2980.0, \\\"y\\\": 450000.0}, {\\\"x\\\": 1520.0, \\\"y\\\": 425000.0}, {\\\"x\\\": 1150.0, \\\"y\\\": 166600.0}, {\\\"x\\\": 380.0, \\\"y\\\": 245000.0}, {\\\"x\\\": 910.0, \\\"y\\\": 565000.0}, {\\\"x\\\": 1650.0, \\\"y\\\": 539900.0}, {\\\"x\\\": 2480.0, \\\"y\\\": 910000.0}, {\\\"x\\\": 2050.0, \\\"y\\\": 280000.0}, {\\\"x\\\": 1420.0, \\\"y\\\": 275000.0}, {\\\"x\\\": 3460.0, \\\"y\\\": 467000.0}, {\\\"x\\\": 1500.0, \\\"y\\\": 457500.0}, {\\\"x\\\": 1320.0, \\\"y\\\": 381156.0}, {\\\"x\\\": 2180.0, \\\"y\\\": 289999.0}, {\\\"x\\\": 1830.0, \\\"y\\\": 642450.0}, {\\\"x\\\": 1620.0, \\\"y\\\": 469950.0}, {\\\"x\\\": 2920.0, \\\"y\\\": 795000.0}, {\\\"x\\\": 3300.0, \\\"y\\\": 785000.0}, {\\\"x\\\": 3060.0, \\\"y\\\": 860000.0}, {\\\"x\\\": 3064.0, \\\"y\\\": 1095000.0}, {\\\"x\\\": 1530.0, \\\"y\\\": 147500.0}, {\\\"x\\\": 1910.0, \\\"y\\\": 390000.0}, {\\\"x\\\": 1020.0, \\\"y\\\": 229000.0}, {\\\"x\\\": 1150.0, \\\"y\\\": 185000.0}, {\\\"x\\\": 1260.0, \\\"y\\\": 414900.0}, {\\\"x\\\": 1920.0, \\\"y\\\": 200000.0}, {\\\"x\\\": 1800.0, \\\"y\\\": 225000.0}, {\\\"x\\\": 2040.0, \\\"y\\\": 720000.0}, {\\\"x\\\": 2200.0, \\\"y\\\": 930000.0}, {\\\"x\\\": 3200.0, \\\"y\\\": 1270000.0}, {\\\"x\\\": 2400.0, \\\"y\\\": 700000.0}, {\\\"x\\\": 1140.0, \\\"y\\\": 466000.0}, {\\\"x\\\": 1330.0, \\\"y\\\": 374000.0}, {\\\"x\\\": 1940.0, \\\"y\\\": 480000.0}, {\\\"x\\\": 3000.0, \\\"y\\\": 740000.0}, {\\\"x\\\": 1820.0, \\\"y\\\": 1010000.0}, {\\\"x\\\": 2910.0, \\\"y\\\": 395000.0}, {\\\"x\\\": 1090.0, \\\"y\\\": 340000.0}, {\\\"x\\\": 1230.0, \\\"y\\\": 209000.0}, {\\\"x\\\": 1710.0, \\\"y\\\": 431650.0}, {\\\"x\\\": 3160.0, \\\"y\\\": 980000.0}, {\\\"x\\\": 2680.0, \\\"y\\\": 660000.0}, {\\\"x\\\": 2190.0, \\\"y\\\": 730000.0}, {\\\"x\\\": 1260.0, \\\"y\\\": 291500.0}, {\\\"x\\\": 2970.0, \\\"y\\\": 905000.0}, {\\\"x\\\": 2570.0, \\\"y\\\": 800000.0}, {\\\"x\\\": 3810.0, \\\"y\\\": 839900.0}, {\\\"x\\\": 1010.0, \\\"y\\\": 200000.0}, {\\\"x\\\": 1480.0, \\\"y\\\": 300000.0}, {\\\"x\\\": 1250.0, \\\"y\\\": 530000.0}, {\\\"x\\\": 1654.0, \\\"y\\\": 314950.0}, {\\\"x\\\": 1410.0, \\\"y\\\": 255000.0}, {\\\"x\\\": 2160.0, \\\"y\\\": 550000.0}, {\\\"x\\\": 1400.0, \\\"y\\\": 435000.0}, {\\\"x\\\": 1420.0, \\\"y\\\": 234000.0}, {\\\"x\\\": 2500.0, \\\"y\\\": 615000.0}, {\\\"x\\\": 1410.0, \\\"y\\\": 205000.0}, {\\\"x\\\": 2100.0, \\\"y\\\": 384000.0}, {\\\"x\\\": 1750.0, \\\"y\\\": 324000.0}, {\\\"x\\\": 2070.0, \\\"y\\\": 645000.0}, {\\\"x\\\": 1570.0, \\\"y\\\": 570000.0}, {\\\"x\\\": 1920.0, \\\"y\\\": 324000.0}, {\\\"x\\\": 1000.0, \\\"y\\\": 270000.0}, {\\\"x\\\": 2120.0, \\\"y\\\": 290000.0}, {\\\"x\\\": 1440.0, \\\"y\\\": 250000.0}, {\\\"x\\\": 1660.0, \\\"y\\\": 342000.0}, {\\\"x\\\": 1340.0, \\\"y\\\": 255000.0}, {\\\"x\\\": 2380.0, \\\"y\\\": 800000.0}, {\\\"x\\\": 1560.0, \\\"y\\\": 451000.0}, {\\\"x\\\": 2780.0, \\\"y\\\": 990000.0}, {\\\"x\\\": 1860.0, \\\"y\\\": 288400.0}, {\\\"x\\\": 2390.0, \\\"y\\\": 420000.0}, {\\\"x\\\": 1370.0, \\\"y\\\": 359000.0}, {\\\"x\\\": 2570.0, \\\"y\\\": 390000.0}, {\\\"x\\\": 1320.0, \\\"y\\\": 300000.0}, {\\\"x\\\": 2520.0, \\\"y\\\": 545000.0}, {\\\"x\\\": 1250.0, \\\"y\\\": 288349.0}, {\\\"x\\\": 1560.0, \\\"y\\\": 299900.0}, {\\\"x\\\": 2330.0, \\\"y\\\": 891000.0}, {\\\"x\\\": 3660.0, \\\"y\\\": 1200000.0}, {\\\"x\\\": 2790.0, \\\"y\\\": 378000.0}, {\\\"x\\\": 1060.0, \\\"y\\\": 299995.0}, {\\\"x\\\": 2020.0, \\\"y\\\": 253000.0}, {\\\"x\\\": 1580.0, \\\"y\\\": 350000.0}, {\\\"x\\\": 2020.0, \\\"y\\\": 565000.0}, {\\\"x\\\": 970.0, \\\"y\\\": 315000.0}, {\\\"x\\\": 1490.0, \\\"y\\\": 570000.0}, {\\\"x\\\": 4390.0, \\\"y\\\": 971000.0}, {\\\"x\\\": 2750.0, \\\"y\\\": 915000.0}, {\\\"x\\\": 2150.0, \\\"y\\\": 419000.0}, {\\\"x\\\": 1810.0, \\\"y\\\": 260000.0}, {\\\"x\\\": 2230.0, \\\"y\\\": 1321500.0}, {\\\"x\\\": 2430.0, \\\"y\\\": 369950.0}, {\\\"x\\\": 3680.0, \\\"y\\\": 1029900.0}, {\\\"x\\\": 1410.0, \\\"y\\\": 435000.0}, {\\\"x\\\": 1330.0, \\\"y\\\": 601000.0}, {\\\"x\\\": 1490.0, \\\"y\\\": 460500.0}, {\\\"x\\\": 2020.0, \\\"y\\\": 720000.0}, {\\\"x\\\": 3130.0, \\\"y\\\": 851000.0}, {\\\"x\\\": 2670.0, \\\"y\\\": 550000.0}, {\\\"x\\\": 1980.0, \\\"y\\\": 700000.0}, {\\\"x\\\": 2100.0, \\\"y\\\": 323000.0}, {\\\"x\\\": 1350.0, \\\"y\\\": 345500.0}, {\\\"x\\\": 2140.0, \\\"y\\\": 378000.0}, {\\\"x\\\": 2208.0, \\\"y\\\": 650000.0}, {\\\"x\\\": 1010.0, \\\"y\\\": 385000.0}, {\\\"x\\\": 970.0, \\\"y\\\": 425000.0}, {\\\"x\\\": 1520.0, \\\"y\\\": 210000.0}, {\\\"x\\\": 2740.0, \\\"y\\\": 630000.0}, {\\\"x\\\": 1570.0, \\\"y\\\": 335000.0}, {\\\"x\\\": 1320.0, \\\"y\\\": 196500.0}, {\\\"x\\\": 2550.0, \\\"y\\\": 582800.0}, {\\\"x\\\": 1560.0, \\\"y\\\": 440000.0}, {\\\"x\\\": 2360.0, \\\"y\\\": 752500.0}, {\\\"x\\\": 1330.0, \\\"y\\\": 532500.0}, {\\\"x\\\": 1070.0, \\\"y\\\": 265000.0}, {\\\"x\\\": 1510.0, \\\"y\\\": 397500.0}, {\\\"x\\\": 1710.0, \\\"y\\\": 524250.0}, {\\\"x\\\": 2790.0, \\\"y\\\": 765000.0}, {\\\"x\\\": 2620.0, \\\"y\\\": 648000.0}, {\\\"x\\\": 2970.0, \\\"y\\\": 469500.0}, {\\\"x\\\": 1050.0, \\\"y\\\": 237500.0}, {\\\"x\\\": 1280.0, \\\"y\\\": 216000.0}, {\\\"x\\\": 1030.0, \\\"y\\\": 427200.0}, {\\\"x\\\": 1900.0, \\\"y\\\": 280000.0}, {\\\"x\\\": 3070.0, \\\"y\\\": 718000.0}, {\\\"x\\\": 1760.0, \\\"y\\\": 420000.0}, {\\\"x\\\": 930.0, \\\"y\\\": 379000.0}, {\\\"x\\\": 880.0, \\\"y\\\": 326100.0}, {\\\"x\\\": 1360.0, \\\"y\\\": 535000.0}, {\\\"x\\\": 2130.0, \\\"y\\\": 283000.0}, {\\\"x\\\": 1480.0, \\\"y\\\": 260000.0}, {\\\"x\\\": 1500.0, \\\"y\\\": 399000.0}, {\\\"x\\\": 1670.0, \\\"y\\\": 484950.0}, {\\\"x\\\": 2060.0, \\\"y\\\": 640000.0}, {\\\"x\\\": 2160.0, \\\"y\\\": 585000.0}, {\\\"x\\\": 2780.0, \\\"y\\\": 645000.0}, {\\\"x\\\": 1490.0, \\\"y\\\": 253000.0}, {\\\"x\\\": 740.0, \\\"y\\\": 178500.0}, {\\\"x\\\": 1860.0, \\\"y\\\": 291000.0}, {\\\"x\\\": 1590.0, \\\"y\\\": 199950.0}, {\\\"x\\\": 850.0, \\\"y\\\": 553500.0}, {\\\"x\\\": 1030.0, \\\"y\\\": 189950.0}, {\\\"x\\\": 1850.0, \\\"y\\\": 289000.0}, {\\\"x\\\": 1830.0, \\\"y\\\": 700000.0}, {\\\"x\\\": 1560.0, \\\"y\\\": 270000.0}, {\\\"x\\\": 1730.0, \\\"y\\\": 258000.0}, {\\\"x\\\": 1930.0, \\\"y\\\": 530000.0}, {\\\"x\\\": 1422.0, \\\"y\\\": 245000.0}, {\\\"x\\\": 1380.0, \\\"y\\\": 563000.0}, {\\\"x\\\": 2430.0, \\\"y\\\": 515000.0}, {\\\"x\\\": 2610.0, \\\"y\\\": 325000.0}, {\\\"x\\\": 2000.0, \\\"y\\\": 540000.0}, {\\\"x\\\": 920.0, \\\"y\\\": 280300.0}, {\\\"x\\\": 1750.0, \\\"y\\\": 460000.0}, {\\\"x\\\": 2020.0, \\\"y\\\": 475000.0}, {\\\"x\\\": 2460.0, \\\"y\\\": 900000.0}, {\\\"x\\\": 1780.0, \\\"y\\\": 538200.0}, {\\\"x\\\": 1080.0, \\\"y\\\": 429000.0}, {\\\"x\\\": 1250.0, \\\"y\\\": 164808.0}, {\\\"x\\\": 1870.0, \\\"y\\\": 520000.0}, {\\\"x\\\": 1700.0, \\\"y\\\": 475000.0}, {\\\"x\\\": 1480.0, \\\"y\\\": 283000.0}, {\\\"x\\\": 1930.0, \\\"y\\\": 321500.0}, {\\\"x\\\": 3130.0, \\\"y\\\": 840000.0}, {\\\"x\\\": 1370.0, \\\"y\\\": 287000.0}, {\\\"x\\\": 960.0, \\\"y\\\": 375000.0}, {\\\"x\\\": 1260.0, \\\"y\\\": 349500.0}, {\\\"x\\\": 1480.0, \\\"y\\\": 446450.0}, {\\\"x\\\": 1930.0, \\\"y\\\": 315000.0}, {\\\"x\\\": 870.0, \\\"y\\\": 271310.0}, {\\\"x\\\": 1300.0, \\\"y\\\": 315000.0}, {\\\"x\\\": 1490.0, \\\"y\\\": 245000.0}, {\\\"x\\\": 1380.0, \\\"y\\\": 543115.0}, {\\\"x\\\": 1190.0, \\\"y\\\": 900000.0}, {\\\"x\\\": 4250.0, \\\"y\\\": 2450000.0}, {\\\"x\\\": 1920.0, \\\"y\\\": 554000.0}, {\\\"x\\\": 2080.0, \\\"y\\\": 249900.0}, {\\\"x\\\": 3220.0, \\\"y\\\": 768000.0}, {\\\"x\\\": 3680.0, \\\"y\\\": 980000.0}, {\\\"x\\\": 2070.0, \\\"y\\\": 395000.0}, {\\\"x\\\": 1480.0, \\\"y\\\": 415000.0}, {\\\"x\\\": 2000.0, \\\"y\\\": 380000.0}, {\\\"x\\\": 1560.0, \\\"y\\\": 566000.0}, {\\\"x\\\": 1600.0, \\\"y\\\": 218500.0}, {\\\"x\\\": 1940.0, \\\"y\\\": 550000.0}, {\\\"x\\\": 1540.0, \\\"y\\\": 512031.0}, {\\\"x\\\": 820.0, \\\"y\\\": 197500.0}, {\\\"x\\\": 1780.0, \\\"y\\\": 470000.0}, {\\\"x\\\": 1560.0, \\\"y\\\": 590000.0}, {\\\"x\\\": 2210.0, \\\"y\\\": 465000.0}, {\\\"x\\\": 2040.0, \\\"y\\\": 499000.0}, {\\\"x\\\": 1920.0, \\\"y\\\": 515000.0}, {\\\"x\\\": 1930.0, \\\"y\\\": 716500.0}, {\\\"x\\\": 1700.0, \\\"y\\\": 410000.0}, {\\\"x\\\": 3450.0, \\\"y\\\": 850000.0}, {\\\"x\\\": 3440.0, \\\"y\\\": 1050000.0}, {\\\"x\\\": 2380.0, \\\"y\\\": 648000.0}, {\\\"x\\\": 2400.0, \\\"y\\\": 620000.0}, {\\\"x\\\": 5670.0, \\\"y\\\": 935000.0}, {\\\"x\\\": 1140.0, \\\"y\\\": 379000.0}, {\\\"x\\\": 1670.0, \\\"y\\\": 699000.0}, {\\\"x\\\": 1910.0, \\\"y\\\": 528000.0}, {\\\"x\\\": 1560.0, \\\"y\\\": 425000.0}, {\\\"x\\\": 1500.0, \\\"y\\\": 249500.0}, {\\\"x\\\": 4475.0, \\\"y\\\": 1035480.0}, {\\\"x\\\": 2840.0, \\\"y\\\": 790000.0}, {\\\"x\\\": 1020.0, \\\"y\\\": 399950.0}, {\\\"x\\\": 1410.0, \\\"y\\\": 275000.0}, {\\\"x\\\": 1520.0, \\\"y\\\": 550000.0}, {\\\"x\\\": 730.0, \\\"y\\\": 140000.0}, {\\\"x\\\": 1190.0, \\\"y\\\": 250000.0}, {\\\"x\\\": 1410.0, \\\"y\\\": 318000.0}, {\\\"x\\\": 1240.0, \\\"y\\\": 505000.0}, {\\\"x\\\": 2500.0, \\\"y\\\": 470500.0}, {\\\"x\\\": 1050.0, \\\"y\\\": 360000.0}, {\\\"x\\\": 2680.0, \\\"y\\\": 1242500.0}, {\\\"x\\\": 2380.0, \\\"y\\\": 986000.0}, {\\\"x\\\": 1060.0, \\\"y\\\": 515000.0}, {\\\"x\\\": 2300.0, \\\"y\\\": 320000.0}, {\\\"x\\\": 2010.0, \\\"y\\\": 310000.0}, {\\\"x\\\": 1090.0, \\\"y\\\": 356700.0}, {\\\"x\\\": 2320.0, \\\"y\\\": 775000.0}, {\\\"x\\\": 1040.0, \\\"y\\\": 325000.0}, {\\\"x\\\": 1810.0, \\\"y\\\": 208000.0}, {\\\"x\\\": 1150.0, \\\"y\\\": 825000.0}, {\\\"x\\\": 2360.0, \\\"y\\\": 515000.0}, {\\\"x\\\": 1970.0, \\\"y\\\": 490000.0}, {\\\"x\\\": 2690.0, \\\"y\\\": 675000.0}, {\\\"x\\\": 2080.0, \\\"y\\\": 360000.0}, {\\\"x\\\": 2080.0, \\\"y\\\": 550000.0}, {\\\"x\\\": 1370.0, \\\"y\\\": 225000.0}, {\\\"x\\\": 3410.0, \\\"y\\\": 500000.0}, {\\\"x\\\": 1850.0, \\\"y\\\": 385000.0}, {\\\"x\\\": 3010.0, \\\"y\\\": 837700.0}, {\\\"x\\\": 1530.0, \\\"y\\\": 448000.0}, {\\\"x\\\": 2690.0, \\\"y\\\": 730000.0}, {\\\"x\\\": 2810.0, \\\"y\\\": 575000.0}, {\\\"x\\\": 1810.0, \\\"y\\\": 430000.0}, {\\\"x\\\": 1560.0, \\\"y\\\": 435000.0}, {\\\"x\\\": 1010.0, \\\"y\\\": 241000.0}, {\\\"x\\\": 1000.0, \\\"y\\\": 453500.0}, {\\\"x\\\": 990.0, \\\"y\\\": 285000.0}, {\\\"x\\\": 720.0, \\\"y\\\": 151000.0}, {\\\"x\\\": 6070.0, \\\"y\\\": 1570000.0}, {\\\"x\\\": 2270.0, \\\"y\\\": 631000.0}, {\\\"x\\\": 1380.0, \\\"y\\\": 285000.0}, {\\\"x\\\": 1260.0, \\\"y\\\": 195000.0}, {\\\"x\\\": 2910.0, \\\"y\\\": 817500.0}, {\\\"x\\\": 1810.0, \\\"y\\\": 550000.0}, {\\\"x\\\": 3160.0, \\\"y\\\": 1127000.0}, {\\\"x\\\": 1910.0, \\\"y\\\": 609850.0}, {\\\"x\\\": 1230.0, \\\"y\\\": 200000.0}, {\\\"x\\\": 2960.0, \\\"y\\\": 367000.0}, {\\\"x\\\": 2200.0, \\\"y\\\": 285167.0}, {\\\"x\\\": 1270.0, \\\"y\\\": 275000.0}, {\\\"x\\\": 2540.0, \\\"y\\\": 350900.0}, {\\\"x\\\": 3030.0, \\\"y\\\": 660000.0}, {\\\"x\\\": 1520.0, \\\"y\\\": 525000.0}, {\\\"x\\\": 1560.0, \\\"y\\\": 262000.0}, {\\\"x\\\": 970.0, \\\"y\\\": 690000.0}, {\\\"x\\\": 3570.0, \\\"y\\\": 624000.0}, {\\\"x\\\": 1350.0, \\\"y\\\": 353000.0}, {\\\"x\\\": 3710.0, \\\"y\\\": 552500.0}, {\\\"x\\\": 1430.0, \\\"y\\\": 224500.0}, {\\\"x\\\": 940.0, \\\"y\\\": 239000.0}, {\\\"x\\\": 4300.0, \\\"y\\\": 975000.0}, {\\\"x\\\": 3990.0, \\\"y\\\": 1200000.0}, {\\\"x\\\": 1380.0, \\\"y\\\": 505000.0}, {\\\"x\\\": 2020.0, \\\"y\\\": 302000.0}, {\\\"x\\\": 1480.0, \\\"y\\\": 170000.0}, {\\\"x\\\": 1190.0, \\\"y\\\": 195000.0}, {\\\"x\\\": 2550.0, \\\"y\\\": 272000.0}, {\\\"x\\\": 2550.0, \\\"y\\\": 369000.0}, {\\\"x\\\": 1500.0, \\\"y\\\": 332500.0}, {\\\"x\\\": 3000.0, \\\"y\\\": 515000.0}, {\\\"x\\\": 1690.0, \\\"y\\\": 269000.0}, {\\\"x\\\": 4390.0, \\\"y\\\": 1278000.0}, {\\\"x\\\": 1560.0, \\\"y\\\": 303000.0}, {\\\"x\\\": 2940.0, \\\"y\\\": 420000.0}, {\\\"x\\\": 1130.0, \\\"y\\\": 400000.0}, {\\\"x\\\": 1020.0, \\\"y\\\": 225000.0}, {\\\"x\\\": 1310.0, \\\"y\\\": 219000.0}, {\\\"x\\\": 2570.0, \\\"y\\\": 605000.0}, {\\\"x\\\": 2020.0, \\\"y\\\": 625000.0}, {\\\"x\\\": 1680.0, \\\"y\\\": 380000.0}, {\\\"x\\\": 1770.0, \\\"y\\\": 620000.0}, {\\\"x\\\": 3190.0, \\\"y\\\": 687500.0}, {\\\"x\\\": 1440.0, \\\"y\\\": 225500.0}, {\\\"x\\\": 1150.0, \\\"y\\\": 252500.0}, {\\\"x\\\": 1860.0, \\\"y\\\": 510000.0}, {\\\"x\\\": 2430.0, \\\"y\\\": 510000.0}, {\\\"x\\\": 1940.0, \\\"y\\\": 725000.0}, {\\\"x\\\": 670.0, \\\"y\\\": 75000.0}, {\\\"x\\\": 880.0, \\\"y\\\": 492000.0}, {\\\"x\\\": 1930.0, \\\"y\\\": 425000.0}, {\\\"x\\\": 3120.0, \\\"y\\\": 1955000.0}, {\\\"x\\\": 1830.0, \\\"y\\\": 298900.0}, {\\\"x\\\": 3230.0, \\\"y\\\": 699000.0}, {\\\"x\\\": 700.0, \\\"y\\\": 310000.0}, {\\\"x\\\": 1010.0, \\\"y\\\": 350000.0}, {\\\"x\\\": 2460.0, \\\"y\\\": 790000.0}, {\\\"x\\\": 2230.0, \\\"y\\\": 305000.0}, {\\\"x\\\": 1570.0, \\\"y\\\": 315000.0}, {\\\"x\\\": 2390.0, \\\"y\\\": 267500.0}, {\\\"x\\\": 3460.0, \\\"y\\\": 1750000.0}, {\\\"x\\\": 2400.0, \\\"y\\\": 435000.0}, {\\\"x\\\": 2940.0, \\\"y\\\": 482500.0}, {\\\"x\\\": 8010.0, \\\"y\\\": 5110800.0}, {\\\"x\\\": 1570.0, \\\"y\\\": 439995.0}, {\\\"x\\\": 1520.0, \\\"y\\\": 460000.0}, {\\\"x\\\": 1070.0, \\\"y\\\": 194000.0}, {\\\"x\\\": 440.0, \\\"y\\\": 290000.0}, {\\\"x\\\": 2440.0, \\\"y\\\": 274700.0}, {\\\"x\\\": 2660.0, \\\"y\\\": 900000.0}, {\\\"x\\\": 4460.0, \\\"y\\\": 1150000.0}, {\\\"x\\\": 2010.0, \\\"y\\\": 605000.0}, {\\\"x\\\": 1450.0, \\\"y\\\": 359000.0}, {\\\"x\\\": 1400.0, \\\"y\\\": 850000.0}, {\\\"x\\\": 1500.0, \\\"y\\\": 505000.0}, {\\\"x\\\": 2500.0, \\\"y\\\": 565000.0}, {\\\"x\\\": 1280.0, \\\"y\\\": 585000.0}, {\\\"x\\\": 3380.0, \\\"y\\\": 328000.0}, {\\\"x\\\": 2910.0, \\\"y\\\": 749950.0}, {\\\"x\\\": 3060.0, \\\"y\\\": 826000.0}, {\\\"x\\\": 1330.0, \\\"y\\\": 535000.0}, {\\\"x\\\": 3300.0, \\\"y\\\": 925000.0}, {\\\"x\\\": 3250.0, \\\"y\\\": 875000.0}, {\\\"x\\\": 2530.0, \\\"y\\\": 902000.0}, {\\\"x\\\": 1830.0, \\\"y\\\": 423000.0}, {\\\"x\\\": 1170.0, \\\"y\\\": 235000.0}, {\\\"x\\\": 2930.0, \\\"y\\\": 545000.0}, {\\\"x\\\": 1230.0, \\\"y\\\": 343000.0}, {\\\"x\\\": 1620.0, \\\"y\\\": 334950.0}, {\\\"x\\\": 1760.0, \\\"y\\\": 405000.0}, {\\\"x\\\": 1440.0, \\\"y\\\": 220000.0}, {\\\"x\\\": 1740.0, \\\"y\\\": 173000.0}, {\\\"x\\\": 1270.0, \\\"y\\\": 655000.0}, {\\\"x\\\": 880.0, \\\"y\\\": 406000.0}, {\\\"x\\\": 2560.0, \\\"y\\\": 632000.0}, {\\\"x\\\": 1540.0, \\\"y\\\": 357000.0}, {\\\"x\\\": 1150.0, \\\"y\\\": 361000.0}, {\\\"x\\\": 770.0, \\\"y\\\": 277000.0}, {\\\"x\\\": 4610.0, \\\"y\\\": 630000.0}, {\\\"x\\\": 1850.0, \\\"y\\\": 254000.0}, {\\\"x\\\": 1840.0, \\\"y\\\": 472800.0}, {\\\"x\\\": 1490.0, \\\"y\\\": 263000.0}, {\\\"x\\\": 1490.0, \\\"y\\\": 510000.0}, {\\\"x\\\": 960.0, \\\"y\\\": 179950.0}, {\\\"x\\\": 1580.0, \\\"y\\\": 525000.0}, {\\\"x\\\": 1260.0, \\\"y\\\": 479000.0}, {\\\"x\\\": 1940.0, \\\"y\\\": 651000.0}, {\\\"x\\\": 2490.0, \\\"y\\\": 949000.0}, {\\\"x\\\": 2520.0, \\\"y\\\": 392400.0}, {\\\"x\\\": 1760.0, \\\"y\\\": 585000.0}, {\\\"x\\\": 4190.0, \\\"y\\\": 460000.0}, {\\\"x\\\": 1170.0, \\\"y\\\": 470000.0}, {\\\"x\\\": 1600.0, \\\"y\\\": 245000.0}, {\\\"x\\\": 2760.0, \\\"y\\\": 500000.0}, {\\\"x\\\": 2090.0, \\\"y\\\": 455000.0}, {\\\"x\\\": 2320.0, \\\"y\\\": 485500.0}, {\\\"x\\\": 4110.0, \\\"y\\\": 1875000.0}, {\\\"x\\\": 770.0, \\\"y\\\": 100000.0}, {\\\"x\\\": 1410.0, \\\"y\\\": 307000.0}, {\\\"x\\\": 3660.0, \\\"y\\\": 475000.0}, {\\\"x\\\": 2180.0, \\\"y\\\": 330000.0}, {\\\"x\\\": 1110.0, \\\"y\\\": 130000.0}, {\\\"x\\\": 2280.0, \\\"y\\\": 320000.0}, {\\\"x\\\": 2820.0, \\\"y\\\": 735000.0}, {\\\"x\\\": 1570.0, \\\"y\\\": 365000.0}, {\\\"x\\\": 1200.0, \\\"y\\\": 234000.0}, {\\\"x\\\": 1710.0, \\\"y\\\": 211000.0}, {\\\"x\\\": 3000.0, \\\"y\\\": 680000.0}, {\\\"x\\\": 2800.0, \\\"y\\\": 457000.0}, {\\\"x\\\": 1640.0, \\\"y\\\": 349000.0}, {\\\"x\\\": 2030.0, \\\"y\\\": 360000.0}, {\\\"x\\\": 2530.0, \\\"y\\\": 350000.0}, {\\\"x\\\": 990.0, \\\"y\\\": 208000.0}, {\\\"x\\\": 790.0, \\\"y\\\": 250275.0}, {\\\"x\\\": 790.0, \\\"y\\\": 435000.0}, {\\\"x\\\": 1800.0, \\\"y\\\": 270000.0}, {\\\"x\\\": 1650.0, \\\"y\\\": 438000.0}, {\\\"x\\\": 1980.0, \\\"y\\\": 659000.0}, {\\\"x\\\": 2340.0, \\\"y\\\": 645000.0}, {\\\"x\\\": 2790.0, \\\"y\\\": 685100.0}, {\\\"x\\\": 2800.0, \\\"y\\\": 350000.0}, {\\\"x\\\": 1840.0, \\\"y\\\": 375000.0}, {\\\"x\\\": 1350.0, \\\"y\\\": 170000.0}, {\\\"x\\\": 3030.0, \\\"y\\\": 880000.0}, {\\\"x\\\": 1980.0, \\\"y\\\": 410500.0}, {\\\"x\\\": 3690.0, \\\"y\\\": 780000.0}, {\\\"x\\\": 3732.0, \\\"y\\\": 1225000.0}, {\\\"x\\\": 1510.0, \\\"y\\\": 449000.0}, {\\\"x\\\": 2000.0, \\\"y\\\": 546000.0}, {\\\"x\\\": 1760.0, \\\"y\\\": 317000.0}, {\\\"x\\\": 1270.0, \\\"y\\\": 276900.0}, {\\\"x\\\": 2620.0, \\\"y\\\": 399000.0}, {\\\"x\\\": 2630.0, \\\"y\\\": 495000.0}, {\\\"x\\\": 2270.0, \\\"y\\\": 258000.0}, {\\\"x\\\": 2410.0, \\\"y\\\": 600000.0}, {\\\"x\\\": 1120.0, \\\"y\\\": 265000.0}, {\\\"x\\\": 3030.0, \\\"y\\\": 321000.0}, {\\\"x\\\": 2120.0, \\\"y\\\": 682000.0}, {\\\"x\\\": 1720.0, \\\"y\\\": 295700.0}, {\\\"x\\\": 2150.0, \\\"y\\\": 609000.0}, {\\\"x\\\": 4380.0, \\\"y\\\": 995000.0}, {\\\"x\\\": 2010.0, \\\"y\\\": 530000.0}, {\\\"x\\\": 3150.0, \\\"y\\\": 614000.0}, {\\\"x\\\": 2500.0, \\\"y\\\": 390000.0}, {\\\"x\\\": 1690.0, \\\"y\\\": 467000.0}, {\\\"x\\\": 3300.0, \\\"y\\\": 484000.0}, {\\\"x\\\": 1240.0, \\\"y\\\": 340000.0}, {\\\"x\\\": 2200.0, \\\"y\\\": 302495.0}, {\\\"x\\\": 1620.0, \\\"y\\\": 532500.0}, {\\\"x\\\": 2420.0, \\\"y\\\": 441500.0}, {\\\"x\\\": 2680.0, \\\"y\\\": 470000.0}, {\\\"x\\\": 4250.0, \\\"y\\\": 2300000.0}, {\\\"x\\\": 2400.0, \\\"y\\\": 590000.0}, {\\\"x\\\": 2300.0, \\\"y\\\": 320000.0}, {\\\"x\\\": 920.0, \\\"y\\\": 363000.0}, {\\\"x\\\": 2350.0, \\\"y\\\": 747500.0}, {\\\"x\\\": 2630.0, \\\"y\\\": 750000.0}, {\\\"x\\\": 2170.0, \\\"y\\\": 831000.0}, {\\\"x\\\": 1700.0, \\\"y\\\": 403000.0}, {\\\"x\\\": 2470.0, \\\"y\\\": 445000.0}, {\\\"x\\\": 1250.0, \\\"y\\\": 345000.0}, {\\\"x\\\": 3110.0, \\\"y\\\": 2260000.0}, {\\\"x\\\": 1530.0, \\\"y\\\": 371025.0}, {\\\"x\\\": 960.0, \\\"y\\\": 355000.0}, {\\\"x\\\": 1240.0, \\\"y\\\": 270000.0}, {\\\"x\\\": 2440.0, \\\"y\\\": 425000.0}, {\\\"x\\\": 2320.0, \\\"y\\\": 364808.0}, {\\\"x\\\": 1580.0, \\\"y\\\": 320000.0}, {\\\"x\\\": 2963.0, \\\"y\\\": 325000.0}, {\\\"x\\\": 2470.0, \\\"y\\\": 350000.0}, {\\\"x\\\": 1370.0, \\\"y\\\": 170000.0}, {\\\"x\\\": 960.0, \\\"y\\\": 255000.0}, {\\\"x\\\": 1130.0, \\\"y\\\": 550000.0}, {\\\"x\\\": 4930.0, \\\"y\\\": 835000.0}, {\\\"x\\\": 1150.0, \\\"y\\\": 420000.0}, {\\\"x\\\": 2190.0, \\\"y\\\": 925000.0}, {\\\"x\\\": 1490.0, \\\"y\\\": 389250.0}, {\\\"x\\\": 2600.0, \\\"y\\\": 748000.0}, {\\\"x\\\": 1530.0, \\\"y\\\": 284000.0}, {\\\"x\\\": 1680.0, \\\"y\\\": 588000.0}, {\\\"x\\\": 1680.0, \\\"y\\\": 372500.0}, {\\\"x\\\": 1900.0, \\\"y\\\": 285000.0}, {\\\"x\\\": 1570.0, \\\"y\\\": 360000.0}, {\\\"x\\\": 1370.0, \\\"y\\\": 275000.0}, {\\\"x\\\": 1350.0, \\\"y\\\": 428000.0}, {\\\"x\\\": 3010.0, \\\"y\\\": 847000.0}, {\\\"x\\\": 1010.0, \\\"y\\\": 316000.0}, {\\\"x\\\": 2050.0, \\\"y\\\": 375000.0}, {\\\"x\\\": 1670.0, \\\"y\\\": 533000.0}, {\\\"x\\\": 3840.0, \\\"y\\\": 556000.0}, {\\\"x\\\": 2220.0, \\\"y\\\": 225000.0}, {\\\"x\\\": 2590.0, \\\"y\\\": 537250.0}, {\\\"x\\\": 1180.0, \\\"y\\\": 255000.0}, {\\\"x\\\": 2950.0, \\\"y\\\": 530000.0}, {\\\"x\\\": 7390.0, \\\"y\\\": 5300000.0}, {\\\"x\\\": 2150.0, \\\"y\\\": 595000.0}, {\\\"x\\\": 2100.0, \\\"y\\\": 548000.0}, {\\\"x\\\": 1650.0, \\\"y\\\": 234975.0}, {\\\"x\\\": 1620.0, \\\"y\\\": 600000.0}, {\\\"x\\\": 1750.0, \\\"y\\\": 432000.0}, {\\\"x\\\": 1380.0, \\\"y\\\": 455000.0}, {\\\"x\\\": 1510.0, \\\"y\\\": 279950.0}, {\\\"x\\\": 1600.0, \\\"y\\\": 267500.0}, {\\\"x\\\": 1840.0, \\\"y\\\": 620000.0}, {\\\"x\\\": 830.0, \\\"y\\\": 110000.0}, {\\\"x\\\": 1810.0, \\\"y\\\": 625000.0}, {\\\"x\\\": 910.0, \\\"y\\\": 389000.0}, {\\\"x\\\": 2120.0, \\\"y\\\": 1200000.0}, {\\\"x\\\": 2510.0, \\\"y\\\": 788500.0}, {\\\"x\\\": 2100.0, \\\"y\\\": 567000.0}, {\\\"x\\\": 2690.0, \\\"y\\\": 515000.0}, {\\\"x\\\": 2430.0, \\\"y\\\": 605000.0}, {\\\"x\\\": 2452.0, \\\"y\\\": 430000.0}, {\\\"x\\\": 1550.0, \\\"y\\\": 805000.0}, {\\\"x\\\": 2080.0, \\\"y\\\": 567500.0}, {\\\"x\\\": 1290.0, \\\"y\\\": 647500.0}, {\\\"x\\\": 1850.0, \\\"y\\\": 495000.0}, {\\\"x\\\": 3370.0, \\\"y\\\": 825000.0}, {\\\"x\\\": 2730.0, \\\"y\\\": 435000.0}, {\\\"x\\\": 1300.0, \\\"y\\\": 445950.0}, {\\\"x\\\": 3040.0, \\\"y\\\": 960000.0}, {\\\"x\\\": 2440.0, \\\"y\\\": 780000.0}, {\\\"x\\\": 1720.0, \\\"y\\\": 274500.0}, {\\\"x\\\": 3230.0, \\\"y\\\": 729953.0}, {\\\"x\\\": 1200.0, \\\"y\\\": 464950.0}, {\\\"x\\\": 2350.0, \\\"y\\\": 620000.0}, {\\\"x\\\": 3100.0, \\\"y\\\": 735000.0}, {\\\"x\\\": 2040.0, \\\"y\\\": 450000.0}, {\\\"x\\\": 2000.0, \\\"y\\\": 450000.0}, {\\\"x\\\": 2160.0, \\\"y\\\": 842500.0}, {\\\"x\\\": 1970.0, \\\"y\\\": 360000.0}, {\\\"x\\\": 2270.0, \\\"y\\\": 585000.0}, {\\\"x\\\": 1850.0, \\\"y\\\": 461000.0}, {\\\"x\\\": 1350.0, \\\"y\\\": 345000.0}, {\\\"x\\\": 3280.0, \\\"y\\\": 1075000.0}, {\\\"x\\\": 2270.0, \\\"y\\\": 643000.0}, {\\\"x\\\": 2820.0, \\\"y\\\": 690000.0}, {\\\"x\\\": 1200.0, \\\"y\\\": 282000.0}, {\\\"x\\\": 2000.0, \\\"y\\\": 549000.0}, {\\\"x\\\": 2310.0, \\\"y\\\": 815000.0}, {\\\"x\\\": 4640.0, \\\"y\\\": 2200000.0}, {\\\"x\\\": 2330.0, \\\"y\\\": 700000.0}, {\\\"x\\\": 3940.0, \\\"y\\\": 933399.0}, {\\\"x\\\": 1440.0, \\\"y\\\": 290000.0}, {\\\"x\\\": 1960.0, \\\"y\\\": 372000.0}, {\\\"x\\\": 1250.0, \\\"y\\\": 450000.0}, {\\\"x\\\": 1981.0, \\\"y\\\": 303700.0}, {\\\"x\\\": 2440.0, \\\"y\\\": 672000.0}, {\\\"x\\\": 1150.0, \\\"y\\\": 334000.0}, {\\\"x\\\": 1120.0, \\\"y\\\": 260000.0}, {\\\"x\\\": 1800.0, \\\"y\\\": 749950.0}, {\\\"x\\\": 2380.0, \\\"y\\\": 330000.0}, {\\\"x\\\": 2920.0, \\\"y\\\": 830000.0}, {\\\"x\\\": 2790.0, \\\"y\\\": 1131000.0}, {\\\"x\\\": 1560.0, \\\"y\\\": 320000.0}, {\\\"x\\\": 1550.0, \\\"y\\\": 260000.0}, {\\\"x\\\": 1700.0, \\\"y\\\": 225000.0}, {\\\"x\\\": 640.0, \\\"y\\\": 279200.0}, {\\\"x\\\": 2680.0, \\\"y\\\": 520000.0}, {\\\"x\\\": 1860.0, \\\"y\\\": 505000.0}, {\\\"x\\\": 1490.0, \\\"y\\\": 234000.0}, {\\\"x\\\": 2470.0, \\\"y\\\": 503000.0}, {\\\"x\\\": 2390.0, \\\"y\\\": 606000.0}, {\\\"x\\\": 1230.0, \\\"y\\\": 433500.0}, {\\\"x\\\": 2840.0, \\\"y\\\": 250000.0}, {\\\"x\\\": 2120.0, \\\"y\\\": 719000.0}, {\\\"x\\\": 1770.0, \\\"y\\\": 381000.0}, {\\\"x\\\": 2495.0, \\\"y\\\": 267000.0}, {\\\"x\\\": 1170.0, \\\"y\\\": 275000.0}, {\\\"x\\\": 2740.0, \\\"y\\\": 651000.0}, {\\\"x\\\": 1050.0, \\\"y\\\": 439000.0}, {\\\"x\\\": 1130.0, \\\"y\\\": 325000.0}, {\\\"x\\\": 880.0, \\\"y\\\": 490000.0}, {\\\"x\\\": 2403.0, \\\"y\\\": 519900.0}, {\\\"x\\\": 3410.0, \\\"y\\\": 545000.0}, {\\\"x\\\": 5320.0, \\\"y\\\": 1062500.0}, {\\\"x\\\": 1900.0, \\\"y\\\": 542000.0}, {\\\"x\\\": 1810.0, \\\"y\\\": 465000.0}, {\\\"x\\\": 1200.0, \\\"y\\\": 408000.0}, {\\\"x\\\": 2060.0, \\\"y\\\": 292000.0}, {\\\"x\\\": 1250.0, \\\"y\\\": 253000.0}, {\\\"x\\\": 910.0, \\\"y\\\": 280000.0}, {\\\"x\\\": 2560.0, \\\"y\\\": 658588.0}, {\\\"x\\\": 1920.0, \\\"y\\\": 635000.0}, {\\\"x\\\": 2240.0, \\\"y\\\": 439000.0}, {\\\"x\\\": 1260.0, \\\"y\\\": 300000.0}, {\\\"x\\\": 1360.0, \\\"y\\\": 345000.0}, {\\\"x\\\": 2100.0, \\\"y\\\": 283500.0}, {\\\"x\\\": 2110.0, \\\"y\\\": 425000.0}, {\\\"x\\\": 2210.0, \\\"y\\\": 685000.0}, {\\\"x\\\": 2360.0, \\\"y\\\": 750000.0}, {\\\"x\\\": 1280.0, \\\"y\\\": 245000.0}, {\\\"x\\\": 2740.0, \\\"y\\\": 585444.0}, {\\\"x\\\": 2740.0, \\\"y\\\": 706000.0}, {\\\"x\\\": 2630.0, \\\"y\\\": 445000.0}, {\\\"x\\\": 1650.0, \\\"y\\\": 241000.0}, {\\\"x\\\": 1770.0, \\\"y\\\": 1175000.0}, {\\\"x\\\": 1500.0, \\\"y\\\": 530000.0}, {\\\"x\\\": 1430.0, \\\"y\\\": 350000.0}, {\\\"x\\\": 3190.0, \\\"y\\\": 1700000.0}, {\\\"x\\\": 1280.0, \\\"y\\\": 389000.0}, {\\\"x\\\": 2390.0, \\\"y\\\": 799000.0}, {\\\"x\\\": 4040.0, \\\"y\\\": 1400000.0}, {\\\"x\\\": 920.0, \\\"y\\\": 340895.0}, {\\\"x\\\": 2730.0, \\\"y\\\": 780000.0}, {\\\"x\\\": 1320.0, \\\"y\\\": 350000.0}, {\\\"x\\\": 2620.0, \\\"y\\\": 470000.0}, {\\\"x\\\": 3180.0, \\\"y\\\": 914600.0}, {\\\"x\\\": 2900.0, \\\"y\\\": 354000.0}, {\\\"x\\\": 1900.0, \\\"y\\\": 470000.0}, {\\\"x\\\": 1760.0, \\\"y\\\": 715000.0}, {\\\"x\\\": 760.0, \\\"y\\\": 265000.0}, {\\\"x\\\": 3710.0, \\\"y\\\": 2537000.0}, {\\\"x\\\": 1530.0, \\\"y\\\": 640000.0}, {\\\"x\\\": 1990.0, \\\"y\\\": 290000.0}, {\\\"x\\\": 3830.0, \\\"y\\\": 480000.0}, {\\\"x\\\": 2040.0, \\\"y\\\": 535000.0}, {\\\"x\\\": 2170.0, \\\"y\\\": 907000.0}, {\\\"x\\\": 1620.0, \\\"y\\\": 459000.0}, {\\\"x\\\": 3600.0, \\\"y\\\": 1355000.0}, {\\\"x\\\": 1470.0, \\\"y\\\": 264950.0}, {\\\"x\\\": 1760.0, \\\"y\\\": 352950.0}, {\\\"x\\\": 2230.0, \\\"y\\\": 491500.0}, {\\\"x\\\": 3770.0, \\\"y\\\": 1229000.0}, {\\\"x\\\": 1200.0, \\\"y\\\": 369500.0}, {\\\"x\\\": 2090.0, \\\"y\\\": 566000.0}, {\\\"x\\\": 1500.0, \\\"y\\\": 290000.0}, {\\\"x\\\": 8000.0, \\\"y\\\": 5350000.0}, {\\\"x\\\": 870.0, \\\"y\\\": 180000.0}, {\\\"x\\\": 1010.0, \\\"y\\\": 215000.0}, {\\\"x\\\": 1010.0, \\\"y\\\": 302000.0}, {\\\"x\\\": 1860.0, \\\"y\\\": 352500.0}, {\\\"x\\\": 1330.0, \\\"y\\\": 235867.0}, {\\\"x\\\": 1760.0, \\\"y\\\": 500000.0}, {\\\"x\\\": 1800.0, \\\"y\\\": 382000.0}, {\\\"x\\\": 1690.0, \\\"y\\\": 515000.0}, {\\\"x\\\": 660.0, \\\"y\\\": 250000.0}, {\\\"x\\\": 2400.0, \\\"y\\\": 672500.0}, {\\\"x\\\": 3020.0, \\\"y\\\": 755000.0}, {\\\"x\\\": 1500.0, \\\"y\\\": 707500.0}, {\\\"x\\\": 1560.0, \\\"y\\\": 459000.0}, {\\\"x\\\": 1090.0, \\\"y\\\": 140000.0}, {\\\"x\\\": 970.0, \\\"y\\\": 495000.0}, {\\\"x\\\": 3190.0, \\\"y\\\": 757000.0}, {\\\"x\\\": 3190.0, \\\"y\\\": 765000.0}, {\\\"x\\\": 1890.0, \\\"y\\\": 359000.0}, {\\\"x\\\": 1050.0, \\\"y\\\": 440000.0}, {\\\"x\\\": 1390.0, \\\"y\\\": 400000.0}, {\\\"x\\\": 1700.0, \\\"y\\\": 652000.0}, {\\\"x\\\": 1050.0, \\\"y\\\": 260000.0}, {\\\"x\\\": 3340.0, \\\"y\\\": 1328000.0}, {\\\"x\\\": 1540.0, \\\"y\\\": 519500.0}, {\\\"x\\\": 1710.0, \\\"y\\\": 650000.0}, {\\\"x\\\": 2100.0, \\\"y\\\": 280000.0}, {\\\"x\\\": 1730.0, \\\"y\\\": 515000.0}, {\\\"x\\\": 1500.0, \\\"y\\\": 400000.0}, {\\\"x\\\": 2380.0, \\\"y\\\": 652100.0}, {\\\"x\\\": 2180.0, \\\"y\\\": 235000.0}, {\\\"x\\\": 1840.0, \\\"y\\\": 701000.0}, {\\\"x\\\": 2341.0, \\\"y\\\": 640000.0}, {\\\"x\\\": 1690.0, \\\"y\\\": 455800.0}, {\\\"x\\\": 2490.0, \\\"y\\\": 504750.0}, {\\\"x\\\": 2440.0, \\\"y\\\": 483000.0}, {\\\"x\\\": 920.0, \\\"y\\\": 530000.0}, {\\\"x\\\": 1030.0, \\\"y\\\": 250000.0}, {\\\"x\\\": 2000.0, \\\"y\\\": 229950.0}, {\\\"x\\\": 4210.0, \\\"y\\\": 884744.0}, {\\\"x\\\": 1610.0, \\\"y\\\": 514000.0}, {\\\"x\\\": 1910.0, \\\"y\\\": 532000.0}, {\\\"x\\\": 2660.0, \\\"y\\\": 423000.0}, {\\\"x\\\": 820.0, \\\"y\\\": 420000.0}, {\\\"x\\\": 1730.0, \\\"y\\\": 521000.0}, {\\\"x\\\": 2360.0, \\\"y\\\": 577000.0}, {\\\"x\\\": 970.0, \\\"y\\\": 425000.0}, {\\\"x\\\": 2460.0, \\\"y\\\": 495000.0}, {\\\"x\\\": 2690.0, \\\"y\\\": 340000.0}, {\\\"x\\\": 1820.0, \\\"y\\\": 499950.0}, {\\\"x\\\": 3470.0, \\\"y\\\": 1218000.0}, {\\\"x\\\": 3370.0, \\\"y\\\": 720000.0}, {\\\"x\\\": 1700.0, \\\"y\\\": 249000.0}, {\\\"x\\\": 1340.0, \\\"y\\\": 206135.0}, {\\\"x\\\": 2000.0, \\\"y\\\": 300000.0}, {\\\"x\\\": 3840.0, \\\"y\\\": 612000.0}, {\\\"x\\\": 3890.0, \\\"y\\\": 1102030.0}, {\\\"x\\\": 1220.0, \\\"y\\\": 230000.0}, {\\\"x\\\": 2280.0, \\\"y\\\": 850000.0}, {\\\"x\\\": 2770.0, \\\"y\\\": 355000.0}, {\\\"x\\\": 2520.0, \\\"y\\\": 442000.0}, {\\\"x\\\": 3060.0, \\\"y\\\": 399000.0}, {\\\"x\\\": 2390.0, \\\"y\\\": 360000.0}, {\\\"x\\\": 1320.0, \\\"y\\\": 390000.0}, {\\\"x\\\": 2900.0, \\\"y\\\": 413000.0}, {\\\"x\\\": 700.0, \\\"y\\\": 190000.0}, {\\\"x\\\": 2210.0, \\\"y\\\": 432900.0}, {\\\"x\\\": 2180.0, \\\"y\\\": 621138.0}, {\\\"x\\\": 2080.0, \\\"y\\\": 270000.0}, {\\\"x\\\": 2090.0, \\\"y\\\": 610000.0}, {\\\"x\\\": 1720.0, \\\"y\\\": 500000.0}, {\\\"x\\\": 2460.0, \\\"y\\\": 715000.0}, {\\\"x\\\": 1470.0, \\\"y\\\": 264000.0}, {\\\"x\\\": 1650.0, \\\"y\\\": 550000.0}, {\\\"x\\\": 1690.0, \\\"y\\\": 337000.0}, {\\\"x\\\": 970.0, \\\"y\\\": 170000.0}, {\\\"x\\\": 2030.0, \\\"y\\\": 405000.0}, {\\\"x\\\": 2540.0, \\\"y\\\": 775000.0}, {\\\"x\\\": 1570.0, \\\"y\\\": 425000.0}, {\\\"x\\\": 2580.0, \\\"y\\\": 713000.0}, {\\\"x\\\": 2090.0, \\\"y\\\": 555000.0}, {\\\"x\\\": 3260.0, \\\"y\\\": 810000.0}, {\\\"x\\\": 3830.0, \\\"y\\\": 1250000.0}, {\\\"x\\\": 2130.0, \\\"y\\\": 819000.0}, {\\\"x\\\": 1690.0, \\\"y\\\": 409900.0}, {\\\"x\\\": 1780.0, \\\"y\\\": 935000.0}, {\\\"x\\\": 1620.0, \\\"y\\\": 657500.0}, {\\\"x\\\": 4210.0, \\\"y\\\": 900000.0}, {\\\"x\\\": 2980.0, \\\"y\\\": 932800.0}, {\\\"x\\\": 1490.0, \\\"y\\\": 391000.0}, {\\\"x\\\": 2110.0, \\\"y\\\": 420000.0}, {\\\"x\\\": 6563.0, \\\"y\\\": 1300000.0}, {\\\"x\\\": 1510.0, \\\"y\\\": 415000.0}, {\\\"x\\\": 1830.0, \\\"y\\\": 350000.0}, {\\\"x\\\": 1230.0, \\\"y\\\": 375000.0}, {\\\"x\\\": 2180.0, \\\"y\\\": 860000.0}, {\\\"x\\\": 2220.0, \\\"y\\\": 495000.0}, {\\\"x\\\": 1730.0, \\\"y\\\": 250000.0}, {\\\"x\\\": 1990.0, \\\"y\\\": 365000.0}, {\\\"x\\\": 1540.0, \\\"y\\\": 503000.0}, {\\\"x\\\": 1100.0, \\\"y\\\": 150000.0}, {\\\"x\\\": 1640.0, \\\"y\\\": 450000.0}, {\\\"x\\\": 2590.0, \\\"y\\\": 355000.0}, {\\\"x\\\": 1450.0, \\\"y\\\": 245000.0}, {\\\"x\\\": 1180.0, \\\"y\\\": 265900.0}, {\\\"x\\\": 1820.0, \\\"y\\\": 299000.0}, {\\\"x\\\": 2360.0, \\\"y\\\": 957500.0}, {\\\"x\\\": 1120.0, \\\"y\\\": 343000.0}, {\\\"x\\\": 1646.0, \\\"y\\\": 307500.0}, {\\\"x\\\": 4210.0, \\\"y\\\": 937500.0}, {\\\"x\\\": 2480.0, \\\"y\\\": 610000.0}, {\\\"x\\\": 1590.0, \\\"y\\\": 720000.0}, {\\\"x\\\": 2130.0, \\\"y\\\": 610000.0}, {\\\"x\\\": 1650.0, \\\"y\\\": 434500.0}, {\\\"x\\\": 3090.0, \\\"y\\\": 602500.0}, {\\\"x\\\": 2180.0, \\\"y\\\": 607010.0}, {\\\"x\\\": 1800.0, \\\"y\\\": 610000.0}, {\\\"x\\\": 3720.0, \\\"y\\\": 828500.0}, {\\\"x\\\": 1100.0, \\\"y\\\": 199990.0}, {\\\"x\\\": 1530.0, \\\"y\\\": 294000.0}, {\\\"x\\\": 3010.0, \\\"y\\\": 789500.0}, {\\\"x\\\": 3500.0, \\\"y\\\": 797000.0}, {\\\"x\\\": 3100.0, \\\"y\\\": 539950.0}, {\\\"x\\\": 2000.0, \\\"y\\\": 284950.0}, {\\\"x\\\": 2290.0, \\\"y\\\": 776500.0}, {\\\"x\\\": 2400.0, \\\"y\\\": 525000.0}, {\\\"x\\\": 1850.0, \\\"y\\\": 303000.0}, {\\\"x\\\": 3680.0, \\\"y\\\": 722080.0}, {\\\"x\\\": 1060.0, \\\"y\\\": 140000.0}, {\\\"x\\\": 1060.0, \\\"y\\\": 235000.0}, {\\\"x\\\": 1610.0, \\\"y\\\": 440000.0}, {\\\"x\\\": 2330.0, \\\"y\\\": 605000.0}, {\\\"x\\\": 1210.0, \\\"y\\\": 380000.0}, {\\\"x\\\": 1530.0, \\\"y\\\": 352000.0}, {\\\"x\\\": 2270.0, \\\"y\\\": 420000.0}, {\\\"x\\\": 2590.0, \\\"y\\\": 1175000.0}, {\\\"x\\\": 1850.0, \\\"y\\\": 1375000.0}, {\\\"x\\\": 1500.0, \\\"y\\\": 300000.0}, {\\\"x\\\": 4740.0, \\\"y\\\": 1150000.0}, {\\\"x\\\": 1710.0, \\\"y\\\": 453500.0}, {\\\"x\\\": 1920.0, \\\"y\\\": 443500.0}, {\\\"x\\\": 1150.0, \\\"y\\\": 332000.0}, {\\\"x\\\": 2320.0, \\\"y\\\": 655000.0}, {\\\"x\\\": 1420.0, \\\"y\\\": 475000.0}, {\\\"x\\\": 1550.0, \\\"y\\\": 372500.0}, {\\\"x\\\": 2920.0, \\\"y\\\": 1050000.0}, {\\\"x\\\": 1620.0, \\\"y\\\": 500000.0}, {\\\"x\\\": 2300.0, \\\"y\\\": 900000.0}, {\\\"x\\\": 1070.0, \\\"y\\\": 327500.0}, {\\\"x\\\": 1790.0, \\\"y\\\": 390000.0}, {\\\"x\\\": 1510.0, \\\"y\\\": 451101.0}, {\\\"x\\\": 1340.0, \\\"y\\\": 455000.0}, {\\\"x\\\": 3350.0, \\\"y\\\": 650000.0}, {\\\"x\\\": 2500.0, \\\"y\\\": 895000.0}, {\\\"x\\\": 2350.0, \\\"y\\\": 800000.0}, {\\\"x\\\": 2550.0, \\\"y\\\": 703770.0}, {\\\"x\\\": 1320.0, \\\"y\\\": 249950.0}, {\\\"x\\\": 1270.0, \\\"y\\\": 512000.0}, {\\\"x\\\": 3480.0, \\\"y\\\": 780000.0}, {\\\"x\\\": 2820.0, \\\"y\\\": 336000.0}, {\\\"x\\\": 2110.0, \\\"y\\\": 285000.0}, {\\\"x\\\": 1100.0, \\\"y\\\": 229900.0}, {\\\"x\\\": 1920.0, \\\"y\\\": 667500.0}, {\\\"x\\\": 1890.0, \\\"y\\\": 378000.0}, {\\\"x\\\": 2530.0, \\\"y\\\": 454000.0}, {\\\"x\\\": 2550.0, \\\"y\\\": 537500.0}, {\\\"x\\\": 1550.0, \\\"y\\\": 425000.0}, {\\\"x\\\": 1760.0, \\\"y\\\": 290000.0}, {\\\"x\\\": 1270.0, \\\"y\\\": 349500.0}, {\\\"x\\\": 1250.0, \\\"y\\\": 370000.0}, {\\\"x\\\": 1620.0, \\\"y\\\": 549500.0}, {\\\"x\\\": 710.0, \\\"y\\\": 245000.0}, {\\\"x\\\": 1070.0, \\\"y\\\": 208000.0}, {\\\"x\\\": 2320.0, \\\"y\\\": 248000.0}, {\\\"x\\\": 5450.0, \\\"y\\\": 610000.0}, {\\\"x\\\": 1670.0, \\\"y\\\": 550000.0}, {\\\"x\\\": 3010.0, \\\"y\\\": 750000.0}, {\\\"x\\\": 1340.0, \\\"y\\\": 192000.0}, {\\\"x\\\": 790.0, \\\"y\\\": 169317.0}, {\\\"x\\\": 3400.0, \\\"y\\\": 1198000.0}, {\\\"x\\\": 1530.0, \\\"y\\\": 880000.0}, {\\\"x\\\": 930.0, \\\"y\\\": 210000.0}, {\\\"x\\\": 1540.0, \\\"y\\\": 180500.0}, {\\\"x\\\": 1990.0, \\\"y\\\": 540000.0}, {\\\"x\\\": 2300.0, \\\"y\\\": 520000.0}, {\\\"x\\\": 1220.0, \\\"y\\\": 177500.0}, {\\\"x\\\": 2380.0, \\\"y\\\": 415000.0}, {\\\"x\\\": 2020.0, \\\"y\\\": 495000.0}, {\\\"x\\\": 1890.0, \\\"y\\\": 325000.0}, {\\\"x\\\": 1330.0, \\\"y\\\": 440000.0}, {\\\"x\\\": 1490.0, \\\"y\\\": 411000.0}, {\\\"x\\\": 3550.0, \\\"y\\\": 810000.0}, {\\\"x\\\": 2040.0, \\\"y\\\": 561750.0}, {\\\"x\\\": 2380.0, \\\"y\\\": 835100.0}, {\\\"x\\\": 1780.0, \\\"y\\\": 450000.0}, {\\\"x\\\": 1650.0, \\\"y\\\": 238000.0}, {\\\"x\\\": 1510.0, \\\"y\\\": 299000.0}, {\\\"x\\\": 1100.0, \\\"y\\\": 570000.0}, {\\\"x\\\": 2190.0, \\\"y\\\": 340000.0}, {\\\"x\\\": 1760.0, \\\"y\\\": 450000.0}, {\\\"x\\\": 1800.0, \\\"y\\\": 272750.0}, {\\\"x\\\": 2000.0, \\\"y\\\": 520000.0}, {\\\"x\\\": 990.0, \\\"y\\\": 284950.0}, {\\\"x\\\": 1480.0, \\\"y\\\": 255000.0}, {\\\"x\\\": 1200.0, \\\"y\\\": 231500.0}, {\\\"x\\\": 3000.0, \\\"y\\\": 415000.0}, {\\\"x\\\": 3504.0, \\\"y\\\": 330000.0}, {\\\"x\\\": 1300.0, \\\"y\\\": 365000.0}, {\\\"x\\\": 1330.0, \\\"y\\\": 425000.0}, {\\\"x\\\": 1850.0, \\\"y\\\": 400000.0}, {\\\"x\\\": 2240.0, \\\"y\\\": 335000.0}, {\\\"x\\\": 1260.0, \\\"y\\\": 342000.0}, {\\\"x\\\": 2800.0, \\\"y\\\": 490000.0}, {\\\"x\\\": 1820.0, \\\"y\\\": 331500.0}, {\\\"x\\\": 1730.0, \\\"y\\\": 960000.0}, {\\\"x\\\": 3350.0, \\\"y\\\": 720500.0}, {\\\"x\\\": 3370.0, \\\"y\\\": 830000.0}, {\\\"x\\\": 1240.0, \\\"y\\\": 662990.0}, {\\\"x\\\": 2340.0, \\\"y\\\": 220000.0}, {\\\"x\\\": 1880.0, \\\"y\\\": 349950.0}, {\\\"x\\\": 1810.0, \\\"y\\\": 550000.0}, {\\\"x\\\": 2340.0, \\\"y\\\": 396000.0}, {\\\"x\\\": 2820.0, \\\"y\\\": 635000.0}, {\\\"x\\\": 1020.0, \\\"y\\\": 293000.0}, {\\\"x\\\": 2090.0, \\\"y\\\": 339000.0}, {\\\"x\\\": 1830.0, \\\"y\\\": 285000.0}, {\\\"x\\\": 2980.0, \\\"y\\\": 775000.0}, {\\\"x\\\": 1600.0, \\\"y\\\": 224000.0}, {\\\"x\\\": 4440.0, \\\"y\\\": 2250000.0}, {\\\"x\\\": 1200.0, \\\"y\\\": 165050.0}, {\\\"x\\\": 1230.0, \\\"y\\\": 275000.0}, {\\\"x\\\": 2930.0, \\\"y\\\": 445000.0}, {\\\"x\\\": 2370.0, \\\"y\\\": 510000.0}, {\\\"x\\\": 3040.0, \\\"y\\\": 1230000.0}, {\\\"x\\\": 1610.0, \\\"y\\\": 390000.0}, {\\\"x\\\": 2350.0, \\\"y\\\": 460000.0}, {\\\"x\\\": 2000.0, \\\"y\\\": 700000.0}, {\\\"x\\\": 3530.0, \\\"y\\\": 874150.0}, {\\\"x\\\": 2220.0, \\\"y\\\": 470000.0}, {\\\"x\\\": 2000.0, \\\"y\\\": 374000.0}, {\\\"x\\\": 1210.0, \\\"y\\\": 510000.0}, {\\\"x\\\": 1140.0, \\\"y\\\": 467000.0}, {\\\"x\\\": 2440.0, \\\"y\\\": 576000.0}, {\\\"x\\\": 1560.0, \\\"y\\\": 196440.0}, {\\\"x\\\": 3210.0, \\\"y\\\": 825000.0}, {\\\"x\\\": 930.0, \\\"y\\\": 281000.0}, {\\\"x\\\": 1782.0, \\\"y\\\": 326000.0}, {\\\"x\\\": 1740.0, \\\"y\\\": 340000.0}, {\\\"x\\\": 3690.0, \\\"y\\\": 440000.0}, {\\\"x\\\": 2930.0, \\\"y\\\": 749000.0}, {\\\"x\\\": 1230.0, \\\"y\\\": 340000.0}, {\\\"x\\\": 2000.0, \\\"y\\\": 561000.0}, {\\\"x\\\": 1520.0, \\\"y\\\": 270000.0}, {\\\"x\\\": 1040.0, \\\"y\\\": 600000.0}, {\\\"x\\\": 1120.0, \\\"y\\\": 219900.0}, {\\\"x\\\": 3020.0, \\\"y\\\": 617000.0}, {\\\"x\\\": 1820.0, \\\"y\\\": 469000.0}, {\\\"x\\\": 1370.0, \\\"y\\\": 229000.0}, {\\\"x\\\": 3130.0, \\\"y\\\": 1265000.0}, {\\\"x\\\": 1640.0, \\\"y\\\": 365000.0}, {\\\"x\\\": 2650.0, \\\"y\\\": 429000.0}, {\\\"x\\\": 2850.0, \\\"y\\\": 550000.0}, {\\\"x\\\": 1820.0, \\\"y\\\": 453000.0}, {\\\"x\\\": 1180.0, \\\"y\\\": 187500.0}, {\\\"x\\\": 1880.0, \\\"y\\\": 520500.0}, {\\\"x\\\": 1280.0, \\\"y\\\": 300000.0}, {\\\"x\\\": 3120.0, \\\"y\\\": 799000.0}, {\\\"x\\\": 2470.0, \\\"y\\\": 338000.0}, {\\\"x\\\": 1700.0, \\\"y\\\": 800000.0}, {\\\"x\\\": 1180.0, \\\"y\\\": 360000.0}, {\\\"x\\\": 2800.0, \\\"y\\\": 442500.0}, {\\\"x\\\": 1300.0, \\\"y\\\": 700000.0}, {\\\"x\\\": 3040.0, \\\"y\\\": 830000.0}, {\\\"x\\\": 1630.0, \\\"y\\\": 360400.0}, {\\\"x\\\": 1340.0, \\\"y\\\": 345000.0}, {\\\"x\\\": 1830.0, \\\"y\\\": 300000.0}, {\\\"x\\\": 1240.0, \\\"y\\\": 350000.0}, {\\\"x\\\": 2500.0, \\\"y\\\": 368000.0}, {\\\"x\\\": 1760.0, \\\"y\\\": 264000.0}, {\\\"x\\\": 2660.0, \\\"y\\\": 435000.0}, {\\\"x\\\": 2060.0, \\\"y\\\": 200000.0}, {\\\"x\\\": 2540.0, \\\"y\\\": 620000.0}, {\\\"x\\\": 4830.0, \\\"y\\\": 1679000.0}, {\\\"x\\\": 1400.0, \\\"y\\\": 337000.0}, {\\\"x\\\": 4280.0, \\\"y\\\": 1928000.0}, {\\\"x\\\": 2230.0, \\\"y\\\": 544500.0}, {\\\"x\\\": 680.0, \\\"y\\\": 252000.0}, {\\\"x\\\": 2340.0, \\\"y\\\": 445000.0}, {\\\"x\\\": 2070.0, \\\"y\\\": 379500.0}, {\\\"x\\\": 1910.0, \\\"y\\\": 189950.0}, {\\\"x\\\": 950.0, \\\"y\\\": 469000.0}, {\\\"x\\\": 2910.0, \\\"y\\\": 600000.0}, {\\\"x\\\": 2930.0, \\\"y\\\": 785000.0}, {\\\"x\\\": 2610.0, \\\"y\\\": 372000.0}, {\\\"x\\\": 3880.0, \\\"y\\\": 445000.0}, {\\\"x\\\": 3320.0, \\\"y\\\": 508000.0}, {\\\"x\\\": 1940.0, \\\"y\\\": 780000.0}, {\\\"x\\\": 2510.0, \\\"y\\\": 541100.0}, {\\\"x\\\": 2660.0, \\\"y\\\": 729000.0}, {\\\"x\\\": 1710.0, \\\"y\\\": 397000.0}, {\\\"x\\\": 1320.0, \\\"y\\\": 451555.0}, {\\\"x\\\": 960.0, \\\"y\\\": 300000.0}, {\\\"x\\\": 1790.0, \\\"y\\\": 416000.0}, {\\\"x\\\": 950.0, \\\"y\\\": 490000.0}, {\\\"x\\\": 2940.0, \\\"y\\\": 480000.0}, {\\\"x\\\": 930.0, \\\"y\\\": 368000.0}, {\\\"x\\\": 4570.0, \\\"y\\\": 1038000.0}, {\\\"x\\\": 2370.0, \\\"y\\\": 545000.0}, {\\\"x\\\": 3430.0, \\\"y\\\": 850000.0}, {\\\"x\\\": 3540.0, \\\"y\\\": 550000.0}, {\\\"x\\\": 2240.0, \\\"y\\\": 600000.0}, {\\\"x\\\": 2710.0, \\\"y\\\": 535000.0}, {\\\"x\\\": 2660.0, \\\"y\\\": 599950.0}, {\\\"x\\\": 2540.0, \\\"y\\\": 531000.0}, {\\\"x\\\": 2210.0, \\\"y\\\": 530000.0}, {\\\"x\\\": 3570.0, \\\"y\\\": 597326.0}, {\\\"x\\\": 3450.0, \\\"y\\\": 805000.0}, {\\\"x\\\": 2330.0, \\\"y\\\": 390000.0}, {\\\"x\\\": 1690.0, \\\"y\\\": 487250.0}, {\\\"x\\\": 1030.0, \\\"y\\\": 301000.0}, {\\\"x\\\": 2560.0, \\\"y\\\": 1175000.0}, {\\\"x\\\": 1950.0, \\\"y\\\": 299000.0}, {\\\"x\\\": 4370.0, \\\"y\\\": 2350000.0}, {\\\"x\\\": 2350.0, \\\"y\\\": 400000.0}, {\\\"x\\\": 3160.0, \\\"y\\\": 467500.0}, {\\\"x\\\": 2430.0, \\\"y\\\": 305000.0}, {\\\"x\\\": 1340.0, \\\"y\\\": 210000.0}, {\\\"x\\\": 1010.0, \\\"y\\\": 300000.0}, {\\\"x\\\": 1770.0, \\\"y\\\": 327500.0}, {\\\"x\\\": 1210.0, \\\"y\\\": 269000.0}, {\\\"x\\\": 3330.0, \\\"y\\\": 975000.0}, {\\\"x\\\": 1240.0, \\\"y\\\": 355000.0}, {\\\"x\\\": 1250.0, \\\"y\\\": 712000.0}, {\\\"x\\\": 2960.0, \\\"y\\\": 883000.0}, {\\\"x\\\": 840.0, \\\"y\\\": 190000.0}, {\\\"x\\\": 1530.0, \\\"y\\\": 443000.0}, {\\\"x\\\": 3750.0, \\\"y\\\": 920000.0}, {\\\"x\\\": 2150.0, \\\"y\\\": 285000.0}, {\\\"x\\\": 1560.0, \\\"y\\\": 901000.0}, {\\\"x\\\": 2040.0, \\\"y\\\": 552500.0}, {\\\"x\\\": 860.0, \\\"y\\\": 256000.0}, {\\\"x\\\": 1720.0, \\\"y\\\": 341000.0}, {\\\"x\\\": 2090.0, \\\"y\\\": 279000.0}, {\\\"x\\\": 2130.0, \\\"y\\\": 686000.0}, {\\\"x\\\": 1300.0, \\\"y\\\": 225000.0}, {\\\"x\\\": 1220.0, \\\"y\\\": 215500.0}, {\\\"x\\\": 2420.0, \\\"y\\\": 950000.0}, {\\\"x\\\": 2940.0, \\\"y\\\": 503000.0}, {\\\"x\\\": 2610.0, \\\"y\\\": 780000.0}, {\\\"x\\\": 1880.0, \\\"y\\\": 212000.0}, {\\\"x\\\": 2330.0, \\\"y\\\": 580000.0}, {\\\"x\\\": 2200.0, \\\"y\\\": 465000.0}, {\\\"x\\\": 1720.0, \\\"y\\\": 206000.0}, {\\\"x\\\": 2250.0, \\\"y\\\": 615000.0}, {\\\"x\\\": 1640.0, \\\"y\\\": 519000.0}, {\\\"x\\\": 4130.0, \\\"y\\\": 1135000.0}, {\\\"x\\\": 2600.0, \\\"y\\\": 330000.0}, {\\\"x\\\": 1920.0, \\\"y\\\": 240000.0}, {\\\"x\\\": 2060.0, \\\"y\\\": 574000.0}, {\\\"x\\\": 5710.0, \\\"y\\\": 930000.0}, {\\\"x\\\": 2720.0, \\\"y\\\": 850000.0}, {\\\"x\\\": 1490.0, \\\"y\\\": 415000.0}, {\\\"x\\\": 2360.0, \\\"y\\\": 480000.0}, {\\\"x\\\": 1940.0, \\\"y\\\": 300000.0}, {\\\"x\\\": 2570.0, \\\"y\\\": 439000.0}, {\\\"x\\\": 1160.0, \\\"y\\\": 450000.0}, {\\\"x\\\": 2660.0, \\\"y\\\": 589000.0}, {\\\"x\\\": 1260.0, \\\"y\\\": 477000.0}, {\\\"x\\\": 1780.0, \\\"y\\\": 587500.0}, {\\\"x\\\": 3180.0, \\\"y\\\": 1315000.0}, {\\\"x\\\": 3380.0, \\\"y\\\": 1430000.0}, {\\\"x\\\": 2690.0, \\\"y\\\": 700000.0}, {\\\"x\\\": 1180.0, \\\"y\\\": 275000.0}, {\\\"x\\\": 1660.0, \\\"y\\\": 367500.0}, {\\\"x\\\": 2260.0, \\\"y\\\": 453250.0}, {\\\"x\\\": 1910.0, \\\"y\\\": 607000.0}, {\\\"x\\\": 2430.0, \\\"y\\\": 255000.0}, {\\\"x\\\": 1300.0, \\\"y\\\": 501000.0}, {\\\"x\\\": 1060.0, \\\"y\\\": 450000.0}, {\\\"x\\\": 2200.0, \\\"y\\\": 360000.0}, {\\\"x\\\": 1720.0, \\\"y\\\": 460000.0}, {\\\"x\\\": 2360.0, \\\"y\\\": 753000.0}, {\\\"x\\\": 820.0, \\\"y\\\": 389950.0}, {\\\"x\\\": 1030.0, \\\"y\\\": 469000.0}, {\\\"x\\\": 2030.0, \\\"y\\\": 550000.0}, {\\\"x\\\": 2700.0, \\\"y\\\": 565000.0}, {\\\"x\\\": 1100.0, \\\"y\\\": 189650.0}, {\\\"x\\\": 3620.0, \\\"y\\\": 1525000.0}, {\\\"x\\\": 1340.0, \\\"y\\\": 260000.0}, {\\\"x\\\": 1790.0, \\\"y\\\": 243000.0}, {\\\"x\\\": 3830.0, \\\"y\\\": 1100000.0}, {\\\"x\\\": 1580.0, \\\"y\\\": 249000.0}, {\\\"x\\\": 2020.0, \\\"y\\\": 720000.0}, {\\\"x\\\": 3330.0, \\\"y\\\": 905000.0}, {\\\"x\\\": 2610.0, \\\"y\\\": 824500.0}, {\\\"x\\\": 2610.0, \\\"y\\\": 762500.0}, {\\\"x\\\": 1740.0, \\\"y\\\": 580000.0}, {\\\"x\\\": 1840.0, \\\"y\\\": 380000.0}, {\\\"x\\\": 1080.0, \\\"y\\\": 805000.0}, {\\\"x\\\": 1240.0, \\\"y\\\": 520000.0}, {\\\"x\\\": 5620.0, \\\"y\\\": 1569500.0}, {\\\"x\\\": 1170.0, \\\"y\\\": 175000.0}, {\\\"x\\\": 1760.0, \\\"y\\\": 353500.0}, {\\\"x\\\": 2230.0, \\\"y\\\": 500000.0}, {\\\"x\\\": 1520.0, \\\"y\\\": 386500.0}, {\\\"x\\\": 1450.0, \\\"y\\\": 210000.0}, {\\\"x\\\": 1600.0, \\\"y\\\": 439500.0}, {\\\"x\\\": 3220.0, \\\"y\\\": 315000.0}, {\\\"x\\\": 1830.0, \\\"y\\\": 339000.0}, {\\\"x\\\": 2200.0, \\\"y\\\": 655000.0}, {\\\"x\\\": 2170.0, \\\"y\\\": 740000.0}, {\\\"x\\\": 1900.0, \\\"y\\\": 685000.0}, {\\\"x\\\": 2960.0, \\\"y\\\": 550000.0}, {\\\"x\\\": 1710.0, \\\"y\\\": 405000.0}, {\\\"x\\\": 2620.0, \\\"y\\\": 765000.0}, {\\\"x\\\": 2140.0, \\\"y\\\": 625000.0}, {\\\"x\\\": 2100.0, \\\"y\\\": 207000.0}, {\\\"x\\\": 2100.0, \\\"y\\\": 370000.0}, {\\\"x\\\": 1460.0, \\\"y\\\": 475000.0}, {\\\"x\\\": 990.0, \\\"y\\\": 365000.0}, {\\\"x\\\": 2190.0, \\\"y\\\": 411800.0}, {\\\"x\\\": 3990.0, \\\"y\\\": 668000.0}, {\\\"x\\\": 2340.0, \\\"y\\\": 618000.0}, {\\\"x\\\": 2460.0, \\\"y\\\": 247500.0}, {\\\"x\\\": 2080.0, \\\"y\\\": 345000.0}, {\\\"x\\\": 1700.0, \\\"y\\\": 616300.0}, {\\\"x\\\": 1330.0, \\\"y\\\": 348000.0}, {\\\"x\\\": 1630.0, \\\"y\\\": 425000.0}, {\\\"x\\\": 2920.0, \\\"y\\\": 850000.0}, {\\\"x\\\": 2830.0, \\\"y\\\": 820000.0}, {\\\"x\\\": 3190.0, \\\"y\\\": 832000.0}, {\\\"x\\\": 1490.0, \\\"y\\\": 835000.0}, {\\\"x\\\": 1630.0, \\\"y\\\": 350000.0}, {\\\"x\\\": 2280.0, \\\"y\\\": 349000.0}, {\\\"x\\\": 3010.0, \\\"y\\\": 1125000.0}, {\\\"x\\\": 1590.0, \\\"y\\\": 320000.0}, {\\\"x\\\": 1250.0, \\\"y\\\": 150000.0}, {\\\"x\\\": 1710.0, \\\"y\\\": 340000.0}, {\\\"x\\\": 3280.0, \\\"y\\\": 785500.0}, {\\\"x\\\": 3362.0, \\\"y\\\": 410500.0}, {\\\"x\\\": 2200.0, \\\"y\\\": 580000.0}, {\\\"x\\\": 830.0, \\\"y\\\": 345000.0}, {\\\"x\\\": 2160.0, \\\"y\\\": 550000.0}, {\\\"x\\\": 2580.0, \\\"y\\\": 449500.0}, {\\\"x\\\": 2150.0, \\\"y\\\": 300000.0}, {\\\"x\\\": 3510.0, \\\"y\\\": 915000.0}, {\\\"x\\\": 3810.0, \\\"y\\\": 1575000.0}, {\\\"x\\\": 2020.0, \\\"y\\\": 599000.0}, {\\\"x\\\": 2120.0, \\\"y\\\": 755000.0}, {\\\"x\\\": 1250.0, \\\"y\\\": 400000.0}, {\\\"x\\\": 980.0, \\\"y\\\": 133000.0}, {\\\"x\\\": 1250.0, \\\"y\\\": 330000.0}, {\\\"x\\\": 1100.0, \\\"y\\\": 330000.0}, {\\\"x\\\": 1330.0, \\\"y\\\": 375000.0}, {\\\"x\\\": 2560.0, \\\"y\\\": 485000.0}, {\\\"x\\\": 1850.0, \\\"y\\\": 470000.0}, {\\\"x\\\": 2790.0, \\\"y\\\": 1045000.0}, {\\\"x\\\": 1660.0, \\\"y\\\": 548800.0}, {\\\"x\\\": 1080.0, \\\"y\\\": 315000.0}, {\\\"x\\\": 3030.0, \\\"y\\\": 590000.0}, {\\\"x\\\": 2380.0, \\\"y\\\": 439950.0}, {\\\"x\\\": 2250.0, \\\"y\\\": 325000.0}, {\\\"x\\\": 880.0, \\\"y\\\": 400000.0}, {\\\"x\\\": 2770.0, \\\"y\\\": 685000.0}, {\\\"x\\\": 1340.0, \\\"y\\\": 339950.0}, {\\\"x\\\": 1660.0, \\\"y\\\": 315000.0}, {\\\"x\\\": 1710.0, \\\"y\\\": 411753.0}, {\\\"x\\\": 1620.0, \\\"y\\\": 577000.0}, {\\\"x\\\": 1530.0, \\\"y\\\": 500000.0}, {\\\"x\\\": 1440.0, \\\"y\\\": 210000.0}, {\\\"x\\\": 2020.0, \\\"y\\\": 640000.0}, {\\\"x\\\": 1870.0, \\\"y\\\": 460000.0}, {\\\"x\\\": 620.0, \\\"y\\\": 265000.0}, {\\\"x\\\": 5774.0, \\\"y\\\": 740000.0}, {\\\"x\\\": 1240.0, \\\"y\\\": 230000.0}, {\\\"x\\\": 1890.0, \\\"y\\\": 315000.0}, {\\\"x\\\": 2410.0, \\\"y\\\": 432000.0}, {\\\"x\\\": 1530.0, \\\"y\\\": 467000.0}, {\\\"x\\\": 2800.0, \\\"y\\\": 255000.0}, {\\\"x\\\": 1460.0, \\\"y\\\": 316500.0}, {\\\"x\\\": 1580.0, \\\"y\\\": 190000.0}, {\\\"x\\\": 1450.0, \\\"y\\\": 490000.0}, {\\\"x\\\": 1990.0, \\\"y\\\": 378000.0}, {\\\"x\\\": 4470.0, \\\"y\\\": 598800.0}, {\\\"x\\\": 1980.0, \\\"y\\\": 333800.0}, {\\\"x\\\": 2920.0, \\\"y\\\": 690000.0}, {\\\"x\\\": 1660.0, \\\"y\\\": 320000.0}, {\\\"x\\\": 3190.0, \\\"y\\\": 1249000.0}, {\\\"x\\\": 1560.0, \\\"y\\\": 335000.0}, {\\\"x\\\": 3050.0, \\\"y\\\": 840000.0}, {\\\"x\\\": 3030.0, \\\"y\\\": 608250.0}, {\\\"x\\\": 2260.0, \\\"y\\\": 550000.0}, {\\\"x\\\": 1260.0, \\\"y\\\": 240000.0}, {\\\"x\\\": 3370.0, \\\"y\\\": 998000.0}, {\\\"x\\\": 1490.0, \\\"y\\\": 275000.0}, {\\\"x\\\": 1570.0, \\\"y\\\": 284200.0}, {\\\"x\\\": 4490.0, \\\"y\\\": 1715000.0}, {\\\"x\\\": 4090.0, \\\"y\\\": 2400000.0}, {\\\"x\\\": 4150.0, \\\"y\\\": 930800.0}, {\\\"x\\\": 2900.0, \\\"y\\\": 930000.0}, {\\\"x\\\": 1430.0, \\\"y\\\": 215000.0}, {\\\"x\\\": 1008.0, \\\"y\\\": 480000.0}, {\\\"x\\\": 1480.0, \\\"y\\\": 483945.0}, {\\\"x\\\": 1240.0, \\\"y\\\": 347000.0}, {\\\"x\\\": 1370.0, \\\"y\\\": 232500.0}, {\\\"x\\\": 1770.0, \\\"y\\\": 390000.0}, {\\\"x\\\": 2160.0, \\\"y\\\": 550000.0}, {\\\"x\\\": 2340.0, \\\"y\\\": 590000.0}, {\\\"x\\\": 960.0, \\\"y\\\": 420850.0}, {\\\"x\\\": 2280.0, \\\"y\\\": 345000.0}, {\\\"x\\\": 1970.0, \\\"y\\\": 429800.0}, {\\\"x\\\": 1530.0, \\\"y\\\": 302000.0}, {\\\"x\\\": 1790.0, \\\"y\\\": 800000.0}, {\\\"x\\\": 1700.0, \\\"y\\\": 250000.0}, {\\\"x\\\": 2660.0, \\\"y\\\": 605000.0}, {\\\"x\\\": 1950.0, \\\"y\\\": 412000.0}, {\\\"x\\\": 1340.0, \\\"y\\\": 252000.0}, {\\\"x\\\": 1130.0, \\\"y\\\": 375000.0}, {\\\"x\\\": 1950.0, \\\"y\\\": 725000.0}, {\\\"x\\\": 3790.0, \\\"y\\\": 471750.0}, {\\\"x\\\": 2020.0, \\\"y\\\": 490000.0}, {\\\"x\\\": 800.0, \\\"y\\\": 439000.0}, {\\\"x\\\": 1770.0, \\\"y\\\": 355000.0}, {\\\"x\\\": 940.0, \\\"y\\\": 250000.0}, {\\\"x\\\": 2260.0, \\\"y\\\": 780000.0}, {\\\"x\\\": 890.0, \\\"y\\\": 409000.0}, {\\\"x\\\": 860.0, \\\"y\\\": 420000.0}, {\\\"x\\\": 680.0, \\\"y\\\": 200000.0}, {\\\"x\\\": 2130.0, \\\"y\\\": 830000.0}, {\\\"x\\\": 2390.0, \\\"y\\\": 695000.0}, {\\\"x\\\": 3488.0, \\\"y\\\": 815000.0}, {\\\"x\\\": 1260.0, \\\"y\\\": 210000.0}, {\\\"x\\\": 2940.0, \\\"y\\\": 635000.0}, {\\\"x\\\": 2440.0, \\\"y\\\": 562500.0}, {\\\"x\\\": 2600.0, \\\"y\\\": 402500.0}, {\\\"x\\\": 2080.0, \\\"y\\\": 555000.0}, {\\\"x\\\": 1990.0, \\\"y\\\": 310000.0}, {\\\"x\\\": 2840.0, \\\"y\\\": 500000.0}, {\\\"x\\\": 2630.0, \\\"y\\\": 430000.0}, {\\\"x\\\": 2820.0, \\\"y\\\": 1600000.0}, {\\\"x\\\": 1560.0, \\\"y\\\": 627500.0}, {\\\"x\\\": 2330.0, \\\"y\\\": 335000.0}, {\\\"x\\\": 3320.0, \\\"y\\\": 962000.0}, {\\\"x\\\": 1730.0, \\\"y\\\": 299000.0}, {\\\"x\\\": 3110.0, \\\"y\\\": 399950.0}, {\\\"x\\\": 1230.0, \\\"y\\\": 322000.0}, {\\\"x\\\": 950.0, \\\"y\\\": 430000.0}, {\\\"x\\\": 1890.0, \\\"y\\\": 307000.0}, {\\\"x\\\": 1010.0, \\\"y\\\": 194000.0}, {\\\"x\\\": 1010.0, \\\"y\\\": 180000.0}, {\\\"x\\\": 2340.0, \\\"y\\\": 465000.0}, {\\\"x\\\": 2460.0, \\\"y\\\": 722500.0}, {\\\"x\\\": 1010.0, \\\"y\\\": 470450.0}, {\\\"x\\\": 1650.0, \\\"y\\\": 280000.0}, {\\\"x\\\": 1440.0, \\\"y\\\": 176250.0}, {\\\"x\\\": 1710.0, \\\"y\\\": 560000.0}, {\\\"x\\\": 2760.0, \\\"y\\\": 830000.0}, {\\\"x\\\": 1350.0, \\\"y\\\": 276900.0}, {\\\"x\\\": 1660.0, \\\"y\\\": 625000.0}, {\\\"x\\\": 2960.0, \\\"y\\\": 1015000.0}, {\\\"x\\\": 1090.0, \\\"y\\\": 463500.0}, {\\\"x\\\": 3110.0, \\\"y\\\": 485000.0}, {\\\"x\\\": 1380.0, \\\"y\\\": 272000.0}, {\\\"x\\\": 1290.0, \\\"y\\\": 305000.0}, {\\\"x\\\": 1980.0, \\\"y\\\": 760000.0}, {\\\"x\\\": 870.0, \\\"y\\\": 387500.0}, {\\\"x\\\": 2470.0, \\\"y\\\": 352000.0}, {\\\"x\\\": 2140.0, \\\"y\\\": 507000.0}, {\\\"x\\\": 770.0, \\\"y\\\": 156000.0}, {\\\"x\\\": 1490.0, \\\"y\\\": 580000.0}, {\\\"x\\\": 2510.0, \\\"y\\\": 630000.0}, {\\\"x\\\": 1950.0, \\\"y\\\": 275000.0}, {\\\"x\\\": 3600.0, \\\"y\\\": 835000.0}, {\\\"x\\\": 2380.0, \\\"y\\\": 340000.0}, {\\\"x\\\": 720.0, \\\"y\\\": 329350.0}, {\\\"x\\\": 4070.0, \\\"y\\\": 1480000.0}, {\\\"x\\\": 1250.0, \\\"y\\\": 475000.0}, {\\\"x\\\": 2190.0, \\\"y\\\": 719950.0}, {\\\"x\\\": 810.0, \\\"y\\\": 235000.0}, {\\\"x\\\": 2440.0, \\\"y\\\": 875000.0}, {\\\"x\\\": 1740.0, \\\"y\\\": 380000.0}, {\\\"x\\\": 1480.0, \\\"y\\\": 325000.0}, {\\\"x\\\": 2120.0, \\\"y\\\": 475000.0}, {\\\"x\\\": 900.0, \\\"y\\\": 152900.0}, {\\\"x\\\": 1190.0, \\\"y\\\": 210000.0}, {\\\"x\\\": 1010.0, \\\"y\\\": 350000.0}, {\\\"x\\\": 2100.0, \\\"y\\\": 505000.0}, {\\\"x\\\": 2020.0, \\\"y\\\": 464900.0}, {\\\"x\\\": 2520.0, \\\"y\\\": 650000.0}, {\\\"x\\\": 1370.0, \\\"y\\\": 369950.0}, {\\\"x\\\": 1530.0, \\\"y\\\": 250000.0}, {\\\"x\\\": 1530.0, \\\"y\\\": 320000.0}, {\\\"x\\\": 5040.0, \\\"y\\\": 2532000.0}, {\\\"x\\\": 2530.0, \\\"y\\\": 340000.0}, {\\\"x\\\": 1010.0, \\\"y\\\": 440000.0}, {\\\"x\\\": 1200.0, \\\"y\\\": 219950.0}, {\\\"x\\\": 2720.0, \\\"y\\\": 940000.0}, {\\\"x\\\": 1850.0, \\\"y\\\": 399950.0}, {\\\"x\\\": 2340.0, \\\"y\\\": 1568000.0}, {\\\"x\\\": 1860.0, \\\"y\\\": 528000.0}, {\\\"x\\\": 1940.0, \\\"y\\\": 545000.0}, {\\\"x\\\": 1680.0, \\\"y\\\": 575000.0}, {\\\"x\\\": 1770.0, \\\"y\\\": 235000.0}, {\\\"x\\\": 1790.0, \\\"y\\\": 272000.0}, {\\\"x\\\": 1720.0, \\\"y\\\": 380000.0}, {\\\"x\\\": 1280.0, \\\"y\\\": 195000.0}, {\\\"x\\\": 1690.0, \\\"y\\\": 297000.0}, {\\\"x\\\": 2190.0, \\\"y\\\": 349000.0}, {\\\"x\\\": 710.0, \\\"y\\\": 320000.0}, {\\\"x\\\": 1890.0, \\\"y\\\": 319990.0}, {\\\"x\\\": 1410.0, \\\"y\\\": 439900.0}, {\\\"x\\\": 2210.0, \\\"y\\\": 429000.0}, {\\\"x\\\": 1540.0, \\\"y\\\": 272500.0}, {\\\"x\\\": 1350.0, \\\"y\\\": 400000.0}, {\\\"x\\\": 1380.0, \\\"y\\\": 462000.0}, {\\\"x\\\": 890.0, \\\"y\\\": 510000.0}, {\\\"x\\\": 1900.0, \\\"y\\\": 550000.0}, {\\\"x\\\": 1240.0, \\\"y\\\": 150000.0}, {\\\"x\\\": 1730.0, \\\"y\\\": 460000.0}, {\\\"x\\\": 2090.0, \\\"y\\\": 632500.0}, {\\\"x\\\": 1650.0, \\\"y\\\": 361000.0}, {\\\"x\\\": 1130.0, \\\"y\\\": 437000.0}, {\\\"x\\\": 3240.0, \\\"y\\\": 370000.0}, {\\\"x\\\": 3840.0, \\\"y\\\": 884250.0}, {\\\"x\\\": 1200.0, \\\"y\\\": 225000.0}, {\\\"x\\\": 870.0, \\\"y\\\": 235000.0}, {\\\"x\\\": 2410.0, \\\"y\\\": 767500.0}, {\\\"x\\\": 1560.0, \\\"y\\\": 1200000.0}, {\\\"x\\\": 2410.0, \\\"y\\\": 715000.0}, {\\\"x\\\": 2300.0, \\\"y\\\": 417000.0}, {\\\"x\\\": 1390.0, \\\"y\\\": 199000.0}, {\\\"x\\\": 2920.0, \\\"y\\\": 875000.0}, {\\\"x\\\": 1370.0, \\\"y\\\": 545000.0}, {\\\"x\\\": 950.0, \\\"y\\\": 192500.0}, {\\\"x\\\": 3090.0, \\\"y\\\": 822500.0}, {\\\"x\\\": 2390.0, \\\"y\\\": 800000.0}, {\\\"x\\\": 2070.0, \\\"y\\\": 1250000.0}, {\\\"x\\\": 5770.0, \\\"y\\\": 3850000.0}, {\\\"x\\\": 1460.0, \\\"y\\\": 295000.0}, {\\\"x\\\": 1510.0, \\\"y\\\": 419000.0}, {\\\"x\\\": 5180.0, \\\"y\\\": 1195000.0}, {\\\"x\\\": 3430.0, \\\"y\\\": 750000.0}, {\\\"x\\\": 1700.0, \\\"y\\\": 502000.0}, {\\\"x\\\": 2640.0, \\\"y\\\": 1025000.0}, {\\\"x\\\": 1200.0, \\\"y\\\": 398500.0}, {\\\"x\\\": 1850.0, \\\"y\\\": 700000.0}, {\\\"x\\\": 1510.0, \\\"y\\\": 248000.0}, {\\\"x\\\": 2130.0, \\\"y\\\": 800000.0}, {\\\"x\\\": 2640.0, \\\"y\\\": 383000.0}, {\\\"x\\\": 3000.0, \\\"y\\\": 688000.0}, {\\\"x\\\": 1870.0, \\\"y\\\": 521000.0}, {\\\"x\\\": 990.0, \\\"y\\\": 365000.0}, {\\\"x\\\": 2005.0, \\\"y\\\": 491000.0}, {\\\"x\\\": 2030.0, \\\"y\\\": 643000.0}, {\\\"x\\\": 1500.0, \\\"y\\\": 279000.0}, {\\\"x\\\": 1530.0, \\\"y\\\": 583500.0}, {\\\"x\\\": 1990.0, \\\"y\\\": 310000.0}, {\\\"x\\\": 1420.0, \\\"y\\\": 310000.0}, {\\\"x\\\": 1400.0, \\\"y\\\": 280000.0}, {\\\"x\\\": 1870.0, \\\"y\\\": 272000.0}, {\\\"x\\\": 3040.0, \\\"y\\\": 870000.0}, {\\\"x\\\": 1790.0, \\\"y\\\": 307000.0}, {\\\"x\\\": 1590.0, \\\"y\\\": 490000.0}, {\\\"x\\\": 2050.0, \\\"y\\\": 399950.0}, {\\\"x\\\": 4220.0, \\\"y\\\": 1635000.0}, {\\\"x\\\": 4030.0, \\\"y\\\": 989000.0}, {\\\"x\\\": 1770.0, \\\"y\\\": 264950.0}, {\\\"x\\\": 2100.0, \\\"y\\\": 491500.0}, {\\\"x\\\": 2120.0, \\\"y\\\": 345000.0}, {\\\"x\\\": 2600.0, \\\"y\\\": 339900.0}, {\\\"x\\\": 2400.0, \\\"y\\\": 852000.0}, {\\\"x\\\": 3180.0, \\\"y\\\": 585000.0}, {\\\"x\\\": 2790.0, \\\"y\\\": 723000.0}, {\\\"x\\\": 2080.0, \\\"y\\\": 594000.0}, {\\\"x\\\": 1370.0, \\\"y\\\": 405000.0}, {\\\"x\\\": 2790.0, \\\"y\\\": 725500.0}, {\\\"x\\\": 1740.0, \\\"y\\\": 800000.0}, {\\\"x\\\": 6400.0, \\\"y\\\": 1325000.0}, {\\\"x\\\": 1800.0, \\\"y\\\": 180500.0}, {\\\"x\\\": 1800.0, \\\"y\\\": 325000.0}, {\\\"x\\\": 1190.0, \\\"y\\\": 235000.0}, {\\\"x\\\": 860.0, \\\"y\\\": 330000.0}, {\\\"x\\\": 2460.0, \\\"y\\\": 678500.0}, {\\\"x\\\": 1980.0, \\\"y\\\": 463000.0}, {\\\"x\\\": 670.0, \\\"y\\\": 250000.0}, {\\\"x\\\": 1410.0, \\\"y\\\": 655000.0}, {\\\"x\\\": 1860.0, \\\"y\\\": 239900.0}, {\\\"x\\\": 980.0, \\\"y\\\": 185000.0}, {\\\"x\\\": 3040.0, \\\"y\\\": 1735000.0}, {\\\"x\\\": 1810.0, \\\"y\\\": 251700.0}, {\\\"x\\\": 1560.0, \\\"y\\\": 400000.0}, {\\\"x\\\": 2100.0, \\\"y\\\": 735000.0}, {\\\"x\\\": 2500.0, \\\"y\\\": 1700000.0}, {\\\"x\\\": 520.0, \\\"y\\\": 82500.0}, {\\\"x\\\": 3010.0, \\\"y\\\": 765000.0}, {\\\"x\\\": 2140.0, \\\"y\\\": 292500.0}, {\\\"x\\\": 2390.0, \\\"y\\\": 270000.0}, {\\\"x\\\": 1510.0, \\\"y\\\": 415000.0}, {\\\"x\\\": 2210.0, \\\"y\\\": 950000.0}, {\\\"x\\\": 2170.0, \\\"y\\\": 353000.0}, {\\\"x\\\": 1790.0, \\\"y\\\": 670950.0}, {\\\"x\\\": 1390.0, \\\"y\\\": 280950.0}, {\\\"x\\\": 1850.0, \\\"y\\\": 585000.0}, {\\\"x\\\": 1480.0, \\\"y\\\": 525000.0}, {\\\"x\\\": 1850.0, \\\"y\\\": 605000.0}, {\\\"x\\\": 3350.0, \\\"y\\\": 1010000.0}, {\\\"x\\\": 1040.0, \\\"y\\\": 245990.0}, {\\\"x\\\": 2810.0, \\\"y\\\": 535000.0}, {\\\"x\\\": 1010.0, \\\"y\\\": 410000.0}, {\\\"x\\\": 2250.0, \\\"y\\\": 550000.0}, {\\\"x\\\": 1800.0, \\\"y\\\": 665000.0}, {\\\"x\\\": 2400.0, \\\"y\\\": 455000.0}, {\\\"x\\\": 1780.0, \\\"y\\\": 440000.0}, {\\\"x\\\": 2120.0, \\\"y\\\": 332000.0}, {\\\"x\\\": 1860.0, \\\"y\\\": 280000.0}, {\\\"x\\\": 1460.0, \\\"y\\\": 570000.0}, {\\\"x\\\": 1230.0, \\\"y\\\": 250000.0}, {\\\"x\\\": 1088.0, \\\"y\\\": 238000.0}, {\\\"x\\\": 800.0, \\\"y\\\": 265000.0}, {\\\"x\\\": 1190.0, \\\"y\\\": 306000.0}, {\\\"x\\\": 1940.0, \\\"y\\\": 345000.0}, {\\\"x\\\": 3300.0, \\\"y\\\": 765000.0}, {\\\"x\\\": 2590.0, \\\"y\\\": 346300.0}, {\\\"x\\\": 2080.0, \\\"y\\\": 342500.0}, {\\\"x\\\": 2680.0, \\\"y\\\": 501000.0}, {\\\"x\\\": 1670.0, \\\"y\\\": 270000.0}, {\\\"x\\\": 1830.0, \\\"y\\\": 638000.0}, {\\\"x\\\": 1400.0, \\\"y\\\": 460000.0}, {\\\"x\\\": 2770.0, \\\"y\\\": 760000.0}, {\\\"x\\\": 3630.0, \\\"y\\\": 1085000.0}, {\\\"x\\\": 1040.0, \\\"y\\\": 234000.0}, {\\\"x\\\": 2690.0, \\\"y\\\": 1650000.0}, {\\\"x\\\": 2020.0, \\\"y\\\": 488000.0}, {\\\"x\\\": 2450.0, \\\"y\\\": 1550000.0}, {\\\"x\\\": 2030.0, \\\"y\\\": 499000.0}, {\\\"x\\\": 1450.0, \\\"y\\\": 150000.0}, {\\\"x\\\": 2400.0, \\\"y\\\": 333000.0}, {\\\"x\\\": 2870.0, \\\"y\\\": 700000.0}, {\\\"x\\\": 1340.0, \\\"y\\\": 275000.0}, {\\\"x\\\": 1680.0, \\\"y\\\": 330000.0}, {\\\"x\\\": 1850.0, \\\"y\\\": 360000.0}, {\\\"x\\\": 1220.0, \\\"y\\\": 467000.0}, {\\\"x\\\": 2320.0, \\\"y\\\": 568000.0}, {\\\"x\\\": 3220.0, \\\"y\\\": 605000.0}, {\\\"x\\\": 3190.0, \\\"y\\\": 750000.0}, {\\\"x\\\": 3530.0, \\\"y\\\": 760000.0}, {\\\"x\\\": 2050.0, \\\"y\\\": 265000.0}, {\\\"x\\\": 1720.0, \\\"y\\\": 490000.0}, {\\\"x\\\": 2850.0, \\\"y\\\": 360000.0}, {\\\"x\\\": 2270.0, \\\"y\\\": 311750.0}, {\\\"x\\\": 1880.0, \\\"y\\\": 399000.0}, {\\\"x\\\": 2770.0, \\\"y\\\": 347000.0}, {\\\"x\\\": 4490.0, \\\"y\\\": 1680000.0}, {\\\"x\\\": 3110.0, \\\"y\\\": 585000.0}, {\\\"x\\\": 2360.0, \\\"y\\\": 340000.0}, {\\\"x\\\": 2180.0, \\\"y\\\": 612000.0}, {\\\"x\\\": 1910.0, \\\"y\\\": 230000.0}, {\\\"x\\\": 2260.0, \\\"y\\\": 604000.0}, {\\\"x\\\": 1770.0, \\\"y\\\": 250000.0}, {\\\"x\\\": 1460.0, \\\"y\\\": 258500.0}, {\\\"x\\\": 2080.0, \\\"y\\\": 783000.0}, {\\\"x\\\": 2960.0, \\\"y\\\": 1050000.0}, {\\\"x\\\": 3220.0, \\\"y\\\": 760000.0}, {\\\"x\\\": 1140.0, \\\"y\\\": 276000.0}, {\\\"x\\\": 1660.0, \\\"y\\\": 550000.0}, {\\\"x\\\": 1430.0, \\\"y\\\": 398000.0}, {\\\"x\\\": 1820.0, \\\"y\\\": 775000.0}, {\\\"x\\\": 3540.0, \\\"y\\\": 1027500.0}, {\\\"x\\\": 1620.0, \\\"y\\\": 327000.0}, {\\\"x\\\": 3100.0, \\\"y\\\": 564500.0}, {\\\"x\\\": 1500.0, \\\"y\\\": 782000.0}, {\\\"x\\\": 2820.0, \\\"y\\\": 398000.0}, {\\\"x\\\": 1850.0, \\\"y\\\": 257000.0}, {\\\"x\\\": 1570.0, \\\"y\\\": 235000.0}, {\\\"x\\\": 2300.0, \\\"y\\\": 453000.0}, {\\\"x\\\": 920.0, \\\"y\\\": 535000.0}, {\\\"x\\\": 1600.0, \\\"y\\\": 275000.0}, {\\\"x\\\": 2630.0, \\\"y\\\": 665000.0}, {\\\"x\\\": 3020.0, \\\"y\\\": 670000.0}, {\\\"x\\\": 1490.0, \\\"y\\\": 465000.0}, {\\\"x\\\": 1160.0, \\\"y\\\": 210000.0}, {\\\"x\\\": 2040.0, \\\"y\\\": 265000.0}, {\\\"x\\\": 1550.0, \\\"y\\\": 426000.0}, {\\\"x\\\": 1990.0, \\\"y\\\": 529219.0}, {\\\"x\\\": 1900.0, \\\"y\\\": 600000.0}, {\\\"x\\\": 3840.0, \\\"y\\\": 875000.0}, {\\\"x\\\": 2400.0, \\\"y\\\": 608000.0}, {\\\"x\\\": 1660.0, \\\"y\\\": 220000.0}, {\\\"x\\\": 6055.0, \\\"y\\\": 1760000.0}, {\\\"x\\\": 2030.0, \\\"y\\\": 295450.0}, {\\\"x\\\": 840.0, \\\"y\\\": 315000.0}, {\\\"x\\\": 1450.0, \\\"y\\\": 205000.0}, {\\\"x\\\": 1460.0, \\\"y\\\": 310000.0}, {\\\"x\\\": 2010.0, \\\"y\\\": 1000000.0}, {\\\"x\\\": 2910.0, \\\"y\\\": 525000.0}, {\\\"x\\\": 1880.0, \\\"y\\\": 284000.0}, {\\\"x\\\": 2170.0, \\\"y\\\": 510000.0}, {\\\"x\\\": 1260.0, \\\"y\\\": 405000.0}, {\\\"x\\\": 1970.0, \\\"y\\\": 509950.0}, {\\\"x\\\": 2090.0, \\\"y\\\": 600000.0}, {\\\"x\\\": 3450.0, \\\"y\\\": 990000.0}, {\\\"x\\\": 1130.0, \\\"y\\\": 280005.0}, {\\\"x\\\": 2600.0, \\\"y\\\": 700000.0}, {\\\"x\\\": 1030.0, \\\"y\\\": 330000.0}, {\\\"x\\\": 1700.0, \\\"y\\\": 340000.0}, {\\\"x\\\": 1480.0, \\\"y\\\": 468000.0}, {\\\"x\\\": 4250.0, \\\"y\\\": 1339000.0}, {\\\"x\\\": 1600.0, \\\"y\\\": 515000.0}, {\\\"x\\\": 1870.0, \\\"y\\\": 245000.0}, {\\\"x\\\": 1440.0, \\\"y\\\": 265000.0}, {\\\"x\\\": 2720.0, \\\"y\\\": 372400.0}, {\\\"x\\\": 1240.0, \\\"y\\\": 390000.0}, {\\\"x\\\": 1020.0, \\\"y\\\": 208000.0}, {\\\"x\\\": 1180.0, \\\"y\\\": 273000.0}, {\\\"x\\\": 3080.0, \\\"y\\\": 455000.0}, {\\\"x\\\": 1750.0, \\\"y\\\": 270000.0}, {\\\"x\\\": 2530.0, \\\"y\\\": 618000.0}, {\\\"x\\\": 1580.0, \\\"y\\\": 213550.0}, {\\\"x\\\": 2340.0, \\\"y\\\": 210000.0}, {\\\"x\\\": 6300.0, \\\"y\\\": 2750000.0}, {\\\"x\\\": 2400.0, \\\"y\\\": 403500.0}, {\\\"x\\\": 1300.0, \\\"y\\\": 235000.0}, {\\\"x\\\": 1760.0, \\\"y\\\": 287500.0}, {\\\"x\\\": 1520.0, \\\"y\\\": 546800.0}, {\\\"x\\\": 1070.0, \\\"y\\\": 183000.0}, {\\\"x\\\": 2560.0, \\\"y\\\": 560000.0}, {\\\"x\\\": 1280.0, \\\"y\\\": 299500.0}, {\\\"x\\\": 1660.0, \\\"y\\\": 610000.0}, {\\\"x\\\": 1860.0, \\\"y\\\": 288350.0}, {\\\"x\\\": 950.0, \\\"y\\\": 500000.0}, {\\\"x\\\": 2140.0, \\\"y\\\": 625000.0}, {\\\"x\\\": 1480.0, \\\"y\\\": 418000.0}, {\\\"x\\\": 2260.0, \\\"y\\\": 660000.0}, {\\\"x\\\": 2300.0, \\\"y\\\": 775000.0}, {\\\"x\\\": 1650.0, \\\"y\\\": 429500.0}, {\\\"x\\\": 1990.0, \\\"y\\\": 569000.0}, {\\\"x\\\": 1960.0, \\\"y\\\": 250000.0}, {\\\"x\\\": 1310.0, \\\"y\\\": 225000.0}, {\\\"x\\\": 2450.0, \\\"y\\\": 530000.0}, {\\\"x\\\": 910.0, \\\"y\\\": 306000.0}, {\\\"x\\\": 1580.0, \\\"y\\\": 517100.0}, {\\\"x\\\": 1780.0, \\\"y\\\": 354950.0}, {\\\"x\\\": 1040.0, \\\"y\\\": 348000.0}, {\\\"x\\\": 2340.0, \\\"y\\\": 522250.0}, {\\\"x\\\": 1720.0, \\\"y\\\": 275000.0}, {\\\"x\\\": 1600.0, \\\"y\\\": 390000.0}, {\\\"x\\\": 1320.0, \\\"y\\\": 260000.0}, {\\\"x\\\": 2350.0, \\\"y\\\": 585000.0}, {\\\"x\\\": 2740.0, \\\"y\\\": 605000.0}, {\\\"x\\\": 2300.0, \\\"y\\\": 342000.0}, {\\\"x\\\": 4350.0, \\\"y\\\": 900000.0}, {\\\"x\\\": 1430.0, \\\"y\\\": 252000.0}, {\\\"x\\\": 2400.0, \\\"y\\\": 357000.0}, {\\\"x\\\": 940.0, \\\"y\\\": 370000.0}, {\\\"x\\\": 1020.0, \\\"y\\\": 322500.0}, {\\\"x\\\": 1680.0, \\\"y\\\": 210000.0}, {\\\"x\\\": 1340.0, \\\"y\\\": 290000.0}, {\\\"x\\\": 3960.0, \\\"y\\\": 860000.0}, {\\\"x\\\": 2650.0, \\\"y\\\": 302000.0}, {\\\"x\\\": 2120.0, \\\"y\\\": 369160.0}, {\\\"x\\\": 2850.0, \\\"y\\\": 1185000.0}, {\\\"x\\\": 2850.0, \\\"y\\\": 993000.0}, {\\\"x\\\": 1870.0, \\\"y\\\": 380000.0}, {\\\"x\\\": 2660.0, \\\"y\\\": 635000.0}, {\\\"x\\\": 1190.0, \\\"y\\\": 260000.0}, {\\\"x\\\": 1770.0, \\\"y\\\": 243000.0}, {\\\"x\\\": 2770.0, \\\"y\\\": 1400000.0}, {\\\"x\\\": 2080.0, \\\"y\\\": 665000.0}, {\\\"x\\\": 2700.0, \\\"y\\\": 898000.0}, {\\\"x\\\": 2200.0, \\\"y\\\": 583000.0}, {\\\"x\\\": 2160.0, \\\"y\\\": 429000.0}, {\\\"x\\\": 2010.0, \\\"y\\\": 471000.0}, {\\\"x\\\": 3780.0, \\\"y\\\": 1810000.0}, {\\\"x\\\": 4460.0, \\\"y\\\": 739500.0}, {\\\"x\\\": 1770.0, \\\"y\\\": 450000.0}, {\\\"x\\\": 1430.0, \\\"y\\\": 552500.0}, {\\\"x\\\": 1700.0, \\\"y\\\": 437000.0}, {\\\"x\\\": 1830.0, \\\"y\\\": 270000.0}, {\\\"x\\\": 1410.0, \\\"y\\\": 226740.0}, {\\\"x\\\": 3060.0, \\\"y\\\": 446500.0}, {\\\"x\\\": 1820.0, \\\"y\\\": 283000.0}, {\\\"x\\\": 2430.0, \\\"y\\\": 445000.0}, {\\\"x\\\": 740.0, \\\"y\\\": 250000.0}, {\\\"x\\\": 770.0, \\\"y\\\": 307000.0}, {\\\"x\\\": 2200.0, \\\"y\\\": 315000.0}, {\\\"x\\\": 2920.0, \\\"y\\\": 555000.0}, {\\\"x\\\": 2040.0, \\\"y\\\": 264900.0}, {\\\"x\\\": 1600.0, \\\"y\\\": 510000.0}, {\\\"x\\\": 1990.0, \\\"y\\\": 328000.0}, {\\\"x\\\": 1830.0, \\\"y\\\": 358000.0}, {\\\"x\\\": 2540.0, \\\"y\\\": 325000.0}, {\\\"x\\\": 2700.0, \\\"y\\\": 1365000.0}, {\\\"x\\\": 1440.0, \\\"y\\\": 230000.0}, {\\\"x\\\": 1550.0, \\\"y\\\": 545000.0}, {\\\"x\\\": 2490.0, \\\"y\\\": 705380.0}, {\\\"x\\\": 2650.0, \\\"y\\\": 459000.0}, {\\\"x\\\": 2000.0, \\\"y\\\": 815000.0}, {\\\"x\\\": 3440.0, \\\"y\\\": 495000.0}, {\\\"x\\\": 2280.0, \\\"y\\\": 520000.0}, {\\\"x\\\": 1320.0, \\\"y\\\": 430000.0}, {\\\"x\\\": 2070.0, \\\"y\\\": 255000.0}, {\\\"x\\\": 1860.0, \\\"y\\\": 588000.0}, {\\\"x\\\": 940.0, \\\"y\\\": 350000.0}, {\\\"x\\\": 2290.0, \\\"y\\\": 625000.0}, {\\\"x\\\": 1510.0, \\\"y\\\": 172500.0}, {\\\"x\\\": 1830.0, \\\"y\\\": 554000.0}, {\\\"x\\\": 3090.0, \\\"y\\\": 775000.0}, {\\\"x\\\": 4340.0, \\\"y\\\": 1187500.0}, {\\\"x\\\": 3200.0, \\\"y\\\": 618000.0}, {\\\"x\\\": 1560.0, \\\"y\\\": 305000.0}, {\\\"x\\\": 1280.0, \\\"y\\\": 232000.0}, {\\\"x\\\": 2020.0, \\\"y\\\": 262000.0}, {\\\"x\\\": 1040.0, \\\"y\\\": 234000.0}, {\\\"x\\\": 2260.0, \\\"y\\\": 500000.0}, {\\\"x\\\": 860.0, \\\"y\\\": 278000.0}, {\\\"x\\\": 1920.0, \\\"y\\\": 230000.0}, {\\\"x\\\": 2290.0, \\\"y\\\": 500000.0}, {\\\"x\\\": 2070.0, \\\"y\\\": 366500.0}, {\\\"x\\\": 4250.0, \\\"y\\\": 665000.0}, {\\\"x\\\": 2220.0, \\\"y\\\": 1101000.0}, {\\\"x\\\": 1840.0, \\\"y\\\": 575000.0}, {\\\"x\\\": 2590.0, \\\"y\\\": 674750.0}, {\\\"x\\\": 3110.0, \\\"y\\\": 719000.0}, {\\\"x\\\": 2600.0, \\\"y\\\": 482000.0}, {\\\"x\\\": 1060.0, \\\"y\\\": 254000.0}, {\\\"x\\\": 1250.0, \\\"y\\\": 443725.0}, {\\\"x\\\": 2520.0, \\\"y\\\": 575000.0}, {\\\"x\\\": 2070.0, \\\"y\\\": 469000.0}, {\\\"x\\\": 1300.0, \\\"y\\\": 175000.0}, {\\\"x\\\": 2190.0, \\\"y\\\": 437000.0}, {\\\"x\\\": 2760.0, \\\"y\\\": 550000.0}, {\\\"x\\\": 1710.0, \\\"y\\\": 172040.0}, {\\\"x\\\": 1750.0, \\\"y\\\": 363000.0}, {\\\"x\\\": 1552.0, \\\"y\\\": 282000.0}, {\\\"x\\\": 2350.0, \\\"y\\\": 400000.0}, {\\\"x\\\": 5110.0, \\\"y\\\": 650000.0}, {\\\"x\\\": 1720.0, \\\"y\\\": 365000.0}, {\\\"x\\\": 1960.0, \\\"y\\\": 269950.0}, {\\\"x\\\": 1270.0, \\\"y\\\": 260000.0}, {\\\"x\\\": 1180.0, \\\"y\\\": 193000.0}, {\\\"x\\\": 2230.0, \\\"y\\\": 340000.0}, {\\\"x\\\": 4700.0, \\\"y\\\": 900000.0}, {\\\"x\\\": 2150.0, \\\"y\\\": 371000.0}, {\\\"x\\\": 2400.0, \\\"y\\\": 592000.0}, {\\\"x\\\": 1830.0, \\\"y\\\": 300000.0}, {\\\"x\\\": 2800.0, \\\"y\\\": 449950.0}, {\\\"x\\\": 2090.0, \\\"y\\\": 299500.0}, {\\\"x\\\": 2340.0, \\\"y\\\": 995000.0}, {\\\"x\\\": 1670.0, \\\"y\\\": 335000.0}, {\\\"x\\\": 1990.0, \\\"y\\\": 280000.0}, {\\\"x\\\": 2270.0, \\\"y\\\": 446000.0}, {\\\"x\\\": 4910.0, \\\"y\\\": 1544500.0}, {\\\"x\\\": 950.0, \\\"y\\\": 325000.0}, {\\\"x\\\": 1610.0, \\\"y\\\": 450000.0}, {\\\"x\\\": 1940.0, \\\"y\\\": 322500.0}, {\\\"x\\\": 1210.0, \\\"y\\\": 453000.0}, {\\\"x\\\": 2570.0, \\\"y\\\": 655000.0}, {\\\"x\\\": 1700.0, \\\"y\\\": 603000.0}, {\\\"x\\\": 1610.0, \\\"y\\\": 235000.0}, {\\\"x\\\": 4120.0, \\\"y\\\": 968933.0}, {\\\"x\\\": 2880.0, \\\"y\\\": 1015000.0}, {\\\"x\\\": 1990.0, \\\"y\\\": 435000.0}, {\\\"x\\\": 1260.0, \\\"y\\\": 242000.0}, {\\\"x\\\": 4750.0, \\\"y\\\": 487000.0}, {\\\"x\\\": 3010.0, \\\"y\\\": 810000.0}, {\\\"x\\\": 2410.0, \\\"y\\\": 625000.0}, {\\\"x\\\": 1280.0, \\\"y\\\": 165000.0}, {\\\"x\\\": 2320.0, \\\"y\\\": 335000.0}, {\\\"x\\\": 1220.0, \\\"y\\\": 286700.0}, {\\\"x\\\": 1400.0, \\\"y\\\": 699000.0}, {\\\"x\\\": 1590.0, \\\"y\\\": 280000.0}, {\\\"x\\\": 2220.0, \\\"y\\\": 580000.0}, {\\\"x\\\": 2770.0, \\\"y\\\": 754800.0}, {\\\"x\\\": 2303.0, \\\"y\\\": 525000.0}, {\\\"x\\\": 1600.0, \\\"y\\\": 562000.0}, {\\\"x\\\": 1280.0, \\\"y\\\": 575000.0}, {\\\"x\\\": 2900.0, \\\"y\\\": 808900.0}, {\\\"x\\\": 2950.0, \\\"y\\\": 992000.0}, {\\\"x\\\": 1700.0, \\\"y\\\": 335000.0}, {\\\"x\\\": 1050.0, \\\"y\\\": 473000.0}, {\\\"x\\\": 2990.0, \\\"y\\\": 350000.0}, {\\\"x\\\": 3100.0, \\\"y\\\": 1600000.0}, {\\\"x\\\": 1240.0, \\\"y\\\": 305500.0}, {\\\"x\\\": 780.0, \\\"y\\\": 306000.0}, {\\\"x\\\": 850.0, \\\"y\\\": 233000.0}, {\\\"x\\\": 1540.0, \\\"y\\\": 490000.0}, {\\\"x\\\": 2280.0, \\\"y\\\": 445000.0}, {\\\"x\\\": 2550.0, \\\"y\\\": 355000.0}, {\\\"x\\\": 1770.0, \\\"y\\\": 360000.0}, {\\\"x\\\": 2320.0, \\\"y\\\": 737500.0}, {\\\"x\\\": 2600.0, \\\"y\\\": 985000.0}, {\\\"x\\\": 1570.0, \\\"y\\\": 349950.0}, {\\\"x\\\": 3060.0, \\\"y\\\": 520000.0}, {\\\"x\\\": 1960.0, \\\"y\\\": 355950.0}, {\\\"x\\\": 3270.0, \\\"y\\\": 485000.0}, {\\\"x\\\": 1090.0, \\\"y\\\": 143000.0}, {\\\"x\\\": 6840.0, \\\"y\\\": 3278000.0}, {\\\"x\\\": 940.0, \\\"y\\\": 355000.0}, {\\\"x\\\": 3880.0, \\\"y\\\": 1126000.0}, {\\\"x\\\": 1770.0, \\\"y\\\": 200000.0}, {\\\"x\\\": 3640.0, \\\"y\\\": 913000.0}, {\\\"x\\\": 3160.0, \\\"y\\\": 1600000.0}, {\\\"x\\\": 1590.0, \\\"y\\\": 409900.0}, {\\\"x\\\": 1290.0, \\\"y\\\": 265000.0}, {\\\"x\\\": 3655.0, \\\"y\\\": 740000.0}, {\\\"x\\\": 2490.0, \\\"y\\\": 306000.0}, {\\\"x\\\": 1470.0, \\\"y\\\": 381000.0}, {\\\"x\\\": 3960.0, \\\"y\\\": 1220000.0}, {\\\"x\\\": 3190.0, \\\"y\\\": 1050000.0}, {\\\"x\\\": 810.0, \\\"y\\\": 408000.0}, {\\\"x\\\": 2980.0, \\\"y\\\": 739900.0}, {\\\"x\\\": 2780.0, \\\"y\\\": 674250.0}, {\\\"x\\\": 1340.0, \\\"y\\\": 438400.0}, {\\\"x\\\": 4930.0, \\\"y\\\": 1700000.0}, {\\\"x\\\": 1360.0, \\\"y\\\": 703000.0}, {\\\"x\\\": 1320.0, \\\"y\\\": 262000.0}, {\\\"x\\\": 1210.0, \\\"y\\\": 353000.0}, {\\\"x\\\": 1940.0, \\\"y\\\": 500000.0}, {\\\"x\\\": 3160.0, \\\"y\\\": 1280000.0}, {\\\"x\\\": 1980.0, \\\"y\\\": 332000.0}, {\\\"x\\\": 2320.0, \\\"y\\\": 824000.0}, {\\\"x\\\": 1660.0, \\\"y\\\": 290000.0}, {\\\"x\\\": 1660.0, \\\"y\\\": 700000.0}, {\\\"x\\\": 1080.0, \\\"y\\\": 550000.0}, {\\\"x\\\": 1510.0, \\\"y\\\": 549000.0}, {\\\"x\\\": 2950.0, \\\"y\\\": 1865000.0}, {\\\"x\\\": 3070.0, \\\"y\\\": 858000.0}, {\\\"x\\\": 970.0, \\\"y\\\": 345000.0}, {\\\"x\\\": 2140.0, \\\"y\\\": 340000.0}, {\\\"x\\\": 2570.0, \\\"y\\\": 1215000.0}, {\\\"x\\\": 1260.0, \\\"y\\\": 275000.0}, {\\\"x\\\": 1220.0, \\\"y\\\": 405000.0}, {\\\"x\\\": 1720.0, \\\"y\\\": 432500.0}, {\\\"x\\\": 2140.0, \\\"y\\\": 236500.0}, {\\\"x\\\": 1420.0, \\\"y\\\": 679000.0}, {\\\"x\\\": 2060.0, \\\"y\\\": 543000.0}, {\\\"x\\\": 1320.0, \\\"y\\\": 294000.0}, {\\\"x\\\": 1810.0, \\\"y\\\": 340500.0}, {\\\"x\\\": 2980.0, \\\"y\\\": 1012000.0}, {\\\"x\\\": 1350.0, \\\"y\\\": 335000.0}, {\\\"x\\\": 1540.0, \\\"y\\\": 425000.0}, {\\\"x\\\": 2510.0, \\\"y\\\": 353000.0}, {\\\"x\\\": 1670.0, \\\"y\\\": 540000.0}, {\\\"x\\\": 3690.0, \\\"y\\\": 640000.0}, {\\\"x\\\": 1320.0, \\\"y\\\": 339950.0}, {\\\"x\\\": 1510.0, \\\"y\\\": 195000.0}, {\\\"x\\\": 1510.0, \\\"y\\\": 322000.0}, {\\\"x\\\": 1870.0, \\\"y\\\": 660000.0}, {\\\"x\\\": 2400.0, \\\"y\\\": 280000.0}, {\\\"x\\\": 2400.0, \\\"y\\\": 300000.0}, {\\\"x\\\": 1170.0, \\\"y\\\": 207500.0}, {\\\"x\\\": 1190.0, \\\"y\\\": 195000.0}, {\\\"x\\\": 2080.0, \\\"y\\\": 700000.0}, {\\\"x\\\": 2150.0, \\\"y\\\": 560000.0}, {\\\"x\\\": 1580.0, \\\"y\\\": 260000.0}, {\\\"x\\\": 1580.0, \\\"y\\\": 575000.0}, {\\\"x\\\": 2370.0, \\\"y\\\": 475000.0}, {\\\"x\\\": 1840.0, \\\"y\\\": 285000.0}, {\\\"x\\\": 2660.0, \\\"y\\\": 753888.0}, {\\\"x\\\": 2190.0, \\\"y\\\": 650000.0}, {\\\"x\\\": 1660.0, \\\"y\\\": 620000.0}, {\\\"x\\\": 1780.0, \\\"y\\\": 526000.0}, {\\\"x\\\": 700.0, \\\"y\\\": 155000.0}, {\\\"x\\\": 1570.0, \\\"y\\\": 342000.0}, {\\\"x\\\": 1220.0, \\\"y\\\": 390000.0}, {\\\"x\\\": 3150.0, \\\"y\\\": 685000.0}, {\\\"x\\\": 2690.0, \\\"y\\\": 608000.0}, {\\\"x\\\": 680.0, \\\"y\\\": 179900.0}, {\\\"x\\\": 3750.0, \\\"y\\\": 1245000.0}, {\\\"x\\\": 1010.0, \\\"y\\\": 166000.0}, {\\\"x\\\": 1710.0, \\\"y\\\": 462000.0}, {\\\"x\\\": 2090.0, \\\"y\\\": 545000.0}, {\\\"x\\\": 1560.0, \\\"y\\\": 415000.0}, {\\\"x\\\": 1560.0, \\\"y\\\": 269000.0}, {\\\"x\\\": 2570.0, \\\"y\\\": 356500.0}, {\\\"x\\\": 1010.0, \\\"y\\\": 225000.0}, {\\\"x\\\": 1020.0, \\\"y\\\": 175000.0}, {\\\"x\\\": 1710.0, \\\"y\\\": 549000.0}, {\\\"x\\\": 2300.0, \\\"y\\\": 535000.0}, {\\\"x\\\": 1990.0, \\\"y\\\": 627000.0}, {\\\"x\\\": 2730.0, \\\"y\\\": 565000.0}, {\\\"x\\\": 2195.0, \\\"y\\\": 392450.0}, {\\\"x\\\": 1560.0, \\\"y\\\": 509000.0}, {\\\"x\\\": 1400.0, \\\"y\\\": 340000.0}, {\\\"x\\\": 1400.0, \\\"y\\\": 537000.0}, {\\\"x\\\": 3690.0, \\\"y\\\": 865000.0}, {\\\"x\\\": 1140.0, \\\"y\\\": 358000.0}, {\\\"x\\\": 1920.0, \\\"y\\\": 595000.0}, {\\\"x\\\": 2496.0, \\\"y\\\": 661000.0}, {\\\"x\\\": 2280.0, \\\"y\\\": 419950.0}, {\\\"x\\\": 3200.0, \\\"y\\\": 490000.0}, {\\\"x\\\": 880.0, \\\"y\\\": 525000.0}, {\\\"x\\\": 1320.0, \\\"y\\\": 350000.0}, {\\\"x\\\": 2450.0, \\\"y\\\": 552500.0}, {\\\"x\\\": 1040.0, \\\"y\\\": 210000.0}, {\\\"x\\\": 2480.0, \\\"y\\\": 390000.0}, {\\\"x\\\": 1830.0, \\\"y\\\": 336800.0}, {\\\"x\\\": 1440.0, \\\"y\\\": 465000.0}, {\\\"x\\\": 1580.0, \\\"y\\\": 299900.0}, {\\\"x\\\": 3230.0, \\\"y\\\": 715000.0}, {\\\"x\\\": 1810.0, \\\"y\\\": 235000.0}, {\\\"x\\\": 2495.0, \\\"y\\\": 276000.0}, {\\\"x\\\": 1740.0, \\\"y\\\": 265000.0}, {\\\"x\\\": 1680.0, \\\"y\\\": 425000.0}, {\\\"x\\\": 2460.0, \\\"y\\\": 313000.0}, {\\\"x\\\": 3050.0, \\\"y\\\": 715000.0}, {\\\"x\\\": 1630.0, \\\"y\\\": 265000.0}, {\\\"x\\\": 2460.0, \\\"y\\\": 646000.0}, {\\\"x\\\": 1030.0, \\\"y\\\": 175000.0}, {\\\"x\\\": 3410.0, \\\"y\\\": 649000.0}, {\\\"x\\\": 2310.0, \\\"y\\\": 785000.0}, {\\\"x\\\": 2610.0, \\\"y\\\": 890000.0}, {\\\"x\\\": 2330.0, \\\"y\\\": 612000.0}, {\\\"x\\\": 2980.0, \\\"y\\\": 330000.0}, {\\\"x\\\": 1790.0, \\\"y\\\": 493000.0}, {\\\"x\\\": 2940.0, \\\"y\\\": 1600000.0}, {\\\"x\\\": 3900.0, \\\"y\\\": 1619999.0}, {\\\"x\\\": 3900.0, \\\"y\\\": 1650000.0}, {\\\"x\\\": 1750.0, \\\"y\\\": 499000.0}, {\\\"x\\\": 2660.0, \\\"y\\\": 603500.0}, {\\\"x\\\": 1580.0, \\\"y\\\": 530000.0}, {\\\"x\\\": 2350.0, \\\"y\\\": 895000.0}, {\\\"x\\\": 2510.0, \\\"y\\\": 267345.0}, {\\\"x\\\": 1480.0, \\\"y\\\": 275000.0}, {\\\"x\\\": 1720.0, \\\"y\\\": 439950.0}, {\\\"x\\\": 1470.0, \\\"y\\\": 455000.0}, {\\\"x\\\": 1540.0, \\\"y\\\": 630000.0}, {\\\"x\\\": 2820.0, \\\"y\\\": 690000.0}, {\\\"x\\\": 1250.0, \\\"y\\\": 212000.0}, {\\\"x\\\": 2080.0, \\\"y\\\": 231500.0}, {\\\"x\\\": 5180.0, \\\"y\\\": 1237500.0}, {\\\"x\\\": 2860.0, \\\"y\\\": 378500.0}, {\\\"x\\\": 2710.0, \\\"y\\\": 482000.0}, {\\\"x\\\": 1140.0, \\\"y\\\": 695000.0}, {\\\"x\\\": 4070.0, \\\"y\\\": 965000.0}, {\\\"x\\\": 1710.0, \\\"y\\\": 675000.0}, {\\\"x\\\": 1340.0, \\\"y\\\": 387000.0}, {\\\"x\\\": 2290.0, \\\"y\\\": 347500.0}, {\\\"x\\\": 1860.0, \\\"y\\\": 385000.0}, {\\\"x\\\": 1080.0, \\\"y\\\": 265000.0}, {\\\"x\\\": 960.0, \\\"y\\\": 406000.0}, {\\\"x\\\": 980.0, \\\"y\\\": 134000.0}, {\\\"x\\\": 1500.0, \\\"y\\\": 415000.0}, {\\\"x\\\": 1440.0, \\\"y\\\": 375000.0}, {\\\"x\\\": 2580.0, \\\"y\\\": 620000.0}, {\\\"x\\\": 2070.0, \\\"y\\\": 337500.0}, {\\\"x\\\": 1880.0, \\\"y\\\": 565000.0}, {\\\"x\\\": 2420.0, \\\"y\\\": 399500.0}, {\\\"x\\\": 1890.0, \\\"y\\\": 1065000.0}, {\\\"x\\\": 1920.0, \\\"y\\\": 352500.0}, {\\\"x\\\": 1870.0, \\\"y\\\": 259000.0}, {\\\"x\\\": 900.0, \\\"y\\\": 320000.0}, {\\\"x\\\": 2160.0, \\\"y\\\": 733000.0}, {\\\"x\\\": 900.0, \\\"y\\\": 381500.0}, {\\\"x\\\": 1180.0, \\\"y\\\": 343000.0}, {\\\"x\\\": 900.0, \\\"y\\\": 205500.0}, {\\\"x\\\": 1600.0, \\\"y\\\": 525000.0}, {\\\"x\\\": 1500.0, \\\"y\\\": 300000.0}, {\\\"x\\\": 1070.0, \\\"y\\\": 299000.0}, {\\\"x\\\": 2570.0, \\\"y\\\": 561000.0}, {\\\"x\\\": 1210.0, \\\"y\\\": 450000.0}, {\\\"x\\\": 1850.0, \\\"y\\\": 540000.0}, {\\\"x\\\": 1740.0, \\\"y\\\": 379000.0}, {\\\"x\\\": 1300.0, \\\"y\\\": 230000.0}, {\\\"x\\\": 2000.0, \\\"y\\\": 399950.0}, {\\\"x\\\": 3220.0, \\\"y\\\": 355000.0}, {\\\"x\\\": 2160.0, \\\"y\\\": 580000.0}, {\\\"x\\\": 2130.0, \\\"y\\\": 700000.0}, {\\\"x\\\": 1580.0, \\\"y\\\": 279900.0}, {\\\"x\\\": 1200.0, \\\"y\\\": 210000.0}, {\\\"x\\\": 3790.0, \\\"y\\\": 1165000.0}, {\\\"x\\\": 860.0, \\\"y\\\": 290300.0}, {\\\"x\\\": 5130.0, \\\"y\\\": 1599950.0}, {\\\"x\\\": 1600.0, \\\"y\\\": 490000.0}, {\\\"x\\\": 2110.0, \\\"y\\\": 606000.0}, {\\\"x\\\": 1400.0, \\\"y\\\": 359950.0}, {\\\"x\\\": 2110.0, \\\"y\\\": 677100.0}, {\\\"x\\\": 1430.0, \\\"y\\\": 465000.0}, {\\\"x\\\": 6640.0, \\\"y\\\": 4500000.0}, {\\\"x\\\": 3040.0, \\\"y\\\": 500000.0}, {\\\"x\\\": 980.0, \\\"y\\\": 455000.0}, {\\\"x\\\": 2570.0, \\\"y\\\": 705000.0}, {\\\"x\\\": 2060.0, \\\"y\\\": 420000.0}, {\\\"x\\\": 1300.0, \\\"y\\\": 169575.0}, {\\\"x\\\": 1300.0, \\\"y\\\": 250000.0}, {\\\"x\\\": 1680.0, \\\"y\\\": 530000.0}, {\\\"x\\\": 4020.0, \\\"y\\\": 590000.0}, {\\\"x\\\": 1530.0, \\\"y\\\": 257500.0}, {\\\"x\\\": 1170.0, \\\"y\\\": 415000.0}, {\\\"x\\\": 1580.0, \\\"y\\\": 536000.0}, {\\\"x\\\": 1270.0, \\\"y\\\": 246500.0}, {\\\"x\\\": 1480.0, \\\"y\\\": 395000.0}, {\\\"x\\\": 2220.0, \\\"y\\\": 739000.0}, {\\\"x\\\": 3200.0, \\\"y\\\": 1272000.0}, {\\\"x\\\": 910.0, \\\"y\\\": 190000.0}, {\\\"x\\\": 1480.0, \\\"y\\\": 305000.0}, {\\\"x\\\": 3770.0, \\\"y\\\": 925000.0}, {\\\"x\\\": 3500.0, \\\"y\\\": 895000.0}, {\\\"x\\\": 1480.0, \\\"y\\\": 656000.0}, {\\\"x\\\": 1660.0, \\\"y\\\": 560000.0}, {\\\"x\\\": 2520.0, \\\"y\\\": 610000.0}, {\\\"x\\\": 2850.0, \\\"y\\\": 645000.0}, {\\\"x\\\": 2153.0, \\\"y\\\": 259000.0}, {\\\"x\\\": 3780.0, \\\"y\\\": 980000.0}, {\\\"x\\\": 3770.0, \\\"y\\\": 872000.0}, {\\\"x\\\": 3600.0, \\\"y\\\": 1000000.0}, {\\\"x\\\": 2980.0, \\\"y\\\": 900000.0}, {\\\"x\\\": 2320.0, \\\"y\\\": 475000.0}, {\\\"x\\\": 2980.0, \\\"y\\\": 350000.0}, {\\\"x\\\": 2930.0, \\\"y\\\": 840000.0}, {\\\"x\\\": 2040.0, \\\"y\\\": 500000.0}, {\\\"x\\\": 1510.0, \\\"y\\\": 202500.0}, {\\\"x\\\": 2660.0, \\\"y\\\": 523000.0}, {\\\"x\\\": 1740.0, \\\"y\\\": 225000.0}, {\\\"x\\\": 2240.0, \\\"y\\\": 418200.0}, {\\\"x\\\": 1570.0, \\\"y\\\": 356500.0}, {\\\"x\\\": 2500.0, \\\"y\\\": 670000.0}, {\\\"x\\\": 1750.0, \\\"y\\\": 456150.0}, {\\\"x\\\": 3030.0, \\\"y\\\": 471000.0}, {\\\"x\\\": 1680.0, \\\"y\\\": 558000.0}, {\\\"x\\\": 5740.0, \\\"y\\\": 1380000.0}, {\\\"x\\\": 1220.0, \\\"y\\\": 161500.0}, {\\\"x\\\": 1310.0, \\\"y\\\": 311000.0}, {\\\"x\\\": 2490.0, \\\"y\\\": 470000.0}, {\\\"x\\\": 2220.0, \\\"y\\\": 569000.0}, {\\\"x\\\": 2240.0, \\\"y\\\": 689000.0}, {\\\"x\\\": 1890.0, \\\"y\\\": 271900.0}, {\\\"x\\\": 1850.0, \\\"y\\\": 278000.0}, {\\\"x\\\": 2210.0, \\\"y\\\": 820000.0}, {\\\"x\\\": 1410.0, \\\"y\\\": 399500.0}, {\\\"x\\\": 1890.0, \\\"y\\\": 462000.0}, {\\\"x\\\": 1830.0, \\\"y\\\": 347500.0}, {\\\"x\\\": 1440.0, \\\"y\\\": 562100.0}, {\\\"x\\\": 950.0, \\\"y\\\": 230000.0}, {\\\"x\\\": 2370.0, \\\"y\\\": 687000.0}, {\\\"x\\\": 3070.0, \\\"y\\\": 725786.0}, {\\\"x\\\": 1300.0, \\\"y\\\": 315500.0}, {\\\"x\\\": 1300.0, \\\"y\\\": 312000.0}, {\\\"x\\\": 1210.0, \\\"y\\\": 343000.0}, {\\\"x\\\": 710.0, \\\"y\\\": 385195.0}, {\\\"x\\\": 2240.0, \\\"y\\\": 415000.0}, {\\\"x\\\": 3600.0, \\\"y\\\": 461000.0}, {\\\"x\\\": 1960.0, \\\"y\\\": 369990.0}, {\\\"x\\\": 1820.0, \\\"y\\\": 349950.0}, {\\\"x\\\": 1960.0, \\\"y\\\": 285750.0}, {\\\"x\\\": 1750.0, \\\"y\\\": 542500.0}, {\\\"x\\\": 3700.0, \\\"y\\\": 830000.0}, {\\\"x\\\": 2910.0, \\\"y\\\": 705000.0}, {\\\"x\\\": 1270.0, \\\"y\\\": 615000.0}, {\\\"x\\\": 720.0, \\\"y\\\": 184500.0}, {\\\"x\\\": 1040.0, \\\"y\\\": 412000.0}, {\\\"x\\\": 2210.0, \\\"y\\\": 250000.0}, {\\\"x\\\": 2060.0, \\\"y\\\": 580000.0}, {\\\"x\\\": 780.0, \\\"y\\\": 220000.0}, {\\\"x\\\": 2240.0, \\\"y\\\": 675000.0}, {\\\"x\\\": 800.0, \\\"y\\\": 373500.0}, {\\\"x\\\": 2440.0, \\\"y\\\": 662700.0}, {\\\"x\\\": 1460.0, \\\"y\\\": 239950.0}, {\\\"x\\\": 1150.0, \\\"y\\\": 383000.0}, {\\\"x\\\": 2650.0, \\\"y\\\": 485000.0}, {\\\"x\\\": 2600.0, \\\"y\\\": 610000.0}, {\\\"x\\\": 1820.0, \\\"y\\\": 545000.0}, {\\\"x\\\": 2560.0, \\\"y\\\": 780000.0}, {\\\"x\\\": 1714.0, \\\"y\\\": 305000.0}, {\\\"x\\\": 1330.0, \\\"y\\\": 405000.0}, {\\\"x\\\": 7350.0, \\\"y\\\": 1110000.0}, {\\\"x\\\": 2050.0, \\\"y\\\": 273000.0}, {\\\"x\\\": 1810.0, \\\"y\\\": 326500.0}, {\\\"x\\\": 1380.0, \\\"y\\\": 365000.0}, {\\\"x\\\": 3070.0, \\\"y\\\": 1000750.0}, {\\\"x\\\": 800.0, \\\"y\\\": 422500.0}, {\\\"x\\\": 2140.0, \\\"y\\\": 354450.0}, {\\\"x\\\": 1330.0, \\\"y\\\": 320000.0}, {\\\"x\\\": 1030.0, \\\"y\\\": 223000.0}, {\\\"x\\\": 1740.0, \\\"y\\\": 410000.0}, {\\\"x\\\": 1200.0, \\\"y\\\": 438000.0}, {\\\"x\\\": 1490.0, \\\"y\\\": 390000.0}, {\\\"x\\\": 1890.0, \\\"y\\\": 298500.0}, {\\\"x\\\": 3060.0, \\\"y\\\": 749999.0}, {\\\"x\\\": 3250.0, \\\"y\\\": 779000.0}, {\\\"x\\\": 2730.0, \\\"y\\\": 570000.0}, {\\\"x\\\": 810.0, \\\"y\\\": 385000.0}, {\\\"x\\\": 2240.0, \\\"y\\\": 649000.0}, {\\\"x\\\": 1740.0, \\\"y\\\": 283000.0}, {\\\"x\\\": 2380.0, \\\"y\\\": 699900.0}, {\\\"x\\\": 1540.0, \\\"y\\\": 278500.0}, {\\\"x\\\": 2340.0, \\\"y\\\": 700000.0}, {\\\"x\\\": 2710.0, \\\"y\\\": 535000.0}, {\\\"x\\\": 1310.0, \\\"y\\\": 234500.0}, {\\\"x\\\": 1390.0, \\\"y\\\": 374150.0}, {\\\"x\\\": 2201.0, \\\"y\\\": 397000.0}, {\\\"x\\\": 1960.0, \\\"y\\\": 613000.0}, {\\\"x\\\": 2850.0, \\\"y\\\": 1150000.0}, {\\\"x\\\": 1880.0, \\\"y\\\": 595000.0}, {\\\"x\\\": 2440.0, \\\"y\\\": 340000.0}, {\\\"x\\\": 2560.0, \\\"y\\\": 388000.0}, {\\\"x\\\": 1410.0, \\\"y\\\": 404000.0}, {\\\"x\\\": 2870.0, \\\"y\\\": 810000.0}, {\\\"x\\\": 2620.0, \\\"y\\\": 405000.0}, {\\\"x\\\": 2970.0, \\\"y\\\": 726000.0}, {\\\"x\\\": 1780.0, \\\"y\\\": 266000.0}, {\\\"x\\\": 3700.0, \\\"y\\\": 722500.0}, {\\\"x\\\": 1252.0, \\\"y\\\": 352000.0}, {\\\"x\\\": 1240.0, \\\"y\\\": 265000.0}, {\\\"x\\\": 2160.0, \\\"y\\\": 856000.0}, {\\\"x\\\": 2040.0, \\\"y\\\": 346950.0}, {\\\"x\\\": 3130.0, \\\"y\\\": 866059.0}, {\\\"x\\\": 2350.0, \\\"y\\\": 410000.0}, {\\\"x\\\": 1570.0, \\\"y\\\": 370000.0}, {\\\"x\\\": 1530.0, \\\"y\\\": 230000.0}, {\\\"x\\\": 1520.0, \\\"y\\\": 400000.0}, {\\\"x\\\": 1350.0, \\\"y\\\": 172000.0}, {\\\"x\\\": 1950.0, \\\"y\\\": 615000.0}, {\\\"x\\\": 3950.0, \\\"y\\\": 860000.0}, {\\\"x\\\": 2040.0, \\\"y\\\": 555000.0}, {\\\"x\\\": 1990.0, \\\"y\\\": 579000.0}, {\\\"x\\\": 1300.0, \\\"y\\\": 385000.0}, {\\\"x\\\": 2030.0, \\\"y\\\": 420000.0}, {\\\"x\\\": 2340.0, \\\"y\\\": 645000.0}, {\\\"x\\\": 2160.0, \\\"y\\\": 549950.0}, {\\\"x\\\": 2770.0, \\\"y\\\": 678000.0}, {\\\"x\\\": 2030.0, \\\"y\\\": 199000.0}, {\\\"x\\\": 1440.0, \\\"y\\\": 604000.0}, {\\\"x\\\": 1730.0, \\\"y\\\": 268000.0}, {\\\"x\\\": 4510.0, \\\"y\\\": 960000.0}, {\\\"x\\\": 2100.0, \\\"y\\\": 509250.0}, {\\\"x\\\": 1800.0, \\\"y\\\": 416000.0}, {\\\"x\\\": 1090.0, \\\"y\\\": 190000.0}, {\\\"x\\\": 1010.0, \\\"y\\\": 212000.0}, {\\\"x\\\": 2040.0, \\\"y\\\": 325900.0}, {\\\"x\\\": 2270.0, \\\"y\\\": 560000.0}, {\\\"x\\\": 1730.0, \\\"y\\\": 275000.0}, {\\\"x\\\": 2480.0, \\\"y\\\": 665000.0}, {\\\"x\\\": 3480.0, \\\"y\\\": 1505000.0}, {\\\"x\\\": 1720.0, \\\"y\\\": 375000.0}, {\\\"x\\\": 1570.0, \\\"y\\\": 359950.0}, {\\\"x\\\": 3527.0, \\\"y\\\": 340000.0}, {\\\"x\\\": 840.0, \\\"y\\\": 401000.0}, {\\\"x\\\": 1950.0, \\\"y\\\": 669000.0}, {\\\"x\\\": 1980.0, \\\"y\\\": 638500.0}, {\\\"x\\\": 1620.0, \\\"y\\\": 545000.0}, {\\\"x\\\": 1980.0, \\\"y\\\": 524000.0}, {\\\"x\\\": 3530.0, \\\"y\\\": 1610000.0}, {\\\"x\\\": 1260.0, \\\"y\\\": 280000.0}, {\\\"x\\\": 2120.0, \\\"y\\\": 828000.0}, {\\\"x\\\": 1360.0, \\\"y\\\": 223000.0}, {\\\"x\\\": 3100.0, \\\"y\\\": 1289000.0}, {\\\"x\\\": 2370.0, \\\"y\\\": 750000.0}, {\\\"x\\\": 1460.0, \\\"y\\\": 430000.0}, {\\\"x\\\": 1980.0, \\\"y\\\": 711000.0}, {\\\"x\\\": 1930.0, \\\"y\\\": 310000.0}, {\\\"x\\\": 3700.0, \\\"y\\\": 415000.0}, {\\\"x\\\": 1970.0, \\\"y\\\": 274900.0}, {\\\"x\\\": 2470.0, \\\"y\\\": 525000.0}, {\\\"x\\\": 1180.0, \\\"y\\\": 179500.0}, {\\\"x\\\": 1280.0, \\\"y\\\": 478000.0}, {\\\"x\\\": 1380.0, \\\"y\\\": 195000.0}, {\\\"x\\\": 2740.0, \\\"y\\\": 385000.0}, {\\\"x\\\": 2020.0, \\\"y\\\": 401000.0}, {\\\"x\\\": 2835.0, \\\"y\\\": 522000.0}, {\\\"x\\\": 1520.0, \\\"y\\\": 330000.0}, {\\\"x\\\": 2190.0, \\\"y\\\": 503000.0}, {\\\"x\\\": 1680.0, \\\"y\\\": 175000.0}, {\\\"x\\\": 3915.0, \\\"y\\\": 963990.0}, {\\\"x\\\": 1720.0, \\\"y\\\": 845000.0}, {\\\"x\\\": 670.0, \\\"y\\\": 157500.0}, {\\\"x\\\": 1790.0, \\\"y\\\": 450000.0}, {\\\"x\\\": 2440.0, \\\"y\\\": 925000.0}, {\\\"x\\\": 920.0, \\\"y\\\": 600000.0}, {\\\"x\\\": 1680.0, \\\"y\\\": 709000.0}, {\\\"x\\\": 3290.0, \\\"y\\\": 1385000.0}, {\\\"x\\\": 2120.0, \\\"y\\\": 248000.0}, {\\\"x\\\": 910.0, \\\"y\\\": 245000.0}, {\\\"x\\\": 1000.0, \\\"y\\\": 332000.0}, {\\\"x\\\": 2340.0, \\\"y\\\": 459950.0}, {\\\"x\\\": 1180.0, \\\"y\\\": 425000.0}, {\\\"x\\\": 2080.0, \\\"y\\\": 460000.0}, {\\\"x\\\": 3760.0, \\\"y\\\": 838300.0}, {\\\"x\\\": 1480.0, \\\"y\\\": 256000.0}, {\\\"x\\\": 3060.0, \\\"y\\\": 864000.0}, {\\\"x\\\": 3070.0, \\\"y\\\": 900000.0}, {\\\"x\\\": 1170.0, \\\"y\\\": 145600.0}, {\\\"x\\\": 2900.0, \\\"y\\\": 865000.0}, {\\\"x\\\": 2210.0, \\\"y\\\": 250250.0}, {\\\"x\\\": 1440.0, \\\"y\\\": 162000.0}, {\\\"x\\\": 1980.0, \\\"y\\\": 450000.0}, {\\\"x\\\": 2060.0, \\\"y\\\": 675500.0}, {\\\"x\\\": 2420.0, \\\"y\\\": 697000.0}, {\\\"x\\\": 3440.0, \\\"y\\\": 1324050.0}, {\\\"x\\\": 1600.0, \\\"y\\\": 490000.0}, {\\\"x\\\": 2210.0, \\\"y\\\": 590000.0}, {\\\"x\\\": 2250.0, \\\"y\\\": 280000.0}, {\\\"x\\\": 1680.0, \\\"y\\\": 515000.0}, {\\\"x\\\": 1140.0, \\\"y\\\": 576000.0}, {\\\"x\\\": 1430.0, \\\"y\\\": 375000.0}, {\\\"x\\\": 1440.0, \\\"y\\\": 478000.0}, {\\\"x\\\": 1670.0, \\\"y\\\": 282000.0}, {\\\"x\\\": 3080.0, \\\"y\\\": 1400000.0}, {\\\"x\\\": 4300.0, \\\"y\\\": 593500.0}, {\\\"x\\\": 3010.0, \\\"y\\\": 724950.0}, {\\\"x\\\": 1560.0, \\\"y\\\": 306000.0}, {\\\"x\\\": 1920.0, \\\"y\\\": 341000.0}, {\\\"x\\\": 1400.0, \\\"y\\\": 399950.0}, {\\\"x\\\": 2280.0, \\\"y\\\": 534000.0}, {\\\"x\\\": 3880.0, \\\"y\\\": 635000.0}, {\\\"x\\\": 1350.0, \\\"y\\\": 350000.0}, {\\\"x\\\": 1480.0, \\\"y\\\": 856000.0}, {\\\"x\\\": 1670.0, \\\"y\\\": 582000.0}, {\\\"x\\\": 3400.0, \\\"y\\\": 799000.0}, {\\\"x\\\": 2070.0, \\\"y\\\": 423700.0}, {\\\"x\\\": 4870.0, \\\"y\\\": 1835000.0}, {\\\"x\\\": 1760.0, \\\"y\\\": 322000.0}, {\\\"x\\\": 4030.0, \\\"y\\\": 929000.0}, {\\\"x\\\": 1130.0, \\\"y\\\": 443000.0}, {\\\"x\\\": 1510.0, \\\"y\\\": 441500.0}, {\\\"x\\\": 3110.0, \\\"y\\\": 875000.0}, {\\\"x\\\": 5020.0, \\\"y\\\": 3600000.0}, {\\\"x\\\": 740.0, \\\"y\\\": 450000.0}, {\\\"x\\\": 1630.0, \\\"y\\\": 425000.0}, {\\\"x\\\": 2780.0, \\\"y\\\": 660000.0}, {\\\"x\\\": 1990.0, \\\"y\\\": 763101.0}, {\\\"x\\\": 2250.0, \\\"y\\\": 499000.0}, {\\\"x\\\": 1720.0, \\\"y\\\": 521000.0}, {\\\"x\\\": 900.0, \\\"y\\\": 302000.0}, {\\\"x\\\": 2360.0, \\\"y\\\": 293000.0}, {\\\"x\\\": 1530.0, \\\"y\\\": 335000.0}, {\\\"x\\\": 1450.0, \\\"y\\\": 499000.0}, {\\\"x\\\": 2040.0, \\\"y\\\": 600000.0}, {\\\"x\\\": 2620.0, \\\"y\\\": 720000.0}, {\\\"x\\\": 1180.0, \\\"y\\\": 195000.0}, {\\\"x\\\": 1110.0, \\\"y\\\": 249000.0}, {\\\"x\\\": 1840.0, \\\"y\\\": 334000.0}, {\\\"x\\\": 2720.0, \\\"y\\\": 599950.0}, {\\\"x\\\": 1090.0, \\\"y\\\": 149900.0}, {\\\"x\\\": 1730.0, \\\"y\\\": 700000.0}, {\\\"x\\\": 1170.0, \\\"y\\\": 525000.0}, {\\\"x\\\": 4740.0, \\\"y\\\": 1049000.0}, {\\\"x\\\": 1960.0, \\\"y\\\": 402000.0}, {\\\"x\\\": 1430.0, \\\"y\\\": 450000.0}, {\\\"x\\\": 2510.0, \\\"y\\\": 520000.0}, {\\\"x\\\": 1420.0, \\\"y\\\": 205000.0}, {\\\"x\\\": 2680.0, \\\"y\\\": 635000.0}, {\\\"x\\\": 1220.0, \\\"y\\\": 210500.0}, {\\\"x\\\": 1070.0, \\\"y\\\": 406650.0}, {\\\"x\\\": 1580.0, \\\"y\\\": 350000.0}, {\\\"x\\\": 1820.0, \\\"y\\\": 425000.0}, {\\\"x\\\": 3590.0, \\\"y\\\": 798000.0}, {\\\"x\\\": 1960.0, \\\"y\\\": 180000.0}, {\\\"x\\\": 3160.0, \\\"y\\\": 1250000.0}, {\\\"x\\\": 2030.0, \\\"y\\\": 435000.0}, {\\\"x\\\": 1240.0, \\\"y\\\": 355000.0}, {\\\"x\\\": 5370.0, \\\"y\\\": 3000000.0}, {\\\"x\\\": 2670.0, \\\"y\\\": 685000.0}, {\\\"x\\\": 1640.0, \\\"y\\\": 311000.0}, {\\\"x\\\": 2130.0, \\\"y\\\": 305000.0}, {\\\"x\\\": 2550.0, \\\"y\\\": 675000.0}, {\\\"x\\\": 3630.0, \\\"y\\\": 769000.0}, {\\\"x\\\": 1690.0, \\\"y\\\": 430000.0}, {\\\"x\\\": 2390.0, \\\"y\\\": 516250.0}, {\\\"x\\\": 2350.0, \\\"y\\\": 760000.0}, {\\\"x\\\": 1420.0, \\\"y\\\": 579950.0}, {\\\"x\\\": 1570.0, \\\"y\\\": 476000.0}, {\\\"x\\\": 1600.0, \\\"y\\\": 510000.0}, {\\\"x\\\": 720.0, \\\"y\\\": 205000.0}, {\\\"x\\\": 1470.0, \\\"y\\\": 240000.0}, {\\\"x\\\": 2790.0, \\\"y\\\": 738000.0}, {\\\"x\\\": 1720.0, \\\"y\\\": 420000.0}, {\\\"x\\\": 1300.0, \\\"y\\\": 455000.0}, {\\\"x\\\": 2520.0, \\\"y\\\": 765000.0}, {\\\"x\\\": 1780.0, \\\"y\\\": 372000.0}, {\\\"x\\\": 1200.0, \\\"y\\\": 160000.0}, {\\\"x\\\": 2990.0, \\\"y\\\": 772000.0}, {\\\"x\\\": 1910.0, \\\"y\\\": 1125000.0}, {\\\"x\\\": 1370.0, \\\"y\\\": 479000.0}, {\\\"x\\\": 1910.0, \\\"y\\\": 570000.0}, {\\\"x\\\": 1170.0, \\\"y\\\": 350000.0}, {\\\"x\\\": 1250.0, \\\"y\\\": 353000.0}, {\\\"x\\\": 3340.0, \\\"y\\\": 699000.0}, {\\\"x\\\": 1380.0, \\\"y\\\": 265000.0}, {\\\"x\\\": 780.0, \\\"y\\\": 167000.0}, {\\\"x\\\": 2080.0, \\\"y\\\": 500000.0}, {\\\"x\\\": 1410.0, \\\"y\\\": 700000.0}, {\\\"x\\\": 520.0, \\\"y\\\": 295000.0}, {\\\"x\\\": 3500.0, \\\"y\\\": 1010000.0}, {\\\"x\\\": 840.0, \\\"y\\\": 209000.0}, {\\\"x\\\": 2240.0, \\\"y\\\": 276000.0}, {\\\"x\\\": 2100.0, \\\"y\\\": 380000.0}, {\\\"x\\\": 1750.0, \\\"y\\\": 315000.0}, {\\\"x\\\": 3130.0, \\\"y\\\": 685530.0}, {\\\"x\\\": 1470.0, \\\"y\\\": 254600.0}, {\\\"x\\\": 1440.0, \\\"y\\\": 230000.0}, {\\\"x\\\": 1430.0, \\\"y\\\": 335000.0}, {\\\"x\\\": 2170.0, \\\"y\\\": 550000.0}, {\\\"x\\\": 1150.0, \\\"y\\\": 123300.0}, {\\\"x\\\": 2170.0, \\\"y\\\": 275436.0}, {\\\"x\\\": 2630.0, \\\"y\\\": 325000.0}, {\\\"x\\\": 2490.0, \\\"y\\\": 635000.0}, {\\\"x\\\": 1710.0, \\\"y\\\": 513000.0}, {\\\"x\\\": 2130.0, \\\"y\\\": 580000.0}, {\\\"x\\\": 940.0, \\\"y\\\": 225000.0}, {\\\"x\\\": 1400.0, \\\"y\\\": 265000.0}, {\\\"x\\\": 1630.0, \\\"y\\\": 313000.0}, {\\\"x\\\": 1370.0, \\\"y\\\": 296000.0}, {\\\"x\\\": 2380.0, \\\"y\\\": 655500.0}, {\\\"x\\\": 2140.0, \\\"y\\\": 250750.0}, {\\\"x\\\": 1970.0, \\\"y\\\": 438000.0}, {\\\"x\\\": 2550.0, \\\"y\\\": 590000.0}, {\\\"x\\\": 1080.0, \\\"y\\\": 329500.0}, {\\\"x\\\": 3070.0, \\\"y\\\": 1195000.0}, {\\\"x\\\": 1470.0, \\\"y\\\": 415000.0}, {\\\"x\\\": 3620.0, \\\"y\\\": 900000.0}, {\\\"x\\\": 1050.0, \\\"y\\\": 378000.0}, {\\\"x\\\": 1050.0, \\\"y\\\": 474000.0}, {\\\"x\\\": 1320.0, \\\"y\\\": 464000.0}, {\\\"x\\\": 1210.0, \\\"y\\\": 310000.0}, {\\\"x\\\": 1860.0, \\\"y\\\": 580000.0}, {\\\"x\\\": 2830.0, \\\"y\\\": 999000.0}, {\\\"x\\\": 810.0, \\\"y\\\": 510000.0}, {\\\"x\\\": 1630.0, \\\"y\\\": 650000.0}, {\\\"x\\\": 880.0, \\\"y\\\": 196000.0}, {\\\"x\\\": 1660.0, \\\"y\\\": 220000.0}, {\\\"x\\\": 3440.0, \\\"y\\\": 855000.0}, {\\\"x\\\": 2110.0, \\\"y\\\": 483000.0}, {\\\"x\\\": 1060.0, \\\"y\\\": 400000.0}, {\\\"x\\\": 1900.0, \\\"y\\\": 435000.0}, {\\\"x\\\": 820.0, \\\"y\\\": 219500.0}, {\\\"x\\\": 4860.0, \\\"y\\\": 2950000.0}, {\\\"x\\\": 2050.0, \\\"y\\\": 427000.0}, {\\\"x\\\": 1090.0, \\\"y\\\": 430000.0}, {\\\"x\\\": 1090.0, \\\"y\\\": 685000.0}, {\\\"x\\\": 1920.0, \\\"y\\\": 495000.0}, {\\\"x\\\": 1870.0, \\\"y\\\": 299950.0}, {\\\"x\\\": 2690.0, \\\"y\\\": 390000.0}, {\\\"x\\\": 2160.0, \\\"y\\\": 385000.0}, {\\\"x\\\": 3000.0, \\\"y\\\": 740000.0}, {\\\"x\\\": 2290.0, \\\"y\\\": 991700.0}, {\\\"x\\\": 2250.0, \\\"y\\\": 765000.0}, {\\\"x\\\": 2130.0, \\\"y\\\": 802000.0}, {\\\"x\\\": 2500.0, \\\"y\\\": 950000.0}, {\\\"x\\\": 2300.0, \\\"y\\\": 392000.0}, {\\\"x\\\": 3360.0, \\\"y\\\": 590000.0}, {\\\"x\\\": 1920.0, \\\"y\\\": 425000.0}, {\\\"x\\\": 2440.0, \\\"y\\\": 765000.0}, {\\\"x\\\": 1440.0, \\\"y\\\": 313500.0}, {\\\"x\\\": 1780.0, \\\"y\\\": 320000.0}, {\\\"x\\\": 1490.0, \\\"y\\\": 604000.0}, {\\\"x\\\": 1400.0, \\\"y\\\": 570000.0}, {\\\"x\\\": 2150.0, \\\"y\\\": 639000.0}, {\\\"x\\\": 1910.0, \\\"y\\\": 335000.0}, {\\\"x\\\": 2660.0, \\\"y\\\": 896000.0}, {\\\"x\\\": 1650.0, \\\"y\\\": 259500.0}, {\\\"x\\\": 1980.0, \\\"y\\\": 637000.0}, {\\\"x\\\": 2690.0, \\\"y\\\": 307450.0}, {\\\"x\\\": 1380.0, \\\"y\\\": 535000.0}, {\\\"x\\\": 2500.0, \\\"y\\\": 669500.0}, {\\\"x\\\": 1590.0, \\\"y\\\": 259000.0}, {\\\"x\\\": 1100.0, \\\"y\\\": 441000.0}, {\\\"x\\\": 1470.0, \\\"y\\\": 228800.0}, {\\\"x\\\": 1680.0, \\\"y\\\": 530000.0}, {\\\"x\\\": 1450.0, \\\"y\\\": 524000.0}, {\\\"x\\\": 2020.0, \\\"y\\\": 430000.0}, {\\\"x\\\": 2470.0, \\\"y\\\": 1325000.0}, {\\\"x\\\": 1230.0, \\\"y\\\": 210000.0}, {\\\"x\\\": 1850.0, \\\"y\\\": 449000.0}, {\\\"x\\\": 2540.0, \\\"y\\\": 945000.0}, {\\\"x\\\": 970.0, \\\"y\\\": 200450.0}, {\\\"x\\\": 1070.0, \\\"y\\\": 219950.0}, {\\\"x\\\": 2620.0, \\\"y\\\": 659500.0}, {\\\"x\\\": 2110.0, \\\"y\\\": 746000.0}, {\\\"x\\\": 2110.0, \\\"y\\\": 540000.0}, {\\\"x\\\": 1910.0, \\\"y\\\": 485000.0}, {\\\"x\\\": 670.0, \\\"y\\\": 202000.0}, {\\\"x\\\": 6930.0, \\\"y\\\": 2525000.0}, {\\\"x\\\": 2010.0, \\\"y\\\": 502000.0}, {\\\"x\\\": 1770.0, \\\"y\\\": 279000.0}, {\\\"x\\\": 1340.0, \\\"y\\\": 409500.0}, {\\\"x\\\": 1660.0, \\\"y\\\": 453000.0}, {\\\"x\\\": 1820.0, \\\"y\\\": 367000.0}, {\\\"x\\\": 2510.0, \\\"y\\\": 550000.0}, {\\\"x\\\": 1560.0, \\\"y\\\": 273500.0}, {\\\"x\\\": 2280.0, \\\"y\\\": 505000.0}, {\\\"x\\\": 2650.0, \\\"y\\\": 770000.0}, {\\\"x\\\": 2470.0, \\\"y\\\": 565000.0}, {\\\"x\\\": 1270.0, \\\"y\\\": 316000.0}, {\\\"x\\\": 1520.0, \\\"y\\\": 160000.0}, {\\\"x\\\": 1310.0, \\\"y\\\": 170000.0}, {\\\"x\\\": 1310.0, \\\"y\\\": 235000.0}, {\\\"x\\\": 3930.0, \\\"y\\\": 1799000.0}, {\\\"x\\\": 990.0, \\\"y\\\": 310000.0}, {\\\"x\\\": 2080.0, \\\"y\\\": 285000.0}, {\\\"x\\\": 960.0, \\\"y\\\": 280000.0}, {\\\"x\\\": 4070.0, \\\"y\\\": 2298000.0}, {\\\"x\\\": 2750.0, \\\"y\\\": 763776.0}, {\\\"x\\\": 3230.0, \\\"y\\\": 530000.0}, {\\\"x\\\": 890.0, \\\"y\\\": 362000.0}, {\\\"x\\\": 990.0, \\\"y\\\": 430000.0}, {\\\"x\\\": 1290.0, \\\"y\\\": 456500.0}, {\\\"x\\\": 2170.0, \\\"y\\\": 445000.0}, {\\\"x\\\": 1330.0, \\\"y\\\": 386900.0}, {\\\"x\\\": 1340.0, \\\"y\\\": 479000.0}, {\\\"x\\\": 2200.0, \\\"y\\\": 525000.0}, {\\\"x\\\": 2520.0, \\\"y\\\": 272000.0}, {\\\"x\\\": 1180.0, \\\"y\\\": 517000.0}, {\\\"x\\\": 2660.0, \\\"y\\\": 615000.0}, {\\\"x\\\": 1250.0, \\\"y\\\": 439000.0}, {\\\"x\\\": 2270.0, \\\"y\\\": 716000.0}, {\\\"x\\\": 1080.0, \\\"y\\\": 308000.0}, {\\\"x\\\": 1620.0, \\\"y\\\": 800000.0}, {\\\"x\\\": 940.0, \\\"y\\\": 575000.0}, {\\\"x\\\": 1620.0, \\\"y\\\": 219950.0}, {\\\"x\\\": 2350.0, \\\"y\\\": 770000.0}, {\\\"x\\\": 2090.0, \\\"y\\\": 424950.0}, {\\\"x\\\": 1760.0, \\\"y\\\": 387000.0}, {\\\"x\\\": 2050.0, \\\"y\\\": 790000.0}, {\\\"x\\\": 600.0, \\\"y\\\": 156000.0}, {\\\"x\\\": 2540.0, \\\"y\\\": 580000.0}, {\\\"x\\\": 2090.0, \\\"y\\\": 490000.0}, {\\\"x\\\": 2700.0, \\\"y\\\": 950000.0}, {\\\"x\\\": 1410.0, \\\"y\\\": 400000.0}, {\\\"x\\\": 1170.0, \\\"y\\\": 325000.0}, {\\\"x\\\": 2540.0, \\\"y\\\": 365000.0}, {\\\"x\\\": 2190.0, \\\"y\\\": 255000.0}, {\\\"x\\\": 3890.0, \\\"y\\\": 985000.0}, {\\\"x\\\": 2030.0, \\\"y\\\": 595000.0}, {\\\"x\\\": 1350.0, \\\"y\\\": 427500.0}, {\\\"x\\\": 1940.0, \\\"y\\\": 728000.0}, {\\\"x\\\": 1260.0, \\\"y\\\": 549950.0}, {\\\"x\\\": 2800.0, \\\"y\\\": 650000.0}, {\\\"x\\\": 3080.0, \\\"y\\\": 1125000.0}, {\\\"x\\\": 840.0, \\\"y\\\": 203000.0}, {\\\"x\\\": 860.0, \\\"y\\\": 311000.0}, {\\\"x\\\": 2400.0, \\\"y\\\": 387500.0}, {\\\"x\\\": 1640.0, \\\"y\\\": 370000.0}, {\\\"x\\\": 1060.0, \\\"y\\\": 228000.0}, {\\\"x\\\": 2080.0, \\\"y\\\": 740000.0}, {\\\"x\\\": 2090.0, \\\"y\\\": 200000.0}, {\\\"x\\\": 1240.0, \\\"y\\\": 660000.0}, {\\\"x\\\": 2030.0, \\\"y\\\": 275000.0}, {\\\"x\\\": 1120.0, \\\"y\\\": 708000.0}, {\\\"x\\\": 1270.0, \\\"y\\\": 280000.0}, {\\\"x\\\": 2260.0, \\\"y\\\": 325000.0}, {\\\"x\\\": 1780.0, \\\"y\\\": 495000.0}, {\\\"x\\\": 1780.0, \\\"y\\\": 691000.0}, {\\\"x\\\": 4080.0, \\\"y\\\": 2288000.0}, {\\\"x\\\": 2120.0, \\\"y\\\": 329500.0}, {\\\"x\\\": 2060.0, \\\"y\\\": 348000.0}, {\\\"x\\\": 1670.0, \\\"y\\\": 425000.0}, {\\\"x\\\": 1080.0, \\\"y\\\": 210000.0}, {\\\"x\\\": 1210.0, \\\"y\\\": 285000.0}, {\\\"x\\\": 990.0, \\\"y\\\": 222000.0}, {\\\"x\\\": 1720.0, \\\"y\\\": 200000.0}, {\\\"x\\\": 1530.0, \\\"y\\\": 247500.0}, {\\\"x\\\": 6550.0, \\\"y\\\": 1500000.0}, {\\\"x\\\": 1100.0, \\\"y\\\": 190000.0}, {\\\"x\\\": 3020.0, \\\"y\\\": 975000.0}, {\\\"x\\\": 3180.0, \\\"y\\\": 1130000.0}, {\\\"x\\\": 1830.0, \\\"y\\\": 283200.0}, {\\\"x\\\": 2540.0, \\\"y\\\": 650000.0}, {\\\"x\\\": 1770.0, \\\"y\\\": 449500.0}, {\\\"x\\\": 1470.0, \\\"y\\\": 400000.0}, {\\\"x\\\": 570.0, \\\"y\\\": 89950.0}, {\\\"x\\\": 960.0, \\\"y\\\": 158800.0}, {\\\"x\\\": 2940.0, \\\"y\\\": 870000.0}, {\\\"x\\\": 1000.0, \\\"y\\\": 196000.0}, {\\\"x\\\": 2450.0, \\\"y\\\": 850000.0}, {\\\"x\\\": 3310.0, \\\"y\\\": 775000.0}, {\\\"x\\\": 1670.0, \\\"y\\\": 483500.0}, {\\\"x\\\": 1620.0, \\\"y\\\": 387000.0}, {\\\"x\\\": 2990.0, \\\"y\\\": 900000.0}, {\\\"x\\\": 1240.0, \\\"y\\\": 336000.0}, {\\\"x\\\": 670.0, \\\"y\\\": 415000.0}, {\\\"x\\\": 1470.0, \\\"y\\\": 380000.0}, {\\\"x\\\": 1320.0, \\\"y\\\": 350000.0}, {\\\"x\\\": 6110.0, \\\"y\\\": 1320000.0}, {\\\"x\\\": 2440.0, \\\"y\\\": 765000.0}, {\\\"x\\\": 2900.0, \\\"y\\\": 527000.0}, {\\\"x\\\": 2310.0, \\\"y\\\": 524000.0}, {\\\"x\\\": 1110.0, \\\"y\\\": 448000.0}, {\\\"x\\\": 4100.0, \\\"y\\\": 775000.0}, {\\\"x\\\": 930.0, \\\"y\\\": 176500.0}, {\\\"x\\\": 2420.0, \\\"y\\\": 750000.0}, {\\\"x\\\": 2870.0, \\\"y\\\": 1265000.0}, {\\\"x\\\": 1480.0, \\\"y\\\": 250000.0}, {\\\"x\\\": 1960.0, \\\"y\\\": 759000.0}, {\\\"x\\\": 1470.0, \\\"y\\\": 640000.0}, {\\\"x\\\": 2460.0, \\\"y\\\": 990000.0}, {\\\"x\\\": 1960.0, \\\"y\\\": 395000.0}, {\\\"x\\\": 1160.0, \\\"y\\\": 275000.0}, {\\\"x\\\": 1910.0, \\\"y\\\": 390000.0}, {\\\"x\\\": 2720.0, \\\"y\\\": 752500.0}, {\\\"x\\\": 1020.0, \\\"y\\\": 450000.0}, {\\\"x\\\": 900.0, \\\"y\\\": 473000.0}, {\\\"x\\\": 1120.0, \\\"y\\\": 178500.0}, {\\\"x\\\": 2340.0, \\\"y\\\": 485000.0}, {\\\"x\\\": 1410.0, \\\"y\\\": 215000.0}, {\\\"x\\\": 1920.0, \\\"y\\\": 589000.0}, {\\\"x\\\": 1370.0, \\\"y\\\": 325000.0}, {\\\"x\\\": 1590.0, \\\"y\\\": 580000.0}, {\\\"x\\\": 1850.0, \\\"y\\\": 181100.0}, {\\\"x\\\": 1430.0, \\\"y\\\": 345000.0}, {\\\"x\\\": 1940.0, \\\"y\\\": 781000.0}, {\\\"x\\\": 1270.0, \\\"y\\\": 402500.0}, {\\\"x\\\": 1380.0, \\\"y\\\": 426000.0}, {\\\"x\\\": 1720.0, \\\"y\\\": 389000.0}, {\\\"x\\\": 4050.0, \\\"y\\\": 670000.0}, {\\\"x\\\": 3660.0, \\\"y\\\": 1506000.0}, {\\\"x\\\": 1870.0, \\\"y\\\": 288400.0}, {\\\"x\\\": 2230.0, \\\"y\\\": 700000.0}, {\\\"x\\\": 2020.0, \\\"y\\\": 830000.0}, {\\\"x\\\": 3690.0, \\\"y\\\": 1899000.0}, {\\\"x\\\": 1450.0, \\\"y\\\": 350500.0}, {\\\"x\\\": 1630.0, \\\"y\\\": 431000.0}, {\\\"x\\\": 1840.0, \\\"y\\\": 485000.0}, {\\\"x\\\": 1620.0, \\\"y\\\": 780000.0}, {\\\"x\\\": 1840.0, \\\"y\\\": 720000.0}, {\\\"x\\\": 1360.0, \\\"y\\\": 415000.0}, {\\\"x\\\": 2080.0, \\\"y\\\": 480000.0}, {\\\"x\\\": 2550.0, \\\"y\\\": 452250.0}, {\\\"x\\\": 2550.0, \\\"y\\\": 316000.0}, {\\\"x\\\": 1160.0, \\\"y\\\": 700000.0}, {\\\"x\\\": 1760.0, \\\"y\\\": 285000.0}, {\\\"x\\\": 1720.0, \\\"y\\\": 575000.0}, {\\\"x\\\": 2300.0, \\\"y\\\": 590000.0}, {\\\"x\\\": 2500.0, \\\"y\\\": 587500.0}, {\\\"x\\\": 1750.0, \\\"y\\\": 364000.0}, {\\\"x\\\": 1890.0, \\\"y\\\": 490000.0}, {\\\"x\\\": 1800.0, \\\"y\\\": 410000.0}, {\\\"x\\\": 2160.0, \\\"y\\\": 520000.0}, {\\\"x\\\": 1380.0, \\\"y\\\": 389000.0}, {\\\"x\\\": 1180.0, \\\"y\\\": 450000.0}, {\\\"x\\\": 2550.0, \\\"y\\\": 325000.0}, {\\\"x\\\": 1070.0, \\\"y\\\": 660000.0}, {\\\"x\\\": 2870.0, \\\"y\\\": 850000.0}, {\\\"x\\\": 1940.0, \\\"y\\\": 285000.0}, {\\\"x\\\": 870.0, \\\"y\\\": 395000.0}, {\\\"x\\\": 1550.0, \\\"y\\\": 440000.0}, {\\\"x\\\": 1400.0, \\\"y\\\": 249000.0}, {\\\"x\\\": 1210.0, \\\"y\\\": 635000.0}, {\\\"x\\\": 3430.0, \\\"y\\\": 515000.0}, {\\\"x\\\": 3020.0, \\\"y\\\": 1400000.0}, {\\\"x\\\": 950.0, \\\"y\\\": 200000.0}, {\\\"x\\\": 3370.0, \\\"y\\\": 1135000.0}, {\\\"x\\\": 1460.0, \\\"y\\\": 445000.0}, {\\\"x\\\": 1740.0, \\\"y\\\": 555000.0}, {\\\"x\\\": 1720.0, \\\"y\\\": 537000.0}, {\\\"x\\\": 1480.0, \\\"y\\\": 315000.0}, {\\\"x\\\": 3320.0, \\\"y\\\": 805000.0}, {\\\"x\\\": 3490.0, \\\"y\\\": 414000.0}, {\\\"x\\\": 1160.0, \\\"y\\\": 375000.0}, {\\\"x\\\": 3010.0, \\\"y\\\": 401000.0}, {\\\"x\\\": 1030.0, \\\"y\\\": 210000.0}, {\\\"x\\\": 980.0, \\\"y\\\": 365000.0}, {\\\"x\\\": 1990.0, \\\"y\\\": 178000.0}, {\\\"x\\\": 1790.0, \\\"y\\\": 710000.0}, {\\\"x\\\": 810.0, \\\"y\\\": 255000.0}, {\\\"x\\\": 2940.0, \\\"y\\\": 528000.0}, {\\\"x\\\": 4883.0, \\\"y\\\": 537000.0}, {\\\"x\\\": 1360.0, \\\"y\\\": 442000.0}, {\\\"x\\\": 1370.0, \\\"y\\\": 375000.0}, {\\\"x\\\": 2120.0, \\\"y\\\": 637250.0}, {\\\"x\\\": 1240.0, \\\"y\\\": 427500.0}, {\\\"x\\\": 2770.0, \\\"y\\\": 700000.0}, {\\\"x\\\": 1660.0, \\\"y\\\": 680000.0}, {\\\"x\\\": 1170.0, \\\"y\\\": 393820.0}, {\\\"x\\\": 2470.0, \\\"y\\\": 525000.0}, {\\\"x\\\": 1310.0, \\\"y\\\": 505000.0}, {\\\"x\\\": 1670.0, \\\"y\\\": 555565.0}, {\\\"x\\\": 1660.0, \\\"y\\\": 650000.0}, {\\\"x\\\": 3500.0, \\\"y\\\": 632500.0}, {\\\"x\\\": 1440.0, \\\"y\\\": 269000.0}, {\\\"x\\\": 2360.0, \\\"y\\\": 405000.0}, {\\\"x\\\": 3460.0, \\\"y\\\": 845000.0}, {\\\"x\\\": 1750.0, \\\"y\\\": 234000.0}, {\\\"x\\\": 1470.0, \\\"y\\\": 638000.0}, {\\\"x\\\": 1710.0, \\\"y\\\": 290000.0}, {\\\"x\\\": 520.0, \\\"y\\\": 262000.0}, {\\\"x\\\": 2350.0, \\\"y\\\": 270000.0}, {\\\"x\\\": 2380.0, \\\"y\\\": 875000.0}, {\\\"x\\\": 1920.0, \\\"y\\\": 299000.0}, {\\\"x\\\": 1580.0, \\\"y\\\": 551000.0}, {\\\"x\\\": 3070.0, \\\"y\\\": 350000.0}, {\\\"x\\\": 2660.0, \\\"y\\\": 1901000.0}, {\\\"x\\\": 1700.0, \\\"y\\\": 511718.0}, {\\\"x\\\": 5010.0, \\\"y\\\": 965000.0}, {\\\"x\\\": 2680.0, \\\"y\\\": 475000.0}, {\\\"x\\\": 2720.0, \\\"y\\\": 1062000.0}, {\\\"x\\\": 940.0, \\\"y\\\": 252000.0}, {\\\"x\\\": 3596.0, \\\"y\\\": 580000.0}, {\\\"x\\\": 1240.0, \\\"y\\\": 374950.0}, {\\\"x\\\": 4660.0, \\\"y\\\": 739000.0}, {\\\"x\\\": 1710.0, \\\"y\\\": 271000.0}, {\\\"x\\\": 930.0, \\\"y\\\": 230000.0}, {\\\"x\\\": 1430.0, \\\"y\\\": 210000.0}, {\\\"x\\\": 1650.0, \\\"y\\\": 350000.0}, {\\\"x\\\": 1560.0, \\\"y\\\": 491500.0}, {\\\"x\\\": 1870.0, \\\"y\\\": 325000.0}, {\\\"x\\\": 1320.0, \\\"y\\\": 190000.0}, {\\\"x\\\": 1400.0, \\\"y\\\": 658600.0}, {\\\"x\\\": 1940.0, \\\"y\\\": 299950.0}, {\\\"x\\\": 2000.0, \\\"y\\\": 464000.0}, {\\\"x\\\": 1640.0, \\\"y\\\": 308000.0}, {\\\"x\\\": 1020.0, \\\"y\\\": 625000.0}, {\\\"x\\\": 1630.0, \\\"y\\\": 240000.0}, {\\\"x\\\": 2940.0, \\\"y\\\": 530000.0}, {\\\"x\\\": 2120.0, \\\"y\\\": 1000000.0}, {\\\"x\\\": 790.0, \\\"y\\\": 439000.0}, {\\\"x\\\": 2020.0, \\\"y\\\": 575000.0}, {\\\"x\\\": 1530.0, \\\"y\\\": 418000.0}, {\\\"x\\\": 3250.0, \\\"y\\\": 1208000.0}, {\\\"x\\\": 2930.0, \\\"y\\\": 1100000.0}, {\\\"x\\\": 3150.0, \\\"y\\\": 1900000.0}, {\\\"x\\\": 2180.0, \\\"y\\\": 580000.0}, {\\\"x\\\": 1040.0, \\\"y\\\": 380000.0}, {\\\"x\\\": 880.0, \\\"y\\\": 256000.0}, {\\\"x\\\": 1400.0, \\\"y\\\": 349950.0}, {\\\"x\\\": 2600.0, \\\"y\\\": 691500.0}, {\\\"x\\\": 1590.0, \\\"y\\\": 556000.0}, {\\\"x\\\": 1610.0, \\\"y\\\": 218000.0}, {\\\"x\\\": 1390.0, \\\"y\\\": 425000.0}, {\\\"x\\\": 3710.0, \\\"y\\\": 935000.0}, {\\\"x\\\": 2360.0, \\\"y\\\": 732000.0}, {\\\"x\\\": 1440.0, \\\"y\\\": 805500.0}, {\\\"x\\\": 1400.0, \\\"y\\\": 507250.0}, {\\\"x\\\": 4600.0, \\\"y\\\": 800000.0}, {\\\"x\\\": 2100.0, \\\"y\\\": 600000.0}, {\\\"x\\\": 2010.0, \\\"y\\\": 627800.0}, {\\\"x\\\": 2550.0, \\\"y\\\": 660000.0}, {\\\"x\\\": 1240.0, \\\"y\\\": 153503.0}, {\\\"x\\\": 2090.0, \\\"y\\\": 456500.0}, {\\\"x\\\": 2770.0, \\\"y\\\": 1306000.0}, {\\\"x\\\": 3560.0, \\\"y\\\": 843500.0}, {\\\"x\\\": 1240.0, \\\"y\\\": 625000.0}, {\\\"x\\\": 1640.0, \\\"y\\\": 527000.0}, {\\\"x\\\": 3940.0, \\\"y\\\": 1965000.0}, {\\\"x\\\": 3150.0, \\\"y\\\": 1003000.0}, {\\\"x\\\": 2550.0, \\\"y\\\": 855000.0}, {\\\"x\\\": 3940.0, \\\"y\\\": 725000.0}, {\\\"x\\\": 580.0, \\\"y\\\": 315000.0}, {\\\"x\\\": 1330.0, \\\"y\\\": 180000.0}, {\\\"x\\\": 930.0, \\\"y\\\": 700000.0}, {\\\"x\\\": 1060.0, \\\"y\\\": 476500.0}, {\\\"x\\\": 1180.0, \\\"y\\\": 193000.0}, {\\\"x\\\": 1850.0, \\\"y\\\": 295000.0}, {\\\"x\\\": 820.0, \\\"y\\\": 363000.0}, {\\\"x\\\": 3600.0, \\\"y\\\": 875000.0}, {\\\"x\\\": 1850.0, \\\"y\\\": 257200.0}, {\\\"x\\\": 2240.0, \\\"y\\\": 555000.0}, {\\\"x\\\": 1860.0, \\\"y\\\": 380000.0}, {\\\"x\\\": 2390.0, \\\"y\\\": 282000.0}, {\\\"x\\\": 2040.0, \\\"y\\\": 545000.0}, {\\\"x\\\": 1900.0, \\\"y\\\": 550000.0}, {\\\"x\\\": 1900.0, \\\"y\\\": 921500.0}, {\\\"x\\\": 2200.0, \\\"y\\\": 885000.0}, {\\\"x\\\": 2280.0, \\\"y\\\": 820000.0}, {\\\"x\\\": 1090.0, \\\"y\\\": 289000.0}, {\\\"x\\\": 670.0, \\\"y\\\": 334000.0}, {\\\"x\\\": 1050.0, \\\"y\\\": 206000.0}, {\\\"x\\\": 2090.0, \\\"y\\\": 491950.0}, {\\\"x\\\": 2030.0, \\\"y\\\": 430000.0}, {\\\"x\\\": 1250.0, \\\"y\\\": 208000.0}, {\\\"x\\\": 2600.0, \\\"y\\\": 245000.0}, {\\\"x\\\": 640.0, \\\"y\\\": 426000.0}, {\\\"x\\\": 2120.0, \\\"y\\\": 400000.0}, {\\\"x\\\": 1330.0, \\\"y\\\": 553000.0}, {\\\"x\\\": 750.0, \\\"y\\\": 296000.0}, {\\\"x\\\": 2230.0, \\\"y\\\": 428000.0}, {\\\"x\\\": 1890.0, \\\"y\\\": 325000.0}, {\\\"x\\\": 820.0, \\\"y\\\": 294000.0}, {\\\"x\\\": 1880.0, \\\"y\\\": 410000.0}, {\\\"x\\\": 2360.0, \\\"y\\\": 590000.0}, {\\\"x\\\": 1850.0, \\\"y\\\": 445000.0}, {\\\"x\\\": 2310.0, \\\"y\\\": 921000.0}, {\\\"x\\\": 2520.0, \\\"y\\\": 496000.0}, {\\\"x\\\": 800.0, \\\"y\\\": 95000.0}, {\\\"x\\\": 1580.0, \\\"y\\\": 359000.0}, {\\\"x\\\": 2430.0, \\\"y\\\": 452500.0}, {\\\"x\\\": 2350.0, \\\"y\\\": 555000.0}, {\\\"x\\\": 3800.0, \\\"y\\\": 549900.0}, {\\\"x\\\": 3670.0, \\\"y\\\": 569000.0}, {\\\"x\\\": 1780.0, \\\"y\\\": 318500.0}, {\\\"x\\\": 1295.0, \\\"y\\\": 487028.0}, {\\\"x\\\": 1350.0, \\\"y\\\": 240000.0}, {\\\"x\\\": 1440.0, \\\"y\\\": 253000.0}, {\\\"x\\\": 1320.0, \\\"y\\\": 380000.0}, {\\\"x\\\": 700.0, \\\"y\\\": 250000.0}, {\\\"x\\\": 2510.0, \\\"y\\\": 368500.0}, {\\\"x\\\": 3180.0, \\\"y\\\": 340000.0}, {\\\"x\\\": 910.0, \\\"y\\\": 400000.0}, {\\\"x\\\": 1570.0, \\\"y\\\": 835000.0}, {\\\"x\\\": 2450.0, \\\"y\\\": 299000.0}, {\\\"x\\\": 4910.0, \\\"y\\\": 1675000.0}, {\\\"x\\\": 1570.0, \\\"y\\\": 265000.0}, {\\\"x\\\": 2680.0, \\\"y\\\": 437500.0}, {\\\"x\\\": 2090.0, \\\"y\\\": 865000.0}, {\\\"x\\\": 2150.0, \\\"y\\\": 626000.0}, {\\\"x\\\": 1140.0, \\\"y\\\": 247300.0}, {\\\"x\\\": 4230.0, \\\"y\\\": 2075000.0}, {\\\"x\\\": 1790.0, \\\"y\\\": 425000.0}, {\\\"x\\\": 3100.0, \\\"y\\\": 905000.0}, {\\\"x\\\": 2220.0, \\\"y\\\": 641250.0}, {\\\"x\\\": 2370.0, \\\"y\\\": 675000.0}, {\\\"x\\\": 4070.0, \\\"y\\\": 845000.0}, {\\\"x\\\": 1790.0, \\\"y\\\": 401500.0}, {\\\"x\\\": 1610.0, \\\"y\\\": 395000.0}, {\\\"x\\\": 2830.0, \\\"y\\\": 1100000.0}, {\\\"x\\\": 1010.0, \\\"y\\\": 145000.0}, {\\\"x\\\": 1560.0, \\\"y\\\": 900000.0}, {\\\"x\\\": 1330.0, \\\"y\\\": 374500.0}, {\\\"x\\\": 2330.0, \\\"y\\\": 850000.0}, {\\\"x\\\": 960.0, \\\"y\\\": 490000.0}, {\\\"x\\\": 1710.0, \\\"y\\\": 304000.0}, {\\\"x\\\": 2230.0, \\\"y\\\": 400000.0}, {\\\"x\\\": 1700.0, \\\"y\\\": 454000.0}, {\\\"x\\\": 1040.0, \\\"y\\\": 160000.0}, {\\\"x\\\": 1070.0, \\\"y\\\": 542000.0}, {\\\"x\\\": 3600.0, \\\"y\\\": 403500.0}, {\\\"x\\\": 2750.0, \\\"y\\\": 418000.0}, {\\\"x\\\": 1920.0, \\\"y\\\": 406000.0}, {\\\"x\\\": 1770.0, \\\"y\\\": 242500.0}, {\\\"x\\\": 2460.0, \\\"y\\\": 425000.0}, {\\\"x\\\": 1550.0, \\\"y\\\": 613000.0}, {\\\"x\\\": 1460.0, \\\"y\\\": 189000.0}, {\\\"x\\\": 2440.0, \\\"y\\\": 700000.0}, {\\\"x\\\": 1640.0, \\\"y\\\": 750000.0}, {\\\"x\\\": 1290.0, \\\"y\\\": 494000.0}, {\\\"x\\\": 3150.0, \\\"y\\\": 700000.0}, {\\\"x\\\": 2305.0, \\\"y\\\": 705000.0}, {\\\"x\\\": 1060.0, \\\"y\\\": 356000.0}, {\\\"x\\\": 2060.0, \\\"y\\\": 625000.0}, {\\\"x\\\": 900.0, \\\"y\\\": 144975.0}, {\\\"x\\\": 3890.0, \\\"y\\\": 970000.0}, {\\\"x\\\": 1910.0, \\\"y\\\": 415000.0}, {\\\"x\\\": 2340.0, \\\"y\\\": 485000.0}, {\\\"x\\\": 2900.0, \\\"y\\\": 799950.0}, {\\\"x\\\": 3290.0, \\\"y\\\": 783350.0}, {\\\"x\\\": 630.0, \\\"y\\\": 430000.0}, {\\\"x\\\": 5410.0, \\\"y\\\": 2544750.0}, {\\\"x\\\": 4270.0, \\\"y\\\": 975000.0}, {\\\"x\\\": 1700.0, \\\"y\\\": 950000.0}, {\\\"x\\\": 1430.0, \\\"y\\\": 350000.0}, {\\\"x\\\": 2850.0, \\\"y\\\": 637000.0}, {\\\"x\\\": 2160.0, \\\"y\\\": 895000.0}, {\\\"x\\\": 1760.0, \\\"y\\\": 579000.0}, {\\\"x\\\": 2700.0, \\\"y\\\": 314900.0}, {\\\"x\\\": 860.0, \\\"y\\\": 122000.0}, {\\\"x\\\": 880.0, \\\"y\\\": 405000.0}, {\\\"x\\\": 1360.0, \\\"y\\\": 553650.0}, {\\\"x\\\": 1770.0, \\\"y\\\": 369900.0}, {\\\"x\\\": 2030.0, \\\"y\\\": 225000.0}, {\\\"x\\\": 1180.0, \\\"y\\\": 160000.0}, {\\\"x\\\": 2430.0, \\\"y\\\": 449500.0}, {\\\"x\\\": 1300.0, \\\"y\\\": 650000.0}, {\\\"x\\\": 2360.0, \\\"y\\\": 542126.0}, {\\\"x\\\": 1200.0, \\\"y\\\": 309950.0}, {\\\"x\\\": 1000.0, \\\"y\\\": 115000.0}, {\\\"x\\\": 1556.0, \\\"y\\\": 221700.0}, {\\\"x\\\": 1890.0, \\\"y\\\": 726000.0}, {\\\"x\\\": 1810.0, \\\"y\\\": 515000.0}, {\\\"x\\\": 2730.0, \\\"y\\\": 756000.0}, {\\\"x\\\": 3070.0, \\\"y\\\": 1570000.0}, {\\\"x\\\": 2080.0, \\\"y\\\": 442000.0}, {\\\"x\\\": 1620.0, \\\"y\\\": 260000.0}, {\\\"x\\\": 1150.0, \\\"y\\\": 390000.0}, {\\\"x\\\": 1250.0, \\\"y\\\": 459500.0}, {\\\"x\\\": 1430.0, \\\"y\\\": 330000.0}, {\\\"x\\\": 790.0, \\\"y\\\": 189000.0}, {\\\"x\\\": 1200.0, \\\"y\\\": 280000.0}, {\\\"x\\\": 2110.0, \\\"y\\\": 400000.0}, {\\\"x\\\": 3160.0, \\\"y\\\": 368000.0}, {\\\"x\\\": 2700.0, \\\"y\\\": 390000.0}, {\\\"x\\\": 820.0, \\\"y\\\": 245000.0}, {\\\"x\\\": 1800.0, \\\"y\\\": 375000.0}, {\\\"x\\\": 1750.0, \\\"y\\\": 465000.0}, {\\\"x\\\": 1540.0, \\\"y\\\": 445000.0}, {\\\"x\\\": 1130.0, \\\"y\\\": 250000.0}, {\\\"x\\\": 1500.0, \\\"y\\\": 475500.0}, {\\\"x\\\": 1600.0, \\\"y\\\": 672324.0}, {\\\"x\\\": 1200.0, \\\"y\\\": 420000.0}, {\\\"x\\\": 1690.0, \\\"y\\\": 515000.0}, {\\\"x\\\": 2270.0, \\\"y\\\": 732350.0}, {\\\"x\\\": 1910.0, \\\"y\\\": 297500.0}, {\\\"x\\\": 1640.0, \\\"y\\\": 475000.0}, {\\\"x\\\": 2120.0, \\\"y\\\": 414000.0}, {\\\"x\\\": 1400.0, \\\"y\\\": 357250.0}, {\\\"x\\\": 760.0, \\\"y\\\": 289950.0}, {\\\"x\\\": 1070.0, \\\"y\\\": 550000.0}, {\\\"x\\\": 1460.0, \\\"y\\\": 446000.0}, {\\\"x\\\": 1280.0, \\\"y\\\": 279000.0}, {\\\"x\\\": 1650.0, \\\"y\\\": 370000.0}, {\\\"x\\\": 1260.0, \\\"y\\\": 216000.0}, {\\\"x\\\": 2200.0, \\\"y\\\": 1100000.0}, {\\\"x\\\": 3560.0, \\\"y\\\": 1280600.0}, {\\\"x\\\": 1140.0, \\\"y\\\": 355000.0}, {\\\"x\\\": 2550.0, \\\"y\\\": 699000.0}, {\\\"x\\\": 1553.0, \\\"y\\\": 412000.0}, {\\\"x\\\": 1140.0, \\\"y\\\": 276000.0}, {\\\"x\\\": 790.0, \\\"y\\\": 100000.0}, {\\\"x\\\": 2130.0, \\\"y\\\": 955500.0}, {\\\"x\\\": 1390.0, \\\"y\\\": 199000.0}, {\\\"x\\\": 4000.0, \\\"y\\\": 762000.0}, {\\\"x\\\": 1520.0, \\\"y\\\": 425000.0}, {\\\"x\\\": 1657.0, \\\"y\\\": 546000.0}, {\\\"x\\\": 1680.0, \\\"y\\\": 419600.0}, {\\\"x\\\": 2270.0, \\\"y\\\": 735000.0}, {\\\"x\\\": 2470.0, \\\"y\\\": 1234568.0}, {\\\"x\\\": 1240.0, \\\"y\\\": 445000.0}, {\\\"x\\\": 1740.0, \\\"y\\\": 665000.0}, {\\\"x\\\": 4090.0, \\\"y\\\": 1290000.0}, {\\\"x\\\": 2520.0, \\\"y\\\": 508500.0}, {\\\"x\\\": 1340.0, \\\"y\\\": 345950.0}, {\\\"x\\\": 1640.0, \\\"y\\\": 207500.0}, {\\\"x\\\": 3000.0, \\\"y\\\": 1075000.0}, {\\\"x\\\": 1210.0, \\\"y\\\": 640000.0}, {\\\"x\\\": 1810.0, \\\"y\\\": 329500.0}, {\\\"x\\\": 2200.0, \\\"y\\\": 460000.0}, {\\\"x\\\": 2200.0, \\\"y\\\": 1230000.0}, {\\\"x\\\": 2350.0, \\\"y\\\": 805000.0}, {\\\"x\\\": 1090.0, \\\"y\\\": 200000.0}, {\\\"x\\\": 2280.0, \\\"y\\\": 749700.0}, {\\\"x\\\": 1430.0, \\\"y\\\": 288000.0}, {\\\"x\\\": 1520.0, \\\"y\\\": 535000.0}, {\\\"x\\\": 1620.0, \\\"y\\\": 330000.0}, {\\\"x\\\": 1510.0, \\\"y\\\": 479200.0}, {\\\"x\\\": 3001.0, \\\"y\\\": 373000.0}, {\\\"x\\\": 2020.0, \\\"y\\\": 355000.0}, {\\\"x\\\": 1380.0, \\\"y\\\": 275000.0}, {\\\"x\\\": 1520.0, \\\"y\\\": 380000.0}, {\\\"x\\\": 1090.0, \\\"y\\\": 417000.0}, {\\\"x\\\": 4220.0, \\\"y\\\": 1165000.0}, {\\\"x\\\": 2520.0, \\\"y\\\": 598500.0}, {\\\"x\\\": 1760.0, \\\"y\\\": 629000.0}, {\\\"x\\\": 930.0, \\\"y\\\": 226950.0}, {\\\"x\\\": 2600.0, \\\"y\\\": 1225000.0}, {\\\"x\\\": 2180.0, \\\"y\\\": 415000.0}, {\\\"x\\\": 1910.0, \\\"y\\\": 595000.0}, {\\\"x\\\": 1100.0, \\\"y\\\": 209950.0}, {\\\"x\\\": 1760.0, \\\"y\\\": 568000.0}, {\\\"x\\\": 700.0, \\\"y\\\": 119900.0}, {\\\"x\\\": 1080.0, \\\"y\\\": 207000.0}, {\\\"x\\\": 1070.0, \\\"y\\\": 195000.0}, {\\\"x\\\": 1460.0, \\\"y\\\": 324950.0}, {\\\"x\\\": 1050.0, \\\"y\\\": 210000.0}, {\\\"x\\\": 3160.0, \\\"y\\\": 1078000.0}, {\\\"x\\\": 1400.0, \\\"y\\\": 325088.0}, {\\\"x\\\": 3120.0, \\\"y\\\": 790000.0}, {\\\"x\\\": 720.0, \\\"y\\\": 150000.0}, {\\\"x\\\": 2840.0, \\\"y\\\": 790000.0}, {\\\"x\\\": 1220.0, \\\"y\\\": 255000.0}, {\\\"x\\\": 2820.0, \\\"y\\\": 697000.0}, {\\\"x\\\": 840.0, \\\"y\\\": 457500.0}, {\\\"x\\\": 1610.0, \\\"y\\\": 690000.0}, {\\\"x\\\": 1860.0, \\\"y\\\": 967000.0}, {\\\"x\\\": 2260.0, \\\"y\\\": 980000.0}, {\\\"x\\\": 2450.0, \\\"y\\\": 619420.0}, {\\\"x\\\": 850.0, \\\"y\\\": 389000.0}, {\\\"x\\\": 1800.0, \\\"y\\\": 500000.0}, {\\\"x\\\": 1230.0, \\\"y\\\": 569000.0}, {\\\"x\\\": 2060.0, \\\"y\\\": 425000.0}, {\\\"x\\\": 2750.0, \\\"y\\\": 635000.0}, {\\\"x\\\": 1120.0, \\\"y\\\": 256500.0}, {\\\"x\\\": 3010.0, \\\"y\\\": 695000.0}, {\\\"x\\\": 1580.0, \\\"y\\\": 535000.0}, {\\\"x\\\": 2630.0, \\\"y\\\": 454200.0}, {\\\"x\\\": 790.0, \\\"y\\\": 418500.0}, {\\\"x\\\": 3110.0, \\\"y\\\": 749950.0}, {\\\"x\\\": 2130.0, \\\"y\\\": 338500.0}, {\\\"x\\\": 4520.0, \\\"y\\\": 1250000.0}, {\\\"x\\\": 1600.0, \\\"y\\\": 299950.0}, {\\\"x\\\": 1950.0, \\\"y\\\": 325000.0}, {\\\"x\\\": 2010.0, \\\"y\\\": 434000.0}, {\\\"x\\\": 2550.0, \\\"y\\\": 328950.0}, {\\\"x\\\": 5340.0, \\\"y\\\": 2095000.0}, {\\\"x\\\": 2000.0, \\\"y\\\": 570000.0}, {\\\"x\\\": 2170.0, \\\"y\\\": 802000.0}, {\\\"x\\\": 1550.0, \\\"y\\\": 525000.0}, {\\\"x\\\": 2790.0, \\\"y\\\": 700000.0}, {\\\"x\\\": 1980.0, \\\"y\\\": 350000.0}, {\\\"x\\\": 1190.0, \\\"y\\\": 277500.0}, {\\\"x\\\": 3650.0, \\\"y\\\": 1575000.0}, {\\\"x\\\": 1510.0, \\\"y\\\": 195000.0}, {\\\"x\\\": 1200.0, \\\"y\\\": 222000.0}, {\\\"x\\\": 2830.0, \\\"y\\\": 865000.0}, {\\\"x\\\": 1650.0, \\\"y\\\": 445000.0}, {\\\"x\\\": 1710.0, \\\"y\\\": 495800.0}, {\\\"x\\\": 1740.0, \\\"y\\\": 548500.0}, {\\\"x\\\": 1840.0, \\\"y\\\": 310000.0}, {\\\"x\\\": 1820.0, \\\"y\\\": 205000.0}, {\\\"x\\\": 3860.0, \\\"y\\\": 470000.0}, {\\\"x\\\": 1810.0, \\\"y\\\": 430000.0}, {\\\"x\\\": 1030.0, \\\"y\\\": 310000.0}, {\\\"x\\\": 1410.0, \\\"y\\\": 355000.0}, {\\\"x\\\": 2140.0, \\\"y\\\": 621500.0}, {\\\"x\\\": 1930.0, \\\"y\\\": 175000.0}, {\\\"x\\\": 1930.0, \\\"y\\\": 326000.0}, {\\\"x\\\": 1930.0, \\\"y\\\": 690000.0}, {\\\"x\\\": 2210.0, \\\"y\\\": 335000.0}, {\\\"x\\\": 1360.0, \\\"y\\\": 197000.0}, {\\\"x\\\": 1830.0, \\\"y\\\": 312500.0}, {\\\"x\\\": 2120.0, \\\"y\\\": 436000.0}, {\\\"x\\\": 2700.0, \\\"y\\\": 1015000.0}, {\\\"x\\\": 3160.0, \\\"y\\\": 805000.0}, {\\\"x\\\": 2770.0, \\\"y\\\": 652427.0}, {\\\"x\\\": 2240.0, \\\"y\\\": 1008000.0}, {\\\"x\\\": 2570.0, \\\"y\\\": 355000.0}, {\\\"x\\\": 880.0, \\\"y\\\": 334550.0}, {\\\"x\\\": 1820.0, \\\"y\\\": 557500.0}, {\\\"x\\\": 1660.0, \\\"y\\\": 277500.0}, {\\\"x\\\": 2200.0, \\\"y\\\": 300000.0}, {\\\"x\\\": 1640.0, \\\"y\\\": 325000.0}, {\\\"x\\\": 1650.0, \\\"y\\\": 402500.0}, {\\\"x\\\": 1420.0, \\\"y\\\": 461000.0}, {\\\"x\\\": 1270.0, \\\"y\\\": 540000.0}, {\\\"x\\\": 1070.0, \\\"y\\\": 385000.0}, {\\\"x\\\": 1060.0, \\\"y\\\": 480000.0}, {\\\"x\\\": 2190.0, \\\"y\\\": 539950.0}, {\\\"x\\\": 1940.0, \\\"y\\\": 529000.0}, {\\\"x\\\": 1300.0, \\\"y\\\": 417000.0}, {\\\"x\\\": 1330.0, \\\"y\\\": 405000.0}, {\\\"x\\\": 1940.0, \\\"y\\\": 299000.0}, {\\\"x\\\": 2100.0, \\\"y\\\": 299000.0}, {\\\"x\\\": 1290.0, \\\"y\\\": 372220.0}, {\\\"x\\\": 1560.0, \\\"y\\\": 494400.0}, {\\\"x\\\": 2630.0, \\\"y\\\": 280000.0}, {\\\"x\\\": 2100.0, \\\"y\\\": 277950.0}, {\\\"x\\\": 2070.0, \\\"y\\\": 770000.0}, {\\\"x\\\": 2960.0, \\\"y\\\": 760000.0}, {\\\"x\\\": 1300.0, \\\"y\\\": 230000.0}, {\\\"x\\\": 2520.0, \\\"y\\\": 525000.0}, {\\\"x\\\": 1150.0, \\\"y\\\": 307000.0}, {\\\"x\\\": 2030.0, \\\"y\\\": 253779.0}, {\\\"x\\\": 1880.0, \\\"y\\\": 405000.0}, {\\\"x\\\": 2320.0, \\\"y\\\": 360000.0}, {\\\"x\\\": 1050.0, \\\"y\\\": 521000.0}, {\\\"x\\\": 3030.0, \\\"y\\\": 680000.0}, {\\\"x\\\": 530.0, \\\"y\\\": 355000.0}, {\\\"x\\\": 1090.0, \\\"y\\\": 200000.0}, {\\\"x\\\": 2220.0, \\\"y\\\": 330000.0}, {\\\"x\\\": 1430.0, \\\"y\\\": 221000.0}, {\\\"x\\\": 3780.0, \\\"y\\\": 1598888.0}, {\\\"x\\\": 1560.0, \\\"y\\\": 310000.0}, {\\\"x\\\": 2220.0, \\\"y\\\": 862000.0}, {\\\"x\\\": 1140.0, \\\"y\\\": 200000.0}, {\\\"x\\\": 2540.0, \\\"y\\\": 630000.0}, {\\\"x\\\": 1440.0, \\\"y\\\": 432250.0}, {\\\"x\\\": 1570.0, \\\"y\\\": 478000.0}, {\\\"x\\\": 1860.0, \\\"y\\\": 249000.0}, {\\\"x\\\": 2440.0, \\\"y\\\": 495000.0}, {\\\"x\\\": 2100.0, \\\"y\\\": 630000.0}, {\\\"x\\\": 2150.0, \\\"y\\\": 550000.0}, {\\\"x\\\": 2440.0, \\\"y\\\": 350000.0}, {\\\"x\\\": 1930.0, \\\"y\\\": 270000.0}, {\\\"x\\\": 1830.0, \\\"y\\\": 488250.0}, {\\\"x\\\": 1850.0, \\\"y\\\": 248000.0}, {\\\"x\\\": 3210.0, \\\"y\\\": 889000.0}, {\\\"x\\\": 1090.0, \\\"y\\\": 375000.0}, {\\\"x\\\": 1870.0, \\\"y\\\": 933000.0}, {\\\"x\\\": 1920.0, \\\"y\\\": 625000.0}, {\\\"x\\\": 700.0, \\\"y\\\": 328000.0}, {\\\"x\\\": 3380.0, \\\"y\\\": 470000.0}, {\\\"x\\\": 2430.0, \\\"y\\\": 502500.0}, {\\\"x\\\": 1950.0, \\\"y\\\": 484000.0}, {\\\"x\\\": 900.0, \\\"y\\\": 252500.0}, {\\\"x\\\": 2060.0, \\\"y\\\": 610000.0}, {\\\"x\\\": 2180.0, \\\"y\\\": 419000.0}, {\\\"x\\\": 2140.0, \\\"y\\\": 322500.0}, {\\\"x\\\": 1730.0, \\\"y\\\": 563000.0}, {\\\"x\\\": 3140.0, \\\"y\\\": 464000.0}, {\\\"x\\\": 3010.0, \\\"y\\\": 870000.0}, {\\\"x\\\": 800.0, \\\"y\\\": 280000.0}, {\\\"x\\\": 3300.0, \\\"y\\\": 850000.0}, {\\\"x\\\": 1530.0, \\\"y\\\": 458950.0}, {\\\"x\\\": 760.0, \\\"y\\\": 122000.0}, {\\\"x\\\": 2450.0, \\\"y\\\": 525000.0}, {\\\"x\\\": 1000.0, \\\"y\\\": 286300.0}, {\\\"x\\\": 840.0, \\\"y\\\": 218450.0}, {\\\"x\\\": 1380.0, \\\"y\\\": 525000.0}, {\\\"x\\\": 1380.0, \\\"y\\\": 650000.0}, {\\\"x\\\": 2020.0, \\\"y\\\": 356000.0}, {\\\"x\\\": 1260.0, \\\"y\\\": 436500.0}, {\\\"x\\\": 1440.0, \\\"y\\\": 410000.0}, {\\\"x\\\": 1540.0, \\\"y\\\": 512500.0}, {\\\"x\\\": 1060.0, \\\"y\\\": 510000.0}, {\\\"x\\\": 1900.0, \\\"y\\\": 566000.0}, {\\\"x\\\": 2870.0, \\\"y\\\": 525000.0}, {\\\"x\\\": 1050.0, \\\"y\\\": 435000.0}, {\\\"x\\\": 1840.0, \\\"y\\\": 406500.0}, {\\\"x\\\": 3000.0, \\\"y\\\": 550000.0}, {\\\"x\\\": 1200.0, \\\"y\\\": 251000.0}, {\\\"x\\\": 1840.0, \\\"y\\\": 830000.0}, {\\\"x\\\": 2790.0, \\\"y\\\": 803000.0}, {\\\"x\\\": 970.0, \\\"y\\\": 206000.0}, {\\\"x\\\": 1070.0, \\\"y\\\": 200000.0}, {\\\"x\\\": 900.0, \\\"y\\\": 219000.0}, {\\\"x\\\": 2680.0, \\\"y\\\": 777000.0}, {\\\"x\\\": 2000.0, \\\"y\\\": 593700.0}, {\\\"x\\\": 1660.0, \\\"y\\\": 712500.0}, {\\\"x\\\": 1770.0, \\\"y\\\": 600000.0}, {\\\"x\\\": 1230.0, \\\"y\\\": 554663.0}, {\\\"x\\\": 1740.0, \\\"y\\\": 267000.0}, {\\\"x\\\": 1710.0, \\\"y\\\": 390000.0}, {\\\"x\\\": 2020.0, \\\"y\\\": 335000.0}, {\\\"x\\\": 2410.0, \\\"y\\\": 938000.0}, {\\\"x\\\": 2310.0, \\\"y\\\": 370000.0}, {\\\"x\\\": 2400.0, \\\"y\\\": 335000.0}, {\\\"x\\\": 3160.0, \\\"y\\\": 695000.0}, {\\\"x\\\": 1560.0, \\\"y\\\": 387500.0}, {\\\"x\\\": 1770.0, \\\"y\\\": 245000.0}, {\\\"x\\\": 1600.0, \\\"y\\\": 308550.0}, {\\\"x\\\": 1330.0, \\\"y\\\": 225000.0}, {\\\"x\\\": 2970.0, \\\"y\\\": 715000.0}, {\\\"x\\\": 1020.0, \\\"y\\\": 335000.0}, {\\\"x\\\": 2490.0, \\\"y\\\": 634000.0}, {\\\"x\\\": 1700.0, \\\"y\\\": 337500.0}, {\\\"x\\\": 850.0, \\\"y\\\": 440000.0}, {\\\"x\\\": 1250.0, \\\"y\\\": 350000.0}, {\\\"x\\\": 610.0, \\\"y\\\": 400000.0}, {\\\"x\\\": 3700.0, \\\"y\\\": 1288000.0}, {\\\"x\\\": 950.0, \\\"y\\\": 435000.0}, {\\\"x\\\": 3860.0, \\\"y\\\": 681000.0}, {\\\"x\\\": 1360.0, \\\"y\\\": 397000.0}, {\\\"x\\\": 3890.0, \\\"y\\\": 775000.0}, {\\\"x\\\": 1680.0, \\\"y\\\": 480000.0}, {\\\"x\\\": 1520.0, \\\"y\\\": 158000.0}, {\\\"x\\\": 2420.0, \\\"y\\\": 590000.0}, {\\\"x\\\": 3890.0, \\\"y\\\": 772500.0}, {\\\"x\\\": 2940.0, \\\"y\\\": 464500.0}, {\\\"x\\\": 1350.0, \\\"y\\\": 281000.0}, {\\\"x\\\": 2190.0, \\\"y\\\": 620000.0}, {\\\"x\\\": 2280.0, \\\"y\\\": 475000.0}, {\\\"x\\\": 1070.0, \\\"y\\\": 245000.0}, {\\\"x\\\": 2540.0, \\\"y\\\": 660000.0}, {\\\"x\\\": 2270.0, \\\"y\\\": 527500.0}, {\\\"x\\\": 1220.0, \\\"y\\\": 135000.0}, {\\\"x\\\": 1890.0, \\\"y\\\": 275000.0}, {\\\"x\\\": 1990.0, \\\"y\\\": 430000.0}, {\\\"x\\\": 1220.0, \\\"y\\\": 213500.0}, {\\\"x\\\": 2640.0, \\\"y\\\": 535000.0}, {\\\"x\\\": 1480.0, \\\"y\\\": 641000.0}, {\\\"x\\\": 2320.0, \\\"y\\\": 436300.0}, {\\\"x\\\": 2410.0, \\\"y\\\": 1440000.0}, {\\\"x\\\": 2090.0, \\\"y\\\": 830000.0}, {\\\"x\\\": 920.0, \\\"y\\\": 380000.0}, {\\\"x\\\": 850.0, \\\"y\\\": 132500.0}, {\\\"x\\\": 1130.0, \\\"y\\\": 179950.0}, {\\\"x\\\": 1260.0, \\\"y\\\": 188200.0}, {\\\"x\\\": 2090.0, \\\"y\\\": 659000.0}, {\\\"x\\\": 2020.0, \\\"y\\\": 317000.0}, {\\\"x\\\": 1970.0, \\\"y\\\": 625000.0}, {\\\"x\\\": 1820.0, \\\"y\\\": 350000.0}, {\\\"x\\\": 1840.0, \\\"y\\\": 750000.0}, {\\\"x\\\": 2100.0, \\\"y\\\": 457000.0}, {\\\"x\\\": 1770.0, \\\"y\\\": 632500.0}, {\\\"x\\\": 1110.0, \\\"y\\\": 223000.0}, {\\\"x\\\": 2090.0, \\\"y\\\": 610000.0}, {\\\"x\\\": 2080.0, \\\"y\\\": 385000.0}, {\\\"x\\\": 1400.0, \\\"y\\\": 367500.0}, {\\\"x\\\": 1060.0, \\\"y\\\": 385100.0}, {\\\"x\\\": 720.0, \\\"y\\\": 230000.0}, {\\\"x\\\": 1100.0, \\\"y\\\": 286000.0}, {\\\"x\\\": 1010.0, \\\"y\\\": 201700.0}, {\\\"x\\\": 5230.0, \\\"y\\\": 1350000.0}, {\\\"x\\\": 2420.0, \\\"y\\\": 525000.0}, {\\\"x\\\": 1200.0, \\\"y\\\": 361000.0}, {\\\"x\\\": 1950.0, \\\"y\\\": 530000.0}, {\\\"x\\\": 1870.0, \\\"y\\\": 455000.0}, {\\\"x\\\": 1310.0, \\\"y\\\": 421000.0}, {\\\"x\\\": 1520.0, \\\"y\\\": 640000.0}, {\\\"x\\\": 1270.0, \\\"y\\\": 240000.0}, {\\\"x\\\": 840.0, \\\"y\\\": 360000.0}, {\\\"x\\\": 900.0, \\\"y\\\": 157340.0}, {\\\"x\\\": 3010.0, \\\"y\\\": 1240000.0}, {\\\"x\\\": 1050.0, \\\"y\\\": 250000.0}, {\\\"x\\\": 3360.0, \\\"y\\\": 735000.0}, {\\\"x\\\": 5370.0, \\\"y\\\": 884900.0}, {\\\"x\\\": 2690.0, \\\"y\\\": 775000.0}, {\\\"x\\\": 1710.0, \\\"y\\\": 463000.0}, {\\\"x\\\": 1640.0, \\\"y\\\": 579000.0}, {\\\"x\\\": 4000.0, \\\"y\\\": 570000.0}, {\\\"x\\\": 4140.0, \\\"y\\\": 1060000.0}, {\\\"x\\\": 3140.0, \\\"y\\\": 375000.0}, {\\\"x\\\": 1320.0, \\\"y\\\": 422000.0}, {\\\"x\\\": 3080.0, \\\"y\\\": 866500.0}, {\\\"x\\\": 2500.0, \\\"y\\\": 705000.0}, {\\\"x\\\": 2520.0, \\\"y\\\": 470000.0}, {\\\"x\\\": 2350.0, \\\"y\\\": 360000.0}, {\\\"x\\\": 2570.0, \\\"y\\\": 795000.0}, {\\\"x\\\": 3100.0, \\\"y\\\": 800000.0}, {\\\"x\\\": 4730.0, \\\"y\\\": 2453500.0}, {\\\"x\\\": 1030.0, \\\"y\\\": 277284.0}, {\\\"x\\\": 1020.0, \\\"y\\\": 460000.0}, {\\\"x\\\": 2080.0, \\\"y\\\": 898888.0}, {\\\"x\\\": 1410.0, \\\"y\\\": 211000.0}, {\\\"x\\\": 1360.0, \\\"y\\\": 222000.0}, {\\\"x\\\": 2620.0, \\\"y\\\": 672000.0}, {\\\"x\\\": 2260.0, \\\"y\\\": 778000.0}, {\\\"x\\\": 1490.0, \\\"y\\\": 312500.0}, {\\\"x\\\": 2530.0, \\\"y\\\": 650000.0}, {\\\"x\\\": 3140.0, \\\"y\\\": 740000.0}, {\\\"x\\\": 1820.0, \\\"y\\\": 320000.0}, {\\\"x\\\": 1770.0, \\\"y\\\": 455000.0}, {\\\"x\\\": 4430.0, \\\"y\\\": 2450000.0}, {\\\"x\\\": 1490.0, \\\"y\\\": 500000.0}, {\\\"x\\\": 1790.0, \\\"y\\\": 325000.0}, {\\\"x\\\": 1710.0, \\\"y\\\": 416000.0}, {\\\"x\\\": 2070.0, \\\"y\\\": 495000.0}, {\\\"x\\\": 1140.0, \\\"y\\\": 549000.0}, {\\\"x\\\": 3930.0, \\\"y\\\": 589000.0}, {\\\"x\\\": 1100.0, \\\"y\\\": 194820.0}, {\\\"x\\\": 2260.0, \\\"y\\\": 405000.0}, {\\\"x\\\": 2260.0, \\\"y\\\": 625000.0}, {\\\"x\\\": 1130.0, \\\"y\\\": 205000.0}, {\\\"x\\\": 1950.0, \\\"y\\\": 345100.0}, {\\\"x\\\": 960.0, \\\"y\\\": 200000.0}, {\\\"x\\\": 4210.0, \\\"y\\\": 1905000.0}, {\\\"x\\\": 3430.0, \\\"y\\\": 524500.0}, {\\\"x\\\": 3470.0, \\\"y\\\": 598600.0}, {\\\"x\\\": 2140.0, \\\"y\\\": 367777.0}, {\\\"x\\\": 2520.0, \\\"y\\\": 750000.0}, {\\\"x\\\": 3550.0, \\\"y\\\": 575000.0}, {\\\"x\\\": 700.0, \\\"y\\\": 84000.0}, {\\\"x\\\": 740.0, \\\"y\\\": 255000.0}, {\\\"x\\\": 3300.0, \\\"y\\\": 1740000.0}, {\\\"x\\\": 1640.0, \\\"y\\\": 415000.0}, {\\\"x\\\": 2780.0, \\\"y\\\": 449900.0}, {\\\"x\\\": 1830.0, \\\"y\\\": 220000.0}, {\\\"x\\\": 3540.0, \\\"y\\\": 899000.0}, {\\\"x\\\": 1440.0, \\\"y\\\": 430000.0}, {\\\"x\\\": 2960.0, \\\"y\\\": 472500.0}, {\\\"x\\\": 3180.0, \\\"y\\\": 680000.0}, {\\\"x\\\": 3310.0, \\\"y\\\": 1650000.0}, {\\\"x\\\": 2390.0, \\\"y\\\": 810000.0}, {\\\"x\\\": 2460.0, \\\"y\\\": 605000.0}, {\\\"x\\\": 1630.0, \\\"y\\\": 522000.0}, {\\\"x\\\": 3490.0, \\\"y\\\": 759000.0}, {\\\"x\\\": 2500.0, \\\"y\\\": 411000.0}, {\\\"x\\\": 2080.0, \\\"y\\\": 286950.0}, {\\\"x\\\": 1290.0, \\\"y\\\": 440000.0}, {\\\"x\\\": 1700.0, \\\"y\\\": 149000.0}, {\\\"x\\\": 1700.0, \\\"y\\\": 284700.0}, {\\\"x\\\": 2540.0, \\\"y\\\": 374950.0}, {\\\"x\\\": 1180.0, \\\"y\\\": 816000.0}, {\\\"x\\\": 1520.0, \\\"y\\\": 533250.0}, {\\\"x\\\": 2390.0, \\\"y\\\": 689800.0}, {\\\"x\\\": 2740.0, \\\"y\\\": 775000.0}, {\\\"x\\\": 2190.0, \\\"y\\\": 702000.0}, {\\\"x\\\": 1350.0, \\\"y\\\": 160000.0}, {\\\"x\\\": 1350.0, \\\"y\\\": 255500.0}, {\\\"x\\\": 2980.0, \\\"y\\\": 949000.0}, {\\\"x\\\": 790.0, \\\"y\\\": 169500.0}, {\\\"x\\\": 2130.0, \\\"y\\\": 586000.0}, {\\\"x\\\": 2700.0, \\\"y\\\": 680000.0}, {\\\"x\\\": 3200.0, \\\"y\\\": 851500.0}, {\\\"x\\\": 1159.0, \\\"y\\\": 582500.0}, {\\\"x\\\": 3080.0, \\\"y\\\": 637000.0}, {\\\"x\\\": 1000.0, \\\"y\\\": 225000.0}, {\\\"x\\\": 2260.0, \\\"y\\\": 795000.0}, {\\\"x\\\": 2270.0, \\\"y\\\": 304999.0}, {\\\"x\\\": 760.0, \\\"y\\\": 95000.0}, {\\\"x\\\": 1420.0, \\\"y\\\": 240000.0}, {\\\"x\\\": 2500.0, \\\"y\\\": 772000.0}, {\\\"x\\\": 1450.0, \\\"y\\\": 245000.0}, {\\\"x\\\": 2500.0, \\\"y\\\": 430000.0}, {\\\"x\\\": 2210.0, \\\"y\\\": 799000.0}, {\\\"x\\\": 3020.0, \\\"y\\\": 880000.0}, {\\\"x\\\": 3290.0, \\\"y\\\": 750000.0}, {\\\"x\\\": 5780.0, \\\"y\\\": 2890000.0}, {\\\"x\\\": 1820.0, \\\"y\\\": 532000.0}, {\\\"x\\\": 2500.0, \\\"y\\\": 525000.0}, {\\\"x\\\": 1210.0, \\\"y\\\": 239000.0}, {\\\"x\\\": 1090.0, \\\"y\\\": 460000.0}, {\\\"x\\\": 1330.0, \\\"y\\\": 540000.0}, {\\\"x\\\": 890.0, \\\"y\\\": 475000.0}, {\\\"x\\\": 1360.0, \\\"y\\\": 445000.0}, {\\\"x\\\": 4220.0, \\\"y\\\": 1575000.0}, {\\\"x\\\": 3780.0, \\\"y\\\": 549950.0}, {\\\"x\\\": 2610.0, \\\"y\\\": 294950.0}, {\\\"x\\\": 1980.0, \\\"y\\\": 736000.0}, {\\\"x\\\": 1290.0, \\\"y\\\": 214946.0}, {\\\"x\\\": 3620.0, \\\"y\\\": 856000.0}, {\\\"x\\\": 2680.0, \\\"y\\\": 775000.0}, {\\\"x\\\": 1200.0, \\\"y\\\": 205000.0}, {\\\"x\\\": 1992.0, \\\"y\\\": 429592.0}, {\\\"x\\\": 1640.0, \\\"y\\\": 414250.0}, {\\\"x\\\": 1920.0, \\\"y\\\": 399950.0}, {\\\"x\\\": 1840.0, \\\"y\\\": 319990.0}, {\\\"x\\\": 1310.0, \\\"y\\\": 524000.0}, {\\\"x\\\": 1050.0, \\\"y\\\": 349950.0}, {\\\"x\\\": 2570.0, \\\"y\\\": 889000.0}, {\\\"x\\\": 930.0, \\\"y\\\": 300000.0}, {\\\"x\\\": 730.0, \\\"y\\\": 395000.0}, {\\\"x\\\": 1270.0, \\\"y\\\": 348000.0}, {\\\"x\\\": 1150.0, \\\"y\\\": 830000.0}, {\\\"x\\\": 820.0, \\\"y\\\": 173000.0}, {\\\"x\\\": 3000.0, \\\"y\\\": 585000.0}, {\\\"x\\\": 2220.0, \\\"y\\\": 576750.0}, {\\\"x\\\": 2500.0, \\\"y\\\": 495000.0}, {\\\"x\\\": 1540.0, \\\"y\\\": 216650.0}, {\\\"x\\\": 2750.0, \\\"y\\\": 615000.0}, {\\\"x\\\": 3130.0, \\\"y\\\": 675000.0}, {\\\"x\\\": 1430.0, \\\"y\\\": 510000.0}, {\\\"x\\\": 2680.0, \\\"y\\\": 630000.0}, {\\\"x\\\": 3010.0, \\\"y\\\": 359950.0}, {\\\"x\\\": 1530.0, \\\"y\\\": 265000.0}, {\\\"x\\\": 1240.0, \\\"y\\\": 210000.0}, {\\\"x\\\": 2260.0, \\\"y\\\": 367000.0}, {\\\"x\\\": 2820.0, \\\"y\\\": 1075000.0}, {\\\"x\\\": 3560.0, \\\"y\\\": 756000.0}, {\\\"x\\\": 1630.0, \\\"y\\\": 203000.0}, {\\\"x\\\": 2880.0, \\\"y\\\": 535000.0}, {\\\"x\\\": 2200.0, \\\"y\\\": 525000.0}, {\\\"x\\\": 1620.0, \\\"y\\\": 347500.0}, {\\\"x\\\": 1480.0, \\\"y\\\": 620000.0}, {\\\"x\\\": 2250.0, \\\"y\\\": 645000.0}, {\\\"x\\\": 3540.0, \\\"y\\\": 2200000.0}, {\\\"x\\\": 1790.0, \\\"y\\\": 280000.0}, {\\\"x\\\": 1400.0, \\\"y\\\": 432000.0}, {\\\"x\\\": 2390.0, \\\"y\\\": 790000.0}, {\\\"x\\\": 2400.0, \\\"y\\\": 635000.0}, {\\\"x\\\": 2050.0, \\\"y\\\": 442000.0}, {\\\"x\\\": 2640.0, \\\"y\\\": 490000.0}, {\\\"x\\\": 2320.0, \\\"y\\\": 250000.0}, {\\\"x\\\": 2440.0, \\\"y\\\": 1325000.0}, {\\\"x\\\": 1260.0, \\\"y\\\": 120000.0}, {\\\"x\\\": 6240.0, \\\"y\\\": 2950000.0}, {\\\"x\\\": 1930.0, \\\"y\\\": 325000.0}, {\\\"x\\\": 1200.0, \\\"y\\\": 210000.0}, {\\\"x\\\": 970.0, \\\"y\\\": 215000.0}, {\\\"x\\\": 1810.0, \\\"y\\\": 387000.0}, {\\\"x\\\": 1380.0, \\\"y\\\": 408000.0}, {\\\"x\\\": 1470.0, \\\"y\\\": 410000.0}, {\\\"x\\\": 1010.0, \\\"y\\\": 216000.0}, {\\\"x\\\": 1010.0, \\\"y\\\": 390000.0}, {\\\"x\\\": 1340.0, \\\"y\\\": 357000.0}, {\\\"x\\\": 970.0, \\\"y\\\": 215000.0}, {\\\"x\\\": 1122.0, \\\"y\\\": 265000.0}, {\\\"x\\\": 1670.0, \\\"y\\\": 589950.0}, {\\\"x\\\": 2840.0, \\\"y\\\": 440000.0}, {\\\"x\\\": 770.0, \\\"y\\\": 248000.0}, {\\\"x\\\": 2040.0, \\\"y\\\": 730000.0}, {\\\"x\\\": 3052.0, \\\"y\\\": 425000.0}, {\\\"x\\\": 2620.0, \\\"y\\\": 680000.0}, {\\\"x\\\": 3120.0, \\\"y\\\": 341500.0}, {\\\"x\\\": 1100.0, \\\"y\\\": 395000.0}, {\\\"x\\\": 3410.0, \\\"y\\\": 1225000.0}, {\\\"x\\\": 2510.0, \\\"y\\\": 695500.0}, {\\\"x\\\": 1680.0, \\\"y\\\": 308000.0}, {\\\"x\\\": 1960.0, \\\"y\\\": 422500.0}, {\\\"x\\\": 1040.0, \\\"y\\\": 418000.0}, {\\\"x\\\": 1750.0, \\\"y\\\": 385000.0}, {\\\"x\\\": 2170.0, \\\"y\\\": 876650.0}, {\\\"x\\\": 1639.0, \\\"y\\\": 450000.0}, {\\\"x\\\": 2100.0, \\\"y\\\": 418800.0}, {\\\"x\\\": 880.0, \\\"y\\\": 330000.0}, {\\\"x\\\": 1940.0, \\\"y\\\": 550000.0}, {\\\"x\\\": 2490.0, \\\"y\\\": 270000.0}, {\\\"x\\\": 2060.0, \\\"y\\\": 978500.0}, {\\\"x\\\": 2720.0, \\\"y\\\": 975000.0}, {\\\"x\\\": 2180.0, \\\"y\\\": 455000.0}, {\\\"x\\\": 3600.0, \\\"y\\\": 1415000.0}, {\\\"x\\\": 840.0, \\\"y\\\": 220000.0}, {\\\"x\\\": 2370.0, \\\"y\\\": 490000.0}, {\\\"x\\\": 2270.0, \\\"y\\\": 420000.0}, {\\\"x\\\": 2720.0, \\\"y\\\": 408500.0}, {\\\"x\\\": 1140.0, \\\"y\\\": 716000.0}, {\\\"x\\\": 2460.0, \\\"y\\\": 965000.0}, {\\\"x\\\": 1240.0, \\\"y\\\": 357823.0}, {\\\"x\\\": 10040.0, \\\"y\\\": 7062500.0}, {\\\"x\\\": 1670.0, \\\"y\\\": 425000.0}, {\\\"x\\\": 2220.0, \\\"y\\\": 711777.0}, {\\\"x\\\": 980.0, \\\"y\\\": 335000.0}, {\\\"x\\\": 1890.0, \\\"y\\\": 825000.0}, {\\\"x\\\": 1100.0, \\\"y\\\": 210000.0}, {\\\"x\\\": 2770.0, \\\"y\\\": 575000.0}, {\\\"x\\\": 4250.0, \\\"y\\\": 1208000.0}, {\\\"x\\\": 1370.0, \\\"y\\\": 431500.0}, {\\\"x\\\": 1480.0, \\\"y\\\": 475000.0}, {\\\"x\\\": 3770.0, \\\"y\\\": 1495000.0}, {\\\"x\\\": 2870.0, \\\"y\\\": 540000.0}, {\\\"x\\\": 3820.0, \\\"y\\\": 775000.0}, {\\\"x\\\": 1530.0, \\\"y\\\": 635000.0}, {\\\"x\\\": 4120.0, \\\"y\\\": 1300000.0}, {\\\"x\\\": 1590.0, \\\"y\\\": 405000.0}, {\\\"x\\\": 1520.0, \\\"y\\\": 210000.0}, {\\\"x\\\": 2350.0, \\\"y\\\": 880000.0}, {\\\"x\\\": 1370.0, \\\"y\\\": 239000.0}, {\\\"x\\\": 1540.0, \\\"y\\\": 515000.0}, {\\\"x\\\": 3786.0, \\\"y\\\": 1379900.0}, {\\\"x\\\": 1500.0, \\\"y\\\": 215000.0}, {\\\"x\\\": 1750.0, \\\"y\\\": 315000.0}, {\\\"x\\\": 1800.0, \\\"y\\\": 442500.0}, {\\\"x\\\": 1180.0, \\\"y\\\": 311000.0}, {\\\"x\\\": 830.0, \\\"y\\\": 425000.0}, {\\\"x\\\": 1540.0, \\\"y\\\": 433500.0}, {\\\"x\\\": 1610.0, \\\"y\\\": 450000.0}, {\\\"x\\\": 1990.0, \\\"y\\\": 675000.0}, {\\\"x\\\": 2070.0, \\\"y\\\": 535000.0}, {\\\"x\\\": 1760.0, \\\"y\\\": 577000.0}, {\\\"x\\\": 1740.0, \\\"y\\\": 480000.0}, {\\\"x\\\": 1950.0, \\\"y\\\": 400000.0}, {\\\"x\\\": 1280.0, \\\"y\\\": 304000.0}, {\\\"x\\\": 1460.0, \\\"y\\\": 355000.0}, {\\\"x\\\": 3770.0, \\\"y\\\": 998000.0}, {\\\"x\\\": 2410.0, \\\"y\\\": 550000.0}, {\\\"x\\\": 2410.0, \\\"y\\\": 550000.0}, {\\\"x\\\": 1400.0, \\\"y\\\": 210000.0}, {\\\"x\\\": 2100.0, \\\"y\\\": 317000.0}, {\\\"x\\\": 5360.0, \\\"y\\\": 700000.0}, {\\\"x\\\": 1000.0, \\\"y\\\": 265000.0}, {\\\"x\\\": 3150.0, \\\"y\\\": 700000.0}, {\\\"x\\\": 4180.0, \\\"y\\\": 1020000.0}, {\\\"x\\\": 2840.0, \\\"y\\\": 1145000.0}, {\\\"x\\\": 2110.0, \\\"y\\\": 460000.0}, {\\\"x\\\": 1660.0, \\\"y\\\": 410000.0}, {\\\"x\\\": 2160.0, \\\"y\\\": 665000.0}, {\\\"x\\\": 2420.0, \\\"y\\\": 600000.0}, {\\\"x\\\": 1920.0, \\\"y\\\": 502000.0}, {\\\"x\\\": 2310.0, \\\"y\\\": 364950.0}, {\\\"x\\\": 2330.0, \\\"y\\\": 680000.0}, {\\\"x\\\": 2340.0, \\\"y\\\": 235500.0}, {\\\"x\\\": 2590.0, \\\"y\\\": 576000.0}, {\\\"x\\\": 1410.0, \\\"y\\\": 405000.0}, {\\\"x\\\": 2850.0, \\\"y\\\": 335000.0}, {\\\"x\\\": 730.0, \\\"y\\\": 122000.0}, {\\\"x\\\": 1470.0, \\\"y\\\": 432000.0}, {\\\"x\\\": 2330.0, \\\"y\\\": 375000.0}, {\\\"x\\\": 2460.0, \\\"y\\\": 276000.0}, {\\\"x\\\": 2080.0, \\\"y\\\": 450000.0}, {\\\"x\\\": 990.0, \\\"y\\\": 210000.0}, {\\\"x\\\": 1450.0, \\\"y\\\": 279000.0}, {\\\"x\\\": 1340.0, \\\"y\\\": 635000.0}, {\\\"x\\\": 2730.0, \\\"y\\\": 350000.0}, {\\\"x\\\": 1140.0, \\\"y\\\": 218000.0}, {\\\"x\\\": 1950.0, \\\"y\\\": 750000.0}, {\\\"x\\\": 2000.0, \\\"y\\\": 310597.0}, {\\\"x\\\": 900.0, \\\"y\\\": 355000.0}, {\\\"x\\\": 3390.0, \\\"y\\\": 735000.0}, {\\\"x\\\": 720.0, \\\"y\\\": 155000.0}, {\\\"x\\\": 940.0, \\\"y\\\": 354000.0}, {\\\"x\\\": 1770.0, \\\"y\\\": 415000.0}, {\\\"x\\\": 590.0, \\\"y\\\": 202000.0}, {\\\"x\\\": 1980.0, \\\"y\\\": 580000.0}, {\\\"x\\\": 3070.0, \\\"y\\\": 1495000.0}, {\\\"x\\\": 3500.0, \\\"y\\\": 790000.0}, {\\\"x\\\": 2100.0, \\\"y\\\": 499900.0}, {\\\"x\\\": 2620.0, \\\"y\\\": 525000.0}, {\\\"x\\\": 2810.0, \\\"y\\\": 810000.0}, {\\\"x\\\": 2290.0, \\\"y\\\": 425000.0}, {\\\"x\\\": 1350.0, \\\"y\\\": 241250.0}, {\\\"x\\\": 2770.0, \\\"y\\\": 318700.0}, {\\\"x\\\": 2530.0, \\\"y\\\": 720000.0}, {\\\"x\\\": 1280.0, \\\"y\\\": 291000.0}, {\\\"x\\\": 1060.0, \\\"y\\\": 420000.0}, {\\\"x\\\": 1000.0, \\\"y\\\": 210000.0}, {\\\"x\\\": 3870.0, \\\"y\\\": 645000.0}, {\\\"x\\\": 3370.0, \\\"y\\\": 762000.0}, {\\\"x\\\": 2290.0, \\\"y\\\": 247500.0}, {\\\"x\\\": 1670.0, \\\"y\\\": 282500.0}, {\\\"x\\\": 1460.0, \\\"y\\\": 395000.0}, {\\\"x\\\": 1770.0, \\\"y\\\": 295000.0}, {\\\"x\\\": 820.0, \\\"y\\\": 235000.0}, {\\\"x\\\": 1900.0, \\\"y\\\": 770000.0}, {\\\"x\\\": 1870.0, \\\"y\\\": 559950.0}, {\\\"x\\\": 1840.0, \\\"y\\\": 639000.0}, {\\\"x\\\": 1590.0, \\\"y\\\": 314950.0}, {\\\"x\\\": 1640.0, \\\"y\\\": 525000.0}, {\\\"x\\\": 3000.0, \\\"y\\\": 2400000.0}, {\\\"x\\\": 2160.0, \\\"y\\\": 820000.0}, {\\\"x\\\": 2490.0, \\\"y\\\": 1385000.0}, {\\\"x\\\": 1290.0, \\\"y\\\": 521450.0}, {\\\"x\\\": 3190.0, \\\"y\\\": 760750.0}, {\\\"x\\\": 1540.0, \\\"y\\\": 759600.0}, {\\\"x\\\": 2140.0, \\\"y\\\": 346150.0}, {\\\"x\\\": 980.0, \\\"y\\\": 390000.0}, {\\\"x\\\": 2450.0, \\\"y\\\": 359950.0}, {\\\"x\\\": 1360.0, \\\"y\\\": 430000.0}, {\\\"x\\\": 4610.0, \\\"y\\\": 960000.0}, {\\\"x\\\": 7480.0, \\\"y\\\": 800000.0}, {\\\"x\\\": 2860.0, \\\"y\\\": 1010000.0}, {\\\"x\\\": 1810.0, \\\"y\\\": 290000.0}, {\\\"x\\\": 2240.0, \\\"y\\\": 1350000.0}, {\\\"x\\\": 3610.0, \\\"y\\\": 777000.0}, {\\\"x\\\": 1450.0, \\\"y\\\": 526000.0}, {\\\"x\\\": 1450.0, \\\"y\\\": 550000.0}, {\\\"x\\\": 1820.0, \\\"y\\\": 276000.0}, {\\\"x\\\": 5620.0, \\\"y\\\": 2500000.0}, {\\\"x\\\": 2080.0, \\\"y\\\": 325000.0}, {\\\"x\\\": 1780.0, \\\"y\\\": 365000.0}, {\\\"x\\\": 4340.0, \\\"y\\\": 2150000.0}, {\\\"x\\\": 2860.0, \\\"y\\\": 825050.0}, {\\\"x\\\": 2540.0, \\\"y\\\": 690000.0}, {\\\"x\\\": 1140.0, \\\"y\\\": 390000.0}, {\\\"x\\\": 1320.0, \\\"y\\\": 385000.0}, {\\\"x\\\": 2040.0, \\\"y\\\": 619000.0}, {\\\"x\\\": 1790.0, \\\"y\\\": 494000.0}, {\\\"x\\\": 1910.0, \\\"y\\\": 412450.0}, {\\\"x\\\": 1460.0, \\\"y\\\": 580000.0}, {\\\"x\\\": 1420.0, \\\"y\\\": 269900.0}, {\\\"x\\\": 1790.0, \\\"y\\\": 704300.0}, {\\\"x\\\": 1390.0, \\\"y\\\": 267000.0}, {\\\"x\\\": 1880.0, \\\"y\\\": 310000.0}, {\\\"x\\\": 1570.0, \\\"y\\\": 227064.0}, {\\\"x\\\": 2690.0, \\\"y\\\": 925000.0}, {\\\"x\\\": 1670.0, \\\"y\\\": 245000.0}, {\\\"x\\\": 1040.0, \\\"y\\\": 339888.0}, {\\\"x\\\": 1560.0, \\\"y\\\": 439000.0}, {\\\"x\\\": 1470.0, \\\"y\\\": 400000.0}, {\\\"x\\\": 2070.0, \\\"y\\\": 560000.0}, {\\\"x\\\": 1370.0, \\\"y\\\": 703011.0}, {\\\"x\\\": 1120.0, \\\"y\\\": 363000.0}, {\\\"x\\\": 2640.0, \\\"y\\\": 650000.0}, {\\\"x\\\": 1030.0, \\\"y\\\": 299950.0}, {\\\"x\\\": 1120.0, \\\"y\\\": 228950.0}, {\\\"x\\\": 1730.0, \\\"y\\\": 465000.0}, {\\\"x\\\": 2090.0, \\\"y\\\": 725000.0}, {\\\"x\\\": 920.0, \\\"y\\\": 212500.0}, {\\\"x\\\": 2970.0, \\\"y\\\": 526000.0}, {\\\"x\\\": 1720.0, \\\"y\\\": 383000.0}, {\\\"x\\\": 1460.0, \\\"y\\\": 244000.0}, {\\\"x\\\": 1540.0, \\\"y\\\": 565000.0}, {\\\"x\\\": 2850.0, \\\"y\\\": 373000.0}, {\\\"x\\\": 1310.0, \\\"y\\\": 300000.0}, {\\\"x\\\": 2430.0, \\\"y\\\": 405000.0}, {\\\"x\\\": 1700.0, \\\"y\\\": 979000.0}, {\\\"x\\\": 2160.0, \\\"y\\\": 324888.0}, {\\\"x\\\": 860.0, \\\"y\\\": 445000.0}, {\\\"x\\\": 2050.0, \\\"y\\\": 761000.0}, {\\\"x\\\": 1650.0, \\\"y\\\": 435000.0}, {\\\"x\\\": 1570.0, \\\"y\\\": 252000.0}, {\\\"x\\\": 1660.0, \\\"y\\\": 350000.0}, {\\\"x\\\": 1220.0, \\\"y\\\": 875000.0}, {\\\"x\\\": 1220.0, \\\"y\\\": 940000.0}, {\\\"x\\\": 1780.0, \\\"y\\\": 280000.0}, {\\\"x\\\": 2180.0, \\\"y\\\": 450000.0}, {\\\"x\\\": 3520.0, \\\"y\\\": 905000.0}, {\\\"x\\\": 2220.0, \\\"y\\\": 382450.0}, {\\\"x\\\": 1610.0, \\\"y\\\": 246700.0}, {\\\"x\\\": 1070.0, \\\"y\\\": 220000.0}, {\\\"x\\\": 1060.0, \\\"y\\\": 555750.0}, {\\\"x\\\": 1160.0, \\\"y\\\": 262500.0}, {\\\"x\\\": 910.0, \\\"y\\\": 515000.0}, {\\\"x\\\": 2970.0, \\\"y\\\": 499500.0}, {\\\"x\\\": 790.0, \\\"y\\\": 135000.0}, {\\\"x\\\": 1540.0, \\\"y\\\": 462500.0}, {\\\"x\\\": 3130.0, \\\"y\\\": 937500.0}, {\\\"x\\\": 1470.0, \\\"y\\\": 458000.0}, {\\\"x\\\": 3160.0, \\\"y\\\": 845000.0}, {\\\"x\\\": 2675.0, \\\"y\\\": 660000.0}, {\\\"x\\\": 1340.0, \\\"y\\\": 265000.0}, {\\\"x\\\": 3830.0, \\\"y\\\": 599999.0}, {\\\"x\\\": 1800.0, \\\"y\\\": 280000.0}, {\\\"x\\\": 2990.0, \\\"y\\\": 1055000.0}, {\\\"x\\\": 3720.0, \\\"y\\\": 875000.0}, {\\\"x\\\": 920.0, \\\"y\\\": 125000.0}, {\\\"x\\\": 3280.0, \\\"y\\\": 634800.0}, {\\\"x\\\": 1440.0, \\\"y\\\": 269950.0}, {\\\"x\\\": 1940.0, \\\"y\\\": 359950.0}, {\\\"x\\\": 1590.0, \\\"y\\\": 417000.0}, {\\\"x\\\": 1340.0, \\\"y\\\": 389000.0}, {\\\"x\\\": 3770.0, \\\"y\\\": 1038000.0}, {\\\"x\\\": 2680.0, \\\"y\\\": 698000.0}, {\\\"x\\\": 2820.0, \\\"y\\\": 685000.0}, {\\\"x\\\": 1520.0, \\\"y\\\": 198500.0}, {\\\"x\\\": 2560.0, \\\"y\\\": 350000.0}, {\\\"x\\\": 3310.0, \\\"y\\\": 649950.0}, {\\\"x\\\": 1540.0, \\\"y\\\": 441000.0}, {\\\"x\\\": 1430.0, \\\"y\\\": 462600.0}, {\\\"x\\\": 2506.0, \\\"y\\\": 365070.0}, {\\\"x\\\": 2250.0, \\\"y\\\": 550000.0}, {\\\"x\\\": 2740.0, \\\"y\\\": 470000.0}, {\\\"x\\\": 1540.0, \\\"y\\\": 340000.0}, {\\\"x\\\": 4190.0, \\\"y\\\": 910000.0}, {\\\"x\\\": 1690.0, \\\"y\\\": 405000.0}, {\\\"x\\\": 1990.0, \\\"y\\\": 661000.0}, {\\\"x\\\": 2410.0, \\\"y\\\": 635000.0}, {\\\"x\\\": 1150.0, \\\"y\\\": 282000.0}, {\\\"x\\\": 1720.0, \\\"y\\\": 235000.0}, {\\\"x\\\": 1260.0, \\\"y\\\": 277500.0}, {\\\"x\\\": 2020.0, \\\"y\\\": 346500.0}, {\\\"x\\\": 2240.0, \\\"y\\\": 480000.0}, {\\\"x\\\": 1930.0, \\\"y\\\": 360000.0}, {\\\"x\\\": 1820.0, \\\"y\\\": 245000.0}, {\\\"x\\\": 1560.0, \\\"y\\\": 625000.0}, {\\\"x\\\": 2170.0, \\\"y\\\": 750500.0}, {\\\"x\\\": 1600.0, \\\"y\\\": 525000.0}, {\\\"x\\\": 3760.0, \\\"y\\\": 740000.0}, {\\\"x\\\": 1240.0, \\\"y\\\": 523000.0}, {\\\"x\\\": 1090.0, \\\"y\\\": 292000.0}, {\\\"x\\\": 2740.0, \\\"y\\\": 625000.0}, {\\\"x\\\": 3110.0, \\\"y\\\": 700000.0}, {\\\"x\\\": 1610.0, \\\"y\\\": 399950.0}, {\\\"x\\\": 1880.0, \\\"y\\\": 545000.0}, {\\\"x\\\": 1740.0, \\\"y\\\": 339999.0}, {\\\"x\\\": 3270.0, \\\"y\\\": 1210000.0}, {\\\"x\\\": 1990.0, \\\"y\\\": 545000.0}, {\\\"x\\\": 1960.0, \\\"y\\\": 260000.0}, {\\\"x\\\": 1680.0, \\\"y\\\": 526000.0}, {\\\"x\\\": 2910.0, \\\"y\\\": 701000.0}, {\\\"x\\\": 1500.0, \\\"y\\\": 290000.0}, {\\\"x\\\": 580.0, \\\"y\\\": 330600.0}, {\\\"x\\\": 2540.0, \\\"y\\\": 550500.0}, {\\\"x\\\": 950.0, \\\"y\\\": 430000.0}, {\\\"x\\\": 7080.0, \\\"y\\\": 4000000.0}, {\\\"x\\\": 810.0, \\\"y\\\": 260600.0}, {\\\"x\\\": 4080.0, \\\"y\\\": 825000.0}, {\\\"x\\\": 1820.0, \\\"y\\\": 378950.0}, {\\\"x\\\": 2650.0, \\\"y\\\": 435000.0}, {\\\"x\\\": 1670.0, \\\"y\\\": 631000.0}, {\\\"x\\\": 2480.0, \\\"y\\\": 415000.0}, {\\\"x\\\": 1240.0, \\\"y\\\": 222000.0}, {\\\"x\\\": 1390.0, \\\"y\\\": 245000.0}, {\\\"x\\\": 2880.0, \\\"y\\\": 720000.0}, {\\\"x\\\": 1060.0, \\\"y\\\": 215000.0}, {\\\"x\\\": 1070.0, \\\"y\\\": 579100.0}, {\\\"x\\\": 1640.0, \\\"y\\\": 522500.0}, {\\\"x\\\": 1510.0, \\\"y\\\": 489000.0}, {\\\"x\\\": 1230.0, \\\"y\\\": 240000.0}, {\\\"x\\\": 1510.0, \\\"y\\\": 420250.0}, {\\\"x\\\": 3180.0, \\\"y\\\": 523000.0}, {\\\"x\\\": 2260.0, \\\"y\\\": 628000.0}, {\\\"x\\\": 1920.0, \\\"y\\\": 320000.0}, {\\\"x\\\": 1980.0, \\\"y\\\": 359950.0}, {\\\"x\\\": 1200.0, \\\"y\\\": 232000.0}, {\\\"x\\\": 2020.0, \\\"y\\\": 810000.0}, {\\\"x\\\": 2010.0, \\\"y\\\": 245000.0}, {\\\"x\\\": 1930.0, \\\"y\\\": 273000.0}, {\\\"x\\\": 2710.0, \\\"y\\\": 1191000.0}, {\\\"x\\\": 1950.0, \\\"y\\\": 438000.0}, {\\\"x\\\": 2110.0, \\\"y\\\": 400000.0}, {\\\"x\\\": 1250.0, \\\"y\\\": 340000.0}, {\\\"x\\\": 1380.0, \\\"y\\\": 552000.0}, {\\\"x\\\": 2050.0, \\\"y\\\": 790000.0}, {\\\"x\\\": 1800.0, \\\"y\\\": 360000.0}, {\\\"x\\\": 1310.0, \\\"y\\\": 235000.0}, {\\\"x\\\": 1010.0, \\\"y\\\": 775000.0}, {\\\"x\\\": 1850.0, \\\"y\\\": 489200.0}, {\\\"x\\\": 1750.0, \\\"y\\\": 341000.0}, {\\\"x\\\": 2154.0, \\\"y\\\": 335000.0}, {\\\"x\\\": 1230.0, \\\"y\\\": 393500.0}, {\\\"x\\\": 1960.0, \\\"y\\\": 360000.0}, {\\\"x\\\": 1070.0, \\\"y\\\": 400800.0}, {\\\"x\\\": 1450.0, \\\"y\\\": 585000.0}, {\\\"x\\\": 3680.0, \\\"y\\\": 1600000.0}, {\\\"x\\\": 5760.0, \\\"y\\\": 2880500.0}, {\\\"x\\\": 1220.0, \\\"y\\\": 300000.0}, {\\\"x\\\": 2950.0, \\\"y\\\": 1045000.0}, {\\\"x\\\": 1340.0, \\\"y\\\": 360000.0}, {\\\"x\\\": 2870.0, \\\"y\\\": 665900.0}, {\\\"x\\\": 2590.0, \\\"y\\\": 470000.0}, {\\\"x\\\": 2090.0, \\\"y\\\": 581000.0}, {\\\"x\\\": 3000.0, \\\"y\\\": 527000.0}, {\\\"x\\\": 1730.0, \\\"y\\\": 423000.0}, {\\\"x\\\": 2850.0, \\\"y\\\": 875000.0}, {\\\"x\\\": 1020.0, \\\"y\\\": 410000.0}, {\\\"x\\\": 2200.0, \\\"y\\\": 606000.0}, {\\\"x\\\": 3240.0, \\\"y\\\": 654000.0}, {\\\"x\\\": 490.0, \\\"y\\\": 150000.0}, {\\\"x\\\": 2990.0, \\\"y\\\": 373000.0}, {\\\"x\\\": 2450.0, \\\"y\\\": 550000.0}, {\\\"x\\\": 1900.0, \\\"y\\\": 512500.0}, {\\\"x\\\": 2640.0, \\\"y\\\": 360000.0}, {\\\"x\\\": 1340.0, \\\"y\\\": 369000.0}, {\\\"x\\\": 3220.0, \\\"y\\\": 825000.0}, {\\\"x\\\": 930.0, \\\"y\\\": 255000.0}, {\\\"x\\\": 3240.0, \\\"y\\\": 1285000.0}, {\\\"x\\\": 2630.0, \\\"y\\\": 270000.0}, {\\\"x\\\": 1730.0, \\\"y\\\": 480680.0}, {\\\"x\\\": 2120.0, \\\"y\\\": 525000.0}, {\\\"x\\\": 880.0, \\\"y\\\": 291500.0}, {\\\"x\\\": 1800.0, \\\"y\\\": 305000.0}, {\\\"x\\\": 1600.0, \\\"y\\\": 285000.0}, {\\\"x\\\": 3280.0, \\\"y\\\": 1875000.0}, {\\\"x\\\": 3290.0, \\\"y\\\": 329500.0}, {\\\"x\\\": 2890.0, \\\"y\\\": 1570000.0}, {\\\"x\\\": 1730.0, \\\"y\\\": 379260.0}, {\\\"x\\\": 1590.0, \\\"y\\\": 356000.0}, {\\\"x\\\": 1710.0, \\\"y\\\": 571900.0}, {\\\"x\\\": 1995.0, \\\"y\\\": 271500.0}, {\\\"x\\\": 1300.0, \\\"y\\\": 390000.0}, {\\\"x\\\": 2720.0, \\\"y\\\": 550000.0}, {\\\"x\\\": 1360.0, \\\"y\\\": 755000.0}, {\\\"x\\\": 1590.0, \\\"y\\\": 509500.0}, {\\\"x\\\": 1200.0, \\\"y\\\": 486700.0}, {\\\"x\\\": 1170.0, \\\"y\\\": 527500.0}, {\\\"x\\\": 2010.0, \\\"y\\\": 475000.0}, {\\\"x\\\": 1880.0, \\\"y\\\": 268000.0}, {\\\"x\\\": 3250.0, \\\"y\\\": 562000.0}, {\\\"x\\\": 2270.0, \\\"y\\\": 780000.0}, {\\\"x\\\": 3680.0, \\\"y\\\": 700000.0}, {\\\"x\\\": 1880.0, \\\"y\\\": 710000.0}, {\\\"x\\\": 1050.0, \\\"y\\\": 445000.0}, {\\\"x\\\": 2250.0, \\\"y\\\": 729000.0}, {\\\"x\\\": 1689.0, \\\"y\\\": 384400.0}, {\\\"x\\\": 2860.0, \\\"y\\\": 815000.0}, {\\\"x\\\": 2710.0, \\\"y\\\": 865000.0}, {\\\"x\\\": 1770.0, \\\"y\\\": 514000.0}, {\\\"x\\\": 2820.0, \\\"y\\\": 615000.0}, {\\\"x\\\": 3400.0, \\\"y\\\": 865000.0}, {\\\"x\\\": 3110.0, \\\"y\\\": 755000.0}, {\\\"x\\\": 1480.0, \\\"y\\\": 425000.0}, {\\\"x\\\": 940.0, \\\"y\\\": 375000.0}, {\\\"x\\\": 2680.0, \\\"y\\\": 750000.0}, {\\\"x\\\": 3190.0, \\\"y\\\": 722000.0}, {\\\"x\\\": 1920.0, \\\"y\\\": 1011000.0}, {\\\"x\\\": 2610.0, \\\"y\\\": 725000.0}, {\\\"x\\\": 1040.0, \\\"y\\\": 170000.0}, {\\\"x\\\": 2880.0, \\\"y\\\": 845000.0}, {\\\"x\\\": 1450.0, \\\"y\\\": 271900.0}, {\\\"x\\\": 3902.0, \\\"y\\\": 1300000.0}, {\\\"x\\\": 2460.0, \\\"y\\\": 261500.0}, {\\\"x\\\": 2170.0, \\\"y\\\": 619500.0}, {\\\"x\\\": 1970.0, \\\"y\\\": 435000.0}, {\\\"x\\\": 1000.0, \\\"y\\\": 210000.0}, {\\\"x\\\": 1580.0, \\\"y\\\": 489950.0}, {\\\"x\\\": 2130.0, \\\"y\\\": 260000.0}, {\\\"x\\\": 1370.0, \\\"y\\\": 300000.0}, {\\\"x\\\": 2150.0, \\\"y\\\": 530000.0}, {\\\"x\\\": 1370.0, \\\"y\\\": 235000.0}, {\\\"x\\\": 1370.0, \\\"y\\\": 593500.0}, {\\\"x\\\": 3290.0, \\\"y\\\": 562000.0}, {\\\"x\\\": 3190.0, \\\"y\\\": 585000.0}, {\\\"x\\\": 4140.0, \\\"y\\\": 2400000.0}, {\\\"x\\\": 1690.0, \\\"y\\\": 199500.0}, {\\\"x\\\": 1690.0, \\\"y\\\": 544500.0}, {\\\"x\\\": 1430.0, \\\"y\\\": 394900.0}, {\\\"x\\\": 1980.0, \\\"y\\\": 912000.0}, {\\\"x\\\": 1490.0, \\\"y\\\": 260000.0}, {\\\"x\\\": 3620.0, \\\"y\\\": 858000.0}, {\\\"x\\\": 2720.0, \\\"y\\\": 1275000.0}, {\\\"x\\\": 1490.0, \\\"y\\\": 242150.0}, {\\\"x\\\": 1230.0, \\\"y\\\": 220000.0}, {\\\"x\\\": 1900.0, \\\"y\\\": 235000.0}, {\\\"x\\\": 1530.0, \\\"y\\\": 370000.0}, {\\\"x\\\": 2290.0, \\\"y\\\": 450000.0}, {\\\"x\\\": 2240.0, \\\"y\\\": 534950.0}, {\\\"x\\\": 3470.0, \\\"y\\\": 730000.0}, {\\\"x\\\": 3050.0, \\\"y\\\": 465000.0}, {\\\"x\\\": 1100.0, \\\"y\\\": 178000.0}, {\\\"x\\\": 1610.0, \\\"y\\\": 215000.0}, {\\\"x\\\": 1910.0, \\\"y\\\": 300000.0}, {\\\"x\\\": 1510.0, \\\"y\\\": 430000.0}, {\\\"x\\\": 1280.0, \\\"y\\\": 183000.0}, {\\\"x\\\": 1910.0, \\\"y\\\": 585000.0}, {\\\"x\\\": 1170.0, \\\"y\\\": 192950.0}, {\\\"x\\\": 1550.0, \\\"y\\\": 599000.0}, {\\\"x\\\": 1060.0, \\\"y\\\": 326500.0}, {\\\"x\\\": 1040.0, \\\"y\\\": 358803.0}, {\\\"x\\\": 1550.0, \\\"y\\\": 537000.0}, {\\\"x\\\": 2490.0, \\\"y\\\": 1155000.0}, {\\\"x\\\": 920.0, \\\"y\\\": 156000.0}, {\\\"x\\\": 1250.0, \\\"y\\\": 219000.0}, {\\\"x\\\": 2540.0, \\\"y\\\": 1190000.0}, {\\\"x\\\": 2190.0, \\\"y\\\": 248000.0}, {\\\"x\\\": 1340.0, \\\"y\\\": 340000.0}, {\\\"x\\\": 2410.0, \\\"y\\\": 899100.0}, {\\\"x\\\": 1830.0, \\\"y\\\": 346950.0}, {\\\"x\\\": 1850.0, \\\"y\\\": 330000.0}, {\\\"x\\\": 1410.0, \\\"y\\\": 325000.0}, {\\\"x\\\": 1460.0, \\\"y\\\": 315000.0}, {\\\"x\\\": 1500.0, \\\"y\\\": 649950.0}, {\\\"x\\\": 1130.0, \\\"y\\\": 316000.0}, {\\\"x\\\": 1620.0, \\\"y\\\": 386000.0}, {\\\"x\\\": 2330.0, \\\"y\\\": 535000.0}, {\\\"x\\\": 1520.0, \\\"y\\\": 600000.0}, {\\\"x\\\": 2840.0, \\\"y\\\": 339000.0}, {\\\"x\\\": 1520.0, \\\"y\\\": 167000.0}, {\\\"x\\\": 1740.0, \\\"y\\\": 430000.0}, {\\\"x\\\": 4000.0, \\\"y\\\": 688000.0}, {\\\"x\\\": 2780.0, \\\"y\\\": 834500.0}, {\\\"x\\\": 3500.0, \\\"y\\\": 1075000.0}, {\\\"x\\\": 1060.0, \\\"y\\\": 250000.0}, {\\\"x\\\": 1290.0, \\\"y\\\": 402500.0}, {\\\"x\\\": 2390.0, \\\"y\\\": 432500.0}, {\\\"x\\\": 2460.0, \\\"y\\\": 485000.0}, {\\\"x\\\": 2930.0, \\\"y\\\": 560000.0}, {\\\"x\\\": 2200.0, \\\"y\\\": 410000.0}, {\\\"x\\\": 1870.0, \\\"y\\\": 455000.0}, {\\\"x\\\": 2060.0, \\\"y\\\": 459500.0}, {\\\"x\\\": 1610.0, \\\"y\\\": 371000.0}, {\\\"x\\\": 2120.0, \\\"y\\\": 289500.0}, {\\\"x\\\": 1450.0, \\\"y\\\": 395000.0}, {\\\"x\\\": 1980.0, \\\"y\\\": 496752.0}, {\\\"x\\\": 860.0, \\\"y\\\": 227000.0}, {\\\"x\\\": 1460.0, \\\"y\\\": 330000.0}, {\\\"x\\\": 2590.0, \\\"y\\\": 480000.0}, {\\\"x\\\": 1120.0, \\\"y\\\": 290000.0}, {\\\"x\\\": 1340.0, \\\"y\\\": 281000.0}, {\\\"x\\\": 1780.0, \\\"y\\\": 705000.0}, {\\\"x\\\": 2920.0, \\\"y\\\": 1400000.0}, {\\\"x\\\": 2820.0, \\\"y\\\": 485000.0}, {\\\"x\\\": 1550.0, \\\"y\\\": 622000.0}, {\\\"x\\\": 1600.0, \\\"y\\\": 380000.0}, {\\\"x\\\": 3190.0, \\\"y\\\": 2125000.0}, {\\\"x\\\": 1960.0, \\\"y\\\": 561500.0}, {\\\"x\\\": 970.0, \\\"y\\\": 242000.0}, {\\\"x\\\": 1360.0, \\\"y\\\": 348500.0}, {\\\"x\\\": 1360.0, \\\"y\\\": 370000.0}, {\\\"x\\\": 3810.0, \\\"y\\\": 752000.0}, {\\\"x\\\": 1340.0, \\\"y\\\": 230000.0}, {\\\"x\\\": 1990.0, \\\"y\\\": 715000.0}, {\\\"x\\\": 1120.0, \\\"y\\\": 240415.0}, {\\\"x\\\": 2060.0, \\\"y\\\": 562000.0}, {\\\"x\\\": 1170.0, \\\"y\\\": 360000.0}, {\\\"x\\\": 1610.0, \\\"y\\\": 659950.0}, {\\\"x\\\": 1890.0, \\\"y\\\": 458500.0}, {\\\"x\\\": 1070.0, \\\"y\\\": 259950.0}, {\\\"x\\\": 1680.0, \\\"y\\\": 366000.0}, {\\\"x\\\": 2890.0, \\\"y\\\": 978000.0}, {\\\"x\\\": 1360.0, \\\"y\\\": 525000.0}, {\\\"x\\\": 1660.0, \\\"y\\\": 926300.0}, {\\\"x\\\": 1620.0, \\\"y\\\": 750000.0}, {\\\"x\\\": 960.0, \\\"y\\\": 660000.0}, {\\\"x\\\": 1000.0, \\\"y\\\": 305000.0}, {\\\"x\\\": 2395.0, \\\"y\\\": 800000.0}, {\\\"x\\\": 3050.0, \\\"y\\\": 600000.0}, {\\\"x\\\": 1120.0, \\\"y\\\": 435000.0}, {\\\"x\\\": 2960.0, \\\"y\\\": 1135000.0}, {\\\"x\\\": 1250.0, \\\"y\\\": 318000.0}, {\\\"x\\\": 1940.0, \\\"y\\\": 639000.0}, {\\\"x\\\": 1750.0, \\\"y\\\": 453000.0}, {\\\"x\\\": 2150.0, \\\"y\\\": 800000.0}, {\\\"x\\\": 1500.0, \\\"y\\\": 437000.0}, {\\\"x\\\": 3230.0, \\\"y\\\": 1150000.0}, {\\\"x\\\": 3000.0, \\\"y\\\": 490000.0}, {\\\"x\\\": 1520.0, \\\"y\\\": 499950.0}, {\\\"x\\\": 1190.0, \\\"y\\\": 160134.0}, {\\\"x\\\": 990.0, \\\"y\\\": 191000.0}, {\\\"x\\\": 1250.0, \\\"y\\\": 221000.0}, {\\\"x\\\": 2080.0, \\\"y\\\": 352800.0}, {\\\"x\\\": 1640.0, \\\"y\\\": 350000.0}, {\\\"x\\\": 1550.0, \\\"y\\\": 458000.0}, {\\\"x\\\": 1290.0, \\\"y\\\": 359950.0}, {\\\"x\\\": 3250.0, \\\"y\\\": 1050000.0}, {\\\"x\\\": 1260.0, \\\"y\\\": 353000.0}, {\\\"x\\\": 2840.0, \\\"y\\\": 717550.0}, {\\\"x\\\": 1960.0, \\\"y\\\": 450000.0}, {\\\"x\\\": 760.0, \\\"y\\\": 167500.0}, {\\\"x\\\": 2240.0, \\\"y\\\": 550000.0}, {\\\"x\\\": 2240.0, \\\"y\\\": 939000.0}, {\\\"x\\\": 1820.0, \\\"y\\\": 700000.0}, {\\\"x\\\": 3370.0, \\\"y\\\": 480000.0}, {\\\"x\\\": 1160.0, \\\"y\\\": 501000.0}, {\\\"x\\\": 1640.0, \\\"y\\\": 580000.0}, {\\\"x\\\": 820.0, \\\"y\\\": 527550.0}, {\\\"x\\\": 2800.0, \\\"y\\\": 399000.0}, {\\\"x\\\": 1780.0, \\\"y\\\": 240000.0}, {\\\"x\\\": 2200.0, \\\"y\\\": 353000.0}, {\\\"x\\\": 1480.0, \\\"y\\\": 335000.0}, {\\\"x\\\": 2010.0, \\\"y\\\": 475000.0}, {\\\"x\\\": 2880.0, \\\"y\\\": 660000.0}, {\\\"x\\\": 940.0, \\\"y\\\": 551000.0}, {\\\"x\\\": 1620.0, \\\"y\\\": 249950.0}, {\\\"x\\\": 4400.0, \\\"y\\\": 1150000.0}, {\\\"x\\\": 1530.0, \\\"y\\\": 575000.0}, {\\\"x\\\": 3460.0, \\\"y\\\": 1088889.0}, {\\\"x\\\": 2890.0, \\\"y\\\": 515000.0}, {\\\"x\\\": 1980.0, \\\"y\\\": 235000.0}, {\\\"x\\\": 1980.0, \\\"y\\\": 796000.0}, {\\\"x\\\": 1450.0, \\\"y\\\": 450000.0}, {\\\"x\\\": 4280.0, \\\"y\\\": 2050000.0}, {\\\"x\\\": 1810.0, \\\"y\\\": 270000.0}, {\\\"x\\\": 2490.0, \\\"y\\\": 1705000.0}, {\\\"x\\\": 1610.0, \\\"y\\\": 565000.0}, {\\\"x\\\": 1820.0, \\\"y\\\": 680000.0}, {\\\"x\\\": 9200.0, \\\"y\\\": 5570000.0}, {\\\"x\\\": 3520.0, \\\"y\\\": 864500.0}, {\\\"x\\\": 3740.0, \\\"y\\\": 1150000.0}, {\\\"x\\\": 2150.0, \\\"y\\\": 335000.0}, {\\\"x\\\": 3526.0, \\\"y\\\": 911000.0}, {\\\"x\\\": 1070.0, \\\"y\\\": 425000.0}, {\\\"x\\\": 1410.0, \\\"y\\\": 299950.0}, {\\\"x\\\": 3190.0, \\\"y\\\": 864000.0}, {\\\"x\\\": 1270.0, \\\"y\\\": 425000.0}, {\\\"x\\\": 1970.0, \\\"y\\\": 374950.0}, {\\\"x\\\": 1640.0, \\\"y\\\": 247000.0}, {\\\"x\\\": 1600.0, \\\"y\\\": 475000.0}, {\\\"x\\\": 3020.0, \\\"y\\\": 275000.0}, {\\\"x\\\": 1350.0, \\\"y\\\": 355000.0}, {\\\"x\\\": 1870.0, \\\"y\\\": 285000.0}, {\\\"x\\\": 2730.0, \\\"y\\\": 1338750.0}, {\\\"x\\\": 1100.0, \\\"y\\\": 325000.0}, {\\\"x\\\": 4320.0, \\\"y\\\": 1670000.0}, {\\\"x\\\": 2700.0, \\\"y\\\": 402000.0}, {\\\"x\\\": 3700.0, \\\"y\\\": 1100000.0}, {\\\"x\\\": 2190.0, \\\"y\\\": 375000.0}, {\\\"x\\\": 2840.0, \\\"y\\\": 396000.0}, {\\\"x\\\": 2610.0, \\\"y\\\": 320000.0}, {\\\"x\\\": 2630.0, \\\"y\\\": 610000.0}, {\\\"x\\\": 1090.0, \\\"y\\\": 249950.0}, {\\\"x\\\": 3090.0, \\\"y\\\": 675000.0}, {\\\"x\\\": 1670.0, \\\"y\\\": 448000.0}, {\\\"x\\\": 1300.0, \\\"y\\\": 819000.0}, {\\\"x\\\": 3670.0, \\\"y\\\": 1250000.0}, {\\\"x\\\": 1700.0, \\\"y\\\": 225000.0}, {\\\"x\\\": 2560.0, \\\"y\\\": 790000.0}, {\\\"x\\\": 2770.0, \\\"y\\\": 685000.0}, {\\\"x\\\": 3240.0, \\\"y\\\": 812000.0}, {\\\"x\\\": 2300.0, \\\"y\\\": 705000.0}, {\\\"x\\\": 2483.0, \\\"y\\\": 360000.0}, {\\\"x\\\": 760.0, \\\"y\\\": 344000.0}, {\\\"x\\\": 2040.0, \\\"y\\\": 825000.0}, {\\\"x\\\": 1200.0, \\\"y\\\": 476500.0}, {\\\"x\\\": 960.0, \\\"y\\\": 379500.0}, {\\\"x\\\": 2410.0, \\\"y\\\": 620000.0}, {\\\"x\\\": 2260.0, \\\"y\\\": 477590.0}, {\\\"x\\\": 1910.0, \\\"y\\\": 490000.0}, {\\\"x\\\": 1500.0, \\\"y\\\": 470000.0}, {\\\"x\\\": 1360.0, \\\"y\\\": 500000.0}, {\\\"x\\\": 1320.0, \\\"y\\\": 370000.0}, {\\\"x\\\": 1940.0, \\\"y\\\": 790000.0}, {\\\"x\\\": 2650.0, \\\"y\\\": 725000.0}, {\\\"x\\\": 3040.0, \\\"y\\\": 840000.0}, {\\\"x\\\": 1240.0, \\\"y\\\": 390000.0}, {\\\"x\\\": 2210.0, \\\"y\\\": 507000.0}, {\\\"x\\\": 1540.0, \\\"y\\\": 263500.0}, {\\\"x\\\": 1320.0, \\\"y\\\": 369000.0}, {\\\"x\\\": 3040.0, \\\"y\\\": 500000.0}, {\\\"x\\\": 910.0, \\\"y\\\": 570000.0}, {\\\"x\\\": 2040.0, \\\"y\\\": 284000.0}, {\\\"x\\\": 980.0, \\\"y\\\": 415000.0}, {\\\"x\\\": 980.0, \\\"y\\\": 197500.0}, {\\\"x\\\": 4420.0, \\\"y\\\": 925000.0}, {\\\"x\\\": 1570.0, \\\"y\\\": 468000.0}, {\\\"x\\\": 1600.0, \\\"y\\\": 355000.0}, {\\\"x\\\": 1830.0, \\\"y\\\": 639000.0}, {\\\"x\\\": 2820.0, \\\"y\\\": 720000.0}, {\\\"x\\\": 1800.0, \\\"y\\\": 381000.0}, {\\\"x\\\": 4380.0, \\\"y\\\": 1050000.0}, {\\\"x\\\": 2980.0, \\\"y\\\": 670000.0}, {\\\"x\\\": 1690.0, \\\"y\\\": 400000.0}, {\\\"x\\\": 4040.0, \\\"y\\\": 910000.0}, {\\\"x\\\": 1250.0, \\\"y\\\": 294000.0}, {\\\"x\\\": 1500.0, \\\"y\\\": 315001.0}, {\\\"x\\\": 1630.0, \\\"y\\\": 360000.0}, {\\\"x\\\": 1410.0, \\\"y\\\": 520000.0}, {\\\"x\\\": 1140.0, \\\"y\\\": 474000.0}, {\\\"x\\\": 3280.0, \\\"y\\\": 702000.0}, {\\\"x\\\": 3490.0, \\\"y\\\": 728000.0}, {\\\"x\\\": 2020.0, \\\"y\\\": 308000.0}, {\\\"x\\\": 4580.0, \\\"y\\\": 2000000.0}, {\\\"x\\\": 2270.0, \\\"y\\\": 340000.0}, {\\\"x\\\": 1310.0, \\\"y\\\": 306500.0}, {\\\"x\\\": 1420.0, \\\"y\\\": 716000.0}, {\\\"x\\\": 2980.0, \\\"y\\\": 950000.0}, {\\\"x\\\": 4180.0, \\\"y\\\": 673200.0}, {\\\"x\\\": 1950.0, \\\"y\\\": 564500.0}, {\\\"x\\\": 1790.0, \\\"y\\\": 393000.0}, {\\\"x\\\": 1400.0, \\\"y\\\": 425000.0}, {\\\"x\\\": 1320.0, \\\"y\\\": 150000.0}, {\\\"x\\\": 1620.0, \\\"y\\\": 327000.0}, {\\\"x\\\": 3120.0, \\\"y\\\": 444900.0}, {\\\"x\\\": 2100.0, \\\"y\\\": 305000.0}, {\\\"x\\\": 1370.0, \\\"y\\\": 469000.0}, {\\\"x\\\": 1520.0, \\\"y\\\": 525000.0}, {\\\"x\\\": 2410.0, \\\"y\\\": 330000.0}, {\\\"x\\\": 1260.0, \\\"y\\\": 618000.0}, {\\\"x\\\": 2830.0, \\\"y\\\": 295500.0}, {\\\"x\\\": 2064.0, \\\"y\\\": 567035.0}, {\\\"x\\\": 2640.0, \\\"y\\\": 518000.0}, {\\\"x\\\": 1020.0, \\\"y\\\": 303000.0}, {\\\"x\\\": 2200.0, \\\"y\\\": 300000.0}, {\\\"x\\\": 1420.0, \\\"y\\\": 413107.0}, {\\\"x\\\": 1350.0, \\\"y\\\": 400000.0}, {\\\"x\\\": 1290.0, \\\"y\\\": 535000.0}, {\\\"x\\\": 1680.0, \\\"y\\\": 555000.0}, {\\\"x\\\": 2280.0, \\\"y\\\": 312000.0}, {\\\"x\\\": 1840.0, \\\"y\\\": 785200.0}, {\\\"x\\\": 2040.0, \\\"y\\\": 749000.0}, {\\\"x\\\": 1490.0, \\\"y\\\": 285000.0}, {\\\"x\\\": 2440.0, \\\"y\\\": 425000.0}, {\\\"x\\\": 1930.0, \\\"y\\\": 360000.0}, {\\\"x\\\": 1200.0, \\\"y\\\": 260000.0}, {\\\"x\\\": 1550.0, \\\"y\\\": 369000.0}, {\\\"x\\\": 2180.0, \\\"y\\\": 275000.0}, {\\\"x\\\": 1430.0, \\\"y\\\": 407000.0}, {\\\"x\\\": 1230.0, \\\"y\\\": 575000.0}, {\\\"x\\\": 1670.0, \\\"y\\\": 1236000.0}, {\\\"x\\\": 2720.0, \\\"y\\\": 875000.0}, {\\\"x\\\": 2220.0, \\\"y\\\": 320000.0}, {\\\"x\\\": 1520.0, \\\"y\\\": 810000.0}, {\\\"x\\\": 1590.0, \\\"y\\\": 274000.0}, {\\\"x\\\": 1480.0, \\\"y\\\": 239900.0}, {\\\"x\\\": 1860.0, \\\"y\\\": 450000.0}, {\\\"x\\\": 1360.0, \\\"y\\\": 263400.0}, {\\\"x\\\": 1360.0, \\\"y\\\": 265000.0}, {\\\"x\\\": 2360.0, \\\"y\\\": 418000.0}, {\\\"x\\\": 2360.0, \\\"y\\\": 390000.0}, {\\\"x\\\": 1860.0, \\\"y\\\": 430000.0}, {\\\"x\\\": 2630.0, \\\"y\\\": 1442500.0}, {\\\"x\\\": 1280.0, \\\"y\\\": 297000.0}, {\\\"x\\\": 2330.0, \\\"y\\\": 650000.0}, {\\\"x\\\": 720.0, \\\"y\\\": 195000.0}, {\\\"x\\\": 3380.0, \\\"y\\\": 554000.0}, {\\\"x\\\": 3650.0, \\\"y\\\": 550000.0}, {\\\"x\\\": 1640.0, \\\"y\\\": 700000.0}, {\\\"x\\\": 1730.0, \\\"y\\\": 300000.0}, {\\\"x\\\": 1030.0, \\\"y\\\": 315000.0}, {\\\"x\\\": 1790.0, \\\"y\\\": 603000.0}, {\\\"x\\\": 840.0, \\\"y\\\": 530000.0}, {\\\"x\\\": 1300.0, \\\"y\\\": 397500.0}, {\\\"x\\\": 1240.0, \\\"y\\\": 221000.0}, {\\\"x\\\": 2170.0, \\\"y\\\": 466000.0}, {\\\"x\\\": 1330.0, \\\"y\\\": 197500.0}, {\\\"x\\\": 1390.0, \\\"y\\\": 280000.0}, {\\\"x\\\": 1240.0, \\\"y\\\": 412000.0}, {\\\"x\\\": 880.0, \\\"y\\\": 454000.0}, {\\\"x\\\": 2540.0, \\\"y\\\": 540000.0}, {\\\"x\\\": 2520.0, \\\"y\\\": 250000.0}, {\\\"x\\\": 2510.0, \\\"y\\\": 900000.0}, {\\\"x\\\": 2020.0, \\\"y\\\": 245000.0}, {\\\"x\\\": 2060.0, \\\"y\\\": 290000.0}, {\\\"x\\\": 930.0, \\\"y\\\": 160000.0}, {\\\"x\\\": 2700.0, \\\"y\\\": 1260000.0}, {\\\"x\\\": 1060.0, \\\"y\\\": 325000.0}, {\\\"x\\\": 670.0, \\\"y\\\": 185000.0}, {\\\"x\\\": 1750.0, \\\"y\\\": 477000.0}, {\\\"x\\\": 930.0, \\\"y\\\": 100000.0}, {\\\"x\\\": 2420.0, \\\"y\\\": 345000.0}, {\\\"x\\\": 2410.0, \\\"y\\\": 530000.0}, {\\\"x\\\": 1150.0, \\\"y\\\": 203000.0}, {\\\"x\\\": 2480.0, \\\"y\\\": 599000.0}, {\\\"x\\\": 1310.0, \\\"y\\\": 370000.0}, {\\\"x\\\": 1240.0, \\\"y\\\": 140000.0}, {\\\"x\\\": 1150.0, \\\"y\\\": 500000.0}, {\\\"x\\\": 1460.0, \\\"y\\\": 527200.0}, {\\\"x\\\": 3060.0, \\\"y\\\": 549900.0}, {\\\"x\\\": 3520.0, \\\"y\\\": 760000.0}, {\\\"x\\\": 960.0, \\\"y\\\": 319000.0}, {\\\"x\\\": 2430.0, \\\"y\\\": 362300.0}, {\\\"x\\\": 1930.0, \\\"y\\\": 421000.0}, {\\\"x\\\": 1090.0, \\\"y\\\": 690000.0}, {\\\"x\\\": 2790.0, \\\"y\\\": 640000.0}, {\\\"x\\\": 1650.0, \\\"y\\\": 238000.0}, {\\\"x\\\": 3740.0, \\\"y\\\": 789000.0}, {\\\"x\\\": 5310.0, \\\"y\\\": 1050000.0}, {\\\"x\\\": 1690.0, \\\"y\\\": 302500.0}, {\\\"x\\\": 1400.0, \\\"y\\\": 259950.0}, {\\\"x\\\": 1440.0, \\\"y\\\": 456000.0}, {\\\"x\\\": 1360.0, \\\"y\\\": 369950.0}, {\\\"x\\\": 1726.0, \\\"y\\\": 363750.0}, {\\\"x\\\": 2220.0, \\\"y\\\": 585000.0}, {\\\"x\\\": 1850.0, \\\"y\\\": 268000.0}, {\\\"x\\\": 2860.0, \\\"y\\\": 1200000.0}, {\\\"x\\\": 1120.0, \\\"y\\\": 345000.0}, {\\\"x\\\": 2340.0, \\\"y\\\": 539000.0}, {\\\"x\\\": 3760.0, \\\"y\\\": 851000.0}, {\\\"x\\\": 1920.0, \\\"y\\\": 900000.0}, {\\\"x\\\": 3230.0, \\\"y\\\": 850000.0}, {\\\"x\\\": 1260.0, \\\"y\\\": 390000.0}, {\\\"x\\\": 1540.0, \\\"y\\\": 345000.0}, {\\\"x\\\": 1700.0, \\\"y\\\": 534500.0}, {\\\"x\\\": 3600.0, \\\"y\\\": 643500.0}, {\\\"x\\\": 3150.0, \\\"y\\\": 1206505.0}, {\\\"x\\\": 1280.0, \\\"y\\\": 495000.0}, {\\\"x\\\": 980.0, \\\"y\\\": 535000.0}, {\\\"x\\\": 2190.0, \\\"y\\\": 435000.0}, {\\\"x\\\": 2470.0, \\\"y\\\": 305000.0}, {\\\"x\\\": 2590.0, \\\"y\\\": 799000.0}, {\\\"x\\\": 2580.0, \\\"y\\\": 700000.0}, {\\\"x\\\": 1270.0, \\\"y\\\": 467000.0}, {\\\"x\\\": 1250.0, \\\"y\\\": 263000.0}, {\\\"x\\\": 4660.0, \\\"y\\\": 760000.0}, {\\\"x\\\": 2019.0, \\\"y\\\": 293000.0}, {\\\"x\\\": 1490.0, \\\"y\\\": 245000.0}, {\\\"x\\\": 1560.0, \\\"y\\\": 181000.0}, {\\\"x\\\": 1030.0, \\\"y\\\": 240000.0}, {\\\"x\\\": 2560.0, \\\"y\\\": 880000.0}, {\\\"x\\\": 1460.0, \\\"y\\\": 285000.0}, {\\\"x\\\": 770.0, \\\"y\\\": 407500.0}, {\\\"x\\\": 1960.0, \\\"y\\\": 325000.0}, {\\\"x\\\": 1900.0, \\\"y\\\": 405000.0}, {\\\"x\\\": 1970.0, \\\"y\\\": 291700.0}, {\\\"x\\\": 2490.0, \\\"y\\\": 370000.0}, {\\\"x\\\": 1430.0, \\\"y\\\": 270000.0}, {\\\"x\\\": 2680.0, \\\"y\\\": 800000.0}, {\\\"x\\\": 1610.0, \\\"y\\\": 626500.0}, {\\\"x\\\": 4300.0, \\\"y\\\": 1130000.0}, {\\\"x\\\": 3200.0, \\\"y\\\": 399950.0}, {\\\"x\\\": 2140.0, \\\"y\\\": 419000.0}, {\\\"x\\\": 4240.0, \\\"y\\\": 1160000.0}, {\\\"x\\\": 3410.0, \\\"y\\\": 1405000.0}, {\\\"x\\\": 2090.0, \\\"y\\\": 710000.0}, {\\\"x\\\": 1410.0, \\\"y\\\": 650000.0}, {\\\"x\\\": 2820.0, \\\"y\\\": 369900.0}, {\\\"x\\\": 2770.0, \\\"y\\\": 641000.0}, {\\\"x\\\": 1400.0, \\\"y\\\": 403000.0}, {\\\"x\\\": 3620.0, \\\"y\\\": 1015000.0}, {\\\"x\\\": 2260.0, \\\"y\\\": 865000.0}, {\\\"x\\\": 3440.0, \\\"y\\\": 2485000.0}, {\\\"x\\\": 2150.0, \\\"y\\\": 810000.0}, {\\\"x\\\": 1256.0, \\\"y\\\": 316750.0}, {\\\"x\\\": 2220.0, \\\"y\\\": 652500.0}, {\\\"x\\\": 2850.0, \\\"y\\\": 360000.0}, {\\\"x\\\": 700.0, \\\"y\\\": 208000.0}, {\\\"x\\\": 3700.0, \\\"y\\\": 898000.0}, {\\\"x\\\": 1400.0, \\\"y\\\": 295000.0}, {\\\"x\\\": 3130.0, \\\"y\\\": 652500.0}, {\\\"x\\\": 2170.0, \\\"y\\\": 560000.0}, {\\\"x\\\": 1020.0, \\\"y\\\": 280000.0}, {\\\"x\\\": 1760.0, \\\"y\\\": 289950.0}, {\\\"x\\\": 1860.0, \\\"y\\\": 397500.0}, {\\\"x\\\": 1140.0, \\\"y\\\": 380000.0}, {\\\"x\\\": 1670.0, \\\"y\\\": 415900.0}, {\\\"x\\\": 1710.0, \\\"y\\\": 475000.0}, {\\\"x\\\": 500.0, \\\"y\\\": 125000.0}, {\\\"x\\\": 1470.0, \\\"y\\\": 238000.0}, {\\\"x\\\": 1370.0, \\\"y\\\": 296000.0}, {\\\"x\\\": 3470.0, \\\"y\\\": 475000.0}, {\\\"x\\\": 1650.0, \\\"y\\\": 390000.0}, {\\\"x\\\": 1180.0, \\\"y\\\": 425000.0}, {\\\"x\\\": 3110.0, \\\"y\\\": 725000.0}, {\\\"x\\\": 2080.0, \\\"y\\\": 605000.0}, {\\\"x\\\": 1600.0, \\\"y\\\": 302000.0}, {\\\"x\\\": 2380.0, \\\"y\\\": 886000.0}, {\\\"x\\\": 1630.0, \\\"y\\\": 540000.0}, {\\\"x\\\": 1910.0, \\\"y\\\": 435000.0}, {\\\"x\\\": 3140.0, \\\"y\\\": 409000.0}, {\\\"x\\\": 1250.0, \\\"y\\\": 405000.0}, {\\\"x\\\": 1990.0, \\\"y\\\": 560200.0}, {\\\"x\\\": 2110.0, \\\"y\\\": 324000.0}, {\\\"x\\\": 2490.0, \\\"y\\\": 390000.0}, {\\\"x\\\": 800.0, \\\"y\\\": 414000.0}, {\\\"x\\\": 2360.0, \\\"y\\\": 441500.0}, {\\\"x\\\": 1770.0, \\\"y\\\": 375000.0}, {\\\"x\\\": 2710.0, \\\"y\\\": 668500.0}, {\\\"x\\\": 1940.0, \\\"y\\\": 540000.0}, {\\\"x\\\": 3450.0, \\\"y\\\": 1035000.0}, {\\\"x\\\": 3440.0, \\\"y\\\": 1345000.0}, {\\\"x\\\": 2410.0, \\\"y\\\": 758000.0}, {\\\"x\\\": 2290.0, \\\"y\\\": 949880.0}, {\\\"x\\\": 1030.0, \\\"y\\\": 570000.0}, {\\\"x\\\": 2290.0, \\\"y\\\": 736000.0}, {\\\"x\\\": 1490.0, \\\"y\\\": 670000.0}, {\\\"x\\\": 2370.0, \\\"y\\\": 1130000.0}, {\\\"x\\\": 1930.0, \\\"y\\\": 650000.0}, {\\\"x\\\": 1600.0, \\\"y\\\": 690000.0}, {\\\"x\\\": 2240.0, \\\"y\\\": 610000.0}, {\\\"x\\\": 770.0, \\\"y\\\": 413500.0}, {\\\"x\\\": 2300.0, \\\"y\\\": 765000.0}, {\\\"x\\\": 3400.0, \\\"y\\\": 828200.0}, {\\\"x\\\": 900.0, \\\"y\\\": 205000.0}, {\\\"x\\\": 1450.0, \\\"y\\\": 465000.0}, {\\\"x\\\": 2240.0, \\\"y\\\": 556000.0}, {\\\"x\\\": 1780.0, \\\"y\\\": 540000.0}, {\\\"x\\\": 2320.0, \\\"y\\\": 423000.0}, {\\\"x\\\": 1590.0, \\\"y\\\": 375000.0}, {\\\"x\\\": 990.0, \\\"y\\\": 173250.0}, {\\\"x\\\": 2605.0, \\\"y\\\": 599900.0}, {\\\"x\\\": 2870.0, \\\"y\\\": 646000.0}, {\\\"x\\\": 5180.0, \\\"y\\\": 1075000.0}, {\\\"x\\\": 2180.0, \\\"y\\\": 558000.0}, {\\\"x\\\": 850.0, \\\"y\\\": 354000.0}, {\\\"x\\\": 4050.0, \\\"y\\\": 1195000.0}, {\\\"x\\\": 2250.0, \\\"y\\\": 670000.0}, {\\\"x\\\": 3100.0, \\\"y\\\": 1125000.0}, {\\\"x\\\": 1747.0, \\\"y\\\": 267500.0}, {\\\"x\\\": 2410.0, \\\"y\\\": 299800.0}, {\\\"x\\\": 2070.0, \\\"y\\\": 430000.0}, {\\\"x\\\": 1860.0, \\\"y\\\": 775000.0}, {\\\"x\\\": 950.0, \\\"y\\\": 333000.0}, {\\\"x\\\": 1060.0, \\\"y\\\": 336000.0}, {\\\"x\\\": 880.0, \\\"y\\\": 323000.0}, {\\\"x\\\": 2550.0, \\\"y\\\": 575000.0}, {\\\"x\\\": 1550.0, \\\"y\\\": 328000.0}, {\\\"x\\\": 1590.0, \\\"y\\\": 572500.0}, {\\\"x\\\": 1650.0, \\\"y\\\": 600000.0}, {\\\"x\\\": 2430.0, \\\"y\\\": 412000.0}, {\\\"x\\\": 1810.0, \\\"y\\\": 827500.0}, {\\\"x\\\": 2890.0, \\\"y\\\": 300000.0}, {\\\"x\\\": 1280.0, \\\"y\\\": 415000.0}, {\\\"x\\\": 3410.0, \\\"y\\\": 750000.0}, {\\\"x\\\": 2220.0, \\\"y\\\": 800000.0}, {\\\"x\\\": 1060.0, \\\"y\\\": 420000.0}, {\\\"x\\\": 1120.0, \\\"y\\\": 266000.0}, {\\\"x\\\": 2680.0, \\\"y\\\": 499000.0}, {\\\"x\\\": 1770.0, \\\"y\\\": 440000.0}, {\\\"x\\\": 2950.0, \\\"y\\\": 495000.0}, {\\\"x\\\": 1260.0, \\\"y\\\": 630000.0}, {\\\"x\\\": 1430.0, \\\"y\\\": 424000.0}, {\\\"x\\\": 2730.0, \\\"y\\\": 760000.0}, {\\\"x\\\": 3270.0, \\\"y\\\": 650000.0}, {\\\"x\\\": 1720.0, \\\"y\\\": 248500.0}, {\\\"x\\\": 1270.0, \\\"y\\\": 379600.0}, {\\\"x\\\": 3260.0, \\\"y\\\": 538000.0}, {\\\"x\\\": 2050.0, \\\"y\\\": 530000.0}, {\\\"x\\\": 2050.0, \\\"y\\\": 545000.0}, {\\\"x\\\": 3580.0, \\\"y\\\": 925000.0}, {\\\"x\\\": 1960.0, \\\"y\\\": 565000.0}, {\\\"x\\\": 840.0, \\\"y\\\": 405100.0}, {\\\"x\\\": 1300.0, \\\"y\\\": 502000.0}, {\\\"x\\\": 1260.0, \\\"y\\\": 425000.0}, {\\\"x\\\": 1650.0, \\\"y\\\": 233500.0}, {\\\"x\\\": 1710.0, \\\"y\\\": 287000.0}, {\\\"x\\\": 1180.0, \\\"y\\\": 190000.0}, {\\\"x\\\": 2780.0, \\\"y\\\": 666000.0}, {\\\"x\\\": 950.0, \\\"y\\\": 330000.0}, {\\\"x\\\": 3620.0, \\\"y\\\": 1490000.0}, {\\\"x\\\": 2140.0, \\\"y\\\": 393000.0}, {\\\"x\\\": 1920.0, \\\"y\\\": 353000.0}, {\\\"x\\\": 750.0, \\\"y\\\": 260000.0}, {\\\"x\\\": 2060.0, \\\"y\\\": 680000.0}, {\\\"x\\\": 2380.0, \\\"y\\\": 921000.0}, {\\\"x\\\": 750.0, \\\"y\\\": 319000.0}, {\\\"x\\\": 1160.0, \\\"y\\\": 280000.0}, {\\\"x\\\": 1050.0, \\\"y\\\": 220000.0}, {\\\"x\\\": 1740.0, \\\"y\\\": 219000.0}, {\\\"x\\\": 2050.0, \\\"y\\\": 528000.0}, {\\\"x\\\": 1980.0, \\\"y\\\": 405000.0}, {\\\"x\\\": 1690.0, \\\"y\\\": 372977.0}, {\\\"x\\\": 2320.0, \\\"y\\\": 934550.0}, {\\\"x\\\": 2480.0, \\\"y\\\": 1465000.0}, {\\\"x\\\": 2290.0, \\\"y\\\": 975000.0}, {\\\"x\\\": 3180.0, \\\"y\\\": 800866.0}, {\\\"x\\\": 3470.0, \\\"y\\\": 950000.0}, {\\\"x\\\": 1540.0, \\\"y\\\": 624000.0}, {\\\"x\\\": 2800.0, \\\"y\\\": 1850000.0}, {\\\"x\\\": 1050.0, \\\"y\\\": 310000.0}, {\\\"x\\\": 1480.0, \\\"y\\\": 315000.0}, {\\\"x\\\": 1010.0, \\\"y\\\": 675000.0}, {\\\"x\\\": 1660.0, \\\"y\\\": 490000.0}, {\\\"x\\\": 2760.0, \\\"y\\\": 600000.0}, {\\\"x\\\": 1040.0, \\\"y\\\": 154000.0}, {\\\"x\\\": 2220.0, \\\"y\\\": 480000.0}, {\\\"x\\\": 1270.0, \\\"y\\\": 196900.0}, {\\\"x\\\": 2960.0, \\\"y\\\": 735000.0}, {\\\"x\\\": 1330.0, \\\"y\\\": 205500.0}, {\\\"x\\\": 1210.0, \\\"y\\\": 357186.0}, {\\\"x\\\": 2120.0, \\\"y\\\": 275000.0}, {\\\"x\\\": 2090.0, \\\"y\\\": 248500.0}, {\\\"x\\\": 2680.0, \\\"y\\\": 350000.0}, {\\\"x\\\": 1790.0, \\\"y\\\": 390000.0}, {\\\"x\\\": 1950.0, \\\"y\\\": 390000.0}, {\\\"x\\\": 3740.0, \\\"y\\\": 660000.0}, {\\\"x\\\": 1140.0, \\\"y\\\": 310000.0}, {\\\"x\\\": 2480.0, \\\"y\\\": 717000.0}, {\\\"x\\\": 2580.0, \\\"y\\\": 260000.0}, {\\\"x\\\": 2290.0, \\\"y\\\": 745000.0}, {\\\"x\\\": 2320.0, \\\"y\\\": 470000.0}, {\\\"x\\\": 2530.0, \\\"y\\\": 429000.0}, {\\\"x\\\": 1400.0, \\\"y\\\": 220000.0}, {\\\"x\\\": 2060.0, \\\"y\\\": 497000.0}, {\\\"x\\\": 1640.0, \\\"y\\\": 716100.0}, {\\\"x\\\": 1960.0, \\\"y\\\": 371000.0}, {\\\"x\\\": 3000.0, \\\"y\\\": 379000.0}, {\\\"x\\\": 1320.0, \\\"y\\\": 937500.0}, {\\\"x\\\": 1760.0, \\\"y\\\": 720000.0}, {\\\"x\\\": 2130.0, \\\"y\\\": 616000.0}, {\\\"x\\\": 1390.0, \\\"y\\\": 259000.0}, {\\\"x\\\": 1400.0, \\\"y\\\": 538000.0}, {\\\"x\\\": 3230.0, \\\"y\\\": 605000.0}, {\\\"x\\\": 1110.0, \\\"y\\\": 369950.0}, {\\\"x\\\": 1670.0, \\\"y\\\": 310000.0}, {\\\"x\\\": 1540.0, \\\"y\\\": 227500.0}, {\\\"x\\\": 2090.0, \\\"y\\\": 274000.0}, {\\\"x\\\": 1410.0, \\\"y\\\": 410000.0}, {\\\"x\\\": 1370.0, \\\"y\\\": 354800.0}, {\\\"x\\\": 1910.0, \\\"y\\\": 650000.0}, {\\\"x\\\": 1678.0, \\\"y\\\": 353000.0}, {\\\"x\\\": 960.0, \\\"y\\\": 224975.0}, {\\\"x\\\": 2080.0, \\\"y\\\": 600000.0}, {\\\"x\\\": 1790.0, \\\"y\\\": 437500.0}, {\\\"x\\\": 2540.0, \\\"y\\\": 567000.0}, {\\\"x\\\": 1790.0, \\\"y\\\": 225000.0}, {\\\"x\\\": 940.0, \\\"y\\\": 255000.0}, {\\\"x\\\": 6810.0, \\\"y\\\": 2479000.0}, {\\\"x\\\": 900.0, \\\"y\\\": 370000.0}, {\\\"x\\\": 1900.0, \\\"y\\\": 675000.0}, {\\\"x\\\": 1440.0, \\\"y\\\": 285000.0}, {\\\"x\\\": 2070.0, \\\"y\\\": 310000.0}, {\\\"x\\\": 2240.0, \\\"y\\\": 475000.0}, {\\\"x\\\": 3320.0, \\\"y\\\": 410000.0}, {\\\"x\\\": 1950.0, \\\"y\\\": 895000.0}, {\\\"x\\\": 1240.0, \\\"y\\\": 375000.0}, {\\\"x\\\": 1830.0, \\\"y\\\": 349000.0}, {\\\"x\\\": 1740.0, \\\"y\\\": 650500.0}, {\\\"x\\\": 1410.0, \\\"y\\\": 760000.0}, {\\\"x\\\": 2050.0, \\\"y\\\": 480000.0}, {\\\"x\\\": 3220.0, \\\"y\\\": 689000.0}, {\\\"x\\\": 1960.0, \\\"y\\\": 415000.0}, {\\\"x\\\": 1070.0, \\\"y\\\": 195000.0}, {\\\"x\\\": 2820.0, \\\"y\\\": 318000.0}, {\\\"x\\\": 4060.0, \\\"y\\\": 404000.0}, {\\\"x\\\": 800.0, \\\"y\\\": 339950.0}, {\\\"x\\\": 1260.0, \\\"y\\\": 215000.0}, {\\\"x\\\": 2420.0, \\\"y\\\": 339900.0}, {\\\"x\\\": 810.0, \\\"y\\\": 285000.0}, {\\\"x\\\": 1600.0, \\\"y\\\": 550000.0}, {\\\"x\\\": 1350.0, \\\"y\\\": 430000.0}, {\\\"x\\\": 970.0, \\\"y\\\": 219000.0}, {\\\"x\\\": 1780.0, \\\"y\\\": 555000.0}, {\\\"x\\\": 1350.0, \\\"y\\\": 233000.0}, {\\\"x\\\": 1840.0, \\\"y\\\": 248000.0}, {\\\"x\\\": 2550.0, \\\"y\\\": 454000.0}, {\\\"x\\\": 1700.0, \\\"y\\\": 950000.0}, {\\\"x\\\": 2430.0, \\\"y\\\": 359000.0}, {\\\"x\\\": 2740.0, \\\"y\\\": 407500.0}, {\\\"x\\\": 1560.0, \\\"y\\\": 224000.0}, {\\\"x\\\": 1040.0, \\\"y\\\": 210000.0}, {\\\"x\\\": 1820.0, \\\"y\\\": 261000.0}, {\\\"x\\\": 1833.0, \\\"y\\\": 719000.0}, {\\\"x\\\": 2160.0, \\\"y\\\": 440000.0}, {\\\"x\\\": 2100.0, \\\"y\\\": 525000.0}, {\\\"x\\\": 1370.0, \\\"y\\\": 375000.0}, {\\\"x\\\": 1414.0, \\\"y\\\": 428000.0}, {\\\"x\\\": 4115.0, \\\"y\\\": 988830.0}, {\\\"x\\\": 1550.0, \\\"y\\\": 199950.0}, {\\\"x\\\": 2100.0, \\\"y\\\": 840000.0}, {\\\"x\\\": 1160.0, \\\"y\\\": 285000.0}, {\\\"x\\\": 3597.0, \\\"y\\\": 330000.0}, {\\\"x\\\": 1230.0, \\\"y\\\": 147500.0}, {\\\"x\\\": 2190.0, \\\"y\\\": 320000.0}, {\\\"x\\\": 1040.0, \\\"y\\\": 382500.0}, {\\\"x\\\": 4690.0, \\\"y\\\": 2048000.0}, {\\\"x\\\": 2270.0, \\\"y\\\": 596000.0}, {\\\"x\\\": 1950.0, \\\"y\\\": 220000.0}, {\\\"x\\\": 1880.0, \\\"y\\\": 325000.0}, {\\\"x\\\": 2850.0, \\\"y\\\": 679950.0}, {\\\"x\\\": 1160.0, \\\"y\\\": 175000.0}, {\\\"x\\\": 1370.0, \\\"y\\\": 268000.0}, {\\\"x\\\": 3260.0, \\\"y\\\": 715000.0}, {\\\"x\\\": 3170.0, \\\"y\\\": 600000.0}, {\\\"x\\\": 390.0, \\\"y\\\": 228000.0}, {\\\"x\\\": 3450.0, \\\"y\\\": 950000.0}, {\\\"x\\\": 1490.0, \\\"y\\\": 475000.0}, {\\\"x\\\": 1460.0, \\\"y\\\": 700000.0}, {\\\"x\\\": 1300.0, \\\"y\\\": 275000.0}, {\\\"x\\\": 1300.0, \\\"y\\\": 369500.0}, {\\\"x\\\": 1540.0, \\\"y\\\": 215000.0}, {\\\"x\\\": 2130.0, \\\"y\\\": 593450.0}, {\\\"x\\\": 1350.0, \\\"y\\\": 498800.0}, {\\\"x\\\": 2450.0, \\\"y\\\": 849000.0}, {\\\"x\\\": 1940.0, \\\"y\\\": 1151250.0}, {\\\"x\\\": 2890.0, \\\"y\\\": 825000.0}, {\\\"x\\\": 1680.0, \\\"y\\\": 265000.0}, {\\\"x\\\": 1960.0, \\\"y\\\": 285000.0}, {\\\"x\\\": 1590.0, \\\"y\\\": 240000.0}, {\\\"x\\\": 1390.0, \\\"y\\\": 261000.0}, {\\\"x\\\": 2440.0, \\\"y\\\": 330000.0}, {\\\"x\\\": 1850.0, \\\"y\\\": 250000.0}, {\\\"x\\\": 2800.0, \\\"y\\\": 350000.0}, {\\\"x\\\": 3780.0, \\\"y\\\": 930000.0}, {\\\"x\\\": 1910.0, \\\"y\\\": 275000.0}, {\\\"x\\\": 2460.0, \\\"y\\\": 325000.0}, {\\\"x\\\": 810.0, \\\"y\\\": 255000.0}, {\\\"x\\\": 1900.0, \\\"y\\\": 562200.0}, {\\\"x\\\": 3490.0, \\\"y\\\": 952000.0}, {\\\"x\\\": 2200.0, \\\"y\\\": 365000.0}, {\\\"x\\\": 1190.0, \\\"y\\\": 332900.0}, {\\\"x\\\": 2040.0, \\\"y\\\": 721000.0}, {\\\"x\\\": 2400.0, \\\"y\\\": 487275.0}, {\\\"x\\\": 1670.0, \\\"y\\\": 310000.0}, {\\\"x\\\": 990.0, \\\"y\\\": 245000.0}, {\\\"x\\\": 2920.0, \\\"y\\\": 325000.0}, {\\\"x\\\": 1840.0, \\\"y\\\": 550000.0}, {\\\"x\\\": 910.0, \\\"y\\\": 350000.0}, {\\\"x\\\": 2950.0, \\\"y\\\": 599000.0}, {\\\"x\\\": 1240.0, \\\"y\\\": 259950.0}, {\\\"x\\\": 1980.0, \\\"y\\\": 240000.0}, {\\\"x\\\": 1200.0, \\\"y\\\": 186000.0}, {\\\"x\\\": 1280.0, \\\"y\\\": 395000.0}, {\\\"x\\\": 3150.0, \\\"y\\\": 475000.0}, {\\\"x\\\": 3500.0, \\\"y\\\": 815000.0}, {\\\"x\\\": 1680.0, \\\"y\\\": 572000.0}, {\\\"x\\\": 1360.0, \\\"y\\\": 419500.0}, {\\\"x\\\": 2110.0, \\\"y\\\": 298700.0}, {\\\"x\\\": 2034.0, \\\"y\\\": 549000.0}, {\\\"x\\\": 1900.0, \\\"y\\\": 278000.0}, {\\\"x\\\": 2380.0, \\\"y\\\": 455000.0}, {\\\"x\\\": 4050.0, \\\"y\\\": 925000.0}, {\\\"x\\\": 1120.0, \\\"y\\\": 465000.0}, {\\\"x\\\": 2850.0, \\\"y\\\": 620000.0}, {\\\"x\\\": 2360.0, \\\"y\\\": 499900.0}, {\\\"x\\\": 2540.0, \\\"y\\\": 620000.0}, {\\\"x\\\": 1160.0, \\\"y\\\": 450000.0}, {\\\"x\\\": 2710.0, \\\"y\\\": 690000.0}, {\\\"x\\\": 3120.0, \\\"y\\\": 1895000.0}, {\\\"x\\\": 3120.0, \\\"y\\\": 1939999.0}, {\\\"x\\\": 1870.0, \\\"y\\\": 832500.0}, {\\\"x\\\": 1010.0, \\\"y\\\": 245000.0}, {\\\"x\\\": 2980.0, \\\"y\\\": 820000.0}, {\\\"x\\\": 2420.0, \\\"y\\\": 369000.0}, {\\\"x\\\": 3830.0, \\\"y\\\": 1050000.0}, {\\\"x\\\": 3040.0, \\\"y\\\": 653000.0}, {\\\"x\\\": 1460.0, \\\"y\\\": 220650.0}, {\\\"x\\\": 1940.0, \\\"y\\\": 300000.0}, {\\\"x\\\": 3780.0, \\\"y\\\": 970000.0}, {\\\"x\\\": 1950.0, \\\"y\\\": 360000.0}, {\\\"x\\\": 2450.0, \\\"y\\\": 672500.0}, {\\\"x\\\": 1730.0, \\\"y\\\": 268000.0}, {\\\"x\\\": 1690.0, \\\"y\\\": 440000.0}, {\\\"x\\\": 2550.0, \\\"y\\\": 1400000.0}, {\\\"x\\\": 2290.0, \\\"y\\\": 590000.0}, {\\\"x\\\": 2710.0, \\\"y\\\": 359000.0}, {\\\"x\\\": 1880.0, \\\"y\\\": 266500.0}, {\\\"x\\\": 2930.0, \\\"y\\\": 635000.0}, {\\\"x\\\": 3110.0, \\\"y\\\": 559000.0}, {\\\"x\\\": 3480.0, \\\"y\\\": 895000.0}, {\\\"x\\\": 1110.0, \\\"y\\\": 625000.0}, {\\\"x\\\": 2440.0, \\\"y\\\": 650000.0}, {\\\"x\\\": 2280.0, \\\"y\\\": 312500.0}, {\\\"x\\\": 900.0, \\\"y\\\": 225000.0}, {\\\"x\\\": 1980.0, \\\"y\\\": 425000.0}, {\\\"x\\\": 3360.0, \\\"y\\\": 329999.0}, {\\\"x\\\": 2340.0, \\\"y\\\": 572000.0}, {\\\"x\\\": 3110.0, \\\"y\\\": 386500.0}, {\\\"x\\\": 980.0, \\\"y\\\": 452000.0}, {\\\"x\\\": 1480.0, \\\"y\\\": 278000.0}, {\\\"x\\\": 1800.0, \\\"y\\\": 474900.0}, {\\\"x\\\": 2130.0, \\\"y\\\": 450000.0}, {\\\"x\\\": 1270.0, \\\"y\\\": 611000.0}, {\\\"x\\\": 1150.0, \\\"y\\\": 214100.0}, {\\\"x\\\": 1840.0, \\\"y\\\": 317000.0}, {\\\"x\\\": 3180.0, \\\"y\\\": 1000000.0}, {\\\"x\\\": 1510.0, \\\"y\\\": 1000000.0}, {\\\"x\\\": 3070.0, \\\"y\\\": 525000.0}, {\\\"x\\\": 1800.0, \\\"y\\\": 436000.0}, {\\\"x\\\": 1540.0, \\\"y\\\": 450000.0}, {\\\"x\\\": 2330.0, \\\"y\\\": 588500.0}, {\\\"x\\\": 1400.0, \\\"y\\\": 340000.0}, {\\\"x\\\": 2846.0, \\\"y\\\": 482000.0}, {\\\"x\\\": 5830.0, \\\"y\\\": 1575000.0}, {\\\"x\\\": 3380.0, \\\"y\\\": 749000.0}, {\\\"x\\\": 1440.0, \\\"y\\\": 330000.0}, {\\\"x\\\": 1740.0, \\\"y\\\": 568000.0}, {\\\"x\\\": 1470.0, \\\"y\\\": 239000.0}, {\\\"x\\\": 2810.0, \\\"y\\\": 528000.0}, {\\\"x\\\": 2090.0, \\\"y\\\": 385000.0}, {\\\"x\\\": 4110.0, \\\"y\\\": 825000.0}, {\\\"x\\\": 3230.0, \\\"y\\\": 815000.0}, {\\\"x\\\": 2601.0, \\\"y\\\": 625000.0}, {\\\"x\\\": 2070.0, \\\"y\\\": 690000.0}, {\\\"x\\\": 1660.0, \\\"y\\\": 210000.0}, {\\\"x\\\": 1590.0, \\\"y\\\": 599000.0}, {\\\"x\\\": 1860.0, \\\"y\\\": 860000.0}, {\\\"x\\\": 1420.0, \\\"y\\\": 147200.0}, {\\\"x\\\": 1240.0, \\\"y\\\": 476900.0}, {\\\"x\\\": 2500.0, \\\"y\\\": 450000.0}, {\\\"x\\\": 2640.0, \\\"y\\\": 570000.0}, {\\\"x\\\": 1440.0, \\\"y\\\": 567500.0}, {\\\"x\\\": 3030.0, \\\"y\\\": 790000.0}, {\\\"x\\\": 1820.0, \\\"y\\\": 875000.0}, {\\\"x\\\": 2220.0, \\\"y\\\": 490000.0}, {\\\"x\\\": 2430.0, \\\"y\\\": 335000.0}, {\\\"x\\\": 1670.0, \\\"y\\\": 550000.0}, {\\\"x\\\": 1180.0, \\\"y\\\": 385000.0}, {\\\"x\\\": 1620.0, \\\"y\\\": 395000.0}, {\\\"x\\\": 1030.0, \\\"y\\\": 650000.0}, {\\\"x\\\": 2900.0, \\\"y\\\": 637000.0}, {\\\"x\\\": 3420.0, \\\"y\\\": 692500.0}, {\\\"x\\\": 1710.0, \\\"y\\\": 322400.0}, {\\\"x\\\": 1580.0, \\\"y\\\": 233500.0}, {\\\"x\\\": 1230.0, \\\"y\\\": 400000.0}, {\\\"x\\\": 2200.0, \\\"y\\\": 547000.0}]}], \\\"marks\\\": [{\\\"name\\\": \\\"marks\\\", \\\"type\\\": \\\"symbol\\\", \\\"style\\\": [\\\"circle\\\"], \\\"from\\\": {\\\"data\\\": \\\"source_2\\\"}, \\\"encode\\\": {\\\"hover\\\": {\\\"fill\\\": {\\\"value\\\": \\\"#7EC2F3\\\"}}, \\\"update\\\": {\\\"x\\\": {\\\"scale\\\": \\\"x\\\", \\\"field\\\": \\\"x\\\"}, \\\"y\\\": {\\\"scale\\\": \\\"y\\\", \\\"field\\\": \\\"y\\\", \\\"title\\\": \\\"Miles per Gallon\\\"}, \\\"fill\\\": {\\\"value\\\": \\\"#108EE9\\\"}, \\\"shape\\\": {\\\"value\\\": \\\"circle\\\"}, \\\"opacity\\\": {\\\"value\\\": 0.7}}}}], \\\"scales\\\": [{\\\"name\\\": \\\"x\\\", \\\"type\\\": \\\"linear\\\", \\\"domain\\\": {\\\"data\\\": \\\"source_2\\\", \\\"field\\\": \\\"x\\\"}, \\\"range\\\": [0, {\\\"signal\\\": \\\"width\\\"}], \\\"nice\\\": true, \\\"zero\\\": false, \\\"padding\\\": 5}, {\\\"name\\\": \\\"y\\\", \\\"type\\\": \\\"linear\\\", \\\"domain\\\": {\\\"data\\\": \\\"source_2\\\", \\\"field\\\": \\\"y\\\"}, \\\"range\\\": [{\\\"signal\\\": \\\"height\\\"}, 0], \\\"nice\\\": true, \\\"zero\\\": false, \\\"padding\\\": 5}], \\\"axes\\\": [{\\\"scale\\\": \\\"x\\\", \\\"labelOverlap\\\": true, \\\"orient\\\": \\\"bottom\\\", \\\"tickCount\\\": {\\\"signal\\\": \\\"ceil(width/40)\\\"}, \\\"title\\\": \\\"X\\\", \\\"zindex\\\": 1}, {\\\"scale\\\": \\\"x\\\", \\\"domain\\\": false, \\\"grid\\\": true, \\\"labels\\\": false, \\\"maxExtent\\\": 0, \\\"minExtent\\\": 0, \\\"orient\\\": \\\"bottom\\\", \\\"tickCount\\\": {\\\"signal\\\": \\\"ceil(width/40)\\\"}, \\\"ticks\\\": false, \\\"zindex\\\": 0, \\\"gridScale\\\": \\\"y\\\"}, {\\\"scale\\\": \\\"y\\\", \\\"labelOverlap\\\": true, \\\"orient\\\": \\\"left\\\", \\\"tickCount\\\": {\\\"signal\\\": \\\"ceil(height/40)\\\"}, \\\"title\\\": \\\"Y\\\", \\\"zindex\\\": 1}, {\\\"scale\\\": \\\"y\\\", \\\"domain\\\": false, \\\"grid\\\": true, \\\"labels\\\": false, \\\"maxExtent\\\": 0, \\\"minExtent\\\": 0, \\\"orient\\\": \\\"left\\\", \\\"tickCount\\\": {\\\"signal\\\": \\\"ceil(height/40)\\\"}, \\\"ticks\\\": false, \\\"zindex\\\": 0, \\\"gridScale\\\": \\\"x\\\"}], \\\"config\\\": {\\\"axis\\\": {\\\"gridColor\\\": \\\"rgba(204,204,204,1.0)\\\", \\\"labelFont\\\": \\\"\\\\\\\"San Francisco\\\\\\\", HelveticaNeue, Arial\\\", \\\"labelFontSize\\\": 12, \\\"labelPadding\\\": 10, \\\"labelColor\\\": \\\"rgba(0,0,0,0.847)\\\", \\\"tickColor\\\": \\\"rgb(136,136,136)\\\", \\\"titleFont\\\": \\\"\\\\\\\"San Francisco\\\\\\\", HelveticaNeue, Arial\\\", \\\"titleFontWeight\\\": \\\"normal\\\", \\\"titlePadding\\\": 20, \\\"titleFontSize\\\": 14, \\\"titleColor\\\": \\\"rgba(0,0,0,0.847)\\\"}, \\\"axisY\\\": {\\\"minExtent\\\": 30}, \\\"legend\\\": {\\\"labelFont\\\": \\\"\\\\\\\"San Francisco\\\\\\\", HelveticaNeue, Arial\\\", \\\"labelColor\\\": \\\"rgba(0,0,0,0.847)\\\", \\\"titleFont\\\": \\\"\\\\\\\"San Francisco\\\\\\\", HelveticaNeue, Arial\\\", \\\"cornerRadius\\\": 30, \\\"gradientLength\\\": 608, \\\"titleColor\\\": \\\"rgba(0,0,0,0.847)\\\"}, \\\"range\\\": {\\\"heatmap\\\": {\\\"scheme\\\": \\\"greenblue\\\"}}, \\\"style\\\": {\\\"rect\\\": {\\\"stroke\\\": \\\"rgba(200, 200, 200, 0.5)\\\"}, \\\"cell\\\": {\\\"stroke\\\": \\\"transparent\\\"}, \\\"group-title\\\": {\\\"fontSize\\\": 29, \\\"font\\\": \\\"HelveticaNeue, Arial\\\", \\\"fontWeight\\\": \\\"normal\\\", \\\"fill\\\": \\\"rgba(0,0,0,0.65)\\\"}}, \\\"title\\\": {\\\"color\\\": \\\"rgba(0,0,0,0.847)\\\", \\\"font\\\": \\\"\\\\\\\"San Francisco\\\\\\\", HelveticaNeue, Arial\\\", \\\"fontSize\\\": 18, \\\"fontWeight\\\": \\\"normal\\\", \\\"offset\\\": 30}}}\";                                 var vega_json_parsed = JSON.parse(vega_json);                                 var toolTipOpts = {                                     showAllFields: true                                 };                                 if(vega_json_parsed[\"metadata\"] != null){                                     if(vega_json_parsed[\"metadata\"][\"bubbleOpts\"] != null){                                         toolTipOpts = vega_json_parsed[\"metadata\"][\"bubbleOpts\"];                                     };                                 };                                 vegaEmbed(\"#vis\", vega_json_parsed).then(function (result) {                                     vegaTooltip.vega(result.view, toolTipOpts);                                  });                             </script>                         </body>                     </html>' src=\"demo_iframe_srcdoc.htm\">                         <p>Your browser does not support iframes.</p>                     </iframe>                 </body>             </html>"
            ],
            "text/plain": [
              "<IPython.core.display.HTML object>"
            ]
          },
          "metadata": {
            "tags": []
          }
        }
      ]
    },
    {
      "cell_type": "markdown",
      "metadata": {
        "id": "Ek7s7rClSm39",
        "colab_type": "text"
      },
      "source": [
        "Model regression đơn giản dự đoán giá nhà theo diện tích (tính theo đơn vị feet^2)"
      ]
    },
    {
      "cell_type": "markdown",
      "metadata": {
        "id": "72KY6PFfO8lk",
        "colab_type": "text"
      },
      "source": [
        "Chia dữ liệu một cách ngẫu nhiêu các hàng của một SFrame thành 2 SFrames, cụ thể ở đây là \"training_set\" và \"test_set\" với tỉ lệ training_set/test_set = 80/20"
      ]
    },
    {
      "cell_type": "code",
      "metadata": {
        "id": "t0x5XS5DS1kK",
        "colab_type": "code",
        "colab": {}
      },
      "source": [
        "training_set, test_set = sales.random_split(.8,seed=0)"
      ],
      "execution_count": null,
      "outputs": []
    },
    {
      "cell_type": "markdown",
      "metadata": {
        "id": "KGwjZLUKS66Y",
        "colab_type": "text"
      },
      "source": [
        "Train model regression đơn giản: Train model với dữ liệu lấy từ SFrame \"training_set\", sử dụng feature \"sqft_living\" dự đoán đầu ra là \"price\""
      ]
    },
    {
      "cell_type": "code",
      "metadata": {
        "id": "OKflO571S9su",
        "colab_type": "code",
        "colab": {
          "base_uri": "https://localhost:8080/",
          "height": 306
        },
        "outputId": "6cb37132-a252-4608-c341-0cd24f1bc03a"
      },
      "source": [
        "sqft_model = turicreate.linear_regression.create(training_set,target='price',features=['sqft_living'])"
      ],
      "execution_count": null,
      "outputs": [
        {
          "output_type": "stream",
          "text": [
            "PROGRESS: Creating a validation set from 5 percent of training data. This may take a while.\n",
            "          You can set ``validation_set=None`` to disable validation tracking.\n",
            "\n"
          ],
          "name": "stdout"
        },
        {
          "output_type": "display_data",
          "data": {
            "text/html": [
              "<pre>Linear regression:</pre>"
            ],
            "text/plain": [
              "Linear regression:"
            ]
          },
          "metadata": {
            "tags": []
          }
        },
        {
          "output_type": "display_data",
          "data": {
            "text/html": [
              "<pre>--------------------------------------------------------</pre>"
            ],
            "text/plain": [
              "--------------------------------------------------------"
            ]
          },
          "metadata": {
            "tags": []
          }
        },
        {
          "output_type": "display_data",
          "data": {
            "text/html": [
              "<pre>Number of examples          : 16514</pre>"
            ],
            "text/plain": [
              "Number of examples          : 16514"
            ]
          },
          "metadata": {
            "tags": []
          }
        },
        {
          "output_type": "display_data",
          "data": {
            "text/html": [
              "<pre>Number of features          : 1</pre>"
            ],
            "text/plain": [
              "Number of features          : 1"
            ]
          },
          "metadata": {
            "tags": []
          }
        },
        {
          "output_type": "display_data",
          "data": {
            "text/html": [
              "<pre>Number of unpacked features : 1</pre>"
            ],
            "text/plain": [
              "Number of unpacked features : 1"
            ]
          },
          "metadata": {
            "tags": []
          }
        },
        {
          "output_type": "display_data",
          "data": {
            "text/html": [
              "<pre>Number of coefficients    : 2</pre>"
            ],
            "text/plain": [
              "Number of coefficients    : 2"
            ]
          },
          "metadata": {
            "tags": []
          }
        },
        {
          "output_type": "display_data",
          "data": {
            "text/html": [
              "<pre>Starting Newton Method</pre>"
            ],
            "text/plain": [
              "Starting Newton Method"
            ]
          },
          "metadata": {
            "tags": []
          }
        },
        {
          "output_type": "display_data",
          "data": {
            "text/html": [
              "<pre>--------------------------------------------------------</pre>"
            ],
            "text/plain": [
              "--------------------------------------------------------"
            ]
          },
          "metadata": {
            "tags": []
          }
        },
        {
          "output_type": "display_data",
          "data": {
            "text/html": [
              "<pre>+-----------+----------+--------------+--------------------+----------------------+---------------------------------+-----------------------------------+</pre>"
            ],
            "text/plain": [
              "+-----------+----------+--------------+--------------------+----------------------+---------------------------------+-----------------------------------+"
            ]
          },
          "metadata": {
            "tags": []
          }
        },
        {
          "output_type": "display_data",
          "data": {
            "text/html": [
              "<pre>| Iteration | Passes   | Elapsed Time | Training Max Error | Validation Max Error | Training Root-Mean-Square Error | Validation Root-Mean-Square Error |</pre>"
            ],
            "text/plain": [
              "| Iteration | Passes   | Elapsed Time | Training Max Error | Validation Max Error | Training Root-Mean-Square Error | Validation Root-Mean-Square Error |"
            ]
          },
          "metadata": {
            "tags": []
          }
        },
        {
          "output_type": "display_data",
          "data": {
            "text/html": [
              "<pre>+-----------+----------+--------------+--------------------+----------------------+---------------------------------+-----------------------------------+</pre>"
            ],
            "text/plain": [
              "+-----------+----------+--------------+--------------------+----------------------+---------------------------------+-----------------------------------+"
            ]
          },
          "metadata": {
            "tags": []
          }
        },
        {
          "output_type": "display_data",
          "data": {
            "text/html": [
              "<pre>| 1         | 2        | 1.003645     | 4347896.777784     | 1858647.542713       | 264118.524140                   | 239556.452245                     |</pre>"
            ],
            "text/plain": [
              "| 1         | 2        | 1.003645     | 4347896.777784     | 1858647.542713       | 264118.524140                   | 239556.452245                     |"
            ]
          },
          "metadata": {
            "tags": []
          }
        },
        {
          "output_type": "display_data",
          "data": {
            "text/html": [
              "<pre>+-----------+----------+--------------+--------------------+----------------------+---------------------------------+-----------------------------------+</pre>"
            ],
            "text/plain": [
              "+-----------+----------+--------------+--------------------+----------------------+---------------------------------+-----------------------------------+"
            ]
          },
          "metadata": {
            "tags": []
          }
        },
        {
          "output_type": "display_data",
          "data": {
            "text/html": [
              "<pre>SUCCESS: Optimal solution found.</pre>"
            ],
            "text/plain": [
              "SUCCESS: Optimal solution found."
            ]
          },
          "metadata": {
            "tags": []
          }
        },
        {
          "output_type": "display_data",
          "data": {
            "text/html": [
              "<pre></pre>"
            ],
            "text/plain": [
              ""
            ]
          },
          "metadata": {
            "tags": []
          }
        }
      ]
    },
    {
      "cell_type": "markdown",
      "metadata": {
        "id": "LjFcCk94TLlC",
        "colab_type": "text"
      },
      "source": [
        "Đánh giá chất lượng của một model"
      ]
    },
    {
      "cell_type": "markdown",
      "metadata": {
        "id": "YVf_pRGGRn4z",
        "colab_type": "text"
      },
      "source": [
        "Giá trị trung bình của các giá trị \"price\" trong bộ test_set "
      ]
    },
    {
      "cell_type": "code",
      "metadata": {
        "id": "vX3GbZEeTOS5",
        "colab_type": "code",
        "colab": {
          "base_uri": "https://localhost:8080/",
          "height": 34
        },
        "outputId": "a8bfdb89-28a7-4a9d-b2f4-de6a0e828d7e"
      },
      "source": [
        "print (test_set['price'].mean())"
      ],
      "execution_count": null,
      "outputs": [
        {
          "output_type": "stream",
          "text": [
            "543054.0425632533\n"
          ],
          "name": "stdout"
        }
      ]
    },
    {
      "cell_type": "markdown",
      "metadata": {
        "id": "48xJn-oxSrcQ",
        "colab_type": "text"
      },
      "source": [
        "Đánh giá model thông qua giá trị max_error và rmse\n",
        "\n",
        "Trong đó:\n",
        "\n",
        "max_error là giá trị tuyệt đối của sai số lớn nhất giữa giá trị thực sự và giá trị dự đoán\n",
        "\n",
        "rmse (Root-mean-squared-error): Độ lệch trung bình bình phương gốc\n"
      ]
    },
    {
      "cell_type": "code",
      "metadata": {
        "id": "ML5hDnLOTTbn",
        "colab_type": "code",
        "colab": {
          "base_uri": "https://localhost:8080/",
          "height": 34
        },
        "outputId": "9e5bfe43-61e7-4eb3-a7a3-d80998e1d9d1"
      },
      "source": [
        "print (sqft_model.evaluate(test_set))"
      ],
      "execution_count": null,
      "outputs": [
        {
          "output_type": "stream",
          "text": [
            "{'max_error': 4142341.1082330598, 'rmse': 255200.027474669}\n"
          ],
          "name": "stdout"
        }
      ]
    },
    {
      "cell_type": "markdown",
      "metadata": {
        "id": "nRzOzTmtT6KT",
        "colab_type": "text"
      },
      "source": [
        "Explore model a little further"
      ]
    },
    {
      "cell_type": "markdown",
      "metadata": {
        "id": "Af5CvIkSYNYn",
        "colab_type": "text"
      },
      "source": [
        "In ra các hệ số tương quan của model"
      ]
    },
    {
      "cell_type": "code",
      "metadata": {
        "id": "HR6AZhU5T-6y",
        "colab_type": "code",
        "colab": {
          "base_uri": "https://localhost:8080/",
          "height": 93
        },
        "outputId": "f9b99bbd-e099-45f1-9c5d-04fa059242a9"
      },
      "source": [
        "sqft_model.coefficients"
      ],
      "execution_count": null,
      "outputs": [
        {
          "output_type": "execute_result",
          "data": {
            "text/html": [
              "<div style=\"max-height:1000px;max-width:1500px;overflow:auto;\"><table frame=\"box\" rules=\"cols\">\n",
              "    <tr>\n",
              "        <th style=\"padding-left: 1em; padding-right: 1em; text-align: center\">name</th>\n",
              "        <th style=\"padding-left: 1em; padding-right: 1em; text-align: center\">index</th>\n",
              "        <th style=\"padding-left: 1em; padding-right: 1em; text-align: center\">value</th>\n",
              "        <th style=\"padding-left: 1em; padding-right: 1em; text-align: center\">stderr</th>\n",
              "    </tr>\n",
              "    <tr>\n",
              "        <td style=\"padding-left: 1em; padding-right: 1em; text-align: center; vertical-align: top\">(intercept)</td>\n",
              "        <td style=\"padding-left: 1em; padding-right: 1em; text-align: center; vertical-align: top\">None</td>\n",
              "        <td style=\"padding-left: 1em; padding-right: 1em; text-align: center; vertical-align: top\">-47806.12126262975</td>\n",
              "        <td style=\"padding-left: 1em; padding-right: 1em; text-align: center; vertical-align: top\">5062.1146905207</td>\n",
              "    </tr>\n",
              "    <tr>\n",
              "        <td style=\"padding-left: 1em; padding-right: 1em; text-align: center; vertical-align: top\">sqft_living</td>\n",
              "        <td style=\"padding-left: 1em; padding-right: 1em; text-align: center; vertical-align: top\">None</td>\n",
              "        <td style=\"padding-left: 1em; padding-right: 1em; text-align: center; vertical-align: top\">282.15015298580084</td>\n",
              "        <td style=\"padding-left: 1em; padding-right: 1em; text-align: center; vertical-align: top\">2.22228205238106</td>\n",
              "    </tr>\n",
              "</table>\n",
              "[2 rows x 4 columns]<br/>\n",
              "</div>"
            ],
            "text/plain": [
              "Columns:\n",
              "\tname\tstr\n",
              "\tindex\tstr\n",
              "\tvalue\tfloat\n",
              "\tstderr\tfloat\n",
              "\n",
              "Rows: 2\n",
              "\n",
              "Data:\n",
              "+-------------+-------+--------------------+------------------+\n",
              "|     name    | index |       value        |      stderr      |\n",
              "+-------------+-------+--------------------+------------------+\n",
              "| (intercept) |  None | -47806.12126262975 | 5062.1146905207  |\n",
              "| sqft_living |  None | 282.15015298580084 | 2.22228205238106 |\n",
              "+-------------+-------+--------------------+------------------+\n",
              "[2 rows x 4 columns]"
            ]
          },
          "metadata": {
            "tags": []
          },
          "execution_count": 20
        }
      ]
    },
    {
      "cell_type": "markdown",
      "metadata": {
        "id": "14whscu0Yhiz",
        "colab_type": "text"
      },
      "source": [
        "Chấm xanh: biểu diễn mối liên hệ giữa sqft_living và price trong test_set\n",
        "\n",
        "Đường thẳng màu đỏ: biểu diễn mối liên hệ giữa sqft_living và giá trị price dự đoán được trong bộ test_set"
      ]
    },
    {
      "cell_type": "code",
      "metadata": {
        "id": "bHijc1hmVcrE",
        "colab_type": "code",
        "colab": {
          "base_uri": "https://localhost:8080/",
          "height": 310
        },
        "outputId": "f8b72945-8c7a-42e3-beae-b08d896e1dcc"
      },
      "source": [
        "import matplotlib.pyplot as plt\n",
        "%matplotlib inline\n",
        "plt.plot(test_set['sqft_living'],test_set['price'],'.',\n",
        "        test_set['sqft_living'],sqft_model.predict(test_set),'-')"
      ],
      "execution_count": null,
      "outputs": [
        {
          "output_type": "execute_result",
          "data": {
            "text/plain": [
              "[<matplotlib.lines.Line2D at 0x7fc72a6a9518>,\n",
              " <matplotlib.lines.Line2D at 0x7fc727cfdda0>]"
            ]
          },
          "metadata": {
            "tags": []
          },
          "execution_count": 21
        },
        {
          "output_type": "display_data",
          "data": {
            "image/png": "[encoded data removed]",
            "text/plain": [
              "<Figure size 432x288 with 1 Axes>"
            ]
          },
          "metadata": {
            "tags": [],
            "needs_background": "light"
          }
        }
      ]
    },
    {
      "cell_type": "markdown",
      "metadata": {
        "id": "YknWeyYxV6Iq",
        "colab_type": "text"
      },
      "source": [
        "Khai phá thêm các feature khác"
      ]
    },
    {
      "cell_type": "code",
      "metadata": {
        "id": "lEmFFgpFV-ij",
        "colab_type": "code",
        "colab": {}
      },
      "source": [
        "my_features = ['bedrooms','bathrooms','sqft_living','sqft_lot','floors','zipcode']"
      ],
      "execution_count": null,
      "outputs": []
    },
    {
      "cell_type": "code",
      "metadata": {
        "id": "BpDfEmgxWCot",
        "colab_type": "code",
        "colab": {
          "base_uri": "https://localhost:8080/",
          "height": 1000
        },
        "outputId": "da839b2a-0e5a-4874-dce7-f791798fb36b"
      },
      "source": [
        "sales[my_features].show()"
      ],
      "execution_count": null,
      "outputs": [
        {
          "output_type": "display_data",
          "data": {
            "text/html": [
              "<pre>Materializing SFrame</pre>"
            ],
            "text/plain": [
              "Materializing SFrame"
            ]
          },
          "metadata": {
            "tags": []
          }
        },
        {
          "output_type": "display_data",
          "data": {
            "text/html": [
              "<html>                 <body>                     <iframe style=\"border:0;margin:0\" width=\"1000\" height=\"2100\" srcdoc='<html lang=\"en\">                         <head>                             <script src=\"https://cdnjs.cloudflare.com/ajax/libs/vega/5.4.0/vega.js\"></script>                             <script src=\"https://cdnjs.cloudflare.com/ajax/libs/vega-embed/4.0.0/vega-embed.js\"></script>                             <script src=\"https://cdnjs.cloudflare.com/ajax/libs/vega-tooltip/0.5.1/vega-tooltip.min.js\"></script>                             <link rel=\"stylesheet\" type=\"text/css\" href=\"https://cdnjs.cloudflare.com/ajax/libs/vega-tooltip/0.5.1/vega-tooltip.min.css\">                             <style>                             .vega-actions > a{                                 color:white;                                 text-decoration: none;                                 font-family: \"Arial\";                                 cursor:pointer;                                 padding:5px;                                 background:#AAAAAA;                                 border-radius:4px;                                 padding-left:10px;                                 padding-right:10px;                                 margin-right:5px;                             }                             .vega-actions{                                 margin-top:20px;                                 text-align:center                             }                            .vega-actions > a{                                 background:#999999;                            }                             </style>                         </head>                         <body>                             <div id=\"vis\">                             </div>                             <script>                                 var vega_json = \"{\\\"$schema\\\": \\\"https://vega.github.io/schema/vega/v4.json\\\", \\\"metadata\\\": {\\\"bubbleOpts\\\": {\\\"showAllFields\\\": false, \\\"fields\\\": [{\\\"field\\\": \\\"left\\\"}, {\\\"field\\\": \\\"right\\\"}, {\\\"field\\\": \\\"count\\\"}, {\\\"field\\\": \\\"label\\\"}]}}, \\\"width\\\": 800, \\\"height\\\": 1880, \\\"padding\\\": 8, \\\"data\\\": [{\\\"name\\\": \\\"pts_store\\\"}, {\\\"name\\\": \\\"source_2\\\", \\\"values\\\": [{\\\"a\\\": 0, \\\"title\\\": \\\"bedrooms\\\", \\\"num_row\\\": 21613, \\\"type\\\": \\\"float\\\", \\\"num_unique\\\": 13, \\\"num_missing\\\": 0, \\\"mean\\\": 3.370842, \\\"min\\\": 0.0, \\\"max\\\": 33.0, \\\"median\\\": 3.0, \\\"stdev\\\": 0.93004, \\\"numeric\\\": [{\\\"left\\\": -0.057, \\\"right\\\": 1.60188, \\\"count\\\": 212}, {\\\"left\\\": 1.60188, \\\"right\\\": 3.26076, \\\"count\\\": 12584}, {\\\"left\\\": 3.26076, \\\"right\\\": 4.91964, \\\"count\\\": 6882}, {\\\"left\\\": 4.91964, \\\"right\\\": 6.57852, \\\"count\\\": 1873}, {\\\"left\\\": 6.57852, \\\"right\\\": 8.2374, \\\"count\\\": 51}, {\\\"left\\\": 8.2374, \\\"right\\\": 9.89628, \\\"count\\\": 6}, {\\\"left\\\": 9.89628, \\\"right\\\": 11.5552, \\\"count\\\": 4}, {\\\"left\\\": 11.5552, \\\"right\\\": 13.214, \\\"count\\\": 0}, {\\\"left\\\": 13.214, \\\"right\\\": 14.8729, \\\"count\\\": 0}, {\\\"left\\\": 14.8729, \\\"right\\\": 16.5318, \\\"count\\\": 0}, {\\\"left\\\": 16.5318, \\\"right\\\": 18.1907, \\\"count\\\": 0}, {\\\"left\\\": 18.1907, \\\"right\\\": 19.8496, \\\"count\\\": 0}, {\\\"left\\\": 19.8496, \\\"right\\\": 21.5084, \\\"count\\\": 0}, {\\\"left\\\": 21.5084, \\\"right\\\": 23.1673, \\\"count\\\": 0}, {\\\"left\\\": 23.1673, \\\"right\\\": 24.8262, \\\"count\\\": 0}, {\\\"left\\\": 24.8262, \\\"right\\\": 26.4851, \\\"count\\\": 0}, {\\\"left\\\": 26.4851, \\\"right\\\": 28.144, \\\"count\\\": 0}, {\\\"left\\\": 28.144, \\\"right\\\": 29.8028, \\\"count\\\": 0}, {\\\"left\\\": 29.8028, \\\"right\\\": 31.4617, \\\"count\\\": 0}, {\\\"left\\\": 31.4617, \\\"right\\\": 33.1206, \\\"count\\\": 1}, {\\\"start\\\": -0.057, \\\"stop\\\": 33.1206, \\\"step\\\": 1.65888}], \\\"categorical\\\": []}, {\\\"a\\\": 1, \\\"title\\\": \\\"bathrooms\\\", \\\"num_row\\\": 21613, \\\"type\\\": \\\"float\\\", \\\"num_unique\\\": 30, \\\"num_missing\\\": 0, \\\"mean\\\": 2.114757, \\\"min\\\": 0.0, \\\"max\\\": 8.0, \\\"median\\\": 2.25, \\\"stdev\\\": 0.770145, \\\"numeric\\\": [{\\\"left\\\": -0.195, \\\"right\\\": 0.225, \\\"count\\\": 10}, {\\\"left\\\": 0.225, \\\"right\\\": 0.645, \\\"count\\\": 4}, {\\\"left\\\": 0.645, \\\"right\\\": 1.065, \\\"count\\\": 3924}, {\\\"left\\\": 1.065, \\\"right\\\": 1.485, \\\"count\\\": 9}, {\\\"left\\\": 1.485, \\\"right\\\": 1.905, \\\"count\\\": 4494}, {\\\"left\\\": 1.905, \\\"right\\\": 2.325, \\\"count\\\": 3977}, {\\\"left\\\": 2.325, \\\"right\\\": 2.745, \\\"count\\\": 5380}, {\\\"left\\\": 2.745, \\\"right\\\": 3.165, \\\"count\\\": 1938}, {\\\"left\\\": 3.165, \\\"right\\\": 3.585, \\\"count\\\": 1320}, {\\\"left\\\": 3.585, \\\"right\\\": 4.005, \\\"count\\\": 291}, {\\\"left\\\": 4.005, \\\"right\\\": 4.425, \\\"count\\\": 79}, {\\\"left\\\": 4.425, \\\"right\\\": 4.845, \\\"count\\\": 123}, {\\\"left\\\": 4.845, \\\"right\\\": 5.265, \\\"count\\\": 34}, {\\\"left\\\": 5.265, \\\"right\\\": 5.685, \\\"count\\\": 10}, {\\\"left\\\": 5.685, \\\"right\\\": 6.105, \\\"count\\\": 10}, {\\\"left\\\": 6.105, \\\"right\\\": 6.525, \\\"count\\\": 4}, {\\\"left\\\": 6.525, \\\"right\\\": 6.945, \\\"count\\\": 2}, {\\\"left\\\": 6.945, \\\"right\\\": 7.365, \\\"count\\\": 0}, {\\\"left\\\": 7.365, \\\"right\\\": 7.785, \\\"count\\\": 2}, {\\\"left\\\": 7.785, \\\"right\\\": 8.205, \\\"count\\\": 2}, {\\\"start\\\": -0.195, \\\"stop\\\": 8.205, \\\"step\\\": 0.42}], \\\"categorical\\\": []}, {\\\"a\\\": 2, \\\"title\\\": \\\"sqft_living\\\", \\\"num_row\\\": 21613, \\\"type\\\": \\\"float\\\", \\\"num_unique\\\": 1038, \\\"num_missing\\\": 0, \\\"mean\\\": 2079.899736, \\\"min\\\": 290.0, \\\"max\\\": 13540.0, \\\"median\\\": 1910.0, \\\"stdev\\\": 918.419649, \\\"numeric\\\": [{\\\"left\\\": 273.72, \\\"right\\\": 940.92, \\\"count\\\": 1133}, {\\\"left\\\": 940.92, \\\"right\\\": 1608.12, \\\"count\\\": 6322}, {\\\"left\\\": 1608.12, \\\"right\\\": 2275.32, \\\"count\\\": 6718}, {\\\"left\\\": 2275.32, \\\"right\\\": 2942.52, \\\"count\\\": 4111}, {\\\"left\\\": 2942.52, \\\"right\\\": 3609.72, \\\"count\\\": 1991}, {\\\"left\\\": 3609.72, \\\"right\\\": 4276.92, \\\"count\\\": 800}, {\\\"left\\\": 4276.92, \\\"right\\\": 4944.12, \\\"count\\\": 318}, {\\\"left\\\": 4944.12, \\\"right\\\": 5611.32, \\\"count\\\": 115}, {\\\"left\\\": 5611.32, \\\"right\\\": 6278.52, \\\"count\\\": 52}, {\\\"left\\\": 6278.52, \\\"right\\\": 6945.72, \\\"count\\\": 23}, {\\\"left\\\": 6945.72, \\\"right\\\": 7612.92, \\\"count\\\": 15}, {\\\"left\\\": 7612.92, \\\"right\\\": 8280.12, \\\"count\\\": 8}, {\\\"left\\\": 8280.12, \\\"right\\\": 8947.32, \\\"count\\\": 1}, {\\\"left\\\": 8947.32, \\\"right\\\": 9614.52, \\\"count\\\": 1}, {\\\"left\\\": 9614.52, \\\"right\\\": 10281.7, \\\"count\\\": 3}, {\\\"left\\\": 10281.7, \\\"right\\\": 10948.9, \\\"count\\\": 0}, {\\\"left\\\": 10948.9, \\\"right\\\": 11616.1, \\\"count\\\": 0}, {\\\"left\\\": 11616.1, \\\"right\\\": 12283.3, \\\"count\\\": 1}, {\\\"left\\\": 12283.3, \\\"right\\\": 12950.5, \\\"count\\\": 0}, {\\\"left\\\": 12950.5, \\\"right\\\": 13617.7, \\\"count\\\": 1}, {\\\"start\\\": 273.72, \\\"stop\\\": 13617.7, \\\"step\\\": 667.2}], \\\"categorical\\\": []}, {\\\"a\\\": 3, \\\"title\\\": \\\"sqft_lot\\\", \\\"num_row\\\": 21613, \\\"type\\\": \\\"float\\\", \\\"num_unique\\\": 9782, \\\"num_missing\\\": 0, \\\"mean\\\": 15106.967566, \\\"min\\\": 520.0, \\\"max\\\": 1651359.0, \\\"median\\\": 7620.0, \\\"stdev\\\": 41419.553273, \\\"numeric\\\": [{\\\"left\\\": -19637.3, \\\"right\\\": 65133.5, \\\"count\\\": 20944}, {\\\"left\\\": 65133.5, \\\"right\\\": 149904, \\\"count\\\": 337}, {\\\"left\\\": 149904, \\\"right\\\": 234675, \\\"count\\\": 210}, {\\\"left\\\": 234675, \\\"right\\\": 319446, \\\"count\\\": 56}, {\\\"left\\\": 319446, \\\"right\\\": 404217, \\\"count\\\": 25}, {\\\"left\\\": 404217, \\\"right\\\": 488988, \\\"count\\\": 18}, {\\\"left\\\": 488988, \\\"right\\\": 573758, \\\"count\\\": 8}, {\\\"left\\\": 573758, \\\"right\\\": 658529, \\\"count\\\": 3}, {\\\"left\\\": 658529, \\\"right\\\": 743300, \\\"count\\\": 1}, {\\\"left\\\": 743300, \\\"right\\\": 828071, \\\"count\\\": 0}, {\\\"left\\\": 828071, \\\"right\\\": 912842, \\\"count\\\": 4}, {\\\"left\\\": 912842, \\\"right\\\": 997612, \\\"count\\\": 3}, {\\\"left\\\": 997612, \\\"right\\\": 1082380.0, \\\"count\\\": 2}, {\\\"left\\\": 1082380.0, \\\"right\\\": 1167150.0, \\\"count\\\": 1}, {\\\"left\\\": 1167150.0, \\\"right\\\": 1251920.0, \\\"count\\\": 0}, {\\\"left\\\": 1251920.0, \\\"right\\\": 1336700.0, \\\"count\\\": 0}, {\\\"left\\\": 1336700.0, \\\"right\\\": 1421470.0, \\\"count\\\": 0}, {\\\"left\\\": 1421470.0, \\\"right\\\": 1506240.0, \\\"count\\\": 0}, {\\\"left\\\": 1506240.0, \\\"right\\\": 1591010.0, \\\"count\\\": 0}, {\\\"left\\\": 1591010.0, \\\"right\\\": 1675780.0, \\\"count\\\": 1}, {\\\"start\\\": -19637.3, \\\"stop\\\": 1675780.0, \\\"step\\\": 84770.8}], \\\"categorical\\\": []}, {\\\"a\\\": 4, \\\"title\\\": \\\"floors\\\", \\\"num_row\\\": 21613, \\\"type\\\": \\\"float\\\", \\\"num_unique\\\": 6, \\\"num_missing\\\": 0, \\\"mean\\\": 1.494309, \\\"min\\\": 1.0, \\\"max\\\": 3.5, \\\"median\\\": 1.5, \\\"stdev\\\": 0.539976, \\\"numeric\\\": [{\\\"left\\\": 0.972, \\\"right\\\": 1.0984, \\\"count\\\": 10680}, {\\\"left\\\": 1.0984, \\\"right\\\": 1.2248, \\\"count\\\": 0}, {\\\"left\\\": 1.2248, \\\"right\\\": 1.3512, \\\"count\\\": 0}, {\\\"left\\\": 1.3512, \\\"right\\\": 1.4776, \\\"count\\\": 0}, {\\\"left\\\": 1.4776, \\\"right\\\": 1.604, \\\"count\\\": 1910}, {\\\"left\\\": 1.604, \\\"right\\\": 1.7304, \\\"count\\\": 0}, {\\\"left\\\": 1.7304, \\\"right\\\": 1.8568, \\\"count\\\": 0}, {\\\"left\\\": 1.8568, \\\"right\\\": 1.9832, \\\"count\\\": 0}, {\\\"left\\\": 1.9832, \\\"right\\\": 2.1096, \\\"count\\\": 8241}, {\\\"left\\\": 2.1096, \\\"right\\\": 2.236, \\\"count\\\": 0}, {\\\"left\\\": 2.236, \\\"right\\\": 2.3624, \\\"count\\\": 0}, {\\\"left\\\": 2.3624, \\\"right\\\": 2.4888, \\\"count\\\": 161}, {\\\"left\\\": 2.4888, \\\"right\\\": 2.6152, \\\"count\\\": 0}, {\\\"left\\\": 2.6152, \\\"right\\\": 2.7416, \\\"count\\\": 0}, {\\\"left\\\": 2.7416, \\\"right\\\": 2.868, \\\"count\\\": 0}, {\\\"left\\\": 2.868, \\\"right\\\": 2.9944, \\\"count\\\": 613}, {\\\"left\\\": 2.9944, \\\"right\\\": 3.1208, \\\"count\\\": 0}, {\\\"left\\\": 3.1208, \\\"right\\\": 3.2472, \\\"count\\\": 0}, {\\\"left\\\": 3.2472, \\\"right\\\": 3.3736, \\\"count\\\": 0}, {\\\"left\\\": 3.3736, \\\"right\\\": 3.5, \\\"count\\\": 8}, {\\\"start\\\": 0.972, \\\"stop\\\": 3.5, \\\"step\\\": 0.1264}], \\\"categorical\\\": []}, {\\\"a\\\": 5, \\\"title\\\": \\\"zipcode\\\", \\\"num_row\\\": 21613, \\\"type\\\": \\\"str\\\", \\\"num_unique\\\": 70, \\\"num_missing\\\": 0, \\\"categorical\\\": [{\\\"label\\\": \\\"98103\\\", \\\"label_idx\\\": 0, \\\"count\\\": 602, \\\"percentage\\\": \\\"2.78536%\\\"}, {\\\"label\\\": \\\"98038\\\", \\\"label_idx\\\": 1, \\\"count\\\": 590, \\\"percentage\\\": \\\"2.72984%\\\"}, {\\\"label\\\": \\\"98115\\\", \\\"label_idx\\\": 2, \\\"count\\\": 583, \\\"percentage\\\": \\\"2.69745%\\\"}, {\\\"label\\\": \\\"98052\\\", \\\"label_idx\\\": 3, \\\"count\\\": 574, \\\"percentage\\\": \\\"2.65581%\\\"}, {\\\"label\\\": \\\"98117\\\", \\\"label_idx\\\": 4, \\\"count\\\": 553, \\\"percentage\\\": \\\"2.55865%\\\"}, {\\\"label\\\": \\\"98042\\\", \\\"label_idx\\\": 5, \\\"count\\\": 548, \\\"percentage\\\": \\\"2.53551%\\\"}, {\\\"label\\\": \\\"98034\\\", \\\"label_idx\\\": 6, \\\"count\\\": 545, \\\"percentage\\\": \\\"2.52163%\\\"}, {\\\"label\\\": \\\"98118\\\", \\\"label_idx\\\": 7, \\\"count\\\": 508, \\\"percentage\\\": \\\"2.35044%\\\"}, {\\\"label\\\": \\\"98023\\\", \\\"label_idx\\\": 8, \\\"count\\\": 499, \\\"percentage\\\": \\\"2.3088%\\\"}, {\\\"label\\\": \\\"98006\\\", \\\"label_idx\\\": 9, \\\"count\\\": 498, \\\"percentage\\\": \\\"2.30417%\\\"}, {\\\"label\\\": \\\"Other (60 labels)\\\", \\\"label_idx\\\": 10, \\\"count\\\": 16113, \\\"percentage\\\": \\\"74.5524%\\\"}], \\\"numeric\\\": []}]}, {\\\"name\\\": \\\"data_2\\\", \\\"source\\\": \\\"source_2\\\", \\\"transform\\\": [{\\\"type\\\": \\\"formula\\\", \\\"expr\\\": \\\"20\\\", \\\"as\\\": \\\"c_x_axis_back\\\"}, {\\\"type\\\": \\\"formula\\\", \\\"expr\\\": \\\"toNumber(datum[\\\\\\\"a\\\\\\\"])*300+66\\\", \\\"as\\\": \\\"c_main_background\\\"}, {\\\"type\\\": \\\"formula\\\", \\\"expr\\\": \\\"toNumber(datum[\\\\\\\"a\\\\\\\"])*300+43\\\", \\\"as\\\": \\\"c_top_bar\\\"}, {\\\"type\\\": \\\"formula\\\", \\\"expr\\\": \\\"toNumber(datum[\\\\\\\"a\\\\\\\"])*300+59\\\", \\\"as\\\": \\\"c_top_title\\\"}, {\\\"type\\\": \\\"formula\\\", \\\"expr\\\": \\\"toNumber(datum[\\\\\\\"a\\\\\\\"])*300+58\\\", \\\"as\\\": \\\"c_top_type\\\"}, {\\\"type\\\": \\\"formula\\\", \\\"expr\\\": \\\"toNumber(datum[\\\\\\\"a\\\\\\\"])*300+178\\\", \\\"as\\\": \\\"c_rule\\\"}, {\\\"type\\\": \\\"formula\\\", \\\"expr\\\": \\\"toNumber(datum[\\\\\\\"a\\\\\\\"])*300+106\\\", \\\"as\\\": \\\"c_num_rows\\\"}, {\\\"type\\\": \\\"formula\\\", \\\"expr\\\": \\\"toNumber(datum[\\\\\\\"a\\\\\\\"])*300+130\\\", \\\"as\\\": \\\"c_num_unique\\\"}, {\\\"type\\\": \\\"formula\\\", \\\"expr\\\": \\\"toNumber(datum[\\\\\\\"a\\\\\\\"])*300+154\\\", \\\"as\\\": \\\"c_missing\\\"}, {\\\"type\\\": \\\"formula\\\", \\\"expr\\\": \\\"toNumber(datum[\\\\\\\"a\\\\\\\"])*300+105\\\", \\\"as\\\": \\\"c_num_rows_val\\\"}, {\\\"type\\\": \\\"formula\\\", \\\"expr\\\": \\\"toNumber(datum[\\\\\\\"a\\\\\\\"])*300+130\\\", \\\"as\\\": \\\"c_num_unique_val\\\"}, {\\\"type\\\": \\\"formula\\\", \\\"expr\\\": \\\"toNumber(datum[\\\\\\\"a\\\\\\\"])*300+154\\\", \\\"as\\\": \\\"c_missing_val\\\"}, {\\\"type\\\": \\\"formula\\\", \\\"expr\\\": \\\"toNumber(datum[\\\\\\\"a\\\\\\\"])*300+195\\\", \\\"as\\\": \\\"c_frequent_items\\\"}, {\\\"type\\\": \\\"formula\\\", \\\"expr\\\": \\\"toNumber(datum[\\\\\\\"a\\\\\\\"])*300+218\\\", \\\"as\\\": \\\"c_first_item\\\"}, {\\\"type\\\": \\\"formula\\\", \\\"expr\\\": \\\"toNumber(datum[\\\\\\\"a\\\\\\\"])*300+235\\\", \\\"as\\\": \\\"c_second_item\\\"}, {\\\"type\\\": \\\"formula\\\", \\\"expr\\\": \\\"toNumber(datum[\\\\\\\"a\\\\\\\"])*300+252\\\", \\\"as\\\": \\\"c_third_item\\\"}, {\\\"type\\\": \\\"formula\\\", \\\"expr\\\": \\\"toNumber(datum[\\\\\\\"a\\\\\\\"])*300+269\\\", \\\"as\\\": \\\"c_fourth_item\\\"}, {\\\"type\\\": \\\"formula\\\", \\\"expr\\\": \\\"toNumber(datum[\\\\\\\"a\\\\\\\"])*300+286\\\", \\\"as\\\": \\\"c_fifth_item\\\"}, {\\\"type\\\": \\\"formula\\\", \\\"expr\\\": \\\"toNumber(datum[\\\\\\\"a\\\\\\\"])*300+200\\\", \\\"as\\\": \\\"c_mean\\\"}, {\\\"type\\\": \\\"formula\\\", \\\"expr\\\": \\\"toNumber(datum[\\\\\\\"a\\\\\\\"])*300+220\\\", \\\"as\\\": \\\"c_min\\\"}, {\\\"type\\\": \\\"formula\\\", \\\"expr\\\": \\\"toNumber(datum[\\\\\\\"a\\\\\\\"])*300+240\\\", \\\"as\\\": \\\"c_max\\\"}, {\\\"type\\\": \\\"formula\\\", \\\"expr\\\": \\\"toNumber(datum[\\\\\\\"a\\\\\\\"])*300+260\\\", \\\"as\\\": \\\"c_median\\\"}, {\\\"type\\\": \\\"formula\\\", \\\"expr\\\": \\\"toNumber(datum[\\\\\\\"a\\\\\\\"])*300+280\\\", \\\"as\\\": \\\"c_stdev\\\"}, {\\\"type\\\": \\\"formula\\\", \\\"expr\\\": \\\"toNumber(datum[\\\\\\\"a\\\\\\\"])*300+198\\\", \\\"as\\\": \\\"c_mean_val\\\"}, {\\\"type\\\": \\\"formula\\\", \\\"expr\\\": \\\"toNumber(datum[\\\\\\\"a\\\\\\\"])*300+218\\\", \\\"as\\\": \\\"c_min_val\\\"}, {\\\"type\\\": \\\"formula\\\", \\\"expr\\\": \\\"toNumber(datum[\\\\\\\"a\\\\\\\"])*300+238\\\", \\\"as\\\": \\\"c_max_val\\\"}, {\\\"type\\\": \\\"formula\\\", \\\"expr\\\": \\\"toNumber(datum[\\\\\\\"a\\\\\\\"])*300+258\\\", \\\"as\\\": \\\"c_median_val\\\"}, {\\\"type\\\": \\\"formula\\\", \\\"expr\\\": \\\"toNumber(datum[\\\\\\\"a\\\\\\\"])*300+278\\\", \\\"as\\\": \\\"c_stdev_val\\\"}, {\\\"type\\\": \\\"formula\\\", \\\"expr\\\": \\\"toNumber(datum[\\\\\\\"a\\\\\\\"])*300+106\\\", \\\"as\\\": \\\"graph_offset\\\"}, {\\\"type\\\": \\\"formula\\\", \\\"expr\\\": \\\"toNumber(datum[\\\\\\\"a\\\\\\\"])*300+132\\\", \\\"as\\\": \\\"graph_offset_categorical\\\"}, {\\\"type\\\": \\\"formula\\\", \\\"expr\\\": \\\"(toString(datum[\\\\\\\"type\\\\\\\"]) == \\\\\\\"integer\\\\\\\" || toString(datum[\\\\\\\"type\\\\\\\"]) == \\\\\\\"float\\\\\\\")?false:true\\\", \\\"as\\\": \\\"c_clip_val\\\"}, {\\\"type\\\": \\\"formula\\\", \\\"expr\\\": \\\"(toString(datum[\\\\\\\"type\\\\\\\"]) == \\\\\\\"integer\\\\\\\" || toString(datum[\\\\\\\"type\\\\\\\"]) == \\\\\\\"float\\\\\\\")?250:0\\\", \\\"as\\\": \\\"c_width_numeric_val\\\"}, {\\\"type\\\": \\\"formula\\\", \\\"expr\\\": \\\"(toString(datum[\\\\\\\"type\\\\\\\"]) == \\\\\\\"str\\\\\\\")?false:true\\\", \\\"as\\\": \\\"c_clip_val_cat\\\"}, {\\\"type\\\": \\\"formula\\\", \\\"expr\\\": \\\"(toString(datum[\\\\\\\"type\\\\\\\"]) == \\\\\\\"str\\\\\\\")?250:0\\\", \\\"as\\\": \\\"c_width_numeric_val_cat\\\"}]}], \\\"marks\\\": [{\\\"encode\\\": {\\\"enter\\\": {\\\"x\\\": {\\\"value\\\": 0}, \\\"width\\\": {\\\"value\\\": 734}, \\\"y\\\": {\\\"value\\\": 0}, \\\"height\\\": {\\\"value\\\": 366}, \\\"clip\\\": {\\\"value\\\": 0}, \\\"fill\\\": {\\\"value\\\": \\\"#ffffff\\\"}, \\\"fillOpacity\\\": {\\\"value\\\": 0}, \\\"stroke\\\": {\\\"value\\\": \\\"#000000\\\"}, \\\"strokeWidth\\\": {\\\"value\\\": 0}}}, \\\"marks\\\": [{\\\"encode\\\": {\\\"enter\\\": {\\\"x\\\": {\\\"value\\\": 0}, \\\"width\\\": {\\\"value\\\": 734}, \\\"y\\\": {\\\"value\\\": 0}, \\\"height\\\": {\\\"value\\\": 366}, \\\"clip\\\": {\\\"value\\\": 0}, \\\"fill\\\": {\\\"value\\\": \\\"#ffffff\\\"}, \\\"fillOpacity\\\": {\\\"value\\\": 0}, \\\"stroke\\\": {\\\"value\\\": \\\"#000000\\\"}, \\\"strokeWidth\\\": {\\\"value\\\": 0}}}, \\\"scales\\\": [], \\\"axes\\\": [], \\\"marks\\\": [{\\\"from\\\": {\\\"data\\\": \\\"data_2\\\"}, \\\"encode\\\": {\\\"enter\\\": {\\\"x\\\": {\\\"value\\\": 33}, \\\"width\\\": {\\\"value\\\": 700}, \\\"y\\\": {\\\"value\\\": 66}, \\\"height\\\": {\\\"value\\\": 250}, \\\"fill\\\": {\\\"value\\\": \\\"#FEFEFE\\\"}, \\\"fillOpacity\\\": {\\\"value\\\": 1}, \\\"stroke\\\": {\\\"value\\\": \\\"#DEDEDE\\\"}, \\\"strokeWidth\\\": {\\\"value\\\": 0.5}}, \\\"update\\\": {\\\"x\\\": {\\\"signal\\\": \\\"datum[\\\\\\\"c_x_axis_back\\\\\\\"]\\\"}, \\\"y\\\": {\\\"field\\\": \\\"c_main_background\\\"}}}, \\\"type\\\": \\\"rect\\\"}, {\\\"from\\\": {\\\"data\\\": \\\"data_2\\\"}, \\\"encode\\\": {\\\"enter\\\": {\\\"x\\\": {\\\"value\\\": 33}, \\\"width\\\": {\\\"value\\\": 700}, \\\"y\\\": {\\\"value\\\": 43}, \\\"height\\\": {\\\"value\\\": 30}, \\\"fill\\\": {\\\"value\\\": \\\"#F5F5F5\\\"}, \\\"fillOpacity\\\": {\\\"value\\\": 1}, \\\"stroke\\\": {\\\"value\\\": \\\"#DEDEDE\\\"}, \\\"strokeWidth\\\": {\\\"value\\\": 0.5}}, \\\"update\\\": {\\\"x\\\": {\\\"signal\\\": \\\"datum[\\\\\\\"c_x_axis_back\\\\\\\"]\\\"}, \\\"y\\\": {\\\"field\\\": \\\"c_top_bar\\\"}}}, \\\"type\\\": \\\"rect\\\"}, {\\\"from\\\": {\\\"data\\\": \\\"data_2\\\"}, \\\"encode\\\": {\\\"enter\\\": {\\\"x\\\": {\\\"value\\\": 720}, \\\"y\\\": {\\\"value\\\": 58}, \\\"text\\\": {\\\"signal\\\": \\\"&apos;&apos;+datum[\\\\\\\"type\\\\\\\"]\\\"}, \\\"align\\\": {\\\"value\\\": \\\"right\\\"}, \\\"baseline\\\": {\\\"value\\\": \\\"middle\\\"}, \\\"dx\\\": {\\\"value\\\": 0, \\\"offset\\\": 0}, \\\"dy\\\": {\\\"value\\\": 0, \\\"offset\\\": 0}, \\\"angle\\\": {\\\"value\\\": 0}, \\\"font\\\": {\\\"value\\\": \\\"AvenirNext-Medium\\\"}, \\\"fontSize\\\": {\\\"value\\\": 12}, \\\"fontWeight\\\": {\\\"value\\\": \\\"normal\\\"}, \\\"fontStyle\\\": {\\\"value\\\": \\\"normal\\\"}, \\\"fill\\\": {\\\"value\\\": \\\"#595859\\\"}}, \\\"update\\\": {\\\"x\\\": {\\\"signal\\\": \\\"datum[\\\\\\\"c_x_axis_back\\\\\\\"]+687\\\"}, \\\"y\\\": {\\\"field\\\": \\\"c_top_type\\\"}}}, \\\"type\\\": \\\"text\\\"}, {\\\"from\\\": {\\\"data\\\": \\\"data_2\\\"}, \\\"encode\\\": {\\\"enter\\\": {\\\"x\\\": {\\\"value\\\": 44}, \\\"y\\\": {\\\"value\\\": 59}, \\\"text\\\": {\\\"signal\\\": \\\"&apos;&apos;+datum[\\\\\\\"title\\\\\\\"]\\\"}, \\\"align\\\": {\\\"value\\\": \\\"left\\\"}, \\\"baseline\\\": {\\\"value\\\": \\\"middle\\\"}, \\\"dx\\\": {\\\"value\\\": 0, \\\"offset\\\": 0}, \\\"dy\\\": {\\\"value\\\": 0, \\\"offset\\\": 0}, \\\"angle\\\": {\\\"value\\\": 0}, \\\"font\\\": {\\\"value\\\": \\\"AvenirNext-Medium\\\"}, \\\"fontSize\\\": {\\\"value\\\": 15}, \\\"fontWeight\\\": {\\\"value\\\": \\\"normal\\\"}, \\\"fontStyle\\\": {\\\"value\\\": \\\"normal\\\"}, \\\"fill\\\": {\\\"value\\\": \\\"#9B9B9B\\\"}}, \\\"update\\\": {\\\"x\\\": {\\\"signal\\\": \\\"datum[\\\\\\\"c_x_axis_back\\\\\\\"]+11\\\"}, \\\"y\\\": {\\\"field\\\": \\\"c_top_title\\\"}}}, \\\"type\\\": \\\"text\\\"}, {\\\"from\\\": {\\\"data\\\": \\\"data_2\\\"}, \\\"encode\\\": {\\\"enter\\\": {\\\"x\\\": {\\\"value\\\": 500}, \\\"y\\\": {\\\"value\\\": 178}, \\\"stroke\\\": {\\\"value\\\": \\\"#EDEDEB\\\"}, \\\"strokeWidth\\\": {\\\"value\\\": 1}, \\\"strokeCap\\\": {\\\"value\\\": \\\"butt\\\"}, \\\"x2\\\": {\\\"value\\\": 720}, \\\"y2\\\": {\\\"value\\\": 178}}, \\\"update\\\": {\\\"x\\\": {\\\"signal\\\": \\\"datum[\\\\\\\"c_x_axis_back\\\\\\\"]+467\\\"}, \\\"x2\\\": {\\\"signal\\\": \\\"datum[\\\\\\\"c_x_axis_back\\\\\\\"]+687\\\"}, \\\"y\\\": {\\\"field\\\": \\\"c_rule\\\"}, \\\"y2\\\": {\\\"field\\\": \\\"c_rule\\\"}}}, \\\"type\\\": \\\"rule\\\"}, {\\\"from\\\": {\\\"data\\\": \\\"data_2\\\"}, \\\"encode\\\": {\\\"enter\\\": {\\\"x\\\": {\\\"value\\\": 500}, \\\"y\\\": {\\\"value\\\": 106}, \\\"text\\\": {\\\"value\\\": \\\"Num. Rows:\\\"}, \\\"align\\\": {\\\"value\\\": \\\"left\\\"}, \\\"baseline\\\": {\\\"value\\\": \\\"middle\\\"}, \\\"dx\\\": {\\\"value\\\": 0, \\\"offset\\\": 0}, \\\"dy\\\": {\\\"value\\\": 0, \\\"offset\\\": 0}, \\\"angle\\\": {\\\"value\\\": 0}, \\\"font\\\": {\\\"value\\\": \\\"AvenirNext-Medium\\\"}, \\\"fontSize\\\": {\\\"value\\\": 12}, \\\"fontWeight\\\": {\\\"value\\\": \\\"normal\\\"}, \\\"fontStyle\\\": {\\\"value\\\": \\\"normal\\\"}, \\\"fill\\\": {\\\"value\\\": \\\"#4A4A4A\\\"}}, \\\"update\\\": {\\\"x\\\": {\\\"signal\\\": \\\"datum[\\\\\\\"c_x_axis_back\\\\\\\"]+467\\\"}, \\\"y\\\": {\\\"field\\\": \\\"c_num_rows\\\"}}}, \\\"type\\\": \\\"text\\\"}, {\\\"from\\\": {\\\"data\\\": \\\"data_2\\\"}, \\\"encode\\\": {\\\"enter\\\": {\\\"x\\\": {\\\"value\\\": 500}, \\\"y\\\": {\\\"value\\\": 130}, \\\"text\\\": {\\\"value\\\": \\\"Num. Unique:\\\"}, \\\"align\\\": {\\\"value\\\": \\\"left\\\"}, \\\"baseline\\\": {\\\"value\\\": \\\"middle\\\"}, \\\"dx\\\": {\\\"value\\\": 0, \\\"offset\\\": 0}, \\\"dy\\\": {\\\"value\\\": 0, \\\"offset\\\": 0}, \\\"angle\\\": {\\\"value\\\": 0}, \\\"font\\\": {\\\"value\\\": \\\"AvenirNext-Medium\\\"}, \\\"fontSize\\\": {\\\"value\\\": 12}, \\\"fontWeight\\\": {\\\"value\\\": \\\"normal\\\"}, \\\"fontStyle\\\": {\\\"value\\\": \\\"normal\\\"}, \\\"fill\\\": {\\\"value\\\": \\\"#4A4A4A\\\"}}, \\\"update\\\": {\\\"x\\\": {\\\"signal\\\": \\\"datum[\\\\\\\"c_x_axis_back\\\\\\\"]+467\\\"}, \\\"y\\\": {\\\"field\\\": \\\"c_num_unique\\\"}}}, \\\"type\\\": \\\"text\\\"}, {\\\"from\\\": {\\\"data\\\": \\\"data_2\\\"}, \\\"encode\\\": {\\\"enter\\\": {\\\"x\\\": {\\\"value\\\": 500}, \\\"y\\\": {\\\"value\\\": 154}, \\\"text\\\": {\\\"value\\\": \\\"Missing:\\\"}, \\\"align\\\": {\\\"value\\\": \\\"left\\\"}, \\\"baseline\\\": {\\\"value\\\": \\\"middle\\\"}, \\\"dx\\\": {\\\"value\\\": 0, \\\"offset\\\": 0}, \\\"dy\\\": {\\\"value\\\": 0, \\\"offset\\\": 0}, \\\"angle\\\": {\\\"value\\\": 0}, \\\"font\\\": {\\\"value\\\": \\\"AvenirNext-Medium\\\"}, \\\"fontSize\\\": {\\\"value\\\": 12}, \\\"fontWeight\\\": {\\\"value\\\": \\\"normal\\\"}, \\\"fontStyle\\\": {\\\"value\\\": \\\"normal\\\"}, \\\"fill\\\": {\\\"value\\\": \\\"#4A4A4A\\\"}}, \\\"update\\\": {\\\"x\\\": {\\\"signal\\\": \\\"datum[\\\\\\\"c_x_axis_back\\\\\\\"]+467\\\"}, \\\"y\\\": {\\\"field\\\": \\\"c_missing\\\"}}}, \\\"type\\\": \\\"text\\\"}, {\\\"from\\\": {\\\"data\\\": \\\"data_2\\\"}, \\\"encode\\\": {\\\"enter\\\": {\\\"x\\\": {\\\"value\\\": 700}, \\\"y\\\": {\\\"value\\\": 105}, \\\"text\\\": {\\\"signal\\\": \\\"toString(format(datum[\\\\\\\"num_row\\\\\\\"], \\\\\\\",\\\\\\\"))\\\"}, \\\"align\\\": {\\\"value\\\": \\\"right\\\"}, \\\"baseline\\\": {\\\"value\\\": \\\"middle\\\"}, \\\"dx\\\": {\\\"value\\\": 0, \\\"offset\\\": 0}, \\\"dy\\\": {\\\"value\\\": 0, \\\"offset\\\": 0}, \\\"angle\\\": {\\\"value\\\": 0}, \\\"font\\\": {\\\"value\\\": \\\"AvenirNext-Medium\\\"}, \\\"fontSize\\\": {\\\"value\\\": 12}, \\\"fontWeight\\\": {\\\"value\\\": \\\"normal\\\"}, \\\"fontStyle\\\": {\\\"value\\\": \\\"normal\\\"}, \\\"fill\\\": {\\\"value\\\": \\\"#5A5A5A\\\"}}, \\\"update\\\": {\\\"x\\\": {\\\"signal\\\": \\\"datum[\\\\\\\"c_x_axis_back\\\\\\\"]+667\\\"}, \\\"y\\\": {\\\"field\\\": \\\"c_num_rows_val\\\"}}}, \\\"type\\\": \\\"text\\\"}, {\\\"from\\\": {\\\"data\\\": \\\"data_2\\\"}, \\\"encode\\\": {\\\"enter\\\": {\\\"x\\\": {\\\"value\\\": 700}, \\\"y\\\": {\\\"value\\\": 130}, \\\"text\\\": {\\\"signal\\\": \\\"toString(format(datum[\\\\\\\"num_unique\\\\\\\"], \\\\\\\",\\\\\\\"))\\\"}, \\\"align\\\": {\\\"value\\\": \\\"right\\\"}, \\\"baseline\\\": {\\\"value\\\": \\\"middle\\\"}, \\\"dx\\\": {\\\"value\\\": 0, \\\"offset\\\": 0}, \\\"dy\\\": {\\\"value\\\": 0, \\\"offset\\\": 0}, \\\"angle\\\": {\\\"value\\\": 0}, \\\"font\\\": {\\\"value\\\": \\\"AvenirNext-Medium\\\"}, \\\"fontSize\\\": {\\\"value\\\": 12}, \\\"fontWeight\\\": {\\\"value\\\": \\\"normal\\\"}, \\\"fontStyle\\\": {\\\"value\\\": \\\"normal\\\"}, \\\"fill\\\": {\\\"value\\\": \\\"#5A5A5A\\\"}}, \\\"update\\\": {\\\"x\\\": {\\\"signal\\\": \\\"datum[\\\\\\\"c_x_axis_back\\\\\\\"]+667\\\"}, \\\"y\\\": {\\\"field\\\": \\\"c_num_unique_val\\\"}}}, \\\"type\\\": \\\"text\\\"}, {\\\"from\\\": {\\\"data\\\": \\\"data_2\\\"}, \\\"encode\\\": {\\\"enter\\\": {\\\"x\\\": {\\\"value\\\": 700}, \\\"y\\\": {\\\"value\\\": 154}, \\\"text\\\": {\\\"signal\\\": \\\"toString(format(datum[\\\\\\\"num_missing\\\\\\\"], \\\\\\\",\\\\\\\"))\\\"}, \\\"align\\\": {\\\"value\\\": \\\"right\\\"}, \\\"baseline\\\": {\\\"value\\\": \\\"middle\\\"}, \\\"dx\\\": {\\\"value\\\": 0, \\\"offset\\\": 0}, \\\"dy\\\": {\\\"value\\\": 0, \\\"offset\\\": 0}, \\\"angle\\\": {\\\"value\\\": 0}, \\\"font\\\": {\\\"value\\\": \\\"AvenirNext-Medium\\\"}, \\\"fontSize\\\": {\\\"value\\\": 12}, \\\"fontWeight\\\": {\\\"value\\\": \\\"normal\\\"}, \\\"fontStyle\\\": {\\\"value\\\": \\\"normal\\\"}, \\\"fill\\\": {\\\"value\\\": \\\"#5A5A5A\\\"}}, \\\"update\\\": {\\\"x\\\": {\\\"signal\\\": \\\"datum[\\\\\\\"c_x_axis_back\\\\\\\"]+667\\\"}, \\\"y\\\": {\\\"field\\\": \\\"c_missing_val\\\"}}}, \\\"type\\\": \\\"text\\\"}, {\\\"from\\\": {\\\"data\\\": \\\"data_2\\\"}, \\\"encode\\\": {\\\"enter\\\": {\\\"x\\\": {\\\"value\\\": 500}, \\\"y\\\": {\\\"value\\\": 200}, \\\"text\\\": {\\\"signal\\\": \\\"(toString(datum[\\\\\\\"type\\\\\\\"]) == \\\\\\\"str\\\\\\\")? \\\\\\\"Frequent Items\\\\\\\":\\\\\\\"\\\\\\\"\\\"}, \\\"align\\\": {\\\"value\\\": \\\"left\\\"}, \\\"baseline\\\": {\\\"value\\\": \\\"middle\\\"}, \\\"dx\\\": {\\\"value\\\": 0, \\\"offset\\\": 0}, \\\"dy\\\": {\\\"value\\\": 0, \\\"offset\\\": 0}, \\\"angle\\\": {\\\"value\\\": 0}, \\\"clip\\\": {\\\"value\\\": true}, \\\"font\\\": {\\\"value\\\": \\\"AvenirNext-Medium\\\"}, \\\"fontSize\\\": {\\\"value\\\": 11}, \\\"fontWeight\\\": {\\\"value\\\": \\\"bold\\\"}, \\\"fontStyle\\\": {\\\"value\\\": \\\"normal\\\"}, \\\"fill\\\": {\\\"value\\\": \\\"#4A4A4A\\\"}}, \\\"update\\\": {\\\"x\\\": {\\\"signal\\\": \\\"datum[\\\\\\\"c_x_axis_back\\\\\\\"]+467\\\"}, \\\"y\\\": {\\\"field\\\": \\\"c_frequent_items\\\"}}}, \\\"type\\\": \\\"text\\\"}, {\\\"from\\\": {\\\"data\\\": \\\"data_2\\\"}, \\\"encode\\\": {\\\"enter\\\": {\\\"x\\\": {\\\"value\\\": 520}, \\\"y\\\": {\\\"value\\\": 200}, \\\"text\\\": {\\\"signal\\\": \\\"((datum[\\\\\\\"categorical\\\\\\\"].length >= 1) &amp;&amp; (toString(datum[\\\\\\\"type\\\\\\\"]) == \\\\\\\"str\\\\\\\"))? toString(datum[\\\\\\\"categorical\\\\\\\"][0][\\\\\\\"label\\\\\\\"]):\\\\\\\"\\\\\\\"\\\"}, \\\"align\\\": {\\\"value\\\": \\\"left\\\"}, \\\"baseline\\\": {\\\"value\\\": \\\"middle\\\"}, \\\"dx\\\": {\\\"value\\\": 0, \\\"offset\\\": 0}, \\\"dy\\\": {\\\"value\\\": 0, \\\"offset\\\": 0}, \\\"angle\\\": {\\\"value\\\": 0}, \\\"clip\\\": {\\\"value\\\": true}, \\\"font\\\": {\\\"value\\\": \\\"AvenirNext-Medium\\\"}, \\\"fontSize\\\": {\\\"value\\\": 11}, \\\"fontWeight\\\": {\\\"value\\\": \\\"normal\\\"}, \\\"fontStyle\\\": {\\\"value\\\": \\\"normal\\\"}, \\\"fill\\\": {\\\"value\\\": \\\"#4A4A4A\\\"}}, \\\"update\\\": {\\\"x\\\": {\\\"signal\\\": \\\"datum[\\\\\\\"c_x_axis_back\\\\\\\"]+487\\\"}, \\\"y\\\": {\\\"field\\\": \\\"c_first_item\\\"}}}, \\\"type\\\": \\\"text\\\"}, {\\\"from\\\": {\\\"data\\\": \\\"data_2\\\"}, \\\"encode\\\": {\\\"enter\\\": {\\\"x\\\": {\\\"value\\\": 520}, \\\"y\\\": {\\\"value\\\": 200}, \\\"text\\\": {\\\"signal\\\": \\\"((datum[\\\\\\\"categorical\\\\\\\"].length >= 2) &amp;&amp; (toString(datum[\\\\\\\"type\\\\\\\"]) == \\\\\\\"str\\\\\\\"))? toString(datum[\\\\\\\"categorical\\\\\\\"][1][\\\\\\\"label\\\\\\\"]):\\\\\\\"\\\\\\\"\\\"}, \\\"align\\\": {\\\"value\\\": \\\"left\\\"}, \\\"baseline\\\": {\\\"value\\\": \\\"middle\\\"}, \\\"dx\\\": {\\\"value\\\": 0, \\\"offset\\\": 0}, \\\"dy\\\": {\\\"value\\\": 0, \\\"offset\\\": 0}, \\\"angle\\\": {\\\"value\\\": 0}, \\\"clip\\\": {\\\"value\\\": true}, \\\"font\\\": {\\\"value\\\": \\\"AvenirNext-Medium\\\"}, \\\"fontSize\\\": {\\\"value\\\": 11}, \\\"fontWeight\\\": {\\\"value\\\": \\\"normal\\\"}, \\\"fontStyle\\\": {\\\"value\\\": \\\"normal\\\"}, \\\"fill\\\": {\\\"value\\\": \\\"#4A4A4A\\\"}}, \\\"update\\\": {\\\"x\\\": {\\\"signal\\\": \\\"datum[\\\\\\\"c_x_axis_back\\\\\\\"]+487\\\"}, \\\"y\\\": {\\\"field\\\": \\\"c_second_item\\\"}}}, \\\"type\\\": \\\"text\\\"}, {\\\"from\\\": {\\\"data\\\": \\\"data_2\\\"}, \\\"encode\\\": {\\\"enter\\\": {\\\"x\\\": {\\\"value\\\": 520}, \\\"y\\\": {\\\"value\\\": 200}, \\\"text\\\": {\\\"signal\\\": \\\"((datum[\\\\\\\"categorical\\\\\\\"].length >= 3) &amp;&amp; (toString(datum[\\\\\\\"type\\\\\\\"]) == \\\\\\\"str\\\\\\\"))? toString(datum[\\\\\\\"categorical\\\\\\\"][2][\\\\\\\"label\\\\\\\"]):\\\\\\\"\\\\\\\"\\\"}, \\\"align\\\": {\\\"value\\\": \\\"left\\\"}, \\\"baseline\\\": {\\\"value\\\": \\\"middle\\\"}, \\\"dx\\\": {\\\"value\\\": 0, \\\"offset\\\": 0}, \\\"dy\\\": {\\\"value\\\": 0, \\\"offset\\\": 0}, \\\"angle\\\": {\\\"value\\\": 0}, \\\"clip\\\": {\\\"value\\\": true}, \\\"font\\\": {\\\"value\\\": \\\"AvenirNext-Medium\\\"}, \\\"fontSize\\\": {\\\"value\\\": 11}, \\\"fontWeight\\\": {\\\"value\\\": \\\"normal\\\"}, \\\"fontStyle\\\": {\\\"value\\\": \\\"normal\\\"}, \\\"fill\\\": {\\\"value\\\": \\\"#4A4A4A\\\"}}, \\\"update\\\": {\\\"x\\\": {\\\"signal\\\": \\\"datum[\\\\\\\"c_x_axis_back\\\\\\\"]+487\\\"}, \\\"y\\\": {\\\"field\\\": \\\"c_third_item\\\"}}}, \\\"type\\\": \\\"text\\\"}, {\\\"from\\\": {\\\"data\\\": \\\"data_2\\\"}, \\\"encode\\\": {\\\"enter\\\": {\\\"x\\\": {\\\"value\\\": 520}, \\\"y\\\": {\\\"value\\\": 200}, \\\"text\\\": {\\\"signal\\\": \\\"((datum[\\\\\\\"categorical\\\\\\\"].length >= 4) &amp;&amp; (toString(datum[\\\\\\\"type\\\\\\\"]) == \\\\\\\"str\\\\\\\"))? toString(datum[\\\\\\\"categorical\\\\\\\"][3][\\\\\\\"label\\\\\\\"]):\\\\\\\"\\\\\\\"\\\"}, \\\"align\\\": {\\\"value\\\": \\\"left\\\"}, \\\"baseline\\\": {\\\"value\\\": \\\"middle\\\"}, \\\"dx\\\": {\\\"value\\\": 0, \\\"offset\\\": 0}, \\\"dy\\\": {\\\"value\\\": 0, \\\"offset\\\": 0}, \\\"angle\\\": {\\\"value\\\": 0}, \\\"clip\\\": {\\\"value\\\": true}, \\\"font\\\": {\\\"value\\\": \\\"AvenirNext-Medium\\\"}, \\\"fontSize\\\": {\\\"value\\\": 11}, \\\"fontWeight\\\": {\\\"value\\\": \\\"normal\\\"}, \\\"fontStyle\\\": {\\\"value\\\": \\\"normal\\\"}, \\\"fill\\\": {\\\"value\\\": \\\"#4A4A4A\\\"}}, \\\"update\\\": {\\\"x\\\": {\\\"signal\\\": \\\"datum[\\\\\\\"c_x_axis_back\\\\\\\"]+487\\\"}, \\\"y\\\": {\\\"field\\\": \\\"c_fourth_item\\\"}}}, \\\"type\\\": \\\"text\\\"}, {\\\"from\\\": {\\\"data\\\": \\\"data_2\\\"}, \\\"encode\\\": {\\\"enter\\\": {\\\"x\\\": {\\\"value\\\": 520}, \\\"y\\\": {\\\"value\\\": 200}, \\\"text\\\": {\\\"signal\\\": \\\"((datum[\\\\\\\"categorical\\\\\\\"].length >= 5) &amp;&amp; (toString(datum[\\\\\\\"type\\\\\\\"]) == \\\\\\\"str\\\\\\\"))? toString(datum[\\\\\\\"categorical\\\\\\\"][4][\\\\\\\"label\\\\\\\"]):\\\\\\\"\\\\\\\"\\\"}, \\\"align\\\": {\\\"value\\\": \\\"left\\\"}, \\\"baseline\\\": {\\\"value\\\": \\\"middle\\\"}, \\\"dx\\\": {\\\"value\\\": 0, \\\"offset\\\": 0}, \\\"dy\\\": {\\\"value\\\": 0, \\\"offset\\\": 0}, \\\"angle\\\": {\\\"value\\\": 0}, \\\"clip\\\": {\\\"value\\\": true}, \\\"font\\\": {\\\"value\\\": \\\"AvenirNext-Medium\\\"}, \\\"fontSize\\\": {\\\"value\\\": 11}, \\\"fontWeight\\\": {\\\"value\\\": \\\"normal\\\"}, \\\"fontStyle\\\": {\\\"value\\\": \\\"normal\\\"}, \\\"fill\\\": {\\\"value\\\": \\\"#4A4A4A\\\"}}, \\\"update\\\": {\\\"x\\\": {\\\"signal\\\": \\\"datum[\\\\\\\"c_x_axis_back\\\\\\\"]+487\\\"}, \\\"y\\\": {\\\"field\\\": \\\"c_fifth_item\\\"}}}, \\\"type\\\": \\\"text\\\"}, {\\\"from\\\": {\\\"data\\\": \\\"data_2\\\"}, \\\"encode\\\": {\\\"enter\\\": {\\\"x\\\": {\\\"value\\\": 700}, \\\"y\\\": {\\\"value\\\": 200}, \\\"text\\\": {\\\"signal\\\": \\\"((datum[\\\\\\\"categorical\\\\\\\"].length >= 1) &amp;&amp; (toString(datum[\\\\\\\"type\\\\\\\"]) == \\\\\\\"str\\\\\\\"))? toString(datum[\\\\\\\"categorical\\\\\\\"][0][\\\\\\\"count\\\\\\\"]):\\\\\\\"\\\\\\\"\\\"}, \\\"align\\\": {\\\"value\\\": \\\"right\\\"}, \\\"baseline\\\": {\\\"value\\\": \\\"middle\\\"}, \\\"dx\\\": {\\\"value\\\": 0, \\\"offset\\\": 0}, \\\"dy\\\": {\\\"value\\\": 0, \\\"offset\\\": 0}, \\\"angle\\\": {\\\"value\\\": 0}, \\\"clip\\\": {\\\"value\\\": true}, \\\"font\\\": {\\\"value\\\": \\\"AvenirNext-Medium\\\"}, \\\"fontSize\\\": {\\\"value\\\": 11}, \\\"fontWeight\\\": {\\\"value\\\": \\\"normal\\\"}, \\\"fontStyle\\\": {\\\"value\\\": \\\"normal\\\"}, \\\"fill\\\": {\\\"value\\\": \\\"#7A7A7A\\\"}}, \\\"update\\\": {\\\"x\\\": {\\\"signal\\\": \\\"datum[\\\\\\\"c_x_axis_back\\\\\\\"]+667\\\"}, \\\"y\\\": {\\\"field\\\": \\\"c_first_item\\\"}}}, \\\"type\\\": \\\"text\\\"}, {\\\"from\\\": {\\\"data\\\": \\\"data_2\\\"}, \\\"encode\\\": {\\\"enter\\\": {\\\"x\\\": {\\\"value\\\": 700}, \\\"y\\\": {\\\"value\\\": 200}, \\\"text\\\": {\\\"signal\\\": \\\"((datum[\\\\\\\"categorical\\\\\\\"].length >= 2) &amp;&amp; (toString(datum[\\\\\\\"type\\\\\\\"]) == \\\\\\\"str\\\\\\\"))? toString(datum[\\\\\\\"categorical\\\\\\\"][1][\\\\\\\"count\\\\\\\"]):\\\\\\\"\\\\\\\"\\\"}, \\\"align\\\": {\\\"value\\\": \\\"right\\\"}, \\\"baseline\\\": {\\\"value\\\": \\\"middle\\\"}, \\\"dx\\\": {\\\"value\\\": 0, \\\"offset\\\": 0}, \\\"dy\\\": {\\\"value\\\": 0, \\\"offset\\\": 0}, \\\"angle\\\": {\\\"value\\\": 0}, \\\"clip\\\": {\\\"value\\\": true}, \\\"font\\\": {\\\"value\\\": \\\"AvenirNext-Medium\\\"}, \\\"fontSize\\\": {\\\"value\\\": 10}, \\\"fontWeight\\\": {\\\"value\\\": \\\"normal\\\"}, \\\"fontStyle\\\": {\\\"value\\\": \\\"normal\\\"}, \\\"fill\\\": {\\\"value\\\": \\\"#7A7A7A\\\"}}, \\\"update\\\": {\\\"x\\\": {\\\"signal\\\": \\\"datum[\\\\\\\"c_x_axis_back\\\\\\\"]+667\\\"}, \\\"y\\\": {\\\"field\\\": \\\"c_second_item\\\"}}}, \\\"type\\\": \\\"text\\\"}, {\\\"from\\\": {\\\"data\\\": \\\"data_2\\\"}, \\\"encode\\\": {\\\"enter\\\": {\\\"x\\\": {\\\"value\\\": 700}, \\\"y\\\": {\\\"value\\\": 200}, \\\"text\\\": {\\\"signal\\\": \\\"((datum[\\\\\\\"categorical\\\\\\\"].length >= 3) &amp;&amp; (toString(datum[\\\\\\\"type\\\\\\\"]) == \\\\\\\"str\\\\\\\"))? toString(datum[\\\\\\\"categorical\\\\\\\"][2][\\\\\\\"count\\\\\\\"]):\\\\\\\"\\\\\\\"\\\"}, \\\"align\\\": {\\\"value\\\": \\\"right\\\"}, \\\"baseline\\\": {\\\"value\\\": \\\"middle\\\"}, \\\"dx\\\": {\\\"value\\\": 0, \\\"offset\\\": 0}, \\\"dy\\\": {\\\"value\\\": 0, \\\"offset\\\": 0}, \\\"angle\\\": {\\\"value\\\": 0}, \\\"clip\\\": {\\\"value\\\": true}, \\\"font\\\": {\\\"value\\\": \\\"AvenirNext-Medium\\\"}, \\\"fontSize\\\": {\\\"value\\\": 10}, \\\"fontWeight\\\": {\\\"value\\\": \\\"normal\\\"}, \\\"fontStyle\\\": {\\\"value\\\": \\\"normal\\\"}, \\\"fill\\\": {\\\"value\\\": \\\"#7A7A7A\\\"}}, \\\"update\\\": {\\\"x\\\": {\\\"signal\\\": \\\"datum[\\\\\\\"c_x_axis_back\\\\\\\"]+667\\\"}, \\\"y\\\": {\\\"field\\\": \\\"c_third_item\\\"}}}, \\\"type\\\": \\\"text\\\"}, {\\\"from\\\": {\\\"data\\\": \\\"data_2\\\"}, \\\"encode\\\": {\\\"enter\\\": {\\\"x\\\": {\\\"value\\\": 700}, \\\"y\\\": {\\\"value\\\": 200}, \\\"text\\\": {\\\"signal\\\": \\\"((datum[\\\\\\\"categorical\\\\\\\"].length >= 4) &amp;&amp; (toString(datum[\\\\\\\"type\\\\\\\"]) == \\\\\\\"str\\\\\\\"))? toString(datum[\\\\\\\"categorical\\\\\\\"][3][\\\\\\\"count\\\\\\\"]):\\\\\\\"\\\\\\\"\\\"}, \\\"align\\\": {\\\"value\\\": \\\"right\\\"}, \\\"baseline\\\": {\\\"value\\\": \\\"middle\\\"}, \\\"dx\\\": {\\\"value\\\": 0, \\\"offset\\\": 0}, \\\"dy\\\": {\\\"value\\\": 0, \\\"offset\\\": 0}, \\\"angle\\\": {\\\"value\\\": 0}, \\\"clip\\\": {\\\"value\\\": true}, \\\"font\\\": {\\\"value\\\": \\\"AvenirNext-Medium\\\"}, \\\"fontSize\\\": {\\\"value\\\": 10}, \\\"fontWeight\\\": {\\\"value\\\": \\\"normal\\\"}, \\\"fontStyle\\\": {\\\"value\\\": \\\"normal\\\"}, \\\"fill\\\": {\\\"value\\\": \\\"#7A7A7A\\\"}}, \\\"update\\\": {\\\"x\\\": {\\\"signal\\\": \\\"datum[\\\\\\\"c_x_axis_back\\\\\\\"]+667\\\"}, \\\"y\\\": {\\\"field\\\": \\\"c_fourth_item\\\"}}}, \\\"type\\\": \\\"text\\\"}, {\\\"from\\\": {\\\"data\\\": \\\"data_2\\\"}, \\\"encode\\\": {\\\"enter\\\": {\\\"x\\\": {\\\"value\\\": 700}, \\\"y\\\": {\\\"value\\\": 200}, \\\"text\\\": {\\\"signal\\\": \\\"((datum[\\\\\\\"categorical\\\\\\\"].length >= 5) &amp;&amp; (toString(datum[\\\\\\\"type\\\\\\\"]) == \\\\\\\"str\\\\\\\"))? toString(datum[\\\\\\\"categorical\\\\\\\"][4][\\\\\\\"count\\\\\\\"]):\\\\\\\"\\\\\\\"\\\"}, \\\"align\\\": {\\\"value\\\": \\\"right\\\"}, \\\"baseline\\\": {\\\"value\\\": \\\"middle\\\"}, \\\"dx\\\": {\\\"value\\\": 0, \\\"offset\\\": 0}, \\\"dy\\\": {\\\"value\\\": 0, \\\"offset\\\": 0}, \\\"angle\\\": {\\\"value\\\": 0}, \\\"clip\\\": {\\\"value\\\": true}, \\\"font\\\": {\\\"value\\\": \\\"AvenirNext-Medium\\\"}, \\\"fontSize\\\": {\\\"value\\\": 10}, \\\"fontWeight\\\": {\\\"value\\\": \\\"normal\\\"}, \\\"fontStyle\\\": {\\\"value\\\": \\\"normal\\\"}, \\\"fill\\\": {\\\"value\\\": \\\"#7A7A7A\\\"}}, \\\"update\\\": {\\\"x\\\": {\\\"signal\\\": \\\"datum[\\\\\\\"c_x_axis_back\\\\\\\"]+667\\\"}, \\\"y\\\": {\\\"field\\\": \\\"c_fifth_item\\\"}}}, \\\"type\\\": \\\"text\\\"}, {\\\"from\\\": {\\\"data\\\": \\\"data_2\\\"}, \\\"encode\\\": {\\\"enter\\\": {\\\"x\\\": {\\\"value\\\": 500}, \\\"y\\\": {\\\"value\\\": 200}, \\\"text\\\": {\\\"signal\\\": \\\"(toString(datum[\\\\\\\"type\\\\\\\"]) == \\\\\\\"integer\\\\\\\" || toString(datum[\\\\\\\"type\\\\\\\"]) == \\\\\\\"float\\\\\\\")? \\\\\\\"Mean:\\\\\\\":\\\\\\\"\\\\\\\"\\\"}, \\\"align\\\": {\\\"value\\\": \\\"left\\\"}, \\\"baseline\\\": {\\\"value\\\": \\\"middle\\\"}, \\\"dx\\\": {\\\"value\\\": 0, \\\"offset\\\": 0}, \\\"dy\\\": {\\\"value\\\": 0, \\\"offset\\\": 0}, \\\"angle\\\": {\\\"value\\\": 0}, \\\"clip\\\": {\\\"value\\\": true}, \\\"font\\\": {\\\"value\\\": \\\"AvenirNext-Medium\\\"}, \\\"fontSize\\\": {\\\"value\\\": 11}, \\\"fontWeight\\\": {\\\"value\\\": \\\"bold\\\"}, \\\"fontStyle\\\": {\\\"value\\\": \\\"normal\\\"}, \\\"fill\\\": {\\\"value\\\": \\\"#4A4A4A\\\"}}, \\\"update\\\": {\\\"x\\\": {\\\"signal\\\": \\\"datum[\\\\\\\"c_x_axis_back\\\\\\\"]+467\\\"}, \\\"y\\\": {\\\"field\\\": \\\"c_mean\\\"}}}, \\\"type\\\": \\\"text\\\"}, {\\\"from\\\": {\\\"data\\\": \\\"data_2\\\"}, \\\"encode\\\": {\\\"enter\\\": {\\\"x\\\": {\\\"value\\\": 500}, \\\"y\\\": {\\\"value\\\": 220}, \\\"text\\\": {\\\"signal\\\": \\\"(toString(datum[\\\\\\\"type\\\\\\\"]) == \\\\\\\"integer\\\\\\\" || toString(datum[\\\\\\\"type\\\\\\\"]) == \\\\\\\"float\\\\\\\")? \\\\\\\"Min:\\\\\\\":\\\\\\\"\\\\\\\"\\\"}, \\\"align\\\": {\\\"value\\\": \\\"left\\\"}, \\\"baseline\\\": {\\\"value\\\": \\\"middle\\\"}, \\\"dx\\\": {\\\"value\\\": 0, \\\"offset\\\": 0}, \\\"dy\\\": {\\\"value\\\": 0, \\\"offset\\\": 0}, \\\"angle\\\": {\\\"value\\\": 0}, \\\"font\\\": {\\\"value\\\": \\\"AvenirNext-Medium\\\"}, \\\"fontSize\\\": {\\\"value\\\": 11}, \\\"fontWeight\\\": {\\\"value\\\": \\\"bold\\\"}, \\\"fontStyle\\\": {\\\"value\\\": \\\"normal\\\"}, \\\"fill\\\": {\\\"value\\\": \\\"#4A4A4A\\\"}}, \\\"update\\\": {\\\"x\\\": {\\\"signal\\\": \\\"datum[\\\\\\\"c_x_axis_back\\\\\\\"]+467\\\"}, \\\"y\\\": {\\\"field\\\": \\\"c_min\\\"}}}, \\\"type\\\": \\\"text\\\"}, {\\\"from\\\": {\\\"data\\\": \\\"data_2\\\"}, \\\"encode\\\": {\\\"enter\\\": {\\\"x\\\": {\\\"value\\\": 500}, \\\"y\\\": {\\\"value\\\": 240}, \\\"text\\\": {\\\"signal\\\": \\\"(toString(datum[\\\\\\\"type\\\\\\\"]) == \\\\\\\"integer\\\\\\\" || toString(datum[\\\\\\\"type\\\\\\\"]) == \\\\\\\"float\\\\\\\")? \\\\\\\"Max:\\\\\\\":\\\\\\\"\\\\\\\"\\\"}, \\\"align\\\": {\\\"value\\\": \\\"left\\\"}, \\\"baseline\\\": {\\\"value\\\": \\\"middle\\\"}, \\\"dx\\\": {\\\"value\\\": 0, \\\"offset\\\": 0}, \\\"dy\\\": {\\\"value\\\": 0, \\\"offset\\\": 0}, \\\"angle\\\": {\\\"value\\\": 0}, \\\"font\\\": {\\\"value\\\": \\\"AvenirNext-Medium\\\"}, \\\"fontSize\\\": {\\\"value\\\": 11}, \\\"fontWeight\\\": {\\\"value\\\": \\\"bold\\\"}, \\\"fontStyle\\\": {\\\"value\\\": \\\"normal\\\"}, \\\"fill\\\": {\\\"value\\\": \\\"#4A4A4A\\\"}}, \\\"update\\\": {\\\"x\\\": {\\\"signal\\\": \\\"datum[\\\\\\\"c_x_axis_back\\\\\\\"]+467\\\"}, \\\"y\\\": {\\\"field\\\": \\\"c_max\\\"}}}, \\\"type\\\": \\\"text\\\"}, {\\\"from\\\": {\\\"data\\\": \\\"data_2\\\"}, \\\"encode\\\": {\\\"enter\\\": {\\\"x\\\": {\\\"value\\\": 500}, \\\"y\\\": {\\\"value\\\": 260}, \\\"text\\\": {\\\"signal\\\": \\\"(toString(datum[\\\\\\\"type\\\\\\\"]) == \\\\\\\"integer\\\\\\\" || toString(datum[\\\\\\\"type\\\\\\\"]) == \\\\\\\"float\\\\\\\")? \\\\\\\"Median:\\\\\\\":\\\\\\\"\\\\\\\"\\\"}, \\\"align\\\": {\\\"value\\\": \\\"left\\\"}, \\\"baseline\\\": {\\\"value\\\": \\\"middle\\\"}, \\\"dx\\\": {\\\"value\\\": 0, \\\"offset\\\": 0}, \\\"dy\\\": {\\\"value\\\": 0, \\\"offset\\\": 0}, \\\"angle\\\": {\\\"value\\\": 0}, \\\"font\\\": {\\\"value\\\": \\\"AvenirNext-Medium\\\"}, \\\"fontSize\\\": {\\\"value\\\": 11}, \\\"fontWeight\\\": {\\\"value\\\": \\\"bold\\\"}, \\\"fontStyle\\\": {\\\"value\\\": \\\"normal\\\"}, \\\"fill\\\": {\\\"value\\\": \\\"#4A4A4A\\\"}}, \\\"update\\\": {\\\"x\\\": {\\\"signal\\\": \\\"datum[\\\\\\\"c_x_axis_back\\\\\\\"]+467\\\"}, \\\"y\\\": {\\\"field\\\": \\\"c_median\\\"}}}, \\\"type\\\": \\\"text\\\"}, {\\\"from\\\": {\\\"data\\\": \\\"data_2\\\"}, \\\"encode\\\": {\\\"enter\\\": {\\\"x\\\": {\\\"value\\\": 500}, \\\"y\\\": {\\\"value\\\": 280}, \\\"text\\\": {\\\"signal\\\": \\\"(toString(datum[\\\\\\\"type\\\\\\\"]) == \\\\\\\"integer\\\\\\\" || toString(datum[\\\\\\\"type\\\\\\\"]) == \\\\\\\"float\\\\\\\")? \\\\\\\"St. Dev:\\\\\\\":\\\\\\\"\\\\\\\"\\\"}, \\\"align\\\": {\\\"value\\\": \\\"left\\\"}, \\\"baseline\\\": {\\\"value\\\": \\\"middle\\\"}, \\\"dx\\\": {\\\"value\\\": 0, \\\"offset\\\": 0}, \\\"dy\\\": {\\\"value\\\": 0, \\\"offset\\\": 0}, \\\"angle\\\": {\\\"value\\\": 0}, \\\"font\\\": {\\\"value\\\": \\\"AvenirNext-Medium\\\"}, \\\"fontSize\\\": {\\\"value\\\": 11}, \\\"fontWeight\\\": {\\\"value\\\": \\\"bold\\\"}, \\\"fontStyle\\\": {\\\"value\\\": \\\"normal\\\"}, \\\"fill\\\": {\\\"value\\\": \\\"#4A4A4A\\\"}}, \\\"update\\\": {\\\"x\\\": {\\\"signal\\\": \\\"datum[\\\\\\\"c_x_axis_back\\\\\\\"]+467\\\"}, \\\"y\\\": {\\\"field\\\": \\\"c_stdev\\\"}}}, \\\"type\\\": \\\"text\\\"}, {\\\"from\\\": {\\\"data\\\": \\\"data_2\\\"}, \\\"encode\\\": {\\\"enter\\\": {\\\"x\\\": {\\\"value\\\": 700}, \\\"y\\\": {\\\"value\\\": 198}, \\\"text\\\": {\\\"signal\\\": \\\"(toString(datum[\\\\\\\"type\\\\\\\"]) == \\\\\\\"integer\\\\\\\" || toString(datum[\\\\\\\"type\\\\\\\"]) == \\\\\\\"float\\\\\\\")?toString(format(datum[\\\\\\\"mean\\\\\\\"], \\\\\\\",\\\\\\\")):\\\\\\\"\\\\\\\"\\\"}, \\\"align\\\": {\\\"value\\\": \\\"right\\\"}, \\\"baseline\\\": {\\\"value\\\": \\\"middle\\\"}, \\\"dx\\\": {\\\"value\\\": 0, \\\"offset\\\": 0}, \\\"dy\\\": {\\\"value\\\": 0, \\\"offset\\\": 0}, \\\"angle\\\": {\\\"value\\\": 0}, \\\"font\\\": {\\\"value\\\": \\\"AvenirNext-Medium\\\"}, \\\"fontSize\\\": {\\\"value\\\": 10}, \\\"fontWeight\\\": {\\\"value\\\": \\\"normal\\\"}, \\\"fontStyle\\\": {\\\"value\\\": \\\"normal\\\"}, \\\"fill\\\": {\\\"value\\\": \\\"#6A6A6A\\\"}}, \\\"update\\\": {\\\"x\\\": {\\\"signal\\\": \\\"datum[\\\\\\\"c_x_axis_back\\\\\\\"]+667\\\"}, \\\"y\\\": {\\\"field\\\": \\\"c_mean_val\\\"}}}, \\\"type\\\": \\\"text\\\"}, {\\\"from\\\": {\\\"data\\\": \\\"data_2\\\"}, \\\"encode\\\": {\\\"enter\\\": {\\\"x\\\": {\\\"value\\\": 700}, \\\"y\\\": {\\\"value\\\": 218}, \\\"text\\\": {\\\"signal\\\": \\\"(toString(datum[\\\\\\\"type\\\\\\\"]) == \\\\\\\"integer\\\\\\\" || toString(datum[\\\\\\\"type\\\\\\\"]) == \\\\\\\"float\\\\\\\")?toString(format(datum[\\\\\\\"min\\\\\\\"], \\\\\\\",\\\\\\\")):\\\\\\\"\\\\\\\"\\\"}, \\\"align\\\": {\\\"value\\\": \\\"right\\\"}, \\\"baseline\\\": {\\\"value\\\": \\\"middle\\\"}, \\\"dx\\\": {\\\"value\\\": 0, \\\"offset\\\": 0}, \\\"dy\\\": {\\\"value\\\": 0, \\\"offset\\\": 0}, \\\"angle\\\": {\\\"value\\\": 0}, \\\"font\\\": {\\\"value\\\": \\\"AvenirNext-Medium\\\"}, \\\"fontSize\\\": {\\\"value\\\": 10}, \\\"fontWeight\\\": {\\\"value\\\": \\\"normal\\\"}, \\\"fontStyle\\\": {\\\"value\\\": \\\"normal\\\"}, \\\"fill\\\": {\\\"value\\\": \\\"#6A6A6A\\\"}}, \\\"update\\\": {\\\"x\\\": {\\\"signal\\\": \\\"datum[\\\\\\\"c_x_axis_back\\\\\\\"]+667\\\"}, \\\"y\\\": {\\\"field\\\": \\\"c_min_val\\\"}}}, \\\"type\\\": \\\"text\\\"}, {\\\"from\\\": {\\\"data\\\": \\\"data_2\\\"}, \\\"encode\\\": {\\\"enter\\\": {\\\"x\\\": {\\\"value\\\": 700}, \\\"y\\\": {\\\"value\\\": 238}, \\\"text\\\": {\\\"signal\\\": \\\"(toString(datum[\\\\\\\"type\\\\\\\"]) == \\\\\\\"integer\\\\\\\" || toString(datum[\\\\\\\"type\\\\\\\"]) == \\\\\\\"float\\\\\\\")?toString(format(datum[\\\\\\\"max\\\\\\\"], \\\\\\\",\\\\\\\")):\\\\\\\"\\\\\\\"\\\"}, \\\"align\\\": {\\\"value\\\": \\\"right\\\"}, \\\"baseline\\\": {\\\"value\\\": \\\"middle\\\"}, \\\"dx\\\": {\\\"value\\\": 0, \\\"offset\\\": 0}, \\\"dy\\\": {\\\"value\\\": 0, \\\"offset\\\": 0}, \\\"angle\\\": {\\\"value\\\": 0}, \\\"font\\\": {\\\"value\\\": \\\"AvenirNext-Medium\\\"}, \\\"fontSize\\\": {\\\"value\\\": 10}, \\\"fontWeight\\\": {\\\"value\\\": \\\"normal\\\"}, \\\"fontStyle\\\": {\\\"value\\\": \\\"normal\\\"}, \\\"fill\\\": {\\\"value\\\": \\\"#6A6A6A\\\"}}, \\\"update\\\": {\\\"x\\\": {\\\"signal\\\": \\\"datum[\\\\\\\"c_x_axis_back\\\\\\\"]+667\\\"}, \\\"y\\\": {\\\"field\\\": \\\"c_max_val\\\"}}}, \\\"type\\\": \\\"text\\\"}, {\\\"from\\\": {\\\"data\\\": \\\"data_2\\\"}, \\\"encode\\\": {\\\"enter\\\": {\\\"x\\\": {\\\"value\\\": 700}, \\\"y\\\": {\\\"value\\\": 258}, \\\"text\\\": {\\\"signal\\\": \\\"(toString(datum[\\\\\\\"type\\\\\\\"]) == \\\\\\\"integer\\\\\\\" || toString(datum[\\\\\\\"type\\\\\\\"]) == \\\\\\\"float\\\\\\\")?toString(format(datum[\\\\\\\"median\\\\\\\"], \\\\\\\",\\\\\\\")):\\\\\\\"\\\\\\\"\\\"}, \\\"align\\\": {\\\"value\\\": \\\"right\\\"}, \\\"baseline\\\": {\\\"value\\\": \\\"middle\\\"}, \\\"dx\\\": {\\\"value\\\": 0, \\\"offset\\\": 0}, \\\"dy\\\": {\\\"value\\\": 0, \\\"offset\\\": 0}, \\\"angle\\\": {\\\"value\\\": 0}, \\\"font\\\": {\\\"value\\\": \\\"AvenirNext-Medium\\\"}, \\\"fontSize\\\": {\\\"value\\\": 10}, \\\"fontWeight\\\": {\\\"value\\\": \\\"normal\\\"}, \\\"fontStyle\\\": {\\\"value\\\": \\\"normal\\\"}, \\\"fill\\\": {\\\"value\\\": \\\"#6A6A6A\\\"}}, \\\"update\\\": {\\\"x\\\": {\\\"signal\\\": \\\"datum[\\\\\\\"c_x_axis_back\\\\\\\"]+667\\\"}, \\\"y\\\": {\\\"field\\\": \\\"c_median_val\\\"}}}, \\\"type\\\": \\\"text\\\"}, {\\\"from\\\": {\\\"data\\\": \\\"data_2\\\"}, \\\"encode\\\": {\\\"enter\\\": {\\\"x\\\": {\\\"value\\\": 700}, \\\"y\\\": {\\\"value\\\": 278}, \\\"text\\\": {\\\"signal\\\": \\\"(toString(datum[\\\\\\\"type\\\\\\\"]) == \\\\\\\"integer\\\\\\\" || toString(datum[\\\\\\\"type\\\\\\\"]) == \\\\\\\"float\\\\\\\")?toString(format(datum[\\\\\\\"stdev\\\\\\\"], \\\\\\\",\\\\\\\")):\\\\\\\"\\\\\\\"\\\"}, \\\"align\\\": {\\\"value\\\": \\\"right\\\"}, \\\"baseline\\\": {\\\"value\\\": \\\"middle\\\"}, \\\"dx\\\": {\\\"value\\\": 0, \\\"offset\\\": 0}, \\\"dy\\\": {\\\"value\\\": 0, \\\"offset\\\": 0}, \\\"angle\\\": {\\\"value\\\": 0}, \\\"font\\\": {\\\"value\\\": \\\"AvenirNext-Medium\\\"}, \\\"fontSize\\\": {\\\"value\\\": 10}, \\\"fontWeight\\\": {\\\"value\\\": \\\"normal\\\"}, \\\"fontStyle\\\": {\\\"value\\\": \\\"normal\\\"}, \\\"fill\\\": {\\\"value\\\": \\\"#6A6A6A\\\"}}, \\\"update\\\": {\\\"x\\\": {\\\"signal\\\": \\\"datum[\\\\\\\"c_x_axis_back\\\\\\\"]+667\\\"}, \\\"y\\\": {\\\"field\\\": \\\"c_stdev_val\\\"}}}, \\\"type\\\": \\\"text\\\"}, {\\\"from\\\": {\\\"facet\\\": {\\\"name\\\": \\\"new_data\\\", \\\"data\\\": \\\"data_2\\\", \\\"field\\\": \\\"numeric\\\"}}, \\\"encode\\\": {\\\"enter\\\": {\\\"x\\\": {\\\"value\\\": 120}, \\\"width\\\": {\\\"value\\\": 250}, \\\"y\\\": {\\\"field\\\": \\\"graph_offset\\\"}, \\\"height\\\": {\\\"value\\\": 150}, \\\"fill\\\": {\\\"value\\\": \\\"#ffffff\\\"}, \\\"fillOpacity\\\": {\\\"value\\\": 0}, \\\"stroke\\\": {\\\"value\\\": \\\"#000000\\\"}, \\\"strokeWidth\\\": {\\\"value\\\": 0}}, \\\"update\\\": {\\\"x\\\": {\\\"signal\\\": \\\"datum[\\\\\\\"c_x_axis_back\\\\\\\"]+87\\\"}, \\\"clip\\\": {\\\"field\\\": \\\"c_clip_val\\\"}, \\\"width\\\": {\\\"field\\\": \\\"c_width_numeric_val\\\"}}}, \\\"type\\\": \\\"group\\\", \\\"scales\\\": [{\\\"name\\\": \\\"x\\\", \\\"type\\\": \\\"linear\\\", \\\"domain\\\": {\\\"data\\\": \\\"new_data\\\", \\\"fields\\\": [\\\"left\\\", \\\"right\\\"], \\\"sort\\\": true}, \\\"range\\\": [0, {\\\"signal\\\": \\\"width\\\"}], \\\"nice\\\": true, \\\"zero\\\": true}, {\\\"name\\\": \\\"y\\\", \\\"type\\\": \\\"linear\\\", \\\"domain\\\": {\\\"data\\\": \\\"new_data\\\", \\\"field\\\": \\\"count\\\"}, \\\"range\\\": [{\\\"signal\\\": \\\"height\\\"}, 0], \\\"nice\\\": true, \\\"zero\\\": true}], \\\"axes\\\": [{\\\"title\\\": \\\"Values\\\", \\\"scale\\\": \\\"x\\\", \\\"labelOverlap\\\": true, \\\"orient\\\": \\\"bottom\\\", \\\"tickCount\\\": {\\\"signal\\\": \\\"ceil(width/40)\\\"}, \\\"zindex\\\": 1}, {\\\"scale\\\": \\\"x\\\", \\\"domain\\\": false, \\\"grid\\\": true, \\\"labels\\\": false, \\\"maxExtent\\\": 0, \\\"minExtent\\\": 0, \\\"orient\\\": \\\"bottom\\\", \\\"tickCount\\\": {\\\"signal\\\": \\\"ceil(width/40)\\\"}, \\\"ticks\\\": false, \\\"zindex\\\": 0, \\\"gridScale\\\": \\\"y\\\"}, {\\\"title\\\": \\\"Count\\\", \\\"scale\\\": \\\"y\\\", \\\"labelOverlap\\\": true, \\\"orient\\\": \\\"left\\\", \\\"tickCount\\\": {\\\"signal\\\": \\\"ceil(height/40)\\\"}, \\\"zindex\\\": 1}, {\\\"scale\\\": \\\"y\\\", \\\"domain\\\": false, \\\"grid\\\": true, \\\"labels\\\": false, \\\"maxExtent\\\": 0, \\\"minExtent\\\": 0, \\\"orient\\\": \\\"left\\\", \\\"tickCount\\\": {\\\"signal\\\": \\\"ceil(height/40)\\\"}, \\\"ticks\\\": false, \\\"zindex\\\": 0, \\\"gridScale\\\": \\\"x\\\"}], \\\"style\\\": \\\"cell\\\", \\\"signals\\\": [{\\\"name\\\": \\\"width\\\", \\\"update\\\": \\\"250\\\"}, {\\\"name\\\": \\\"height\\\", \\\"update\\\": \\\"150\\\"}], \\\"marks\\\": [{\\\"name\\\": \\\"marks\\\", \\\"type\\\": \\\"rect\\\", \\\"style\\\": [\\\"rect\\\"], \\\"from\\\": {\\\"data\\\": \\\"new_data\\\"}, \\\"encode\\\": {\\\"hover\\\": {\\\"fill\\\": {\\\"value\\\": \\\"#7EC2F3\\\"}}, \\\"update\\\": {\\\"x\\\": {\\\"scale\\\": \\\"x\\\", \\\"field\\\": \\\"left\\\"}, \\\"x2\\\": {\\\"scale\\\": \\\"x\\\", \\\"field\\\": \\\"right\\\"}, \\\"y\\\": {\\\"scale\\\": \\\"y\\\", \\\"field\\\": \\\"count\\\"}, \\\"y2\\\": {\\\"scale\\\": \\\"y\\\", \\\"value\\\": 0}, \\\"fill\\\": {\\\"value\\\": \\\"#108EE9\\\"}}}}]}, {\\\"from\\\": {\\\"facet\\\": {\\\"name\\\": \\\"data_5\\\", \\\"data\\\": \\\"data_2\\\", \\\"field\\\": \\\"categorical\\\"}}, \\\"encode\\\": {\\\"enter\\\": {\\\"x\\\": {\\\"value\\\": 170}, \\\"width\\\": {\\\"value\\\": 250}, \\\"y\\\": {\\\"field\\\": \\\"graph_offset_categorical\\\"}, \\\"height\\\": {\\\"value\\\": 150}, \\\"fill\\\": {\\\"value\\\": \\\"#ffffff\\\"}, \\\"fillOpacity\\\": {\\\"value\\\": 0}, \\\"stroke\\\": {\\\"value\\\": \\\"#000000\\\"}, \\\"strokeWidth\\\": {\\\"value\\\": 0}}, \\\"update\\\": {\\\"x\\\": {\\\"signal\\\": \\\"datum[\\\\\\\"c_x_axis_back\\\\\\\"]+137\\\"}, \\\"clip\\\": {\\\"field\\\": \\\"c_clip_val_cat\\\"}, \\\"width\\\": {\\\"field\\\": \\\"c_width_numeric_val_cat\\\"}}}, \\\"type\\\": \\\"group\\\", \\\"style\\\": \\\"cell\\\", \\\"signals\\\": [{\\\"name\\\": \\\"unit\\\", \\\"value\\\": {}, \\\"on\\\": [{\\\"events\\\": \\\"mousemove\\\", \\\"update\\\": \\\"isTuple(group()) ? group() : unit\\\"}]}, {\\\"name\\\": \\\"pts\\\", \\\"update\\\": \\\"data(\\\\\\\"pts_store\\\\\\\").length &amp;&amp; {count: data(\\\\\\\"pts_store\\\\\\\")[0].values[0]}\\\"}, {\\\"name\\\": \\\"pts_tuple\\\", \\\"value\\\": {}, \\\"on\\\": [{\\\"events\\\": [{\\\"source\\\": \\\"scope\\\", \\\"type\\\": \\\"click\\\"}], \\\"update\\\": \\\"datum &amp;&amp; item().mark.marktype !== &apos;group&apos; ? {unit: \\\\\\\"\\\\\\\", encodings: [\\\\\\\"x\\\\\\\"], fields: [\\\\\\\"count\\\\\\\"], values: [datum[\\\\\\\"count\\\\\\\"]]} : null\\\", \\\"force\\\": true}]}, {\\\"name\\\": \\\"pts_modify\\\", \\\"on\\\": [{\\\"events\\\": {\\\"signal\\\": \\\"pts_tuple\\\"}, \\\"update\\\": \\\"modify(\\\\\\\"pts_store\\\\\\\", pts_tuple, true)\\\"}]}], \\\"marks\\\": [{\\\"name\\\": \\\"marks\\\", \\\"type\\\": \\\"rect\\\", \\\"style\\\": [\\\"bar\\\"], \\\"from\\\": {\\\"data\\\": \\\"data_5\\\"}, \\\"encode\\\": {\\\"hover\\\": {\\\"fill\\\": {\\\"value\\\": \\\"#7EC2F3\\\"}}, \\\"update\\\": {\\\"x\\\": {\\\"scale\\\": \\\"x\\\", \\\"field\\\": \\\"count\\\"}, \\\"x2\\\": {\\\"scale\\\": \\\"x\\\", \\\"value\\\": 0}, \\\"y\\\": {\\\"scale\\\": \\\"y\\\", \\\"field\\\": \\\"label\\\"}, \\\"height\\\": {\\\"scale\\\": \\\"y\\\", \\\"band\\\": true}, \\\"fill\\\": {\\\"value\\\": \\\"#108EE9\\\"}}}}], \\\"scales\\\": [{\\\"name\\\": \\\"x\\\", \\\"type\\\": \\\"linear\\\", \\\"domain\\\": {\\\"data\\\": \\\"data_5\\\", \\\"field\\\": \\\"count\\\"}, \\\"range\\\": [0, 250], \\\"nice\\\": true, \\\"zero\\\": true}, {\\\"name\\\": \\\"y\\\", \\\"type\\\": \\\"band\\\", \\\"domain\\\": {\\\"data\\\": \\\"data_5\\\", \\\"field\\\": \\\"label\\\", \\\"sort\\\": {\\\"op\\\": \\\"mean\\\", \\\"field\\\": \\\"label_idx\\\", \\\"order\\\": \\\"descending\\\"}}, \\\"range\\\": [150, 0], \\\"paddingInner\\\": 0.1, \\\"paddingOuter\\\": 0.05}], \\\"axes\\\": [{\\\"orient\\\": \\\"top\\\", \\\"scale\\\": \\\"x\\\", \\\"labelOverlap\\\": true, \\\"tickCount\\\": {\\\"signal\\\": \\\"ceil(width/40)\\\"}, \\\"title\\\": \\\"Count\\\", \\\"zindex\\\": 1}, {\\\"orient\\\": \\\"top\\\", \\\"scale\\\": \\\"x\\\", \\\"domain\\\": false, \\\"grid\\\": true, \\\"labels\\\": false, \\\"maxExtent\\\": 0, \\\"minExtent\\\": 0, \\\"tickCount\\\": {\\\"signal\\\": \\\"ceil(width/40)\\\"}, \\\"ticks\\\": false, \\\"zindex\\\": 0, \\\"gridScale\\\": \\\"y\\\"}, {\\\"scale\\\": \\\"y\\\", \\\"labelOverlap\\\": true, \\\"orient\\\": \\\"left\\\", \\\"title\\\": \\\"Label\\\", \\\"zindex\\\": 1}]}], \\\"type\\\": \\\"group\\\"}], \\\"type\\\": \\\"group\\\"}], \\\"config\\\": {\\\"axis\\\": {\\\"labelFont\\\": \\\"HelveticaNeue-Light, Arial\\\", \\\"labelFontSize\\\": 7, \\\"labelPadding\\\": 10, \\\"labelColor\\\": \\\"#595959\\\", \\\"titleFont\\\": \\\"HelveticaNeue-Light, Arial\\\", \\\"titleFontWeight\\\": \\\"normal\\\", \\\"titlePadding\\\": 9, \\\"titleFontSize\\\": 12, \\\"titleColor\\\": \\\"#595959\\\"}, \\\"axisY\\\": {\\\"minExtent\\\": 30}, \\\"style\\\": {\\\"rect\\\": {\\\"stroke\\\": \\\"rgba(200, 200, 200, 0.5)\\\"}, \\\"group-title\\\": {\\\"fontSize\\\": 20, \\\"font\\\": \\\"HelveticaNeue-Light, Arial\\\", \\\"fontWeight\\\": \\\"normal\\\", \\\"fill\\\": \\\"#595959\\\"}}}}\";                                 var vega_json_parsed = JSON.parse(vega_json);                                 var toolTipOpts = {                                     showAllFields: true                                 };                                 if(vega_json_parsed[\"metadata\"] != null){                                     if(vega_json_parsed[\"metadata\"][\"bubbleOpts\"] != null){                                         toolTipOpts = vega_json_parsed[\"metadata\"][\"bubbleOpts\"];                                     };                                 };                                 vegaEmbed(\"#vis\", vega_json_parsed).then(function (result) {                                     vegaTooltip.vega(result.view, toolTipOpts);                                  });                             </script>                         </body>                     </html>' src=\"demo_iframe_srcdoc.htm\">                         <p>Your browser does not support iframes.</p>                     </iframe>                 </body>             </html>"
            ],
            "text/plain": [
              "<IPython.core.display.HTML object>"
            ]
          },
          "metadata": {
            "tags": []
          }
        }
      ]
    },
    {
      "cell_type": "markdown",
      "metadata": {
        "id": "r5as3oDbWSxe",
        "colab_type": "text"
      },
      "source": [
        "Xây dựng model với các features được thêm vào"
      ]
    },
    {
      "cell_type": "code",
      "metadata": {
        "id": "mwzQECuEWYGl",
        "colab_type": "code",
        "colab": {
          "base_uri": "https://localhost:8080/",
          "height": 306
        },
        "outputId": "4f651181-5378-44ec-a3c6-c3baf6ea195c"
      },
      "source": [
        "my_features_model = turicreate.linear_regression.create(training_set,target='price',features=my_features)"
      ],
      "execution_count": null,
      "outputs": [
        {
          "output_type": "stream",
          "text": [
            "PROGRESS: Creating a validation set from 5 percent of training data. This may take a while.\n",
            "          You can set ``validation_set=None`` to disable validation tracking.\n",
            "\n"
          ],
          "name": "stdout"
        },
        {
          "output_type": "display_data",
          "data": {
            "text/html": [
              "<pre>Linear regression:</pre>"
            ],
            "text/plain": [
              "Linear regression:"
            ]
          },
          "metadata": {
            "tags": []
          }
        },
        {
          "output_type": "display_data",
          "data": {
            "text/html": [
              "<pre>--------------------------------------------------------</pre>"
            ],
            "text/plain": [
              "--------------------------------------------------------"
            ]
          },
          "metadata": {
            "tags": []
          }
        },
        {
          "output_type": "display_data",
          "data": {
            "text/html": [
              "<pre>Number of examples          : 16514</pre>"
            ],
            "text/plain": [
              "Number of examples          : 16514"
            ]
          },
          "metadata": {
            "tags": []
          }
        },
        {
          "output_type": "display_data",
          "data": {
            "text/html": [
              "<pre>Number of features          : 6</pre>"
            ],
            "text/plain": [
              "Number of features          : 6"
            ]
          },
          "metadata": {
            "tags": []
          }
        },
        {
          "output_type": "display_data",
          "data": {
            "text/html": [
              "<pre>Number of unpacked features : 6</pre>"
            ],
            "text/plain": [
              "Number of unpacked features : 6"
            ]
          },
          "metadata": {
            "tags": []
          }
        },
        {
          "output_type": "display_data",
          "data": {
            "text/html": [
              "<pre>Number of coefficients    : 75</pre>"
            ],
            "text/plain": [
              "Number of coefficients    : 75"
            ]
          },
          "metadata": {
            "tags": []
          }
        },
        {
          "output_type": "display_data",
          "data": {
            "text/html": [
              "<pre>Starting Newton Method</pre>"
            ],
            "text/plain": [
              "Starting Newton Method"
            ]
          },
          "metadata": {
            "tags": []
          }
        },
        {
          "output_type": "display_data",
          "data": {
            "text/html": [
              "<pre>--------------------------------------------------------</pre>"
            ],
            "text/plain": [
              "--------------------------------------------------------"
            ]
          },
          "metadata": {
            "tags": []
          }
        },
        {
          "output_type": "display_data",
          "data": {
            "text/html": [
              "<pre>+-----------+----------+--------------+--------------------+----------------------+---------------------------------+-----------------------------------+</pre>"
            ],
            "text/plain": [
              "+-----------+----------+--------------+--------------------+----------------------+---------------------------------+-----------------------------------+"
            ]
          },
          "metadata": {
            "tags": []
          }
        },
        {
          "output_type": "display_data",
          "data": {
            "text/html": [
              "<pre>| Iteration | Passes   | Elapsed Time | Training Max Error | Validation Max Error | Training Root-Mean-Square Error | Validation Root-Mean-Square Error |</pre>"
            ],
            "text/plain": [
              "| Iteration | Passes   | Elapsed Time | Training Max Error | Validation Max Error | Training Root-Mean-Square Error | Validation Root-Mean-Square Error |"
            ]
          },
          "metadata": {
            "tags": []
          }
        },
        {
          "output_type": "display_data",
          "data": {
            "text/html": [
              "<pre>+-----------+----------+--------------+--------------------+----------------------+---------------------------------+-----------------------------------+</pre>"
            ],
            "text/plain": [
              "+-----------+----------+--------------+--------------------+----------------------+---------------------------------+-----------------------------------+"
            ]
          },
          "metadata": {
            "tags": []
          }
        },
        {
          "output_type": "display_data",
          "data": {
            "text/html": [
              "<pre>| 1         | 2        | 0.031598     | 4073924.564460     | 2117091.152617       | 188652.738739                   | 200194.251507                     |</pre>"
            ],
            "text/plain": [
              "| 1         | 2        | 0.031598     | 4073924.564460     | 2117091.152617       | 188652.738739                   | 200194.251507                     |"
            ]
          },
          "metadata": {
            "tags": []
          }
        },
        {
          "output_type": "display_data",
          "data": {
            "text/html": [
              "<pre>+-----------+----------+--------------+--------------------+----------------------+---------------------------------+-----------------------------------+</pre>"
            ],
            "text/plain": [
              "+-----------+----------+--------------+--------------------+----------------------+---------------------------------+-----------------------------------+"
            ]
          },
          "metadata": {
            "tags": []
          }
        },
        {
          "output_type": "display_data",
          "data": {
            "text/html": [
              "<pre>SUCCESS: Optimal solution found.</pre>"
            ],
            "text/plain": [
              "SUCCESS: Optimal solution found."
            ]
          },
          "metadata": {
            "tags": []
          }
        },
        {
          "output_type": "display_data",
          "data": {
            "text/html": [
              "<pre></pre>"
            ],
            "text/plain": [
              ""
            ]
          },
          "metadata": {
            "tags": []
          }
        }
      ]
    },
    {
      "cell_type": "markdown",
      "metadata": {
        "id": "01mIZxIe-q4v",
        "colab_type": "text"
      },
      "source": [
        "So sánh model đơn giản với model phức tạp hơn"
      ]
    },
    {
      "cell_type": "code",
      "metadata": {
        "id": "zV_ssuDY-wzS",
        "colab_type": "code",
        "colab": {
          "base_uri": "https://localhost:8080/",
          "height": 34
        },
        "outputId": "43e48f22-81ac-4c84-c839-1b2729e7073f"
      },
      "source": [
        "print (my_features)"
      ],
      "execution_count": null,
      "outputs": [
        {
          "output_type": "stream",
          "text": [
            "['bedrooms', 'bathrooms', 'sqft_living', 'sqft_lot', 'floors', 'zipcode']\n"
          ],
          "name": "stdout"
        }
      ]
    },
    {
      "cell_type": "markdown",
      "metadata": {
        "id": "tNdN4LWMu4-e",
        "colab_type": "text"
      },
      "source": [
        "So sánh với model cũ, model mới có nhiều feature hơn nên dự đoán chính xác hơn, vì giá trị max_error ở model mới giảm so với model cũ (3148111.43 < 4142341.11)"
      ]
    },
    {
      "cell_type": "code",
      "metadata": {
        "id": "6ZUnEvMGnEjX",
        "colab_type": "code",
        "colab": {
          "base_uri": "https://localhost:8080/",
          "height": 51
        },
        "outputId": "862ec08e-3c6a-400c-fa7d-b4a16af3aaba"
      },
      "source": [
        "print (sqft_model.evaluate(test_set))\n",
        "print (my_features_model.evaluate(test_set))"
      ],
      "execution_count": null,
      "outputs": [
        {
          "output_type": "stream",
          "text": [
            "{'max_error': 4142341.1082330598, 'rmse': 255200.027474669}\n",
            "{'max_error': 3148111.434490856, 'rmse': 180501.78806068245}\n"
          ],
          "name": "stdout"
        }
      ]
    },
    {
      "cell_type": "markdown",
      "metadata": {
        "id": "eziyocA_nLpW",
        "colab_type": "text"
      },
      "source": [
        "Áp dụng model đã học vào dự đoán"
      ]
    },
    {
      "cell_type": "code",
      "metadata": {
        "id": "DBKMf9n2nSvb",
        "colab_type": "code",
        "colab": {}
      },
      "source": [
        "house1 = sales[sales['id']=='5309101200']"
      ],
      "execution_count": null,
      "outputs": []
    },
    {
      "cell_type": "code",
      "metadata": {
        "id": "c594QCsqnWRT",
        "colab_type": "code",
        "colab": {
          "base_uri": "https://localhost:8080/",
          "height": 188
        },
        "outputId": "e31f73ae-4088-4ff5-f9ff-980044b07f99"
      },
      "source": [
        "house1"
      ],
      "execution_count": null,
      "outputs": [
        {
          "output_type": "execute_result",
          "data": {
            "text/html": [
              "<div style=\"max-height:1000px;max-width:1500px;overflow:auto;\"><table frame=\"box\" rules=\"cols\">\n",
              "    <tr>\n",
              "        <th style=\"padding-left: 1em; padding-right: 1em; text-align: center\">id</th>\n",
              "        <th style=\"padding-left: 1em; padding-right: 1em; text-align: center\">date</th>\n",
              "        <th style=\"padding-left: 1em; padding-right: 1em; text-align: center\">price</th>\n",
              "        <th style=\"padding-left: 1em; padding-right: 1em; text-align: center\">bedrooms</th>\n",
              "        <th style=\"padding-left: 1em; padding-right: 1em; text-align: center\">bathrooms</th>\n",
              "        <th style=\"padding-left: 1em; padding-right: 1em; text-align: center\">sqft_living</th>\n",
              "        <th style=\"padding-left: 1em; padding-right: 1em; text-align: center\">sqft_lot</th>\n",
              "        <th style=\"padding-left: 1em; padding-right: 1em; text-align: center\">floors</th>\n",
              "        <th style=\"padding-left: 1em; padding-right: 1em; text-align: center\">waterfront</th>\n",
              "    </tr>\n",
              "    <tr>\n",
              "        <td style=\"padding-left: 1em; padding-right: 1em; text-align: center; vertical-align: top\">5309101200</td>\n",
              "        <td style=\"padding-left: 1em; padding-right: 1em; text-align: center; vertical-align: top\">2014-06-05 00:00:00+00:00</td>\n",
              "        <td style=\"padding-left: 1em; padding-right: 1em; text-align: center; vertical-align: top\">620000.0</td>\n",
              "        <td style=\"padding-left: 1em; padding-right: 1em; text-align: center; vertical-align: top\">4.0</td>\n",
              "        <td style=\"padding-left: 1em; padding-right: 1em; text-align: center; vertical-align: top\">2.25</td>\n",
              "        <td style=\"padding-left: 1em; padding-right: 1em; text-align: center; vertical-align: top\">2400.0</td>\n",
              "        <td style=\"padding-left: 1em; padding-right: 1em; text-align: center; vertical-align: top\">5350.0</td>\n",
              "        <td style=\"padding-left: 1em; padding-right: 1em; text-align: center; vertical-align: top\">1.5</td>\n",
              "        <td style=\"padding-left: 1em; padding-right: 1em; text-align: center; vertical-align: top\">0</td>\n",
              "    </tr>\n",
              "</table>\n",
              "<table frame=\"box\" rules=\"cols\">\n",
              "    <tr>\n",
              "        <th style=\"padding-left: 1em; padding-right: 1em; text-align: center\">view</th>\n",
              "        <th style=\"padding-left: 1em; padding-right: 1em; text-align: center\">condition</th>\n",
              "        <th style=\"padding-left: 1em; padding-right: 1em; text-align: center\">grade</th>\n",
              "        <th style=\"padding-left: 1em; padding-right: 1em; text-align: center\">sqft_above</th>\n",
              "        <th style=\"padding-left: 1em; padding-right: 1em; text-align: center\">sqft_basement</th>\n",
              "        <th style=\"padding-left: 1em; padding-right: 1em; text-align: center\">yr_built</th>\n",
              "        <th style=\"padding-left: 1em; padding-right: 1em; text-align: center\">yr_renovated</th>\n",
              "        <th style=\"padding-left: 1em; padding-right: 1em; text-align: center\">zipcode</th>\n",
              "        <th style=\"padding-left: 1em; padding-right: 1em; text-align: center\">lat</th>\n",
              "    </tr>\n",
              "    <tr>\n",
              "        <td style=\"padding-left: 1em; padding-right: 1em; text-align: center; vertical-align: top\">0</td>\n",
              "        <td style=\"padding-left: 1em; padding-right: 1em; text-align: center; vertical-align: top\">4</td>\n",
              "        <td style=\"padding-left: 1em; padding-right: 1em; text-align: center; vertical-align: top\">7.0</td>\n",
              "        <td style=\"padding-left: 1em; padding-right: 1em; text-align: center; vertical-align: top\">1460.0</td>\n",
              "        <td style=\"padding-left: 1em; padding-right: 1em; text-align: center; vertical-align: top\">940.0</td>\n",
              "        <td style=\"padding-left: 1em; padding-right: 1em; text-align: center; vertical-align: top\">1929.0</td>\n",
              "        <td style=\"padding-left: 1em; padding-right: 1em; text-align: center; vertical-align: top\">0.0</td>\n",
              "        <td style=\"padding-left: 1em; padding-right: 1em; text-align: center; vertical-align: top\">98117</td>\n",
              "        <td style=\"padding-left: 1em; padding-right: 1em; text-align: center; vertical-align: top\">47.67632376</td>\n",
              "    </tr>\n",
              "</table>\n",
              "<table frame=\"box\" rules=\"cols\">\n",
              "    <tr>\n",
              "        <th style=\"padding-left: 1em; padding-right: 1em; text-align: center\">long</th>\n",
              "        <th style=\"padding-left: 1em; padding-right: 1em; text-align: center\">sqft_living15</th>\n",
              "        <th style=\"padding-left: 1em; padding-right: 1em; text-align: center\">sqft_lot15</th>\n",
              "    </tr>\n",
              "    <tr>\n",
              "        <td style=\"padding-left: 1em; padding-right: 1em; text-align: center; vertical-align: top\">-122.37010126</td>\n",
              "        <td style=\"padding-left: 1em; padding-right: 1em; text-align: center; vertical-align: top\">1250.0</td>\n",
              "        <td style=\"padding-left: 1em; padding-right: 1em; text-align: center; vertical-align: top\">4880.0</td>\n",
              "    </tr>\n",
              "</table>\n",
              "[? rows x 21 columns]<br/>Note: Only the head of the SFrame is printed. This SFrame is lazily evaluated.<br/>You can use sf.materialize() to force materialization.\n",
              "</div>"
            ],
            "text/plain": [
              "Columns:\n",
              "\tid\tstr\n",
              "\tdate\tdatetime\n",
              "\tprice\tfloat\n",
              "\tbedrooms\tfloat\n",
              "\tbathrooms\tfloat\n",
              "\tsqft_living\tfloat\n",
              "\tsqft_lot\tfloat\n",
              "\tfloors\tfloat\n",
              "\twaterfront\tint\n",
              "\tview\tint\n",
              "\tcondition\tint\n",
              "\tgrade\tfloat\n",
              "\tsqft_above\tfloat\n",
              "\tsqft_basement\tfloat\n",
              "\tyr_built\tfloat\n",
              "\tyr_renovated\tfloat\n",
              "\tzipcode\tstr\n",
              "\tlat\tfloat\n",
              "\tlong\tfloat\n",
              "\tsqft_living15\tfloat\n",
              "\tsqft_lot15\tfloat\n",
              "\n",
              "Rows: Unknown\n",
              "\n",
              "Data:\n",
              "+------------+---------------------------+----------+----------+-----------+\n",
              "|     id     |            date           |  price   | bedrooms | bathrooms |\n",
              "+------------+---------------------------+----------+----------+-----------+\n",
              "| 5309101200 | 2014-06-05 00:00:00+00:00 | 620000.0 |   4.0    |    2.25   |\n",
              "+------------+---------------------------+----------+----------+-----------+\n",
              "+-------------+----------+--------+------------+------+-----------+-------+\n",
              "| sqft_living | sqft_lot | floors | waterfront | view | condition | grade |\n",
              "+-------------+----------+--------+------------+------+-----------+-------+\n",
              "|    2400.0   |  5350.0  |  1.5   |     0      |  0   |     4     |  7.0  |\n",
              "+-------------+----------+--------+------------+------+-----------+-------+\n",
              "+------------+---------------+----------+--------------+---------+-------------+\n",
              "| sqft_above | sqft_basement | yr_built | yr_renovated | zipcode |     lat     |\n",
              "+------------+---------------+----------+--------------+---------+-------------+\n",
              "|   1460.0   |     940.0     |  1929.0  |     0.0      |  98117  | 47.67632376 |\n",
              "+------------+---------------+----------+--------------+---------+-------------+\n",
              "+---------------+---------------+-----+\n",
              "|      long     | sqft_living15 | ... |\n",
              "+---------------+---------------+-----+\n",
              "| -122.37010126 |     1250.0    | ... |\n",
              "+---------------+---------------+-----+\n",
              "[? rows x 21 columns]\n",
              "Note: Only the head of the SFrame is printed. This SFrame is lazily evaluated.\n",
              "You can use sf.materialize() to force materialization."
            ]
          },
          "metadata": {
            "tags": []
          },
          "execution_count": 28
        }
      ]
    },
    {
      "cell_type": "code",
      "metadata": {
        "id": "2Y0hbh0bnblc",
        "colab_type": "code",
        "colab": {
          "base_uri": "https://localhost:8080/",
          "height": 34
        },
        "outputId": "262f1b16-fc19-4a47-a417-27d34ecdebc8"
      },
      "source": [
        "print (house1['price'])"
      ],
      "execution_count": null,
      "outputs": [
        {
          "output_type": "stream",
          "text": [
            "[620000.0, ... ]\n"
          ],
          "name": "stdout"
        }
      ]
    },
    {
      "cell_type": "code",
      "metadata": {
        "id": "xzHB6yJAnfbJ",
        "colab_type": "code",
        "colab": {
          "base_uri": "https://localhost:8080/",
          "height": 34
        },
        "outputId": "8734d9ff-9efa-409a-c21f-31896e179d3c"
      },
      "source": [
        "print (sqft_model.predict(house1))"
      ],
      "execution_count": null,
      "outputs": [
        {
          "output_type": "stream",
          "text": [
            "[629354.2459032923]\n"
          ],
          "name": "stdout"
        }
      ]
    },
    {
      "cell_type": "code",
      "metadata": {
        "id": "92OHuFLQnkz3",
        "colab_type": "code",
        "colab": {
          "base_uri": "https://localhost:8080/",
          "height": 34
        },
        "outputId": "c2a58139-3a55-44be-b99e-33d521b2ab37"
      },
      "source": [
        "print (my_features_model.predict(house1))"
      ],
      "execution_count": null,
      "outputs": [
        {
          "output_type": "stream",
          "text": [
            "[730297.1638513468]\n"
          ],
          "name": "stdout"
        }
      ]
    },
    {
      "cell_type": "markdown",
      "metadata": {
        "id": "eYzKeIUQnoBr",
        "colab_type": "text"
      },
      "source": [
        "Dự đoán cho ngôi nhà thứ 2"
      ]
    },
    {
      "cell_type": "code",
      "metadata": {
        "id": "ztMAd2tMnq1Z",
        "colab_type": "code",
        "colab": {}
      },
      "source": [
        "house2 = sales[sales['id']=='1925069082']"
      ],
      "execution_count": null,
      "outputs": []
    },
    {
      "cell_type": "code",
      "metadata": {
        "id": "MUfnlSeSnu0z",
        "colab_type": "code",
        "colab": {
          "base_uri": "https://localhost:8080/",
          "height": 188
        },
        "outputId": "4328ec36-158a-44a4-d25c-439dbafd96e6"
      },
      "source": [
        "house2"
      ],
      "execution_count": null,
      "outputs": [
        {
          "output_type": "execute_result",
          "data": {
            "text/html": [
              "<div style=\"max-height:1000px;max-width:1500px;overflow:auto;\"><table frame=\"box\" rules=\"cols\">\n",
              "    <tr>\n",
              "        <th style=\"padding-left: 1em; padding-right: 1em; text-align: center\">id</th>\n",
              "        <th style=\"padding-left: 1em; padding-right: 1em; text-align: center\">date</th>\n",
              "        <th style=\"padding-left: 1em; padding-right: 1em; text-align: center\">price</th>\n",
              "        <th style=\"padding-left: 1em; padding-right: 1em; text-align: center\">bedrooms</th>\n",
              "        <th style=\"padding-left: 1em; padding-right: 1em; text-align: center\">bathrooms</th>\n",
              "        <th style=\"padding-left: 1em; padding-right: 1em; text-align: center\">sqft_living</th>\n",
              "        <th style=\"padding-left: 1em; padding-right: 1em; text-align: center\">sqft_lot</th>\n",
              "        <th style=\"padding-left: 1em; padding-right: 1em; text-align: center\">floors</th>\n",
              "        <th style=\"padding-left: 1em; padding-right: 1em; text-align: center\">waterfront</th>\n",
              "    </tr>\n",
              "    <tr>\n",
              "        <td style=\"padding-left: 1em; padding-right: 1em; text-align: center; vertical-align: top\">1925069082</td>\n",
              "        <td style=\"padding-left: 1em; padding-right: 1em; text-align: center; vertical-align: top\">2015-05-11 00:00:00+00:00</td>\n",
              "        <td style=\"padding-left: 1em; padding-right: 1em; text-align: center; vertical-align: top\">2200000.0</td>\n",
              "        <td style=\"padding-left: 1em; padding-right: 1em; text-align: center; vertical-align: top\">5.0</td>\n",
              "        <td style=\"padding-left: 1em; padding-right: 1em; text-align: center; vertical-align: top\">4.25</td>\n",
              "        <td style=\"padding-left: 1em; padding-right: 1em; text-align: center; vertical-align: top\">4640.0</td>\n",
              "        <td style=\"padding-left: 1em; padding-right: 1em; text-align: center; vertical-align: top\">22703.0</td>\n",
              "        <td style=\"padding-left: 1em; padding-right: 1em; text-align: center; vertical-align: top\">2.0</td>\n",
              "        <td style=\"padding-left: 1em; padding-right: 1em; text-align: center; vertical-align: top\">1</td>\n",
              "    </tr>\n",
              "</table>\n",
              "<table frame=\"box\" rules=\"cols\">\n",
              "    <tr>\n",
              "        <th style=\"padding-left: 1em; padding-right: 1em; text-align: center\">view</th>\n",
              "        <th style=\"padding-left: 1em; padding-right: 1em; text-align: center\">condition</th>\n",
              "        <th style=\"padding-left: 1em; padding-right: 1em; text-align: center\">grade</th>\n",
              "        <th style=\"padding-left: 1em; padding-right: 1em; text-align: center\">sqft_above</th>\n",
              "        <th style=\"padding-left: 1em; padding-right: 1em; text-align: center\">sqft_basement</th>\n",
              "        <th style=\"padding-left: 1em; padding-right: 1em; text-align: center\">yr_built</th>\n",
              "        <th style=\"padding-left: 1em; padding-right: 1em; text-align: center\">yr_renovated</th>\n",
              "        <th style=\"padding-left: 1em; padding-right: 1em; text-align: center\">zipcode</th>\n",
              "        <th style=\"padding-left: 1em; padding-right: 1em; text-align: center\">lat</th>\n",
              "    </tr>\n",
              "    <tr>\n",
              "        <td style=\"padding-left: 1em; padding-right: 1em; text-align: center; vertical-align: top\">4</td>\n",
              "        <td style=\"padding-left: 1em; padding-right: 1em; text-align: center; vertical-align: top\">5</td>\n",
              "        <td style=\"padding-left: 1em; padding-right: 1em; text-align: center; vertical-align: top\">8.0</td>\n",
              "        <td style=\"padding-left: 1em; padding-right: 1em; text-align: center; vertical-align: top\">2860.0</td>\n",
              "        <td style=\"padding-left: 1em; padding-right: 1em; text-align: center; vertical-align: top\">1780.0</td>\n",
              "        <td style=\"padding-left: 1em; padding-right: 1em; text-align: center; vertical-align: top\">1952.0</td>\n",
              "        <td style=\"padding-left: 1em; padding-right: 1em; text-align: center; vertical-align: top\">0.0</td>\n",
              "        <td style=\"padding-left: 1em; padding-right: 1em; text-align: center; vertical-align: top\">98052</td>\n",
              "        <td style=\"padding-left: 1em; padding-right: 1em; text-align: center; vertical-align: top\">47.63925783</td>\n",
              "    </tr>\n",
              "</table>\n",
              "<table frame=\"box\" rules=\"cols\">\n",
              "    <tr>\n",
              "        <th style=\"padding-left: 1em; padding-right: 1em; text-align: center\">long</th>\n",
              "        <th style=\"padding-left: 1em; padding-right: 1em; text-align: center\">sqft_living15</th>\n",
              "        <th style=\"padding-left: 1em; padding-right: 1em; text-align: center\">sqft_lot15</th>\n",
              "    </tr>\n",
              "    <tr>\n",
              "        <td style=\"padding-left: 1em; padding-right: 1em; text-align: center; vertical-align: top\">-122.09722322</td>\n",
              "        <td style=\"padding-left: 1em; padding-right: 1em; text-align: center; vertical-align: top\">3140.0</td>\n",
              "        <td style=\"padding-left: 1em; padding-right: 1em; text-align: center; vertical-align: top\">14200.0</td>\n",
              "    </tr>\n",
              "</table>\n",
              "[? rows x 21 columns]<br/>Note: Only the head of the SFrame is printed. This SFrame is lazily evaluated.<br/>You can use sf.materialize() to force materialization.\n",
              "</div>"
            ],
            "text/plain": [
              "Columns:\n",
              "\tid\tstr\n",
              "\tdate\tdatetime\n",
              "\tprice\tfloat\n",
              "\tbedrooms\tfloat\n",
              "\tbathrooms\tfloat\n",
              "\tsqft_living\tfloat\n",
              "\tsqft_lot\tfloat\n",
              "\tfloors\tfloat\n",
              "\twaterfront\tint\n",
              "\tview\tint\n",
              "\tcondition\tint\n",
              "\tgrade\tfloat\n",
              "\tsqft_above\tfloat\n",
              "\tsqft_basement\tfloat\n",
              "\tyr_built\tfloat\n",
              "\tyr_renovated\tfloat\n",
              "\tzipcode\tstr\n",
              "\tlat\tfloat\n",
              "\tlong\tfloat\n",
              "\tsqft_living15\tfloat\n",
              "\tsqft_lot15\tfloat\n",
              "\n",
              "Rows: Unknown\n",
              "\n",
              "Data:\n",
              "+------------+---------------------------+-----------+----------+-----------+\n",
              "|     id     |            date           |   price   | bedrooms | bathrooms |\n",
              "+------------+---------------------------+-----------+----------+-----------+\n",
              "| 1925069082 | 2015-05-11 00:00:00+00:00 | 2200000.0 |   5.0    |    4.25   |\n",
              "+------------+---------------------------+-----------+----------+-----------+\n",
              "+-------------+----------+--------+------------+------+-----------+-------+\n",
              "| sqft_living | sqft_lot | floors | waterfront | view | condition | grade |\n",
              "+-------------+----------+--------+------------+------+-----------+-------+\n",
              "|    4640.0   | 22703.0  |  2.0   |     1      |  4   |     5     |  8.0  |\n",
              "+-------------+----------+--------+------------+------+-----------+-------+\n",
              "+------------+---------------+----------+--------------+---------+-------------+\n",
              "| sqft_above | sqft_basement | yr_built | yr_renovated | zipcode |     lat     |\n",
              "+------------+---------------+----------+--------------+---------+-------------+\n",
              "|   2860.0   |     1780.0    |  1952.0  |     0.0      |  98052  | 47.63925783 |\n",
              "+------------+---------------+----------+--------------+---------+-------------+\n",
              "+---------------+---------------+-----+\n",
              "|      long     | sqft_living15 | ... |\n",
              "+---------------+---------------+-----+\n",
              "| -122.09722322 |     3140.0    | ... |\n",
              "+---------------+---------------+-----+\n",
              "[? rows x 21 columns]\n",
              "Note: Only the head of the SFrame is printed. This SFrame is lazily evaluated.\n",
              "You can use sf.materialize() to force materialization."
            ]
          },
          "metadata": {
            "tags": []
          },
          "execution_count": 33
        }
      ]
    },
    {
      "cell_type": "code",
      "metadata": {
        "id": "OfQu1Yjfn0a4",
        "colab_type": "code",
        "colab": {
          "base_uri": "https://localhost:8080/",
          "height": 34
        },
        "outputId": "aaac58bd-4f5f-484f-e071-c66ab89083d7"
      },
      "source": [
        "print (sqft_model.predict(house2))"
      ],
      "execution_count": null,
      "outputs": [
        {
          "output_type": "stream",
          "text": [
            "[1261370.5885914862]\n"
          ],
          "name": "stdout"
        }
      ]
    },
    {
      "cell_type": "code",
      "metadata": {
        "id": "bv4Ymjadn2wf",
        "colab_type": "code",
        "colab": {
          "base_uri": "https://localhost:8080/",
          "height": 34
        },
        "outputId": "70e61c2e-e4ef-436d-eb02-4c6ccd8b1995"
      },
      "source": [
        "print (my_features_model.predict(house2))"
      ],
      "execution_count": null,
      "outputs": [
        {
          "output_type": "stream",
          "text": [
            "[1234583.5299229226]\n"
          ],
          "name": "stdout"
        }
      ]
    },
    {
      "cell_type": "markdown",
      "metadata": {
        "id": "Ok8VsOVIoBR2",
        "colab_type": "text"
      },
      "source": [
        "Dự đoán cho một ngôi nhà đặc biệt hơn"
      ]
    },
    {
      "cell_type": "code",
      "metadata": {
        "id": "nADjB8jEn5gS",
        "colab_type": "code",
        "colab": {}
      },
      "source": [
        "bill_gates = {'bedrooms':[8], \n",
        "              'bathrooms':[25], \n",
        "              'sqft_living':[50000], \n",
        "              'sqft_lot':[225000],\n",
        "              'floors':[4], \n",
        "              'zipcode':['98039'], \n",
        "              'condition':[10], \n",
        "              'grade':[10],\n",
        "              'waterfront':[1],\n",
        "              'view':[4],\n",
        "              'sqft_above':[37500],\n",
        "              'sqft_basement':[12500],\n",
        "              'yr_built':[1994],\n",
        "              'yr_renovated':[2010],\n",
        "              'lat':[47.627606],\n",
        "              'long':[-122.242054],\n",
        "              'sqft_living15':[5000],\n",
        "              'sqft_lot15':[40000]}"
      ],
      "execution_count": null,
      "outputs": []
    },
    {
      "cell_type": "code",
      "metadata": {
        "id": "17OxWEPNoKV1",
        "colab_type": "code",
        "colab": {
          "base_uri": "https://localhost:8080/",
          "height": 34
        },
        "outputId": "4ac781da-192d-4539-c58b-78c8e083e23f"
      },
      "source": [
        "print (my_features_model.predict(turicreate.SFrame(bill_gates)))"
      ],
      "execution_count": null,
      "outputs": [
        {
          "output_type": "stream",
          "text": [
            "[15056107.02928958]\n"
          ],
          "name": "stdout"
        }
      ]
    }
  ]
}