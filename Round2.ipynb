{
  "nbformat": 4,
  "nbformat_minor": 0,
  "metadata": {
    "colab": {
      "name": "Round2.ipynb",
      "provenance": [],
      "collapsed_sections": [],
      "authorship_tag": "ABX9TyMRlY+Z7hEivJNKVrs2wYJT",
      "include_colab_link": true
    },
    "kernelspec": {
      "name": "python3",
      "display_name": "Python 3"
    }
  },
  "cells": [
    {
      "cell_type": "markdown",
      "metadata": {
        "id": "view-in-github",
        "colab_type": "text"
      },
      "source": [
        "<a href=\"https://colab.research.google.com/github/phuongghj123/CS114.K21/blob/master/Round2.ipynb\" target=\"_parent\"><img src=\"https://colab.research.google.com/assets/colab-badge.svg\" alt=\"Open In Colab\"/></a>"
      ]
    },
    {
      "cell_type": "markdown",
      "metadata": {
        "id": "obfQeYRfuCbA",
        "colab_type": "text"
      },
      "source": [
        "Lấy dữ liệu xuống sử dụng thư viện Pandas\n",
        "Sử dụng hàm read_csv"
      ]
    },
    {
      "cell_type": "code",
      "metadata": {
        "id": "dr-lwQkQVXdA",
        "colab_type": "code",
        "colab": {}
      },
      "source": [
        "import pandas as pd\n",
        "\n",
        "dataset = pd.read_csv(\"http://cs.uit.edu.vn/data2.txt\", delimiter = \",\")\n",
        "dataset.columns = [\"Input size\", \"Time\"]"
      ],
      "execution_count": 0,
      "outputs": []
    },
    {
      "cell_type": "code",
      "metadata": {
        "id": "hIjoTap5V7wR",
        "colab_type": "code",
        "outputId": "5cd068a5-ef7e-4901-9f8e-096b6a751430",
        "colab": {
          "base_uri": "https://localhost:8080/",
          "height": 204
        }
      },
      "source": [
        "dataset.head()"
      ],
      "execution_count": 2,
      "outputs": [
        {
          "output_type": "execute_result",
          "data": {
            "text/html": [
              "<div>\n",
              "<style scoped>\n",
              "    .dataframe tbody tr th:only-of-type {\n",
              "        vertical-align: middle;\n",
              "    }\n",
              "\n",
              "    .dataframe tbody tr th {\n",
              "        vertical-align: top;\n",
              "    }\n",
              "\n",
              "    .dataframe thead th {\n",
              "        text-align: right;\n",
              "    }\n",
              "</style>\n",
              "<table border=\"1\" class=\"dataframe\">\n",
              "  <thead>\n",
              "    <tr style=\"text-align: right;\">\n",
              "      <th></th>\n",
              "      <th>Input size</th>\n",
              "      <th>Time</th>\n",
              "    </tr>\n",
              "  </thead>\n",
              "  <tbody>\n",
              "    <tr>\n",
              "      <th>0</th>\n",
              "      <td>1954367</td>\n",
              "      <td>0.152648</td>\n",
              "    </tr>\n",
              "    <tr>\n",
              "      <th>1</th>\n",
              "      <td>3734185</td>\n",
              "      <td>0.298548</td>\n",
              "    </tr>\n",
              "    <tr>\n",
              "      <th>2</th>\n",
              "      <td>5839301</td>\n",
              "      <td>0.460480</td>\n",
              "    </tr>\n",
              "    <tr>\n",
              "      <th>3</th>\n",
              "      <td>6343427</td>\n",
              "      <td>0.527977</td>\n",
              "    </tr>\n",
              "    <tr>\n",
              "      <th>4</th>\n",
              "      <td>1355574</td>\n",
              "      <td>0.098012</td>\n",
              "    </tr>\n",
              "  </tbody>\n",
              "</table>\n",
              "</div>"
            ],
            "text/plain": [
              "   Input size      Time\n",
              "0     1954367  0.152648\n",
              "1     3734185  0.298548\n",
              "2     5839301  0.460480\n",
              "3     6343427  0.527977\n",
              "4     1355574  0.098012"
            ]
          },
          "metadata": {
            "tags": []
          },
          "execution_count": 2
        }
      ]
    },
    {
      "cell_type": "code",
      "metadata": {
        "id": "ZILIDzYOWAOc",
        "colab_type": "code",
        "outputId": "31877cc2-ed80-426c-e830-665597f6cd44",
        "colab": {
          "base_uri": "https://localhost:8080/",
          "height": 279
        }
      },
      "source": [
        "import matplotlib.pyplot as plt\n",
        "%matplotlib inline\n",
        "\n",
        "dataset.plot(kind = 'line', x = 'Input size', y = 'Time', style = 'o')\n",
        "plt.xlabel('Input size')\n",
        "plt.ylabel('Time')\n",
        "plt.show()"
      ],
      "execution_count": 3,
      "outputs": [
        {
          "output_type": "display_data",
          "data": {
            "image/png": "[encoded data removed]",
            "text/plain": [
              "<Figure size 432x288 with 1 Axes>"
            ]
          },
          "metadata": {
            "tags": [],
            "needs_background": "light"
          }
        }
      ]
    },
    {
      "cell_type": "markdown",
      "metadata": {
        "id": "KzaYRrSgxNHS",
        "colab_type": "text"
      },
      "source": [
        "Đưa dữ liệu về ma trận cột"
      ]
    },
    {
      "cell_type": "code",
      "metadata": {
        "id": "ih6PiVv-ZBSK",
        "colab_type": "code",
        "colab": {}
      },
      "source": [
        "X = dataset['Input size'].values.reshape(-1,1)\n",
        "Y = dataset['Time'].values.reshape(-1,1)"
      ],
      "execution_count": 0,
      "outputs": []
    },
    {
      "cell_type": "markdown",
      "metadata": {
        "id": "TX7tPgK6vVma",
        "colab_type": "text"
      },
      "source": [
        "Chọn model bằng cách import model từ thư viện sklearn\n",
        "Lấy 80% dữ liệu trong bộ dữ liệu để training data"
      ]
    },
    {
      "cell_type": "code",
      "metadata": {
        "id": "EgKlfJuHZq6_",
        "colab_type": "code",
        "colab": {}
      },
      "source": [
        "from sklearn.linear_model import LinearRegression\n",
        "from sklearn.model_selection import train_test_split\n",
        "model = LinearRegression(fit_intercept=True)\n",
        "X_train, X_test, y_train, y_test = train_test_split(X, Y, test_size = 0.2)"
      ],
      "execution_count": 0,
      "outputs": []
    },
    {
      "cell_type": "code",
      "metadata": {
        "id": "BhPCtpR3aSzw",
        "colab_type": "code",
        "outputId": "b4e7bf11-0b05-4325-958f-c6ccf99b0ebb",
        "colab": {
          "base_uri": "https://localhost:8080/",
          "height": 34
        }
      },
      "source": [
        "model.fit(X_train, y_train)"
      ],
      "execution_count": 13,
      "outputs": [
        {
          "output_type": "execute_result",
          "data": {
            "text/plain": [
              "LinearRegression(copy_X=True, fit_intercept=True, n_jobs=None, normalize=False)"
            ]
          },
          "metadata": {
            "tags": []
          },
          "execution_count": 13
        }
      ]
    },
    {
      "cell_type": "markdown",
      "metadata": {
        "id": "X3_vD8j9vnT0",
        "colab_type": "text"
      },
      "source": [
        "Sử dụng hàm predict để dự đoán cho X_train và X_test"
      ]
    },
    {
      "cell_type": "code",
      "metadata": {
        "id": "IHjZ3jvcaatC",
        "colab_type": "code",
        "colab": {}
      },
      "source": [
        "train_prediction = model.predict(X_train)\n",
        "test_prediction = model.predict(X_test)"
      ],
      "execution_count": 0,
      "outputs": []
    },
    {
      "cell_type": "markdown",
      "metadata": {
        "id": "yjqqR3AavuJ4",
        "colab_type": "text"
      },
      "source": [
        "Đưa ra kết quả so sánh giữa giá trị y cho trước và giá trị y dự đoán"
      ]
    },
    {
      "cell_type": "code",
      "metadata": {
        "id": "HR5kRzjGeuEe",
        "colab_type": "code",
        "outputId": "2fe4990b-c93d-4186-92b7-ab6507b15a46",
        "colab": {
          "base_uri": "https://localhost:8080/",
          "height": 419
        }
      },
      "source": [
        "df = pd.DataFrame({'Actual': y_test.flatten(), 'Predicted': test_prediction.flatten()})\n",
        "df"
      ],
      "execution_count": 15,
      "outputs": [
        {
          "output_type": "execute_result",
          "data": {
            "text/html": [
              "<div>\n",
              "<style scoped>\n",
              "    .dataframe tbody tr th:only-of-type {\n",
              "        vertical-align: middle;\n",
              "    }\n",
              "\n",
              "    .dataframe tbody tr th {\n",
              "        vertical-align: top;\n",
              "    }\n",
              "\n",
              "    .dataframe thead th {\n",
              "        text-align: right;\n",
              "    }\n",
              "</style>\n",
              "<table border=\"1\" class=\"dataframe\">\n",
              "  <thead>\n",
              "    <tr style=\"text-align: right;\">\n",
              "      <th></th>\n",
              "      <th>Actual</th>\n",
              "      <th>Predicted</th>\n",
              "    </tr>\n",
              "  </thead>\n",
              "  <tbody>\n",
              "    <tr>\n",
              "      <th>0</th>\n",
              "      <td>0.570774</td>\n",
              "      <td>0.597697</td>\n",
              "    </tr>\n",
              "    <tr>\n",
              "      <th>1</th>\n",
              "      <td>0.802524</td>\n",
              "      <td>0.785349</td>\n",
              "    </tr>\n",
              "    <tr>\n",
              "      <th>2</th>\n",
              "      <td>0.474871</td>\n",
              "      <td>0.473127</td>\n",
              "    </tr>\n",
              "    <tr>\n",
              "      <th>3</th>\n",
              "      <td>0.628161</td>\n",
              "      <td>0.644571</td>\n",
              "    </tr>\n",
              "    <tr>\n",
              "      <th>4</th>\n",
              "      <td>0.271944</td>\n",
              "      <td>0.276631</td>\n",
              "    </tr>\n",
              "    <tr>\n",
              "      <th>...</th>\n",
              "      <td>...</td>\n",
              "      <td>...</td>\n",
              "    </tr>\n",
              "    <tr>\n",
              "      <th>14218</th>\n",
              "      <td>0.224367</td>\n",
              "      <td>0.230885</td>\n",
              "    </tr>\n",
              "    <tr>\n",
              "      <th>14219</th>\n",
              "      <td>0.179694</td>\n",
              "      <td>0.186565</td>\n",
              "    </tr>\n",
              "    <tr>\n",
              "      <th>14220</th>\n",
              "      <td>0.201181</td>\n",
              "      <td>0.200866</td>\n",
              "    </tr>\n",
              "    <tr>\n",
              "      <th>14221</th>\n",
              "      <td>0.169127</td>\n",
              "      <td>0.175531</td>\n",
              "    </tr>\n",
              "    <tr>\n",
              "      <th>14222</th>\n",
              "      <td>0.576534</td>\n",
              "      <td>0.567863</td>\n",
              "    </tr>\n",
              "  </tbody>\n",
              "</table>\n",
              "<p>14223 rows × 2 columns</p>\n",
              "</div>"
            ],
            "text/plain": [
              "         Actual  Predicted\n",
              "0      0.570774   0.597697\n",
              "1      0.802524   0.785349\n",
              "2      0.474871   0.473127\n",
              "3      0.628161   0.644571\n",
              "4      0.271944   0.276631\n",
              "...         ...        ...\n",
              "14218  0.224367   0.230885\n",
              "14219  0.179694   0.186565\n",
              "14220  0.201181   0.200866\n",
              "14221  0.169127   0.175531\n",
              "14222  0.576534   0.567863\n",
              "\n",
              "[14223 rows x 2 columns]"
            ]
          },
          "metadata": {
            "tags": []
          },
          "execution_count": 15
        }
      ]
    },
    {
      "cell_type": "markdown",
      "metadata": {
        "id": "toDGvARswUJT",
        "colab_type": "text"
      },
      "source": [
        "Biểu đồ so sánh giá trị y cho trước và giá trị y dự đoán"
      ]
    },
    {
      "cell_type": "code",
      "metadata": {
        "id": "bkaGtdxYd4yo",
        "colab_type": "code",
        "outputId": "5b9d765d-dec5-466b-aebc-a78e4af2b158",
        "colab": {
          "base_uri": "https://localhost:8080/",
          "height": 594
        }
      },
      "source": [
        "df1 = df.head(25)\n",
        "df1.plot(kind='bar',figsize=(16,10))\n",
        "plt.grid(which='major', linestyle='-', linewidth='0.5', color='green')\n",
        "plt.grid(which='minor', linestyle=':', linewidth='0.5', color='black')\n",
        "plt.show()"
      ],
      "execution_count": 16,
      "outputs": [
        {
          "output_type": "display_data",
          "data": {
            "image/png": "[encoded data removed]",
            "text/plain": [
              "<Figure size 1152x720 with 1 Axes>"
            ]
          },
          "metadata": {
            "tags": [],
            "needs_background": "light"
          }
        }
      ]
    },
    {
      "cell_type": "markdown",
      "metadata": {
        "id": "PyCbaRlqv2x5",
        "colab_type": "text"
      },
      "source": [
        "Đưa ra độ chính xác của model\n",
        "Model dự đoán tốt vì giá trị Mean Squared Error xấp xỉ 0.00015"
      ]
    },
    {
      "cell_type": "code",
      "metadata": {
        "id": "wQB16lQ_fXUX",
        "colab_type": "code",
        "outputId": "d4423bc8-715b-4360-e7ba-1c54f5365188",
        "colab": {
          "base_uri": "https://localhost:8080/",
          "height": 68
        }
      },
      "source": [
        "import sklearn.metrics as metrics\n",
        "print('Mean Squared Error:', metrics.mean_squared_error(y_test, test_prediction))\n",
        "print('Train: ', metrics.r2_score(y_train, train_prediction))\n",
        "print('Test: ', metrics.r2_score(y_test, test_prediction))"
      ],
      "execution_count": 17,
      "outputs": [
        {
          "output_type": "stream",
          "text": [
            "Mean Squared Error: 0.0001450033216579514\n",
            "Train:  0.9975991787245336\n",
            "Test:  0.9975662914253263\n"
          ],
          "name": "stdout"
        }
      ]
    },
    {
      "cell_type": "markdown",
      "metadata": {
        "id": "U8sgSV4TwBfY",
        "colab_type": "text"
      },
      "source": [
        "In ra các giá trị w1 và w0 tương ứng"
      ]
    },
    {
      "cell_type": "code",
      "metadata": {
        "id": "9b9qRLyFifv6",
        "colab_type": "code",
        "outputId": "4157c95f-3b7b-4038-adf1-c926974c26cf",
        "colab": {
          "base_uri": "https://localhost:8080/",
          "height": 51
        }
      },
      "source": [
        "print(model.coef_)\n",
        "print(model.intercept_)"
      ],
      "execution_count": 18,
      "outputs": [
        {
          "output_type": "stream",
          "text": [
            "[[8.45574602e-08]]\n",
            "[-0.01587872]\n"
          ],
          "name": "stdout"
        }
      ]
    }
  ]
}